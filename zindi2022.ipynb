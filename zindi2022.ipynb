{
 "cells": [
  {
   "cell_type": "code",
   "execution_count": 1,
   "id": "7b19bc67-bebe-4e2d-969d-789690584d03",
   "metadata": {},
   "outputs": [],
   "source": [
    "import pandas as pd\n",
    "import numpy as np\n"
   ]
  },
  {
   "cell_type": "code",
   "execution_count": 2,
   "id": "23eb173d-bb12-4fc6-8362-582903ea088e",
   "metadata": {},
   "outputs": [],
   "source": [
    "df = pd.read_excel (\"C:\\\\Users\\\\Kofi\\\\Desktop\\\\Train.xlsx\")\n",
    "\n",
    "#\"C:\\Users\\Kofi\\Downloads\\Train.csv\"\n",
    "#C:\\Users\\Kofi\\Desktop\\Train.xlsx"
   ]
  },
  {
   "cell_type": "code",
   "execution_count": 4,
   "id": "a47612fa-be78-495d-8a5b-3832298047ec",
   "metadata": {},
   "outputs": [
    {
     "data": {
      "text/html": [
       "<div>\n",
       "<style scoped>\n",
       "    .dataframe tbody tr th:only-of-type {\n",
       "        vertical-align: middle;\n",
       "    }\n",
       "\n",
       "    .dataframe tbody tr th {\n",
       "        vertical-align: top;\n",
       "    }\n",
       "\n",
       "    .dataframe thead th {\n",
       "        text-align: right;\n",
       "    }\n",
       "</style>\n",
       "<table border=\"1\" class=\"dataframe\">\n",
       "  <thead>\n",
       "    <tr style=\"text-align: right;\">\n",
       "      <th></th>\n",
       "      <th>ID</th>\n",
       "      <th>country</th>\n",
       "      <th>age_group</th>\n",
       "      <th>travel_with</th>\n",
       "      <th>total_female</th>\n",
       "      <th>total_male</th>\n",
       "      <th>purpose</th>\n",
       "      <th>main_activity</th>\n",
       "      <th>info_source</th>\n",
       "      <th>tour_arrangement</th>\n",
       "      <th>...</th>\n",
       "      <th>package_transport_tz</th>\n",
       "      <th>package_sightseeing</th>\n",
       "      <th>package_guided_tour</th>\n",
       "      <th>package_insurance</th>\n",
       "      <th>night_mainland</th>\n",
       "      <th>night_zanzibar</th>\n",
       "      <th>payment_mode</th>\n",
       "      <th>first_trip_tz</th>\n",
       "      <th>most_impressing</th>\n",
       "      <th>total_cost</th>\n",
       "    </tr>\n",
       "  </thead>\n",
       "  <tbody>\n",
       "    <tr>\n",
       "      <th>0</th>\n",
       "      <td>tour_0</td>\n",
       "      <td>SWIZERLAND</td>\n",
       "      <td>45-64</td>\n",
       "      <td>Friends/Relatives</td>\n",
       "      <td>1.0</td>\n",
       "      <td>1.0</td>\n",
       "      <td>Leisure and Holidays</td>\n",
       "      <td>Wildlife tourism</td>\n",
       "      <td>Friends, relatives</td>\n",
       "      <td>Independent</td>\n",
       "      <td>...</td>\n",
       "      <td>No</td>\n",
       "      <td>No</td>\n",
       "      <td>No</td>\n",
       "      <td>No</td>\n",
       "      <td>13</td>\n",
       "      <td>0</td>\n",
       "      <td>Cash</td>\n",
       "      <td>No</td>\n",
       "      <td>Friendly People</td>\n",
       "      <td>674602.5</td>\n",
       "    </tr>\n",
       "    <tr>\n",
       "      <th>1</th>\n",
       "      <td>tour_10</td>\n",
       "      <td>UNITED KINGDOM</td>\n",
       "      <td>25-44</td>\n",
       "      <td>NaN</td>\n",
       "      <td>1.0</td>\n",
       "      <td>0.0</td>\n",
       "      <td>Leisure and Holidays</td>\n",
       "      <td>Cultural tourism</td>\n",
       "      <td>others</td>\n",
       "      <td>Independent</td>\n",
       "      <td>...</td>\n",
       "      <td>No</td>\n",
       "      <td>No</td>\n",
       "      <td>No</td>\n",
       "      <td>No</td>\n",
       "      <td>14</td>\n",
       "      <td>7</td>\n",
       "      <td>Cash</td>\n",
       "      <td>Yes</td>\n",
       "      <td>Wonderful Country, Landscape, Nature</td>\n",
       "      <td>3214906.5</td>\n",
       "    </tr>\n",
       "    <tr>\n",
       "      <th>2</th>\n",
       "      <td>tour_1000</td>\n",
       "      <td>UNITED KINGDOM</td>\n",
       "      <td>25-44</td>\n",
       "      <td>Alone</td>\n",
       "      <td>0.0</td>\n",
       "      <td>1.0</td>\n",
       "      <td>Visiting Friends and Relatives</td>\n",
       "      <td>Cultural tourism</td>\n",
       "      <td>Friends, relatives</td>\n",
       "      <td>Independent</td>\n",
       "      <td>...</td>\n",
       "      <td>No</td>\n",
       "      <td>No</td>\n",
       "      <td>No</td>\n",
       "      <td>No</td>\n",
       "      <td>1</td>\n",
       "      <td>31</td>\n",
       "      <td>Cash</td>\n",
       "      <td>No</td>\n",
       "      <td>Excellent Experience</td>\n",
       "      <td>3315000.0</td>\n",
       "    </tr>\n",
       "    <tr>\n",
       "      <th>3</th>\n",
       "      <td>tour_1002</td>\n",
       "      <td>UNITED KINGDOM</td>\n",
       "      <td>25-44</td>\n",
       "      <td>Spouse</td>\n",
       "      <td>1.0</td>\n",
       "      <td>1.0</td>\n",
       "      <td>Leisure and Holidays</td>\n",
       "      <td>Wildlife tourism</td>\n",
       "      <td>Travel, agent, tour operator</td>\n",
       "      <td>Package Tour</td>\n",
       "      <td>...</td>\n",
       "      <td>Yes</td>\n",
       "      <td>Yes</td>\n",
       "      <td>Yes</td>\n",
       "      <td>No</td>\n",
       "      <td>11</td>\n",
       "      <td>0</td>\n",
       "      <td>Cash</td>\n",
       "      <td>Yes</td>\n",
       "      <td>Friendly People</td>\n",
       "      <td>7790250.0</td>\n",
       "    </tr>\n",
       "    <tr>\n",
       "      <th>4</th>\n",
       "      <td>tour_1004</td>\n",
       "      <td>CHINA</td>\n",
       "      <td>2022-01-24 00:00:00</td>\n",
       "      <td>NaN</td>\n",
       "      <td>1.0</td>\n",
       "      <td>0.0</td>\n",
       "      <td>Leisure and Holidays</td>\n",
       "      <td>Wildlife tourism</td>\n",
       "      <td>Travel, agent, tour operator</td>\n",
       "      <td>Independent</td>\n",
       "      <td>...</td>\n",
       "      <td>No</td>\n",
       "      <td>No</td>\n",
       "      <td>No</td>\n",
       "      <td>No</td>\n",
       "      <td>7</td>\n",
       "      <td>4</td>\n",
       "      <td>Cash</td>\n",
       "      <td>Yes</td>\n",
       "      <td>No comments</td>\n",
       "      <td>1657500.0</td>\n",
       "    </tr>\n",
       "  </tbody>\n",
       "</table>\n",
       "<p>5 rows × 23 columns</p>\n",
       "</div>"
      ],
      "text/plain": [
       "          ID         country            age_group        travel_with  \\\n",
       "0     tour_0      SWIZERLAND                45-64  Friends/Relatives   \n",
       "1    tour_10  UNITED KINGDOM                25-44                NaN   \n",
       "2  tour_1000  UNITED KINGDOM                25-44              Alone   \n",
       "3  tour_1002  UNITED KINGDOM                25-44             Spouse   \n",
       "4  tour_1004           CHINA  2022-01-24 00:00:00                NaN   \n",
       "\n",
       "   total_female  total_male                         purpose     main_activity  \\\n",
       "0           1.0         1.0            Leisure and Holidays  Wildlife tourism   \n",
       "1           1.0         0.0            Leisure and Holidays  Cultural tourism   \n",
       "2           0.0         1.0  Visiting Friends and Relatives  Cultural tourism   \n",
       "3           1.0         1.0            Leisure and Holidays  Wildlife tourism   \n",
       "4           1.0         0.0            Leisure and Holidays  Wildlife tourism   \n",
       "\n",
       "                    info_source tour_arrangement  ... package_transport_tz  \\\n",
       "0            Friends, relatives      Independent  ...                   No   \n",
       "1                        others      Independent  ...                   No   \n",
       "2            Friends, relatives      Independent  ...                   No   \n",
       "3  Travel, agent, tour operator     Package Tour  ...                  Yes   \n",
       "4  Travel, agent, tour operator      Independent  ...                   No   \n",
       "\n",
       "  package_sightseeing package_guided_tour package_insurance night_mainland  \\\n",
       "0                  No                  No                No             13   \n",
       "1                  No                  No                No             14   \n",
       "2                  No                  No                No              1   \n",
       "3                 Yes                 Yes                No             11   \n",
       "4                  No                  No                No              7   \n",
       "\n",
       "  night_zanzibar payment_mode  first_trip_tz  \\\n",
       "0              0         Cash             No   \n",
       "1              7         Cash            Yes   \n",
       "2             31         Cash             No   \n",
       "3              0         Cash            Yes   \n",
       "4              4         Cash            Yes   \n",
       "\n",
       "                        most_impressing total_cost  \n",
       "0                       Friendly People   674602.5  \n",
       "1  Wonderful Country, Landscape, Nature  3214906.5  \n",
       "2                  Excellent Experience  3315000.0  \n",
       "3                       Friendly People  7790250.0  \n",
       "4                           No comments  1657500.0  \n",
       "\n",
       "[5 rows x 23 columns]"
      ]
     },
     "execution_count": 4,
     "metadata": {},
     "output_type": "execute_result"
    }
   ],
   "source": [
    "df.head()"
   ]
  },
  {
   "cell_type": "code",
   "execution_count": 5,
   "id": "dd54bde4-8ac5-44be-bc4c-069041e37ad1",
   "metadata": {},
   "outputs": [],
   "source": [
    "ctry = df['country']"
   ]
  },
  {
   "cell_type": "code",
   "execution_count": 6,
   "id": "a3bffedf-02b5-4658-b2e6-5a0afccd5dfa",
   "metadata": {},
   "outputs": [
    {
     "data": {
      "text/plain": [
       "pandas.core.series.Series"
      ]
     },
     "execution_count": 6,
     "metadata": {},
     "output_type": "execute_result"
    }
   ],
   "source": [
    "type(ctry)"
   ]
  },
  {
   "cell_type": "code",
   "execution_count": 7,
   "id": "7b61d982-a39d-46a4-88ba-af32fa4911c2",
   "metadata": {},
   "outputs": [
    {
     "data": {
      "text/plain": [
       "count                         4809\n",
       "unique                         105\n",
       "top       UNITED STATES OF AMERICA\n",
       "freq                           695\n",
       "Name: country, dtype: object"
      ]
     },
     "execution_count": 7,
     "metadata": {},
     "output_type": "execute_result"
    }
   ],
   "source": [
    "ctry.describe()"
   ]
  },
  {
   "cell_type": "code",
   "execution_count": 8,
   "id": "4e2002be-4d85-493d-9194-f9c50b1aa956",
   "metadata": {},
   "outputs": [],
   "source": [
    "unique, counts = np.unique(ctry, return_counts=True)"
   ]
  },
  {
   "cell_type": "code",
   "execution_count": 9,
   "id": "0182dc86-0784-4d47-b658-2ffd23914cf4",
   "metadata": {},
   "outputs": [],
   "source": [
    "ctrys = np.asarray((unique, counts)).T"
   ]
  },
  {
   "cell_type": "code",
   "execution_count": 10,
   "id": "9185f928-1626-4feb-8dd6-c5cda26dbe1d",
   "metadata": {},
   "outputs": [
    {
     "name": "stderr",
     "output_type": "stream",
     "text": [
      "\n",
      "\n",
      "====== WebDriver manager ======\n",
      "Current google-chrome version is 101.0.4951\n",
      "Get LATEST chromedriver version for 101.0.4951 google-chrome\n",
      "Driver [C:\\Users\\Kofi\\.wdm\\drivers\\chromedriver\\win32\\101.0.4951.41\\chromedriver.exe] found in cache\n",
      "C:\\Users\\Kofi\\AppData\\Local\\Temp/ipykernel_8112/2674708284.py:6: DeprecationWarning: executable_path has been deprecated, please pass in a Service object\n",
      "  driver = webdriver.Chrome(ChromeDriverManager().install())\n"
     ]
    }
   ],
   "source": [
    "import time\n",
    "from time import sleep\n",
    "from selenium import webdriver\n",
    "from selenium.webdriver.common.keys import Keys\n",
    "from webdriver_manager.chrome import ChromeDriverManager\n",
    "driver = webdriver.Chrome(ChromeDriverManager().install())"
   ]
  },
  {
   "cell_type": "code",
   "execution_count": 11,
   "id": "faa9f2e0-f116-43c2-a6b2-a630c00bd88d",
   "metadata": {},
   "outputs": [],
   "source": [
    "driver.get(\"https://au.int/en/member_states/countryprofiles2\")   "
   ]
  },
  {
   "cell_type": "code",
   "execution_count": 12,
   "id": "989464f5-5e0c-49ca-bae8-62ce9b6c191c",
   "metadata": {},
   "outputs": [],
   "source": [
    "driver.maximize_window()"
   ]
  },
  {
   "cell_type": "code",
   "execution_count": 13,
   "id": "f202b9b6-06f6-4aba-8b61-ac407f961591",
   "metadata": {},
   "outputs": [
    {
     "name": "stderr",
     "output_type": "stream",
     "text": [
      "C:\\Users\\Kofi\\AppData\\Local\\Temp/ipykernel_8112/1135680224.py:1: DeprecationWarning: find_element_by_xpath is deprecated. Please use find_element(by=By.XPATH, value=xpath) instead\n",
      "  i = driver.find_element_by_xpath(\"(//tbody)[1]\")\n"
     ]
    }
   ],
   "source": [
    "i = driver.find_element_by_xpath(\"(//tbody)[1]\")"
   ]
  },
  {
   "cell_type": "code",
   "execution_count": 14,
   "id": "ef801939-6e17-4b52-903e-5b81dc4e547a",
   "metadata": {},
   "outputs": [],
   "source": [
    "text = i.text\n",
    "#(//tbody)[1]"
   ]
  },
  {
   "cell_type": "code",
   "execution_count": 15,
   "id": "7c6ec7c6-85f7-4af8-be78-3286be5a9edf",
   "metadata": {},
   "outputs": [
    {
     "data": {
      "text/plain": [
       "str"
      ]
     },
     "execution_count": 15,
     "metadata": {},
     "output_type": "execute_result"
    }
   ],
   "source": [
    "type(text)"
   ]
  },
  {
   "cell_type": "code",
   "execution_count": 16,
   "id": "a4a61e2b-b9ce-4be4-8178-8c607037fb05",
   "metadata": {},
   "outputs": [],
   "source": [
    "rep = text.replace(\"\\n\", \". \")"
   ]
  },
  {
   "cell_type": "code",
   "execution_count": 21,
   "id": "d8a5a1a2-9592-46a9-a6f2-ea74f431042e",
   "metadata": {},
   "outputs": [],
   "source": [
    "import re\n",
    "expression = re.compile(r'([A-Z][^\\.!?]*[\\.!?])')\n",
    "new_list = re.findall(expression, rep)"
   ]
  },
  {
   "cell_type": "code",
   "execution_count": 22,
   "id": "95fbca36-1971-4ffe-a2e3-6f9a4a4de8a9",
   "metadata": {},
   "outputs": [
    {
     "data": {
      "text/plain": [
       "['Member State  Abbreviation Date of joining.',\n",
       " 'OAU or AU.',\n",
       " 'Republic of Burundi  Burundi 25 May 1963.',\n",
       " 'Republic of Cameroon  Cameroon 25 May 1963.',\n",
       " 'Central African Republic  Central African Republic 25 May 1963 .',\n",
       " 'Republic of Chad  Chad 25 May 1963.',\n",
       " 'Republic of the Congo  Congo Republic 25 May 1963.',\n",
       " 'Democratic Republic of Congo  DR Congo 25 May 1963.',\n",
       " 'Republic of Equatorial Guinea  Equatorial Guinea 12 October 1968.',\n",
       " 'Gabonese Republic  Gabon 25 May 1963.']"
      ]
     },
     "execution_count": 22,
     "metadata": {},
     "output_type": "execute_result"
    }
   ],
   "source": [
    "new_list"
   ]
  },
  {
   "cell_type": "code",
   "execution_count": 23,
   "id": "3108eb7e-52de-467a-8d76-ca6ee228dd01",
   "metadata": {},
   "outputs": [],
   "source": [
    "converted_list = [x.upper() for x in new_list]"
   ]
  },
  {
   "cell_type": "code",
   "execution_count": 24,
   "id": "8c6efc02-5637-48ad-b1dc-4d658b1748ed",
   "metadata": {},
   "outputs": [
    {
     "data": {
      "text/plain": [
       "['MEMBER STATE  ABBREVIATION DATE OF JOINING.',\n",
       " 'OAU OR AU.',\n",
       " 'REPUBLIC OF BURUNDI  BURUNDI 25 MAY 1963.',\n",
       " 'REPUBLIC OF CAMEROON  CAMEROON 25 MAY 1963.',\n",
       " 'CENTRAL AFRICAN REPUBLIC  CENTRAL AFRICAN REPUBLIC 25 MAY 1963 .',\n",
       " 'REPUBLIC OF CHAD  CHAD 25 MAY 1963.',\n",
       " 'REPUBLIC OF THE CONGO  CONGO REPUBLIC 25 MAY 1963.',\n",
       " 'DEMOCRATIC REPUBLIC OF CONGO  DR CONGO 25 MAY 1963.',\n",
       " 'REPUBLIC OF EQUATORIAL GUINEA  EQUATORIAL GUINEA 12 OCTOBER 1968.',\n",
       " 'GABONESE REPUBLIC  GABON 25 MAY 1963.']"
      ]
     },
     "execution_count": 24,
     "metadata": {},
     "output_type": "execute_result"
    }
   ],
   "source": [
    "converted_list"
   ]
  },
  {
   "cell_type": "code",
   "execution_count": 25,
   "id": "092b6fcb-51a0-40b8-9e0e-1250941eca72",
   "metadata": {},
   "outputs": [],
   "source": [
    "list1 = ctrys.tolist()"
   ]
  },
  {
   "cell_type": "code",
   "execution_count": 26,
   "id": "54f09f0d-eb4a-496e-bdaf-212affd744dc",
   "metadata": {},
   "outputs": [
    {
     "data": {
      "text/plain": [
       "[['ALGERIA', 2],\n",
       " ['ANGOLA', 1],\n",
       " ['ARGENTINA', 1],\n",
       " ['AUSTRALIA', 186],\n",
       " ['AUSTRIA', 18],\n",
       " ['BELGIUM', 49],\n",
       " ['BERMUDA', 1],\n",
       " ['BRAZIL', 10],\n",
       " ['BURGARIA', 2],\n",
       " ['BURUNDI', 64],\n",
       " ['CANADA', 114],\n",
       " ['CAPE VERDE', 1],\n",
       " ['CHILE', 2],\n",
       " ['CHINA', 65],\n",
       " ['COLOMBIA', 3],\n",
       " ['COMORO', 1],\n",
       " ['CONGO', 11],\n",
       " ['COSTARICA', 1],\n",
       " ['CROATIA', 2],\n",
       " ['CYPRUS', 1],\n",
       " ['CZECH REPUBLIC', 11],\n",
       " ['DENMARK', 41],\n",
       " ['DJIBOUT', 3],\n",
       " ['DOMINICA', 1],\n",
       " ['DRC', 30],\n",
       " ['EGYPT', 10],\n",
       " ['ESTONIA', 1],\n",
       " ['ETHIOPIA', 6],\n",
       " ['FINLAND', 8],\n",
       " ['FRANCE', 280],\n",
       " ['GEORGIA', 1],\n",
       " ['GERMANY', 223],\n",
       " ['GHANA', 2],\n",
       " ['GREECE', 7],\n",
       " ['HUNGARY', 2],\n",
       " ['INDIA', 87],\n",
       " ['INDONESIA', 3],\n",
       " ['IRAN', 2],\n",
       " ['IRAQ', 1],\n",
       " ['IRELAND', 29],\n",
       " ['ISRAEL', 16],\n",
       " ['ITALY', 393],\n",
       " ['IVORY COAST', 1],\n",
       " ['JAPAN', 53],\n",
       " ['KENYA', 235],\n",
       " ['KOREA', 12],\n",
       " ['KUWAIT', 2],\n",
       " ['LATVIA', 2],\n",
       " ['LEBANON', 3],\n",
       " ['LESOTHO', 1],\n",
       " ['LITHUANIA', 4],\n",
       " ['LUXEMBOURG', 2],\n",
       " ['MADAGASCAR', 1],\n",
       " ['MALAWI', 20],\n",
       " ['MALAYSIA', 23],\n",
       " ['MALT', 3],\n",
       " ['MAURITIUS', 2],\n",
       " ['MEXICO', 2],\n",
       " ['MONTENEGRO', 1],\n",
       " ['MORROCO', 1],\n",
       " ['MOZAMBIQUE', 8],\n",
       " ['MYANMAR', 1],\n",
       " ['NAMIBIA', 2],\n",
       " ['NEPAL', 2],\n",
       " ['NETHERLANDS', 112],\n",
       " ['NEW ZEALAND', 18],\n",
       " ['NIGER', 1],\n",
       " ['NIGERIA', 4],\n",
       " ['NORWAY', 21],\n",
       " ['OMAN', 35],\n",
       " ['PAKISTAN', 6],\n",
       " ['PHILIPINES', 2],\n",
       " ['POLAND', 16],\n",
       " ['PORTUGAL', 10],\n",
       " ['QATAR', 8],\n",
       " ['ROMANIA', 2],\n",
       " ['RUSSIA', 8],\n",
       " ['RWANDA', 40],\n",
       " ['SCOTLAND', 4],\n",
       " ['SERBIA', 6],\n",
       " ['SINGAPORE', 7],\n",
       " ['SLOVAKIA', 2],\n",
       " ['SLOVENIA', 1],\n",
       " ['SOUTH AFRICA', 235],\n",
       " ['SPAIN', 165],\n",
       " ['SRI LANKA', 3],\n",
       " ['SUDAN', 4],\n",
       " ['SWAZILAND', 4],\n",
       " ['SWEDEN', 37],\n",
       " ['SWIZERLAND', 64],\n",
       " ['TAIWAN', 9],\n",
       " ['THAILAND', 2],\n",
       " ['TRINIDAD TOBACCO', 1],\n",
       " ['TUNISIA', 1],\n",
       " ['TURKEY', 5],\n",
       " ['UAE', 33],\n",
       " ['UGANDA', 159],\n",
       " ['UKRAIN', 2],\n",
       " ['UNITED ARAB EMIRATES', 13],\n",
       " ['UNITED KINGDOM', 533],\n",
       " ['UNITED STATES OF AMERICA', 695],\n",
       " ['URUGUAY', 1],\n",
       " ['YEMEN', 2],\n",
       " ['ZAMBIA', 191],\n",
       " ['ZIMBABWE', 274]]"
      ]
     },
     "execution_count": 26,
     "metadata": {},
     "output_type": "execute_result"
    }
   ],
   "source": [
    "list1"
   ]
  },
  {
   "cell_type": "code",
   "execution_count": 27,
   "id": "4640b22e-5b77-4bc9-82a5-6294d2ab4f58",
   "metadata": {},
   "outputs": [
    {
     "data": {
      "text/plain": [
       "list"
      ]
     },
     "execution_count": 27,
     "metadata": {},
     "output_type": "execute_result"
    }
   ],
   "source": [
    "type(list1)"
   ]
  },
  {
   "cell_type": "code",
   "execution_count": 28,
   "id": "1d74a640-e758-4cd2-a1b6-fb55ac3b1c92",
   "metadata": {},
   "outputs": [],
   "source": [
    "li = str(list1)"
   ]
  },
  {
   "cell_type": "code",
   "execution_count": 29,
   "id": "1bc56a36-7e38-4c1c-b5ea-0732c94f26fd",
   "metadata": {},
   "outputs": [],
   "source": [
    "co = str(converted_list)"
   ]
  },
  {
   "cell_type": "code",
   "execution_count": 30,
   "id": "bfe2bca0-020d-4bd5-9222-c3e273be68aa",
   "metadata": {},
   "outputs": [],
   "source": [
    "from itertools import chain"
   ]
  },
  {
   "cell_type": "code",
   "execution_count": 31,
   "id": "3227c467-2f80-4064-b6a0-4d8814840808",
   "metadata": {},
   "outputs": [],
   "source": [
    "check = ' '.join(str(v) for v in list1)"
   ]
  },
  {
   "cell_type": "code",
   "execution_count": 32,
   "id": "d3c06214-60b6-4ba9-9b14-01444ce806cb",
   "metadata": {},
   "outputs": [],
   "source": [
    "m = check.replace(\"[\", \"\")\n",
    "mo = m.replace(\"]\", \"\")\n",
    "mov = mo.replace(\"'\", \"\")\n",
    "move = mov.replace(\".\", \"\")\n",
    "movi = move.replace(\",\", \"\")"
   ]
  },
  {
   "cell_type": "code",
   "execution_count": 33,
   "id": "11f8f5f9-e32f-4657-8cc9-dedfe037d967",
   "metadata": {},
   "outputs": [
    {
     "data": {
      "text/plain": [
       "str"
      ]
     },
     "execution_count": 33,
     "metadata": {},
     "output_type": "execute_result"
    }
   ],
   "source": [
    "type(movi)"
   ]
  },
  {
   "cell_type": "code",
   "execution_count": 34,
   "id": "acfedd22-926d-4ee0-81c2-e4c6587b89c4",
   "metadata": {},
   "outputs": [
    {
     "data": {
      "text/plain": [
       "'ALGERIA 2 ANGOLA 1 ARGENTINA 1 AUSTRALIA 186 AUSTRIA 18 BELGIUM 49 BERMUDA 1 BRAZIL 10 BURGARIA 2 BURUNDI 64 CANADA 114 CAPE VERDE 1 CHILE 2 CHINA 65 COLOMBIA 3 COMORO 1 CONGO 11 COSTARICA 1 CROATIA 2 CYPRUS 1 CZECH REPUBLIC 11 DENMARK 41 DJIBOUT 3 DOMINICA 1 DRC 30 EGYPT 10 ESTONIA 1 ETHIOPIA 6 FINLAND 8 FRANCE 280 GEORGIA 1 GERMANY 223 GHANA 2 GREECE 7 HUNGARY 2 INDIA 87 INDONESIA 3 IRAN 2 IRAQ 1 IRELAND 29 ISRAEL 16 ITALY 393 IVORY COAST 1 JAPAN 53 KENYA 235 KOREA 12 KUWAIT 2 LATVIA 2 LEBANON 3 LESOTHO 1 LITHUANIA 4 LUXEMBOURG 2 MADAGASCAR 1 MALAWI 20 MALAYSIA 23 MALT 3 MAURITIUS 2 MEXICO 2 MONTENEGRO 1 MORROCO 1 MOZAMBIQUE 8 MYANMAR 1 NAMIBIA 2 NEPAL 2 NETHERLANDS 112 NEW ZEALAND 18 NIGER 1 NIGERIA 4 NORWAY 21 OMAN 35 PAKISTAN 6 PHILIPINES 2 POLAND 16 PORTUGAL 10 QATAR 8 ROMANIA 2 RUSSIA 8 RWANDA 40 SCOTLAND 4 SERBIA 6 SINGAPORE 7 SLOVAKIA 2 SLOVENIA 1 SOUTH AFRICA 235 SPAIN 165 SRI LANKA 3 SUDAN 4 SWAZILAND 4 SWEDEN 37 SWIZERLAND 64 TAIWAN 9 THAILAND 2 TRINIDAD TOBACCO 1 TUNISIA 1 TURKEY 5 UAE 33 UGANDA 159 UKRAIN 2 UNITED ARAB EMIRATES 13 UNITED KINGDOM 533 UNITED STATES OF AMERICA 695 URUGUAY 1 YEMEN 2 ZAMBIA 191 ZIMBABWE 274'"
      ]
     },
     "execution_count": 34,
     "metadata": {},
     "output_type": "execute_result"
    }
   ],
   "source": [
    "movi"
   ]
  },
  {
   "cell_type": "code",
   "execution_count": 35,
   "id": "598c7ca4-ae99-4452-a7aa-200623cf2b28",
   "metadata": {},
   "outputs": [
    {
     "data": {
      "text/plain": [
       "'ALGERIA  ANGOLA  ARGENTINA  AUSTRALIA  AUSTRIA  BELGIUM  BERMUDA  BRAZIL  BURGARIA  BURUNDI  CANADA  CAPE VERDE  CHILE  CHINA  COLOMBIA  COMORO  CONGO  COSTARICA  CROATIA  CYPRUS  CZECH REPUBLIC  DENMARK  DJIBOUT  DOMINICA  DRC  EGYPT  ESTONIA  ETHIOPIA  FINLAND  FRANCE  GEORGIA  GERMANY  GHANA  GREECE  HUNGARY  INDIA  INDONESIA  IRAN  IRAQ  IRELAND  ISRAEL  ITALY  IVORY COAST  JAPAN  KENYA  KOREA  KUWAIT  LATVIA  LEBANON  LESOTHO  LITHUANIA  LUXEMBOURG  MADAGASCAR  MALAWI  MALAYSIA  MALT  MAURITIUS  MEXICO  MONTENEGRO  MORROCO  MOZAMBIQUE  MYANMAR  NAMIBIA  NEPAL  NETHERLANDS  NEW ZEALAND  NIGER  NIGERIA  NORWAY  OMAN  PAKISTAN  PHILIPINES  POLAND  PORTUGAL  QATAR  ROMANIA  RUSSIA  RWANDA  SCOTLAND  SERBIA  SINGAPORE  SLOVAKIA  SLOVENIA  SOUTH AFRICA  SPAIN  SRI LANKA  SUDAN  SWAZILAND  SWEDEN  SWIZERLAND  TAIWAN  THAILAND  TRINIDAD TOBACCO  TUNISIA  TURKEY  UAE  UGANDA  UKRAIN  UNITED ARAB EMIRATES  UNITED KINGDOM  UNITED STATES OF AMERICA  URUGUAY  YEMEN  ZAMBIA  ZIMBABWE '"
      ]
     },
     "execution_count": 35,
     "metadata": {},
     "output_type": "execute_result"
    }
   ],
   "source": [
    "\n",
    "result = ''.join([i for i in movi if not i.isdigit()])\n",
    "result"
   ]
  },
  {
   "cell_type": "code",
   "execution_count": 36,
   "id": "8ea5eb75-c10e-4941-9b20-318ddde57ec2",
   "metadata": {},
   "outputs": [
    {
     "data": {
      "text/plain": [
       "['MEMBER STATE  ABBREVIATION DATE OF JOINING.',\n",
       " 'OAU OR AU.',\n",
       " 'REPUBLIC OF BURUNDI  BURUNDI 25 MAY 1963.',\n",
       " 'REPUBLIC OF CAMEROON  CAMEROON 25 MAY 1963.',\n",
       " 'CENTRAL AFRICAN REPUBLIC  CENTRAL AFRICAN REPUBLIC 25 MAY 1963 .',\n",
       " 'REPUBLIC OF CHAD  CHAD 25 MAY 1963.',\n",
       " 'REPUBLIC OF THE CONGO  CONGO REPUBLIC 25 MAY 1963.',\n",
       " 'DEMOCRATIC REPUBLIC OF CONGO  DR CONGO 25 MAY 1963.',\n",
       " 'REPUBLIC OF EQUATORIAL GUINEA  EQUATORIAL GUINEA 12 OCTOBER 1968.',\n",
       " 'GABONESE REPUBLIC  GABON 25 MAY 1963.']"
      ]
     },
     "execution_count": 36,
     "metadata": {},
     "output_type": "execute_result"
    }
   ],
   "source": [
    "converted_list"
   ]
  },
  {
   "cell_type": "code",
   "execution_count": 37,
   "id": "820fa560-6b69-4b05-aa39-ad5ea22250fe",
   "metadata": {},
   "outputs": [],
   "source": [
    "coming = ' '.join(str(v) for v in converted_list)"
   ]
  },
  {
   "cell_type": "code",
   "execution_count": 38,
   "id": "c9f73eef-c34d-448c-90ee-413f421686fb",
   "metadata": {},
   "outputs": [
    {
     "data": {
      "text/plain": [
       "'MEMBER STATE  ABBREVIATION DATE OF JOINING. OAU OR AU. REPUBLIC OF BURUNDI  BURUNDI 25 MAY 1963. REPUBLIC OF CAMEROON  CAMEROON 25 MAY 1963. CENTRAL AFRICAN REPUBLIC  CENTRAL AFRICAN REPUBLIC 25 MAY 1963 . REPUBLIC OF CHAD  CHAD 25 MAY 1963. REPUBLIC OF THE CONGO  CONGO REPUBLIC 25 MAY 1963. DEMOCRATIC REPUBLIC OF CONGO  DR CONGO 25 MAY 1963. REPUBLIC OF EQUATORIAL GUINEA  EQUATORIAL GUINEA 12 OCTOBER 1968. GABONESE REPUBLIC  GABON 25 MAY 1963.'"
      ]
     },
     "execution_count": 38,
     "metadata": {},
     "output_type": "execute_result"
    }
   ],
   "source": [
    "coming"
   ]
  },
  {
   "cell_type": "code",
   "execution_count": 39,
   "id": "fdb31ae6-d44f-43fc-b725-6989aa7d5a73",
   "metadata": {},
   "outputs": [],
   "source": [
    "come = coming.replace(\".\", \"\")\n",
    "com = come.replace(\"REPUBLIC\", \"\")\n",
    "come= com.replace(\"OF\", \"\")\n"
   ]
  },
  {
   "cell_type": "code",
   "execution_count": 40,
   "id": "e999cebb-a889-42fe-8085-eaa5504de3a9",
   "metadata": {},
   "outputs": [
    {
     "data": {
      "text/plain": [
       "'MEMBER STATE  ABBREVIATION DATE  JOINING OAU OR AU   BURUNDI  BURUNDI 25 MAY 1963   CAMEROON  CAMEROON 25 MAY 1963 CENTRAL AFRICAN   CENTRAL AFRICAN  25 MAY 1963    CHAD  CHAD 25 MAY 1963   THE CONGO  CONGO  25 MAY 1963 DEMOCRATIC   CONGO  DR CONGO 25 MAY 1963   EQUATORIAL GUINEA  EQUATORIAL GUINEA 12 OCTOBER 1968 GABONESE   GABON 25 MAY 1963'"
      ]
     },
     "execution_count": 40,
     "metadata": {},
     "output_type": "execute_result"
    }
   ],
   "source": [
    "come"
   ]
  },
  {
   "cell_type": "code",
   "execution_count": 41,
   "id": "f1053dfa-2274-4301-99a5-55d93063bd38",
   "metadata": {},
   "outputs": [],
   "source": [
    "# i need to get the intersection of countries"
   ]
  },
  {
   "cell_type": "code",
   "execution_count": null,
   "id": "029d2e94-69cf-4f65-a295-5d8dff7d11b1",
   "metadata": {},
   "outputs": [],
   "source": []
  },
  {
   "cell_type": "code",
   "execution_count": 42,
   "id": "f94e570f-2e6e-4356-981d-42bfc40d07bf",
   "metadata": {},
   "outputs": [],
   "source": [
    "#movi\n",
    "#come\n",
    "\n",
    "read = set(result.split()) & set(come.split())"
   ]
  },
  {
   "cell_type": "code",
   "execution_count": 43,
   "id": "c93e28c4-0142-4c76-b5c7-6c427c39e2fe",
   "metadata": {},
   "outputs": [],
   "source": [
    "readd = list(read)"
   ]
  },
  {
   "cell_type": "code",
   "execution_count": 44,
   "id": "e7cf70b0-37d5-4d8e-a29c-ff522b8d154c",
   "metadata": {},
   "outputs": [
    {
     "data": {
      "text/plain": [
       "['CONGO', 'BURUNDI']"
      ]
     },
     "execution_count": 44,
     "metadata": {},
     "output_type": "execute_result"
    }
   ],
   "source": [
    "readd"
   ]
  },
  {
   "cell_type": "code",
   "execution_count": 45,
   "id": "30ca188a-1248-4ab6-81cb-2853ec5b59e3",
   "metadata": {},
   "outputs": [],
   "source": [
    "matches = []\n",
    "i = len(read)\n",
    "for match in list1:\n",
    "    if readd[i-2] in match:\n",
    "        matches.append(match)\n",
    "        i-=1"
   ]
  },
  {
   "cell_type": "code",
   "execution_count": 46,
   "id": "2763be03-4ca2-4f4d-a24a-6e2f936e027e",
   "metadata": {},
   "outputs": [
    {
     "data": {
      "text/plain": [
       "[['CONGO', 11]]"
      ]
     },
     "execution_count": 46,
     "metadata": {},
     "output_type": "execute_result"
    }
   ],
   "source": [
    "matches"
   ]
  },
  {
   "cell_type": "code",
   "execution_count": 47,
   "id": "b80c864b-6de1-4164-ac37-42a93fb47f75",
   "metadata": {},
   "outputs": [
    {
     "data": {
      "text/plain": [
       "list"
      ]
     },
     "execution_count": 47,
     "metadata": {},
     "output_type": "execute_result"
    }
   ],
   "source": [
    "type(matches)"
   ]
  },
  {
   "cell_type": "code",
   "execution_count": 48,
   "id": "547a7b09-ae88-47da-ab3f-b43706e14080",
   "metadata": {},
   "outputs": [
    {
     "data": {
      "text/plain": [
       "'BURUNDI'"
      ]
     },
     "execution_count": 48,
     "metadata": {},
     "output_type": "execute_result"
    }
   ],
   "source": [
    "readd[i-2]"
   ]
  },
  {
   "cell_type": "code",
   "execution_count": 49,
   "id": "562f78bd-057b-4e41-bcf9-3023e7b58799",
   "metadata": {},
   "outputs": [
    {
     "data": {
      "text/plain": [
       "pandas.core.frame.DataFrame"
      ]
     },
     "execution_count": 49,
     "metadata": {},
     "output_type": "execute_result"
    }
   ],
   "source": [
    "type(df)"
   ]
  },
  {
   "cell_type": "code",
   "execution_count": 50,
   "id": "c10926cf-e442-481b-965c-05ff9f1f0278",
   "metadata": {},
   "outputs": [],
   "source": [
    "df['country'] = df['country'].replace(readd,'Central Africa')\n"
   ]
  },
  {
   "cell_type": "code",
   "execution_count": 51,
   "id": "662cdfda-eeea-4091-9165-5da75c7ac78f",
   "metadata": {},
   "outputs": [],
   "source": [
    "cen = df[df['country'] == 'Central Africa' ]\n",
    "#i=df[df[‘Name’]==’Will’]\n",
    "#print(i)"
   ]
  },
  {
   "cell_type": "code",
   "execution_count": 52,
   "id": "cbc97a28-21ec-4c34-8fd4-b49a45ec82eb",
   "metadata": {},
   "outputs": [
    {
     "data": {
      "text/html": [
       "<div>\n",
       "<style scoped>\n",
       "    .dataframe tbody tr th:only-of-type {\n",
       "        vertical-align: middle;\n",
       "    }\n",
       "\n",
       "    .dataframe tbody tr th {\n",
       "        vertical-align: top;\n",
       "    }\n",
       "\n",
       "    .dataframe thead th {\n",
       "        text-align: right;\n",
       "    }\n",
       "</style>\n",
       "<table border=\"1\" class=\"dataframe\">\n",
       "  <thead>\n",
       "    <tr style=\"text-align: right;\">\n",
       "      <th></th>\n",
       "      <th>ID</th>\n",
       "      <th>country</th>\n",
       "      <th>age_group</th>\n",
       "      <th>travel_with</th>\n",
       "      <th>total_female</th>\n",
       "      <th>total_male</th>\n",
       "      <th>purpose</th>\n",
       "      <th>main_activity</th>\n",
       "      <th>info_source</th>\n",
       "      <th>tour_arrangement</th>\n",
       "      <th>...</th>\n",
       "      <th>package_transport_tz</th>\n",
       "      <th>package_sightseeing</th>\n",
       "      <th>package_guided_tour</th>\n",
       "      <th>package_insurance</th>\n",
       "      <th>night_mainland</th>\n",
       "      <th>night_zanzibar</th>\n",
       "      <th>payment_mode</th>\n",
       "      <th>first_trip_tz</th>\n",
       "      <th>most_impressing</th>\n",
       "      <th>total_cost</th>\n",
       "    </tr>\n",
       "  </thead>\n",
       "  <tbody>\n",
       "    <tr>\n",
       "      <th>114</th>\n",
       "      <td>tour_1137</td>\n",
       "      <td>Central Africa</td>\n",
       "      <td>25-44</td>\n",
       "      <td>NaN</td>\n",
       "      <td>0.0</td>\n",
       "      <td>1.0</td>\n",
       "      <td>Visiting Friends and Relatives</td>\n",
       "      <td>Cultural tourism</td>\n",
       "      <td>Friends, relatives</td>\n",
       "      <td>Independent</td>\n",
       "      <td>...</td>\n",
       "      <td>No</td>\n",
       "      <td>No</td>\n",
       "      <td>No</td>\n",
       "      <td>No</td>\n",
       "      <td>11</td>\n",
       "      <td>0</td>\n",
       "      <td>Cash</td>\n",
       "      <td>No</td>\n",
       "      <td>NaN</td>\n",
       "      <td>893392.5</td>\n",
       "    </tr>\n",
       "    <tr>\n",
       "      <th>212</th>\n",
       "      <td>tour_1260</td>\n",
       "      <td>Central Africa</td>\n",
       "      <td>25-44</td>\n",
       "      <td>Alone</td>\n",
       "      <td>0.0</td>\n",
       "      <td>1.0</td>\n",
       "      <td>Business</td>\n",
       "      <td>Hunting tourism</td>\n",
       "      <td>Friends, relatives</td>\n",
       "      <td>Independent</td>\n",
       "      <td>...</td>\n",
       "      <td>No</td>\n",
       "      <td>No</td>\n",
       "      <td>No</td>\n",
       "      <td>No</td>\n",
       "      <td>4</td>\n",
       "      <td>0</td>\n",
       "      <td>Cash</td>\n",
       "      <td>No</td>\n",
       "      <td>Good service</td>\n",
       "      <td>505000.0</td>\n",
       "    </tr>\n",
       "    <tr>\n",
       "      <th>571</th>\n",
       "      <td>tour_1707</td>\n",
       "      <td>Central Africa</td>\n",
       "      <td>25-44</td>\n",
       "      <td>NaN</td>\n",
       "      <td>0.0</td>\n",
       "      <td>1.0</td>\n",
       "      <td>Visiting Friends and Relatives</td>\n",
       "      <td>Cultural tourism</td>\n",
       "      <td>Friends, relatives</td>\n",
       "      <td>Independent</td>\n",
       "      <td>...</td>\n",
       "      <td>No</td>\n",
       "      <td>No</td>\n",
       "      <td>No</td>\n",
       "      <td>No</td>\n",
       "      <td>2</td>\n",
       "      <td>0</td>\n",
       "      <td>Cash</td>\n",
       "      <td>Yes</td>\n",
       "      <td>NaN</td>\n",
       "      <td>77000.0</td>\n",
       "    </tr>\n",
       "    <tr>\n",
       "      <th>574</th>\n",
       "      <td>tour_1710</td>\n",
       "      <td>Central Africa</td>\n",
       "      <td>25-44</td>\n",
       "      <td>Friends/Relatives</td>\n",
       "      <td>2.0</td>\n",
       "      <td>1.0</td>\n",
       "      <td>Visiting Friends and Relatives</td>\n",
       "      <td>Hunting tourism</td>\n",
       "      <td>Friends, relatives</td>\n",
       "      <td>Independent</td>\n",
       "      <td>...</td>\n",
       "      <td>No</td>\n",
       "      <td>No</td>\n",
       "      <td>No</td>\n",
       "      <td>No</td>\n",
       "      <td>2</td>\n",
       "      <td>0</td>\n",
       "      <td>Cash</td>\n",
       "      <td>No</td>\n",
       "      <td>Friendly People</td>\n",
       "      <td>570000.0</td>\n",
       "    </tr>\n",
       "    <tr>\n",
       "      <th>575</th>\n",
       "      <td>tour_1712</td>\n",
       "      <td>Central Africa</td>\n",
       "      <td>25-44</td>\n",
       "      <td>NaN</td>\n",
       "      <td>0.0</td>\n",
       "      <td>1.0</td>\n",
       "      <td>Business</td>\n",
       "      <td>Wildlife tourism</td>\n",
       "      <td>Friends, relatives</td>\n",
       "      <td>Independent</td>\n",
       "      <td>...</td>\n",
       "      <td>No</td>\n",
       "      <td>No</td>\n",
       "      <td>No</td>\n",
       "      <td>No</td>\n",
       "      <td>1</td>\n",
       "      <td>0</td>\n",
       "      <td>Cash</td>\n",
       "      <td>No</td>\n",
       "      <td>NaN</td>\n",
       "      <td>12203000.0</td>\n",
       "    </tr>\n",
       "    <tr>\n",
       "      <th>...</th>\n",
       "      <td>...</td>\n",
       "      <td>...</td>\n",
       "      <td>...</td>\n",
       "      <td>...</td>\n",
       "      <td>...</td>\n",
       "      <td>...</td>\n",
       "      <td>...</td>\n",
       "      <td>...</td>\n",
       "      <td>...</td>\n",
       "      <td>...</td>\n",
       "      <td>...</td>\n",
       "      <td>...</td>\n",
       "      <td>...</td>\n",
       "      <td>...</td>\n",
       "      <td>...</td>\n",
       "      <td>...</td>\n",
       "      <td>...</td>\n",
       "      <td>...</td>\n",
       "      <td>...</td>\n",
       "      <td>...</td>\n",
       "      <td>...</td>\n",
       "    </tr>\n",
       "    <tr>\n",
       "      <th>4512</th>\n",
       "      <td>tour_6459</td>\n",
       "      <td>Central Africa</td>\n",
       "      <td>25-44</td>\n",
       "      <td>NaN</td>\n",
       "      <td>0.0</td>\n",
       "      <td>1.0</td>\n",
       "      <td>Visiting Friends and Relatives</td>\n",
       "      <td>Beach tourism</td>\n",
       "      <td>Friends, relatives</td>\n",
       "      <td>Independent</td>\n",
       "      <td>...</td>\n",
       "      <td>No</td>\n",
       "      <td>No</td>\n",
       "      <td>No</td>\n",
       "      <td>No</td>\n",
       "      <td>6</td>\n",
       "      <td>0</td>\n",
       "      <td>Cash</td>\n",
       "      <td>No</td>\n",
       "      <td>Friendly People</td>\n",
       "      <td>762000.0</td>\n",
       "    </tr>\n",
       "    <tr>\n",
       "      <th>4514</th>\n",
       "      <td>tour_6460</td>\n",
       "      <td>Central Africa</td>\n",
       "      <td>2022-01-24 00:00:00</td>\n",
       "      <td>Spouse</td>\n",
       "      <td>1.0</td>\n",
       "      <td>1.0</td>\n",
       "      <td>Visiting Friends and Relatives</td>\n",
       "      <td>Hunting tourism</td>\n",
       "      <td>Friends, relatives</td>\n",
       "      <td>Independent</td>\n",
       "      <td>...</td>\n",
       "      <td>No</td>\n",
       "      <td>No</td>\n",
       "      <td>No</td>\n",
       "      <td>No</td>\n",
       "      <td>1</td>\n",
       "      <td>0</td>\n",
       "      <td>Cash</td>\n",
       "      <td>No</td>\n",
       "      <td>NaN</td>\n",
       "      <td>130000.0</td>\n",
       "    </tr>\n",
       "    <tr>\n",
       "      <th>4523</th>\n",
       "      <td>tour_6471</td>\n",
       "      <td>Central Africa</td>\n",
       "      <td>25-44</td>\n",
       "      <td>NaN</td>\n",
       "      <td>0.0</td>\n",
       "      <td>1.0</td>\n",
       "      <td>Business</td>\n",
       "      <td>Wildlife tourism</td>\n",
       "      <td>Friends, relatives</td>\n",
       "      <td>Independent</td>\n",
       "      <td>...</td>\n",
       "      <td>No</td>\n",
       "      <td>No</td>\n",
       "      <td>No</td>\n",
       "      <td>No</td>\n",
       "      <td>3</td>\n",
       "      <td>0</td>\n",
       "      <td>Cash</td>\n",
       "      <td>No</td>\n",
       "      <td>No comments</td>\n",
       "      <td>540000.0</td>\n",
       "    </tr>\n",
       "    <tr>\n",
       "      <th>4733</th>\n",
       "      <td>tour_902</td>\n",
       "      <td>Central Africa</td>\n",
       "      <td>25-44</td>\n",
       "      <td>NaN</td>\n",
       "      <td>1.0</td>\n",
       "      <td>0.0</td>\n",
       "      <td>Meetings and Conference</td>\n",
       "      <td>Mountain climbing</td>\n",
       "      <td>Friends, relatives</td>\n",
       "      <td>Package Tour</td>\n",
       "      <td>...</td>\n",
       "      <td>No</td>\n",
       "      <td>No</td>\n",
       "      <td>No</td>\n",
       "      <td>No</td>\n",
       "      <td>13</td>\n",
       "      <td>0</td>\n",
       "      <td>Cash</td>\n",
       "      <td>No</td>\n",
       "      <td>NaN</td>\n",
       "      <td>5967000.0</td>\n",
       "    </tr>\n",
       "    <tr>\n",
       "      <th>4758</th>\n",
       "      <td>tour_933</td>\n",
       "      <td>Central Africa</td>\n",
       "      <td>25-44</td>\n",
       "      <td>Alone</td>\n",
       "      <td>0.0</td>\n",
       "      <td>1.0</td>\n",
       "      <td>Meetings and Conference</td>\n",
       "      <td>Mountain climbing</td>\n",
       "      <td>Radio, TV, Web</td>\n",
       "      <td>Independent</td>\n",
       "      <td>...</td>\n",
       "      <td>No</td>\n",
       "      <td>No</td>\n",
       "      <td>No</td>\n",
       "      <td>No</td>\n",
       "      <td>2</td>\n",
       "      <td>0</td>\n",
       "      <td>Cash</td>\n",
       "      <td>No</td>\n",
       "      <td>No comments</td>\n",
       "      <td>571837.5</td>\n",
       "    </tr>\n",
       "  </tbody>\n",
       "</table>\n",
       "<p>75 rows × 23 columns</p>\n",
       "</div>"
      ],
      "text/plain": [
       "             ID         country            age_group        travel_with  \\\n",
       "114   tour_1137  Central Africa                25-44                NaN   \n",
       "212   tour_1260  Central Africa                25-44              Alone   \n",
       "571   tour_1707  Central Africa                25-44                NaN   \n",
       "574   tour_1710  Central Africa                25-44  Friends/Relatives   \n",
       "575   tour_1712  Central Africa                25-44                NaN   \n",
       "...         ...             ...                  ...                ...   \n",
       "4512  tour_6459  Central Africa                25-44                NaN   \n",
       "4514  tour_6460  Central Africa  2022-01-24 00:00:00             Spouse   \n",
       "4523  tour_6471  Central Africa                25-44                NaN   \n",
       "4733   tour_902  Central Africa                25-44                NaN   \n",
       "4758   tour_933  Central Africa                25-44              Alone   \n",
       "\n",
       "      total_female  total_male                         purpose  \\\n",
       "114            0.0         1.0  Visiting Friends and Relatives   \n",
       "212            0.0         1.0                        Business   \n",
       "571            0.0         1.0  Visiting Friends and Relatives   \n",
       "574            2.0         1.0  Visiting Friends and Relatives   \n",
       "575            0.0         1.0                        Business   \n",
       "...            ...         ...                             ...   \n",
       "4512           0.0         1.0  Visiting Friends and Relatives   \n",
       "4514           1.0         1.0  Visiting Friends and Relatives   \n",
       "4523           0.0         1.0                        Business   \n",
       "4733           1.0         0.0         Meetings and Conference   \n",
       "4758           0.0         1.0         Meetings and Conference   \n",
       "\n",
       "          main_activity         info_source tour_arrangement  ...  \\\n",
       "114    Cultural tourism  Friends, relatives      Independent  ...   \n",
       "212     Hunting tourism  Friends, relatives      Independent  ...   \n",
       "571    Cultural tourism  Friends, relatives      Independent  ...   \n",
       "574     Hunting tourism  Friends, relatives      Independent  ...   \n",
       "575    Wildlife tourism  Friends, relatives      Independent  ...   \n",
       "...                 ...                 ...              ...  ...   \n",
       "4512      Beach tourism  Friends, relatives      Independent  ...   \n",
       "4514    Hunting tourism  Friends, relatives      Independent  ...   \n",
       "4523   Wildlife tourism  Friends, relatives      Independent  ...   \n",
       "4733  Mountain climbing  Friends, relatives     Package Tour  ...   \n",
       "4758  Mountain climbing      Radio, TV, Web      Independent  ...   \n",
       "\n",
       "     package_transport_tz package_sightseeing package_guided_tour  \\\n",
       "114                    No                  No                  No   \n",
       "212                    No                  No                  No   \n",
       "571                    No                  No                  No   \n",
       "574                    No                  No                  No   \n",
       "575                    No                  No                  No   \n",
       "...                   ...                 ...                 ...   \n",
       "4512                   No                  No                  No   \n",
       "4514                   No                  No                  No   \n",
       "4523                   No                  No                  No   \n",
       "4733                   No                  No                  No   \n",
       "4758                   No                  No                  No   \n",
       "\n",
       "     package_insurance night_mainland night_zanzibar payment_mode  \\\n",
       "114                 No             11              0         Cash   \n",
       "212                 No              4              0         Cash   \n",
       "571                 No              2              0         Cash   \n",
       "574                 No              2              0         Cash   \n",
       "575                 No              1              0         Cash   \n",
       "...                ...            ...            ...          ...   \n",
       "4512                No              6              0         Cash   \n",
       "4514                No              1              0         Cash   \n",
       "4523                No              3              0         Cash   \n",
       "4733                No             13              0         Cash   \n",
       "4758                No              2              0         Cash   \n",
       "\n",
       "      first_trip_tz  most_impressing  total_cost  \n",
       "114              No              NaN    893392.5  \n",
       "212              No     Good service    505000.0  \n",
       "571             Yes              NaN     77000.0  \n",
       "574              No  Friendly People    570000.0  \n",
       "575              No              NaN  12203000.0  \n",
       "...             ...              ...         ...  \n",
       "4512             No  Friendly People    762000.0  \n",
       "4514             No              NaN    130000.0  \n",
       "4523             No      No comments    540000.0  \n",
       "4733             No              NaN   5967000.0  \n",
       "4758             No      No comments    571837.5  \n",
       "\n",
       "[75 rows x 23 columns]"
      ]
     },
     "execution_count": 52,
     "metadata": {},
     "output_type": "execute_result"
    }
   ],
   "source": [
    "cen"
   ]
  },
  {
   "cell_type": "markdown",
   "id": "221421ab-7349-4696-a42a-c4ea642203c7",
   "metadata": {},
   "source": [
    "## Eastern africa"
   ]
  },
  {
   "cell_type": "code",
   "execution_count": 53,
   "id": "9be93291-699a-489f-b5de-1e6014870308",
   "metadata": {},
   "outputs": [
    {
     "name": "stderr",
     "output_type": "stream",
     "text": [
      "C:\\Users\\Kofi\\AppData\\Local\\Temp/ipykernel_8112/2948023138.py:1: DeprecationWarning: find_element_by_xpath is deprecated. Please use find_element(by=By.XPATH, value=xpath) instead\n",
      "  i = driver.find_element_by_xpath(\"(//tbody)[2]\")\n"
     ]
    }
   ],
   "source": [
    "i = driver.find_element_by_xpath(\"(//tbody)[2]\")"
   ]
  },
  {
   "cell_type": "code",
   "execution_count": null,
   "id": "857fccb9-f716-4f69-b8ca-0113aa763b87",
   "metadata": {},
   "outputs": [],
   "source": []
  },
  {
   "cell_type": "code",
   "execution_count": 54,
   "id": "bcd1b196-68e3-4f3a-8f08-c1e524434670",
   "metadata": {},
   "outputs": [],
   "source": [
    "text = i.text\n",
    "#(//tbody)[1]"
   ]
  },
  {
   "cell_type": "code",
   "execution_count": 55,
   "id": "d618823b-e092-42d1-9305-3ee20821dfe6",
   "metadata": {},
   "outputs": [
    {
     "data": {
      "text/plain": [
       "str"
      ]
     },
     "execution_count": 55,
     "metadata": {},
     "output_type": "execute_result"
    }
   ],
   "source": [
    "type(text)"
   ]
  },
  {
   "cell_type": "code",
   "execution_count": 56,
   "id": "5b0b3333-84a1-4c96-b918-87cc811ce6a5",
   "metadata": {},
   "outputs": [
    {
     "ename": "NameError",
     "evalue": "name 'textc' is not defined",
     "output_type": "error",
     "traceback": [
      "\u001b[1;31m---------------------------------------------------------------------------\u001b[0m",
      "\u001b[1;31mNameError\u001b[0m                                 Traceback (most recent call last)",
      "\u001b[1;32m~\\AppData\\Local\\Temp/ipykernel_8112/374971999.py\u001b[0m in \u001b[0;36m<module>\u001b[1;34m\u001b[0m\n\u001b[1;32m----> 1\u001b[1;33m \u001b[0mrep\u001b[0m \u001b[1;33m=\u001b[0m \u001b[0mtextc\u001b[0m\u001b[1;33m.\u001b[0m\u001b[0mreplace\u001b[0m\u001b[1;33m(\u001b[0m\u001b[1;34m\"\\n\"\u001b[0m\u001b[1;33m,\u001b[0m \u001b[1;34m\". \"\u001b[0m\u001b[1;33m)\u001b[0m\u001b[1;33m\u001b[0m\u001b[1;33m\u001b[0m\u001b[0m\n\u001b[0m",
      "\u001b[1;31mNameError\u001b[0m: name 'textc' is not defined"
     ]
    }
   ],
   "source": [
    "rep = textc.replace(\"\\n\", \". \")"
   ]
  },
  {
   "cell_type": "code",
   "execution_count": null,
   "id": "1baf90ea-7291-4fd8-9138-904f5906fe5a",
   "metadata": {},
   "outputs": [],
   "source": [
    "import re\n",
    "expression = re.compile(r'([A-Z][^\\.!?]*[\\.!?])')\n",
    "new_list = re.findall(expression, rep)"
   ]
  },
  {
   "cell_type": "code",
   "execution_count": null,
   "id": "bfd81129-f68a-42a6-b876-e84004a857dc",
   "metadata": {},
   "outputs": [],
   "source": [
    "new_list"
   ]
  },
  {
   "cell_type": "code",
   "execution_count": null,
   "id": "c4189090-593d-495d-ba03-191b99b0da49",
   "metadata": {},
   "outputs": [],
   "source": []
  },
  {
   "cell_type": "code",
   "execution_count": 57,
   "id": "d1cc7da7-effa-4df9-ad03-a4083e099ff3",
   "metadata": {},
   "outputs": [],
   "source": [
    "converted_list = [x.upper() for x in new_list]"
   ]
  },
  {
   "cell_type": "code",
   "execution_count": 58,
   "id": "d75b1186-e2b4-4e1c-90f2-404a238beee3",
   "metadata": {},
   "outputs": [
    {
     "data": {
      "text/plain": [
       "['MEMBER STATE  ABBREVIATION DATE OF JOINING.',\n",
       " 'OAU OR AU.',\n",
       " 'REPUBLIC OF BURUNDI  BURUNDI 25 MAY 1963.',\n",
       " 'REPUBLIC OF CAMEROON  CAMEROON 25 MAY 1963.',\n",
       " 'CENTRAL AFRICAN REPUBLIC  CENTRAL AFRICAN REPUBLIC 25 MAY 1963 .',\n",
       " 'REPUBLIC OF CHAD  CHAD 25 MAY 1963.',\n",
       " 'REPUBLIC OF THE CONGO  CONGO REPUBLIC 25 MAY 1963.',\n",
       " 'DEMOCRATIC REPUBLIC OF CONGO  DR CONGO 25 MAY 1963.',\n",
       " 'REPUBLIC OF EQUATORIAL GUINEA  EQUATORIAL GUINEA 12 OCTOBER 1968.',\n",
       " 'GABONESE REPUBLIC  GABON 25 MAY 1963.']"
      ]
     },
     "execution_count": 58,
     "metadata": {},
     "output_type": "execute_result"
    }
   ],
   "source": [
    "converted_list"
   ]
  },
  {
   "cell_type": "code",
   "execution_count": null,
   "id": "a2edaf39-92b1-4f4a-91c3-3cbd9ad404f0",
   "metadata": {},
   "outputs": [],
   "source": []
  },
  {
   "cell_type": "code",
   "execution_count": 59,
   "id": "094af2de-258f-4841-84b4-4e1b64892c6f",
   "metadata": {},
   "outputs": [],
   "source": [
    "co = str(converted_list)"
   ]
  },
  {
   "cell_type": "code",
   "execution_count": 60,
   "id": "38530d4f-ace3-47f8-8743-b41aadc55214",
   "metadata": {},
   "outputs": [],
   "source": [
    "from itertools import chain"
   ]
  },
  {
   "cell_type": "code",
   "execution_count": 61,
   "id": "4338a6dd-8a5e-4d73-9525-bdec37d3ee1e",
   "metadata": {},
   "outputs": [],
   "source": [
    "coming = ' '.join(str(v) for v in converted_list)"
   ]
  },
  {
   "cell_type": "code",
   "execution_count": 62,
   "id": "05891d28-8ebf-48d5-a881-21cdbea55d51",
   "metadata": {},
   "outputs": [
    {
     "data": {
      "text/plain": [
       "'MEMBER STATE  ABBREVIATION DATE OF JOINING. OAU OR AU. REPUBLIC OF BURUNDI  BURUNDI 25 MAY 1963. REPUBLIC OF CAMEROON  CAMEROON 25 MAY 1963. CENTRAL AFRICAN REPUBLIC  CENTRAL AFRICAN REPUBLIC 25 MAY 1963 . REPUBLIC OF CHAD  CHAD 25 MAY 1963. REPUBLIC OF THE CONGO  CONGO REPUBLIC 25 MAY 1963. DEMOCRATIC REPUBLIC OF CONGO  DR CONGO 25 MAY 1963. REPUBLIC OF EQUATORIAL GUINEA  EQUATORIAL GUINEA 12 OCTOBER 1968. GABONESE REPUBLIC  GABON 25 MAY 1963.'"
      ]
     },
     "execution_count": 62,
     "metadata": {},
     "output_type": "execute_result"
    }
   ],
   "source": [
    "coming"
   ]
  },
  {
   "cell_type": "code",
   "execution_count": 63,
   "id": "af9efbbd-d784-4409-9acb-5cc35f1bcf15",
   "metadata": {},
   "outputs": [],
   "source": [
    "come = coming.replace(\".\", \"\")\n",
    "com = come.replace(\"REPUBLIC\", \"\")\n",
    "come= com.replace(\"OF\", \"\")\n"
   ]
  },
  {
   "cell_type": "code",
   "execution_count": 64,
   "id": "9e728113-7deb-4a32-9da3-89336ac73aa9",
   "metadata": {},
   "outputs": [
    {
     "data": {
      "text/plain": [
       "'MEMBER STATE  ABBREVIATION DATE  JOINING OAU OR AU   BURUNDI  BURUNDI 25 MAY 1963   CAMEROON  CAMEROON 25 MAY 1963 CENTRAL AFRICAN   CENTRAL AFRICAN  25 MAY 1963    CHAD  CHAD 25 MAY 1963   THE CONGO  CONGO  25 MAY 1963 DEMOCRATIC   CONGO  DR CONGO 25 MAY 1963   EQUATORIAL GUINEA  EQUATORIAL GUINEA 12 OCTOBER 1968 GABONESE   GABON 25 MAY 1963'"
      ]
     },
     "execution_count": 64,
     "metadata": {},
     "output_type": "execute_result"
    }
   ],
   "source": [
    "come"
   ]
  },
  {
   "cell_type": "code",
   "execution_count": 65,
   "id": "07f8d5f8-ebba-4abf-ac43-a17c152a9ddb",
   "metadata": {},
   "outputs": [],
   "source": [
    "# i need to get the intersection of countries"
   ]
  },
  {
   "cell_type": "code",
   "execution_count": null,
   "id": "564b55a9-68b2-490d-a3c9-9648d75530aa",
   "metadata": {},
   "outputs": [],
   "source": []
  },
  {
   "cell_type": "code",
   "execution_count": 66,
   "id": "734e5583-f192-4cc0-84f2-8dac738cd1e4",
   "metadata": {},
   "outputs": [],
   "source": [
    "#movi\n",
    "#come\n",
    "\n",
    "read = set(result.split()) & set(come.split())"
   ]
  },
  {
   "cell_type": "code",
   "execution_count": 67,
   "id": "639bedde-a583-42f9-b350-1c469ee8e94a",
   "metadata": {},
   "outputs": [],
   "source": [
    "readd = list(read)"
   ]
  },
  {
   "cell_type": "code",
   "execution_count": 68,
   "id": "daa4fbf1-7f6a-4aab-a6cd-67ba6418eb5c",
   "metadata": {},
   "outputs": [
    {
     "data": {
      "text/plain": [
       "['CONGO', 'BURUNDI']"
      ]
     },
     "execution_count": 68,
     "metadata": {},
     "output_type": "execute_result"
    }
   ],
   "source": [
    "readd"
   ]
  },
  {
   "cell_type": "code",
   "execution_count": 69,
   "id": "c8b3dcb7-d884-4455-a1a8-432895766722",
   "metadata": {},
   "outputs": [],
   "source": [
    "i = len(readd)"
   ]
  },
  {
   "cell_type": "code",
   "execution_count": 70,
   "id": "8ecaebea-fc91-40b7-87ff-653700a7d6b7",
   "metadata": {},
   "outputs": [],
   "source": [
    "matches = []\n",
    "\n",
    "for match in list1:\n",
    "    if readd[i-1] in match:\n",
    "        matches.append(match)\n",
    "        i-=1"
   ]
  },
  {
   "cell_type": "code",
   "execution_count": 71,
   "id": "2dd66003-9721-47d4-a240-84c55371003b",
   "metadata": {},
   "outputs": [
    {
     "data": {
      "text/plain": [
       "list"
      ]
     },
     "execution_count": 71,
     "metadata": {},
     "output_type": "execute_result"
    }
   ],
   "source": [
    "type(matches)"
   ]
  },
  {
   "cell_type": "code",
   "execution_count": 72,
   "id": "a9d7e432-aac2-454f-8c5b-592351b1a95f",
   "metadata": {},
   "outputs": [],
   "source": [
    "i = len(readd)"
   ]
  },
  {
   "cell_type": "code",
   "execution_count": 73,
   "id": "ae2cb650-f9aa-423c-8e64-3ce55e4cee9c",
   "metadata": {},
   "outputs": [
    {
     "data": {
      "text/plain": [
       "2"
      ]
     },
     "execution_count": 73,
     "metadata": {},
     "output_type": "execute_result"
    }
   ],
   "source": [
    "i"
   ]
  },
  {
   "cell_type": "code",
   "execution_count": 74,
   "id": "0c23ff17-3512-49c5-b1f0-22611fd6be4e",
   "metadata": {},
   "outputs": [
    {
     "data": {
      "text/plain": [
       "'BURUNDI'"
      ]
     },
     "execution_count": 74,
     "metadata": {},
     "output_type": "execute_result"
    }
   ],
   "source": [
    "readd[i-1]"
   ]
  },
  {
   "cell_type": "code",
   "execution_count": 75,
   "id": "42693498-9ec3-4e02-bbc9-9597d8d3fbf7",
   "metadata": {},
   "outputs": [
    {
     "data": {
      "text/plain": [
       "pandas.core.frame.DataFrame"
      ]
     },
     "execution_count": 75,
     "metadata": {},
     "output_type": "execute_result"
    }
   ],
   "source": [
    "type(df)"
   ]
  },
  {
   "cell_type": "code",
   "execution_count": 76,
   "id": "e3b5e0b9-5831-44d8-83ae-a32f868d14f5",
   "metadata": {},
   "outputs": [],
   "source": [
    "df['country'] = df['country'].replace(readd,'East Africa')\n"
   ]
  },
  {
   "cell_type": "code",
   "execution_count": null,
   "id": "0a2cf1d2-77df-4152-b693-fc5c2cb6dff0",
   "metadata": {},
   "outputs": [],
   "source": []
  },
  {
   "cell_type": "code",
   "execution_count": 77,
   "id": "d564af52-41b4-427c-ae12-8d3822f6b09a",
   "metadata": {},
   "outputs": [],
   "source": [
    "east = df[df['country'] == 'East Africa' ]\n",
    "#i=df[df[‘Name’]==’Will’]\n",
    "#print(i)"
   ]
  },
  {
   "cell_type": "code",
   "execution_count": 78,
   "id": "25381b99-50f7-4535-ab28-aff785a3850b",
   "metadata": {},
   "outputs": [
    {
     "data": {
      "text/html": [
       "<div>\n",
       "<style scoped>\n",
       "    .dataframe tbody tr th:only-of-type {\n",
       "        vertical-align: middle;\n",
       "    }\n",
       "\n",
       "    .dataframe tbody tr th {\n",
       "        vertical-align: top;\n",
       "    }\n",
       "\n",
       "    .dataframe thead th {\n",
       "        text-align: right;\n",
       "    }\n",
       "</style>\n",
       "<table border=\"1\" class=\"dataframe\">\n",
       "  <thead>\n",
       "    <tr style=\"text-align: right;\">\n",
       "      <th></th>\n",
       "      <th>ID</th>\n",
       "      <th>country</th>\n",
       "      <th>age_group</th>\n",
       "      <th>travel_with</th>\n",
       "      <th>total_female</th>\n",
       "      <th>total_male</th>\n",
       "      <th>purpose</th>\n",
       "      <th>main_activity</th>\n",
       "      <th>info_source</th>\n",
       "      <th>tour_arrangement</th>\n",
       "      <th>...</th>\n",
       "      <th>package_transport_tz</th>\n",
       "      <th>package_sightseeing</th>\n",
       "      <th>package_guided_tour</th>\n",
       "      <th>package_insurance</th>\n",
       "      <th>night_mainland</th>\n",
       "      <th>night_zanzibar</th>\n",
       "      <th>payment_mode</th>\n",
       "      <th>first_trip_tz</th>\n",
       "      <th>most_impressing</th>\n",
       "      <th>total_cost</th>\n",
       "    </tr>\n",
       "  </thead>\n",
       "  <tbody>\n",
       "  </tbody>\n",
       "</table>\n",
       "<p>0 rows × 23 columns</p>\n",
       "</div>"
      ],
      "text/plain": [
       "Empty DataFrame\n",
       "Columns: [ID, country, age_group, travel_with, total_female, total_male, purpose, main_activity, info_source, tour_arrangement, package_transport_int, package_accomodation, package_food, package_transport_tz, package_sightseeing, package_guided_tour, package_insurance, night_mainland, night_zanzibar, payment_mode, first_trip_tz, most_impressing, total_cost]\n",
       "Index: []\n",
       "\n",
       "[0 rows x 23 columns]"
      ]
     },
     "execution_count": 78,
     "metadata": {},
     "output_type": "execute_result"
    }
   ],
   "source": [
    "east"
   ]
  },
  {
   "cell_type": "code",
   "execution_count": null,
   "id": "d9634a89-8311-4dc6-b7b7-67c35e7dbcc3",
   "metadata": {},
   "outputs": [],
   "source": []
  },
  {
   "cell_type": "markdown",
   "id": "8896f2b7-ce80-4d5c-9778-4250c8cd6ca6",
   "metadata": {},
   "source": [
    "## Northern Africa"
   ]
  },
  {
   "cell_type": "code",
   "execution_count": null,
   "id": "86f41fc0-f686-45c8-ad0f-c6e9fb1703e0",
   "metadata": {},
   "outputs": [],
   "source": []
  },
  {
   "cell_type": "code",
   "execution_count": 79,
   "id": "cdd43231-1628-4de1-8c73-f07ba0f4ce9c",
   "metadata": {},
   "outputs": [
    {
     "name": "stderr",
     "output_type": "stream",
     "text": [
      "C:\\Users\\Kofi\\AppData\\Local\\Temp/ipykernel_8112/3376065246.py:1: DeprecationWarning: find_element_by_xpath is deprecated. Please use find_element(by=By.XPATH, value=xpath) instead\n",
      "  i = driver.find_element_by_xpath(\"(//tbody)[3]\")\n"
     ]
    }
   ],
   "source": [
    "i = driver.find_element_by_xpath(\"(//tbody)[3]\")"
   ]
  },
  {
   "cell_type": "code",
   "execution_count": null,
   "id": "0e7c2bc3-c7ae-4685-bd94-f89940befe27",
   "metadata": {},
   "outputs": [],
   "source": []
  },
  {
   "cell_type": "code",
   "execution_count": 80,
   "id": "16f5ff8e-1655-4512-a57d-adc5ce22ae7e",
   "metadata": {},
   "outputs": [],
   "source": [
    "text = i.text\n",
    "#(//tbody)[1]"
   ]
  },
  {
   "cell_type": "code",
   "execution_count": 81,
   "id": "97a42c99-b55e-4299-848b-c795b0cc9902",
   "metadata": {},
   "outputs": [
    {
     "data": {
      "text/plain": [
       "str"
      ]
     },
     "execution_count": 81,
     "metadata": {},
     "output_type": "execute_result"
    }
   ],
   "source": [
    "type(text)"
   ]
  },
  {
   "cell_type": "code",
   "execution_count": 82,
   "id": "4f67376b-52ae-4be4-b6ff-981e3629229a",
   "metadata": {},
   "outputs": [],
   "source": [
    "rep = text.replace(\"\\n\", \". \")"
   ]
  },
  {
   "cell_type": "code",
   "execution_count": 83,
   "id": "c0e6a344-01e9-455f-92e5-05a9f55a5e5d",
   "metadata": {},
   "outputs": [],
   "source": [
    "import re\n",
    "expression = re.compile(r'([A-Z][^\\.!?]*[\\.!?])')\n",
    "new_list = re.findall(expression, rep)"
   ]
  },
  {
   "cell_type": "code",
   "execution_count": 84,
   "id": "7ca1fd82-6948-45f5-a946-9245dd35cc8b",
   "metadata": {},
   "outputs": [
    {
     "data": {
      "text/plain": [
       "['Member State  Abbreviation Date of joining.',\n",
       " 'OAU or AU.',\n",
       " 'People’s Democratic Republic of Algeria Algeria 25 May 1963.',\n",
       " 'Arab Republic of Egypt Egypt 25 May 1963.',\n",
       " 'Libya Libya 25 May 1963.',\n",
       " 'Islamic Republic of Mauritania Mauritania 25 May 1963.',\n",
       " 'Kingdom of Morocco Morocco 1963/31 January 2017.',\n",
       " 'Sahrawi Arab Democratic Republic Sahrawi Republic 22 February 1982.']"
      ]
     },
     "execution_count": 84,
     "metadata": {},
     "output_type": "execute_result"
    }
   ],
   "source": [
    "new_list"
   ]
  },
  {
   "cell_type": "code",
   "execution_count": null,
   "id": "3702f7d8-d7a1-4ac0-a65f-3e93ba4f2988",
   "metadata": {},
   "outputs": [],
   "source": []
  },
  {
   "cell_type": "code",
   "execution_count": 85,
   "id": "f514fe33-b10a-465c-9710-12ed10d16657",
   "metadata": {},
   "outputs": [],
   "source": [
    "converted_list = [x.upper() for x in new_list]"
   ]
  },
  {
   "cell_type": "code",
   "execution_count": 86,
   "id": "db8db2f7-41bf-426b-a245-fca3ca4c4eca",
   "metadata": {},
   "outputs": [
    {
     "data": {
      "text/plain": [
       "['MEMBER STATE  ABBREVIATION DATE OF JOINING.',\n",
       " 'OAU OR AU.',\n",
       " 'PEOPLE’S DEMOCRATIC REPUBLIC OF ALGERIA ALGERIA 25 MAY 1963.',\n",
       " 'ARAB REPUBLIC OF EGYPT EGYPT 25 MAY 1963.',\n",
       " 'LIBYA LIBYA 25 MAY 1963.',\n",
       " 'ISLAMIC REPUBLIC OF MAURITANIA MAURITANIA 25 MAY 1963.',\n",
       " 'KINGDOM OF MOROCCO MOROCCO 1963/31 JANUARY 2017.',\n",
       " 'SAHRAWI ARAB DEMOCRATIC REPUBLIC SAHRAWI REPUBLIC 22 FEBRUARY 1982.']"
      ]
     },
     "execution_count": 86,
     "metadata": {},
     "output_type": "execute_result"
    }
   ],
   "source": [
    "converted_list"
   ]
  },
  {
   "cell_type": "code",
   "execution_count": null,
   "id": "c26588b0-6bdf-43e5-9193-53b658dd4f27",
   "metadata": {},
   "outputs": [],
   "source": []
  },
  {
   "cell_type": "code",
   "execution_count": 87,
   "id": "8c3acbbf-0436-496d-afc1-226db0d6fa83",
   "metadata": {},
   "outputs": [],
   "source": [
    "co = str(converted_list)"
   ]
  },
  {
   "cell_type": "code",
   "execution_count": 88,
   "id": "a72e8e44-fe4d-4e42-9686-793bd2e938c8",
   "metadata": {},
   "outputs": [],
   "source": [
    "from itertools import chain"
   ]
  },
  {
   "cell_type": "code",
   "execution_count": 89,
   "id": "9e4b0017-d119-4d87-9a17-577ea2e9cd50",
   "metadata": {},
   "outputs": [],
   "source": [
    "coming = ' '.join(str(v) for v in converted_list)"
   ]
  },
  {
   "cell_type": "code",
   "execution_count": 90,
   "id": "447a80da-79a9-4fa1-bdf1-ae4675481c7f",
   "metadata": {},
   "outputs": [
    {
     "data": {
      "text/plain": [
       "'MEMBER STATE  ABBREVIATION DATE OF JOINING. OAU OR AU. PEOPLE’S DEMOCRATIC REPUBLIC OF ALGERIA ALGERIA 25 MAY 1963. ARAB REPUBLIC OF EGYPT EGYPT 25 MAY 1963. LIBYA LIBYA 25 MAY 1963. ISLAMIC REPUBLIC OF MAURITANIA MAURITANIA 25 MAY 1963. KINGDOM OF MOROCCO MOROCCO 1963/31 JANUARY 2017. SAHRAWI ARAB DEMOCRATIC REPUBLIC SAHRAWI REPUBLIC 22 FEBRUARY 1982.'"
      ]
     },
     "execution_count": 90,
     "metadata": {},
     "output_type": "execute_result"
    }
   ],
   "source": [
    "coming"
   ]
  },
  {
   "cell_type": "code",
   "execution_count": 91,
   "id": "869fe8cc-2048-42ef-84b5-bf621578421f",
   "metadata": {},
   "outputs": [],
   "source": [
    "come = coming.replace(\".\", \"\")\n",
    "com = come.replace(\"REPUBLIC\", \"\")\n",
    "come= com.replace(\"OF\", \"\")\n"
   ]
  },
  {
   "cell_type": "code",
   "execution_count": 92,
   "id": "f7a7e538-39af-4f74-a155-d6fc454160e9",
   "metadata": {},
   "outputs": [
    {
     "data": {
      "text/plain": [
       "'MEMBER STATE  ABBREVIATION DATE  JOINING OAU OR AU PEOPLE’S DEMOCRATIC   ALGERIA ALGERIA 25 MAY 1963 ARAB   EGYPT EGYPT 25 MAY 1963 LIBYA LIBYA 25 MAY 1963 ISLAMIC   MAURITANIA MAURITANIA 25 MAY 1963 KINGDOM  MOROCCO MOROCCO 1963/31 JANUARY 2017 SAHRAWI ARAB DEMOCRATIC  SAHRAWI  22 FEBRUARY 1982'"
      ]
     },
     "execution_count": 92,
     "metadata": {},
     "output_type": "execute_result"
    }
   ],
   "source": [
    "come"
   ]
  },
  {
   "cell_type": "code",
   "execution_count": 93,
   "id": "a9370f52-a37b-42f4-9a49-2b5b7adf8773",
   "metadata": {},
   "outputs": [],
   "source": [
    "# i need to get the intersection of countries"
   ]
  },
  {
   "cell_type": "code",
   "execution_count": null,
   "id": "0da21875-0b1d-4e9b-b72f-60ec90dae48e",
   "metadata": {},
   "outputs": [],
   "source": []
  },
  {
   "cell_type": "code",
   "execution_count": 94,
   "id": "d4abf81a-f40c-4eb2-946d-be63407372e4",
   "metadata": {},
   "outputs": [],
   "source": [
    "#movi\n",
    "#come\n",
    "\n",
    "read = set(result.split()) & set(come.split())"
   ]
  },
  {
   "cell_type": "code",
   "execution_count": 95,
   "id": "ac872277-5950-4041-bb69-9885560f3a63",
   "metadata": {},
   "outputs": [],
   "source": [
    "readd = list(read)"
   ]
  },
  {
   "cell_type": "code",
   "execution_count": 96,
   "id": "bcf3f8f1-2121-4b5e-a25e-c2b33ba76865",
   "metadata": {},
   "outputs": [
    {
     "data": {
      "text/plain": [
       "['ALGERIA', 'EGYPT', 'KINGDOM', 'ARAB']"
      ]
     },
     "execution_count": 96,
     "metadata": {},
     "output_type": "execute_result"
    }
   ],
   "source": [
    "readd"
   ]
  },
  {
   "cell_type": "code",
   "execution_count": 97,
   "id": "7fb9dfa0-38cb-4dc7-b66c-9d103bb15717",
   "metadata": {},
   "outputs": [],
   "source": [
    "i = len(readd)"
   ]
  },
  {
   "cell_type": "code",
   "execution_count": 98,
   "id": "dc7729d1-c1e1-4541-b7b9-e41d521cc1fd",
   "metadata": {},
   "outputs": [],
   "source": [
    "matches = []\n",
    "\n",
    "for match in list1:\n",
    "    if readd[i-1] in match:\n",
    "        matches.append(match)\n",
    "        i-=1"
   ]
  },
  {
   "cell_type": "code",
   "execution_count": 99,
   "id": "03986f25-c8e5-4aad-a9d6-1426c520b9cd",
   "metadata": {},
   "outputs": [
    {
     "data": {
      "text/plain": [
       "list"
      ]
     },
     "execution_count": 99,
     "metadata": {},
     "output_type": "execute_result"
    }
   ],
   "source": [
    "type(matches)"
   ]
  },
  {
   "cell_type": "code",
   "execution_count": 100,
   "id": "1757cb1a-3788-44ba-8b9e-eedd19f38717",
   "metadata": {},
   "outputs": [],
   "source": [
    "i = len(readd)"
   ]
  },
  {
   "cell_type": "code",
   "execution_count": 101,
   "id": "08695d79-eae4-4a37-8e2b-0d8c9f1cd637",
   "metadata": {},
   "outputs": [
    {
     "data": {
      "text/plain": [
       "4"
      ]
     },
     "execution_count": 101,
     "metadata": {},
     "output_type": "execute_result"
    }
   ],
   "source": [
    "i"
   ]
  },
  {
   "cell_type": "code",
   "execution_count": 102,
   "id": "e07057f3-1981-414a-a6d7-934c507d118f",
   "metadata": {},
   "outputs": [
    {
     "data": {
      "text/plain": [
       "'ARAB'"
      ]
     },
     "execution_count": 102,
     "metadata": {},
     "output_type": "execute_result"
    }
   ],
   "source": [
    "readd[i-1]"
   ]
  },
  {
   "cell_type": "code",
   "execution_count": 103,
   "id": "9644754c-5453-4f91-b941-684294c4a099",
   "metadata": {},
   "outputs": [
    {
     "data": {
      "text/plain": [
       "pandas.core.frame.DataFrame"
      ]
     },
     "execution_count": 103,
     "metadata": {},
     "output_type": "execute_result"
    }
   ],
   "source": [
    "type(df)"
   ]
  },
  {
   "cell_type": "code",
   "execution_count": 104,
   "id": "ed1189e4-2b97-4cdd-bff4-2dadb5e065b9",
   "metadata": {},
   "outputs": [],
   "source": [
    "df['country'] = df['country'].replace(readd,'North Africa')\n"
   ]
  },
  {
   "cell_type": "code",
   "execution_count": null,
   "id": "5ee6a348-bd8d-412b-96c2-f2b06eece6b1",
   "metadata": {},
   "outputs": [],
   "source": []
  },
  {
   "cell_type": "code",
   "execution_count": 105,
   "id": "e4c8ad92-7d29-42c7-ae80-2674cc40e4f5",
   "metadata": {},
   "outputs": [],
   "source": [
    "east = df[df['country'] == 'North Africa' ]\n",
    "#i=df[df[‘Name’]==’Will’]\n",
    "#print(i)"
   ]
  },
  {
   "cell_type": "code",
   "execution_count": 106,
   "id": "3823ca0c-512e-4fa7-8c72-f6cbe778464b",
   "metadata": {},
   "outputs": [
    {
     "data": {
      "text/html": [
       "<div>\n",
       "<style scoped>\n",
       "    .dataframe tbody tr th:only-of-type {\n",
       "        vertical-align: middle;\n",
       "    }\n",
       "\n",
       "    .dataframe tbody tr th {\n",
       "        vertical-align: top;\n",
       "    }\n",
       "\n",
       "    .dataframe thead th {\n",
       "        text-align: right;\n",
       "    }\n",
       "</style>\n",
       "<table border=\"1\" class=\"dataframe\">\n",
       "  <thead>\n",
       "    <tr style=\"text-align: right;\">\n",
       "      <th></th>\n",
       "      <th>ID</th>\n",
       "      <th>country</th>\n",
       "      <th>age_group</th>\n",
       "      <th>travel_with</th>\n",
       "      <th>total_female</th>\n",
       "      <th>total_male</th>\n",
       "      <th>purpose</th>\n",
       "      <th>main_activity</th>\n",
       "      <th>info_source</th>\n",
       "      <th>tour_arrangement</th>\n",
       "      <th>...</th>\n",
       "      <th>package_transport_tz</th>\n",
       "      <th>package_sightseeing</th>\n",
       "      <th>package_guided_tour</th>\n",
       "      <th>package_insurance</th>\n",
       "      <th>night_mainland</th>\n",
       "      <th>night_zanzibar</th>\n",
       "      <th>payment_mode</th>\n",
       "      <th>first_trip_tz</th>\n",
       "      <th>most_impressing</th>\n",
       "      <th>total_cost</th>\n",
       "    </tr>\n",
       "  </thead>\n",
       "  <tbody>\n",
       "    <tr>\n",
       "      <th>23</th>\n",
       "      <td>tour_103</td>\n",
       "      <td>North Africa</td>\n",
       "      <td>25-44</td>\n",
       "      <td>Spouse</td>\n",
       "      <td>1.0</td>\n",
       "      <td>1.0</td>\n",
       "      <td>Leisure and Holidays</td>\n",
       "      <td>Beach tourism</td>\n",
       "      <td>Radio, TV, Web</td>\n",
       "      <td>Independent</td>\n",
       "      <td>...</td>\n",
       "      <td>No</td>\n",
       "      <td>No</td>\n",
       "      <td>No</td>\n",
       "      <td>No</td>\n",
       "      <td>0</td>\n",
       "      <td>11</td>\n",
       "      <td>Cash</td>\n",
       "      <td>Yes</td>\n",
       "      <td>Wildlife</td>\n",
       "      <td>3734347.5</td>\n",
       "    </tr>\n",
       "    <tr>\n",
       "      <th>33</th>\n",
       "      <td>tour_1040</td>\n",
       "      <td>North Africa</td>\n",
       "      <td>2022-01-24 00:00:00</td>\n",
       "      <td>Alone</td>\n",
       "      <td>0.0</td>\n",
       "      <td>1.0</td>\n",
       "      <td>Visiting Friends and Relatives</td>\n",
       "      <td>Bird watching</td>\n",
       "      <td>Travel, agent, tour operator</td>\n",
       "      <td>Package Tour</td>\n",
       "      <td>...</td>\n",
       "      <td>No</td>\n",
       "      <td>No</td>\n",
       "      <td>No</td>\n",
       "      <td>No</td>\n",
       "      <td>2</td>\n",
       "      <td>0</td>\n",
       "      <td>Cash</td>\n",
       "      <td>Yes</td>\n",
       "      <td>No comments</td>\n",
       "      <td>2320500.0</td>\n",
       "    </tr>\n",
       "    <tr>\n",
       "      <th>242</th>\n",
       "      <td>tour_1305</td>\n",
       "      <td>North Africa</td>\n",
       "      <td>45-64</td>\n",
       "      <td>Alone</td>\n",
       "      <td>0.0</td>\n",
       "      <td>1.0</td>\n",
       "      <td>Leisure and Holidays</td>\n",
       "      <td>Wildlife tourism</td>\n",
       "      <td>Tanzania Mission Abroad</td>\n",
       "      <td>Independent</td>\n",
       "      <td>...</td>\n",
       "      <td>No</td>\n",
       "      <td>No</td>\n",
       "      <td>No</td>\n",
       "      <td>No</td>\n",
       "      <td>4</td>\n",
       "      <td>0</td>\n",
       "      <td>Cash</td>\n",
       "      <td>No</td>\n",
       "      <td>No comments</td>\n",
       "      <td>994500.0</td>\n",
       "    </tr>\n",
       "    <tr>\n",
       "      <th>488</th>\n",
       "      <td>tour_1601</td>\n",
       "      <td>North Africa</td>\n",
       "      <td>25-44</td>\n",
       "      <td>Alone</td>\n",
       "      <td>1.0</td>\n",
       "      <td>0.0</td>\n",
       "      <td>Leisure and Holidays</td>\n",
       "      <td>Wildlife tourism</td>\n",
       "      <td>Friends, relatives</td>\n",
       "      <td>Independent</td>\n",
       "      <td>...</td>\n",
       "      <td>No</td>\n",
       "      <td>No</td>\n",
       "      <td>No</td>\n",
       "      <td>No</td>\n",
       "      <td>7</td>\n",
       "      <td>7</td>\n",
       "      <td>Cash</td>\n",
       "      <td>Yes</td>\n",
       "      <td>No comments</td>\n",
       "      <td>4143750.0</td>\n",
       "    </tr>\n",
       "    <tr>\n",
       "      <th>548</th>\n",
       "      <td>tour_1681</td>\n",
       "      <td>North Africa</td>\n",
       "      <td>25-44</td>\n",
       "      <td>Friends/Relatives</td>\n",
       "      <td>5.0</td>\n",
       "      <td>0.0</td>\n",
       "      <td>Visiting Friends and Relatives</td>\n",
       "      <td>Wildlife tourism</td>\n",
       "      <td>Friends, relatives</td>\n",
       "      <td>Independent</td>\n",
       "      <td>...</td>\n",
       "      <td>No</td>\n",
       "      <td>No</td>\n",
       "      <td>No</td>\n",
       "      <td>No</td>\n",
       "      <td>15</td>\n",
       "      <td>10</td>\n",
       "      <td>Cash</td>\n",
       "      <td>No</td>\n",
       "      <td>Wonderful Country, Landscape, Nature</td>\n",
       "      <td>828750.0</td>\n",
       "    </tr>\n",
       "    <tr>\n",
       "      <th>768</th>\n",
       "      <td>tour_194</td>\n",
       "      <td>North Africa</td>\n",
       "      <td>25-44</td>\n",
       "      <td>Alone</td>\n",
       "      <td>1.0</td>\n",
       "      <td>0.0</td>\n",
       "      <td>Visiting Friends and Relatives</td>\n",
       "      <td>Beach tourism</td>\n",
       "      <td>Friends, relatives</td>\n",
       "      <td>Independent</td>\n",
       "      <td>...</td>\n",
       "      <td>No</td>\n",
       "      <td>No</td>\n",
       "      <td>No</td>\n",
       "      <td>No</td>\n",
       "      <td>1</td>\n",
       "      <td>0</td>\n",
       "      <td>Cash</td>\n",
       "      <td>Yes</td>\n",
       "      <td>Friendly People</td>\n",
       "      <td>3315000.0</td>\n",
       "    </tr>\n",
       "    <tr>\n",
       "      <th>778</th>\n",
       "      <td>tour_195</td>\n",
       "      <td>North Africa</td>\n",
       "      <td>25-44</td>\n",
       "      <td>NaN</td>\n",
       "      <td>1.0</td>\n",
       "      <td>1.0</td>\n",
       "      <td>Leisure and Holidays</td>\n",
       "      <td>Wildlife tourism</td>\n",
       "      <td>Newspaper, magazines,brochures</td>\n",
       "      <td>Independent</td>\n",
       "      <td>...</td>\n",
       "      <td>No</td>\n",
       "      <td>No</td>\n",
       "      <td>No</td>\n",
       "      <td>No</td>\n",
       "      <td>23</td>\n",
       "      <td>3</td>\n",
       "      <td>Cash</td>\n",
       "      <td>Yes</td>\n",
       "      <td>Wildlife</td>\n",
       "      <td>5304000.0</td>\n",
       "    </tr>\n",
       "    <tr>\n",
       "      <th>1031</th>\n",
       "      <td>tour_2266</td>\n",
       "      <td>North Africa</td>\n",
       "      <td>25-44</td>\n",
       "      <td>Friends/Relatives</td>\n",
       "      <td>0.0</td>\n",
       "      <td>2.0</td>\n",
       "      <td>Leisure and Holidays</td>\n",
       "      <td>Conference tourism</td>\n",
       "      <td>Travel, agent, tour operator</td>\n",
       "      <td>Package Tour</td>\n",
       "      <td>...</td>\n",
       "      <td>Yes</td>\n",
       "      <td>Yes</td>\n",
       "      <td>Yes</td>\n",
       "      <td>No</td>\n",
       "      <td>14</td>\n",
       "      <td>0</td>\n",
       "      <td>Cash</td>\n",
       "      <td>Yes</td>\n",
       "      <td>Good service</td>\n",
       "      <td>10856625.0</td>\n",
       "    </tr>\n",
       "    <tr>\n",
       "      <th>1396</th>\n",
       "      <td>tour_2718</td>\n",
       "      <td>North Africa</td>\n",
       "      <td>25-44</td>\n",
       "      <td>Spouse</td>\n",
       "      <td>2.0</td>\n",
       "      <td>0.0</td>\n",
       "      <td>Meetings and Conference</td>\n",
       "      <td>Conference tourism</td>\n",
       "      <td>Friends, relatives</td>\n",
       "      <td>Package Tour</td>\n",
       "      <td>...</td>\n",
       "      <td>No</td>\n",
       "      <td>No</td>\n",
       "      <td>Yes</td>\n",
       "      <td>No</td>\n",
       "      <td>10</td>\n",
       "      <td>0</td>\n",
       "      <td>Cash</td>\n",
       "      <td>No</td>\n",
       "      <td>Wonderful Country, Landscape, Nature</td>\n",
       "      <td>3978000.0</td>\n",
       "    </tr>\n",
       "    <tr>\n",
       "      <th>2042</th>\n",
       "      <td>tour_3482</td>\n",
       "      <td>North Africa</td>\n",
       "      <td>25-44</td>\n",
       "      <td>NaN</td>\n",
       "      <td>0.0</td>\n",
       "      <td>1.0</td>\n",
       "      <td>Leisure and Holidays</td>\n",
       "      <td>Conference tourism</td>\n",
       "      <td>Travel, agent, tour operator</td>\n",
       "      <td>Independent</td>\n",
       "      <td>...</td>\n",
       "      <td>No</td>\n",
       "      <td>No</td>\n",
       "      <td>No</td>\n",
       "      <td>No</td>\n",
       "      <td>14</td>\n",
       "      <td>0</td>\n",
       "      <td>Cash</td>\n",
       "      <td>Yes</td>\n",
       "      <td>Wonderful Country, Landscape, Nature</td>\n",
       "      <td>4143750.0</td>\n",
       "    </tr>\n",
       "    <tr>\n",
       "      <th>2852</th>\n",
       "      <td>tour_4473</td>\n",
       "      <td>North Africa</td>\n",
       "      <td>25-44</td>\n",
       "      <td>Spouse</td>\n",
       "      <td>1.0</td>\n",
       "      <td>1.0</td>\n",
       "      <td>Leisure and Holidays</td>\n",
       "      <td>Beach tourism</td>\n",
       "      <td>Friends, relatives</td>\n",
       "      <td>Independent</td>\n",
       "      <td>...</td>\n",
       "      <td>No</td>\n",
       "      <td>No</td>\n",
       "      <td>No</td>\n",
       "      <td>No</td>\n",
       "      <td>0</td>\n",
       "      <td>6</td>\n",
       "      <td>Cash</td>\n",
       "      <td>Yes</td>\n",
       "      <td>Wonderful Country, Landscape, Nature</td>\n",
       "      <td>3315000.0</td>\n",
       "    </tr>\n",
       "    <tr>\n",
       "      <th>4753</th>\n",
       "      <td>tour_928</td>\n",
       "      <td>North Africa</td>\n",
       "      <td>25-44</td>\n",
       "      <td>Alone</td>\n",
       "      <td>1.0</td>\n",
       "      <td>0.0</td>\n",
       "      <td>Leisure and Holidays</td>\n",
       "      <td>Wildlife tourism</td>\n",
       "      <td>Friends, relatives</td>\n",
       "      <td>Independent</td>\n",
       "      <td>...</td>\n",
       "      <td>No</td>\n",
       "      <td>No</td>\n",
       "      <td>No</td>\n",
       "      <td>No</td>\n",
       "      <td>5</td>\n",
       "      <td>5</td>\n",
       "      <td>Cash</td>\n",
       "      <td>Yes</td>\n",
       "      <td>Excellent Experience</td>\n",
       "      <td>1657500.0</td>\n",
       "    </tr>\n",
       "  </tbody>\n",
       "</table>\n",
       "<p>12 rows × 23 columns</p>\n",
       "</div>"
      ],
      "text/plain": [
       "             ID       country            age_group        travel_with  \\\n",
       "23     tour_103  North Africa                25-44             Spouse   \n",
       "33    tour_1040  North Africa  2022-01-24 00:00:00              Alone   \n",
       "242   tour_1305  North Africa                45-64              Alone   \n",
       "488   tour_1601  North Africa                25-44              Alone   \n",
       "548   tour_1681  North Africa                25-44  Friends/Relatives   \n",
       "768    tour_194  North Africa                25-44              Alone   \n",
       "778    tour_195  North Africa                25-44                NaN   \n",
       "1031  tour_2266  North Africa                25-44  Friends/Relatives   \n",
       "1396  tour_2718  North Africa                25-44             Spouse   \n",
       "2042  tour_3482  North Africa                25-44                NaN   \n",
       "2852  tour_4473  North Africa                25-44             Spouse   \n",
       "4753   tour_928  North Africa                25-44              Alone   \n",
       "\n",
       "      total_female  total_male                         purpose  \\\n",
       "23             1.0         1.0            Leisure and Holidays   \n",
       "33             0.0         1.0  Visiting Friends and Relatives   \n",
       "242            0.0         1.0            Leisure and Holidays   \n",
       "488            1.0         0.0            Leisure and Holidays   \n",
       "548            5.0         0.0  Visiting Friends and Relatives   \n",
       "768            1.0         0.0  Visiting Friends and Relatives   \n",
       "778            1.0         1.0            Leisure and Holidays   \n",
       "1031           0.0         2.0            Leisure and Holidays   \n",
       "1396           2.0         0.0         Meetings and Conference   \n",
       "2042           0.0         1.0            Leisure and Holidays   \n",
       "2852           1.0         1.0            Leisure and Holidays   \n",
       "4753           1.0         0.0            Leisure and Holidays   \n",
       "\n",
       "           main_activity                     info_source tour_arrangement  \\\n",
       "23         Beach tourism                  Radio, TV, Web      Independent   \n",
       "33         Bird watching    Travel, agent, tour operator     Package Tour   \n",
       "242     Wildlife tourism         Tanzania Mission Abroad      Independent   \n",
       "488     Wildlife tourism              Friends, relatives      Independent   \n",
       "548     Wildlife tourism              Friends, relatives      Independent   \n",
       "768        Beach tourism              Friends, relatives      Independent   \n",
       "778     Wildlife tourism  Newspaper, magazines,brochures      Independent   \n",
       "1031  Conference tourism    Travel, agent, tour operator     Package Tour   \n",
       "1396  Conference tourism              Friends, relatives     Package Tour   \n",
       "2042  Conference tourism    Travel, agent, tour operator      Independent   \n",
       "2852       Beach tourism              Friends, relatives      Independent   \n",
       "4753    Wildlife tourism              Friends, relatives      Independent   \n",
       "\n",
       "      ... package_transport_tz package_sightseeing package_guided_tour  \\\n",
       "23    ...                   No                  No                  No   \n",
       "33    ...                   No                  No                  No   \n",
       "242   ...                   No                  No                  No   \n",
       "488   ...                   No                  No                  No   \n",
       "548   ...                   No                  No                  No   \n",
       "768   ...                   No                  No                  No   \n",
       "778   ...                   No                  No                  No   \n",
       "1031  ...                  Yes                 Yes                 Yes   \n",
       "1396  ...                   No                  No                 Yes   \n",
       "2042  ...                   No                  No                  No   \n",
       "2852  ...                   No                  No                  No   \n",
       "4753  ...                   No                  No                  No   \n",
       "\n",
       "     package_insurance night_mainland night_zanzibar payment_mode  \\\n",
       "23                  No              0             11         Cash   \n",
       "33                  No              2              0         Cash   \n",
       "242                 No              4              0         Cash   \n",
       "488                 No              7              7         Cash   \n",
       "548                 No             15             10         Cash   \n",
       "768                 No              1              0         Cash   \n",
       "778                 No             23              3         Cash   \n",
       "1031                No             14              0         Cash   \n",
       "1396                No             10              0         Cash   \n",
       "2042                No             14              0         Cash   \n",
       "2852                No              0              6         Cash   \n",
       "4753                No              5              5         Cash   \n",
       "\n",
       "      first_trip_tz                       most_impressing  total_cost  \n",
       "23              Yes                              Wildlife   3734347.5  \n",
       "33              Yes                           No comments   2320500.0  \n",
       "242              No                           No comments    994500.0  \n",
       "488             Yes                           No comments   4143750.0  \n",
       "548              No  Wonderful Country, Landscape, Nature    828750.0  \n",
       "768             Yes                       Friendly People   3315000.0  \n",
       "778             Yes                              Wildlife   5304000.0  \n",
       "1031            Yes                          Good service  10856625.0  \n",
       "1396             No  Wonderful Country, Landscape, Nature   3978000.0  \n",
       "2042            Yes  Wonderful Country, Landscape, Nature   4143750.0  \n",
       "2852            Yes  Wonderful Country, Landscape, Nature   3315000.0  \n",
       "4753            Yes                  Excellent Experience   1657500.0  \n",
       "\n",
       "[12 rows x 23 columns]"
      ]
     },
     "execution_count": 106,
     "metadata": {},
     "output_type": "execute_result"
    }
   ],
   "source": [
    "east"
   ]
  },
  {
   "cell_type": "markdown",
   "id": "15ca4774-33a7-46c8-9f57-8a706bdb1d43",
   "metadata": {},
   "source": [
    "## Southern Africa"
   ]
  },
  {
   "cell_type": "code",
   "execution_count": 107,
   "id": "c6075b28-b945-4a08-9f9f-a20499365c1f",
   "metadata": {},
   "outputs": [
    {
     "name": "stderr",
     "output_type": "stream",
     "text": [
      "C:\\Users\\Kofi\\AppData\\Local\\Temp/ipykernel_8112/954712956.py:1: DeprecationWarning: find_element_by_xpath is deprecated. Please use find_element(by=By.XPATH, value=xpath) instead\n",
      "  i = driver.find_element_by_xpath(\"(//tbody)[4]\")\n"
     ]
    }
   ],
   "source": [
    "i = driver.find_element_by_xpath(\"(//tbody)[4]\")"
   ]
  },
  {
   "cell_type": "code",
   "execution_count": null,
   "id": "0bfd32ba-bfef-4b16-a9c1-e84a69a1595f",
   "metadata": {},
   "outputs": [],
   "source": []
  },
  {
   "cell_type": "code",
   "execution_count": 108,
   "id": "aa11333d-76e7-4d31-87f6-401745428026",
   "metadata": {},
   "outputs": [],
   "source": [
    "text = i.text\n",
    "#(//tbody)[1]"
   ]
  },
  {
   "cell_type": "code",
   "execution_count": 109,
   "id": "333944a7-d2c3-4db2-adcf-ad920699af98",
   "metadata": {},
   "outputs": [
    {
     "data": {
      "text/plain": [
       "str"
      ]
     },
     "execution_count": 109,
     "metadata": {},
     "output_type": "execute_result"
    }
   ],
   "source": [
    "type(text)"
   ]
  },
  {
   "cell_type": "code",
   "execution_count": 110,
   "id": "8f5fa5fd-da04-44bb-b565-2c8246044b9b",
   "metadata": {},
   "outputs": [],
   "source": [
    "rep = text.replace(\"\\n\", \". \")"
   ]
  },
  {
   "cell_type": "code",
   "execution_count": 111,
   "id": "bbee28a8-3a1b-4eab-9524-417345046d56",
   "metadata": {},
   "outputs": [],
   "source": [
    "import re\n",
    "expression = re.compile(r'([A-Z][^\\.!?]*[\\.!?])')\n",
    "new_list = re.findall(expression, rep)"
   ]
  },
  {
   "cell_type": "code",
   "execution_count": 112,
   "id": "eb672e3a-143c-4989-a0c0-1454a32f0db4",
   "metadata": {},
   "outputs": [
    {
     "data": {
      "text/plain": [
       "['Member State  Abbreviation Date of joining.',\n",
       " 'OAU or AU.',\n",
       " 'Republic of Angola   Angola 11 February 1975.',\n",
       " 'Republic of Botswana   Botswana 31 October 1966.',\n",
       " 'Kingdom of Eswatini   Eswatini 24 September 1968.',\n",
       " 'Kingdom of Lesotho   Lesotho 31 October 1966.',\n",
       " 'Republic of Malawi   Malawi 13 July 1964.',\n",
       " 'Republic of Mozambique   Mozambique 18 July 1975.',\n",
       " 'Republic of Namibia   Namibia June 1990.',\n",
       " 'Republic of South Africa  South Africa 6 June 1994.',\n",
       " 'Republic of Zambia   Zambia 16 December 1964.']"
      ]
     },
     "execution_count": 112,
     "metadata": {},
     "output_type": "execute_result"
    }
   ],
   "source": [
    "new_list"
   ]
  },
  {
   "cell_type": "code",
   "execution_count": null,
   "id": "76abdae1-79bc-449d-bce7-17cfd38a3e3b",
   "metadata": {},
   "outputs": [],
   "source": []
  },
  {
   "cell_type": "code",
   "execution_count": 113,
   "id": "23b1fa60-e672-4bf5-b488-afe553714653",
   "metadata": {},
   "outputs": [],
   "source": [
    "converted_list = [x.upper() for x in new_list]"
   ]
  },
  {
   "cell_type": "code",
   "execution_count": 114,
   "id": "5bbef3b9-4237-4bcf-ad8c-5ee3493a585e",
   "metadata": {},
   "outputs": [
    {
     "data": {
      "text/plain": [
       "['MEMBER STATE  ABBREVIATION DATE OF JOINING.',\n",
       " 'OAU OR AU.',\n",
       " 'REPUBLIC OF ANGOLA   ANGOLA 11 FEBRUARY 1975.',\n",
       " 'REPUBLIC OF BOTSWANA   BOTSWANA 31 OCTOBER 1966.',\n",
       " 'KINGDOM OF ESWATINI   ESWATINI 24 SEPTEMBER 1968.',\n",
       " 'KINGDOM OF LESOTHO   LESOTHO 31 OCTOBER 1966.',\n",
       " 'REPUBLIC OF MALAWI   MALAWI 13 JULY 1964.',\n",
       " 'REPUBLIC OF MOZAMBIQUE   MOZAMBIQUE 18 JULY 1975.',\n",
       " 'REPUBLIC OF NAMIBIA   NAMIBIA JUNE 1990.',\n",
       " 'REPUBLIC OF SOUTH AFRICA  SOUTH AFRICA 6 JUNE 1994.',\n",
       " 'REPUBLIC OF ZAMBIA   ZAMBIA 16 DECEMBER 1964.']"
      ]
     },
     "execution_count": 114,
     "metadata": {},
     "output_type": "execute_result"
    }
   ],
   "source": [
    "converted_list"
   ]
  },
  {
   "cell_type": "code",
   "execution_count": null,
   "id": "d87a2976-3730-40ae-92e2-ce6f79382a06",
   "metadata": {},
   "outputs": [],
   "source": []
  },
  {
   "cell_type": "code",
   "execution_count": 115,
   "id": "709f2228-dabb-4e41-9c42-6d2946a8f3e8",
   "metadata": {},
   "outputs": [],
   "source": [
    "co = str(converted_list)"
   ]
  },
  {
   "cell_type": "code",
   "execution_count": 116,
   "id": "0a445bf4-ee6a-4169-95eb-bbdeb70e17d7",
   "metadata": {},
   "outputs": [],
   "source": [
    "from itertools import chain"
   ]
  },
  {
   "cell_type": "code",
   "execution_count": 117,
   "id": "2bd992f9-9807-407c-b971-dd37d3afa8c1",
   "metadata": {},
   "outputs": [],
   "source": [
    "coming = ' '.join(str(v) for v in converted_list)"
   ]
  },
  {
   "cell_type": "code",
   "execution_count": 118,
   "id": "a63d4743-e1aa-4b66-82d4-cbfd424541ad",
   "metadata": {},
   "outputs": [
    {
     "data": {
      "text/plain": [
       "'MEMBER STATE  ABBREVIATION DATE OF JOINING. OAU OR AU. REPUBLIC OF ANGOLA   ANGOLA 11 FEBRUARY 1975. REPUBLIC OF BOTSWANA   BOTSWANA 31 OCTOBER 1966. KINGDOM OF ESWATINI   ESWATINI 24 SEPTEMBER 1968. KINGDOM OF LESOTHO   LESOTHO 31 OCTOBER 1966. REPUBLIC OF MALAWI   MALAWI 13 JULY 1964. REPUBLIC OF MOZAMBIQUE   MOZAMBIQUE 18 JULY 1975. REPUBLIC OF NAMIBIA   NAMIBIA JUNE 1990. REPUBLIC OF SOUTH AFRICA  SOUTH AFRICA 6 JUNE 1994. REPUBLIC OF ZAMBIA   ZAMBIA 16 DECEMBER 1964.'"
      ]
     },
     "execution_count": 118,
     "metadata": {},
     "output_type": "execute_result"
    }
   ],
   "source": [
    "coming"
   ]
  },
  {
   "cell_type": "code",
   "execution_count": 119,
   "id": "5200e261-1da0-4c98-9eba-be7f19141619",
   "metadata": {},
   "outputs": [],
   "source": [
    "come = coming.replace(\".\", \"\")\n",
    "com = come.replace(\"REPUBLIC\", \"\")\n",
    "come= com.replace(\"OF\", \"\")\n"
   ]
  },
  {
   "cell_type": "code",
   "execution_count": 120,
   "id": "76edc6c0-dff8-4876-82a0-1d3a3f92c1e4",
   "metadata": {},
   "outputs": [
    {
     "data": {
      "text/plain": [
       "'MEMBER STATE  ABBREVIATION DATE  JOINING OAU OR AU   ANGOLA   ANGOLA 11 FEBRUARY 1975   BOTSWANA   BOTSWANA 31 OCTOBER 1966 KINGDOM  ESWATINI   ESWATINI 24 SEPTEMBER 1968 KINGDOM  LESOTHO   LESOTHO 31 OCTOBER 1966   MALAWI   MALAWI 13 JULY 1964   MOZAMBIQUE   MOZAMBIQUE 18 JULY 1975   NAMIBIA   NAMIBIA JUNE 1990   SOUTH AFRICA  SOUTH AFRICA 6 JUNE 1994   ZAMBIA   ZAMBIA 16 DECEMBER 1964'"
      ]
     },
     "execution_count": 120,
     "metadata": {},
     "output_type": "execute_result"
    }
   ],
   "source": [
    "come"
   ]
  },
  {
   "cell_type": "code",
   "execution_count": 121,
   "id": "9c74f2cb-65be-4856-95d3-f3144777fd7d",
   "metadata": {},
   "outputs": [],
   "source": [
    "# i need to get the intersection of countries"
   ]
  },
  {
   "cell_type": "code",
   "execution_count": null,
   "id": "b7c7c1c4-4241-4382-9d04-53ab61a36e17",
   "metadata": {},
   "outputs": [],
   "source": []
  },
  {
   "cell_type": "code",
   "execution_count": 122,
   "id": "2b4b9170-e35e-4ab9-b997-5bc595565663",
   "metadata": {},
   "outputs": [],
   "source": [
    "#movi\n",
    "#come\n",
    "\n",
    "read = set(result.split()) & set(come.split())"
   ]
  },
  {
   "cell_type": "code",
   "execution_count": 123,
   "id": "b6c9e7fc-4978-4540-ab93-ad7f2afe17a3",
   "metadata": {},
   "outputs": [],
   "source": [
    "readd = list(read)"
   ]
  },
  {
   "cell_type": "code",
   "execution_count": 124,
   "id": "1fc361c2-af5a-4530-ba12-8293a2dc87be",
   "metadata": {},
   "outputs": [
    {
     "data": {
      "text/plain": [
       "['AFRICA',\n",
       " 'SOUTH',\n",
       " 'MALAWI',\n",
       " 'ANGOLA',\n",
       " 'ZAMBIA',\n",
       " 'KINGDOM',\n",
       " 'LESOTHO',\n",
       " 'MOZAMBIQUE',\n",
       " 'NAMIBIA']"
      ]
     },
     "execution_count": 124,
     "metadata": {},
     "output_type": "execute_result"
    }
   ],
   "source": [
    "readd"
   ]
  },
  {
   "cell_type": "code",
   "execution_count": 125,
   "id": "e0fccb4a-00c4-497a-b3e7-02917db4660e",
   "metadata": {},
   "outputs": [],
   "source": [
    "i = len(readd)"
   ]
  },
  {
   "cell_type": "code",
   "execution_count": 126,
   "id": "acbbcff9-d027-41ac-82b4-b89842a60e8d",
   "metadata": {},
   "outputs": [],
   "source": [
    "matches = []\n",
    "\n",
    "for match in list1:\n",
    "    if readd[i-1] in match:\n",
    "        matches.append(match)\n",
    "        i-=1"
   ]
  },
  {
   "cell_type": "code",
   "execution_count": 127,
   "id": "7f854cc1-721e-432a-93ae-cbff3be637f3",
   "metadata": {},
   "outputs": [
    {
     "data": {
      "text/plain": [
       "list"
      ]
     },
     "execution_count": 127,
     "metadata": {},
     "output_type": "execute_result"
    }
   ],
   "source": [
    "type(matches)"
   ]
  },
  {
   "cell_type": "code",
   "execution_count": 128,
   "id": "d2ca36f4-b8e2-4129-af25-aaa77ce56489",
   "metadata": {},
   "outputs": [],
   "source": [
    "i = len(readd)"
   ]
  },
  {
   "cell_type": "code",
   "execution_count": 129,
   "id": "bb6f3fb5-55ca-4aa9-9140-819680bd168d",
   "metadata": {},
   "outputs": [
    {
     "data": {
      "text/plain": [
       "9"
      ]
     },
     "execution_count": 129,
     "metadata": {},
     "output_type": "execute_result"
    }
   ],
   "source": [
    "i"
   ]
  },
  {
   "cell_type": "code",
   "execution_count": 130,
   "id": "33942224-d671-45f8-9047-be4c59d6ec7e",
   "metadata": {},
   "outputs": [
    {
     "data": {
      "text/plain": [
       "'NAMIBIA'"
      ]
     },
     "execution_count": 130,
     "metadata": {},
     "output_type": "execute_result"
    }
   ],
   "source": [
    "readd[i-1]"
   ]
  },
  {
   "cell_type": "code",
   "execution_count": 131,
   "id": "508ea21f-ceaf-46d4-a1f0-7209792c8ccb",
   "metadata": {},
   "outputs": [
    {
     "data": {
      "text/plain": [
       "pandas.core.frame.DataFrame"
      ]
     },
     "execution_count": 131,
     "metadata": {},
     "output_type": "execute_result"
    }
   ],
   "source": [
    "type(df)"
   ]
  },
  {
   "cell_type": "code",
   "execution_count": 132,
   "id": "dacadcec-3a60-4d8a-8d6c-11ace05ade28",
   "metadata": {},
   "outputs": [],
   "source": [
    "df['country'] = df['country'].replace(readd,'South Africa')\n"
   ]
  },
  {
   "cell_type": "code",
   "execution_count": null,
   "id": "2fe2c9ea-31eb-410c-bc5c-90f96c0c7699",
   "metadata": {},
   "outputs": [],
   "source": []
  },
  {
   "cell_type": "code",
   "execution_count": 133,
   "id": "a8deec4d-ae49-4eb8-a239-00d24ad30fff",
   "metadata": {},
   "outputs": [],
   "source": [
    "south = df[df['country'] == 'South Africa' ]\n",
    "#i=df[df[‘Name’]==’Will’]\n",
    "#print(i)"
   ]
  },
  {
   "cell_type": "code",
   "execution_count": 134,
   "id": "0465faab-3f75-486d-93c6-82c52af43a8f",
   "metadata": {},
   "outputs": [
    {
     "data": {
      "text/html": [
       "<div>\n",
       "<style scoped>\n",
       "    .dataframe tbody tr th:only-of-type {\n",
       "        vertical-align: middle;\n",
       "    }\n",
       "\n",
       "    .dataframe tbody tr th {\n",
       "        vertical-align: top;\n",
       "    }\n",
       "\n",
       "    .dataframe thead th {\n",
       "        text-align: right;\n",
       "    }\n",
       "</style>\n",
       "<table border=\"1\" class=\"dataframe\">\n",
       "  <thead>\n",
       "    <tr style=\"text-align: right;\">\n",
       "      <th></th>\n",
       "      <th>ID</th>\n",
       "      <th>country</th>\n",
       "      <th>age_group</th>\n",
       "      <th>travel_with</th>\n",
       "      <th>total_female</th>\n",
       "      <th>total_male</th>\n",
       "      <th>purpose</th>\n",
       "      <th>main_activity</th>\n",
       "      <th>info_source</th>\n",
       "      <th>tour_arrangement</th>\n",
       "      <th>...</th>\n",
       "      <th>package_transport_tz</th>\n",
       "      <th>package_sightseeing</th>\n",
       "      <th>package_guided_tour</th>\n",
       "      <th>package_insurance</th>\n",
       "      <th>night_mainland</th>\n",
       "      <th>night_zanzibar</th>\n",
       "      <th>payment_mode</th>\n",
       "      <th>first_trip_tz</th>\n",
       "      <th>most_impressing</th>\n",
       "      <th>total_cost</th>\n",
       "    </tr>\n",
       "  </thead>\n",
       "  <tbody>\n",
       "    <tr>\n",
       "      <th>14</th>\n",
       "      <td>tour_1018</td>\n",
       "      <td>South Africa</td>\n",
       "      <td>25-44</td>\n",
       "      <td>Alone</td>\n",
       "      <td>0.0</td>\n",
       "      <td>1.0</td>\n",
       "      <td>Visiting Friends and Relatives</td>\n",
       "      <td>Beach tourism</td>\n",
       "      <td>Friends, relatives</td>\n",
       "      <td>Independent</td>\n",
       "      <td>...</td>\n",
       "      <td>No</td>\n",
       "      <td>No</td>\n",
       "      <td>No</td>\n",
       "      <td>No</td>\n",
       "      <td>2</td>\n",
       "      <td>0</td>\n",
       "      <td>Cash</td>\n",
       "      <td>Yes</td>\n",
       "      <td>Wildlife</td>\n",
       "      <td>497250.0</td>\n",
       "    </tr>\n",
       "    <tr>\n",
       "      <th>36</th>\n",
       "      <td>tour_1043</td>\n",
       "      <td>South Africa</td>\n",
       "      <td>2022-01-24 00:00:00</td>\n",
       "      <td>Alone</td>\n",
       "      <td>1.0</td>\n",
       "      <td>0.0</td>\n",
       "      <td>Visiting Friends and Relatives</td>\n",
       "      <td>Hunting tourism</td>\n",
       "      <td>Friends, relatives</td>\n",
       "      <td>Independent</td>\n",
       "      <td>...</td>\n",
       "      <td>No</td>\n",
       "      <td>No</td>\n",
       "      <td>No</td>\n",
       "      <td>No</td>\n",
       "      <td>3</td>\n",
       "      <td>0</td>\n",
       "      <td>Cash</td>\n",
       "      <td>Yes</td>\n",
       "      <td>Excellent Experience</td>\n",
       "      <td>663000.0</td>\n",
       "    </tr>\n",
       "    <tr>\n",
       "      <th>39</th>\n",
       "      <td>tour_1047</td>\n",
       "      <td>South Africa</td>\n",
       "      <td>25-44</td>\n",
       "      <td>Alone</td>\n",
       "      <td>0.0</td>\n",
       "      <td>1.0</td>\n",
       "      <td>Meetings and Conference</td>\n",
       "      <td>Beach tourism</td>\n",
       "      <td>Friends, relatives</td>\n",
       "      <td>Independent</td>\n",
       "      <td>...</td>\n",
       "      <td>No</td>\n",
       "      <td>No</td>\n",
       "      <td>No</td>\n",
       "      <td>No</td>\n",
       "      <td>21</td>\n",
       "      <td>0</td>\n",
       "      <td>Credit Card</td>\n",
       "      <td>No</td>\n",
       "      <td>Friendly People</td>\n",
       "      <td>3000000.0</td>\n",
       "    </tr>\n",
       "    <tr>\n",
       "      <th>100</th>\n",
       "      <td>tour_1123</td>\n",
       "      <td>South Africa</td>\n",
       "      <td>45-64</td>\n",
       "      <td>Friends/Relatives</td>\n",
       "      <td>1.0</td>\n",
       "      <td>1.0</td>\n",
       "      <td>Meetings and Conference</td>\n",
       "      <td>Mountain climbing</td>\n",
       "      <td>Friends, relatives</td>\n",
       "      <td>Independent</td>\n",
       "      <td>...</td>\n",
       "      <td>No</td>\n",
       "      <td>No</td>\n",
       "      <td>No</td>\n",
       "      <td>No</td>\n",
       "      <td>7</td>\n",
       "      <td>0</td>\n",
       "      <td>Cash</td>\n",
       "      <td>Yes</td>\n",
       "      <td>Friendly People</td>\n",
       "      <td>414375.0</td>\n",
       "    </tr>\n",
       "    <tr>\n",
       "      <th>200</th>\n",
       "      <td>tour_1244</td>\n",
       "      <td>South Africa</td>\n",
       "      <td>25-44</td>\n",
       "      <td>NaN</td>\n",
       "      <td>1.0</td>\n",
       "      <td>0.0</td>\n",
       "      <td>Meetings and Conference</td>\n",
       "      <td>Mountain climbing</td>\n",
       "      <td>Travel, agent, tour operator</td>\n",
       "      <td>Package Tour</td>\n",
       "      <td>...</td>\n",
       "      <td>Yes</td>\n",
       "      <td>No</td>\n",
       "      <td>No</td>\n",
       "      <td>No</td>\n",
       "      <td>6</td>\n",
       "      <td>0</td>\n",
       "      <td>Cash</td>\n",
       "      <td>Yes</td>\n",
       "      <td>Wildlife</td>\n",
       "      <td>4806750.0</td>\n",
       "    </tr>\n",
       "    <tr>\n",
       "      <th>...</th>\n",
       "      <td>...</td>\n",
       "      <td>...</td>\n",
       "      <td>...</td>\n",
       "      <td>...</td>\n",
       "      <td>...</td>\n",
       "      <td>...</td>\n",
       "      <td>...</td>\n",
       "      <td>...</td>\n",
       "      <td>...</td>\n",
       "      <td>...</td>\n",
       "      <td>...</td>\n",
       "      <td>...</td>\n",
       "      <td>...</td>\n",
       "      <td>...</td>\n",
       "      <td>...</td>\n",
       "      <td>...</td>\n",
       "      <td>...</td>\n",
       "      <td>...</td>\n",
       "      <td>...</td>\n",
       "      <td>...</td>\n",
       "      <td>...</td>\n",
       "    </tr>\n",
       "    <tr>\n",
       "      <th>4519</th>\n",
       "      <td>tour_6468</td>\n",
       "      <td>South Africa</td>\n",
       "      <td>45-64</td>\n",
       "      <td>NaN</td>\n",
       "      <td>1.0</td>\n",
       "      <td>0.0</td>\n",
       "      <td>Business</td>\n",
       "      <td>Beach tourism</td>\n",
       "      <td>Radio, TV, Web</td>\n",
       "      <td>Independent</td>\n",
       "      <td>...</td>\n",
       "      <td>No</td>\n",
       "      <td>No</td>\n",
       "      <td>No</td>\n",
       "      <td>No</td>\n",
       "      <td>3</td>\n",
       "      <td>0</td>\n",
       "      <td>Cash</td>\n",
       "      <td>No</td>\n",
       "      <td>Excellent Experience</td>\n",
       "      <td>491600.0</td>\n",
       "    </tr>\n",
       "    <tr>\n",
       "      <th>4520</th>\n",
       "      <td>tour_6469</td>\n",
       "      <td>South Africa</td>\n",
       "      <td>25-44</td>\n",
       "      <td>Alone</td>\n",
       "      <td>0.0</td>\n",
       "      <td>1.0</td>\n",
       "      <td>Business</td>\n",
       "      <td>Wildlife tourism</td>\n",
       "      <td>Friends, relatives</td>\n",
       "      <td>Independent</td>\n",
       "      <td>...</td>\n",
       "      <td>No</td>\n",
       "      <td>No</td>\n",
       "      <td>No</td>\n",
       "      <td>No</td>\n",
       "      <td>3</td>\n",
       "      <td>0</td>\n",
       "      <td>Cash</td>\n",
       "      <td>No</td>\n",
       "      <td>NaN</td>\n",
       "      <td>140000.0</td>\n",
       "    </tr>\n",
       "    <tr>\n",
       "      <th>4646</th>\n",
       "      <td>tour_8</td>\n",
       "      <td>South Africa</td>\n",
       "      <td>45-64</td>\n",
       "      <td>Spouse</td>\n",
       "      <td>1.0</td>\n",
       "      <td>2.0</td>\n",
       "      <td>Other</td>\n",
       "      <td>Conference tourism</td>\n",
       "      <td>Friends, relatives</td>\n",
       "      <td>Independent</td>\n",
       "      <td>...</td>\n",
       "      <td>No</td>\n",
       "      <td>No</td>\n",
       "      <td>No</td>\n",
       "      <td>No</td>\n",
       "      <td>3</td>\n",
       "      <td>0</td>\n",
       "      <td>Cash</td>\n",
       "      <td>No</td>\n",
       "      <td>No comments</td>\n",
       "      <td>2652000.0</td>\n",
       "    </tr>\n",
       "    <tr>\n",
       "      <th>4658</th>\n",
       "      <td>tour_810</td>\n",
       "      <td>South Africa</td>\n",
       "      <td>25-44</td>\n",
       "      <td>NaN</td>\n",
       "      <td>0.0</td>\n",
       "      <td>1.0</td>\n",
       "      <td>Meetings and Conference</td>\n",
       "      <td>Mountain climbing</td>\n",
       "      <td>Friends, relatives</td>\n",
       "      <td>Independent</td>\n",
       "      <td>...</td>\n",
       "      <td>No</td>\n",
       "      <td>No</td>\n",
       "      <td>No</td>\n",
       "      <td>No</td>\n",
       "      <td>3</td>\n",
       "      <td>0</td>\n",
       "      <td>Cash</td>\n",
       "      <td>Yes</td>\n",
       "      <td>Wildlife</td>\n",
       "      <td>165750.0</td>\n",
       "    </tr>\n",
       "    <tr>\n",
       "      <th>4710</th>\n",
       "      <td>tour_87</td>\n",
       "      <td>South Africa</td>\n",
       "      <td>25-44</td>\n",
       "      <td>NaN</td>\n",
       "      <td>0.0</td>\n",
       "      <td>1.0</td>\n",
       "      <td>Meetings and Conference</td>\n",
       "      <td>Beach tourism</td>\n",
       "      <td>Travel, agent, tour operator</td>\n",
       "      <td>Package Tour</td>\n",
       "      <td>...</td>\n",
       "      <td>No</td>\n",
       "      <td>No</td>\n",
       "      <td>No</td>\n",
       "      <td>No</td>\n",
       "      <td>2</td>\n",
       "      <td>0</td>\n",
       "      <td>Cash</td>\n",
       "      <td>No</td>\n",
       "      <td>Friendly People</td>\n",
       "      <td>331500.0</td>\n",
       "    </tr>\n",
       "  </tbody>\n",
       "</table>\n",
       "<p>223 rows × 23 columns</p>\n",
       "</div>"
      ],
      "text/plain": [
       "             ID       country            age_group        travel_with  \\\n",
       "14    tour_1018  South Africa                25-44              Alone   \n",
       "36    tour_1043  South Africa  2022-01-24 00:00:00              Alone   \n",
       "39    tour_1047  South Africa                25-44              Alone   \n",
       "100   tour_1123  South Africa                45-64  Friends/Relatives   \n",
       "200   tour_1244  South Africa                25-44                NaN   \n",
       "...         ...           ...                  ...                ...   \n",
       "4519  tour_6468  South Africa                45-64                NaN   \n",
       "4520  tour_6469  South Africa                25-44              Alone   \n",
       "4646     tour_8  South Africa                45-64             Spouse   \n",
       "4658   tour_810  South Africa                25-44                NaN   \n",
       "4710    tour_87  South Africa                25-44                NaN   \n",
       "\n",
       "      total_female  total_male                         purpose  \\\n",
       "14             0.0         1.0  Visiting Friends and Relatives   \n",
       "36             1.0         0.0  Visiting Friends and Relatives   \n",
       "39             0.0         1.0         Meetings and Conference   \n",
       "100            1.0         1.0         Meetings and Conference   \n",
       "200            1.0         0.0         Meetings and Conference   \n",
       "...            ...         ...                             ...   \n",
       "4519           1.0         0.0                        Business   \n",
       "4520           0.0         1.0                        Business   \n",
       "4646           1.0         2.0                           Other   \n",
       "4658           0.0         1.0         Meetings and Conference   \n",
       "4710           0.0         1.0         Meetings and Conference   \n",
       "\n",
       "           main_activity                   info_source tour_arrangement  ...  \\\n",
       "14         Beach tourism            Friends, relatives      Independent  ...   \n",
       "36       Hunting tourism            Friends, relatives      Independent  ...   \n",
       "39         Beach tourism            Friends, relatives      Independent  ...   \n",
       "100    Mountain climbing            Friends, relatives      Independent  ...   \n",
       "200    Mountain climbing  Travel, agent, tour operator     Package Tour  ...   \n",
       "...                  ...                           ...              ...  ...   \n",
       "4519       Beach tourism                Radio, TV, Web      Independent  ...   \n",
       "4520    Wildlife tourism            Friends, relatives      Independent  ...   \n",
       "4646  Conference tourism            Friends, relatives      Independent  ...   \n",
       "4658   Mountain climbing            Friends, relatives      Independent  ...   \n",
       "4710       Beach tourism  Travel, agent, tour operator     Package Tour  ...   \n",
       "\n",
       "     package_transport_tz package_sightseeing package_guided_tour  \\\n",
       "14                     No                  No                  No   \n",
       "36                     No                  No                  No   \n",
       "39                     No                  No                  No   \n",
       "100                    No                  No                  No   \n",
       "200                   Yes                  No                  No   \n",
       "...                   ...                 ...                 ...   \n",
       "4519                   No                  No                  No   \n",
       "4520                   No                  No                  No   \n",
       "4646                   No                  No                  No   \n",
       "4658                   No                  No                  No   \n",
       "4710                   No                  No                  No   \n",
       "\n",
       "     package_insurance night_mainland night_zanzibar payment_mode  \\\n",
       "14                  No              2              0         Cash   \n",
       "36                  No              3              0         Cash   \n",
       "39                  No             21              0  Credit Card   \n",
       "100                 No              7              0         Cash   \n",
       "200                 No              6              0         Cash   \n",
       "...                ...            ...            ...          ...   \n",
       "4519                No              3              0         Cash   \n",
       "4520                No              3              0         Cash   \n",
       "4646                No              3              0         Cash   \n",
       "4658                No              3              0         Cash   \n",
       "4710                No              2              0         Cash   \n",
       "\n",
       "      first_trip_tz       most_impressing total_cost  \n",
       "14              Yes              Wildlife   497250.0  \n",
       "36              Yes  Excellent Experience   663000.0  \n",
       "39               No       Friendly People  3000000.0  \n",
       "100             Yes       Friendly People   414375.0  \n",
       "200             Yes              Wildlife  4806750.0  \n",
       "...             ...                   ...        ...  \n",
       "4519             No  Excellent Experience   491600.0  \n",
       "4520             No                   NaN   140000.0  \n",
       "4646             No           No comments  2652000.0  \n",
       "4658            Yes              Wildlife   165750.0  \n",
       "4710             No       Friendly People   331500.0  \n",
       "\n",
       "[223 rows x 23 columns]"
      ]
     },
     "execution_count": 134,
     "metadata": {},
     "output_type": "execute_result"
    }
   ],
   "source": [
    "south"
   ]
  },
  {
   "cell_type": "code",
   "execution_count": null,
   "id": "d5f82d89-e4e1-43f7-853e-d9d5ee7cad23",
   "metadata": {},
   "outputs": [],
   "source": []
  },
  {
   "cell_type": "markdown",
   "id": "7a7efd32-d0be-4a07-9c1f-295d9013002b",
   "metadata": {},
   "source": [
    "## West Africa"
   ]
  },
  {
   "cell_type": "code",
   "execution_count": null,
   "id": "676379b6-18f4-4dca-9e44-d9609a97bb2c",
   "metadata": {},
   "outputs": [],
   "source": []
  },
  {
   "cell_type": "code",
   "execution_count": 135,
   "id": "173a6f30-520b-457d-b009-33d21af88ce6",
   "metadata": {},
   "outputs": [
    {
     "name": "stderr",
     "output_type": "stream",
     "text": [
      "C:\\Users\\Kofi\\AppData\\Local\\Temp/ipykernel_8112/3885326720.py:1: DeprecationWarning: find_element_by_xpath is deprecated. Please use find_element(by=By.XPATH, value=xpath) instead\n",
      "  i = driver.find_element_by_xpath(\"(//tbody)[5]\")\n"
     ]
    }
   ],
   "source": [
    "i = driver.find_element_by_xpath(\"(//tbody)[5]\")"
   ]
  },
  {
   "cell_type": "code",
   "execution_count": null,
   "id": "bd947542-3edd-423b-8a97-efb845a1bb0b",
   "metadata": {},
   "outputs": [],
   "source": []
  },
  {
   "cell_type": "code",
   "execution_count": 136,
   "id": "4bc56963-84ef-4eb2-9e44-ca090e97f52d",
   "metadata": {},
   "outputs": [],
   "source": [
    "text = i.text\n",
    "#(//tbody)[1]"
   ]
  },
  {
   "cell_type": "code",
   "execution_count": 137,
   "id": "ef386c3b-f855-410a-a6ed-ebd63eac89a9",
   "metadata": {},
   "outputs": [
    {
     "data": {
      "text/plain": [
       "str"
      ]
     },
     "execution_count": 137,
     "metadata": {},
     "output_type": "execute_result"
    }
   ],
   "source": [
    "type(text)"
   ]
  },
  {
   "cell_type": "code",
   "execution_count": 138,
   "id": "c4b17978-3b80-4333-a2f0-55f1b211102e",
   "metadata": {},
   "outputs": [],
   "source": [
    "rep = text.replace(\"\\n\", \". \")"
   ]
  },
  {
   "cell_type": "code",
   "execution_count": 139,
   "id": "a204c8df-6eab-4ede-b070-64d55393f45f",
   "metadata": {},
   "outputs": [],
   "source": [
    "import re\n",
    "expression = re.compile(r'([A-Z][^\\.!?]*[\\.!?])')\n",
    "new_list = re.findall(expression, rep)"
   ]
  },
  {
   "cell_type": "code",
   "execution_count": 140,
   "id": "1f1deb75-8fc0-4c0f-8b3a-62e51a825985",
   "metadata": {},
   "outputs": [
    {
     "data": {
      "text/plain": [
       "['Member State  Abbreviation  Date of joining.',\n",
       " 'OAU or AU.',\n",
       " 'Republic of Benin   Benin 25 May 1963.',\n",
       " 'Burkina Faso  Burkina Faso 25 May 1963.',\n",
       " 'Republic of Cabo Verde   Cabo Verde 18 July 1975.',\n",
       " 'Republic of Côte d’Ivoire   Côte d’Ivoire 25 May 1963.',\n",
       " 'Republic of the Gambia   Gambia  9 March 1965.',\n",
       " 'Republic of Ghana   Ghana  25 May 1963.',\n",
       " 'Republic of Guinea  Guinea  25 May 1963.',\n",
       " 'Republic of Guinea-Bissau  Guinea-Bissau  19 November 1973.',\n",
       " 'Republic of Liberia  Liberia  25 May 1963.',\n",
       " 'Republic of Mali  Mali  25 May 1963.',\n",
       " 'Republic of Niger  Niger  25 May 1963.',\n",
       " 'Federal Republic of Nigeria  Nigeria  25 May 1963.',\n",
       " 'Republic of Senegal  Senegal  25 May 1963.',\n",
       " 'Republic of Sierra Leone  Sierra Leone  25 May 1963.']"
      ]
     },
     "execution_count": 140,
     "metadata": {},
     "output_type": "execute_result"
    }
   ],
   "source": [
    "new_list"
   ]
  },
  {
   "cell_type": "code",
   "execution_count": null,
   "id": "28518e6e-64af-4ad6-b883-025bcaf75b71",
   "metadata": {},
   "outputs": [],
   "source": []
  },
  {
   "cell_type": "code",
   "execution_count": 141,
   "id": "5adfdda9-be92-415a-b824-7b1764e9c758",
   "metadata": {},
   "outputs": [],
   "source": [
    "converted_list = [x.upper() for x in new_list]"
   ]
  },
  {
   "cell_type": "code",
   "execution_count": 142,
   "id": "80a0281d-642c-442f-8f61-0afd181fdd63",
   "metadata": {},
   "outputs": [
    {
     "data": {
      "text/plain": [
       "['MEMBER STATE  ABBREVIATION  DATE OF JOINING.',\n",
       " 'OAU OR AU.',\n",
       " 'REPUBLIC OF BENIN   BENIN 25 MAY 1963.',\n",
       " 'BURKINA FASO  BURKINA FASO 25 MAY 1963.',\n",
       " 'REPUBLIC OF CABO VERDE   CABO VERDE 18 JULY 1975.',\n",
       " 'REPUBLIC OF CÔTE D’IVOIRE   CÔTE D’IVOIRE 25 MAY 1963.',\n",
       " 'REPUBLIC OF THE GAMBIA   GAMBIA  9 MARCH 1965.',\n",
       " 'REPUBLIC OF GHANA   GHANA  25 MAY 1963.',\n",
       " 'REPUBLIC OF GUINEA  GUINEA  25 MAY 1963.',\n",
       " 'REPUBLIC OF GUINEA-BISSAU  GUINEA-BISSAU  19 NOVEMBER 1973.',\n",
       " 'REPUBLIC OF LIBERIA  LIBERIA  25 MAY 1963.',\n",
       " 'REPUBLIC OF MALI  MALI  25 MAY 1963.',\n",
       " 'REPUBLIC OF NIGER  NIGER  25 MAY 1963.',\n",
       " 'FEDERAL REPUBLIC OF NIGERIA  NIGERIA  25 MAY 1963.',\n",
       " 'REPUBLIC OF SENEGAL  SENEGAL  25 MAY 1963.',\n",
       " 'REPUBLIC OF SIERRA LEONE  SIERRA LEONE  25 MAY 1963.']"
      ]
     },
     "execution_count": 142,
     "metadata": {},
     "output_type": "execute_result"
    }
   ],
   "source": [
    "converted_list"
   ]
  },
  {
   "cell_type": "code",
   "execution_count": null,
   "id": "9192d412-c224-459e-a1c7-71397664f236",
   "metadata": {},
   "outputs": [],
   "source": []
  },
  {
   "cell_type": "code",
   "execution_count": 143,
   "id": "a1d1a66c-d7e8-43da-aac4-dc6b4cfd2522",
   "metadata": {},
   "outputs": [],
   "source": [
    "co = str(converted_list)"
   ]
  },
  {
   "cell_type": "code",
   "execution_count": 144,
   "id": "9f1e78af-fea3-4a21-b399-5bb3e04a2390",
   "metadata": {},
   "outputs": [],
   "source": [
    "from itertools import chain"
   ]
  },
  {
   "cell_type": "code",
   "execution_count": 145,
   "id": "5915e4cd-e23f-4702-a859-3e7e557d2a6b",
   "metadata": {},
   "outputs": [],
   "source": [
    "coming = ' '.join(str(v) for v in converted_list)"
   ]
  },
  {
   "cell_type": "code",
   "execution_count": 146,
   "id": "99b8191a-16de-4423-9eb2-cf88fbdcaf1e",
   "metadata": {},
   "outputs": [
    {
     "data": {
      "text/plain": [
       "'MEMBER STATE  ABBREVIATION  DATE OF JOINING. OAU OR AU. REPUBLIC OF BENIN   BENIN 25 MAY 1963. BURKINA FASO  BURKINA FASO 25 MAY 1963. REPUBLIC OF CABO VERDE   CABO VERDE 18 JULY 1975. REPUBLIC OF CÔTE D’IVOIRE   CÔTE D’IVOIRE 25 MAY 1963. REPUBLIC OF THE GAMBIA   GAMBIA  9 MARCH 1965. REPUBLIC OF GHANA   GHANA  25 MAY 1963. REPUBLIC OF GUINEA  GUINEA  25 MAY 1963. REPUBLIC OF GUINEA-BISSAU  GUINEA-BISSAU  19 NOVEMBER 1973. REPUBLIC OF LIBERIA  LIBERIA  25 MAY 1963. REPUBLIC OF MALI  MALI  25 MAY 1963. REPUBLIC OF NIGER  NIGER  25 MAY 1963. FEDERAL REPUBLIC OF NIGERIA  NIGERIA  25 MAY 1963. REPUBLIC OF SENEGAL  SENEGAL  25 MAY 1963. REPUBLIC OF SIERRA LEONE  SIERRA LEONE  25 MAY 1963.'"
      ]
     },
     "execution_count": 146,
     "metadata": {},
     "output_type": "execute_result"
    }
   ],
   "source": [
    "coming"
   ]
  },
  {
   "cell_type": "code",
   "execution_count": 147,
   "id": "230a5f40-b3ae-4f0c-b78d-916385826b1f",
   "metadata": {},
   "outputs": [],
   "source": [
    "come = coming.replace(\".\", \"\")\n",
    "com = come.replace(\"REPUBLIC\", \"\")\n",
    "come= com.replace(\"OF\", \"\")\n"
   ]
  },
  {
   "cell_type": "code",
   "execution_count": 148,
   "id": "aae66179-38be-482e-93c1-030cb2ce0cdb",
   "metadata": {},
   "outputs": [
    {
     "data": {
      "text/plain": [
       "'MEMBER STATE  ABBREVIATION  DATE  JOINING OAU OR AU   BENIN   BENIN 25 MAY 1963 BURKINA FASO  BURKINA FASO 25 MAY 1963   CABO VERDE   CABO VERDE 18 JULY 1975   CÔTE D’IVOIRE   CÔTE D’IVOIRE 25 MAY 1963   THE GAMBIA   GAMBIA  9 MARCH 1965   GHANA   GHANA  25 MAY 1963   GUINEA  GUINEA  25 MAY 1963   GUINEA-BISSAU  GUINEA-BISSAU  19 NOVEMBER 1973   LIBERIA  LIBERIA  25 MAY 1963   MALI  MALI  25 MAY 1963   NIGER  NIGER  25 MAY 1963 FEDERAL   NIGERIA  NIGERIA  25 MAY 1963   SENEGAL  SENEGAL  25 MAY 1963   SIERRA LEONE  SIERRA LEONE  25 MAY 1963'"
      ]
     },
     "execution_count": 148,
     "metadata": {},
     "output_type": "execute_result"
    }
   ],
   "source": [
    "come"
   ]
  },
  {
   "cell_type": "code",
   "execution_count": 149,
   "id": "8de8f63a-4519-47a4-86f4-28916e496f4e",
   "metadata": {},
   "outputs": [],
   "source": [
    "# i need to get the intersection of countries"
   ]
  },
  {
   "cell_type": "code",
   "execution_count": null,
   "id": "ccbe95c1-1c3c-4553-925e-3f828ae6c91b",
   "metadata": {},
   "outputs": [],
   "source": []
  },
  {
   "cell_type": "code",
   "execution_count": 150,
   "id": "25344946-e7ac-4c51-981f-9af6f3d84c72",
   "metadata": {},
   "outputs": [],
   "source": [
    "#movi\n",
    "#come\n",
    "\n",
    "read = set(result.split()) & set(come.split())"
   ]
  },
  {
   "cell_type": "code",
   "execution_count": 151,
   "id": "54786374-9214-45fd-83cd-7f3f104af28e",
   "metadata": {},
   "outputs": [],
   "source": [
    "readd = list(read)"
   ]
  },
  {
   "cell_type": "code",
   "execution_count": 152,
   "id": "edef0f49-9cf3-42fa-9e39-a2511a1ff7a9",
   "metadata": {},
   "outputs": [
    {
     "data": {
      "text/plain": [
       "['GHANA', 'NIGERIA', 'VERDE', 'NIGER']"
      ]
     },
     "execution_count": 152,
     "metadata": {},
     "output_type": "execute_result"
    }
   ],
   "source": [
    "readd"
   ]
  },
  {
   "cell_type": "code",
   "execution_count": 153,
   "id": "3879311c-e2f6-4ce4-90c5-04b0f95e3762",
   "metadata": {},
   "outputs": [],
   "source": [
    "i = len(readd)"
   ]
  },
  {
   "cell_type": "code",
   "execution_count": 154,
   "id": "7cfcc661-2b69-48e3-b85b-70354750c757",
   "metadata": {},
   "outputs": [],
   "source": [
    "matches = []\n",
    "\n",
    "for match in list1:\n",
    "    if readd[i-1] in match:\n",
    "        matches.append(match)\n",
    "        i-=1"
   ]
  },
  {
   "cell_type": "code",
   "execution_count": 155,
   "id": "e4f0fe3f-8368-47d1-b97c-02effdee1b24",
   "metadata": {},
   "outputs": [
    {
     "data": {
      "text/plain": [
       "list"
      ]
     },
     "execution_count": 155,
     "metadata": {},
     "output_type": "execute_result"
    }
   ],
   "source": [
    "type(matches)"
   ]
  },
  {
   "cell_type": "code",
   "execution_count": 156,
   "id": "c882d2a9-71ca-499d-ba63-0f9bffa35ac8",
   "metadata": {},
   "outputs": [],
   "source": [
    "i = len(readd)"
   ]
  },
  {
   "cell_type": "code",
   "execution_count": 157,
   "id": "dd10073c-a1bc-4965-aa77-a92d585c6d62",
   "metadata": {},
   "outputs": [
    {
     "data": {
      "text/plain": [
       "4"
      ]
     },
     "execution_count": 157,
     "metadata": {},
     "output_type": "execute_result"
    }
   ],
   "source": [
    "i"
   ]
  },
  {
   "cell_type": "code",
   "execution_count": 158,
   "id": "13e8bbb0-f234-48d4-a941-eb6ccd9fcbb5",
   "metadata": {},
   "outputs": [
    {
     "data": {
      "text/plain": [
       "'NIGER'"
      ]
     },
     "execution_count": 158,
     "metadata": {},
     "output_type": "execute_result"
    }
   ],
   "source": [
    "readd[i-1]"
   ]
  },
  {
   "cell_type": "code",
   "execution_count": 159,
   "id": "3e5f28f7-9bb2-4fff-bc43-bf09d53c6f93",
   "metadata": {},
   "outputs": [
    {
     "data": {
      "text/plain": [
       "pandas.core.frame.DataFrame"
      ]
     },
     "execution_count": 159,
     "metadata": {},
     "output_type": "execute_result"
    }
   ],
   "source": [
    "type(df)"
   ]
  },
  {
   "cell_type": "code",
   "execution_count": 160,
   "id": "b072b5b3-0f37-4007-b89f-b9386eb791e5",
   "metadata": {},
   "outputs": [],
   "source": [
    "df['country'] = df['country'].replace(readd,'West Africa')\n"
   ]
  },
  {
   "cell_type": "code",
   "execution_count": null,
   "id": "19ab98bb-8bf6-4e12-8a8a-acd1bfcba008",
   "metadata": {},
   "outputs": [],
   "source": []
  },
  {
   "cell_type": "code",
   "execution_count": 161,
   "id": "faa4f4c7-86e5-4066-852a-6fb167ca1544",
   "metadata": {},
   "outputs": [],
   "source": [
    "west = df[df['country'] == 'West Africa' ]\n",
    "#i=df[df[‘Name’]==’Will’]\n",
    "#print(i)"
   ]
  },
  {
   "cell_type": "code",
   "execution_count": 162,
   "id": "92f3eadd-e94e-4308-9e19-cbfbb1d051a3",
   "metadata": {
    "tags": []
   },
   "outputs": [
    {
     "data": {
      "text/html": [
       "<div>\n",
       "<style scoped>\n",
       "    .dataframe tbody tr th:only-of-type {\n",
       "        vertical-align: middle;\n",
       "    }\n",
       "\n",
       "    .dataframe tbody tr th {\n",
       "        vertical-align: top;\n",
       "    }\n",
       "\n",
       "    .dataframe thead th {\n",
       "        text-align: right;\n",
       "    }\n",
       "</style>\n",
       "<table border=\"1\" class=\"dataframe\">\n",
       "  <thead>\n",
       "    <tr style=\"text-align: right;\">\n",
       "      <th></th>\n",
       "      <th>ID</th>\n",
       "      <th>country</th>\n",
       "      <th>age_group</th>\n",
       "      <th>travel_with</th>\n",
       "      <th>total_female</th>\n",
       "      <th>total_male</th>\n",
       "      <th>purpose</th>\n",
       "      <th>main_activity</th>\n",
       "      <th>info_source</th>\n",
       "      <th>tour_arrangement</th>\n",
       "      <th>...</th>\n",
       "      <th>package_transport_tz</th>\n",
       "      <th>package_sightseeing</th>\n",
       "      <th>package_guided_tour</th>\n",
       "      <th>package_insurance</th>\n",
       "      <th>night_mainland</th>\n",
       "      <th>night_zanzibar</th>\n",
       "      <th>payment_mode</th>\n",
       "      <th>first_trip_tz</th>\n",
       "      <th>most_impressing</th>\n",
       "      <th>total_cost</th>\n",
       "    </tr>\n",
       "  </thead>\n",
       "  <tbody>\n",
       "    <tr>\n",
       "      <th>8</th>\n",
       "      <td>tour_101</td>\n",
       "      <td>West Africa</td>\n",
       "      <td>25-44</td>\n",
       "      <td>Alone</td>\n",
       "      <td>0.0</td>\n",
       "      <td>1.0</td>\n",
       "      <td>Leisure and Holidays</td>\n",
       "      <td>Cultural tourism</td>\n",
       "      <td>Travel, agent, tour operator</td>\n",
       "      <td>Independent</td>\n",
       "      <td>...</td>\n",
       "      <td>No</td>\n",
       "      <td>No</td>\n",
       "      <td>No</td>\n",
       "      <td>No</td>\n",
       "      <td>4</td>\n",
       "      <td>0</td>\n",
       "      <td>Cash</td>\n",
       "      <td>Yes</td>\n",
       "      <td>NaN</td>\n",
       "      <td>994500.0</td>\n",
       "    </tr>\n",
       "    <tr>\n",
       "      <th>602</th>\n",
       "      <td>tour_174</td>\n",
       "      <td>West Africa</td>\n",
       "      <td>25-44</td>\n",
       "      <td>Alone</td>\n",
       "      <td>1.0</td>\n",
       "      <td>0.0</td>\n",
       "      <td>Meetings and Conference</td>\n",
       "      <td>Mountain climbing</td>\n",
       "      <td>Travel, agent, tour operator</td>\n",
       "      <td>Independent</td>\n",
       "      <td>...</td>\n",
       "      <td>No</td>\n",
       "      <td>No</td>\n",
       "      <td>No</td>\n",
       "      <td>No</td>\n",
       "      <td>5</td>\n",
       "      <td>0</td>\n",
       "      <td>Cash</td>\n",
       "      <td>Yes</td>\n",
       "      <td>Friendly People</td>\n",
       "      <td>828750.0</td>\n",
       "    </tr>\n",
       "    <tr>\n",
       "      <th>604</th>\n",
       "      <td>tour_1741</td>\n",
       "      <td>West Africa</td>\n",
       "      <td>25-44</td>\n",
       "      <td>Spouse and Children</td>\n",
       "      <td>2.0</td>\n",
       "      <td>1.0</td>\n",
       "      <td>Leisure and Holidays</td>\n",
       "      <td>Beach tourism</td>\n",
       "      <td>Friends, relatives</td>\n",
       "      <td>Independent</td>\n",
       "      <td>...</td>\n",
       "      <td>No</td>\n",
       "      <td>No</td>\n",
       "      <td>No</td>\n",
       "      <td>No</td>\n",
       "      <td>4</td>\n",
       "      <td>16</td>\n",
       "      <td>Credit Card</td>\n",
       "      <td>No</td>\n",
       "      <td>Friendly People</td>\n",
       "      <td>4972500.0</td>\n",
       "    </tr>\n",
       "    <tr>\n",
       "      <th>957</th>\n",
       "      <td>tour_217</td>\n",
       "      <td>West Africa</td>\n",
       "      <td>45-64</td>\n",
       "      <td>Friends/Relatives</td>\n",
       "      <td>0.0</td>\n",
       "      <td>2.0</td>\n",
       "      <td>Business</td>\n",
       "      <td>Wildlife tourism</td>\n",
       "      <td>Trade fair</td>\n",
       "      <td>Independent</td>\n",
       "      <td>...</td>\n",
       "      <td>No</td>\n",
       "      <td>No</td>\n",
       "      <td>No</td>\n",
       "      <td>No</td>\n",
       "      <td>30</td>\n",
       "      <td>0</td>\n",
       "      <td>Cash</td>\n",
       "      <td>Yes</td>\n",
       "      <td>No comments</td>\n",
       "      <td>10000000.0</td>\n",
       "    </tr>\n",
       "    <tr>\n",
       "      <th>1397</th>\n",
       "      <td>tour_2719</td>\n",
       "      <td>West Africa</td>\n",
       "      <td>25-44</td>\n",
       "      <td>NaN</td>\n",
       "      <td>0.0</td>\n",
       "      <td>1.0</td>\n",
       "      <td>Visiting Friends and Relatives</td>\n",
       "      <td>Wildlife tourism</td>\n",
       "      <td>Friends, relatives</td>\n",
       "      <td>Independent</td>\n",
       "      <td>...</td>\n",
       "      <td>No</td>\n",
       "      <td>No</td>\n",
       "      <td>No</td>\n",
       "      <td>No</td>\n",
       "      <td>7</td>\n",
       "      <td>0</td>\n",
       "      <td>Cash</td>\n",
       "      <td>No</td>\n",
       "      <td>Friendly People</td>\n",
       "      <td>250282.5</td>\n",
       "    </tr>\n",
       "    <tr>\n",
       "      <th>3362</th>\n",
       "      <td>tour_5068</td>\n",
       "      <td>West Africa</td>\n",
       "      <td>2022-01-24 00:00:00</td>\n",
       "      <td>NaN</td>\n",
       "      <td>0.0</td>\n",
       "      <td>1.0</td>\n",
       "      <td>Business</td>\n",
       "      <td>Wildlife tourism</td>\n",
       "      <td>Friends, relatives</td>\n",
       "      <td>Independent</td>\n",
       "      <td>...</td>\n",
       "      <td>No</td>\n",
       "      <td>No</td>\n",
       "      <td>No</td>\n",
       "      <td>No</td>\n",
       "      <td>14</td>\n",
       "      <td>0</td>\n",
       "      <td>Cash</td>\n",
       "      <td>Yes</td>\n",
       "      <td>Excellent Experience</td>\n",
       "      <td>497250.0</td>\n",
       "    </tr>\n",
       "    <tr>\n",
       "      <th>4474</th>\n",
       "      <td>tour_6412</td>\n",
       "      <td>West Africa</td>\n",
       "      <td>25-44</td>\n",
       "      <td>NaN</td>\n",
       "      <td>0.0</td>\n",
       "      <td>1.0</td>\n",
       "      <td>Business</td>\n",
       "      <td>Wildlife tourism</td>\n",
       "      <td>Friends, relatives</td>\n",
       "      <td>Independent</td>\n",
       "      <td>...</td>\n",
       "      <td>No</td>\n",
       "      <td>No</td>\n",
       "      <td>No</td>\n",
       "      <td>No</td>\n",
       "      <td>35</td>\n",
       "      <td>0</td>\n",
       "      <td>Cash</td>\n",
       "      <td>No</td>\n",
       "      <td>Good service</td>\n",
       "      <td>50000.0</td>\n",
       "    </tr>\n",
       "  </tbody>\n",
       "</table>\n",
       "<p>7 rows × 23 columns</p>\n",
       "</div>"
      ],
      "text/plain": [
       "             ID      country            age_group          travel_with  \\\n",
       "8      tour_101  West Africa                25-44                Alone   \n",
       "602    tour_174  West Africa                25-44                Alone   \n",
       "604   tour_1741  West Africa                25-44  Spouse and Children   \n",
       "957    tour_217  West Africa                45-64    Friends/Relatives   \n",
       "1397  tour_2719  West Africa                25-44                  NaN   \n",
       "3362  tour_5068  West Africa  2022-01-24 00:00:00                  NaN   \n",
       "4474  tour_6412  West Africa                25-44                  NaN   \n",
       "\n",
       "      total_female  total_male                         purpose  \\\n",
       "8              0.0         1.0            Leisure and Holidays   \n",
       "602            1.0         0.0         Meetings and Conference   \n",
       "604            2.0         1.0            Leisure and Holidays   \n",
       "957            0.0         2.0                        Business   \n",
       "1397           0.0         1.0  Visiting Friends and Relatives   \n",
       "3362           0.0         1.0                        Business   \n",
       "4474           0.0         1.0                        Business   \n",
       "\n",
       "          main_activity                   info_source tour_arrangement  ...  \\\n",
       "8      Cultural tourism  Travel, agent, tour operator      Independent  ...   \n",
       "602   Mountain climbing  Travel, agent, tour operator      Independent  ...   \n",
       "604       Beach tourism            Friends, relatives      Independent  ...   \n",
       "957    Wildlife tourism                    Trade fair      Independent  ...   \n",
       "1397   Wildlife tourism            Friends, relatives      Independent  ...   \n",
       "3362   Wildlife tourism            Friends, relatives      Independent  ...   \n",
       "4474   Wildlife tourism            Friends, relatives      Independent  ...   \n",
       "\n",
       "     package_transport_tz package_sightseeing package_guided_tour  \\\n",
       "8                      No                  No                  No   \n",
       "602                    No                  No                  No   \n",
       "604                    No                  No                  No   \n",
       "957                    No                  No                  No   \n",
       "1397                   No                  No                  No   \n",
       "3362                   No                  No                  No   \n",
       "4474                   No                  No                  No   \n",
       "\n",
       "     package_insurance night_mainland night_zanzibar payment_mode  \\\n",
       "8                   No              4              0         Cash   \n",
       "602                 No              5              0         Cash   \n",
       "604                 No              4             16  Credit Card   \n",
       "957                 No             30              0         Cash   \n",
       "1397                No              7              0         Cash   \n",
       "3362                No             14              0         Cash   \n",
       "4474                No             35              0         Cash   \n",
       "\n",
       "      first_trip_tz       most_impressing  total_cost  \n",
       "8               Yes                   NaN    994500.0  \n",
       "602             Yes       Friendly People    828750.0  \n",
       "604              No       Friendly People   4972500.0  \n",
       "957             Yes           No comments  10000000.0  \n",
       "1397             No       Friendly People    250282.5  \n",
       "3362            Yes  Excellent Experience    497250.0  \n",
       "4474             No          Good service     50000.0  \n",
       "\n",
       "[7 rows x 23 columns]"
      ]
     },
     "execution_count": 162,
     "metadata": {},
     "output_type": "execute_result"
    }
   ],
   "source": [
    "west"
   ]
  },
  {
   "cell_type": "markdown",
   "id": "610eb626-faff-47df-ad6c-5d7530fef607",
   "metadata": {},
   "source": [
    "## Europe"
   ]
  },
  {
   "cell_type": "code",
   "execution_count": 163,
   "id": "bf3689ab-b9ab-4270-aa65-9471a30a9120",
   "metadata": {},
   "outputs": [],
   "source": [
    "\n",
    "\n",
    "#(//main[@id='main-content'])[1]"
   ]
  },
  {
   "cell_type": "code",
   "execution_count": 194,
   "id": "d7b1d619-cd1f-42bc-adcc-1312e089ce59",
   "metadata": {},
   "outputs": [],
   "source": [
    "driver.get(\"https://european-union.europa.eu/principles-countries-history/country-profiles_en?page=0\")   "
   ]
  },
  {
   "cell_type": "code",
   "execution_count": 195,
   "id": "3f9372b1-4251-44ec-ad9a-060c5fe9fe4d",
   "metadata": {},
   "outputs": [
    {
     "name": "stderr",
     "output_type": "stream",
     "text": [
      "C:\\Users\\Kofi\\AppData\\Local\\Temp/ipykernel_8112/3388245205.py:1: DeprecationWarning: find_element_by_xpath is deprecated. Please use find_element(by=By.XPATH, value=xpath) instead\n",
      "  i = driver.find_element_by_xpath(\"(//div[@class='ecl-row'])[5]\")\n"
     ]
    }
   ],
   "source": [
    "i = driver.find_element_by_xpath(\"(//div[@class='ecl-row'])[5]\")"
   ]
  },
  {
   "cell_type": "code",
   "execution_count": 196,
   "id": "ffafebca-f5df-4ca6-aff8-9840d51abd48",
   "metadata": {},
   "outputs": [],
   "source": [
    "text = i.text\n",
    "#(//tbody)[1]"
   ]
  },
  {
   "cell_type": "code",
   "execution_count": 197,
   "id": "d2392017-f94c-4787-b34f-9446d50788d7",
   "metadata": {},
   "outputs": [
    {
     "data": {
      "text/plain": [
       "str"
      ]
     },
     "execution_count": 197,
     "metadata": {},
     "output_type": "execute_result"
    }
   ],
   "source": [
    "type(text)"
   ]
  },
  {
   "cell_type": "code",
   "execution_count": 198,
   "id": "1ee6244d-9e1c-4206-9086-580e4d080faf",
   "metadata": {},
   "outputs": [],
   "source": [
    "rep = text.replace(\"\\n\", \". \")"
   ]
  },
  {
   "cell_type": "code",
   "execution_count": 199,
   "id": "21e54ee2-1e22-4eb2-89d0-2b9efc0f1f56",
   "metadata": {},
   "outputs": [],
   "source": [
    "import re\n",
    "expression = re.compile(r'([A-Z][^\\.!?]*[\\.!?])')\n",
    "new_list = re.findall(expression, rep)"
   ]
  },
  {
   "cell_type": "code",
   "execution_count": 200,
   "id": "1134463d-7afb-4f76-8b8d-f538a2fd7ea5",
   "metadata": {},
   "outputs": [
    {
     "data": {
      "text/plain": [
       "['Austria.',\n",
       " 'EU member country since 1995, Euro area member since 1999, Schengen area member since 1997 and more about Austria’s participation in the EU.',\n",
       " 'Belgium.',\n",
       " 'EU member country since 1958, Euro area member since 1999, Schengen area member since 1995 and more about Belgium’s participation in the EU.',\n",
       " 'Bulgaria.',\n",
       " 'EU member country since 2007 and more about Bulgaria’s participation in the EU.',\n",
       " 'Croatia.',\n",
       " \"EU Member State since 2013 and more on Croatia's role in the EU.\",\n",
       " 'Cyprus.',\n",
       " 'EU member country since 2004, Euro area member since 2008 and more about Cyprus’s participation in the EU.',\n",
       " 'Czechia.',\n",
       " 'EU member country since 2004, Schengen area member since 2007 and more about Czechia’s participation in the EU.',\n",
       " 'Denmark.',\n",
       " 'EU member country since 1973, opt-out from euro, Schengen area member since 2001 and more about Denmark’s participation in the EU.',\n",
       " 'Estonia.',\n",
       " 'How Estonia is represented in the different EU institutions, how much money it gives and receives, its political system and trade figures.',\n",
       " 'Finland.',\n",
       " 'EU member country since 1995, Euro area member since 1999, Schengen area member since 2001 and more about Finland’s participation in the EU.',\n",
       " 'France.',\n",
       " 'EU member country since 1958, Euro area member since 1999, Schengen area member since 1995 and more about France’s participation in the EU.',\n",
       " 'Germany.',\n",
       " 'EU member country since 1958, Euro area member since 1999, Schengen area member since 1995 and more about Germany’s participation in the EU.',\n",
       " 'Greece.',\n",
       " 'EU member country since 1981, Euro area member since 2001, Schengen area member since 2000 and more about Greece’s participation in the EU.',\n",
       " 'Hungary.',\n",
       " 'EU member country since 2004, Schengen area member since 2007 and more about Hungary’s participation in the EU.',\n",
       " 'Ireland.',\n",
       " 'EU member country since 1973, Euro area member since 1999, opt-out from Schengen area and more about Ireland’s participation in the EU.',\n",
       " 'Italy.',\n",
       " 'EU member country since 1958, Euro area member since 1999, Schengen area member since 1997 and more about Italy’s participation in the EU.',\n",
       " 'Latvia.',\n",
       " 'EU member country since 2004, Euro area member since 2014, Schengen area member since 2007 and more about Latvia’s participation in the EU.',\n",
       " 'Lithuania.',\n",
       " 'EU member country since 2004, Euro area member since 2015, Schengen area member since 2007 and more about Lithuania’s participation in the EU.',\n",
       " 'Luxembourg.',\n",
       " 'EU member country since 1958, Euro area member since 1999, Schengen area member since 1995 and more about Luxembourg’s participation in the EU.',\n",
       " 'Malta.',\n",
       " 'EU member country since 2004, Euro area member since 2008, Schengen area member since 2007 and more about Malta’s participation in the EU.',\n",
       " 'Netherlands.',\n",
       " 'EU member country since 1958, Euro area member since 1999, Schengen area member since 1995 and more about the Netherlands’ participation in the EU.']"
      ]
     },
     "execution_count": 200,
     "metadata": {},
     "output_type": "execute_result"
    }
   ],
   "source": [
    "new_list"
   ]
  },
  {
   "cell_type": "code",
   "execution_count": 201,
   "id": "a525113d-3f02-471d-a280-a2778916345a",
   "metadata": {},
   "outputs": [],
   "source": [
    "driver.get(\"https://european-union.europa.eu/principles-countries-history/country-profiles_en?page=1\")   "
   ]
  },
  {
   "cell_type": "code",
   "execution_count": 202,
   "id": "988960bc-22b9-41f1-b1ca-b33a91582b10",
   "metadata": {},
   "outputs": [
    {
     "name": "stderr",
     "output_type": "stream",
     "text": [
      "C:\\Users\\Kofi\\AppData\\Local\\Temp/ipykernel_8112/3388245205.py:1: DeprecationWarning: find_element_by_xpath is deprecated. Please use find_element(by=By.XPATH, value=xpath) instead\n",
      "  i = driver.find_element_by_xpath(\"(//div[@class='ecl-row'])[5]\")\n"
     ]
    }
   ],
   "source": [
    "i = driver.find_element_by_xpath(\"(//div[@class='ecl-row'])[5]\")"
   ]
  },
  {
   "cell_type": "code",
   "execution_count": null,
   "id": "fdd6bf4c-0f6b-4873-803f-d1e3d1b6de64",
   "metadata": {},
   "outputs": [],
   "source": []
  },
  {
   "cell_type": "code",
   "execution_count": 203,
   "id": "79010831-d2bf-4ce0-b067-918df2298f81",
   "metadata": {},
   "outputs": [],
   "source": [
    "text = i.text\n",
    "#(//tbody)[1]"
   ]
  },
  {
   "cell_type": "code",
   "execution_count": 204,
   "id": "a0b98cec-c269-486e-939d-7458d5f78232",
   "metadata": {},
   "outputs": [
    {
     "data": {
      "text/plain": [
       "str"
      ]
     },
     "execution_count": 204,
     "metadata": {},
     "output_type": "execute_result"
    }
   ],
   "source": [
    "type(text)"
   ]
  },
  {
   "cell_type": "code",
   "execution_count": 205,
   "id": "557e9078-b5bc-4136-bc54-219f395e5446",
   "metadata": {},
   "outputs": [],
   "source": [
    "rep = text.replace(\"\\n\", \". \")"
   ]
  },
  {
   "cell_type": "code",
   "execution_count": 206,
   "id": "69d2619d-f61d-4a80-98ea-5d65054fb1be",
   "metadata": {},
   "outputs": [],
   "source": [
    "import re\n",
    "expression = re.compile(r'([A-Z][^\\.!?]*[\\.!?])')\n",
    "new_list1 = re.findall(expression, rep)"
   ]
  },
  {
   "cell_type": "code",
   "execution_count": 208,
   "id": "b09b43ce-b0b0-4560-85e7-005e2e854b16",
   "metadata": {},
   "outputs": [
    {
     "data": {
      "text/plain": [
       "list"
      ]
     },
     "execution_count": 208,
     "metadata": {},
     "output_type": "execute_result"
    }
   ],
   "source": [
    "type(new_list1)"
   ]
  },
  {
   "cell_type": "code",
   "execution_count": 209,
   "id": "221e43eb-e270-4db7-9b27-21eb203d6c60",
   "metadata": {},
   "outputs": [],
   "source": [
    "new_lists = new_list+new_list1"
   ]
  },
  {
   "cell_type": "code",
   "execution_count": null,
   "id": "acc194cc-d8e2-4dab-bda0-24293bbcf880",
   "metadata": {},
   "outputs": [],
   "source": []
  },
  {
   "cell_type": "code",
   "execution_count": 210,
   "id": "28ef4e80-d97a-4010-80c9-800638a33146",
   "metadata": {},
   "outputs": [],
   "source": [
    "converted_list = [x.upper() for x in new_lists]"
   ]
  },
  {
   "cell_type": "code",
   "execution_count": 211,
   "id": "64b62c1f-f968-42e8-8721-8fbe0c3b9eaf",
   "metadata": {},
   "outputs": [
    {
     "data": {
      "text/plain": [
       "['AUSTRIA.',\n",
       " 'EU MEMBER COUNTRY SINCE 1995, EURO AREA MEMBER SINCE 1999, SCHENGEN AREA MEMBER SINCE 1997 AND MORE ABOUT AUSTRIA’S PARTICIPATION IN THE EU.',\n",
       " 'BELGIUM.',\n",
       " 'EU MEMBER COUNTRY SINCE 1958, EURO AREA MEMBER SINCE 1999, SCHENGEN AREA MEMBER SINCE 1995 AND MORE ABOUT BELGIUM’S PARTICIPATION IN THE EU.',\n",
       " 'BULGARIA.',\n",
       " 'EU MEMBER COUNTRY SINCE 2007 AND MORE ABOUT BULGARIA’S PARTICIPATION IN THE EU.',\n",
       " 'CROATIA.',\n",
       " \"EU MEMBER STATE SINCE 2013 AND MORE ON CROATIA'S ROLE IN THE EU.\",\n",
       " 'CYPRUS.',\n",
       " 'EU MEMBER COUNTRY SINCE 2004, EURO AREA MEMBER SINCE 2008 AND MORE ABOUT CYPRUS’S PARTICIPATION IN THE EU.',\n",
       " 'CZECHIA.',\n",
       " 'EU MEMBER COUNTRY SINCE 2004, SCHENGEN AREA MEMBER SINCE 2007 AND MORE ABOUT CZECHIA’S PARTICIPATION IN THE EU.',\n",
       " 'DENMARK.',\n",
       " 'EU MEMBER COUNTRY SINCE 1973, OPT-OUT FROM EURO, SCHENGEN AREA MEMBER SINCE 2001 AND MORE ABOUT DENMARK’S PARTICIPATION IN THE EU.',\n",
       " 'ESTONIA.',\n",
       " 'HOW ESTONIA IS REPRESENTED IN THE DIFFERENT EU INSTITUTIONS, HOW MUCH MONEY IT GIVES AND RECEIVES, ITS POLITICAL SYSTEM AND TRADE FIGURES.',\n",
       " 'FINLAND.',\n",
       " 'EU MEMBER COUNTRY SINCE 1995, EURO AREA MEMBER SINCE 1999, SCHENGEN AREA MEMBER SINCE 2001 AND MORE ABOUT FINLAND’S PARTICIPATION IN THE EU.',\n",
       " 'FRANCE.',\n",
       " 'EU MEMBER COUNTRY SINCE 1958, EURO AREA MEMBER SINCE 1999, SCHENGEN AREA MEMBER SINCE 1995 AND MORE ABOUT FRANCE’S PARTICIPATION IN THE EU.',\n",
       " 'GERMANY.',\n",
       " 'EU MEMBER COUNTRY SINCE 1958, EURO AREA MEMBER SINCE 1999, SCHENGEN AREA MEMBER SINCE 1995 AND MORE ABOUT GERMANY’S PARTICIPATION IN THE EU.',\n",
       " 'GREECE.',\n",
       " 'EU MEMBER COUNTRY SINCE 1981, EURO AREA MEMBER SINCE 2001, SCHENGEN AREA MEMBER SINCE 2000 AND MORE ABOUT GREECE’S PARTICIPATION IN THE EU.',\n",
       " 'HUNGARY.',\n",
       " 'EU MEMBER COUNTRY SINCE 2004, SCHENGEN AREA MEMBER SINCE 2007 AND MORE ABOUT HUNGARY’S PARTICIPATION IN THE EU.',\n",
       " 'IRELAND.',\n",
       " 'EU MEMBER COUNTRY SINCE 1973, EURO AREA MEMBER SINCE 1999, OPT-OUT FROM SCHENGEN AREA AND MORE ABOUT IRELAND’S PARTICIPATION IN THE EU.',\n",
       " 'ITALY.',\n",
       " 'EU MEMBER COUNTRY SINCE 1958, EURO AREA MEMBER SINCE 1999, SCHENGEN AREA MEMBER SINCE 1997 AND MORE ABOUT ITALY’S PARTICIPATION IN THE EU.',\n",
       " 'LATVIA.',\n",
       " 'EU MEMBER COUNTRY SINCE 2004, EURO AREA MEMBER SINCE 2014, SCHENGEN AREA MEMBER SINCE 2007 AND MORE ABOUT LATVIA’S PARTICIPATION IN THE EU.',\n",
       " 'LITHUANIA.',\n",
       " 'EU MEMBER COUNTRY SINCE 2004, EURO AREA MEMBER SINCE 2015, SCHENGEN AREA MEMBER SINCE 2007 AND MORE ABOUT LITHUANIA’S PARTICIPATION IN THE EU.',\n",
       " 'LUXEMBOURG.',\n",
       " 'EU MEMBER COUNTRY SINCE 1958, EURO AREA MEMBER SINCE 1999, SCHENGEN AREA MEMBER SINCE 1995 AND MORE ABOUT LUXEMBOURG’S PARTICIPATION IN THE EU.',\n",
       " 'MALTA.',\n",
       " 'EU MEMBER COUNTRY SINCE 2004, EURO AREA MEMBER SINCE 2008, SCHENGEN AREA MEMBER SINCE 2007 AND MORE ABOUT MALTA’S PARTICIPATION IN THE EU.',\n",
       " 'NETHERLANDS.',\n",
       " 'EU MEMBER COUNTRY SINCE 1958, EURO AREA MEMBER SINCE 1999, SCHENGEN AREA MEMBER SINCE 1995 AND MORE ABOUT THE NETHERLANDS’ PARTICIPATION IN THE EU.',\n",
       " 'POLAND.',\n",
       " 'EU MEMBER COUNTRY SINCE 2004, SCHENGEN AREA MEMBER SINCE 2007 AND MORE ABOUT POLAND’S PARTICIPATION IN THE EU.',\n",
       " 'PORTUGAL.',\n",
       " 'EU MEMBER COUNTRY SINCE 1986, EURO AREA MEMBER SINCE 1999, SCHENGEN AREA MEMBER SINCE 1995 AND MORE ABOUT PORTUGAL’S PARTICIPATION IN THE EU.',\n",
       " 'ROMANIA.',\n",
       " 'EU MEMBER COUNTRY SINCE 2007 AND MORE ABOUT ROMANIA’S PARTICIPATION IN THE EU.',\n",
       " 'SLOVAKIA.',\n",
       " 'EU MEMBER COUNTRY SINCE 2004, EURO AREA MEMBER SINCE 2009, SCHENGEN AREA MEMBER SINCE 2007 AND MORE ABOUT SLOVAKIA’S PARTICIPATION IN THE EU.',\n",
       " 'SLOVENIA.',\n",
       " 'EU MEMBER COUNTRY SINCE 2004, EURO AREA MEMBER SINCE 2007, SCHENGEN AREA MEMBER SINCE 2007 AND MORE ABOUT SLOVENIA’S PARTICIPATION IN THE EU.',\n",
       " 'SPAIN.',\n",
       " 'EU MEMBER COUNTRY SINCE 1986, EURO AREA MEMBER SINCE 1999, SCHENGEN AREA MEMBER SINCE 1995 AND MORE ABOUT SPAIN’S PARTICIPATION IN THE EU.',\n",
       " 'SWEDEN.',\n",
       " 'EU MEMBER COUNTRY SINCE 1995, SCHENGEN AREA MEMBER SINCE 2001 AND MORE ABOUT SWEDEN’S PARTICIPATION IN THE EU.']"
      ]
     },
     "execution_count": 211,
     "metadata": {},
     "output_type": "execute_result"
    }
   ],
   "source": [
    "converted_list"
   ]
  },
  {
   "cell_type": "code",
   "execution_count": null,
   "id": "49bed0f2-c418-4fa8-bece-d5bb6dcf31b7",
   "metadata": {},
   "outputs": [],
   "source": []
  },
  {
   "cell_type": "code",
   "execution_count": 212,
   "id": "31b2d861-32e0-4201-9882-24dadab5649f",
   "metadata": {},
   "outputs": [],
   "source": [
    "co = str(converted_list)"
   ]
  },
  {
   "cell_type": "code",
   "execution_count": 213,
   "id": "c4b7dbbe-662b-42eb-bd86-b4dfaaded892",
   "metadata": {},
   "outputs": [],
   "source": [
    "from itertools import chain"
   ]
  },
  {
   "cell_type": "code",
   "execution_count": 214,
   "id": "7ae43a1b-68c6-45b1-b6aa-f9b78888d011",
   "metadata": {},
   "outputs": [],
   "source": [
    "coming = ' '.join(str(v) for v in converted_list)"
   ]
  },
  {
   "cell_type": "code",
   "execution_count": 215,
   "id": "87290bac-8825-42db-8a05-ca5217854511",
   "metadata": {},
   "outputs": [
    {
     "data": {
      "text/plain": [
       "\"AUSTRIA. EU MEMBER COUNTRY SINCE 1995, EURO AREA MEMBER SINCE 1999, SCHENGEN AREA MEMBER SINCE 1997 AND MORE ABOUT AUSTRIA’S PARTICIPATION IN THE EU. BELGIUM. EU MEMBER COUNTRY SINCE 1958, EURO AREA MEMBER SINCE 1999, SCHENGEN AREA MEMBER SINCE 1995 AND MORE ABOUT BELGIUM’S PARTICIPATION IN THE EU. BULGARIA. EU MEMBER COUNTRY SINCE 2007 AND MORE ABOUT BULGARIA’S PARTICIPATION IN THE EU. CROATIA. EU MEMBER STATE SINCE 2013 AND MORE ON CROATIA'S ROLE IN THE EU. CYPRUS. EU MEMBER COUNTRY SINCE 2004, EURO AREA MEMBER SINCE 2008 AND MORE ABOUT CYPRUS’S PARTICIPATION IN THE EU. CZECHIA. EU MEMBER COUNTRY SINCE 2004, SCHENGEN AREA MEMBER SINCE 2007 AND MORE ABOUT CZECHIA’S PARTICIPATION IN THE EU. DENMARK. EU MEMBER COUNTRY SINCE 1973, OPT-OUT FROM EURO, SCHENGEN AREA MEMBER SINCE 2001 AND MORE ABOUT DENMARK’S PARTICIPATION IN THE EU. ESTONIA. HOW ESTONIA IS REPRESENTED IN THE DIFFERENT EU INSTITUTIONS, HOW MUCH MONEY IT GIVES AND RECEIVES, ITS POLITICAL SYSTEM AND TRADE FIGURES. FINLAND. EU MEMBER COUNTRY SINCE 1995, EURO AREA MEMBER SINCE 1999, SCHENGEN AREA MEMBER SINCE 2001 AND MORE ABOUT FINLAND’S PARTICIPATION IN THE EU. FRANCE. EU MEMBER COUNTRY SINCE 1958, EURO AREA MEMBER SINCE 1999, SCHENGEN AREA MEMBER SINCE 1995 AND MORE ABOUT FRANCE’S PARTICIPATION IN THE EU. GERMANY. EU MEMBER COUNTRY SINCE 1958, EURO AREA MEMBER SINCE 1999, SCHENGEN AREA MEMBER SINCE 1995 AND MORE ABOUT GERMANY’S PARTICIPATION IN THE EU. GREECE. EU MEMBER COUNTRY SINCE 1981, EURO AREA MEMBER SINCE 2001, SCHENGEN AREA MEMBER SINCE 2000 AND MORE ABOUT GREECE’S PARTICIPATION IN THE EU. HUNGARY. EU MEMBER COUNTRY SINCE 2004, SCHENGEN AREA MEMBER SINCE 2007 AND MORE ABOUT HUNGARY’S PARTICIPATION IN THE EU. IRELAND. EU MEMBER COUNTRY SINCE 1973, EURO AREA MEMBER SINCE 1999, OPT-OUT FROM SCHENGEN AREA AND MORE ABOUT IRELAND’S PARTICIPATION IN THE EU. ITALY. EU MEMBER COUNTRY SINCE 1958, EURO AREA MEMBER SINCE 1999, SCHENGEN AREA MEMBER SINCE 1997 AND MORE ABOUT ITALY’S PARTICIPATION IN THE EU. LATVIA. EU MEMBER COUNTRY SINCE 2004, EURO AREA MEMBER SINCE 2014, SCHENGEN AREA MEMBER SINCE 2007 AND MORE ABOUT LATVIA’S PARTICIPATION IN THE EU. LITHUANIA. EU MEMBER COUNTRY SINCE 2004, EURO AREA MEMBER SINCE 2015, SCHENGEN AREA MEMBER SINCE 2007 AND MORE ABOUT LITHUANIA’S PARTICIPATION IN THE EU. LUXEMBOURG. EU MEMBER COUNTRY SINCE 1958, EURO AREA MEMBER SINCE 1999, SCHENGEN AREA MEMBER SINCE 1995 AND MORE ABOUT LUXEMBOURG’S PARTICIPATION IN THE EU. MALTA. EU MEMBER COUNTRY SINCE 2004, EURO AREA MEMBER SINCE 2008, SCHENGEN AREA MEMBER SINCE 2007 AND MORE ABOUT MALTA’S PARTICIPATION IN THE EU. NETHERLANDS. EU MEMBER COUNTRY SINCE 1958, EURO AREA MEMBER SINCE 1999, SCHENGEN AREA MEMBER SINCE 1995 AND MORE ABOUT THE NETHERLANDS’ PARTICIPATION IN THE EU. POLAND. EU MEMBER COUNTRY SINCE 2004, SCHENGEN AREA MEMBER SINCE 2007 AND MORE ABOUT POLAND’S PARTICIPATION IN THE EU. PORTUGAL. EU MEMBER COUNTRY SINCE 1986, EURO AREA MEMBER SINCE 1999, SCHENGEN AREA MEMBER SINCE 1995 AND MORE ABOUT PORTUGAL’S PARTICIPATION IN THE EU. ROMANIA. EU MEMBER COUNTRY SINCE 2007 AND MORE ABOUT ROMANIA’S PARTICIPATION IN THE EU. SLOVAKIA. EU MEMBER COUNTRY SINCE 2004, EURO AREA MEMBER SINCE 2009, SCHENGEN AREA MEMBER SINCE 2007 AND MORE ABOUT SLOVAKIA’S PARTICIPATION IN THE EU. SLOVENIA. EU MEMBER COUNTRY SINCE 2004, EURO AREA MEMBER SINCE 2007, SCHENGEN AREA MEMBER SINCE 2007 AND MORE ABOUT SLOVENIA’S PARTICIPATION IN THE EU. SPAIN. EU MEMBER COUNTRY SINCE 1986, EURO AREA MEMBER SINCE 1999, SCHENGEN AREA MEMBER SINCE 1995 AND MORE ABOUT SPAIN’S PARTICIPATION IN THE EU. SWEDEN. EU MEMBER COUNTRY SINCE 1995, SCHENGEN AREA MEMBER SINCE 2001 AND MORE ABOUT SWEDEN’S PARTICIPATION IN THE EU.\""
      ]
     },
     "execution_count": 215,
     "metadata": {},
     "output_type": "execute_result"
    }
   ],
   "source": [
    "coming"
   ]
  },
  {
   "cell_type": "code",
   "execution_count": 216,
   "id": "bc5ca8ed-8149-4e0f-bcdd-83c08c66ab82",
   "metadata": {},
   "outputs": [],
   "source": [
    "come = coming.replace(\".\", \"\")\n",
    "com = come.replace(\"REPUBLIC\", \"\")\n",
    "come= com.replace(\"OF\", \"\")\n"
   ]
  },
  {
   "cell_type": "code",
   "execution_count": 217,
   "id": "bbdaaaed-c375-43bf-82e2-4098249be389",
   "metadata": {},
   "outputs": [
    {
     "data": {
      "text/plain": [
       "\"AUSTRIA EU MEMBER COUNTRY SINCE 1995, EURO AREA MEMBER SINCE 1999, SCHENGEN AREA MEMBER SINCE 1997 AND MORE ABOUT AUSTRIA’S PARTICIPATION IN THE EU BELGIUM EU MEMBER COUNTRY SINCE 1958, EURO AREA MEMBER SINCE 1999, SCHENGEN AREA MEMBER SINCE 1995 AND MORE ABOUT BELGIUM’S PARTICIPATION IN THE EU BULGARIA EU MEMBER COUNTRY SINCE 2007 AND MORE ABOUT BULGARIA’S PARTICIPATION IN THE EU CROATIA EU MEMBER STATE SINCE 2013 AND MORE ON CROATIA'S ROLE IN THE EU CYPRUS EU MEMBER COUNTRY SINCE 2004, EURO AREA MEMBER SINCE 2008 AND MORE ABOUT CYPRUS’S PARTICIPATION IN THE EU CZECHIA EU MEMBER COUNTRY SINCE 2004, SCHENGEN AREA MEMBER SINCE 2007 AND MORE ABOUT CZECHIA’S PARTICIPATION IN THE EU DENMARK EU MEMBER COUNTRY SINCE 1973, OPT-OUT FROM EURO, SCHENGEN AREA MEMBER SINCE 2001 AND MORE ABOUT DENMARK’S PARTICIPATION IN THE EU ESTONIA HOW ESTONIA IS REPRESENTED IN THE DIFFERENT EU INSTITUTIONS, HOW MUCH MONEY IT GIVES AND RECEIVES, ITS POLITICAL SYSTEM AND TRADE FIGURES FINLAND EU MEMBER COUNTRY SINCE 1995, EURO AREA MEMBER SINCE 1999, SCHENGEN AREA MEMBER SINCE 2001 AND MORE ABOUT FINLAND’S PARTICIPATION IN THE EU FRANCE EU MEMBER COUNTRY SINCE 1958, EURO AREA MEMBER SINCE 1999, SCHENGEN AREA MEMBER SINCE 1995 AND MORE ABOUT FRANCE’S PARTICIPATION IN THE EU GERMANY EU MEMBER COUNTRY SINCE 1958, EURO AREA MEMBER SINCE 1999, SCHENGEN AREA MEMBER SINCE 1995 AND MORE ABOUT GERMANY’S PARTICIPATION IN THE EU GREECE EU MEMBER COUNTRY SINCE 1981, EURO AREA MEMBER SINCE 2001, SCHENGEN AREA MEMBER SINCE 2000 AND MORE ABOUT GREECE’S PARTICIPATION IN THE EU HUNGARY EU MEMBER COUNTRY SINCE 2004, SCHENGEN AREA MEMBER SINCE 2007 AND MORE ABOUT HUNGARY’S PARTICIPATION IN THE EU IRELAND EU MEMBER COUNTRY SINCE 1973, EURO AREA MEMBER SINCE 1999, OPT-OUT FROM SCHENGEN AREA AND MORE ABOUT IRELAND’S PARTICIPATION IN THE EU ITALY EU MEMBER COUNTRY SINCE 1958, EURO AREA MEMBER SINCE 1999, SCHENGEN AREA MEMBER SINCE 1997 AND MORE ABOUT ITALY’S PARTICIPATION IN THE EU LATVIA EU MEMBER COUNTRY SINCE 2004, EURO AREA MEMBER SINCE 2014, SCHENGEN AREA MEMBER SINCE 2007 AND MORE ABOUT LATVIA’S PARTICIPATION IN THE EU LITHUANIA EU MEMBER COUNTRY SINCE 2004, EURO AREA MEMBER SINCE 2015, SCHENGEN AREA MEMBER SINCE 2007 AND MORE ABOUT LITHUANIA’S PARTICIPATION IN THE EU LUXEMBOURG EU MEMBER COUNTRY SINCE 1958, EURO AREA MEMBER SINCE 1999, SCHENGEN AREA MEMBER SINCE 1995 AND MORE ABOUT LUXEMBOURG’S PARTICIPATION IN THE EU MALTA EU MEMBER COUNTRY SINCE 2004, EURO AREA MEMBER SINCE 2008, SCHENGEN AREA MEMBER SINCE 2007 AND MORE ABOUT MALTA’S PARTICIPATION IN THE EU NETHERLANDS EU MEMBER COUNTRY SINCE 1958, EURO AREA MEMBER SINCE 1999, SCHENGEN AREA MEMBER SINCE 1995 AND MORE ABOUT THE NETHERLANDS’ PARTICIPATION IN THE EU POLAND EU MEMBER COUNTRY SINCE 2004, SCHENGEN AREA MEMBER SINCE 2007 AND MORE ABOUT POLAND’S PARTICIPATION IN THE EU PORTUGAL EU MEMBER COUNTRY SINCE 1986, EURO AREA MEMBER SINCE 1999, SCHENGEN AREA MEMBER SINCE 1995 AND MORE ABOUT PORTUGAL’S PARTICIPATION IN THE EU ROMANIA EU MEMBER COUNTRY SINCE 2007 AND MORE ABOUT ROMANIA’S PARTICIPATION IN THE EU SLOVAKIA EU MEMBER COUNTRY SINCE 2004, EURO AREA MEMBER SINCE 2009, SCHENGEN AREA MEMBER SINCE 2007 AND MORE ABOUT SLOVAKIA’S PARTICIPATION IN THE EU SLOVENIA EU MEMBER COUNTRY SINCE 2004, EURO AREA MEMBER SINCE 2007, SCHENGEN AREA MEMBER SINCE 2007 AND MORE ABOUT SLOVENIA’S PARTICIPATION IN THE EU SPAIN EU MEMBER COUNTRY SINCE 1986, EURO AREA MEMBER SINCE 1999, SCHENGEN AREA MEMBER SINCE 1995 AND MORE ABOUT SPAIN’S PARTICIPATION IN THE EU SWEDEN EU MEMBER COUNTRY SINCE 1995, SCHENGEN AREA MEMBER SINCE 2001 AND MORE ABOUT SWEDEN’S PARTICIPATION IN THE EU\""
      ]
     },
     "execution_count": 217,
     "metadata": {},
     "output_type": "execute_result"
    }
   ],
   "source": [
    "come"
   ]
  },
  {
   "cell_type": "code",
   "execution_count": 218,
   "id": "1e328b58-ac99-46c2-9f54-e02229f8f9bf",
   "metadata": {},
   "outputs": [],
   "source": [
    "# i need to get the intersection of countries"
   ]
  },
  {
   "cell_type": "code",
   "execution_count": null,
   "id": "9fc24104-928e-486b-9ded-1748f1f014d8",
   "metadata": {},
   "outputs": [],
   "source": []
  },
  {
   "cell_type": "code",
   "execution_count": 219,
   "id": "74ea9eca-f77e-46a4-9e0a-cfd51632cd8b",
   "metadata": {},
   "outputs": [],
   "source": [
    "#movi\n",
    "#come\n",
    "\n",
    "read = set(result.split()) & set(come.split())"
   ]
  },
  {
   "cell_type": "code",
   "execution_count": 220,
   "id": "3143b8d2-f658-4d8d-aaa2-ac8b755708d0",
   "metadata": {},
   "outputs": [],
   "source": [
    "readd = list(read)"
   ]
  },
  {
   "cell_type": "code",
   "execution_count": 221,
   "id": "adfca038-f81f-402b-b975-f077d80ce4c4",
   "metadata": {},
   "outputs": [
    {
     "data": {
      "text/plain": [
       "['POLAND',\n",
       " 'LUXEMBOURG',\n",
       " 'SLOVAKIA',\n",
       " 'GREECE',\n",
       " 'ROMANIA',\n",
       " 'LITHUANIA',\n",
       " 'NETHERLANDS',\n",
       " 'SPAIN',\n",
       " 'CROATIA',\n",
       " 'IRELAND',\n",
       " 'LATVIA',\n",
       " 'FRANCE',\n",
       " 'CYPRUS',\n",
       " 'ESTONIA',\n",
       " 'HUNGARY',\n",
       " 'PORTUGAL',\n",
       " 'GERMANY',\n",
       " 'SWEDEN',\n",
       " 'FINLAND',\n",
       " 'AUSTRIA',\n",
       " 'BELGIUM',\n",
       " 'ITALY',\n",
       " 'SLOVENIA',\n",
       " 'DENMARK']"
      ]
     },
     "execution_count": 221,
     "metadata": {},
     "output_type": "execute_result"
    }
   ],
   "source": [
    "readd"
   ]
  },
  {
   "cell_type": "code",
   "execution_count": 222,
   "id": "d905723f-3134-4ad5-be1a-33fb79088e5f",
   "metadata": {},
   "outputs": [],
   "source": [
    "i = len(readd)"
   ]
  },
  {
   "cell_type": "code",
   "execution_count": 223,
   "id": "1f0733fe-c31a-4540-a437-bfd2820e2798",
   "metadata": {},
   "outputs": [],
   "source": [
    "matches = []\n",
    "\n",
    "for match in list1:\n",
    "    if readd[i-1] in match:\n",
    "        matches.append(match)\n",
    "        i-=1"
   ]
  },
  {
   "cell_type": "code",
   "execution_count": 224,
   "id": "05e4d074-2a23-40c1-b087-77930fa8ca63",
   "metadata": {},
   "outputs": [
    {
     "data": {
      "text/plain": [
       "list"
      ]
     },
     "execution_count": 224,
     "metadata": {},
     "output_type": "execute_result"
    }
   ],
   "source": [
    "type(matches)"
   ]
  },
  {
   "cell_type": "code",
   "execution_count": 225,
   "id": "fe865842-cb65-4d8f-b007-7419bc046aaf",
   "metadata": {},
   "outputs": [],
   "source": [
    "i = len(readd)"
   ]
  },
  {
   "cell_type": "code",
   "execution_count": 226,
   "id": "12e10d62-f689-4e43-bad2-a903416a6e58",
   "metadata": {},
   "outputs": [
    {
     "data": {
      "text/plain": [
       "24"
      ]
     },
     "execution_count": 226,
     "metadata": {},
     "output_type": "execute_result"
    }
   ],
   "source": [
    "i"
   ]
  },
  {
   "cell_type": "code",
   "execution_count": 227,
   "id": "f5c6ff36-c9d4-4bdc-ada5-a520ae4f7911",
   "metadata": {},
   "outputs": [
    {
     "data": {
      "text/plain": [
       "'DENMARK'"
      ]
     },
     "execution_count": 227,
     "metadata": {},
     "output_type": "execute_result"
    }
   ],
   "source": [
    "readd[i-1]"
   ]
  },
  {
   "cell_type": "code",
   "execution_count": 419,
   "id": "921b0459-d4f6-4dc2-a3a3-bcc1debadf9e",
   "metadata": {},
   "outputs": [
    {
     "data": {
      "text/plain": [
       "pandas.core.frame.DataFrame"
      ]
     },
     "execution_count": 419,
     "metadata": {},
     "output_type": "execute_result"
    }
   ],
   "source": [
    "type(df)"
   ]
  },
  {
   "cell_type": "code",
   "execution_count": 228,
   "id": "097c0874-1db1-4bd4-a702-5830812b222e",
   "metadata": {},
   "outputs": [],
   "source": [
    "df['country'] = df['country'].replace(readd,'Europe')\n"
   ]
  },
  {
   "cell_type": "code",
   "execution_count": null,
   "id": "438eca55-a8a0-4158-b550-5a8d0a61a809",
   "metadata": {},
   "outputs": [],
   "source": []
  },
  {
   "cell_type": "code",
   "execution_count": 229,
   "id": "f9ed9eb4-66dc-467a-b004-766923d90da2",
   "metadata": {},
   "outputs": [],
   "source": [
    "euro = df[df['country'] == 'Europe' ]\n",
    "#i=df[df[‘Name’]==’Will’]\n",
    "#print(i)"
   ]
  },
  {
   "cell_type": "code",
   "execution_count": 230,
   "id": "b417e8f2-721d-48ff-bc10-44560c0043de",
   "metadata": {},
   "outputs": [
    {
     "data": {
      "text/html": [
       "<div>\n",
       "<style scoped>\n",
       "    .dataframe tbody tr th:only-of-type {\n",
       "        vertical-align: middle;\n",
       "    }\n",
       "\n",
       "    .dataframe tbody tr th {\n",
       "        vertical-align: top;\n",
       "    }\n",
       "\n",
       "    .dataframe thead th {\n",
       "        text-align: right;\n",
       "    }\n",
       "</style>\n",
       "<table border=\"1\" class=\"dataframe\">\n",
       "  <thead>\n",
       "    <tr style=\"text-align: right;\">\n",
       "      <th></th>\n",
       "      <th>ID</th>\n",
       "      <th>country</th>\n",
       "      <th>age_group</th>\n",
       "      <th>travel_with</th>\n",
       "      <th>total_female</th>\n",
       "      <th>total_male</th>\n",
       "      <th>purpose</th>\n",
       "      <th>main_activity</th>\n",
       "      <th>info_source</th>\n",
       "      <th>tour_arrangement</th>\n",
       "      <th>...</th>\n",
       "      <th>package_transport_tz</th>\n",
       "      <th>package_sightseeing</th>\n",
       "      <th>package_guided_tour</th>\n",
       "      <th>package_insurance</th>\n",
       "      <th>night_mainland</th>\n",
       "      <th>night_zanzibar</th>\n",
       "      <th>payment_mode</th>\n",
       "      <th>first_trip_tz</th>\n",
       "      <th>most_impressing</th>\n",
       "      <th>total_cost</th>\n",
       "    </tr>\n",
       "  </thead>\n",
       "  <tbody>\n",
       "    <tr>\n",
       "      <th>0</th>\n",
       "      <td>tour_0</td>\n",
       "      <td>SWIZERLAND</td>\n",
       "      <td>45-64</td>\n",
       "      <td>Friends/Relatives</td>\n",
       "      <td>1.0</td>\n",
       "      <td>1.0</td>\n",
       "      <td>Leisure and Holidays</td>\n",
       "      <td>Wildlife tourism</td>\n",
       "      <td>Friends, relatives</td>\n",
       "      <td>Independent</td>\n",
       "      <td>...</td>\n",
       "      <td>No</td>\n",
       "      <td>No</td>\n",
       "      <td>No</td>\n",
       "      <td>No</td>\n",
       "      <td>13</td>\n",
       "      <td>0</td>\n",
       "      <td>Cash</td>\n",
       "      <td>No</td>\n",
       "      <td>Friendly People</td>\n",
       "      <td>674602.5</td>\n",
       "    </tr>\n",
       "    <tr>\n",
       "      <th>1</th>\n",
       "      <td>tour_10</td>\n",
       "      <td>UNITED KINGDOM</td>\n",
       "      <td>25-44</td>\n",
       "      <td>NaN</td>\n",
       "      <td>1.0</td>\n",
       "      <td>0.0</td>\n",
       "      <td>Leisure and Holidays</td>\n",
       "      <td>Cultural tourism</td>\n",
       "      <td>others</td>\n",
       "      <td>Independent</td>\n",
       "      <td>...</td>\n",
       "      <td>No</td>\n",
       "      <td>No</td>\n",
       "      <td>No</td>\n",
       "      <td>No</td>\n",
       "      <td>14</td>\n",
       "      <td>7</td>\n",
       "      <td>Cash</td>\n",
       "      <td>Yes</td>\n",
       "      <td>Wonderful Country, Landscape, Nature</td>\n",
       "      <td>3214906.5</td>\n",
       "    </tr>\n",
       "    <tr>\n",
       "      <th>2</th>\n",
       "      <td>tour_1000</td>\n",
       "      <td>UNITED KINGDOM</td>\n",
       "      <td>25-44</td>\n",
       "      <td>Alone</td>\n",
       "      <td>0.0</td>\n",
       "      <td>1.0</td>\n",
       "      <td>Visiting Friends and Relatives</td>\n",
       "      <td>Cultural tourism</td>\n",
       "      <td>Friends, relatives</td>\n",
       "      <td>Independent</td>\n",
       "      <td>...</td>\n",
       "      <td>No</td>\n",
       "      <td>No</td>\n",
       "      <td>No</td>\n",
       "      <td>No</td>\n",
       "      <td>1</td>\n",
       "      <td>31</td>\n",
       "      <td>Cash</td>\n",
       "      <td>No</td>\n",
       "      <td>Excellent Experience</td>\n",
       "      <td>3315000.0</td>\n",
       "    </tr>\n",
       "    <tr>\n",
       "      <th>3</th>\n",
       "      <td>tour_1002</td>\n",
       "      <td>UNITED KINGDOM</td>\n",
       "      <td>25-44</td>\n",
       "      <td>Spouse</td>\n",
       "      <td>1.0</td>\n",
       "      <td>1.0</td>\n",
       "      <td>Leisure and Holidays</td>\n",
       "      <td>Wildlife tourism</td>\n",
       "      <td>Travel, agent, tour operator</td>\n",
       "      <td>Package Tour</td>\n",
       "      <td>...</td>\n",
       "      <td>Yes</td>\n",
       "      <td>Yes</td>\n",
       "      <td>Yes</td>\n",
       "      <td>No</td>\n",
       "      <td>11</td>\n",
       "      <td>0</td>\n",
       "      <td>Cash</td>\n",
       "      <td>Yes</td>\n",
       "      <td>Friendly People</td>\n",
       "      <td>7790250.0</td>\n",
       "    </tr>\n",
       "    <tr>\n",
       "      <th>4</th>\n",
       "      <td>tour_1004</td>\n",
       "      <td>CHINA</td>\n",
       "      <td>2022-01-24 00:00:00</td>\n",
       "      <td>NaN</td>\n",
       "      <td>1.0</td>\n",
       "      <td>0.0</td>\n",
       "      <td>Leisure and Holidays</td>\n",
       "      <td>Wildlife tourism</td>\n",
       "      <td>Travel, agent, tour operator</td>\n",
       "      <td>Independent</td>\n",
       "      <td>...</td>\n",
       "      <td>No</td>\n",
       "      <td>No</td>\n",
       "      <td>No</td>\n",
       "      <td>No</td>\n",
       "      <td>7</td>\n",
       "      <td>4</td>\n",
       "      <td>Cash</td>\n",
       "      <td>Yes</td>\n",
       "      <td>No comments</td>\n",
       "      <td>1657500.0</td>\n",
       "    </tr>\n",
       "    <tr>\n",
       "      <th>...</th>\n",
       "      <td>...</td>\n",
       "      <td>...</td>\n",
       "      <td>...</td>\n",
       "      <td>...</td>\n",
       "      <td>...</td>\n",
       "      <td>...</td>\n",
       "      <td>...</td>\n",
       "      <td>...</td>\n",
       "      <td>...</td>\n",
       "      <td>...</td>\n",
       "      <td>...</td>\n",
       "      <td>...</td>\n",
       "      <td>...</td>\n",
       "      <td>...</td>\n",
       "      <td>...</td>\n",
       "      <td>...</td>\n",
       "      <td>...</td>\n",
       "      <td>...</td>\n",
       "      <td>...</td>\n",
       "      <td>...</td>\n",
       "      <td>...</td>\n",
       "    </tr>\n",
       "    <tr>\n",
       "      <th>4804</th>\n",
       "      <td>tour_993</td>\n",
       "      <td>UAE</td>\n",
       "      <td>45-64</td>\n",
       "      <td>Alone</td>\n",
       "      <td>0.0</td>\n",
       "      <td>1.0</td>\n",
       "      <td>Business</td>\n",
       "      <td>Hunting tourism</td>\n",
       "      <td>Friends, relatives</td>\n",
       "      <td>Independent</td>\n",
       "      <td>...</td>\n",
       "      <td>No</td>\n",
       "      <td>No</td>\n",
       "      <td>No</td>\n",
       "      <td>No</td>\n",
       "      <td>2</td>\n",
       "      <td>0</td>\n",
       "      <td>Credit Card</td>\n",
       "      <td>No</td>\n",
       "      <td>No comments</td>\n",
       "      <td>3315000.0</td>\n",
       "    </tr>\n",
       "    <tr>\n",
       "      <th>4805</th>\n",
       "      <td>tour_994</td>\n",
       "      <td>UNITED STATES OF AMERICA</td>\n",
       "      <td>25-44</td>\n",
       "      <td>Spouse</td>\n",
       "      <td>1.0</td>\n",
       "      <td>1.0</td>\n",
       "      <td>Leisure and Holidays</td>\n",
       "      <td>Wildlife tourism</td>\n",
       "      <td>Travel, agent, tour operator</td>\n",
       "      <td>Package Tour</td>\n",
       "      <td>...</td>\n",
       "      <td>Yes</td>\n",
       "      <td>Yes</td>\n",
       "      <td>Yes</td>\n",
       "      <td>Yes</td>\n",
       "      <td>11</td>\n",
       "      <td>0</td>\n",
       "      <td>Cash</td>\n",
       "      <td>Yes</td>\n",
       "      <td>Friendly People</td>\n",
       "      <td>10690875.0</td>\n",
       "    </tr>\n",
       "    <tr>\n",
       "      <th>4806</th>\n",
       "      <td>tour_995</td>\n",
       "      <td>Europe</td>\n",
       "      <td>2022-01-24 00:00:00</td>\n",
       "      <td>NaN</td>\n",
       "      <td>1.0</td>\n",
       "      <td>0.0</td>\n",
       "      <td>Leisure and Holidays</td>\n",
       "      <td>Wildlife tourism</td>\n",
       "      <td>others</td>\n",
       "      <td>Independent</td>\n",
       "      <td>...</td>\n",
       "      <td>No</td>\n",
       "      <td>No</td>\n",
       "      <td>No</td>\n",
       "      <td>No</td>\n",
       "      <td>3</td>\n",
       "      <td>7</td>\n",
       "      <td>Cash</td>\n",
       "      <td>Yes</td>\n",
       "      <td>Good service</td>\n",
       "      <td>2246636.7</td>\n",
       "    </tr>\n",
       "    <tr>\n",
       "      <th>4807</th>\n",
       "      <td>tour_997</td>\n",
       "      <td>SOUTH AFRICA</td>\n",
       "      <td>25-44</td>\n",
       "      <td>Friends/Relatives</td>\n",
       "      <td>1.0</td>\n",
       "      <td>1.0</td>\n",
       "      <td>Business</td>\n",
       "      <td>Beach tourism</td>\n",
       "      <td>Travel, agent, tour operator</td>\n",
       "      <td>Independent</td>\n",
       "      <td>...</td>\n",
       "      <td>No</td>\n",
       "      <td>No</td>\n",
       "      <td>No</td>\n",
       "      <td>No</td>\n",
       "      <td>5</td>\n",
       "      <td>0</td>\n",
       "      <td>Credit Card</td>\n",
       "      <td>No</td>\n",
       "      <td>Friendly People</td>\n",
       "      <td>1160250.0</td>\n",
       "    </tr>\n",
       "    <tr>\n",
       "      <th>4808</th>\n",
       "      <td>tour_999</td>\n",
       "      <td>UNITED KINGDOM</td>\n",
       "      <td>25-44</td>\n",
       "      <td>Spouse</td>\n",
       "      <td>1.0</td>\n",
       "      <td>1.0</td>\n",
       "      <td>Leisure and Holidays</td>\n",
       "      <td>Wildlife tourism</td>\n",
       "      <td>Travel, agent, tour operator</td>\n",
       "      <td>Package Tour</td>\n",
       "      <td>...</td>\n",
       "      <td>Yes</td>\n",
       "      <td>Yes</td>\n",
       "      <td>Yes</td>\n",
       "      <td>No</td>\n",
       "      <td>4</td>\n",
       "      <td>7</td>\n",
       "      <td>Cash</td>\n",
       "      <td>Yes</td>\n",
       "      <td>Friendly People</td>\n",
       "      <td>13260000.0</td>\n",
       "    </tr>\n",
       "  </tbody>\n",
       "</table>\n",
       "<p>4809 rows × 23 columns</p>\n",
       "</div>"
      ],
      "text/plain": [
       "             ID                   country            age_group  \\\n",
       "0        tour_0                SWIZERLAND                45-64   \n",
       "1       tour_10            UNITED KINGDOM                25-44   \n",
       "2     tour_1000            UNITED KINGDOM                25-44   \n",
       "3     tour_1002            UNITED KINGDOM                25-44   \n",
       "4     tour_1004                     CHINA  2022-01-24 00:00:00   \n",
       "...         ...                       ...                  ...   \n",
       "4804   tour_993                       UAE                45-64   \n",
       "4805   tour_994  UNITED STATES OF AMERICA                25-44   \n",
       "4806   tour_995                    Europe  2022-01-24 00:00:00   \n",
       "4807   tour_997              SOUTH AFRICA                25-44   \n",
       "4808   tour_999            UNITED KINGDOM                25-44   \n",
       "\n",
       "            travel_with  total_female  total_male  \\\n",
       "0     Friends/Relatives           1.0         1.0   \n",
       "1                   NaN           1.0         0.0   \n",
       "2                 Alone           0.0         1.0   \n",
       "3                Spouse           1.0         1.0   \n",
       "4                   NaN           1.0         0.0   \n",
       "...                 ...           ...         ...   \n",
       "4804              Alone           0.0         1.0   \n",
       "4805             Spouse           1.0         1.0   \n",
       "4806                NaN           1.0         0.0   \n",
       "4807  Friends/Relatives           1.0         1.0   \n",
       "4808             Spouse           1.0         1.0   \n",
       "\n",
       "                             purpose     main_activity  \\\n",
       "0               Leisure and Holidays  Wildlife tourism   \n",
       "1               Leisure and Holidays  Cultural tourism   \n",
       "2     Visiting Friends and Relatives  Cultural tourism   \n",
       "3               Leisure and Holidays  Wildlife tourism   \n",
       "4               Leisure and Holidays  Wildlife tourism   \n",
       "...                              ...               ...   \n",
       "4804                        Business   Hunting tourism   \n",
       "4805            Leisure and Holidays  Wildlife tourism   \n",
       "4806            Leisure and Holidays  Wildlife tourism   \n",
       "4807                        Business     Beach tourism   \n",
       "4808            Leisure and Holidays  Wildlife tourism   \n",
       "\n",
       "                       info_source tour_arrangement  ... package_transport_tz  \\\n",
       "0               Friends, relatives      Independent  ...                   No   \n",
       "1                           others      Independent  ...                   No   \n",
       "2               Friends, relatives      Independent  ...                   No   \n",
       "3     Travel, agent, tour operator     Package Tour  ...                  Yes   \n",
       "4     Travel, agent, tour operator      Independent  ...                   No   \n",
       "...                            ...              ...  ...                  ...   \n",
       "4804            Friends, relatives      Independent  ...                   No   \n",
       "4805  Travel, agent, tour operator     Package Tour  ...                  Yes   \n",
       "4806                        others      Independent  ...                   No   \n",
       "4807  Travel, agent, tour operator      Independent  ...                   No   \n",
       "4808  Travel, agent, tour operator     Package Tour  ...                  Yes   \n",
       "\n",
       "     package_sightseeing package_guided_tour package_insurance night_mainland  \\\n",
       "0                     No                  No                No             13   \n",
       "1                     No                  No                No             14   \n",
       "2                     No                  No                No              1   \n",
       "3                    Yes                 Yes                No             11   \n",
       "4                     No                  No                No              7   \n",
       "...                  ...                 ...               ...            ...   \n",
       "4804                  No                  No                No              2   \n",
       "4805                 Yes                 Yes               Yes             11   \n",
       "4806                  No                  No                No              3   \n",
       "4807                  No                  No                No              5   \n",
       "4808                 Yes                 Yes                No              4   \n",
       "\n",
       "     night_zanzibar payment_mode  first_trip_tz  \\\n",
       "0                 0         Cash             No   \n",
       "1                 7         Cash            Yes   \n",
       "2                31         Cash             No   \n",
       "3                 0         Cash            Yes   \n",
       "4                 4         Cash            Yes   \n",
       "...             ...          ...            ...   \n",
       "4804              0  Credit Card             No   \n",
       "4805              0         Cash            Yes   \n",
       "4806              7         Cash            Yes   \n",
       "4807              0  Credit Card             No   \n",
       "4808              7         Cash            Yes   \n",
       "\n",
       "                           most_impressing  total_cost  \n",
       "0                          Friendly People    674602.5  \n",
       "1     Wonderful Country, Landscape, Nature   3214906.5  \n",
       "2                     Excellent Experience   3315000.0  \n",
       "3                          Friendly People   7790250.0  \n",
       "4                              No comments   1657500.0  \n",
       "...                                    ...         ...  \n",
       "4804                           No comments   3315000.0  \n",
       "4805                       Friendly People  10690875.0  \n",
       "4806                          Good service   2246636.7  \n",
       "4807                       Friendly People   1160250.0  \n",
       "4808                       Friendly People  13260000.0  \n",
       "\n",
       "[4809 rows x 23 columns]"
      ]
     },
     "execution_count": 230,
     "metadata": {},
     "output_type": "execute_result"
    }
   ],
   "source": [
    "df"
   ]
  },
  {
   "cell_type": "code",
   "execution_count": 232,
   "id": "5a2874e0-082a-4626-8321-c6ae100b2f23",
   "metadata": {},
   "outputs": [
    {
     "data": {
      "text/plain": [
       "<bound method Series.count of 0                     SWIZERLAND\n",
       "1                 UNITED KINGDOM\n",
       "2                 UNITED KINGDOM\n",
       "3                 UNITED KINGDOM\n",
       "4                          CHINA\n",
       "                  ...           \n",
       "4804                         UAE\n",
       "4805    UNITED STATES OF AMERICA\n",
       "4806                      Europe\n",
       "4807                SOUTH AFRICA\n",
       "4808              UNITED KINGDOM\n",
       "Name: country, Length: 4809, dtype: object>"
      ]
     },
     "execution_count": 232,
     "metadata": {},
     "output_type": "execute_result"
    }
   ],
   "source": [
    "df['country'].count"
   ]
  },
  {
   "cell_type": "code",
   "execution_count": null,
   "id": "c47fb192-0707-400e-93c2-16619fe0b9ec",
   "metadata": {},
   "outputs": [],
   "source": []
  }
 ],
 "metadata": {
  "kernelspec": {
   "display_name": "Python 3 (ipykernel)",
   "language": "python",
   "name": "python3"
  },
  "language_info": {
   "codemirror_mode": {
    "name": "ipython",
    "version": 3
   },
   "file_extension": ".py",
   "mimetype": "text/x-python",
   "name": "python",
   "nbconvert_exporter": "python",
   "pygments_lexer": "ipython3",
   "version": "3.9.7"
  }
 },
 "nbformat": 4,
 "nbformat_minor": 5
}
