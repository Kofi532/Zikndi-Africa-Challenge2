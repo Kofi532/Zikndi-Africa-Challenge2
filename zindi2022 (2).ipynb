{
 "cells": [
  {
   "cell_type": "code",
   "execution_count": 471,
   "id": "7b19bc67-bebe-4e2d-969d-789690584d03",
   "metadata": {},
   "outputs": [],
   "source": [
    "import pandas as pd\n",
    "import numpy as np\n",
    "import time\n",
    "from time import sleep"
   ]
  },
  {
   "cell_type": "code",
   "execution_count": 472,
   "id": "23eb173d-bb12-4fc6-8362-582903ea088e",
   "metadata": {},
   "outputs": [],
   "source": [
    "df = pd.read_excel (\"C:\\\\Users\\\\Kofi\\\\Desktop\\\\Train.xlsx\")\n",
    "time.sleep(2)\n",
    "#\"C:\\Users\\Kofi\\Downloads\\Train.csv\"\n",
    "#C:\\Users\\Kofi\\Desktop\\Train.xlsx"
   ]
  },
  {
   "cell_type": "code",
   "execution_count": 473,
   "id": "a47612fa-be78-495d-8a5b-3832298047ec",
   "metadata": {},
   "outputs": [
    {
     "data": {
      "text/html": [
       "<div>\n",
       "<style scoped>\n",
       "    .dataframe tbody tr th:only-of-type {\n",
       "        vertical-align: middle;\n",
       "    }\n",
       "\n",
       "    .dataframe tbody tr th {\n",
       "        vertical-align: top;\n",
       "    }\n",
       "\n",
       "    .dataframe thead th {\n",
       "        text-align: right;\n",
       "    }\n",
       "</style>\n",
       "<table border=\"1\" class=\"dataframe\">\n",
       "  <thead>\n",
       "    <tr style=\"text-align: right;\">\n",
       "      <th></th>\n",
       "      <th>ID</th>\n",
       "      <th>country</th>\n",
       "      <th>age_group</th>\n",
       "      <th>travel_with</th>\n",
       "      <th>total_female</th>\n",
       "      <th>total_male</th>\n",
       "      <th>purpose</th>\n",
       "      <th>main_activity</th>\n",
       "      <th>info_source</th>\n",
       "      <th>tour_arrangement</th>\n",
       "      <th>...</th>\n",
       "      <th>package_transport_tz</th>\n",
       "      <th>package_sightseeing</th>\n",
       "      <th>package_guided_tour</th>\n",
       "      <th>package_insurance</th>\n",
       "      <th>night_mainland</th>\n",
       "      <th>night_zanzibar</th>\n",
       "      <th>payment_mode</th>\n",
       "      <th>first_trip_tz</th>\n",
       "      <th>most_impressing</th>\n",
       "      <th>total_cost</th>\n",
       "    </tr>\n",
       "  </thead>\n",
       "  <tbody>\n",
       "    <tr>\n",
       "      <th>0</th>\n",
       "      <td>tour_0</td>\n",
       "      <td>SWIZERLAND</td>\n",
       "      <td>45-64</td>\n",
       "      <td>Friends/Relatives</td>\n",
       "      <td>1.0</td>\n",
       "      <td>1.0</td>\n",
       "      <td>Leisure and Holidays</td>\n",
       "      <td>Wildlife tourism</td>\n",
       "      <td>Friends, relatives</td>\n",
       "      <td>Independent</td>\n",
       "      <td>...</td>\n",
       "      <td>No</td>\n",
       "      <td>No</td>\n",
       "      <td>No</td>\n",
       "      <td>No</td>\n",
       "      <td>13</td>\n",
       "      <td>0</td>\n",
       "      <td>Cash</td>\n",
       "      <td>No</td>\n",
       "      <td>Friendly People</td>\n",
       "      <td>674602.5</td>\n",
       "    </tr>\n",
       "    <tr>\n",
       "      <th>1</th>\n",
       "      <td>tour_10</td>\n",
       "      <td>UNITED KINGDOM</td>\n",
       "      <td>25-44</td>\n",
       "      <td>NaN</td>\n",
       "      <td>1.0</td>\n",
       "      <td>0.0</td>\n",
       "      <td>Leisure and Holidays</td>\n",
       "      <td>Cultural tourism</td>\n",
       "      <td>others</td>\n",
       "      <td>Independent</td>\n",
       "      <td>...</td>\n",
       "      <td>No</td>\n",
       "      <td>No</td>\n",
       "      <td>No</td>\n",
       "      <td>No</td>\n",
       "      <td>14</td>\n",
       "      <td>7</td>\n",
       "      <td>Cash</td>\n",
       "      <td>Yes</td>\n",
       "      <td>Wonderful Country, Landscape, Nature</td>\n",
       "      <td>3214906.5</td>\n",
       "    </tr>\n",
       "    <tr>\n",
       "      <th>2</th>\n",
       "      <td>tour_1000</td>\n",
       "      <td>UNITED KINGDOM</td>\n",
       "      <td>25-44</td>\n",
       "      <td>Alone</td>\n",
       "      <td>0.0</td>\n",
       "      <td>1.0</td>\n",
       "      <td>Visiting Friends and Relatives</td>\n",
       "      <td>Cultural tourism</td>\n",
       "      <td>Friends, relatives</td>\n",
       "      <td>Independent</td>\n",
       "      <td>...</td>\n",
       "      <td>No</td>\n",
       "      <td>No</td>\n",
       "      <td>No</td>\n",
       "      <td>No</td>\n",
       "      <td>1</td>\n",
       "      <td>31</td>\n",
       "      <td>Cash</td>\n",
       "      <td>No</td>\n",
       "      <td>Excellent Experience</td>\n",
       "      <td>3315000.0</td>\n",
       "    </tr>\n",
       "    <tr>\n",
       "      <th>3</th>\n",
       "      <td>tour_1002</td>\n",
       "      <td>UNITED KINGDOM</td>\n",
       "      <td>25-44</td>\n",
       "      <td>Spouse</td>\n",
       "      <td>1.0</td>\n",
       "      <td>1.0</td>\n",
       "      <td>Leisure and Holidays</td>\n",
       "      <td>Wildlife tourism</td>\n",
       "      <td>Travel, agent, tour operator</td>\n",
       "      <td>Package Tour</td>\n",
       "      <td>...</td>\n",
       "      <td>Yes</td>\n",
       "      <td>Yes</td>\n",
       "      <td>Yes</td>\n",
       "      <td>No</td>\n",
       "      <td>11</td>\n",
       "      <td>0</td>\n",
       "      <td>Cash</td>\n",
       "      <td>Yes</td>\n",
       "      <td>Friendly People</td>\n",
       "      <td>7790250.0</td>\n",
       "    </tr>\n",
       "    <tr>\n",
       "      <th>4</th>\n",
       "      <td>tour_1004</td>\n",
       "      <td>CHINA</td>\n",
       "      <td>2022-01-24 00:00:00</td>\n",
       "      <td>NaN</td>\n",
       "      <td>1.0</td>\n",
       "      <td>0.0</td>\n",
       "      <td>Leisure and Holidays</td>\n",
       "      <td>Wildlife tourism</td>\n",
       "      <td>Travel, agent, tour operator</td>\n",
       "      <td>Independent</td>\n",
       "      <td>...</td>\n",
       "      <td>No</td>\n",
       "      <td>No</td>\n",
       "      <td>No</td>\n",
       "      <td>No</td>\n",
       "      <td>7</td>\n",
       "      <td>4</td>\n",
       "      <td>Cash</td>\n",
       "      <td>Yes</td>\n",
       "      <td>No comments</td>\n",
       "      <td>1657500.0</td>\n",
       "    </tr>\n",
       "  </tbody>\n",
       "</table>\n",
       "<p>5 rows × 23 columns</p>\n",
       "</div>"
      ],
      "text/plain": [
       "          ID         country            age_group        travel_with  \\\n",
       "0     tour_0      SWIZERLAND                45-64  Friends/Relatives   \n",
       "1    tour_10  UNITED KINGDOM                25-44                NaN   \n",
       "2  tour_1000  UNITED KINGDOM                25-44              Alone   \n",
       "3  tour_1002  UNITED KINGDOM                25-44             Spouse   \n",
       "4  tour_1004           CHINA  2022-01-24 00:00:00                NaN   \n",
       "\n",
       "   total_female  total_male                         purpose     main_activity  \\\n",
       "0           1.0         1.0            Leisure and Holidays  Wildlife tourism   \n",
       "1           1.0         0.0            Leisure and Holidays  Cultural tourism   \n",
       "2           0.0         1.0  Visiting Friends and Relatives  Cultural tourism   \n",
       "3           1.0         1.0            Leisure and Holidays  Wildlife tourism   \n",
       "4           1.0         0.0            Leisure and Holidays  Wildlife tourism   \n",
       "\n",
       "                    info_source tour_arrangement  ... package_transport_tz  \\\n",
       "0            Friends, relatives      Independent  ...                   No   \n",
       "1                        others      Independent  ...                   No   \n",
       "2            Friends, relatives      Independent  ...                   No   \n",
       "3  Travel, agent, tour operator     Package Tour  ...                  Yes   \n",
       "4  Travel, agent, tour operator      Independent  ...                   No   \n",
       "\n",
       "  package_sightseeing package_guided_tour package_insurance night_mainland  \\\n",
       "0                  No                  No                No             13   \n",
       "1                  No                  No                No             14   \n",
       "2                  No                  No                No              1   \n",
       "3                 Yes                 Yes                No             11   \n",
       "4                  No                  No                No              7   \n",
       "\n",
       "  night_zanzibar payment_mode  first_trip_tz  \\\n",
       "0              0         Cash             No   \n",
       "1              7         Cash            Yes   \n",
       "2             31         Cash             No   \n",
       "3              0         Cash            Yes   \n",
       "4              4         Cash            Yes   \n",
       "\n",
       "                        most_impressing total_cost  \n",
       "0                       Friendly People   674602.5  \n",
       "1  Wonderful Country, Landscape, Nature  3214906.5  \n",
       "2                  Excellent Experience  3315000.0  \n",
       "3                       Friendly People  7790250.0  \n",
       "4                           No comments  1657500.0  \n",
       "\n",
       "[5 rows x 23 columns]"
      ]
     },
     "execution_count": 473,
     "metadata": {},
     "output_type": "execute_result"
    }
   ],
   "source": [
    "df.head()"
   ]
  },
  {
   "cell_type": "code",
   "execution_count": 474,
   "id": "dd54bde4-8ac5-44be-bc4c-069041e37ad1",
   "metadata": {},
   "outputs": [],
   "source": [
    "ctry = df['country']"
   ]
  },
  {
   "cell_type": "code",
   "execution_count": 475,
   "id": "a3bffedf-02b5-4658-b2e6-5a0afccd5dfa",
   "metadata": {},
   "outputs": [
    {
     "data": {
      "text/plain": [
       "pandas.core.series.Series"
      ]
     },
     "execution_count": 475,
     "metadata": {},
     "output_type": "execute_result"
    }
   ],
   "source": [
    "type(ctry)"
   ]
  },
  {
   "cell_type": "code",
   "execution_count": 476,
   "id": "7b61d982-a39d-46a4-88ba-af32fa4911c2",
   "metadata": {},
   "outputs": [
    {
     "data": {
      "text/plain": [
       "count                         4809\n",
       "unique                         105\n",
       "top       UNITED STATES OF AMERICA\n",
       "freq                           695\n",
       "Name: country, dtype: object"
      ]
     },
     "execution_count": 476,
     "metadata": {},
     "output_type": "execute_result"
    }
   ],
   "source": [
    "ctry.describe()"
   ]
  },
  {
   "cell_type": "code",
   "execution_count": 477,
   "id": "4e2002be-4d85-493d-9194-f9c50b1aa956",
   "metadata": {},
   "outputs": [],
   "source": [
    "unique, counts = np.unique(ctry, return_counts=True)"
   ]
  },
  {
   "cell_type": "code",
   "execution_count": 478,
   "id": "0182dc86-0784-4d47-b658-2ffd23914cf4",
   "metadata": {},
   "outputs": [],
   "source": [
    "ctrys = np.asarray((unique, counts)).T"
   ]
  },
  {
   "cell_type": "code",
   "execution_count": 479,
   "id": "9185f928-1626-4feb-8dd6-c5cda26dbe1d",
   "metadata": {},
   "outputs": [
    {
     "name": "stderr",
     "output_type": "stream",
     "text": [
      "\n",
      "\n",
      "====== WebDriver manager ======\n",
      "Current google-chrome version is 101.0.4951\n",
      "Get LATEST chromedriver version for 101.0.4951 google-chrome\n",
      "Driver [C:\\Users\\Kofi\\.wdm\\drivers\\chromedriver\\win32\\101.0.4951.41\\chromedriver.exe] found in cache\n",
      "C:\\Users\\Kofi\\AppData\\Local\\Temp/ipykernel_13564/2674708284.py:6: DeprecationWarning: executable_path has been deprecated, please pass in a Service object\n",
      "  driver = webdriver.Chrome(ChromeDriverManager().install())\n"
     ]
    }
   ],
   "source": [
    "import time\n",
    "from time import sleep\n",
    "from selenium import webdriver\n",
    "from selenium.webdriver.common.keys import Keys\n",
    "from webdriver_manager.chrome import ChromeDriverManager\n",
    "driver = webdriver.Chrome(ChromeDriverManager().install())"
   ]
  },
  {
   "cell_type": "code",
   "execution_count": 480,
   "id": "faa9f2e0-f116-43c2-a6b2-a630c00bd88d",
   "metadata": {},
   "outputs": [],
   "source": [
    "driver.get(\"https://au.int/en/member_states/countryprofiles2\")  \n",
    "time.sleep(15)"
   ]
  },
  {
   "cell_type": "code",
   "execution_count": 481,
   "id": "989464f5-5e0c-49ca-bae8-62ce9b6c191c",
   "metadata": {},
   "outputs": [],
   "source": [
    "driver.maximize_window()"
   ]
  },
  {
   "cell_type": "code",
   "execution_count": 482,
   "id": "f202b9b6-06f6-4aba-8b61-ac407f961591",
   "metadata": {},
   "outputs": [
    {
     "name": "stderr",
     "output_type": "stream",
     "text": [
      "C:\\Users\\Kofi\\AppData\\Local\\Temp/ipykernel_13564/1135680224.py:1: DeprecationWarning: find_element_by_xpath is deprecated. Please use find_element(by=By.XPATH, value=xpath) instead\n",
      "  i = driver.find_element_by_xpath(\"(//tbody)[1]\")\n"
     ]
    }
   ],
   "source": [
    "i = driver.find_element_by_xpath(\"(//tbody)[1]\")"
   ]
  },
  {
   "cell_type": "code",
   "execution_count": 483,
   "id": "ef801939-6e17-4b52-903e-5b81dc4e547a",
   "metadata": {},
   "outputs": [],
   "source": [
    "text = i.text\n",
    "#(//tbody)[1]"
   ]
  },
  {
   "cell_type": "code",
   "execution_count": 484,
   "id": "7c6ec7c6-85f7-4af8-be78-3286be5a9edf",
   "metadata": {},
   "outputs": [
    {
     "data": {
      "text/plain": [
       "str"
      ]
     },
     "execution_count": 484,
     "metadata": {},
     "output_type": "execute_result"
    }
   ],
   "source": [
    "type(text)"
   ]
  },
  {
   "cell_type": "code",
   "execution_count": 485,
   "id": "a4a61e2b-b9ce-4be4-8178-8c607037fb05",
   "metadata": {},
   "outputs": [],
   "source": [
    "rep = text.replace(\"\\n\", \". \")"
   ]
  },
  {
   "cell_type": "code",
   "execution_count": 486,
   "id": "d8a5a1a2-9592-46a9-a6f2-ea74f431042e",
   "metadata": {},
   "outputs": [],
   "source": [
    "import re\n",
    "expression = re.compile(r'([A-Z][^\\.!?]*[\\.!?])')\n",
    "new_list = re.findall(expression, rep)"
   ]
  },
  {
   "cell_type": "code",
   "execution_count": 487,
   "id": "95fbca36-1971-4ffe-a2e3-6f9a4a4de8a9",
   "metadata": {},
   "outputs": [
    {
     "data": {
      "text/plain": [
       "['Member State  Abbreviation Date of joining.',\n",
       " 'OAU or AU.',\n",
       " 'Republic of Burundi  Burundi 25 May 1963.',\n",
       " 'Republic of Cameroon  Cameroon 25 May 1963.',\n",
       " 'Central African Republic  Central African Republic 25 May 1963 .',\n",
       " 'Republic of Chad  Chad 25 May 1963.',\n",
       " 'Republic of the Congo  Congo Republic 25 May 1963.',\n",
       " 'Democratic Republic of Congo  DR Congo 25 May 1963.',\n",
       " 'Republic of Equatorial Guinea  Equatorial Guinea 12 October 1968.',\n",
       " 'Gabonese Republic  Gabon 25 May 1963.']"
      ]
     },
     "execution_count": 487,
     "metadata": {},
     "output_type": "execute_result"
    }
   ],
   "source": [
    "new_list"
   ]
  },
  {
   "cell_type": "code",
   "execution_count": 488,
   "id": "3108eb7e-52de-467a-8d76-ca6ee228dd01",
   "metadata": {},
   "outputs": [],
   "source": [
    "converted_list = [x.upper() for x in new_list]"
   ]
  },
  {
   "cell_type": "code",
   "execution_count": 489,
   "id": "8c6efc02-5637-48ad-b1dc-4d658b1748ed",
   "metadata": {},
   "outputs": [
    {
     "data": {
      "text/plain": [
       "['MEMBER STATE  ABBREVIATION DATE OF JOINING.',\n",
       " 'OAU OR AU.',\n",
       " 'REPUBLIC OF BURUNDI  BURUNDI 25 MAY 1963.',\n",
       " 'REPUBLIC OF CAMEROON  CAMEROON 25 MAY 1963.',\n",
       " 'CENTRAL AFRICAN REPUBLIC  CENTRAL AFRICAN REPUBLIC 25 MAY 1963 .',\n",
       " 'REPUBLIC OF CHAD  CHAD 25 MAY 1963.',\n",
       " 'REPUBLIC OF THE CONGO  CONGO REPUBLIC 25 MAY 1963.',\n",
       " 'DEMOCRATIC REPUBLIC OF CONGO  DR CONGO 25 MAY 1963.',\n",
       " 'REPUBLIC OF EQUATORIAL GUINEA  EQUATORIAL GUINEA 12 OCTOBER 1968.',\n",
       " 'GABONESE REPUBLIC  GABON 25 MAY 1963.']"
      ]
     },
     "execution_count": 489,
     "metadata": {},
     "output_type": "execute_result"
    }
   ],
   "source": [
    "converted_list"
   ]
  },
  {
   "cell_type": "code",
   "execution_count": 490,
   "id": "092b6fcb-51a0-40b8-9e0e-1250941eca72",
   "metadata": {},
   "outputs": [],
   "source": [
    "list1 = ctrys.tolist()"
   ]
  },
  {
   "cell_type": "code",
   "execution_count": 491,
   "id": "54f09f0d-eb4a-496e-bdaf-212affd744dc",
   "metadata": {},
   "outputs": [
    {
     "data": {
      "text/plain": [
       "[['ALGERIA', 2],\n",
       " ['ANGOLA', 1],\n",
       " ['ARGENTINA', 1],\n",
       " ['AUSTRALIA', 186],\n",
       " ['AUSTRIA', 18],\n",
       " ['BELGIUM', 49],\n",
       " ['BERMUDA', 1],\n",
       " ['BRAZIL', 10],\n",
       " ['BURGARIA', 2],\n",
       " ['BURUNDI', 64],\n",
       " ['CANADA', 114],\n",
       " ['CAPE VERDE', 1],\n",
       " ['CHILE', 2],\n",
       " ['CHINA', 65],\n",
       " ['COLOMBIA', 3],\n",
       " ['COMORO', 1],\n",
       " ['CONGO', 11],\n",
       " ['COSTARICA', 1],\n",
       " ['CROATIA', 2],\n",
       " ['CYPRUS', 1],\n",
       " ['CZECH REPUBLIC', 11],\n",
       " ['DENMARK', 41],\n",
       " ['DJIBOUT', 3],\n",
       " ['DOMINICA', 1],\n",
       " ['DRC', 30],\n",
       " ['EGYPT', 10],\n",
       " ['ESTONIA', 1],\n",
       " ['ETHIOPIA', 6],\n",
       " ['FINLAND', 8],\n",
       " ['FRANCE', 280],\n",
       " ['GEORGIA', 1],\n",
       " ['GERMANY', 223],\n",
       " ['GHANA', 2],\n",
       " ['GREECE', 7],\n",
       " ['HUNGARY', 2],\n",
       " ['INDIA', 87],\n",
       " ['INDONESIA', 3],\n",
       " ['IRAN', 2],\n",
       " ['IRAQ', 1],\n",
       " ['IRELAND', 29],\n",
       " ['ISRAEL', 16],\n",
       " ['ITALY', 393],\n",
       " ['IVORY COAST', 1],\n",
       " ['JAPAN', 53],\n",
       " ['KENYA', 235],\n",
       " ['KOREA', 12],\n",
       " ['KUWAIT', 2],\n",
       " ['LATVIA', 2],\n",
       " ['LEBANON', 3],\n",
       " ['LESOTHO', 1],\n",
       " ['LITHUANIA', 4],\n",
       " ['LUXEMBOURG', 2],\n",
       " ['MADAGASCAR', 1],\n",
       " ['MALAWI', 20],\n",
       " ['MALAYSIA', 23],\n",
       " ['MALT', 3],\n",
       " ['MAURITIUS', 2],\n",
       " ['MEXICO', 2],\n",
       " ['MONTENEGRO', 1],\n",
       " ['MORROCO', 1],\n",
       " ['MOZAMBIQUE', 8],\n",
       " ['MYANMAR', 1],\n",
       " ['NAMIBIA', 2],\n",
       " ['NEPAL', 2],\n",
       " ['NETHERLANDS', 112],\n",
       " ['NEW ZEALAND', 18],\n",
       " ['NIGER', 1],\n",
       " ['NIGERIA', 4],\n",
       " ['NORWAY', 21],\n",
       " ['OMAN', 35],\n",
       " ['PAKISTAN', 6],\n",
       " ['PHILIPINES', 2],\n",
       " ['POLAND', 16],\n",
       " ['PORTUGAL', 10],\n",
       " ['QATAR', 8],\n",
       " ['ROMANIA', 2],\n",
       " ['RUSSIA', 8],\n",
       " ['RWANDA', 40],\n",
       " ['SCOTLAND', 4],\n",
       " ['SERBIA', 6],\n",
       " ['SINGAPORE', 7],\n",
       " ['SLOVAKIA', 2],\n",
       " ['SLOVENIA', 1],\n",
       " ['SOUTH AFRICA', 235],\n",
       " ['SPAIN', 165],\n",
       " ['SRI LANKA', 3],\n",
       " ['SUDAN', 4],\n",
       " ['SWAZILAND', 4],\n",
       " ['SWEDEN', 37],\n",
       " ['SWIZERLAND', 64],\n",
       " ['TAIWAN', 9],\n",
       " ['THAILAND', 2],\n",
       " ['TRINIDAD TOBACCO', 1],\n",
       " ['TUNISIA', 1],\n",
       " ['TURKEY', 5],\n",
       " ['UAE', 33],\n",
       " ['UGANDA', 159],\n",
       " ['UKRAIN', 2],\n",
       " ['UNITED ARAB EMIRATES', 13],\n",
       " ['UNITED KINGDOM', 533],\n",
       " ['UNITED STATES OF AMERICA', 695],\n",
       " ['URUGUAY', 1],\n",
       " ['YEMEN', 2],\n",
       " ['ZAMBIA', 191],\n",
       " ['ZIMBABWE', 274]]"
      ]
     },
     "execution_count": 491,
     "metadata": {},
     "output_type": "execute_result"
    }
   ],
   "source": [
    "list1"
   ]
  },
  {
   "cell_type": "code",
   "execution_count": 492,
   "id": "4640b22e-5b77-4bc9-82a5-6294d2ab4f58",
   "metadata": {},
   "outputs": [
    {
     "data": {
      "text/plain": [
       "list"
      ]
     },
     "execution_count": 492,
     "metadata": {},
     "output_type": "execute_result"
    }
   ],
   "source": [
    "type(list1)"
   ]
  },
  {
   "cell_type": "code",
   "execution_count": 493,
   "id": "1d74a640-e758-4cd2-a1b6-fb55ac3b1c92",
   "metadata": {},
   "outputs": [],
   "source": [
    "li = str(list1)"
   ]
  },
  {
   "cell_type": "code",
   "execution_count": 494,
   "id": "1bc56a36-7e38-4c1c-b5ea-0732c94f26fd",
   "metadata": {},
   "outputs": [],
   "source": [
    "co = str(converted_list)"
   ]
  },
  {
   "cell_type": "code",
   "execution_count": 495,
   "id": "bfe2bca0-020d-4bd5-9222-c3e273be68aa",
   "metadata": {},
   "outputs": [],
   "source": [
    "from itertools import chain"
   ]
  },
  {
   "cell_type": "code",
   "execution_count": 496,
   "id": "3227c467-2f80-4064-b6a0-4d8814840808",
   "metadata": {},
   "outputs": [],
   "source": [
    "check = ' '.join(str(v) for v in list1)"
   ]
  },
  {
   "cell_type": "code",
   "execution_count": 497,
   "id": "d3c06214-60b6-4ba9-9b14-01444ce806cb",
   "metadata": {},
   "outputs": [],
   "source": [
    "m = check.replace(\"[\", \"\")\n",
    "mo = m.replace(\"]\", \"\")\n",
    "mov = mo.replace(\"'\", \"\")\n",
    "move = mov.replace(\".\", \"\")\n",
    "movi = move.replace(\",\", \"\")"
   ]
  },
  {
   "cell_type": "code",
   "execution_count": 498,
   "id": "11f8f5f9-e32f-4657-8cc9-dedfe037d967",
   "metadata": {},
   "outputs": [
    {
     "data": {
      "text/plain": [
       "str"
      ]
     },
     "execution_count": 498,
     "metadata": {},
     "output_type": "execute_result"
    }
   ],
   "source": [
    "type(movi)"
   ]
  },
  {
   "cell_type": "code",
   "execution_count": 499,
   "id": "acfedd22-926d-4ee0-81c2-e4c6587b89c4",
   "metadata": {},
   "outputs": [
    {
     "data": {
      "text/plain": [
       "'ALGERIA 2 ANGOLA 1 ARGENTINA 1 AUSTRALIA 186 AUSTRIA 18 BELGIUM 49 BERMUDA 1 BRAZIL 10 BURGARIA 2 BURUNDI 64 CANADA 114 CAPE VERDE 1 CHILE 2 CHINA 65 COLOMBIA 3 COMORO 1 CONGO 11 COSTARICA 1 CROATIA 2 CYPRUS 1 CZECH REPUBLIC 11 DENMARK 41 DJIBOUT 3 DOMINICA 1 DRC 30 EGYPT 10 ESTONIA 1 ETHIOPIA 6 FINLAND 8 FRANCE 280 GEORGIA 1 GERMANY 223 GHANA 2 GREECE 7 HUNGARY 2 INDIA 87 INDONESIA 3 IRAN 2 IRAQ 1 IRELAND 29 ISRAEL 16 ITALY 393 IVORY COAST 1 JAPAN 53 KENYA 235 KOREA 12 KUWAIT 2 LATVIA 2 LEBANON 3 LESOTHO 1 LITHUANIA 4 LUXEMBOURG 2 MADAGASCAR 1 MALAWI 20 MALAYSIA 23 MALT 3 MAURITIUS 2 MEXICO 2 MONTENEGRO 1 MORROCO 1 MOZAMBIQUE 8 MYANMAR 1 NAMIBIA 2 NEPAL 2 NETHERLANDS 112 NEW ZEALAND 18 NIGER 1 NIGERIA 4 NORWAY 21 OMAN 35 PAKISTAN 6 PHILIPINES 2 POLAND 16 PORTUGAL 10 QATAR 8 ROMANIA 2 RUSSIA 8 RWANDA 40 SCOTLAND 4 SERBIA 6 SINGAPORE 7 SLOVAKIA 2 SLOVENIA 1 SOUTH AFRICA 235 SPAIN 165 SRI LANKA 3 SUDAN 4 SWAZILAND 4 SWEDEN 37 SWIZERLAND 64 TAIWAN 9 THAILAND 2 TRINIDAD TOBACCO 1 TUNISIA 1 TURKEY 5 UAE 33 UGANDA 159 UKRAIN 2 UNITED ARAB EMIRATES 13 UNITED KINGDOM 533 UNITED STATES OF AMERICA 695 URUGUAY 1 YEMEN 2 ZAMBIA 191 ZIMBABWE 274'"
      ]
     },
     "execution_count": 499,
     "metadata": {},
     "output_type": "execute_result"
    }
   ],
   "source": [
    "movi"
   ]
  },
  {
   "cell_type": "code",
   "execution_count": 500,
   "id": "598c7ca4-ae99-4452-a7aa-200623cf2b28",
   "metadata": {},
   "outputs": [
    {
     "data": {
      "text/plain": [
       "'ALGERIA  ANGOLA  ARGENTINA  AUSTRALIA  AUSTRIA  BELGIUM  BERMUDA  BRAZIL  BURGARIA  BURUNDI  CANADA  CAPE VERDE  CHILE  CHINA  COLOMBIA  COMORO  CONGO  COSTARICA  CROATIA  CYPRUS  CZECH REPUBLIC  DENMARK  DJIBOUT  DOMINICA  DRC  EGYPT  ESTONIA  ETHIOPIA  FINLAND  FRANCE  GEORGIA  GERMANY  GHANA  GREECE  HUNGARY  INDIA  INDONESIA  IRAN  IRAQ  IRELAND  ISRAEL  ITALY  IVORY COAST  JAPAN  KENYA  KOREA  KUWAIT  LATVIA  LEBANON  LESOTHO  LITHUANIA  LUXEMBOURG  MADAGASCAR  MALAWI  MALAYSIA  MALT  MAURITIUS  MEXICO  MONTENEGRO  MORROCO  MOZAMBIQUE  MYANMAR  NAMIBIA  NEPAL  NETHERLANDS  NEW ZEALAND  NIGER  NIGERIA  NORWAY  OMAN  PAKISTAN  PHILIPINES  POLAND  PORTUGAL  QATAR  ROMANIA  RUSSIA  RWANDA  SCOTLAND  SERBIA  SINGAPORE  SLOVAKIA  SLOVENIA  SOUTH AFRICA  SPAIN  SRI LANKA  SUDAN  SWAZILAND  SWEDEN  SWIZERLAND  TAIWAN  THAILAND  TRINIDAD TOBACCO  TUNISIA  TURKEY  UAE  UGANDA  UKRAIN  UNITED ARAB EMIRATES  UNITED KINGDOM  UNITED STATES OF AMERICA  URUGUAY  YEMEN  ZAMBIA  ZIMBABWE '"
      ]
     },
     "execution_count": 500,
     "metadata": {},
     "output_type": "execute_result"
    }
   ],
   "source": [
    "\n",
    "result = ''.join([i for i in movi if not i.isdigit()])\n",
    "result"
   ]
  },
  {
   "cell_type": "code",
   "execution_count": 501,
   "id": "8ea5eb75-c10e-4941-9b20-318ddde57ec2",
   "metadata": {},
   "outputs": [
    {
     "data": {
      "text/plain": [
       "['MEMBER STATE  ABBREVIATION DATE OF JOINING.',\n",
       " 'OAU OR AU.',\n",
       " 'REPUBLIC OF BURUNDI  BURUNDI 25 MAY 1963.',\n",
       " 'REPUBLIC OF CAMEROON  CAMEROON 25 MAY 1963.',\n",
       " 'CENTRAL AFRICAN REPUBLIC  CENTRAL AFRICAN REPUBLIC 25 MAY 1963 .',\n",
       " 'REPUBLIC OF CHAD  CHAD 25 MAY 1963.',\n",
       " 'REPUBLIC OF THE CONGO  CONGO REPUBLIC 25 MAY 1963.',\n",
       " 'DEMOCRATIC REPUBLIC OF CONGO  DR CONGO 25 MAY 1963.',\n",
       " 'REPUBLIC OF EQUATORIAL GUINEA  EQUATORIAL GUINEA 12 OCTOBER 1968.',\n",
       " 'GABONESE REPUBLIC  GABON 25 MAY 1963.']"
      ]
     },
     "execution_count": 501,
     "metadata": {},
     "output_type": "execute_result"
    }
   ],
   "source": [
    "converted_list"
   ]
  },
  {
   "cell_type": "code",
   "execution_count": 502,
   "id": "820fa560-6b69-4b05-aa39-ad5ea22250fe",
   "metadata": {},
   "outputs": [],
   "source": [
    "coming = ' '.join(str(v) for v in converted_list)"
   ]
  },
  {
   "cell_type": "code",
   "execution_count": 503,
   "id": "c9f73eef-c34d-448c-90ee-413f421686fb",
   "metadata": {},
   "outputs": [
    {
     "data": {
      "text/plain": [
       "'MEMBER STATE  ABBREVIATION DATE OF JOINING. OAU OR AU. REPUBLIC OF BURUNDI  BURUNDI 25 MAY 1963. REPUBLIC OF CAMEROON  CAMEROON 25 MAY 1963. CENTRAL AFRICAN REPUBLIC  CENTRAL AFRICAN REPUBLIC 25 MAY 1963 . REPUBLIC OF CHAD  CHAD 25 MAY 1963. REPUBLIC OF THE CONGO  CONGO REPUBLIC 25 MAY 1963. DEMOCRATIC REPUBLIC OF CONGO  DR CONGO 25 MAY 1963. REPUBLIC OF EQUATORIAL GUINEA  EQUATORIAL GUINEA 12 OCTOBER 1968. GABONESE REPUBLIC  GABON 25 MAY 1963.'"
      ]
     },
     "execution_count": 503,
     "metadata": {},
     "output_type": "execute_result"
    }
   ],
   "source": [
    "coming"
   ]
  },
  {
   "cell_type": "code",
   "execution_count": 504,
   "id": "fdb31ae6-d44f-43fc-b725-6989aa7d5a73",
   "metadata": {},
   "outputs": [],
   "source": [
    "come = coming.replace(\".\", \"\")\n",
    "com = come.replace(\"REPUBLIC\", \"\")\n",
    "come= com.replace(\"OF\", \"\")\n"
   ]
  },
  {
   "cell_type": "code",
   "execution_count": 505,
   "id": "e999cebb-a889-42fe-8085-eaa5504de3a9",
   "metadata": {},
   "outputs": [
    {
     "data": {
      "text/plain": [
       "'MEMBER STATE  ABBREVIATION DATE  JOINING OAU OR AU   BURUNDI  BURUNDI 25 MAY 1963   CAMEROON  CAMEROON 25 MAY 1963 CENTRAL AFRICAN   CENTRAL AFRICAN  25 MAY 1963    CHAD  CHAD 25 MAY 1963   THE CONGO  CONGO  25 MAY 1963 DEMOCRATIC   CONGO  DR CONGO 25 MAY 1963   EQUATORIAL GUINEA  EQUATORIAL GUINEA 12 OCTOBER 1968 GABONESE   GABON 25 MAY 1963'"
      ]
     },
     "execution_count": 505,
     "metadata": {},
     "output_type": "execute_result"
    }
   ],
   "source": [
    "come"
   ]
  },
  {
   "cell_type": "code",
   "execution_count": 506,
   "id": "f1053dfa-2274-4301-99a5-55d93063bd38",
   "metadata": {},
   "outputs": [],
   "source": [
    "# i need to get the intersection of countries"
   ]
  },
  {
   "cell_type": "markdown",
   "id": "337e61a9-9834-4df6-b9bc-0939c5ae4431",
   "metadata": {},
   "source": [
    "## Central Africa"
   ]
  },
  {
   "cell_type": "code",
   "execution_count": 507,
   "id": "f94e570f-2e6e-4356-981d-42bfc40d07bf",
   "metadata": {},
   "outputs": [],
   "source": [
    "#movi\n",
    "#come\n",
    "\n",
    "read = set(result.split()) & set(come.split())"
   ]
  },
  {
   "cell_type": "code",
   "execution_count": 508,
   "id": "c93e28c4-0142-4c76-b5c7-6c427c39e2fe",
   "metadata": {},
   "outputs": [],
   "source": [
    "readd = list(read)"
   ]
  },
  {
   "cell_type": "code",
   "execution_count": 509,
   "id": "47e6ddb3-d320-4cdc-ab25-77dfe094be9b",
   "metadata": {},
   "outputs": [
    {
     "data": {
      "text/plain": [
       "set"
      ]
     },
     "execution_count": 509,
     "metadata": {},
     "output_type": "execute_result"
    }
   ],
   "source": [
    "type(read)"
   ]
  },
  {
   "cell_type": "code",
   "execution_count": 510,
   "id": "c5588ce4-39c5-4cc9-a2df-91fedcc73dee",
   "metadata": {},
   "outputs": [],
   "source": [
    "readd.append(\"DRC\")\n"
   ]
  },
  {
   "cell_type": "code",
   "execution_count": 511,
   "id": "e7cf70b0-37d5-4d8e-a29c-ff522b8d154c",
   "metadata": {},
   "outputs": [
    {
     "data": {
      "text/plain": [
       "['BURUNDI', 'CONGO', 'DRC']"
      ]
     },
     "execution_count": 511,
     "metadata": {},
     "output_type": "execute_result"
    }
   ],
   "source": [
    "readd"
   ]
  },
  {
   "cell_type": "code",
   "execution_count": 512,
   "id": "30ca188a-1248-4ab6-81cb-2853ec5b59e3",
   "metadata": {},
   "outputs": [],
   "source": [
    "matches = []\n",
    "i = len(read)\n",
    "for match in list1:\n",
    "    if readd[i-2] in match:\n",
    "        matches.append(match)\n",
    "        i-=1"
   ]
  },
  {
   "cell_type": "code",
   "execution_count": 513,
   "id": "2763be03-4ca2-4f4d-a24a-6e2f936e027e",
   "metadata": {},
   "outputs": [
    {
     "data": {
      "text/plain": [
       "[['BURUNDI', 64], ['DRC', 30]]"
      ]
     },
     "execution_count": 513,
     "metadata": {},
     "output_type": "execute_result"
    }
   ],
   "source": [
    "matches"
   ]
  },
  {
   "cell_type": "code",
   "execution_count": 514,
   "id": "b80c864b-6de1-4164-ac37-42a93fb47f75",
   "metadata": {},
   "outputs": [
    {
     "data": {
      "text/plain": [
       "list"
      ]
     },
     "execution_count": 514,
     "metadata": {},
     "output_type": "execute_result"
    }
   ],
   "source": [
    "type(matches)"
   ]
  },
  {
   "cell_type": "code",
   "execution_count": 515,
   "id": "547a7b09-ae88-47da-ab3f-b43706e14080",
   "metadata": {},
   "outputs": [
    {
     "data": {
      "text/plain": [
       "'CONGO'"
      ]
     },
     "execution_count": 515,
     "metadata": {},
     "output_type": "execute_result"
    }
   ],
   "source": [
    "readd[i-2]"
   ]
  },
  {
   "cell_type": "code",
   "execution_count": 516,
   "id": "562f78bd-057b-4e41-bcf9-3023e7b58799",
   "metadata": {},
   "outputs": [
    {
     "data": {
      "text/plain": [
       "pandas.core.frame.DataFrame"
      ]
     },
     "execution_count": 516,
     "metadata": {},
     "output_type": "execute_result"
    }
   ],
   "source": [
    "type(df)"
   ]
  },
  {
   "cell_type": "code",
   "execution_count": 517,
   "id": "8cc2efce-9826-4dd9-aab7-e0889b6b6b99",
   "metadata": {},
   "outputs": [],
   "source": [
    "df['upcountry'] = list(df['country'])"
   ]
  },
  {
   "cell_type": "code",
   "execution_count": 518,
   "id": "be53e825-477e-4133-b5fe-4223f49cce8c",
   "metadata": {},
   "outputs": [],
   "source": [
    "df.upcountry.replace(readd, 'Central Africa', inplace=True)"
   ]
  },
  {
   "cell_type": "code",
   "execution_count": 519,
   "id": "662cdfda-eeea-4091-9165-5da75c7ac78f",
   "metadata": {},
   "outputs": [],
   "source": [
    "cen = df['upcountry'] == 'Central Africa' \n",
    "#i=df[df[‘Name’]==’Will’]\n",
    "#print(i)"
   ]
  },
  {
   "cell_type": "code",
   "execution_count": 520,
   "id": "cbc97a28-21ec-4c34-8fd4-b49a45ec82eb",
   "metadata": {},
   "outputs": [
    {
     "data": {
      "text/plain": [
       "False    4704\n",
       "True      105\n",
       "Name: upcountry, dtype: int64"
      ]
     },
     "execution_count": 520,
     "metadata": {},
     "output_type": "execute_result"
    }
   ],
   "source": [
    "cen.value_counts()"
   ]
  },
  {
   "cell_type": "markdown",
   "id": "221421ab-7349-4696-a42a-c4ea642203c7",
   "metadata": {},
   "source": [
    "## Eastern africa"
   ]
  },
  {
   "cell_type": "code",
   "execution_count": 521,
   "id": "9be93291-699a-489f-b5de-1e6014870308",
   "metadata": {},
   "outputs": [
    {
     "name": "stderr",
     "output_type": "stream",
     "text": [
      "C:\\Users\\Kofi\\AppData\\Local\\Temp/ipykernel_13564/2948023138.py:1: DeprecationWarning: find_element_by_xpath is deprecated. Please use find_element(by=By.XPATH, value=xpath) instead\n",
      "  i = driver.find_element_by_xpath(\"(//tbody)[2]\")\n"
     ]
    }
   ],
   "source": [
    "i = driver.find_element_by_xpath(\"(//tbody)[2]\")"
   ]
  },
  {
   "cell_type": "code",
   "execution_count": null,
   "id": "857fccb9-f716-4f69-b8ca-0113aa763b87",
   "metadata": {},
   "outputs": [],
   "source": []
  },
  {
   "cell_type": "code",
   "execution_count": 522,
   "id": "bcd1b196-68e3-4f3a-8f08-c1e524434670",
   "metadata": {},
   "outputs": [],
   "source": [
    "text = i.text\n",
    "#(//tbody)[1]"
   ]
  },
  {
   "cell_type": "code",
   "execution_count": 523,
   "id": "d618823b-e092-42d1-9305-3ee20821dfe6",
   "metadata": {},
   "outputs": [
    {
     "data": {
      "text/plain": [
       "str"
      ]
     },
     "execution_count": 523,
     "metadata": {},
     "output_type": "execute_result"
    }
   ],
   "source": [
    "type(text)"
   ]
  },
  {
   "cell_type": "code",
   "execution_count": 524,
   "id": "5b0b3333-84a1-4c96-b918-87cc811ce6a5",
   "metadata": {},
   "outputs": [],
   "source": [
    "rep = text.replace(\"\\n\", \". \")"
   ]
  },
  {
   "cell_type": "code",
   "execution_count": 525,
   "id": "1baf90ea-7291-4fd8-9138-904f5906fe5a",
   "metadata": {},
   "outputs": [],
   "source": [
    "import re\n",
    "expression = re.compile(r'([A-Z][^\\.!?]*[\\.!?])')\n",
    "new_list = re.findall(expression, rep)"
   ]
  },
  {
   "cell_type": "code",
   "execution_count": 526,
   "id": "bfd81129-f68a-42a6-b876-e84004a857dc",
   "metadata": {},
   "outputs": [
    {
     "data": {
      "text/plain": [
       "['Member State  Abbreviation  Date of joining.',\n",
       " 'OAU or AU.',\n",
       " 'Union of the Comoros   Comoros 18 July 1975.',\n",
       " 'Republic of Djibouti   Djibouti 27 June 1977.',\n",
       " 'State of Eritrea   Eritrea 24 May 1993.',\n",
       " 'Federal Democratic Republic of Ethiopia  Ethiopia 25 May 1963.',\n",
       " 'Republic of Kenya  Kenya 25 May 1963.',\n",
       " 'Republic of Madagascar  Madagascar 25 May 1963.',\n",
       " 'Republic of Mauritius   Mauritius August 1968.',\n",
       " 'Republic of Rwanda  Rwanda 25 May 1963.',\n",
       " 'Republic of Seychelles   Seychelles 29 June 1976.',\n",
       " 'Federal Republic of Somalia  Somalia 25 May 1963.',\n",
       " 'Republic of South Sudan  South Sudan 27 July 2011.',\n",
       " 'Republic of the Sudan  Sudan 25 May 1963.',\n",
       " 'United Republic of Tanzania  Tanzania 25 May 1963.']"
      ]
     },
     "execution_count": 526,
     "metadata": {},
     "output_type": "execute_result"
    }
   ],
   "source": [
    "new_list"
   ]
  },
  {
   "cell_type": "code",
   "execution_count": null,
   "id": "c4189090-593d-495d-ba03-191b99b0da49",
   "metadata": {},
   "outputs": [],
   "source": []
  },
  {
   "cell_type": "code",
   "execution_count": 527,
   "id": "d1cc7da7-effa-4df9-ad03-a4083e099ff3",
   "metadata": {},
   "outputs": [],
   "source": [
    "converted_list = [x.upper() for x in new_list]"
   ]
  },
  {
   "cell_type": "code",
   "execution_count": 528,
   "id": "d75b1186-e2b4-4e1c-90f2-404a238beee3",
   "metadata": {},
   "outputs": [
    {
     "data": {
      "text/plain": [
       "['MEMBER STATE  ABBREVIATION  DATE OF JOINING.',\n",
       " 'OAU OR AU.',\n",
       " 'UNION OF THE COMOROS   COMOROS 18 JULY 1975.',\n",
       " 'REPUBLIC OF DJIBOUTI   DJIBOUTI 27 JUNE 1977.',\n",
       " 'STATE OF ERITREA   ERITREA 24 MAY 1993.',\n",
       " 'FEDERAL DEMOCRATIC REPUBLIC OF ETHIOPIA  ETHIOPIA 25 MAY 1963.',\n",
       " 'REPUBLIC OF KENYA  KENYA 25 MAY 1963.',\n",
       " 'REPUBLIC OF MADAGASCAR  MADAGASCAR 25 MAY 1963.',\n",
       " 'REPUBLIC OF MAURITIUS   MAURITIUS AUGUST 1968.',\n",
       " 'REPUBLIC OF RWANDA  RWANDA 25 MAY 1963.',\n",
       " 'REPUBLIC OF SEYCHELLES   SEYCHELLES 29 JUNE 1976.',\n",
       " 'FEDERAL REPUBLIC OF SOMALIA  SOMALIA 25 MAY 1963.',\n",
       " 'REPUBLIC OF SOUTH SUDAN  SOUTH SUDAN 27 JULY 2011.',\n",
       " 'REPUBLIC OF THE SUDAN  SUDAN 25 MAY 1963.',\n",
       " 'UNITED REPUBLIC OF TANZANIA  TANZANIA 25 MAY 1963.']"
      ]
     },
     "execution_count": 528,
     "metadata": {},
     "output_type": "execute_result"
    }
   ],
   "source": [
    "converted_list"
   ]
  },
  {
   "cell_type": "code",
   "execution_count": null,
   "id": "a2edaf39-92b1-4f4a-91c3-3cbd9ad404f0",
   "metadata": {},
   "outputs": [],
   "source": []
  },
  {
   "cell_type": "code",
   "execution_count": 529,
   "id": "094af2de-258f-4841-84b4-4e1b64892c6f",
   "metadata": {},
   "outputs": [],
   "source": [
    "co = str(converted_list)"
   ]
  },
  {
   "cell_type": "code",
   "execution_count": 530,
   "id": "38530d4f-ace3-47f8-8743-b41aadc55214",
   "metadata": {},
   "outputs": [],
   "source": [
    "from itertools import chain"
   ]
  },
  {
   "cell_type": "code",
   "execution_count": 531,
   "id": "4338a6dd-8a5e-4d73-9525-bdec37d3ee1e",
   "metadata": {},
   "outputs": [],
   "source": [
    "coming = ' '.join(str(v) for v in converted_list)"
   ]
  },
  {
   "cell_type": "code",
   "execution_count": 532,
   "id": "05891d28-8ebf-48d5-a881-21cdbea55d51",
   "metadata": {},
   "outputs": [
    {
     "data": {
      "text/plain": [
       "'MEMBER STATE  ABBREVIATION  DATE OF JOINING. OAU OR AU. UNION OF THE COMOROS   COMOROS 18 JULY 1975. REPUBLIC OF DJIBOUTI   DJIBOUTI 27 JUNE 1977. STATE OF ERITREA   ERITREA 24 MAY 1993. FEDERAL DEMOCRATIC REPUBLIC OF ETHIOPIA  ETHIOPIA 25 MAY 1963. REPUBLIC OF KENYA  KENYA 25 MAY 1963. REPUBLIC OF MADAGASCAR  MADAGASCAR 25 MAY 1963. REPUBLIC OF MAURITIUS   MAURITIUS AUGUST 1968. REPUBLIC OF RWANDA  RWANDA 25 MAY 1963. REPUBLIC OF SEYCHELLES   SEYCHELLES 29 JUNE 1976. FEDERAL REPUBLIC OF SOMALIA  SOMALIA 25 MAY 1963. REPUBLIC OF SOUTH SUDAN  SOUTH SUDAN 27 JULY 2011. REPUBLIC OF THE SUDAN  SUDAN 25 MAY 1963. UNITED REPUBLIC OF TANZANIA  TANZANIA 25 MAY 1963.'"
      ]
     },
     "execution_count": 532,
     "metadata": {},
     "output_type": "execute_result"
    }
   ],
   "source": [
    "coming"
   ]
  },
  {
   "cell_type": "code",
   "execution_count": 533,
   "id": "af9efbbd-d784-4409-9acb-5cc35f1bcf15",
   "metadata": {},
   "outputs": [],
   "source": [
    "come = coming.replace(\".\", \"\")\n",
    "com = come.replace(\"REPUBLIC\", \"\")\n",
    "come= com.replace(\"OF\", \"\")\n"
   ]
  },
  {
   "cell_type": "code",
   "execution_count": 534,
   "id": "9e728113-7deb-4a32-9da3-89336ac73aa9",
   "metadata": {},
   "outputs": [
    {
     "data": {
      "text/plain": [
       "'MEMBER STATE  ABBREVIATION  DATE  JOINING OAU OR AU UNION  THE COMOROS   COMOROS 18 JULY 1975   DJIBOUTI   DJIBOUTI 27 JUNE 1977 STATE  ERITREA   ERITREA 24 MAY 1993 FEDERAL DEMOCRATIC   ETHIOPIA  ETHIOPIA 25 MAY 1963   KENYA  KENYA 25 MAY 1963   MADAGASCAR  MADAGASCAR 25 MAY 1963   MAURITIUS   MAURITIUS AUGUST 1968   RWANDA  RWANDA 25 MAY 1963   SEYCHELLES   SEYCHELLES 29 JUNE 1976 FEDERAL   SOMALIA  SOMALIA 25 MAY 1963   SOUTH SUDAN  SOUTH SUDAN 27 JULY 2011   THE SUDAN  SUDAN 25 MAY 1963 UNITED   TANZANIA  TANZANIA 25 MAY 1963'"
      ]
     },
     "execution_count": 534,
     "metadata": {},
     "output_type": "execute_result"
    }
   ],
   "source": [
    "come"
   ]
  },
  {
   "cell_type": "code",
   "execution_count": 535,
   "id": "07f8d5f8-ebba-4abf-ac43-a17c152a9ddb",
   "metadata": {},
   "outputs": [],
   "source": [
    "# i need to get the intersection of countries"
   ]
  },
  {
   "cell_type": "code",
   "execution_count": null,
   "id": "564b55a9-68b2-490d-a3c9-9648d75530aa",
   "metadata": {},
   "outputs": [],
   "source": []
  },
  {
   "cell_type": "code",
   "execution_count": 536,
   "id": "734e5583-f192-4cc0-84f2-8dac738cd1e4",
   "metadata": {},
   "outputs": [],
   "source": [
    "#movi\n",
    "#come\n",
    "\n",
    "read = set(result.split()) & set(come.split())"
   ]
  },
  {
   "cell_type": "code",
   "execution_count": 537,
   "id": "639bedde-a583-42f9-b350-1c469ee8e94a",
   "metadata": {},
   "outputs": [],
   "source": [
    "readd = list(read)"
   ]
  },
  {
   "cell_type": "code",
   "execution_count": 538,
   "id": "6339b7c5-4533-4acf-bc49-174d7ca5af46",
   "metadata": {},
   "outputs": [],
   "source": [
    "readd.append(\"UGANDA\")\n",
    "readd.append(\"DJIBOUT\")\n",
    "readd.append(\"COMORO\")\n",
    "readd.append(\"BURUNDI\")"
   ]
  },
  {
   "cell_type": "code",
   "execution_count": 539,
   "id": "daa4fbf1-7f6a-4aab-a6cd-67ba6418eb5c",
   "metadata": {},
   "outputs": [
    {
     "data": {
      "text/plain": [
       "['RWANDA',\n",
       " 'UNITED',\n",
       " 'SUDAN',\n",
       " 'ETHIOPIA',\n",
       " 'MADAGASCAR',\n",
       " 'MAURITIUS',\n",
       " 'KENYA',\n",
       " 'SOUTH',\n",
       " 'UGANDA',\n",
       " 'DJIBOUT',\n",
       " 'COMORO',\n",
       " 'BURUNDI']"
      ]
     },
     "execution_count": 539,
     "metadata": {},
     "output_type": "execute_result"
    }
   ],
   "source": [
    "readd"
   ]
  },
  {
   "cell_type": "code",
   "execution_count": 540,
   "id": "c8b3dcb7-d884-4455-a1a8-432895766722",
   "metadata": {},
   "outputs": [],
   "source": [
    "i = len(readd)"
   ]
  },
  {
   "cell_type": "code",
   "execution_count": 541,
   "id": "8ecaebea-fc91-40b7-87ff-653700a7d6b7",
   "metadata": {},
   "outputs": [],
   "source": [
    "matches = []\n",
    "\n",
    "for match in list1:\n",
    "    if readd[i-1] in match:\n",
    "        matches.append(match)\n",
    "        i-=1"
   ]
  },
  {
   "cell_type": "code",
   "execution_count": 542,
   "id": "2dd66003-9721-47d4-a240-84c55371003b",
   "metadata": {},
   "outputs": [
    {
     "data": {
      "text/plain": [
       "list"
      ]
     },
     "execution_count": 542,
     "metadata": {},
     "output_type": "execute_result"
    }
   ],
   "source": [
    "type(matches)"
   ]
  },
  {
   "cell_type": "code",
   "execution_count": 543,
   "id": "a9d7e432-aac2-454f-8c5b-592351b1a95f",
   "metadata": {},
   "outputs": [],
   "source": [
    "i = len(readd)"
   ]
  },
  {
   "cell_type": "code",
   "execution_count": 544,
   "id": "ae2cb650-f9aa-423c-8e64-3ce55e4cee9c",
   "metadata": {},
   "outputs": [
    {
     "data": {
      "text/plain": [
       "12"
      ]
     },
     "execution_count": 544,
     "metadata": {},
     "output_type": "execute_result"
    }
   ],
   "source": [
    "i"
   ]
  },
  {
   "cell_type": "code",
   "execution_count": 545,
   "id": "0c23ff17-3512-49c5-b1f0-22611fd6be4e",
   "metadata": {},
   "outputs": [
    {
     "data": {
      "text/plain": [
       "'BURUNDI'"
      ]
     },
     "execution_count": 545,
     "metadata": {},
     "output_type": "execute_result"
    }
   ],
   "source": [
    "readd[i-1]"
   ]
  },
  {
   "cell_type": "code",
   "execution_count": 546,
   "id": "42693498-9ec3-4e02-bbc9-9597d8d3fbf7",
   "metadata": {},
   "outputs": [
    {
     "data": {
      "text/plain": [
       "pandas.core.frame.DataFrame"
      ]
     },
     "execution_count": 546,
     "metadata": {},
     "output_type": "execute_result"
    }
   ],
   "source": [
    "type(df)"
   ]
  },
  {
   "cell_type": "code",
   "execution_count": 547,
   "id": "4f0e03b9-e902-4eb9-b554-48d564302eba",
   "metadata": {},
   "outputs": [],
   "source": [
    "df.upcountry.replace(readd, 'East Africa', inplace=True)"
   ]
  },
  {
   "cell_type": "code",
   "execution_count": 548,
   "id": "d564af52-41b4-427c-ae12-8d3822f6b09a",
   "metadata": {},
   "outputs": [],
   "source": [
    "east = df[df['upcountry'] == 'East Africa' ]\n",
    "#i=df[df[‘Name’]==’Will’]\n",
    "#print(i)"
   ]
  },
  {
   "cell_type": "code",
   "execution_count": 549,
   "id": "25381b99-50f7-4535-ab28-aff785a3850b",
   "metadata": {},
   "outputs": [
    {
     "data": {
      "text/html": [
       "<div>\n",
       "<style scoped>\n",
       "    .dataframe tbody tr th:only-of-type {\n",
       "        vertical-align: middle;\n",
       "    }\n",
       "\n",
       "    .dataframe tbody tr th {\n",
       "        vertical-align: top;\n",
       "    }\n",
       "\n",
       "    .dataframe thead th {\n",
       "        text-align: right;\n",
       "    }\n",
       "</style>\n",
       "<table border=\"1\" class=\"dataframe\">\n",
       "  <thead>\n",
       "    <tr style=\"text-align: right;\">\n",
       "      <th></th>\n",
       "      <th>ID</th>\n",
       "      <th>country</th>\n",
       "      <th>age_group</th>\n",
       "      <th>travel_with</th>\n",
       "      <th>total_female</th>\n",
       "      <th>total_male</th>\n",
       "      <th>purpose</th>\n",
       "      <th>main_activity</th>\n",
       "      <th>info_source</th>\n",
       "      <th>tour_arrangement</th>\n",
       "      <th>...</th>\n",
       "      <th>package_sightseeing</th>\n",
       "      <th>package_guided_tour</th>\n",
       "      <th>package_insurance</th>\n",
       "      <th>night_mainland</th>\n",
       "      <th>night_zanzibar</th>\n",
       "      <th>payment_mode</th>\n",
       "      <th>first_trip_tz</th>\n",
       "      <th>most_impressing</th>\n",
       "      <th>total_cost</th>\n",
       "      <th>upcountry</th>\n",
       "    </tr>\n",
       "  </thead>\n",
       "  <tbody>\n",
       "    <tr>\n",
       "      <th>15</th>\n",
       "      <td>tour_102</td>\n",
       "      <td>RWANDA</td>\n",
       "      <td>65+</td>\n",
       "      <td>Alone</td>\n",
       "      <td>1.0</td>\n",
       "      <td>0.0</td>\n",
       "      <td>Leisure and Holidays</td>\n",
       "      <td>Beach tourism</td>\n",
       "      <td>Friends, relatives</td>\n",
       "      <td>Independent</td>\n",
       "      <td>...</td>\n",
       "      <td>No</td>\n",
       "      <td>No</td>\n",
       "      <td>No</td>\n",
       "      <td>0</td>\n",
       "      <td>2</td>\n",
       "      <td>Cash</td>\n",
       "      <td>Yes</td>\n",
       "      <td>Wonderful Country, Landscape, Nature</td>\n",
       "      <td>331500.0</td>\n",
       "      <td>East Africa</td>\n",
       "    </tr>\n",
       "    <tr>\n",
       "      <th>19</th>\n",
       "      <td>tour_1026</td>\n",
       "      <td>KENYA</td>\n",
       "      <td>25-44</td>\n",
       "      <td>NaN</td>\n",
       "      <td>1.0</td>\n",
       "      <td>0.0</td>\n",
       "      <td>Business</td>\n",
       "      <td>Mountain climbing</td>\n",
       "      <td>Friends, relatives</td>\n",
       "      <td>Independent</td>\n",
       "      <td>...</td>\n",
       "      <td>No</td>\n",
       "      <td>No</td>\n",
       "      <td>No</td>\n",
       "      <td>4</td>\n",
       "      <td>0</td>\n",
       "      <td>Cash</td>\n",
       "      <td>No</td>\n",
       "      <td>Friendly People</td>\n",
       "      <td>377520.0</td>\n",
       "      <td>East Africa</td>\n",
       "    </tr>\n",
       "    <tr>\n",
       "      <th>21</th>\n",
       "      <td>tour_1028</td>\n",
       "      <td>KENYA</td>\n",
       "      <td>45-64</td>\n",
       "      <td>NaN</td>\n",
       "      <td>0.0</td>\n",
       "      <td>1.0</td>\n",
       "      <td>Business</td>\n",
       "      <td>Wildlife tourism</td>\n",
       "      <td>Friends, relatives</td>\n",
       "      <td>Independent</td>\n",
       "      <td>...</td>\n",
       "      <td>No</td>\n",
       "      <td>No</td>\n",
       "      <td>No</td>\n",
       "      <td>4</td>\n",
       "      <td>0</td>\n",
       "      <td>Cash</td>\n",
       "      <td>Yes</td>\n",
       "      <td>No comments</td>\n",
       "      <td>497250.0</td>\n",
       "      <td>East Africa</td>\n",
       "    </tr>\n",
       "    <tr>\n",
       "      <th>37</th>\n",
       "      <td>tour_1045</td>\n",
       "      <td>KENYA</td>\n",
       "      <td>45-64</td>\n",
       "      <td>Alone</td>\n",
       "      <td>1.0</td>\n",
       "      <td>0.0</td>\n",
       "      <td>Scientific and Academic</td>\n",
       "      <td>Mountain climbing</td>\n",
       "      <td>inflight magazines</td>\n",
       "      <td>Package Tour</td>\n",
       "      <td>...</td>\n",
       "      <td>No</td>\n",
       "      <td>No</td>\n",
       "      <td>No</td>\n",
       "      <td>5</td>\n",
       "      <td>0</td>\n",
       "      <td>Credit Card</td>\n",
       "      <td>No</td>\n",
       "      <td>Wildlife</td>\n",
       "      <td>3812250.0</td>\n",
       "      <td>East Africa</td>\n",
       "    </tr>\n",
       "    <tr>\n",
       "      <th>51</th>\n",
       "      <td>tour_1060</td>\n",
       "      <td>UGANDA</td>\n",
       "      <td>25-44</td>\n",
       "      <td>Spouse and Children</td>\n",
       "      <td>2.0</td>\n",
       "      <td>1.0</td>\n",
       "      <td>Meetings and Conference</td>\n",
       "      <td>Beach tourism</td>\n",
       "      <td>Friends, relatives</td>\n",
       "      <td>Independent</td>\n",
       "      <td>...</td>\n",
       "      <td>No</td>\n",
       "      <td>No</td>\n",
       "      <td>No</td>\n",
       "      <td>12</td>\n",
       "      <td>5</td>\n",
       "      <td>Cash</td>\n",
       "      <td>No</td>\n",
       "      <td>Friendly People</td>\n",
       "      <td>1000000.0</td>\n",
       "      <td>East Africa</td>\n",
       "    </tr>\n",
       "    <tr>\n",
       "      <th>...</th>\n",
       "      <td>...</td>\n",
       "      <td>...</td>\n",
       "      <td>...</td>\n",
       "      <td>...</td>\n",
       "      <td>...</td>\n",
       "      <td>...</td>\n",
       "      <td>...</td>\n",
       "      <td>...</td>\n",
       "      <td>...</td>\n",
       "      <td>...</td>\n",
       "      <td>...</td>\n",
       "      <td>...</td>\n",
       "      <td>...</td>\n",
       "      <td>...</td>\n",
       "      <td>...</td>\n",
       "      <td>...</td>\n",
       "      <td>...</td>\n",
       "      <td>...</td>\n",
       "      <td>...</td>\n",
       "      <td>...</td>\n",
       "      <td>...</td>\n",
       "    </tr>\n",
       "    <tr>\n",
       "      <th>4749</th>\n",
       "      <td>tour_922</td>\n",
       "      <td>KENYA</td>\n",
       "      <td>25-44</td>\n",
       "      <td>NaN</td>\n",
       "      <td>1.0</td>\n",
       "      <td>0.0</td>\n",
       "      <td>Business</td>\n",
       "      <td>Wildlife tourism</td>\n",
       "      <td>others</td>\n",
       "      <td>Independent</td>\n",
       "      <td>...</td>\n",
       "      <td>No</td>\n",
       "      <td>No</td>\n",
       "      <td>No</td>\n",
       "      <td>2</td>\n",
       "      <td>0</td>\n",
       "      <td>Cash</td>\n",
       "      <td>No</td>\n",
       "      <td>Friendly People</td>\n",
       "      <td>1657500.0</td>\n",
       "      <td>East Africa</td>\n",
       "    </tr>\n",
       "    <tr>\n",
       "      <th>4771</th>\n",
       "      <td>tour_951</td>\n",
       "      <td>KENYA</td>\n",
       "      <td>25-44</td>\n",
       "      <td>Spouse and Children</td>\n",
       "      <td>4.0</td>\n",
       "      <td>3.0</td>\n",
       "      <td>Leisure and Holidays</td>\n",
       "      <td>Beach tourism</td>\n",
       "      <td>Travel, agent, tour operator</td>\n",
       "      <td>Independent</td>\n",
       "      <td>...</td>\n",
       "      <td>No</td>\n",
       "      <td>No</td>\n",
       "      <td>No</td>\n",
       "      <td>7</td>\n",
       "      <td>0</td>\n",
       "      <td>Credit Card</td>\n",
       "      <td>Yes</td>\n",
       "      <td>Good service</td>\n",
       "      <td>502000.0</td>\n",
       "      <td>East Africa</td>\n",
       "    </tr>\n",
       "    <tr>\n",
       "      <th>4776</th>\n",
       "      <td>tour_956</td>\n",
       "      <td>RWANDA</td>\n",
       "      <td>2022-01-24 00:00:00</td>\n",
       "      <td>NaN</td>\n",
       "      <td>1.0</td>\n",
       "      <td>0.0</td>\n",
       "      <td>Visiting Friends and Relatives</td>\n",
       "      <td>Beach tourism</td>\n",
       "      <td>Trade fair</td>\n",
       "      <td>Independent</td>\n",
       "      <td>...</td>\n",
       "      <td>No</td>\n",
       "      <td>No</td>\n",
       "      <td>No</td>\n",
       "      <td>3</td>\n",
       "      <td>0</td>\n",
       "      <td>Cash</td>\n",
       "      <td>Yes</td>\n",
       "      <td>No comments</td>\n",
       "      <td>165750.0</td>\n",
       "      <td>East Africa</td>\n",
       "    </tr>\n",
       "    <tr>\n",
       "      <th>4788</th>\n",
       "      <td>tour_975</td>\n",
       "      <td>KENYA</td>\n",
       "      <td>25-44</td>\n",
       "      <td>NaN</td>\n",
       "      <td>0.0</td>\n",
       "      <td>1.0</td>\n",
       "      <td>Meetings and Conference</td>\n",
       "      <td>Wildlife tourism</td>\n",
       "      <td>Friends, relatives</td>\n",
       "      <td>Package Tour</td>\n",
       "      <td>...</td>\n",
       "      <td>No</td>\n",
       "      <td>No</td>\n",
       "      <td>No</td>\n",
       "      <td>6</td>\n",
       "      <td>0</td>\n",
       "      <td>Cash</td>\n",
       "      <td>No</td>\n",
       "      <td>Friendly People</td>\n",
       "      <td>1657500.0</td>\n",
       "      <td>East Africa</td>\n",
       "    </tr>\n",
       "    <tr>\n",
       "      <th>4802</th>\n",
       "      <td>tour_99</td>\n",
       "      <td>KENYA</td>\n",
       "      <td>45-64</td>\n",
       "      <td>Friends/Relatives</td>\n",
       "      <td>2.0</td>\n",
       "      <td>2.0</td>\n",
       "      <td>Leisure and Holidays</td>\n",
       "      <td>Wildlife tourism</td>\n",
       "      <td>Travel, agent, tour operator</td>\n",
       "      <td>Independent</td>\n",
       "      <td>...</td>\n",
       "      <td>No</td>\n",
       "      <td>No</td>\n",
       "      <td>No</td>\n",
       "      <td>10</td>\n",
       "      <td>5</td>\n",
       "      <td>Cash</td>\n",
       "      <td>Yes</td>\n",
       "      <td>No comments</td>\n",
       "      <td>6464250.0</td>\n",
       "      <td>East Africa</td>\n",
       "    </tr>\n",
       "  </tbody>\n",
       "</table>\n",
       "<p>451 rows × 24 columns</p>\n",
       "</div>"
      ],
      "text/plain": [
       "             ID country            age_group          travel_with  \\\n",
       "15     tour_102  RWANDA                  65+                Alone   \n",
       "19    tour_1026   KENYA                25-44                  NaN   \n",
       "21    tour_1028   KENYA                45-64                  NaN   \n",
       "37    tour_1045   KENYA                45-64                Alone   \n",
       "51    tour_1060  UGANDA                25-44  Spouse and Children   \n",
       "...         ...     ...                  ...                  ...   \n",
       "4749   tour_922   KENYA                25-44                  NaN   \n",
       "4771   tour_951   KENYA                25-44  Spouse and Children   \n",
       "4776   tour_956  RWANDA  2022-01-24 00:00:00                  NaN   \n",
       "4788   tour_975   KENYA                25-44                  NaN   \n",
       "4802    tour_99   KENYA                45-64    Friends/Relatives   \n",
       "\n",
       "      total_female  total_male                         purpose  \\\n",
       "15             1.0         0.0            Leisure and Holidays   \n",
       "19             1.0         0.0                        Business   \n",
       "21             0.0         1.0                        Business   \n",
       "37             1.0         0.0         Scientific and Academic   \n",
       "51             2.0         1.0         Meetings and Conference   \n",
       "...            ...         ...                             ...   \n",
       "4749           1.0         0.0                        Business   \n",
       "4771           4.0         3.0            Leisure and Holidays   \n",
       "4776           1.0         0.0  Visiting Friends and Relatives   \n",
       "4788           0.0         1.0         Meetings and Conference   \n",
       "4802           2.0         2.0            Leisure and Holidays   \n",
       "\n",
       "          main_activity                   info_source tour_arrangement  ...  \\\n",
       "15        Beach tourism            Friends, relatives      Independent  ...   \n",
       "19    Mountain climbing            Friends, relatives      Independent  ...   \n",
       "21     Wildlife tourism            Friends, relatives      Independent  ...   \n",
       "37    Mountain climbing            inflight magazines     Package Tour  ...   \n",
       "51        Beach tourism            Friends, relatives      Independent  ...   \n",
       "...                 ...                           ...              ...  ...   \n",
       "4749   Wildlife tourism                        others      Independent  ...   \n",
       "4771      Beach tourism  Travel, agent, tour operator      Independent  ...   \n",
       "4776      Beach tourism                    Trade fair      Independent  ...   \n",
       "4788   Wildlife tourism            Friends, relatives     Package Tour  ...   \n",
       "4802   Wildlife tourism  Travel, agent, tour operator      Independent  ...   \n",
       "\n",
       "     package_sightseeing package_guided_tour package_insurance night_mainland  \\\n",
       "15                    No                  No                No              0   \n",
       "19                    No                  No                No              4   \n",
       "21                    No                  No                No              4   \n",
       "37                    No                  No                No              5   \n",
       "51                    No                  No                No             12   \n",
       "...                  ...                 ...               ...            ...   \n",
       "4749                  No                  No                No              2   \n",
       "4771                  No                  No                No              7   \n",
       "4776                  No                  No                No              3   \n",
       "4788                  No                  No                No              6   \n",
       "4802                  No                  No                No             10   \n",
       "\n",
       "     night_zanzibar payment_mode first_trip_tz  \\\n",
       "15                2         Cash           Yes   \n",
       "19                0         Cash            No   \n",
       "21                0         Cash           Yes   \n",
       "37                0  Credit Card            No   \n",
       "51                5         Cash            No   \n",
       "...             ...          ...           ...   \n",
       "4749              0         Cash            No   \n",
       "4771              0  Credit Card           Yes   \n",
       "4776              0         Cash           Yes   \n",
       "4788              0         Cash            No   \n",
       "4802              5         Cash           Yes   \n",
       "\n",
       "                           most_impressing  total_cost    upcountry  \n",
       "15    Wonderful Country, Landscape, Nature    331500.0  East Africa  \n",
       "19                         Friendly People    377520.0  East Africa  \n",
       "21                             No comments    497250.0  East Africa  \n",
       "37                                Wildlife   3812250.0  East Africa  \n",
       "51                         Friendly People   1000000.0  East Africa  \n",
       "...                                    ...         ...          ...  \n",
       "4749                       Friendly People   1657500.0  East Africa  \n",
       "4771                          Good service    502000.0  East Africa  \n",
       "4776                           No comments    165750.0  East Africa  \n",
       "4788                       Friendly People   1657500.0  East Africa  \n",
       "4802                           No comments   6464250.0  East Africa  \n",
       "\n",
       "[451 rows x 24 columns]"
      ]
     },
     "execution_count": 549,
     "metadata": {},
     "output_type": "execute_result"
    }
   ],
   "source": [
    "east"
   ]
  },
  {
   "cell_type": "markdown",
   "id": "8896f2b7-ce80-4d5c-9778-4250c8cd6ca6",
   "metadata": {},
   "source": [
    "## Northern Africa"
   ]
  },
  {
   "cell_type": "code",
   "execution_count": null,
   "id": "86f41fc0-f686-45c8-ad0f-c6e9fb1703e0",
   "metadata": {},
   "outputs": [],
   "source": []
  },
  {
   "cell_type": "code",
   "execution_count": 550,
   "id": "cdd43231-1628-4de1-8c73-f07ba0f4ce9c",
   "metadata": {},
   "outputs": [
    {
     "name": "stderr",
     "output_type": "stream",
     "text": [
      "C:\\Users\\Kofi\\AppData\\Local\\Temp/ipykernel_13564/3376065246.py:1: DeprecationWarning: find_element_by_xpath is deprecated. Please use find_element(by=By.XPATH, value=xpath) instead\n",
      "  i = driver.find_element_by_xpath(\"(//tbody)[3]\")\n"
     ]
    }
   ],
   "source": [
    "i = driver.find_element_by_xpath(\"(//tbody)[3]\")"
   ]
  },
  {
   "cell_type": "code",
   "execution_count": null,
   "id": "0e7c2bc3-c7ae-4685-bd94-f89940befe27",
   "metadata": {},
   "outputs": [],
   "source": []
  },
  {
   "cell_type": "code",
   "execution_count": 551,
   "id": "16f5ff8e-1655-4512-a57d-adc5ce22ae7e",
   "metadata": {},
   "outputs": [],
   "source": [
    "text = i.text\n",
    "#(//tbody)[1]"
   ]
  },
  {
   "cell_type": "code",
   "execution_count": 552,
   "id": "97a42c99-b55e-4299-848b-c795b0cc9902",
   "metadata": {},
   "outputs": [
    {
     "data": {
      "text/plain": [
       "str"
      ]
     },
     "execution_count": 552,
     "metadata": {},
     "output_type": "execute_result"
    }
   ],
   "source": [
    "type(text)"
   ]
  },
  {
   "cell_type": "code",
   "execution_count": 553,
   "id": "4f67376b-52ae-4be4-b6ff-981e3629229a",
   "metadata": {},
   "outputs": [],
   "source": [
    "rep = text.replace(\"\\n\", \". \")"
   ]
  },
  {
   "cell_type": "code",
   "execution_count": 554,
   "id": "c0e6a344-01e9-455f-92e5-05a9f55a5e5d",
   "metadata": {},
   "outputs": [],
   "source": [
    "import re\n",
    "expression = re.compile(r'([A-Z][^\\.!?]*[\\.!?])')\n",
    "new_list = re.findall(expression, rep)"
   ]
  },
  {
   "cell_type": "code",
   "execution_count": 555,
   "id": "7ca1fd82-6948-45f5-a946-9245dd35cc8b",
   "metadata": {},
   "outputs": [
    {
     "data": {
      "text/plain": [
       "['Member State  Abbreviation Date of joining.',\n",
       " 'OAU or AU.',\n",
       " 'People’s Democratic Republic of Algeria Algeria 25 May 1963.',\n",
       " 'Arab Republic of Egypt Egypt 25 May 1963.',\n",
       " 'Libya Libya 25 May 1963.',\n",
       " 'Islamic Republic of Mauritania Mauritania 25 May 1963.',\n",
       " 'Kingdom of Morocco Morocco 1963/31 January 2017.',\n",
       " 'Sahrawi Arab Democratic Republic Sahrawi Republic 22 February 1982.']"
      ]
     },
     "execution_count": 555,
     "metadata": {},
     "output_type": "execute_result"
    }
   ],
   "source": [
    "new_list"
   ]
  },
  {
   "cell_type": "code",
   "execution_count": null,
   "id": "3702f7d8-d7a1-4ac0-a65f-3e93ba4f2988",
   "metadata": {},
   "outputs": [],
   "source": []
  },
  {
   "cell_type": "code",
   "execution_count": 556,
   "id": "f514fe33-b10a-465c-9710-12ed10d16657",
   "metadata": {},
   "outputs": [],
   "source": [
    "converted_list = [x.upper() for x in new_list]"
   ]
  },
  {
   "cell_type": "code",
   "execution_count": 557,
   "id": "db8db2f7-41bf-426b-a245-fca3ca4c4eca",
   "metadata": {},
   "outputs": [
    {
     "data": {
      "text/plain": [
       "['MEMBER STATE  ABBREVIATION DATE OF JOINING.',\n",
       " 'OAU OR AU.',\n",
       " 'PEOPLE’S DEMOCRATIC REPUBLIC OF ALGERIA ALGERIA 25 MAY 1963.',\n",
       " 'ARAB REPUBLIC OF EGYPT EGYPT 25 MAY 1963.',\n",
       " 'LIBYA LIBYA 25 MAY 1963.',\n",
       " 'ISLAMIC REPUBLIC OF MAURITANIA MAURITANIA 25 MAY 1963.',\n",
       " 'KINGDOM OF MOROCCO MOROCCO 1963/31 JANUARY 2017.',\n",
       " 'SAHRAWI ARAB DEMOCRATIC REPUBLIC SAHRAWI REPUBLIC 22 FEBRUARY 1982.']"
      ]
     },
     "execution_count": 557,
     "metadata": {},
     "output_type": "execute_result"
    }
   ],
   "source": [
    "converted_list"
   ]
  },
  {
   "cell_type": "code",
   "execution_count": null,
   "id": "c26588b0-6bdf-43e5-9193-53b658dd4f27",
   "metadata": {},
   "outputs": [],
   "source": []
  },
  {
   "cell_type": "code",
   "execution_count": 558,
   "id": "8c3acbbf-0436-496d-afc1-226db0d6fa83",
   "metadata": {},
   "outputs": [],
   "source": [
    "co = str(converted_list)"
   ]
  },
  {
   "cell_type": "code",
   "execution_count": 559,
   "id": "a72e8e44-fe4d-4e42-9686-793bd2e938c8",
   "metadata": {},
   "outputs": [],
   "source": [
    "from itertools import chain"
   ]
  },
  {
   "cell_type": "code",
   "execution_count": 560,
   "id": "9e4b0017-d119-4d87-9a17-577ea2e9cd50",
   "metadata": {},
   "outputs": [],
   "source": [
    "coming = ' '.join(str(v) for v in converted_list)"
   ]
  },
  {
   "cell_type": "code",
   "execution_count": 561,
   "id": "447a80da-79a9-4fa1-bdf1-ae4675481c7f",
   "metadata": {},
   "outputs": [
    {
     "data": {
      "text/plain": [
       "'MEMBER STATE  ABBREVIATION DATE OF JOINING. OAU OR AU. PEOPLE’S DEMOCRATIC REPUBLIC OF ALGERIA ALGERIA 25 MAY 1963. ARAB REPUBLIC OF EGYPT EGYPT 25 MAY 1963. LIBYA LIBYA 25 MAY 1963. ISLAMIC REPUBLIC OF MAURITANIA MAURITANIA 25 MAY 1963. KINGDOM OF MOROCCO MOROCCO 1963/31 JANUARY 2017. SAHRAWI ARAB DEMOCRATIC REPUBLIC SAHRAWI REPUBLIC 22 FEBRUARY 1982.'"
      ]
     },
     "execution_count": 561,
     "metadata": {},
     "output_type": "execute_result"
    }
   ],
   "source": [
    "coming"
   ]
  },
  {
   "cell_type": "code",
   "execution_count": 562,
   "id": "869fe8cc-2048-42ef-84b5-bf621578421f",
   "metadata": {},
   "outputs": [],
   "source": [
    "come = coming.replace(\".\", \"\")\n",
    "com = come.replace(\"REPUBLIC\", \"\")\n",
    "come= com.replace(\"OF\", \"\")\n"
   ]
  },
  {
   "cell_type": "code",
   "execution_count": 563,
   "id": "f7a7e538-39af-4f74-a155-d6fc454160e9",
   "metadata": {},
   "outputs": [
    {
     "data": {
      "text/plain": [
       "'MEMBER STATE  ABBREVIATION DATE  JOINING OAU OR AU PEOPLE’S DEMOCRATIC   ALGERIA ALGERIA 25 MAY 1963 ARAB   EGYPT EGYPT 25 MAY 1963 LIBYA LIBYA 25 MAY 1963 ISLAMIC   MAURITANIA MAURITANIA 25 MAY 1963 KINGDOM  MOROCCO MOROCCO 1963/31 JANUARY 2017 SAHRAWI ARAB DEMOCRATIC  SAHRAWI  22 FEBRUARY 1982'"
      ]
     },
     "execution_count": 563,
     "metadata": {},
     "output_type": "execute_result"
    }
   ],
   "source": [
    "come"
   ]
  },
  {
   "cell_type": "code",
   "execution_count": 564,
   "id": "a9370f52-a37b-42f4-9a49-2b5b7adf8773",
   "metadata": {},
   "outputs": [],
   "source": [
    "# i need to get the intersection of countries"
   ]
  },
  {
   "cell_type": "code",
   "execution_count": null,
   "id": "0da21875-0b1d-4e9b-b72f-60ec90dae48e",
   "metadata": {},
   "outputs": [],
   "source": []
  },
  {
   "cell_type": "code",
   "execution_count": 565,
   "id": "d4abf81a-f40c-4eb2-946d-be63407372e4",
   "metadata": {},
   "outputs": [],
   "source": [
    "#movi\n",
    "#come\n",
    "\n",
    "read = set(result.split()) & set(come.split())"
   ]
  },
  {
   "cell_type": "code",
   "execution_count": 566,
   "id": "ac872277-5950-4041-bb69-9885560f3a63",
   "metadata": {},
   "outputs": [],
   "source": [
    "readd = list(read)"
   ]
  },
  {
   "cell_type": "code",
   "execution_count": 567,
   "id": "80395f6f-5198-4d56-a807-e69b0ae0f17e",
   "metadata": {},
   "outputs": [],
   "source": [
    "readd.append(\"SWAZILAND\")\n",
    "readd.append(\"TUNISIA\")\n",
    "readd.append(\"MORROCO\")"
   ]
  },
  {
   "cell_type": "code",
   "execution_count": 568,
   "id": "bcf3f8f1-2121-4b5e-a25e-c2b33ba76865",
   "metadata": {},
   "outputs": [
    {
     "data": {
      "text/plain": [
       "['EGYPT', 'KINGDOM', 'ARAB', 'ALGERIA', 'SWAZILAND', 'TUNISIA', 'MORROCO']"
      ]
     },
     "execution_count": 568,
     "metadata": {},
     "output_type": "execute_result"
    }
   ],
   "source": [
    "readd"
   ]
  },
  {
   "cell_type": "code",
   "execution_count": 569,
   "id": "7fb9dfa0-38cb-4dc7-b66c-9d103bb15717",
   "metadata": {},
   "outputs": [],
   "source": [
    "i = len(readd)"
   ]
  },
  {
   "cell_type": "code",
   "execution_count": 570,
   "id": "dc7729d1-c1e1-4541-b7b9-e41d521cc1fd",
   "metadata": {},
   "outputs": [],
   "source": [
    "matches = []\n",
    "\n",
    "for match in list1:\n",
    "    if readd[i-1] in match:\n",
    "        matches.append(match)\n",
    "        i-=1"
   ]
  },
  {
   "cell_type": "code",
   "execution_count": 571,
   "id": "03986f25-c8e5-4aad-a9d6-1426c520b9cd",
   "metadata": {},
   "outputs": [
    {
     "data": {
      "text/plain": [
       "list"
      ]
     },
     "execution_count": 571,
     "metadata": {},
     "output_type": "execute_result"
    }
   ],
   "source": [
    "type(matches)"
   ]
  },
  {
   "cell_type": "code",
   "execution_count": 572,
   "id": "1757cb1a-3788-44ba-8b9e-eedd19f38717",
   "metadata": {},
   "outputs": [],
   "source": [
    "i = len(readd)"
   ]
  },
  {
   "cell_type": "code",
   "execution_count": 573,
   "id": "08695d79-eae4-4a37-8e2b-0d8c9f1cd637",
   "metadata": {},
   "outputs": [
    {
     "data": {
      "text/plain": [
       "7"
      ]
     },
     "execution_count": 573,
     "metadata": {},
     "output_type": "execute_result"
    }
   ],
   "source": [
    "i"
   ]
  },
  {
   "cell_type": "code",
   "execution_count": 574,
   "id": "e07057f3-1981-414a-a6d7-934c507d118f",
   "metadata": {},
   "outputs": [
    {
     "data": {
      "text/plain": [
       "'MORROCO'"
      ]
     },
     "execution_count": 574,
     "metadata": {},
     "output_type": "execute_result"
    }
   ],
   "source": [
    "readd[i-1]"
   ]
  },
  {
   "cell_type": "code",
   "execution_count": 575,
   "id": "9644754c-5453-4f91-b941-684294c4a099",
   "metadata": {},
   "outputs": [
    {
     "data": {
      "text/plain": [
       "pandas.core.frame.DataFrame"
      ]
     },
     "execution_count": 575,
     "metadata": {},
     "output_type": "execute_result"
    }
   ],
   "source": [
    "type(df)"
   ]
  },
  {
   "cell_type": "code",
   "execution_count": 576,
   "id": "ed1189e4-2b97-4cdd-bff4-2dadb5e065b9",
   "metadata": {},
   "outputs": [],
   "source": [
    "df.upcountry.replace(readd, 'North Africa', inplace=True)"
   ]
  },
  {
   "cell_type": "code",
   "execution_count": 577,
   "id": "e4c8ad92-7d29-42c7-ae80-2674cc40e4f5",
   "metadata": {},
   "outputs": [],
   "source": [
    "north = df[df['upcountry'] == 'North Africa' ]\n",
    "#i=df[df[‘Name’]==’Will’]\n",
    "#print(i)"
   ]
  },
  {
   "cell_type": "code",
   "execution_count": 578,
   "id": "3823ca0c-512e-4fa7-8c72-f6cbe778464b",
   "metadata": {},
   "outputs": [
    {
     "data": {
      "text/html": [
       "<div>\n",
       "<style scoped>\n",
       "    .dataframe tbody tr th:only-of-type {\n",
       "        vertical-align: middle;\n",
       "    }\n",
       "\n",
       "    .dataframe tbody tr th {\n",
       "        vertical-align: top;\n",
       "    }\n",
       "\n",
       "    .dataframe thead th {\n",
       "        text-align: right;\n",
       "    }\n",
       "</style>\n",
       "<table border=\"1\" class=\"dataframe\">\n",
       "  <thead>\n",
       "    <tr style=\"text-align: right;\">\n",
       "      <th></th>\n",
       "      <th>ID</th>\n",
       "      <th>country</th>\n",
       "      <th>age_group</th>\n",
       "      <th>travel_with</th>\n",
       "      <th>total_female</th>\n",
       "      <th>total_male</th>\n",
       "      <th>purpose</th>\n",
       "      <th>main_activity</th>\n",
       "      <th>info_source</th>\n",
       "      <th>tour_arrangement</th>\n",
       "      <th>...</th>\n",
       "      <th>package_sightseeing</th>\n",
       "      <th>package_guided_tour</th>\n",
       "      <th>package_insurance</th>\n",
       "      <th>night_mainland</th>\n",
       "      <th>night_zanzibar</th>\n",
       "      <th>payment_mode</th>\n",
       "      <th>first_trip_tz</th>\n",
       "      <th>most_impressing</th>\n",
       "      <th>total_cost</th>\n",
       "      <th>upcountry</th>\n",
       "    </tr>\n",
       "  </thead>\n",
       "  <tbody>\n",
       "    <tr>\n",
       "      <th>23</th>\n",
       "      <td>tour_103</td>\n",
       "      <td>ALGERIA</td>\n",
       "      <td>25-44</td>\n",
       "      <td>Spouse</td>\n",
       "      <td>1.0</td>\n",
       "      <td>1.0</td>\n",
       "      <td>Leisure and Holidays</td>\n",
       "      <td>Beach tourism</td>\n",
       "      <td>Radio, TV, Web</td>\n",
       "      <td>Independent</td>\n",
       "      <td>...</td>\n",
       "      <td>No</td>\n",
       "      <td>No</td>\n",
       "      <td>No</td>\n",
       "      <td>0</td>\n",
       "      <td>11</td>\n",
       "      <td>Cash</td>\n",
       "      <td>Yes</td>\n",
       "      <td>Wildlife</td>\n",
       "      <td>3734347.5</td>\n",
       "      <td>North Africa</td>\n",
       "    </tr>\n",
       "    <tr>\n",
       "      <th>33</th>\n",
       "      <td>tour_1040</td>\n",
       "      <td>EGYPT</td>\n",
       "      <td>2022-01-24 00:00:00</td>\n",
       "      <td>Alone</td>\n",
       "      <td>0.0</td>\n",
       "      <td>1.0</td>\n",
       "      <td>Visiting Friends and Relatives</td>\n",
       "      <td>Bird watching</td>\n",
       "      <td>Travel, agent, tour operator</td>\n",
       "      <td>Package Tour</td>\n",
       "      <td>...</td>\n",
       "      <td>No</td>\n",
       "      <td>No</td>\n",
       "      <td>No</td>\n",
       "      <td>2</td>\n",
       "      <td>0</td>\n",
       "      <td>Cash</td>\n",
       "      <td>Yes</td>\n",
       "      <td>No comments</td>\n",
       "      <td>2320500.0</td>\n",
       "      <td>North Africa</td>\n",
       "    </tr>\n",
       "    <tr>\n",
       "      <th>242</th>\n",
       "      <td>tour_1305</td>\n",
       "      <td>EGYPT</td>\n",
       "      <td>45-64</td>\n",
       "      <td>Alone</td>\n",
       "      <td>0.0</td>\n",
       "      <td>1.0</td>\n",
       "      <td>Leisure and Holidays</td>\n",
       "      <td>Wildlife tourism</td>\n",
       "      <td>Tanzania Mission Abroad</td>\n",
       "      <td>Independent</td>\n",
       "      <td>...</td>\n",
       "      <td>No</td>\n",
       "      <td>No</td>\n",
       "      <td>No</td>\n",
       "      <td>4</td>\n",
       "      <td>0</td>\n",
       "      <td>Cash</td>\n",
       "      <td>No</td>\n",
       "      <td>No comments</td>\n",
       "      <td>994500.0</td>\n",
       "      <td>North Africa</td>\n",
       "    </tr>\n",
       "    <tr>\n",
       "      <th>290</th>\n",
       "      <td>tour_1360</td>\n",
       "      <td>SWAZILAND</td>\n",
       "      <td>25-44</td>\n",
       "      <td>NaN</td>\n",
       "      <td>0.0</td>\n",
       "      <td>1.0</td>\n",
       "      <td>Leisure and Holidays</td>\n",
       "      <td>Beach tourism</td>\n",
       "      <td>Travel, agent, tour operator</td>\n",
       "      <td>Independent</td>\n",
       "      <td>...</td>\n",
       "      <td>No</td>\n",
       "      <td>No</td>\n",
       "      <td>No</td>\n",
       "      <td>12</td>\n",
       "      <td>3</td>\n",
       "      <td>Cash</td>\n",
       "      <td>Yes</td>\n",
       "      <td>Wonderful Country, Landscape, Nature</td>\n",
       "      <td>15912000.0</td>\n",
       "      <td>North Africa</td>\n",
       "    </tr>\n",
       "    <tr>\n",
       "      <th>297</th>\n",
       "      <td>tour_1369</td>\n",
       "      <td>TUNISIA</td>\n",
       "      <td>25-44</td>\n",
       "      <td>Alone</td>\n",
       "      <td>0.0</td>\n",
       "      <td>1.0</td>\n",
       "      <td>Business</td>\n",
       "      <td>Beach tourism</td>\n",
       "      <td>Friends, relatives</td>\n",
       "      <td>Package Tour</td>\n",
       "      <td>...</td>\n",
       "      <td>No</td>\n",
       "      <td>No</td>\n",
       "      <td>No</td>\n",
       "      <td>36</td>\n",
       "      <td>0</td>\n",
       "      <td>Cash</td>\n",
       "      <td>No</td>\n",
       "      <td>Good service</td>\n",
       "      <td>15746250.0</td>\n",
       "      <td>North Africa</td>\n",
       "    </tr>\n",
       "    <tr>\n",
       "      <th>488</th>\n",
       "      <td>tour_1601</td>\n",
       "      <td>EGYPT</td>\n",
       "      <td>25-44</td>\n",
       "      <td>Alone</td>\n",
       "      <td>1.0</td>\n",
       "      <td>0.0</td>\n",
       "      <td>Leisure and Holidays</td>\n",
       "      <td>Wildlife tourism</td>\n",
       "      <td>Friends, relatives</td>\n",
       "      <td>Independent</td>\n",
       "      <td>...</td>\n",
       "      <td>No</td>\n",
       "      <td>No</td>\n",
       "      <td>No</td>\n",
       "      <td>7</td>\n",
       "      <td>7</td>\n",
       "      <td>Cash</td>\n",
       "      <td>Yes</td>\n",
       "      <td>No comments</td>\n",
       "      <td>4143750.0</td>\n",
       "      <td>North Africa</td>\n",
       "    </tr>\n",
       "    <tr>\n",
       "      <th>548</th>\n",
       "      <td>tour_1681</td>\n",
       "      <td>ALGERIA</td>\n",
       "      <td>25-44</td>\n",
       "      <td>Friends/Relatives</td>\n",
       "      <td>5.0</td>\n",
       "      <td>0.0</td>\n",
       "      <td>Visiting Friends and Relatives</td>\n",
       "      <td>Wildlife tourism</td>\n",
       "      <td>Friends, relatives</td>\n",
       "      <td>Independent</td>\n",
       "      <td>...</td>\n",
       "      <td>No</td>\n",
       "      <td>No</td>\n",
       "      <td>No</td>\n",
       "      <td>15</td>\n",
       "      <td>10</td>\n",
       "      <td>Cash</td>\n",
       "      <td>No</td>\n",
       "      <td>Wonderful Country, Landscape, Nature</td>\n",
       "      <td>828750.0</td>\n",
       "      <td>North Africa</td>\n",
       "    </tr>\n",
       "    <tr>\n",
       "      <th>768</th>\n",
       "      <td>tour_194</td>\n",
       "      <td>EGYPT</td>\n",
       "      <td>25-44</td>\n",
       "      <td>Alone</td>\n",
       "      <td>1.0</td>\n",
       "      <td>0.0</td>\n",
       "      <td>Visiting Friends and Relatives</td>\n",
       "      <td>Beach tourism</td>\n",
       "      <td>Friends, relatives</td>\n",
       "      <td>Independent</td>\n",
       "      <td>...</td>\n",
       "      <td>No</td>\n",
       "      <td>No</td>\n",
       "      <td>No</td>\n",
       "      <td>1</td>\n",
       "      <td>0</td>\n",
       "      <td>Cash</td>\n",
       "      <td>Yes</td>\n",
       "      <td>Friendly People</td>\n",
       "      <td>3315000.0</td>\n",
       "      <td>North Africa</td>\n",
       "    </tr>\n",
       "    <tr>\n",
       "      <th>778</th>\n",
       "      <td>tour_195</td>\n",
       "      <td>EGYPT</td>\n",
       "      <td>25-44</td>\n",
       "      <td>NaN</td>\n",
       "      <td>1.0</td>\n",
       "      <td>1.0</td>\n",
       "      <td>Leisure and Holidays</td>\n",
       "      <td>Wildlife tourism</td>\n",
       "      <td>Newspaper, magazines,brochures</td>\n",
       "      <td>Independent</td>\n",
       "      <td>...</td>\n",
       "      <td>No</td>\n",
       "      <td>No</td>\n",
       "      <td>No</td>\n",
       "      <td>23</td>\n",
       "      <td>3</td>\n",
       "      <td>Cash</td>\n",
       "      <td>Yes</td>\n",
       "      <td>Wildlife</td>\n",
       "      <td>5304000.0</td>\n",
       "      <td>North Africa</td>\n",
       "    </tr>\n",
       "    <tr>\n",
       "      <th>1031</th>\n",
       "      <td>tour_2266</td>\n",
       "      <td>EGYPT</td>\n",
       "      <td>25-44</td>\n",
       "      <td>Friends/Relatives</td>\n",
       "      <td>0.0</td>\n",
       "      <td>2.0</td>\n",
       "      <td>Leisure and Holidays</td>\n",
       "      <td>Conference tourism</td>\n",
       "      <td>Travel, agent, tour operator</td>\n",
       "      <td>Package Tour</td>\n",
       "      <td>...</td>\n",
       "      <td>Yes</td>\n",
       "      <td>Yes</td>\n",
       "      <td>No</td>\n",
       "      <td>14</td>\n",
       "      <td>0</td>\n",
       "      <td>Cash</td>\n",
       "      <td>Yes</td>\n",
       "      <td>Good service</td>\n",
       "      <td>10856625.0</td>\n",
       "      <td>North Africa</td>\n",
       "    </tr>\n",
       "    <tr>\n",
       "      <th>1396</th>\n",
       "      <td>tour_2718</td>\n",
       "      <td>EGYPT</td>\n",
       "      <td>25-44</td>\n",
       "      <td>Spouse</td>\n",
       "      <td>2.0</td>\n",
       "      <td>0.0</td>\n",
       "      <td>Meetings and Conference</td>\n",
       "      <td>Conference tourism</td>\n",
       "      <td>Friends, relatives</td>\n",
       "      <td>Package Tour</td>\n",
       "      <td>...</td>\n",
       "      <td>No</td>\n",
       "      <td>Yes</td>\n",
       "      <td>No</td>\n",
       "      <td>10</td>\n",
       "      <td>0</td>\n",
       "      <td>Cash</td>\n",
       "      <td>No</td>\n",
       "      <td>Wonderful Country, Landscape, Nature</td>\n",
       "      <td>3978000.0</td>\n",
       "      <td>North Africa</td>\n",
       "    </tr>\n",
       "    <tr>\n",
       "      <th>1510</th>\n",
       "      <td>tour_2856</td>\n",
       "      <td>SWAZILAND</td>\n",
       "      <td>25-44</td>\n",
       "      <td>Spouse</td>\n",
       "      <td>1.0</td>\n",
       "      <td>1.0</td>\n",
       "      <td>Leisure and Holidays</td>\n",
       "      <td>Wildlife tourism</td>\n",
       "      <td>Travel, agent, tour operator</td>\n",
       "      <td>Package Tour</td>\n",
       "      <td>...</td>\n",
       "      <td>No</td>\n",
       "      <td>No</td>\n",
       "      <td>No</td>\n",
       "      <td>7</td>\n",
       "      <td>6</td>\n",
       "      <td>Cash</td>\n",
       "      <td>Yes</td>\n",
       "      <td>No comments</td>\n",
       "      <td>828750.0</td>\n",
       "      <td>North Africa</td>\n",
       "    </tr>\n",
       "    <tr>\n",
       "      <th>1577</th>\n",
       "      <td>tour_2938</td>\n",
       "      <td>SWAZILAND</td>\n",
       "      <td>2022-01-24 00:00:00</td>\n",
       "      <td>Friends/Relatives</td>\n",
       "      <td>1.0</td>\n",
       "      <td>1.0</td>\n",
       "      <td>Leisure and Holidays</td>\n",
       "      <td>Wildlife tourism</td>\n",
       "      <td>others</td>\n",
       "      <td>Independent</td>\n",
       "      <td>...</td>\n",
       "      <td>No</td>\n",
       "      <td>No</td>\n",
       "      <td>No</td>\n",
       "      <td>14</td>\n",
       "      <td>0</td>\n",
       "      <td>Cash</td>\n",
       "      <td>Yes</td>\n",
       "      <td>Wonderful Country, Landscape, Nature</td>\n",
       "      <td>4889625.0</td>\n",
       "      <td>North Africa</td>\n",
       "    </tr>\n",
       "    <tr>\n",
       "      <th>2042</th>\n",
       "      <td>tour_3482</td>\n",
       "      <td>EGYPT</td>\n",
       "      <td>25-44</td>\n",
       "      <td>NaN</td>\n",
       "      <td>0.0</td>\n",
       "      <td>1.0</td>\n",
       "      <td>Leisure and Holidays</td>\n",
       "      <td>Conference tourism</td>\n",
       "      <td>Travel, agent, tour operator</td>\n",
       "      <td>Independent</td>\n",
       "      <td>...</td>\n",
       "      <td>No</td>\n",
       "      <td>No</td>\n",
       "      <td>No</td>\n",
       "      <td>14</td>\n",
       "      <td>0</td>\n",
       "      <td>Cash</td>\n",
       "      <td>Yes</td>\n",
       "      <td>Wonderful Country, Landscape, Nature</td>\n",
       "      <td>4143750.0</td>\n",
       "      <td>North Africa</td>\n",
       "    </tr>\n",
       "    <tr>\n",
       "      <th>2852</th>\n",
       "      <td>tour_4473</td>\n",
       "      <td>EGYPT</td>\n",
       "      <td>25-44</td>\n",
       "      <td>Spouse</td>\n",
       "      <td>1.0</td>\n",
       "      <td>1.0</td>\n",
       "      <td>Leisure and Holidays</td>\n",
       "      <td>Beach tourism</td>\n",
       "      <td>Friends, relatives</td>\n",
       "      <td>Independent</td>\n",
       "      <td>...</td>\n",
       "      <td>No</td>\n",
       "      <td>No</td>\n",
       "      <td>No</td>\n",
       "      <td>0</td>\n",
       "      <td>6</td>\n",
       "      <td>Cash</td>\n",
       "      <td>Yes</td>\n",
       "      <td>Wonderful Country, Landscape, Nature</td>\n",
       "      <td>3315000.0</td>\n",
       "      <td>North Africa</td>\n",
       "    </tr>\n",
       "    <tr>\n",
       "      <th>3762</th>\n",
       "      <td>tour_5565</td>\n",
       "      <td>MORROCO</td>\n",
       "      <td>25-44</td>\n",
       "      <td>Spouse</td>\n",
       "      <td>1.0</td>\n",
       "      <td>1.0</td>\n",
       "      <td>Leisure and Holidays</td>\n",
       "      <td>Wildlife tourism</td>\n",
       "      <td>Travel, agent, tour operator</td>\n",
       "      <td>Package Tour</td>\n",
       "      <td>...</td>\n",
       "      <td>Yes</td>\n",
       "      <td>Yes</td>\n",
       "      <td>No</td>\n",
       "      <td>5</td>\n",
       "      <td>5</td>\n",
       "      <td>Cash</td>\n",
       "      <td>Yes</td>\n",
       "      <td>Wildlife</td>\n",
       "      <td>1491750.0</td>\n",
       "      <td>North Africa</td>\n",
       "    </tr>\n",
       "    <tr>\n",
       "      <th>4688</th>\n",
       "      <td>tour_847</td>\n",
       "      <td>SWAZILAND</td>\n",
       "      <td>25-44</td>\n",
       "      <td>Alone</td>\n",
       "      <td>0.0</td>\n",
       "      <td>1.0</td>\n",
       "      <td>Meetings and Conference</td>\n",
       "      <td>Bird watching</td>\n",
       "      <td>Travel, agent, tour operator</td>\n",
       "      <td>Independent</td>\n",
       "      <td>...</td>\n",
       "      <td>No</td>\n",
       "      <td>No</td>\n",
       "      <td>No</td>\n",
       "      <td>6</td>\n",
       "      <td>0</td>\n",
       "      <td>Cash</td>\n",
       "      <td>No</td>\n",
       "      <td>Good service</td>\n",
       "      <td>1657500.0</td>\n",
       "      <td>North Africa</td>\n",
       "    </tr>\n",
       "    <tr>\n",
       "      <th>4753</th>\n",
       "      <td>tour_928</td>\n",
       "      <td>EGYPT</td>\n",
       "      <td>25-44</td>\n",
       "      <td>Alone</td>\n",
       "      <td>1.0</td>\n",
       "      <td>0.0</td>\n",
       "      <td>Leisure and Holidays</td>\n",
       "      <td>Wildlife tourism</td>\n",
       "      <td>Friends, relatives</td>\n",
       "      <td>Independent</td>\n",
       "      <td>...</td>\n",
       "      <td>No</td>\n",
       "      <td>No</td>\n",
       "      <td>No</td>\n",
       "      <td>5</td>\n",
       "      <td>5</td>\n",
       "      <td>Cash</td>\n",
       "      <td>Yes</td>\n",
       "      <td>Excellent Experience</td>\n",
       "      <td>1657500.0</td>\n",
       "      <td>North Africa</td>\n",
       "    </tr>\n",
       "  </tbody>\n",
       "</table>\n",
       "<p>18 rows × 24 columns</p>\n",
       "</div>"
      ],
      "text/plain": [
       "             ID    country            age_group        travel_with  \\\n",
       "23     tour_103    ALGERIA                25-44             Spouse   \n",
       "33    tour_1040      EGYPT  2022-01-24 00:00:00              Alone   \n",
       "242   tour_1305      EGYPT                45-64              Alone   \n",
       "290   tour_1360  SWAZILAND                25-44                NaN   \n",
       "297   tour_1369    TUNISIA                25-44              Alone   \n",
       "488   tour_1601      EGYPT                25-44              Alone   \n",
       "548   tour_1681    ALGERIA                25-44  Friends/Relatives   \n",
       "768    tour_194      EGYPT                25-44              Alone   \n",
       "778    tour_195      EGYPT                25-44                NaN   \n",
       "1031  tour_2266      EGYPT                25-44  Friends/Relatives   \n",
       "1396  tour_2718      EGYPT                25-44             Spouse   \n",
       "1510  tour_2856  SWAZILAND                25-44             Spouse   \n",
       "1577  tour_2938  SWAZILAND  2022-01-24 00:00:00  Friends/Relatives   \n",
       "2042  tour_3482      EGYPT                25-44                NaN   \n",
       "2852  tour_4473      EGYPT                25-44             Spouse   \n",
       "3762  tour_5565    MORROCO                25-44             Spouse   \n",
       "4688   tour_847  SWAZILAND                25-44              Alone   \n",
       "4753   tour_928      EGYPT                25-44              Alone   \n",
       "\n",
       "      total_female  total_male                         purpose  \\\n",
       "23             1.0         1.0            Leisure and Holidays   \n",
       "33             0.0         1.0  Visiting Friends and Relatives   \n",
       "242            0.0         1.0            Leisure and Holidays   \n",
       "290            0.0         1.0            Leisure and Holidays   \n",
       "297            0.0         1.0                        Business   \n",
       "488            1.0         0.0            Leisure and Holidays   \n",
       "548            5.0         0.0  Visiting Friends and Relatives   \n",
       "768            1.0         0.0  Visiting Friends and Relatives   \n",
       "778            1.0         1.0            Leisure and Holidays   \n",
       "1031           0.0         2.0            Leisure and Holidays   \n",
       "1396           2.0         0.0         Meetings and Conference   \n",
       "1510           1.0         1.0            Leisure and Holidays   \n",
       "1577           1.0         1.0            Leisure and Holidays   \n",
       "2042           0.0         1.0            Leisure and Holidays   \n",
       "2852           1.0         1.0            Leisure and Holidays   \n",
       "3762           1.0         1.0            Leisure and Holidays   \n",
       "4688           0.0         1.0         Meetings and Conference   \n",
       "4753           1.0         0.0            Leisure and Holidays   \n",
       "\n",
       "           main_activity                     info_source tour_arrangement  \\\n",
       "23         Beach tourism                  Radio, TV, Web      Independent   \n",
       "33         Bird watching    Travel, agent, tour operator     Package Tour   \n",
       "242     Wildlife tourism         Tanzania Mission Abroad      Independent   \n",
       "290        Beach tourism    Travel, agent, tour operator      Independent   \n",
       "297        Beach tourism              Friends, relatives     Package Tour   \n",
       "488     Wildlife tourism              Friends, relatives      Independent   \n",
       "548     Wildlife tourism              Friends, relatives      Independent   \n",
       "768        Beach tourism              Friends, relatives      Independent   \n",
       "778     Wildlife tourism  Newspaper, magazines,brochures      Independent   \n",
       "1031  Conference tourism    Travel, agent, tour operator     Package Tour   \n",
       "1396  Conference tourism              Friends, relatives     Package Tour   \n",
       "1510    Wildlife tourism    Travel, agent, tour operator     Package Tour   \n",
       "1577    Wildlife tourism                          others      Independent   \n",
       "2042  Conference tourism    Travel, agent, tour operator      Independent   \n",
       "2852       Beach tourism              Friends, relatives      Independent   \n",
       "3762    Wildlife tourism    Travel, agent, tour operator     Package Tour   \n",
       "4688       Bird watching    Travel, agent, tour operator      Independent   \n",
       "4753    Wildlife tourism              Friends, relatives      Independent   \n",
       "\n",
       "      ... package_sightseeing package_guided_tour package_insurance  \\\n",
       "23    ...                  No                  No                No   \n",
       "33    ...                  No                  No                No   \n",
       "242   ...                  No                  No                No   \n",
       "290   ...                  No                  No                No   \n",
       "297   ...                  No                  No                No   \n",
       "488   ...                  No                  No                No   \n",
       "548   ...                  No                  No                No   \n",
       "768   ...                  No                  No                No   \n",
       "778   ...                  No                  No                No   \n",
       "1031  ...                 Yes                 Yes                No   \n",
       "1396  ...                  No                 Yes                No   \n",
       "1510  ...                  No                  No                No   \n",
       "1577  ...                  No                  No                No   \n",
       "2042  ...                  No                  No                No   \n",
       "2852  ...                  No                  No                No   \n",
       "3762  ...                 Yes                 Yes                No   \n",
       "4688  ...                  No                  No                No   \n",
       "4753  ...                  No                  No                No   \n",
       "\n",
       "     night_mainland night_zanzibar payment_mode first_trip_tz  \\\n",
       "23                0             11         Cash           Yes   \n",
       "33                2              0         Cash           Yes   \n",
       "242               4              0         Cash            No   \n",
       "290              12              3         Cash           Yes   \n",
       "297              36              0         Cash            No   \n",
       "488               7              7         Cash           Yes   \n",
       "548              15             10         Cash            No   \n",
       "768               1              0         Cash           Yes   \n",
       "778              23              3         Cash           Yes   \n",
       "1031             14              0         Cash           Yes   \n",
       "1396             10              0         Cash            No   \n",
       "1510              7              6         Cash           Yes   \n",
       "1577             14              0         Cash           Yes   \n",
       "2042             14              0         Cash           Yes   \n",
       "2852              0              6         Cash           Yes   \n",
       "3762              5              5         Cash           Yes   \n",
       "4688              6              0         Cash            No   \n",
       "4753              5              5         Cash           Yes   \n",
       "\n",
       "                           most_impressing  total_cost     upcountry  \n",
       "23                                Wildlife   3734347.5  North Africa  \n",
       "33                             No comments   2320500.0  North Africa  \n",
       "242                            No comments    994500.0  North Africa  \n",
       "290   Wonderful Country, Landscape, Nature  15912000.0  North Africa  \n",
       "297                           Good service  15746250.0  North Africa  \n",
       "488                            No comments   4143750.0  North Africa  \n",
       "548   Wonderful Country, Landscape, Nature    828750.0  North Africa  \n",
       "768                        Friendly People   3315000.0  North Africa  \n",
       "778                               Wildlife   5304000.0  North Africa  \n",
       "1031                          Good service  10856625.0  North Africa  \n",
       "1396  Wonderful Country, Landscape, Nature   3978000.0  North Africa  \n",
       "1510                           No comments    828750.0  North Africa  \n",
       "1577  Wonderful Country, Landscape, Nature   4889625.0  North Africa  \n",
       "2042  Wonderful Country, Landscape, Nature   4143750.0  North Africa  \n",
       "2852  Wonderful Country, Landscape, Nature   3315000.0  North Africa  \n",
       "3762                              Wildlife   1491750.0  North Africa  \n",
       "4688                          Good service   1657500.0  North Africa  \n",
       "4753                  Excellent Experience   1657500.0  North Africa  \n",
       "\n",
       "[18 rows x 24 columns]"
      ]
     },
     "execution_count": 578,
     "metadata": {},
     "output_type": "execute_result"
    }
   ],
   "source": [
    "north"
   ]
  },
  {
   "cell_type": "markdown",
   "id": "15ca4774-33a7-46c8-9f57-8a706bdb1d43",
   "metadata": {},
   "source": [
    "## Southern Africa"
   ]
  },
  {
   "cell_type": "code",
   "execution_count": 579,
   "id": "c6075b28-b945-4a08-9f9f-a20499365c1f",
   "metadata": {},
   "outputs": [
    {
     "name": "stderr",
     "output_type": "stream",
     "text": [
      "C:\\Users\\Kofi\\AppData\\Local\\Temp/ipykernel_13564/954712956.py:1: DeprecationWarning: find_element_by_xpath is deprecated. Please use find_element(by=By.XPATH, value=xpath) instead\n",
      "  i = driver.find_element_by_xpath(\"(//tbody)[4]\")\n"
     ]
    }
   ],
   "source": [
    "i = driver.find_element_by_xpath(\"(//tbody)[4]\")"
   ]
  },
  {
   "cell_type": "code",
   "execution_count": null,
   "id": "0bfd32ba-bfef-4b16-a9c1-e84a69a1595f",
   "metadata": {},
   "outputs": [],
   "source": []
  },
  {
   "cell_type": "code",
   "execution_count": 580,
   "id": "aa11333d-76e7-4d31-87f6-401745428026",
   "metadata": {},
   "outputs": [],
   "source": [
    "text = i.text\n",
    "#(//tbody)[1]"
   ]
  },
  {
   "cell_type": "code",
   "execution_count": 581,
   "id": "333944a7-d2c3-4db2-adcf-ad920699af98",
   "metadata": {},
   "outputs": [
    {
     "data": {
      "text/plain": [
       "str"
      ]
     },
     "execution_count": 581,
     "metadata": {},
     "output_type": "execute_result"
    }
   ],
   "source": [
    "type(text)"
   ]
  },
  {
   "cell_type": "code",
   "execution_count": 582,
   "id": "8f5fa5fd-da04-44bb-b565-2c8246044b9b",
   "metadata": {},
   "outputs": [],
   "source": [
    "rep = text.replace(\"\\n\", \". \")"
   ]
  },
  {
   "cell_type": "code",
   "execution_count": 583,
   "id": "bbee28a8-3a1b-4eab-9524-417345046d56",
   "metadata": {},
   "outputs": [],
   "source": [
    "import re\n",
    "expression = re.compile(r'([A-Z][^\\.!?]*[\\.!?])')\n",
    "new_list = re.findall(expression, rep)"
   ]
  },
  {
   "cell_type": "code",
   "execution_count": 584,
   "id": "eb672e3a-143c-4989-a0c0-1454a32f0db4",
   "metadata": {},
   "outputs": [
    {
     "data": {
      "text/plain": [
       "['Member State  Abbreviation Date of joining.',\n",
       " 'OAU or AU.',\n",
       " 'Republic of Angola   Angola 11 February 1975.',\n",
       " 'Republic of Botswana   Botswana 31 October 1966.',\n",
       " 'Kingdom of Eswatini   Eswatini 24 September 1968.',\n",
       " 'Kingdom of Lesotho   Lesotho 31 October 1966.',\n",
       " 'Republic of Malawi   Malawi 13 July 1964.',\n",
       " 'Republic of Mozambique   Mozambique 18 July 1975.',\n",
       " 'Republic of Namibia   Namibia June 1990.',\n",
       " 'Republic of South Africa  South Africa 6 June 1994.',\n",
       " 'Republic of Zambia   Zambia 16 December 1964.']"
      ]
     },
     "execution_count": 584,
     "metadata": {},
     "output_type": "execute_result"
    }
   ],
   "source": [
    "new_list"
   ]
  },
  {
   "cell_type": "code",
   "execution_count": null,
   "id": "76abdae1-79bc-449d-bce7-17cfd38a3e3b",
   "metadata": {},
   "outputs": [],
   "source": []
  },
  {
   "cell_type": "code",
   "execution_count": 585,
   "id": "23b1fa60-e672-4bf5-b488-afe553714653",
   "metadata": {},
   "outputs": [],
   "source": [
    "converted_list = [x.upper() for x in new_list]"
   ]
  },
  {
   "cell_type": "code",
   "execution_count": 586,
   "id": "5bbef3b9-4237-4bcf-ad8c-5ee3493a585e",
   "metadata": {},
   "outputs": [
    {
     "data": {
      "text/plain": [
       "['MEMBER STATE  ABBREVIATION DATE OF JOINING.',\n",
       " 'OAU OR AU.',\n",
       " 'REPUBLIC OF ANGOLA   ANGOLA 11 FEBRUARY 1975.',\n",
       " 'REPUBLIC OF BOTSWANA   BOTSWANA 31 OCTOBER 1966.',\n",
       " 'KINGDOM OF ESWATINI   ESWATINI 24 SEPTEMBER 1968.',\n",
       " 'KINGDOM OF LESOTHO   LESOTHO 31 OCTOBER 1966.',\n",
       " 'REPUBLIC OF MALAWI   MALAWI 13 JULY 1964.',\n",
       " 'REPUBLIC OF MOZAMBIQUE   MOZAMBIQUE 18 JULY 1975.',\n",
       " 'REPUBLIC OF NAMIBIA   NAMIBIA JUNE 1990.',\n",
       " 'REPUBLIC OF SOUTH AFRICA  SOUTH AFRICA 6 JUNE 1994.',\n",
       " 'REPUBLIC OF ZAMBIA   ZAMBIA 16 DECEMBER 1964.']"
      ]
     },
     "execution_count": 586,
     "metadata": {},
     "output_type": "execute_result"
    }
   ],
   "source": [
    "converted_list"
   ]
  },
  {
   "cell_type": "code",
   "execution_count": null,
   "id": "d87a2976-3730-40ae-92e2-ce6f79382a06",
   "metadata": {},
   "outputs": [],
   "source": []
  },
  {
   "cell_type": "code",
   "execution_count": 587,
   "id": "709f2228-dabb-4e41-9c42-6d2946a8f3e8",
   "metadata": {},
   "outputs": [],
   "source": [
    "co = str(converted_list)"
   ]
  },
  {
   "cell_type": "code",
   "execution_count": 588,
   "id": "0a445bf4-ee6a-4169-95eb-bbdeb70e17d7",
   "metadata": {},
   "outputs": [],
   "source": [
    "from itertools import chain"
   ]
  },
  {
   "cell_type": "code",
   "execution_count": 589,
   "id": "2bd992f9-9807-407c-b971-dd37d3afa8c1",
   "metadata": {},
   "outputs": [],
   "source": [
    "coming = ' '.join(str(v) for v in converted_list)"
   ]
  },
  {
   "cell_type": "code",
   "execution_count": 590,
   "id": "a63d4743-e1aa-4b66-82d4-cbfd424541ad",
   "metadata": {},
   "outputs": [
    {
     "data": {
      "text/plain": [
       "'MEMBER STATE  ABBREVIATION DATE OF JOINING. OAU OR AU. REPUBLIC OF ANGOLA   ANGOLA 11 FEBRUARY 1975. REPUBLIC OF BOTSWANA   BOTSWANA 31 OCTOBER 1966. KINGDOM OF ESWATINI   ESWATINI 24 SEPTEMBER 1968. KINGDOM OF LESOTHO   LESOTHO 31 OCTOBER 1966. REPUBLIC OF MALAWI   MALAWI 13 JULY 1964. REPUBLIC OF MOZAMBIQUE   MOZAMBIQUE 18 JULY 1975. REPUBLIC OF NAMIBIA   NAMIBIA JUNE 1990. REPUBLIC OF SOUTH AFRICA  SOUTH AFRICA 6 JUNE 1994. REPUBLIC OF ZAMBIA   ZAMBIA 16 DECEMBER 1964.'"
      ]
     },
     "execution_count": 590,
     "metadata": {},
     "output_type": "execute_result"
    }
   ],
   "source": [
    "coming"
   ]
  },
  {
   "cell_type": "code",
   "execution_count": 591,
   "id": "5200e261-1da0-4c98-9eba-be7f19141619",
   "metadata": {},
   "outputs": [],
   "source": [
    "come = coming.replace(\".\", \"\")\n",
    "com = come.replace(\"REPUBLIC\", \"\")\n",
    "come= com.replace(\"OF\", \"\")\n"
   ]
  },
  {
   "cell_type": "code",
   "execution_count": 592,
   "id": "76edc6c0-dff8-4876-82a0-1d3a3f92c1e4",
   "metadata": {},
   "outputs": [
    {
     "data": {
      "text/plain": [
       "'MEMBER STATE  ABBREVIATION DATE  JOINING OAU OR AU   ANGOLA   ANGOLA 11 FEBRUARY 1975   BOTSWANA   BOTSWANA 31 OCTOBER 1966 KINGDOM  ESWATINI   ESWATINI 24 SEPTEMBER 1968 KINGDOM  LESOTHO   LESOTHO 31 OCTOBER 1966   MALAWI   MALAWI 13 JULY 1964   MOZAMBIQUE   MOZAMBIQUE 18 JULY 1975   NAMIBIA   NAMIBIA JUNE 1990   SOUTH AFRICA  SOUTH AFRICA 6 JUNE 1994   ZAMBIA   ZAMBIA 16 DECEMBER 1964'"
      ]
     },
     "execution_count": 592,
     "metadata": {},
     "output_type": "execute_result"
    }
   ],
   "source": [
    "come"
   ]
  },
  {
   "cell_type": "code",
   "execution_count": 593,
   "id": "9c74f2cb-65be-4856-95d3-f3144777fd7d",
   "metadata": {},
   "outputs": [],
   "source": [
    "# i need to get the intersection of countries"
   ]
  },
  {
   "cell_type": "code",
   "execution_count": null,
   "id": "b7c7c1c4-4241-4382-9d04-53ab61a36e17",
   "metadata": {},
   "outputs": [],
   "source": []
  },
  {
   "cell_type": "code",
   "execution_count": 594,
   "id": "2b4b9170-e35e-4ab9-b997-5bc595565663",
   "metadata": {},
   "outputs": [],
   "source": [
    "#movi\n",
    "#come\n",
    "\n",
    "read = set(result.split()) & set(come.split())"
   ]
  },
  {
   "cell_type": "code",
   "execution_count": 595,
   "id": "b6c9e7fc-4978-4540-ab93-ad7f2afe17a3",
   "metadata": {},
   "outputs": [],
   "source": [
    "readd = list(read)"
   ]
  },
  {
   "cell_type": "code",
   "execution_count": 596,
   "id": "1138bab1-70f3-4555-af49-f24509ffaaf0",
   "metadata": {},
   "outputs": [],
   "source": [
    "#SOUTH AFRICA"
   ]
  },
  {
   "cell_type": "code",
   "execution_count": 597,
   "id": "456be1e1-383c-4465-869d-a7bcc5a4e402",
   "metadata": {},
   "outputs": [],
   "source": [
    "\n",
    "readd.append(\"SOUTH AFRICA\")\n",
    "readd.append(\"ZIMBABWE\")"
   ]
  },
  {
   "cell_type": "code",
   "execution_count": 598,
   "id": "1fc361c2-af5a-4530-ba12-8293a2dc87be",
   "metadata": {},
   "outputs": [
    {
     "data": {
      "text/plain": [
       "['ANGOLA',\n",
       " 'AFRICA',\n",
       " 'SOUTH',\n",
       " 'NAMIBIA',\n",
       " 'KINGDOM',\n",
       " 'MOZAMBIQUE',\n",
       " 'LESOTHO',\n",
       " 'ZAMBIA',\n",
       " 'MALAWI',\n",
       " 'SOUTH AFRICA',\n",
       " 'ZIMBABWE']"
      ]
     },
     "execution_count": 598,
     "metadata": {},
     "output_type": "execute_result"
    }
   ],
   "source": [
    "readd"
   ]
  },
  {
   "cell_type": "code",
   "execution_count": 599,
   "id": "e0fccb4a-00c4-497a-b3e7-02917db4660e",
   "metadata": {},
   "outputs": [],
   "source": [
    "i = len(readd)"
   ]
  },
  {
   "cell_type": "code",
   "execution_count": 600,
   "id": "acbbcff9-d027-41ac-82b4-b89842a60e8d",
   "metadata": {},
   "outputs": [],
   "source": [
    "matches = []\n",
    "\n",
    "for match in list1:\n",
    "    if readd[i-1] in match:\n",
    "        matches.append(match)\n",
    "        i-=1"
   ]
  },
  {
   "cell_type": "code",
   "execution_count": 601,
   "id": "7f854cc1-721e-432a-93ae-cbff3be637f3",
   "metadata": {},
   "outputs": [
    {
     "data": {
      "text/plain": [
       "list"
      ]
     },
     "execution_count": 601,
     "metadata": {},
     "output_type": "execute_result"
    }
   ],
   "source": [
    "type(matches)"
   ]
  },
  {
   "cell_type": "code",
   "execution_count": 602,
   "id": "d2ca36f4-b8e2-4129-af25-aaa77ce56489",
   "metadata": {},
   "outputs": [],
   "source": [
    "i = len(readd)"
   ]
  },
  {
   "cell_type": "code",
   "execution_count": 603,
   "id": "bb6f3fb5-55ca-4aa9-9140-819680bd168d",
   "metadata": {},
   "outputs": [
    {
     "data": {
      "text/plain": [
       "11"
      ]
     },
     "execution_count": 603,
     "metadata": {},
     "output_type": "execute_result"
    }
   ],
   "source": [
    "i"
   ]
  },
  {
   "cell_type": "code",
   "execution_count": 604,
   "id": "33942224-d671-45f8-9047-be4c59d6ec7e",
   "metadata": {},
   "outputs": [
    {
     "data": {
      "text/plain": [
       "'ZIMBABWE'"
      ]
     },
     "execution_count": 604,
     "metadata": {},
     "output_type": "execute_result"
    }
   ],
   "source": [
    "readd[i-1]"
   ]
  },
  {
   "cell_type": "code",
   "execution_count": 605,
   "id": "508ea21f-ceaf-46d4-a1f0-7209792c8ccb",
   "metadata": {},
   "outputs": [
    {
     "data": {
      "text/plain": [
       "pandas.core.frame.DataFrame"
      ]
     },
     "execution_count": 605,
     "metadata": {},
     "output_type": "execute_result"
    }
   ],
   "source": [
    "type(df)"
   ]
  },
  {
   "cell_type": "code",
   "execution_count": 606,
   "id": "dacadcec-3a60-4d8a-8d6c-11ace05ade28",
   "metadata": {},
   "outputs": [],
   "source": [
    "df.upcountry.replace(readd, 'Southern Africa', inplace=True)"
   ]
  },
  {
   "cell_type": "code",
   "execution_count": 607,
   "id": "a8deec4d-ae49-4eb8-a239-00d24ad30fff",
   "metadata": {},
   "outputs": [],
   "source": [
    "south = df[df['upcountry'] == 'Southern Africa' ]\n",
    "#i=df[df[‘Name’]==’Will’]\n",
    "#print(i)"
   ]
  },
  {
   "cell_type": "code",
   "execution_count": 608,
   "id": "0465faab-3f75-486d-93c6-82c52af43a8f",
   "metadata": {},
   "outputs": [
    {
     "data": {
      "text/html": [
       "<div>\n",
       "<style scoped>\n",
       "    .dataframe tbody tr th:only-of-type {\n",
       "        vertical-align: middle;\n",
       "    }\n",
       "\n",
       "    .dataframe tbody tr th {\n",
       "        vertical-align: top;\n",
       "    }\n",
       "\n",
       "    .dataframe thead th {\n",
       "        text-align: right;\n",
       "    }\n",
       "</style>\n",
       "<table border=\"1\" class=\"dataframe\">\n",
       "  <thead>\n",
       "    <tr style=\"text-align: right;\">\n",
       "      <th></th>\n",
       "      <th>ID</th>\n",
       "      <th>country</th>\n",
       "      <th>age_group</th>\n",
       "      <th>travel_with</th>\n",
       "      <th>total_female</th>\n",
       "      <th>total_male</th>\n",
       "      <th>purpose</th>\n",
       "      <th>main_activity</th>\n",
       "      <th>info_source</th>\n",
       "      <th>tour_arrangement</th>\n",
       "      <th>...</th>\n",
       "      <th>package_sightseeing</th>\n",
       "      <th>package_guided_tour</th>\n",
       "      <th>package_insurance</th>\n",
       "      <th>night_mainland</th>\n",
       "      <th>night_zanzibar</th>\n",
       "      <th>payment_mode</th>\n",
       "      <th>first_trip_tz</th>\n",
       "      <th>most_impressing</th>\n",
       "      <th>total_cost</th>\n",
       "      <th>upcountry</th>\n",
       "    </tr>\n",
       "  </thead>\n",
       "  <tbody>\n",
       "    <tr>\n",
       "      <th>6</th>\n",
       "      <td>tour_1007</td>\n",
       "      <td>SOUTH AFRICA</td>\n",
       "      <td>45-64</td>\n",
       "      <td>Alone</td>\n",
       "      <td>0.0</td>\n",
       "      <td>1.0</td>\n",
       "      <td>Business</td>\n",
       "      <td>Mountain climbing</td>\n",
       "      <td>Friends, relatives</td>\n",
       "      <td>Independent</td>\n",
       "      <td>...</td>\n",
       "      <td>No</td>\n",
       "      <td>No</td>\n",
       "      <td>No</td>\n",
       "      <td>9</td>\n",
       "      <td>0</td>\n",
       "      <td>Cash</td>\n",
       "      <td>Yes</td>\n",
       "      <td>Friendly People</td>\n",
       "      <td>466140.0</td>\n",
       "      <td>Southern Africa</td>\n",
       "    </tr>\n",
       "    <tr>\n",
       "      <th>14</th>\n",
       "      <td>tour_1018</td>\n",
       "      <td>MOZAMBIQUE</td>\n",
       "      <td>25-44</td>\n",
       "      <td>Alone</td>\n",
       "      <td>0.0</td>\n",
       "      <td>1.0</td>\n",
       "      <td>Visiting Friends and Relatives</td>\n",
       "      <td>Beach tourism</td>\n",
       "      <td>Friends, relatives</td>\n",
       "      <td>Independent</td>\n",
       "      <td>...</td>\n",
       "      <td>No</td>\n",
       "      <td>No</td>\n",
       "      <td>No</td>\n",
       "      <td>2</td>\n",
       "      <td>0</td>\n",
       "      <td>Cash</td>\n",
       "      <td>Yes</td>\n",
       "      <td>Wildlife</td>\n",
       "      <td>497250.0</td>\n",
       "      <td>Southern Africa</td>\n",
       "    </tr>\n",
       "    <tr>\n",
       "      <th>36</th>\n",
       "      <td>tour_1043</td>\n",
       "      <td>MOZAMBIQUE</td>\n",
       "      <td>2022-01-24 00:00:00</td>\n",
       "      <td>Alone</td>\n",
       "      <td>1.0</td>\n",
       "      <td>0.0</td>\n",
       "      <td>Visiting Friends and Relatives</td>\n",
       "      <td>Hunting tourism</td>\n",
       "      <td>Friends, relatives</td>\n",
       "      <td>Independent</td>\n",
       "      <td>...</td>\n",
       "      <td>No</td>\n",
       "      <td>No</td>\n",
       "      <td>No</td>\n",
       "      <td>3</td>\n",
       "      <td>0</td>\n",
       "      <td>Cash</td>\n",
       "      <td>Yes</td>\n",
       "      <td>Excellent Experience</td>\n",
       "      <td>663000.0</td>\n",
       "      <td>Southern Africa</td>\n",
       "    </tr>\n",
       "    <tr>\n",
       "      <th>39</th>\n",
       "      <td>tour_1047</td>\n",
       "      <td>MALAWI</td>\n",
       "      <td>25-44</td>\n",
       "      <td>Alone</td>\n",
       "      <td>0.0</td>\n",
       "      <td>1.0</td>\n",
       "      <td>Meetings and Conference</td>\n",
       "      <td>Beach tourism</td>\n",
       "      <td>Friends, relatives</td>\n",
       "      <td>Independent</td>\n",
       "      <td>...</td>\n",
       "      <td>No</td>\n",
       "      <td>No</td>\n",
       "      <td>No</td>\n",
       "      <td>21</td>\n",
       "      <td>0</td>\n",
       "      <td>Credit Card</td>\n",
       "      <td>No</td>\n",
       "      <td>Friendly People</td>\n",
       "      <td>3000000.0</td>\n",
       "      <td>Southern Africa</td>\n",
       "    </tr>\n",
       "    <tr>\n",
       "      <th>70</th>\n",
       "      <td>tour_1081</td>\n",
       "      <td>SOUTH AFRICA</td>\n",
       "      <td>25-44</td>\n",
       "      <td>Friends/Relatives</td>\n",
       "      <td>0.0</td>\n",
       "      <td>2.0</td>\n",
       "      <td>Meetings and Conference</td>\n",
       "      <td>Mountain climbing</td>\n",
       "      <td>Travel, agent, tour operator</td>\n",
       "      <td>Independent</td>\n",
       "      <td>...</td>\n",
       "      <td>No</td>\n",
       "      <td>No</td>\n",
       "      <td>No</td>\n",
       "      <td>3</td>\n",
       "      <td>0</td>\n",
       "      <td>Cash</td>\n",
       "      <td>Yes</td>\n",
       "      <td>No comments</td>\n",
       "      <td>331500.0</td>\n",
       "      <td>Southern Africa</td>\n",
       "    </tr>\n",
       "    <tr>\n",
       "      <th>...</th>\n",
       "      <td>...</td>\n",
       "      <td>...</td>\n",
       "      <td>...</td>\n",
       "      <td>...</td>\n",
       "      <td>...</td>\n",
       "      <td>...</td>\n",
       "      <td>...</td>\n",
       "      <td>...</td>\n",
       "      <td>...</td>\n",
       "      <td>...</td>\n",
       "      <td>...</td>\n",
       "      <td>...</td>\n",
       "      <td>...</td>\n",
       "      <td>...</td>\n",
       "      <td>...</td>\n",
       "      <td>...</td>\n",
       "      <td>...</td>\n",
       "      <td>...</td>\n",
       "      <td>...</td>\n",
       "      <td>...</td>\n",
       "      <td>...</td>\n",
       "    </tr>\n",
       "    <tr>\n",
       "      <th>4744</th>\n",
       "      <td>tour_916</td>\n",
       "      <td>SOUTH AFRICA</td>\n",
       "      <td>45-64</td>\n",
       "      <td>NaN</td>\n",
       "      <td>0.0</td>\n",
       "      <td>1.0</td>\n",
       "      <td>Meetings and Conference</td>\n",
       "      <td>Mountain climbing</td>\n",
       "      <td>Friends, relatives</td>\n",
       "      <td>Independent</td>\n",
       "      <td>...</td>\n",
       "      <td>No</td>\n",
       "      <td>No</td>\n",
       "      <td>No</td>\n",
       "      <td>5</td>\n",
       "      <td>0</td>\n",
       "      <td>Cash</td>\n",
       "      <td>Yes</td>\n",
       "      <td>Friendly People</td>\n",
       "      <td>828750.0</td>\n",
       "      <td>Southern Africa</td>\n",
       "    </tr>\n",
       "    <tr>\n",
       "      <th>4748</th>\n",
       "      <td>tour_920</td>\n",
       "      <td>SOUTH AFRICA</td>\n",
       "      <td>45-64</td>\n",
       "      <td>Friends/Relatives</td>\n",
       "      <td>2.0</td>\n",
       "      <td>2.0</td>\n",
       "      <td>Leisure and Holidays</td>\n",
       "      <td>Wildlife tourism</td>\n",
       "      <td>Travel, agent, tour operator</td>\n",
       "      <td>Package Tour</td>\n",
       "      <td>...</td>\n",
       "      <td>Yes</td>\n",
       "      <td>No</td>\n",
       "      <td>No</td>\n",
       "      <td>5</td>\n",
       "      <td>9</td>\n",
       "      <td>Cash</td>\n",
       "      <td>No</td>\n",
       "      <td>Wildlife</td>\n",
       "      <td>34807500.0</td>\n",
       "      <td>Southern Africa</td>\n",
       "    </tr>\n",
       "    <tr>\n",
       "      <th>4766</th>\n",
       "      <td>tour_944</td>\n",
       "      <td>SOUTH AFRICA</td>\n",
       "      <td>25-44</td>\n",
       "      <td>NaN</td>\n",
       "      <td>0.0</td>\n",
       "      <td>1.0</td>\n",
       "      <td>Business</td>\n",
       "      <td>Wildlife tourism</td>\n",
       "      <td>inflight magazines</td>\n",
       "      <td>Independent</td>\n",
       "      <td>...</td>\n",
       "      <td>No</td>\n",
       "      <td>No</td>\n",
       "      <td>No</td>\n",
       "      <td>4</td>\n",
       "      <td>0</td>\n",
       "      <td>Cash</td>\n",
       "      <td>No</td>\n",
       "      <td>Friendly People</td>\n",
       "      <td>828750.0</td>\n",
       "      <td>Southern Africa</td>\n",
       "    </tr>\n",
       "    <tr>\n",
       "      <th>4796</th>\n",
       "      <td>tour_983</td>\n",
       "      <td>SOUTH AFRICA</td>\n",
       "      <td>25-44</td>\n",
       "      <td>Alone</td>\n",
       "      <td>0.0</td>\n",
       "      <td>1.0</td>\n",
       "      <td>Meetings and Conference</td>\n",
       "      <td>Mountain climbing</td>\n",
       "      <td>Travel, agent, tour operator</td>\n",
       "      <td>Independent</td>\n",
       "      <td>...</td>\n",
       "      <td>No</td>\n",
       "      <td>No</td>\n",
       "      <td>No</td>\n",
       "      <td>3</td>\n",
       "      <td>0</td>\n",
       "      <td>Cash</td>\n",
       "      <td>Yes</td>\n",
       "      <td>Friendly People</td>\n",
       "      <td>1657500.0</td>\n",
       "      <td>Southern Africa</td>\n",
       "    </tr>\n",
       "    <tr>\n",
       "      <th>4807</th>\n",
       "      <td>tour_997</td>\n",
       "      <td>SOUTH AFRICA</td>\n",
       "      <td>25-44</td>\n",
       "      <td>Friends/Relatives</td>\n",
       "      <td>1.0</td>\n",
       "      <td>1.0</td>\n",
       "      <td>Business</td>\n",
       "      <td>Beach tourism</td>\n",
       "      <td>Travel, agent, tour operator</td>\n",
       "      <td>Independent</td>\n",
       "      <td>...</td>\n",
       "      <td>No</td>\n",
       "      <td>No</td>\n",
       "      <td>No</td>\n",
       "      <td>5</td>\n",
       "      <td>0</td>\n",
       "      <td>Credit Card</td>\n",
       "      <td>No</td>\n",
       "      <td>Friendly People</td>\n",
       "      <td>1160250.0</td>\n",
       "      <td>Southern Africa</td>\n",
       "    </tr>\n",
       "  </tbody>\n",
       "</table>\n",
       "<p>732 rows × 24 columns</p>\n",
       "</div>"
      ],
      "text/plain": [
       "             ID       country            age_group        travel_with  \\\n",
       "6     tour_1007  SOUTH AFRICA                45-64              Alone   \n",
       "14    tour_1018    MOZAMBIQUE                25-44              Alone   \n",
       "36    tour_1043    MOZAMBIQUE  2022-01-24 00:00:00              Alone   \n",
       "39    tour_1047        MALAWI                25-44              Alone   \n",
       "70    tour_1081  SOUTH AFRICA                25-44  Friends/Relatives   \n",
       "...         ...           ...                  ...                ...   \n",
       "4744   tour_916  SOUTH AFRICA                45-64                NaN   \n",
       "4748   tour_920  SOUTH AFRICA                45-64  Friends/Relatives   \n",
       "4766   tour_944  SOUTH AFRICA                25-44                NaN   \n",
       "4796   tour_983  SOUTH AFRICA                25-44              Alone   \n",
       "4807   tour_997  SOUTH AFRICA                25-44  Friends/Relatives   \n",
       "\n",
       "      total_female  total_male                         purpose  \\\n",
       "6              0.0         1.0                        Business   \n",
       "14             0.0         1.0  Visiting Friends and Relatives   \n",
       "36             1.0         0.0  Visiting Friends and Relatives   \n",
       "39             0.0         1.0         Meetings and Conference   \n",
       "70             0.0         2.0         Meetings and Conference   \n",
       "...            ...         ...                             ...   \n",
       "4744           0.0         1.0         Meetings and Conference   \n",
       "4748           2.0         2.0            Leisure and Holidays   \n",
       "4766           0.0         1.0                        Business   \n",
       "4796           0.0         1.0         Meetings and Conference   \n",
       "4807           1.0         1.0                        Business   \n",
       "\n",
       "          main_activity                   info_source tour_arrangement  ...  \\\n",
       "6     Mountain climbing            Friends, relatives      Independent  ...   \n",
       "14        Beach tourism            Friends, relatives      Independent  ...   \n",
       "36      Hunting tourism            Friends, relatives      Independent  ...   \n",
       "39        Beach tourism            Friends, relatives      Independent  ...   \n",
       "70    Mountain climbing  Travel, agent, tour operator      Independent  ...   \n",
       "...                 ...                           ...              ...  ...   \n",
       "4744  Mountain climbing            Friends, relatives      Independent  ...   \n",
       "4748   Wildlife tourism  Travel, agent, tour operator     Package Tour  ...   \n",
       "4766   Wildlife tourism            inflight magazines      Independent  ...   \n",
       "4796  Mountain climbing  Travel, agent, tour operator      Independent  ...   \n",
       "4807      Beach tourism  Travel, agent, tour operator      Independent  ...   \n",
       "\n",
       "     package_sightseeing package_guided_tour package_insurance night_mainland  \\\n",
       "6                     No                  No                No              9   \n",
       "14                    No                  No                No              2   \n",
       "36                    No                  No                No              3   \n",
       "39                    No                  No                No             21   \n",
       "70                    No                  No                No              3   \n",
       "...                  ...                 ...               ...            ...   \n",
       "4744                  No                  No                No              5   \n",
       "4748                 Yes                  No                No              5   \n",
       "4766                  No                  No                No              4   \n",
       "4796                  No                  No                No              3   \n",
       "4807                  No                  No                No              5   \n",
       "\n",
       "     night_zanzibar payment_mode first_trip_tz       most_impressing  \\\n",
       "6                 0         Cash           Yes       Friendly People   \n",
       "14                0         Cash           Yes              Wildlife   \n",
       "36                0         Cash           Yes  Excellent Experience   \n",
       "39                0  Credit Card            No       Friendly People   \n",
       "70                0         Cash           Yes           No comments   \n",
       "...             ...          ...           ...                   ...   \n",
       "4744              0         Cash           Yes       Friendly People   \n",
       "4748              9         Cash            No              Wildlife   \n",
       "4766              0         Cash            No       Friendly People   \n",
       "4796              0         Cash           Yes       Friendly People   \n",
       "4807              0  Credit Card            No       Friendly People   \n",
       "\n",
       "      total_cost        upcountry  \n",
       "6       466140.0  Southern Africa  \n",
       "14      497250.0  Southern Africa  \n",
       "36      663000.0  Southern Africa  \n",
       "39     3000000.0  Southern Africa  \n",
       "70      331500.0  Southern Africa  \n",
       "...          ...              ...  \n",
       "4744    828750.0  Southern Africa  \n",
       "4748  34807500.0  Southern Africa  \n",
       "4766    828750.0  Southern Africa  \n",
       "4796   1657500.0  Southern Africa  \n",
       "4807   1160250.0  Southern Africa  \n",
       "\n",
       "[732 rows x 24 columns]"
      ]
     },
     "execution_count": 608,
     "metadata": {},
     "output_type": "execute_result"
    }
   ],
   "source": [
    "south"
   ]
  },
  {
   "cell_type": "markdown",
   "id": "7a7efd32-d0be-4a07-9c1f-295d9013002b",
   "metadata": {},
   "source": [
    "## West Africa"
   ]
  },
  {
   "cell_type": "code",
   "execution_count": null,
   "id": "676379b6-18f4-4dca-9e44-d9609a97bb2c",
   "metadata": {},
   "outputs": [],
   "source": []
  },
  {
   "cell_type": "code",
   "execution_count": 609,
   "id": "173a6f30-520b-457d-b009-33d21af88ce6",
   "metadata": {},
   "outputs": [
    {
     "name": "stderr",
     "output_type": "stream",
     "text": [
      "C:\\Users\\Kofi\\AppData\\Local\\Temp/ipykernel_13564/3885326720.py:1: DeprecationWarning: find_element_by_xpath is deprecated. Please use find_element(by=By.XPATH, value=xpath) instead\n",
      "  i = driver.find_element_by_xpath(\"(//tbody)[5]\")\n"
     ]
    }
   ],
   "source": [
    "i = driver.find_element_by_xpath(\"(//tbody)[5]\")"
   ]
  },
  {
   "cell_type": "code",
   "execution_count": null,
   "id": "bd947542-3edd-423b-8a97-efb845a1bb0b",
   "metadata": {},
   "outputs": [],
   "source": []
  },
  {
   "cell_type": "code",
   "execution_count": 610,
   "id": "4bc56963-84ef-4eb2-9e44-ca090e97f52d",
   "metadata": {},
   "outputs": [],
   "source": [
    "text = i.text\n",
    "#(//tbody)[1]"
   ]
  },
  {
   "cell_type": "code",
   "execution_count": 611,
   "id": "ef386c3b-f855-410a-a6ed-ebd63eac89a9",
   "metadata": {},
   "outputs": [
    {
     "data": {
      "text/plain": [
       "str"
      ]
     },
     "execution_count": 611,
     "metadata": {},
     "output_type": "execute_result"
    }
   ],
   "source": [
    "type(text)"
   ]
  },
  {
   "cell_type": "code",
   "execution_count": 612,
   "id": "c4b17978-3b80-4333-a2f0-55f1b211102e",
   "metadata": {},
   "outputs": [],
   "source": [
    "rep = text.replace(\"\\n\", \". \")"
   ]
  },
  {
   "cell_type": "code",
   "execution_count": 613,
   "id": "a204c8df-6eab-4ede-b070-64d55393f45f",
   "metadata": {},
   "outputs": [],
   "source": [
    "import re\n",
    "expression = re.compile(r'([A-Z][^\\.!?]*[\\.!?])')\n",
    "new_list = re.findall(expression, rep)"
   ]
  },
  {
   "cell_type": "code",
   "execution_count": 614,
   "id": "1f1deb75-8fc0-4c0f-8b3a-62e51a825985",
   "metadata": {},
   "outputs": [
    {
     "data": {
      "text/plain": [
       "['Member State  Abbreviation  Date of joining.',\n",
       " 'OAU or AU.',\n",
       " 'Republic of Benin   Benin 25 May 1963.',\n",
       " 'Burkina Faso  Burkina Faso 25 May 1963.',\n",
       " 'Republic of Cabo Verde   Cabo Verde 18 July 1975.',\n",
       " 'Republic of Côte d’Ivoire   Côte d’Ivoire 25 May 1963.',\n",
       " 'Republic of the Gambia   Gambia  9 March 1965.',\n",
       " 'Republic of Ghana   Ghana  25 May 1963.',\n",
       " 'Republic of Guinea  Guinea  25 May 1963.',\n",
       " 'Republic of Guinea-Bissau  Guinea-Bissau  19 November 1973.',\n",
       " 'Republic of Liberia  Liberia  25 May 1963.',\n",
       " 'Republic of Mali  Mali  25 May 1963.',\n",
       " 'Republic of Niger  Niger  25 May 1963.',\n",
       " 'Federal Republic of Nigeria  Nigeria  25 May 1963.',\n",
       " 'Republic of Senegal  Senegal  25 May 1963.',\n",
       " 'Republic of Sierra Leone  Sierra Leone  25 May 1963.']"
      ]
     },
     "execution_count": 614,
     "metadata": {},
     "output_type": "execute_result"
    }
   ],
   "source": [
    "new_list"
   ]
  },
  {
   "cell_type": "code",
   "execution_count": null,
   "id": "28518e6e-64af-4ad6-b883-025bcaf75b71",
   "metadata": {},
   "outputs": [],
   "source": []
  },
  {
   "cell_type": "code",
   "execution_count": 615,
   "id": "5adfdda9-be92-415a-b824-7b1764e9c758",
   "metadata": {},
   "outputs": [],
   "source": [
    "converted_list = [x.upper() for x in new_list]"
   ]
  },
  {
   "cell_type": "code",
   "execution_count": 616,
   "id": "80a0281d-642c-442f-8f61-0afd181fdd63",
   "metadata": {},
   "outputs": [
    {
     "data": {
      "text/plain": [
       "['MEMBER STATE  ABBREVIATION  DATE OF JOINING.',\n",
       " 'OAU OR AU.',\n",
       " 'REPUBLIC OF BENIN   BENIN 25 MAY 1963.',\n",
       " 'BURKINA FASO  BURKINA FASO 25 MAY 1963.',\n",
       " 'REPUBLIC OF CABO VERDE   CABO VERDE 18 JULY 1975.',\n",
       " 'REPUBLIC OF CÔTE D’IVOIRE   CÔTE D’IVOIRE 25 MAY 1963.',\n",
       " 'REPUBLIC OF THE GAMBIA   GAMBIA  9 MARCH 1965.',\n",
       " 'REPUBLIC OF GHANA   GHANA  25 MAY 1963.',\n",
       " 'REPUBLIC OF GUINEA  GUINEA  25 MAY 1963.',\n",
       " 'REPUBLIC OF GUINEA-BISSAU  GUINEA-BISSAU  19 NOVEMBER 1973.',\n",
       " 'REPUBLIC OF LIBERIA  LIBERIA  25 MAY 1963.',\n",
       " 'REPUBLIC OF MALI  MALI  25 MAY 1963.',\n",
       " 'REPUBLIC OF NIGER  NIGER  25 MAY 1963.',\n",
       " 'FEDERAL REPUBLIC OF NIGERIA  NIGERIA  25 MAY 1963.',\n",
       " 'REPUBLIC OF SENEGAL  SENEGAL  25 MAY 1963.',\n",
       " 'REPUBLIC OF SIERRA LEONE  SIERRA LEONE  25 MAY 1963.']"
      ]
     },
     "execution_count": 616,
     "metadata": {},
     "output_type": "execute_result"
    }
   ],
   "source": [
    "converted_list"
   ]
  },
  {
   "cell_type": "code",
   "execution_count": null,
   "id": "9192d412-c224-459e-a1c7-71397664f236",
   "metadata": {},
   "outputs": [],
   "source": []
  },
  {
   "cell_type": "code",
   "execution_count": 617,
   "id": "a1d1a66c-d7e8-43da-aac4-dc6b4cfd2522",
   "metadata": {},
   "outputs": [],
   "source": [
    "co = str(converted_list)"
   ]
  },
  {
   "cell_type": "code",
   "execution_count": 618,
   "id": "9f1e78af-fea3-4a21-b399-5bb3e04a2390",
   "metadata": {},
   "outputs": [],
   "source": [
    "from itertools import chain"
   ]
  },
  {
   "cell_type": "code",
   "execution_count": 619,
   "id": "5915e4cd-e23f-4702-a859-3e7e557d2a6b",
   "metadata": {},
   "outputs": [],
   "source": [
    "coming = ' '.join(str(v) for v in converted_list)"
   ]
  },
  {
   "cell_type": "code",
   "execution_count": 620,
   "id": "99b8191a-16de-4423-9eb2-cf88fbdcaf1e",
   "metadata": {},
   "outputs": [
    {
     "data": {
      "text/plain": [
       "'MEMBER STATE  ABBREVIATION  DATE OF JOINING. OAU OR AU. REPUBLIC OF BENIN   BENIN 25 MAY 1963. BURKINA FASO  BURKINA FASO 25 MAY 1963. REPUBLIC OF CABO VERDE   CABO VERDE 18 JULY 1975. REPUBLIC OF CÔTE D’IVOIRE   CÔTE D’IVOIRE 25 MAY 1963. REPUBLIC OF THE GAMBIA   GAMBIA  9 MARCH 1965. REPUBLIC OF GHANA   GHANA  25 MAY 1963. REPUBLIC OF GUINEA  GUINEA  25 MAY 1963. REPUBLIC OF GUINEA-BISSAU  GUINEA-BISSAU  19 NOVEMBER 1973. REPUBLIC OF LIBERIA  LIBERIA  25 MAY 1963. REPUBLIC OF MALI  MALI  25 MAY 1963. REPUBLIC OF NIGER  NIGER  25 MAY 1963. FEDERAL REPUBLIC OF NIGERIA  NIGERIA  25 MAY 1963. REPUBLIC OF SENEGAL  SENEGAL  25 MAY 1963. REPUBLIC OF SIERRA LEONE  SIERRA LEONE  25 MAY 1963.'"
      ]
     },
     "execution_count": 620,
     "metadata": {},
     "output_type": "execute_result"
    }
   ],
   "source": [
    "coming"
   ]
  },
  {
   "cell_type": "code",
   "execution_count": 621,
   "id": "230a5f40-b3ae-4f0c-b78d-916385826b1f",
   "metadata": {},
   "outputs": [],
   "source": [
    "come = coming.replace(\".\", \"\")\n",
    "com = come.replace(\"REPUBLIC\", \"\")\n",
    "come= com.replace(\"OF\", \"\")\n"
   ]
  },
  {
   "cell_type": "code",
   "execution_count": 622,
   "id": "aae66179-38be-482e-93c1-030cb2ce0cdb",
   "metadata": {},
   "outputs": [
    {
     "data": {
      "text/plain": [
       "'MEMBER STATE  ABBREVIATION  DATE  JOINING OAU OR AU   BENIN   BENIN 25 MAY 1963 BURKINA FASO  BURKINA FASO 25 MAY 1963   CABO VERDE   CABO VERDE 18 JULY 1975   CÔTE D’IVOIRE   CÔTE D’IVOIRE 25 MAY 1963   THE GAMBIA   GAMBIA  9 MARCH 1965   GHANA   GHANA  25 MAY 1963   GUINEA  GUINEA  25 MAY 1963   GUINEA-BISSAU  GUINEA-BISSAU  19 NOVEMBER 1973   LIBERIA  LIBERIA  25 MAY 1963   MALI  MALI  25 MAY 1963   NIGER  NIGER  25 MAY 1963 FEDERAL   NIGERIA  NIGERIA  25 MAY 1963   SENEGAL  SENEGAL  25 MAY 1963   SIERRA LEONE  SIERRA LEONE  25 MAY 1963'"
      ]
     },
     "execution_count": 622,
     "metadata": {},
     "output_type": "execute_result"
    }
   ],
   "source": [
    "come"
   ]
  },
  {
   "cell_type": "code",
   "execution_count": 623,
   "id": "8de8f63a-4519-47a4-86f4-28916e496f4e",
   "metadata": {},
   "outputs": [],
   "source": [
    "# i need to get the intersection of countries"
   ]
  },
  {
   "cell_type": "code",
   "execution_count": null,
   "id": "ccbe95c1-1c3c-4553-925e-3f828ae6c91b",
   "metadata": {},
   "outputs": [],
   "source": []
  },
  {
   "cell_type": "code",
   "execution_count": 624,
   "id": "25344946-e7ac-4c51-981f-9af6f3d84c72",
   "metadata": {},
   "outputs": [],
   "source": [
    "#movi\n",
    "#come\n",
    "\n",
    "read = set(result.split()) & set(come.split())"
   ]
  },
  {
   "cell_type": "code",
   "execution_count": 625,
   "id": "54786374-9214-45fd-83cd-7f3f104af28e",
   "metadata": {},
   "outputs": [],
   "source": [
    "readd = list(read)"
   ]
  },
  {
   "cell_type": "code",
   "execution_count": 626,
   "id": "cda36442-0ce8-4860-92cd-e8f3225af385",
   "metadata": {},
   "outputs": [],
   "source": [
    "readd.append(\"CAPE VERDE\")\n",
    "readd.append(\"IVORY COAST\")\n"
   ]
  },
  {
   "cell_type": "code",
   "execution_count": 627,
   "id": "edef0f49-9cf3-42fa-9e39-a2511a1ff7a9",
   "metadata": {},
   "outputs": [
    {
     "data": {
      "text/plain": [
       "['NIGER', 'GHANA', 'VERDE', 'NIGERIA', 'CAPE VERDE', 'IVORY COAST']"
      ]
     },
     "execution_count": 627,
     "metadata": {},
     "output_type": "execute_result"
    }
   ],
   "source": [
    "readd"
   ]
  },
  {
   "cell_type": "code",
   "execution_count": 628,
   "id": "3879311c-e2f6-4ce4-90c5-04b0f95e3762",
   "metadata": {},
   "outputs": [],
   "source": [
    "i = len(readd)"
   ]
  },
  {
   "cell_type": "code",
   "execution_count": 629,
   "id": "7cfcc661-2b69-48e3-b85b-70354750c757",
   "metadata": {},
   "outputs": [],
   "source": [
    "matches = []\n",
    "\n",
    "for match in list1:\n",
    "    if readd[i-1] in match:\n",
    "        matches.append(match)\n",
    "        i-=1"
   ]
  },
  {
   "cell_type": "code",
   "execution_count": 630,
   "id": "e4f0fe3f-8368-47d1-b97c-02effdee1b24",
   "metadata": {},
   "outputs": [
    {
     "data": {
      "text/plain": [
       "list"
      ]
     },
     "execution_count": 630,
     "metadata": {},
     "output_type": "execute_result"
    }
   ],
   "source": [
    "type(matches)"
   ]
  },
  {
   "cell_type": "code",
   "execution_count": 631,
   "id": "c882d2a9-71ca-499d-ba63-0f9bffa35ac8",
   "metadata": {},
   "outputs": [],
   "source": [
    "i = len(readd)"
   ]
  },
  {
   "cell_type": "code",
   "execution_count": 632,
   "id": "dd10073c-a1bc-4965-aa77-a92d585c6d62",
   "metadata": {},
   "outputs": [
    {
     "data": {
      "text/plain": [
       "6"
      ]
     },
     "execution_count": 632,
     "metadata": {},
     "output_type": "execute_result"
    }
   ],
   "source": [
    "i"
   ]
  },
  {
   "cell_type": "code",
   "execution_count": 633,
   "id": "13e8bbb0-f234-48d4-a941-eb6ccd9fcbb5",
   "metadata": {},
   "outputs": [
    {
     "data": {
      "text/plain": [
       "'IVORY COAST'"
      ]
     },
     "execution_count": 633,
     "metadata": {},
     "output_type": "execute_result"
    }
   ],
   "source": [
    "readd[i-1]"
   ]
  },
  {
   "cell_type": "code",
   "execution_count": 634,
   "id": "3e5f28f7-9bb2-4fff-bc43-bf09d53c6f93",
   "metadata": {},
   "outputs": [
    {
     "data": {
      "text/plain": [
       "pandas.core.frame.DataFrame"
      ]
     },
     "execution_count": 634,
     "metadata": {},
     "output_type": "execute_result"
    }
   ],
   "source": [
    "type(df)"
   ]
  },
  {
   "cell_type": "code",
   "execution_count": 635,
   "id": "b072b5b3-0f37-4007-b89f-b9386eb791e5",
   "metadata": {},
   "outputs": [],
   "source": [
    "df.upcountry.replace(readd, 'West Africa', inplace=True)"
   ]
  },
  {
   "cell_type": "code",
   "execution_count": 636,
   "id": "faa4f4c7-86e5-4066-852a-6fb167ca1544",
   "metadata": {},
   "outputs": [],
   "source": [
    "west = df[df['upcountry'] == 'West Africa' ]\n",
    "#i=df[df[‘Name’]==’Will’]\n",
    "#print(i)"
   ]
  },
  {
   "cell_type": "code",
   "execution_count": 637,
   "id": "92f3eadd-e94e-4308-9e19-cbfbb1d051a3",
   "metadata": {
    "tags": []
   },
   "outputs": [
    {
     "data": {
      "text/html": [
       "<div>\n",
       "<style scoped>\n",
       "    .dataframe tbody tr th:only-of-type {\n",
       "        vertical-align: middle;\n",
       "    }\n",
       "\n",
       "    .dataframe tbody tr th {\n",
       "        vertical-align: top;\n",
       "    }\n",
       "\n",
       "    .dataframe thead th {\n",
       "        text-align: right;\n",
       "    }\n",
       "</style>\n",
       "<table border=\"1\" class=\"dataframe\">\n",
       "  <thead>\n",
       "    <tr style=\"text-align: right;\">\n",
       "      <th></th>\n",
       "      <th>ID</th>\n",
       "      <th>country</th>\n",
       "      <th>age_group</th>\n",
       "      <th>travel_with</th>\n",
       "      <th>total_female</th>\n",
       "      <th>total_male</th>\n",
       "      <th>purpose</th>\n",
       "      <th>main_activity</th>\n",
       "      <th>info_source</th>\n",
       "      <th>tour_arrangement</th>\n",
       "      <th>...</th>\n",
       "      <th>package_sightseeing</th>\n",
       "      <th>package_guided_tour</th>\n",
       "      <th>package_insurance</th>\n",
       "      <th>night_mainland</th>\n",
       "      <th>night_zanzibar</th>\n",
       "      <th>payment_mode</th>\n",
       "      <th>first_trip_tz</th>\n",
       "      <th>most_impressing</th>\n",
       "      <th>total_cost</th>\n",
       "      <th>upcountry</th>\n",
       "    </tr>\n",
       "  </thead>\n",
       "  <tbody>\n",
       "    <tr>\n",
       "      <th>8</th>\n",
       "      <td>tour_101</td>\n",
       "      <td>NIGERIA</td>\n",
       "      <td>25-44</td>\n",
       "      <td>Alone</td>\n",
       "      <td>0.0</td>\n",
       "      <td>1.0</td>\n",
       "      <td>Leisure and Holidays</td>\n",
       "      <td>Cultural tourism</td>\n",
       "      <td>Travel, agent, tour operator</td>\n",
       "      <td>Independent</td>\n",
       "      <td>...</td>\n",
       "      <td>No</td>\n",
       "      <td>No</td>\n",
       "      <td>No</td>\n",
       "      <td>4</td>\n",
       "      <td>0</td>\n",
       "      <td>Cash</td>\n",
       "      <td>Yes</td>\n",
       "      <td>NaN</td>\n",
       "      <td>994500.0</td>\n",
       "      <td>West Africa</td>\n",
       "    </tr>\n",
       "    <tr>\n",
       "      <th>602</th>\n",
       "      <td>tour_174</td>\n",
       "      <td>GHANA</td>\n",
       "      <td>25-44</td>\n",
       "      <td>Alone</td>\n",
       "      <td>1.0</td>\n",
       "      <td>0.0</td>\n",
       "      <td>Meetings and Conference</td>\n",
       "      <td>Mountain climbing</td>\n",
       "      <td>Travel, agent, tour operator</td>\n",
       "      <td>Independent</td>\n",
       "      <td>...</td>\n",
       "      <td>No</td>\n",
       "      <td>No</td>\n",
       "      <td>No</td>\n",
       "      <td>5</td>\n",
       "      <td>0</td>\n",
       "      <td>Cash</td>\n",
       "      <td>Yes</td>\n",
       "      <td>Friendly People</td>\n",
       "      <td>828750.0</td>\n",
       "      <td>West Africa</td>\n",
       "    </tr>\n",
       "    <tr>\n",
       "      <th>604</th>\n",
       "      <td>tour_1741</td>\n",
       "      <td>NIGER</td>\n",
       "      <td>25-44</td>\n",
       "      <td>Spouse and Children</td>\n",
       "      <td>2.0</td>\n",
       "      <td>1.0</td>\n",
       "      <td>Leisure and Holidays</td>\n",
       "      <td>Beach tourism</td>\n",
       "      <td>Friends, relatives</td>\n",
       "      <td>Independent</td>\n",
       "      <td>...</td>\n",
       "      <td>No</td>\n",
       "      <td>No</td>\n",
       "      <td>No</td>\n",
       "      <td>4</td>\n",
       "      <td>16</td>\n",
       "      <td>Credit Card</td>\n",
       "      <td>No</td>\n",
       "      <td>Friendly People</td>\n",
       "      <td>4972500.0</td>\n",
       "      <td>West Africa</td>\n",
       "    </tr>\n",
       "    <tr>\n",
       "      <th>957</th>\n",
       "      <td>tour_217</td>\n",
       "      <td>GHANA</td>\n",
       "      <td>45-64</td>\n",
       "      <td>Friends/Relatives</td>\n",
       "      <td>0.0</td>\n",
       "      <td>2.0</td>\n",
       "      <td>Business</td>\n",
       "      <td>Wildlife tourism</td>\n",
       "      <td>Trade fair</td>\n",
       "      <td>Independent</td>\n",
       "      <td>...</td>\n",
       "      <td>No</td>\n",
       "      <td>No</td>\n",
       "      <td>No</td>\n",
       "      <td>30</td>\n",
       "      <td>0</td>\n",
       "      <td>Cash</td>\n",
       "      <td>Yes</td>\n",
       "      <td>No comments</td>\n",
       "      <td>10000000.0</td>\n",
       "      <td>West Africa</td>\n",
       "    </tr>\n",
       "    <tr>\n",
       "      <th>1397</th>\n",
       "      <td>tour_2719</td>\n",
       "      <td>NIGERIA</td>\n",
       "      <td>25-44</td>\n",
       "      <td>NaN</td>\n",
       "      <td>0.0</td>\n",
       "      <td>1.0</td>\n",
       "      <td>Visiting Friends and Relatives</td>\n",
       "      <td>Wildlife tourism</td>\n",
       "      <td>Friends, relatives</td>\n",
       "      <td>Independent</td>\n",
       "      <td>...</td>\n",
       "      <td>No</td>\n",
       "      <td>No</td>\n",
       "      <td>No</td>\n",
       "      <td>7</td>\n",
       "      <td>0</td>\n",
       "      <td>Cash</td>\n",
       "      <td>No</td>\n",
       "      <td>Friendly People</td>\n",
       "      <td>250282.5</td>\n",
       "      <td>West Africa</td>\n",
       "    </tr>\n",
       "    <tr>\n",
       "      <th>1680</th>\n",
       "      <td>tour_3050</td>\n",
       "      <td>CAPE VERDE</td>\n",
       "      <td>45-64</td>\n",
       "      <td>Friends/Relatives</td>\n",
       "      <td>0.0</td>\n",
       "      <td>3.0</td>\n",
       "      <td>Meetings and Conference</td>\n",
       "      <td>Mountain climbing</td>\n",
       "      <td>Newspaper, magazines,brochures</td>\n",
       "      <td>Independent</td>\n",
       "      <td>...</td>\n",
       "      <td>No</td>\n",
       "      <td>No</td>\n",
       "      <td>No</td>\n",
       "      <td>2</td>\n",
       "      <td>0</td>\n",
       "      <td>Cash</td>\n",
       "      <td>No</td>\n",
       "      <td>No comments</td>\n",
       "      <td>663000.0</td>\n",
       "      <td>West Africa</td>\n",
       "    </tr>\n",
       "    <tr>\n",
       "      <th>2578</th>\n",
       "      <td>tour_4135</td>\n",
       "      <td>IVORY COAST</td>\n",
       "      <td>45-64</td>\n",
       "      <td>NaN</td>\n",
       "      <td>1.0</td>\n",
       "      <td>0.0</td>\n",
       "      <td>Leisure and Holidays</td>\n",
       "      <td>Hunting tourism</td>\n",
       "      <td>Travel, agent, tour operator</td>\n",
       "      <td>Package Tour</td>\n",
       "      <td>...</td>\n",
       "      <td>No</td>\n",
       "      <td>Yes</td>\n",
       "      <td>Yes</td>\n",
       "      <td>10</td>\n",
       "      <td>4</td>\n",
       "      <td>Credit Card</td>\n",
       "      <td>Yes</td>\n",
       "      <td>Friendly People</td>\n",
       "      <td>7210125.0</td>\n",
       "      <td>West Africa</td>\n",
       "    </tr>\n",
       "    <tr>\n",
       "      <th>3362</th>\n",
       "      <td>tour_5068</td>\n",
       "      <td>NIGERIA</td>\n",
       "      <td>2022-01-24 00:00:00</td>\n",
       "      <td>NaN</td>\n",
       "      <td>0.0</td>\n",
       "      <td>1.0</td>\n",
       "      <td>Business</td>\n",
       "      <td>Wildlife tourism</td>\n",
       "      <td>Friends, relatives</td>\n",
       "      <td>Independent</td>\n",
       "      <td>...</td>\n",
       "      <td>No</td>\n",
       "      <td>No</td>\n",
       "      <td>No</td>\n",
       "      <td>14</td>\n",
       "      <td>0</td>\n",
       "      <td>Cash</td>\n",
       "      <td>Yes</td>\n",
       "      <td>Excellent Experience</td>\n",
       "      <td>497250.0</td>\n",
       "      <td>West Africa</td>\n",
       "    </tr>\n",
       "    <tr>\n",
       "      <th>4474</th>\n",
       "      <td>tour_6412</td>\n",
       "      <td>NIGERIA</td>\n",
       "      <td>25-44</td>\n",
       "      <td>NaN</td>\n",
       "      <td>0.0</td>\n",
       "      <td>1.0</td>\n",
       "      <td>Business</td>\n",
       "      <td>Wildlife tourism</td>\n",
       "      <td>Friends, relatives</td>\n",
       "      <td>Independent</td>\n",
       "      <td>...</td>\n",
       "      <td>No</td>\n",
       "      <td>No</td>\n",
       "      <td>No</td>\n",
       "      <td>35</td>\n",
       "      <td>0</td>\n",
       "      <td>Cash</td>\n",
       "      <td>No</td>\n",
       "      <td>Good service</td>\n",
       "      <td>50000.0</td>\n",
       "      <td>West Africa</td>\n",
       "    </tr>\n",
       "  </tbody>\n",
       "</table>\n",
       "<p>9 rows × 24 columns</p>\n",
       "</div>"
      ],
      "text/plain": [
       "             ID      country            age_group          travel_with  \\\n",
       "8      tour_101      NIGERIA                25-44                Alone   \n",
       "602    tour_174        GHANA                25-44                Alone   \n",
       "604   tour_1741        NIGER                25-44  Spouse and Children   \n",
       "957    tour_217        GHANA                45-64    Friends/Relatives   \n",
       "1397  tour_2719      NIGERIA                25-44                  NaN   \n",
       "1680  tour_3050   CAPE VERDE                45-64    Friends/Relatives   \n",
       "2578  tour_4135  IVORY COAST                45-64                  NaN   \n",
       "3362  tour_5068      NIGERIA  2022-01-24 00:00:00                  NaN   \n",
       "4474  tour_6412      NIGERIA                25-44                  NaN   \n",
       "\n",
       "      total_female  total_male                         purpose  \\\n",
       "8              0.0         1.0            Leisure and Holidays   \n",
       "602            1.0         0.0         Meetings and Conference   \n",
       "604            2.0         1.0            Leisure and Holidays   \n",
       "957            0.0         2.0                        Business   \n",
       "1397           0.0         1.0  Visiting Friends and Relatives   \n",
       "1680           0.0         3.0         Meetings and Conference   \n",
       "2578           1.0         0.0            Leisure and Holidays   \n",
       "3362           0.0         1.0                        Business   \n",
       "4474           0.0         1.0                        Business   \n",
       "\n",
       "          main_activity                     info_source tour_arrangement  ...  \\\n",
       "8      Cultural tourism    Travel, agent, tour operator      Independent  ...   \n",
       "602   Mountain climbing    Travel, agent, tour operator      Independent  ...   \n",
       "604       Beach tourism              Friends, relatives      Independent  ...   \n",
       "957    Wildlife tourism                      Trade fair      Independent  ...   \n",
       "1397   Wildlife tourism              Friends, relatives      Independent  ...   \n",
       "1680  Mountain climbing  Newspaper, magazines,brochures      Independent  ...   \n",
       "2578    Hunting tourism    Travel, agent, tour operator     Package Tour  ...   \n",
       "3362   Wildlife tourism              Friends, relatives      Independent  ...   \n",
       "4474   Wildlife tourism              Friends, relatives      Independent  ...   \n",
       "\n",
       "     package_sightseeing package_guided_tour package_insurance night_mainland  \\\n",
       "8                     No                  No                No              4   \n",
       "602                   No                  No                No              5   \n",
       "604                   No                  No                No              4   \n",
       "957                   No                  No                No             30   \n",
       "1397                  No                  No                No              7   \n",
       "1680                  No                  No                No              2   \n",
       "2578                  No                 Yes               Yes             10   \n",
       "3362                  No                  No                No             14   \n",
       "4474                  No                  No                No             35   \n",
       "\n",
       "     night_zanzibar payment_mode first_trip_tz       most_impressing  \\\n",
       "8                 0         Cash           Yes                   NaN   \n",
       "602               0         Cash           Yes       Friendly People   \n",
       "604              16  Credit Card            No       Friendly People   \n",
       "957               0         Cash           Yes           No comments   \n",
       "1397              0         Cash            No       Friendly People   \n",
       "1680              0         Cash            No           No comments   \n",
       "2578              4  Credit Card           Yes       Friendly People   \n",
       "3362              0         Cash           Yes  Excellent Experience   \n",
       "4474              0         Cash            No          Good service   \n",
       "\n",
       "      total_cost    upcountry  \n",
       "8       994500.0  West Africa  \n",
       "602     828750.0  West Africa  \n",
       "604    4972500.0  West Africa  \n",
       "957   10000000.0  West Africa  \n",
       "1397    250282.5  West Africa  \n",
       "1680    663000.0  West Africa  \n",
       "2578   7210125.0  West Africa  \n",
       "3362    497250.0  West Africa  \n",
       "4474     50000.0  West Africa  \n",
       "\n",
       "[9 rows x 24 columns]"
      ]
     },
     "execution_count": 637,
     "metadata": {},
     "output_type": "execute_result"
    }
   ],
   "source": [
    "west"
   ]
  },
  {
   "cell_type": "markdown",
   "id": "610eb626-faff-47df-ad6c-5d7530fef607",
   "metadata": {},
   "source": [
    "## Europe"
   ]
  },
  {
   "cell_type": "code",
   "execution_count": 638,
   "id": "bf3689ab-b9ab-4270-aa65-9471a30a9120",
   "metadata": {},
   "outputs": [],
   "source": [
    "\n",
    "\n",
    "#(//main[@id='main-content'])[1]"
   ]
  },
  {
   "cell_type": "code",
   "execution_count": 639,
   "id": "d7b1d619-cd1f-42bc-adcc-1312e089ce59",
   "metadata": {},
   "outputs": [],
   "source": [
    "driver.get(\"https://european-union.europa.eu/principles-countries-history/country-profiles_en?page=0\")   \n",
    "time.sleep(18)"
   ]
  },
  {
   "cell_type": "code",
   "execution_count": 640,
   "id": "3f9372b1-4251-44ec-ad9a-060c5fe9fe4d",
   "metadata": {},
   "outputs": [
    {
     "name": "stderr",
     "output_type": "stream",
     "text": [
      "C:\\Users\\Kofi\\AppData\\Local\\Temp/ipykernel_13564/3388245205.py:1: DeprecationWarning: find_element_by_xpath is deprecated. Please use find_element(by=By.XPATH, value=xpath) instead\n",
      "  i = driver.find_element_by_xpath(\"(//div[@class='ecl-row'])[5]\")\n"
     ]
    }
   ],
   "source": [
    "i = driver.find_element_by_xpath(\"(//div[@class='ecl-row'])[5]\")"
   ]
  },
  {
   "cell_type": "code",
   "execution_count": 641,
   "id": "ffafebca-f5df-4ca6-aff8-9840d51abd48",
   "metadata": {},
   "outputs": [],
   "source": [
    "text = i.text\n",
    "#(//tbody)[1]"
   ]
  },
  {
   "cell_type": "code",
   "execution_count": 642,
   "id": "d2392017-f94c-4787-b34f-9446d50788d7",
   "metadata": {},
   "outputs": [
    {
     "data": {
      "text/plain": [
       "str"
      ]
     },
     "execution_count": 642,
     "metadata": {},
     "output_type": "execute_result"
    }
   ],
   "source": [
    "type(text)"
   ]
  },
  {
   "cell_type": "code",
   "execution_count": 643,
   "id": "1ee6244d-9e1c-4206-9086-580e4d080faf",
   "metadata": {},
   "outputs": [],
   "source": [
    "rep = text.replace(\"\\n\", \". \")"
   ]
  },
  {
   "cell_type": "code",
   "execution_count": 644,
   "id": "21e54ee2-1e22-4eb2-89d0-2b9efc0f1f56",
   "metadata": {},
   "outputs": [],
   "source": [
    "import re\n",
    "expression = re.compile(r'([A-Z][^\\.!?]*[\\.!?])')\n",
    "new_list = re.findall(expression, rep)"
   ]
  },
  {
   "cell_type": "code",
   "execution_count": 645,
   "id": "1134463d-7afb-4f76-8b8d-f538a2fd7ea5",
   "metadata": {},
   "outputs": [
    {
     "data": {
      "text/plain": [
       "['Austria.',\n",
       " 'EU member country since 1995, Euro area member since 1999, Schengen area member since 1997 and more about Austria’s participation in the EU.',\n",
       " 'Belgium.',\n",
       " 'EU member country since 1958, Euro area member since 1999, Schengen area member since 1995 and more about Belgium’s participation in the EU.',\n",
       " 'Bulgaria.',\n",
       " 'EU member country since 2007 and more about Bulgaria’s participation in the EU.',\n",
       " 'Croatia.',\n",
       " \"EU Member State since 2013 and more on Croatia's role in the EU.\",\n",
       " 'Cyprus.',\n",
       " 'EU member country since 2004, Euro area member since 2008 and more about Cyprus’s participation in the EU.',\n",
       " 'Czechia.',\n",
       " 'EU member country since 2004, Schengen area member since 2007 and more about Czechia’s participation in the EU.',\n",
       " 'Denmark.',\n",
       " 'EU member country since 1973, opt-out from euro, Schengen area member since 2001 and more about Denmark’s participation in the EU.',\n",
       " 'Estonia.',\n",
       " 'How Estonia is represented in the different EU institutions, how much money it gives and receives, its political system and trade figures.',\n",
       " 'Finland.',\n",
       " 'EU member country since 1995, Euro area member since 1999, Schengen area member since 2001 and more about Finland’s participation in the EU.',\n",
       " 'France.',\n",
       " 'EU member country since 1958, Euro area member since 1999, Schengen area member since 1995 and more about France’s participation in the EU.',\n",
       " 'Germany.',\n",
       " 'EU member country since 1958, Euro area member since 1999, Schengen area member since 1995 and more about Germany’s participation in the EU.',\n",
       " 'Greece.',\n",
       " 'EU member country since 1981, Euro area member since 2001, Schengen area member since 2000 and more about Greece’s participation in the EU.',\n",
       " 'Hungary.',\n",
       " 'EU member country since 2004, Schengen area member since 2007 and more about Hungary’s participation in the EU.',\n",
       " 'Ireland.',\n",
       " 'EU member country since 1973, Euro area member since 1999, opt-out from Schengen area and more about Ireland’s participation in the EU.',\n",
       " 'Italy.',\n",
       " 'EU member country since 1958, Euro area member since 1999, Schengen area member since 1997 and more about Italy’s participation in the EU.',\n",
       " 'Latvia.',\n",
       " 'EU member country since 2004, Euro area member since 2014, Schengen area member since 2007 and more about Latvia’s participation in the EU.',\n",
       " 'Lithuania.',\n",
       " 'EU member country since 2004, Euro area member since 2015, Schengen area member since 2007 and more about Lithuania’s participation in the EU.',\n",
       " 'Luxembourg.',\n",
       " 'EU member country since 1958, Euro area member since 1999, Schengen area member since 1995 and more about Luxembourg’s participation in the EU.',\n",
       " 'Malta.',\n",
       " 'EU member country since 2004, Euro area member since 2008, Schengen area member since 2007 and more about Malta’s participation in the EU.',\n",
       " 'Netherlands.',\n",
       " 'EU member country since 1958, Euro area member since 1999, Schengen area member since 1995 and more about the Netherlands’ participation in the EU.']"
      ]
     },
     "execution_count": 645,
     "metadata": {},
     "output_type": "execute_result"
    }
   ],
   "source": [
    "new_list"
   ]
  },
  {
   "cell_type": "code",
   "execution_count": 646,
   "id": "a525113d-3f02-471d-a280-a2778916345a",
   "metadata": {},
   "outputs": [],
   "source": [
    "driver.get(\"https://european-union.europa.eu/principles-countries-history/country-profiles_en?page=1\")   \n",
    "time.sleep(15)"
   ]
  },
  {
   "cell_type": "code",
   "execution_count": 647,
   "id": "988960bc-22b9-41f1-b1ca-b33a91582b10",
   "metadata": {},
   "outputs": [
    {
     "name": "stderr",
     "output_type": "stream",
     "text": [
      "C:\\Users\\Kofi\\AppData\\Local\\Temp/ipykernel_13564/3388245205.py:1: DeprecationWarning: find_element_by_xpath is deprecated. Please use find_element(by=By.XPATH, value=xpath) instead\n",
      "  i = driver.find_element_by_xpath(\"(//div[@class='ecl-row'])[5]\")\n"
     ]
    }
   ],
   "source": [
    "i = driver.find_element_by_xpath(\"(//div[@class='ecl-row'])[5]\")"
   ]
  },
  {
   "cell_type": "code",
   "execution_count": null,
   "id": "fdd6bf4c-0f6b-4873-803f-d1e3d1b6de64",
   "metadata": {},
   "outputs": [],
   "source": []
  },
  {
   "cell_type": "code",
   "execution_count": 648,
   "id": "79010831-d2bf-4ce0-b067-918df2298f81",
   "metadata": {},
   "outputs": [],
   "source": [
    "text = i.text\n",
    "#(//tbody)[1]"
   ]
  },
  {
   "cell_type": "code",
   "execution_count": 649,
   "id": "a0b98cec-c269-486e-939d-7458d5f78232",
   "metadata": {},
   "outputs": [
    {
     "data": {
      "text/plain": [
       "str"
      ]
     },
     "execution_count": 649,
     "metadata": {},
     "output_type": "execute_result"
    }
   ],
   "source": [
    "type(text)"
   ]
  },
  {
   "cell_type": "code",
   "execution_count": 650,
   "id": "557e9078-b5bc-4136-bc54-219f395e5446",
   "metadata": {},
   "outputs": [],
   "source": [
    "rep = text.replace(\"\\n\", \". \")"
   ]
  },
  {
   "cell_type": "code",
   "execution_count": 651,
   "id": "69d2619d-f61d-4a80-98ea-5d65054fb1be",
   "metadata": {},
   "outputs": [],
   "source": [
    "import re\n",
    "expression = re.compile(r'([A-Z][^\\.!?]*[\\.!?])')\n",
    "new_list1 = re.findall(expression, rep)"
   ]
  },
  {
   "cell_type": "code",
   "execution_count": 652,
   "id": "b09b43ce-b0b0-4560-85e7-005e2e854b16",
   "metadata": {},
   "outputs": [
    {
     "data": {
      "text/plain": [
       "list"
      ]
     },
     "execution_count": 652,
     "metadata": {},
     "output_type": "execute_result"
    }
   ],
   "source": [
    "type(new_list1)"
   ]
  },
  {
   "cell_type": "code",
   "execution_count": 653,
   "id": "221e43eb-e270-4db7-9b27-21eb203d6c60",
   "metadata": {},
   "outputs": [],
   "source": [
    "new_lists = new_list+new_list1"
   ]
  },
  {
   "cell_type": "code",
   "execution_count": null,
   "id": "acc194cc-d8e2-4dab-bda0-24293bbcf880",
   "metadata": {},
   "outputs": [],
   "source": []
  },
  {
   "cell_type": "code",
   "execution_count": 654,
   "id": "28ef4e80-d97a-4010-80c9-800638a33146",
   "metadata": {},
   "outputs": [],
   "source": [
    "converted_list = [x.upper() for x in new_lists]"
   ]
  },
  {
   "cell_type": "code",
   "execution_count": 655,
   "id": "64b62c1f-f968-42e8-8721-8fbe0c3b9eaf",
   "metadata": {},
   "outputs": [
    {
     "data": {
      "text/plain": [
       "['AUSTRIA.',\n",
       " 'EU MEMBER COUNTRY SINCE 1995, EURO AREA MEMBER SINCE 1999, SCHENGEN AREA MEMBER SINCE 1997 AND MORE ABOUT AUSTRIA’S PARTICIPATION IN THE EU.',\n",
       " 'BELGIUM.',\n",
       " 'EU MEMBER COUNTRY SINCE 1958, EURO AREA MEMBER SINCE 1999, SCHENGEN AREA MEMBER SINCE 1995 AND MORE ABOUT BELGIUM’S PARTICIPATION IN THE EU.',\n",
       " 'BULGARIA.',\n",
       " 'EU MEMBER COUNTRY SINCE 2007 AND MORE ABOUT BULGARIA’S PARTICIPATION IN THE EU.',\n",
       " 'CROATIA.',\n",
       " \"EU MEMBER STATE SINCE 2013 AND MORE ON CROATIA'S ROLE IN THE EU.\",\n",
       " 'CYPRUS.',\n",
       " 'EU MEMBER COUNTRY SINCE 2004, EURO AREA MEMBER SINCE 2008 AND MORE ABOUT CYPRUS’S PARTICIPATION IN THE EU.',\n",
       " 'CZECHIA.',\n",
       " 'EU MEMBER COUNTRY SINCE 2004, SCHENGEN AREA MEMBER SINCE 2007 AND MORE ABOUT CZECHIA’S PARTICIPATION IN THE EU.',\n",
       " 'DENMARK.',\n",
       " 'EU MEMBER COUNTRY SINCE 1973, OPT-OUT FROM EURO, SCHENGEN AREA MEMBER SINCE 2001 AND MORE ABOUT DENMARK’S PARTICIPATION IN THE EU.',\n",
       " 'ESTONIA.',\n",
       " 'HOW ESTONIA IS REPRESENTED IN THE DIFFERENT EU INSTITUTIONS, HOW MUCH MONEY IT GIVES AND RECEIVES, ITS POLITICAL SYSTEM AND TRADE FIGURES.',\n",
       " 'FINLAND.',\n",
       " 'EU MEMBER COUNTRY SINCE 1995, EURO AREA MEMBER SINCE 1999, SCHENGEN AREA MEMBER SINCE 2001 AND MORE ABOUT FINLAND’S PARTICIPATION IN THE EU.',\n",
       " 'FRANCE.',\n",
       " 'EU MEMBER COUNTRY SINCE 1958, EURO AREA MEMBER SINCE 1999, SCHENGEN AREA MEMBER SINCE 1995 AND MORE ABOUT FRANCE’S PARTICIPATION IN THE EU.',\n",
       " 'GERMANY.',\n",
       " 'EU MEMBER COUNTRY SINCE 1958, EURO AREA MEMBER SINCE 1999, SCHENGEN AREA MEMBER SINCE 1995 AND MORE ABOUT GERMANY’S PARTICIPATION IN THE EU.',\n",
       " 'GREECE.',\n",
       " 'EU MEMBER COUNTRY SINCE 1981, EURO AREA MEMBER SINCE 2001, SCHENGEN AREA MEMBER SINCE 2000 AND MORE ABOUT GREECE’S PARTICIPATION IN THE EU.',\n",
       " 'HUNGARY.',\n",
       " 'EU MEMBER COUNTRY SINCE 2004, SCHENGEN AREA MEMBER SINCE 2007 AND MORE ABOUT HUNGARY’S PARTICIPATION IN THE EU.',\n",
       " 'IRELAND.',\n",
       " 'EU MEMBER COUNTRY SINCE 1973, EURO AREA MEMBER SINCE 1999, OPT-OUT FROM SCHENGEN AREA AND MORE ABOUT IRELAND’S PARTICIPATION IN THE EU.',\n",
       " 'ITALY.',\n",
       " 'EU MEMBER COUNTRY SINCE 1958, EURO AREA MEMBER SINCE 1999, SCHENGEN AREA MEMBER SINCE 1997 AND MORE ABOUT ITALY’S PARTICIPATION IN THE EU.',\n",
       " 'LATVIA.',\n",
       " 'EU MEMBER COUNTRY SINCE 2004, EURO AREA MEMBER SINCE 2014, SCHENGEN AREA MEMBER SINCE 2007 AND MORE ABOUT LATVIA’S PARTICIPATION IN THE EU.',\n",
       " 'LITHUANIA.',\n",
       " 'EU MEMBER COUNTRY SINCE 2004, EURO AREA MEMBER SINCE 2015, SCHENGEN AREA MEMBER SINCE 2007 AND MORE ABOUT LITHUANIA’S PARTICIPATION IN THE EU.',\n",
       " 'LUXEMBOURG.',\n",
       " 'EU MEMBER COUNTRY SINCE 1958, EURO AREA MEMBER SINCE 1999, SCHENGEN AREA MEMBER SINCE 1995 AND MORE ABOUT LUXEMBOURG’S PARTICIPATION IN THE EU.',\n",
       " 'MALTA.',\n",
       " 'EU MEMBER COUNTRY SINCE 2004, EURO AREA MEMBER SINCE 2008, SCHENGEN AREA MEMBER SINCE 2007 AND MORE ABOUT MALTA’S PARTICIPATION IN THE EU.',\n",
       " 'NETHERLANDS.',\n",
       " 'EU MEMBER COUNTRY SINCE 1958, EURO AREA MEMBER SINCE 1999, SCHENGEN AREA MEMBER SINCE 1995 AND MORE ABOUT THE NETHERLANDS’ PARTICIPATION IN THE EU.',\n",
       " 'POLAND.',\n",
       " 'EU MEMBER COUNTRY SINCE 2004, SCHENGEN AREA MEMBER SINCE 2007 AND MORE ABOUT POLAND’S PARTICIPATION IN THE EU.',\n",
       " 'PORTUGAL.',\n",
       " 'EU MEMBER COUNTRY SINCE 1986, EURO AREA MEMBER SINCE 1999, SCHENGEN AREA MEMBER SINCE 1995 AND MORE ABOUT PORTUGAL’S PARTICIPATION IN THE EU.',\n",
       " 'ROMANIA.',\n",
       " 'EU MEMBER COUNTRY SINCE 2007 AND MORE ABOUT ROMANIA’S PARTICIPATION IN THE EU.',\n",
       " 'SLOVAKIA.',\n",
       " 'EU MEMBER COUNTRY SINCE 2004, EURO AREA MEMBER SINCE 2009, SCHENGEN AREA MEMBER SINCE 2007 AND MORE ABOUT SLOVAKIA’S PARTICIPATION IN THE EU.',\n",
       " 'SLOVENIA.',\n",
       " 'EU MEMBER COUNTRY SINCE 2004, EURO AREA MEMBER SINCE 2007, SCHENGEN AREA MEMBER SINCE 2007 AND MORE ABOUT SLOVENIA’S PARTICIPATION IN THE EU.',\n",
       " 'SPAIN.',\n",
       " 'EU MEMBER COUNTRY SINCE 1986, EURO AREA MEMBER SINCE 1999, SCHENGEN AREA MEMBER SINCE 1995 AND MORE ABOUT SPAIN’S PARTICIPATION IN THE EU.',\n",
       " 'SWEDEN.',\n",
       " 'EU MEMBER COUNTRY SINCE 1995, SCHENGEN AREA MEMBER SINCE 2001 AND MORE ABOUT SWEDEN’S PARTICIPATION IN THE EU.']"
      ]
     },
     "execution_count": 655,
     "metadata": {},
     "output_type": "execute_result"
    }
   ],
   "source": [
    "converted_list"
   ]
  },
  {
   "cell_type": "code",
   "execution_count": null,
   "id": "49bed0f2-c418-4fa8-bece-d5bb6dcf31b7",
   "metadata": {},
   "outputs": [],
   "source": []
  },
  {
   "cell_type": "code",
   "execution_count": 656,
   "id": "31b2d861-32e0-4201-9882-24dadab5649f",
   "metadata": {},
   "outputs": [],
   "source": [
    "co = str(converted_list)"
   ]
  },
  {
   "cell_type": "code",
   "execution_count": 657,
   "id": "c4b7dbbe-662b-42eb-bd86-b4dfaaded892",
   "metadata": {},
   "outputs": [],
   "source": [
    "from itertools import chain"
   ]
  },
  {
   "cell_type": "code",
   "execution_count": 658,
   "id": "7ae43a1b-68c6-45b1-b6aa-f9b78888d011",
   "metadata": {},
   "outputs": [],
   "source": [
    "coming = ' '.join(str(v) for v in converted_list)"
   ]
  },
  {
   "cell_type": "code",
   "execution_count": 659,
   "id": "87290bac-8825-42db-8a05-ca5217854511",
   "metadata": {},
   "outputs": [
    {
     "data": {
      "text/plain": [
       "\"AUSTRIA. EU MEMBER COUNTRY SINCE 1995, EURO AREA MEMBER SINCE 1999, SCHENGEN AREA MEMBER SINCE 1997 AND MORE ABOUT AUSTRIA’S PARTICIPATION IN THE EU. BELGIUM. EU MEMBER COUNTRY SINCE 1958, EURO AREA MEMBER SINCE 1999, SCHENGEN AREA MEMBER SINCE 1995 AND MORE ABOUT BELGIUM’S PARTICIPATION IN THE EU. BULGARIA. EU MEMBER COUNTRY SINCE 2007 AND MORE ABOUT BULGARIA’S PARTICIPATION IN THE EU. CROATIA. EU MEMBER STATE SINCE 2013 AND MORE ON CROATIA'S ROLE IN THE EU. CYPRUS. EU MEMBER COUNTRY SINCE 2004, EURO AREA MEMBER SINCE 2008 AND MORE ABOUT CYPRUS’S PARTICIPATION IN THE EU. CZECHIA. EU MEMBER COUNTRY SINCE 2004, SCHENGEN AREA MEMBER SINCE 2007 AND MORE ABOUT CZECHIA’S PARTICIPATION IN THE EU. DENMARK. EU MEMBER COUNTRY SINCE 1973, OPT-OUT FROM EURO, SCHENGEN AREA MEMBER SINCE 2001 AND MORE ABOUT DENMARK’S PARTICIPATION IN THE EU. ESTONIA. HOW ESTONIA IS REPRESENTED IN THE DIFFERENT EU INSTITUTIONS, HOW MUCH MONEY IT GIVES AND RECEIVES, ITS POLITICAL SYSTEM AND TRADE FIGURES. FINLAND. EU MEMBER COUNTRY SINCE 1995, EURO AREA MEMBER SINCE 1999, SCHENGEN AREA MEMBER SINCE 2001 AND MORE ABOUT FINLAND’S PARTICIPATION IN THE EU. FRANCE. EU MEMBER COUNTRY SINCE 1958, EURO AREA MEMBER SINCE 1999, SCHENGEN AREA MEMBER SINCE 1995 AND MORE ABOUT FRANCE’S PARTICIPATION IN THE EU. GERMANY. EU MEMBER COUNTRY SINCE 1958, EURO AREA MEMBER SINCE 1999, SCHENGEN AREA MEMBER SINCE 1995 AND MORE ABOUT GERMANY’S PARTICIPATION IN THE EU. GREECE. EU MEMBER COUNTRY SINCE 1981, EURO AREA MEMBER SINCE 2001, SCHENGEN AREA MEMBER SINCE 2000 AND MORE ABOUT GREECE’S PARTICIPATION IN THE EU. HUNGARY. EU MEMBER COUNTRY SINCE 2004, SCHENGEN AREA MEMBER SINCE 2007 AND MORE ABOUT HUNGARY’S PARTICIPATION IN THE EU. IRELAND. EU MEMBER COUNTRY SINCE 1973, EURO AREA MEMBER SINCE 1999, OPT-OUT FROM SCHENGEN AREA AND MORE ABOUT IRELAND’S PARTICIPATION IN THE EU. ITALY. EU MEMBER COUNTRY SINCE 1958, EURO AREA MEMBER SINCE 1999, SCHENGEN AREA MEMBER SINCE 1997 AND MORE ABOUT ITALY’S PARTICIPATION IN THE EU. LATVIA. EU MEMBER COUNTRY SINCE 2004, EURO AREA MEMBER SINCE 2014, SCHENGEN AREA MEMBER SINCE 2007 AND MORE ABOUT LATVIA’S PARTICIPATION IN THE EU. LITHUANIA. EU MEMBER COUNTRY SINCE 2004, EURO AREA MEMBER SINCE 2015, SCHENGEN AREA MEMBER SINCE 2007 AND MORE ABOUT LITHUANIA’S PARTICIPATION IN THE EU. LUXEMBOURG. EU MEMBER COUNTRY SINCE 1958, EURO AREA MEMBER SINCE 1999, SCHENGEN AREA MEMBER SINCE 1995 AND MORE ABOUT LUXEMBOURG’S PARTICIPATION IN THE EU. MALTA. EU MEMBER COUNTRY SINCE 2004, EURO AREA MEMBER SINCE 2008, SCHENGEN AREA MEMBER SINCE 2007 AND MORE ABOUT MALTA’S PARTICIPATION IN THE EU. NETHERLANDS. EU MEMBER COUNTRY SINCE 1958, EURO AREA MEMBER SINCE 1999, SCHENGEN AREA MEMBER SINCE 1995 AND MORE ABOUT THE NETHERLANDS’ PARTICIPATION IN THE EU. POLAND. EU MEMBER COUNTRY SINCE 2004, SCHENGEN AREA MEMBER SINCE 2007 AND MORE ABOUT POLAND’S PARTICIPATION IN THE EU. PORTUGAL. EU MEMBER COUNTRY SINCE 1986, EURO AREA MEMBER SINCE 1999, SCHENGEN AREA MEMBER SINCE 1995 AND MORE ABOUT PORTUGAL’S PARTICIPATION IN THE EU. ROMANIA. EU MEMBER COUNTRY SINCE 2007 AND MORE ABOUT ROMANIA’S PARTICIPATION IN THE EU. SLOVAKIA. EU MEMBER COUNTRY SINCE 2004, EURO AREA MEMBER SINCE 2009, SCHENGEN AREA MEMBER SINCE 2007 AND MORE ABOUT SLOVAKIA’S PARTICIPATION IN THE EU. SLOVENIA. EU MEMBER COUNTRY SINCE 2004, EURO AREA MEMBER SINCE 2007, SCHENGEN AREA MEMBER SINCE 2007 AND MORE ABOUT SLOVENIA’S PARTICIPATION IN THE EU. SPAIN. EU MEMBER COUNTRY SINCE 1986, EURO AREA MEMBER SINCE 1999, SCHENGEN AREA MEMBER SINCE 1995 AND MORE ABOUT SPAIN’S PARTICIPATION IN THE EU. SWEDEN. EU MEMBER COUNTRY SINCE 1995, SCHENGEN AREA MEMBER SINCE 2001 AND MORE ABOUT SWEDEN’S PARTICIPATION IN THE EU.\""
      ]
     },
     "execution_count": 659,
     "metadata": {},
     "output_type": "execute_result"
    }
   ],
   "source": [
    "coming"
   ]
  },
  {
   "cell_type": "code",
   "execution_count": 660,
   "id": "bc5ca8ed-8149-4e0f-bcdd-83c08c66ab82",
   "metadata": {},
   "outputs": [],
   "source": [
    "come = coming.replace(\".\", \"\")\n",
    "com = come.replace(\"REPUBLIC\", \"\")\n",
    "come= com.replace(\"OF\", \"\")\n"
   ]
  },
  {
   "cell_type": "code",
   "execution_count": 661,
   "id": "bbdaaaed-c375-43bf-82e2-4098249be389",
   "metadata": {},
   "outputs": [
    {
     "data": {
      "text/plain": [
       "\"AUSTRIA EU MEMBER COUNTRY SINCE 1995, EURO AREA MEMBER SINCE 1999, SCHENGEN AREA MEMBER SINCE 1997 AND MORE ABOUT AUSTRIA’S PARTICIPATION IN THE EU BELGIUM EU MEMBER COUNTRY SINCE 1958, EURO AREA MEMBER SINCE 1999, SCHENGEN AREA MEMBER SINCE 1995 AND MORE ABOUT BELGIUM’S PARTICIPATION IN THE EU BULGARIA EU MEMBER COUNTRY SINCE 2007 AND MORE ABOUT BULGARIA’S PARTICIPATION IN THE EU CROATIA EU MEMBER STATE SINCE 2013 AND MORE ON CROATIA'S ROLE IN THE EU CYPRUS EU MEMBER COUNTRY SINCE 2004, EURO AREA MEMBER SINCE 2008 AND MORE ABOUT CYPRUS’S PARTICIPATION IN THE EU CZECHIA EU MEMBER COUNTRY SINCE 2004, SCHENGEN AREA MEMBER SINCE 2007 AND MORE ABOUT CZECHIA’S PARTICIPATION IN THE EU DENMARK EU MEMBER COUNTRY SINCE 1973, OPT-OUT FROM EURO, SCHENGEN AREA MEMBER SINCE 2001 AND MORE ABOUT DENMARK’S PARTICIPATION IN THE EU ESTONIA HOW ESTONIA IS REPRESENTED IN THE DIFFERENT EU INSTITUTIONS, HOW MUCH MONEY IT GIVES AND RECEIVES, ITS POLITICAL SYSTEM AND TRADE FIGURES FINLAND EU MEMBER COUNTRY SINCE 1995, EURO AREA MEMBER SINCE 1999, SCHENGEN AREA MEMBER SINCE 2001 AND MORE ABOUT FINLAND’S PARTICIPATION IN THE EU FRANCE EU MEMBER COUNTRY SINCE 1958, EURO AREA MEMBER SINCE 1999, SCHENGEN AREA MEMBER SINCE 1995 AND MORE ABOUT FRANCE’S PARTICIPATION IN THE EU GERMANY EU MEMBER COUNTRY SINCE 1958, EURO AREA MEMBER SINCE 1999, SCHENGEN AREA MEMBER SINCE 1995 AND MORE ABOUT GERMANY’S PARTICIPATION IN THE EU GREECE EU MEMBER COUNTRY SINCE 1981, EURO AREA MEMBER SINCE 2001, SCHENGEN AREA MEMBER SINCE 2000 AND MORE ABOUT GREECE’S PARTICIPATION IN THE EU HUNGARY EU MEMBER COUNTRY SINCE 2004, SCHENGEN AREA MEMBER SINCE 2007 AND MORE ABOUT HUNGARY’S PARTICIPATION IN THE EU IRELAND EU MEMBER COUNTRY SINCE 1973, EURO AREA MEMBER SINCE 1999, OPT-OUT FROM SCHENGEN AREA AND MORE ABOUT IRELAND’S PARTICIPATION IN THE EU ITALY EU MEMBER COUNTRY SINCE 1958, EURO AREA MEMBER SINCE 1999, SCHENGEN AREA MEMBER SINCE 1997 AND MORE ABOUT ITALY’S PARTICIPATION IN THE EU LATVIA EU MEMBER COUNTRY SINCE 2004, EURO AREA MEMBER SINCE 2014, SCHENGEN AREA MEMBER SINCE 2007 AND MORE ABOUT LATVIA’S PARTICIPATION IN THE EU LITHUANIA EU MEMBER COUNTRY SINCE 2004, EURO AREA MEMBER SINCE 2015, SCHENGEN AREA MEMBER SINCE 2007 AND MORE ABOUT LITHUANIA’S PARTICIPATION IN THE EU LUXEMBOURG EU MEMBER COUNTRY SINCE 1958, EURO AREA MEMBER SINCE 1999, SCHENGEN AREA MEMBER SINCE 1995 AND MORE ABOUT LUXEMBOURG’S PARTICIPATION IN THE EU MALTA EU MEMBER COUNTRY SINCE 2004, EURO AREA MEMBER SINCE 2008, SCHENGEN AREA MEMBER SINCE 2007 AND MORE ABOUT MALTA’S PARTICIPATION IN THE EU NETHERLANDS EU MEMBER COUNTRY SINCE 1958, EURO AREA MEMBER SINCE 1999, SCHENGEN AREA MEMBER SINCE 1995 AND MORE ABOUT THE NETHERLANDS’ PARTICIPATION IN THE EU POLAND EU MEMBER COUNTRY SINCE 2004, SCHENGEN AREA MEMBER SINCE 2007 AND MORE ABOUT POLAND’S PARTICIPATION IN THE EU PORTUGAL EU MEMBER COUNTRY SINCE 1986, EURO AREA MEMBER SINCE 1999, SCHENGEN AREA MEMBER SINCE 1995 AND MORE ABOUT PORTUGAL’S PARTICIPATION IN THE EU ROMANIA EU MEMBER COUNTRY SINCE 2007 AND MORE ABOUT ROMANIA’S PARTICIPATION IN THE EU SLOVAKIA EU MEMBER COUNTRY SINCE 2004, EURO AREA MEMBER SINCE 2009, SCHENGEN AREA MEMBER SINCE 2007 AND MORE ABOUT SLOVAKIA’S PARTICIPATION IN THE EU SLOVENIA EU MEMBER COUNTRY SINCE 2004, EURO AREA MEMBER SINCE 2007, SCHENGEN AREA MEMBER SINCE 2007 AND MORE ABOUT SLOVENIA’S PARTICIPATION IN THE EU SPAIN EU MEMBER COUNTRY SINCE 1986, EURO AREA MEMBER SINCE 1999, SCHENGEN AREA MEMBER SINCE 1995 AND MORE ABOUT SPAIN’S PARTICIPATION IN THE EU SWEDEN EU MEMBER COUNTRY SINCE 1995, SCHENGEN AREA MEMBER SINCE 2001 AND MORE ABOUT SWEDEN’S PARTICIPATION IN THE EU\""
      ]
     },
     "execution_count": 661,
     "metadata": {},
     "output_type": "execute_result"
    }
   ],
   "source": [
    "come"
   ]
  },
  {
   "cell_type": "code",
   "execution_count": 662,
   "id": "1e328b58-ac99-46c2-9f54-e02229f8f9bf",
   "metadata": {},
   "outputs": [],
   "source": [
    "# i need to get the intersection of countries"
   ]
  },
  {
   "cell_type": "code",
   "execution_count": null,
   "id": "9fc24104-928e-486b-9ded-1748f1f014d8",
   "metadata": {},
   "outputs": [],
   "source": []
  },
  {
   "cell_type": "code",
   "execution_count": 663,
   "id": "74ea9eca-f77e-46a4-9e0a-cfd51632cd8b",
   "metadata": {},
   "outputs": [],
   "source": [
    "#movi\n",
    "#come\n",
    "\n",
    "read = set(result.split()) & set(come.split())"
   ]
  },
  {
   "cell_type": "code",
   "execution_count": 664,
   "id": "3143b8d2-f658-4d8d-aaa2-ac8b755708d0",
   "metadata": {},
   "outputs": [],
   "source": [
    "readd = list(read)"
   ]
  },
  {
   "cell_type": "code",
   "execution_count": 665,
   "id": "acd0abe1-2fe3-41b3-b13f-a72717a3121e",
   "metadata": {},
   "outputs": [],
   "source": [
    "readd.append(\"SWIZERLAND\")\n",
    "readd.append(\"UNITED KINGDOM\")\n",
    "readd.append(\"SCOTLAND\")\n",
    "readd.append(\"NORWAY\")\n",
    "readd.append(\"SWITZERLAND\")\n",
    "readd.append(\"UGANDA\")\n",
    "readd.append(\"CZECH REPUBLIC\")\n",
    "readd.append(\"SERBIA\")\n",
    "readd.append(\"MALT\")\n",
    "readd.append(\"UKRAIN\")\n",
    "readd.append(\"BURGARIA\")\n",
    "readd.append(\"MONTENEGRO\")\n",
    "\n",
    "#SWIZERLAND "
   ]
  },
  {
   "cell_type": "code",
   "execution_count": 666,
   "id": "adfca038-f81f-402b-b975-f077d80ce4c4",
   "metadata": {},
   "outputs": [
    {
     "data": {
      "text/plain": [
       "['NETHERLANDS',\n",
       " 'SLOVAKIA',\n",
       " 'PORTUGAL',\n",
       " 'SWEDEN',\n",
       " 'CYPRUS',\n",
       " 'IRELAND',\n",
       " 'HUNGARY',\n",
       " 'GREECE',\n",
       " 'FINLAND',\n",
       " 'LATVIA',\n",
       " 'ESTONIA',\n",
       " 'ROMANIA',\n",
       " 'SPAIN',\n",
       " 'DENMARK',\n",
       " 'FRANCE',\n",
       " 'ITALY',\n",
       " 'AUSTRIA',\n",
       " 'SLOVENIA',\n",
       " 'BELGIUM',\n",
       " 'GERMANY',\n",
       " 'POLAND',\n",
       " 'CROATIA',\n",
       " 'LITHUANIA',\n",
       " 'LUXEMBOURG',\n",
       " 'SWIZERLAND',\n",
       " 'UNITED KINGDOM',\n",
       " 'SCOTLAND',\n",
       " 'NORWAY',\n",
       " 'SWITZERLAND',\n",
       " 'UGANDA',\n",
       " 'CZECH REPUBLIC',\n",
       " 'SERBIA',\n",
       " 'MALT',\n",
       " 'UKRAIN',\n",
       " 'BURGARIA',\n",
       " 'MONTENEGRO']"
      ]
     },
     "execution_count": 666,
     "metadata": {},
     "output_type": "execute_result"
    }
   ],
   "source": [
    "readd"
   ]
  },
  {
   "cell_type": "code",
   "execution_count": 667,
   "id": "d905723f-3134-4ad5-be1a-33fb79088e5f",
   "metadata": {},
   "outputs": [],
   "source": [
    "i = len(readd)"
   ]
  },
  {
   "cell_type": "code",
   "execution_count": 668,
   "id": "1f0733fe-c31a-4540-a437-bfd2820e2798",
   "metadata": {},
   "outputs": [],
   "source": [
    "matches = []\n",
    "\n",
    "for match in list1:\n",
    "    if readd[i-1] in match:\n",
    "        matches.append(match)\n",
    "        i-=1"
   ]
  },
  {
   "cell_type": "code",
   "execution_count": 669,
   "id": "05e4d074-2a23-40c1-b087-77930fa8ca63",
   "metadata": {},
   "outputs": [
    {
     "data": {
      "text/plain": [
       "list"
      ]
     },
     "execution_count": 669,
     "metadata": {},
     "output_type": "execute_result"
    }
   ],
   "source": [
    "type(matches)"
   ]
  },
  {
   "cell_type": "code",
   "execution_count": 670,
   "id": "fe865842-cb65-4d8f-b007-7419bc046aaf",
   "metadata": {},
   "outputs": [],
   "source": [
    "i = len(readd)"
   ]
  },
  {
   "cell_type": "code",
   "execution_count": 671,
   "id": "12e10d62-f689-4e43-bad2-a903416a6e58",
   "metadata": {},
   "outputs": [
    {
     "data": {
      "text/plain": [
       "36"
      ]
     },
     "execution_count": 671,
     "metadata": {},
     "output_type": "execute_result"
    }
   ],
   "source": [
    "i"
   ]
  },
  {
   "cell_type": "code",
   "execution_count": 672,
   "id": "f5c6ff36-c9d4-4bdc-ada5-a520ae4f7911",
   "metadata": {},
   "outputs": [
    {
     "data": {
      "text/plain": [
       "'MONTENEGRO'"
      ]
     },
     "execution_count": 672,
     "metadata": {},
     "output_type": "execute_result"
    }
   ],
   "source": [
    "readd[i-1]"
   ]
  },
  {
   "cell_type": "code",
   "execution_count": 673,
   "id": "7264b2c2-0c62-45be-99be-b3d60083c70b",
   "metadata": {},
   "outputs": [],
   "source": [
    "df.upcountry.replace(readd, 'Europe', inplace=True)"
   ]
  },
  {
   "cell_type": "code",
   "execution_count": 674,
   "id": "438eca55-a8a0-4158-b550-5a8d0a61a809",
   "metadata": {},
   "outputs": [
    {
     "data": {
      "text/html": [
       "<div>\n",
       "<style scoped>\n",
       "    .dataframe tbody tr th:only-of-type {\n",
       "        vertical-align: middle;\n",
       "    }\n",
       "\n",
       "    .dataframe tbody tr th {\n",
       "        vertical-align: top;\n",
       "    }\n",
       "\n",
       "    .dataframe thead th {\n",
       "        text-align: right;\n",
       "    }\n",
       "</style>\n",
       "<table border=\"1\" class=\"dataframe\">\n",
       "  <thead>\n",
       "    <tr style=\"text-align: right;\">\n",
       "      <th></th>\n",
       "      <th>ID</th>\n",
       "      <th>country</th>\n",
       "      <th>age_group</th>\n",
       "      <th>travel_with</th>\n",
       "      <th>total_female</th>\n",
       "      <th>total_male</th>\n",
       "      <th>purpose</th>\n",
       "      <th>main_activity</th>\n",
       "      <th>info_source</th>\n",
       "      <th>tour_arrangement</th>\n",
       "      <th>...</th>\n",
       "      <th>package_sightseeing</th>\n",
       "      <th>package_guided_tour</th>\n",
       "      <th>package_insurance</th>\n",
       "      <th>night_mainland</th>\n",
       "      <th>night_zanzibar</th>\n",
       "      <th>payment_mode</th>\n",
       "      <th>first_trip_tz</th>\n",
       "      <th>most_impressing</th>\n",
       "      <th>total_cost</th>\n",
       "      <th>upcountry</th>\n",
       "    </tr>\n",
       "  </thead>\n",
       "  <tbody>\n",
       "    <tr>\n",
       "      <th>0</th>\n",
       "      <td>tour_0</td>\n",
       "      <td>SWIZERLAND</td>\n",
       "      <td>45-64</td>\n",
       "      <td>Friends/Relatives</td>\n",
       "      <td>1.0</td>\n",
       "      <td>1.0</td>\n",
       "      <td>Leisure and Holidays</td>\n",
       "      <td>Wildlife tourism</td>\n",
       "      <td>Friends, relatives</td>\n",
       "      <td>Independent</td>\n",
       "      <td>...</td>\n",
       "      <td>No</td>\n",
       "      <td>No</td>\n",
       "      <td>No</td>\n",
       "      <td>13</td>\n",
       "      <td>0</td>\n",
       "      <td>Cash</td>\n",
       "      <td>No</td>\n",
       "      <td>Friendly People</td>\n",
       "      <td>674602.5</td>\n",
       "      <td>Europe</td>\n",
       "    </tr>\n",
       "    <tr>\n",
       "      <th>1</th>\n",
       "      <td>tour_10</td>\n",
       "      <td>UNITED KINGDOM</td>\n",
       "      <td>25-44</td>\n",
       "      <td>NaN</td>\n",
       "      <td>1.0</td>\n",
       "      <td>0.0</td>\n",
       "      <td>Leisure and Holidays</td>\n",
       "      <td>Cultural tourism</td>\n",
       "      <td>others</td>\n",
       "      <td>Independent</td>\n",
       "      <td>...</td>\n",
       "      <td>No</td>\n",
       "      <td>No</td>\n",
       "      <td>No</td>\n",
       "      <td>14</td>\n",
       "      <td>7</td>\n",
       "      <td>Cash</td>\n",
       "      <td>Yes</td>\n",
       "      <td>Wonderful Country, Landscape, Nature</td>\n",
       "      <td>3214906.5</td>\n",
       "      <td>Europe</td>\n",
       "    </tr>\n",
       "    <tr>\n",
       "      <th>2</th>\n",
       "      <td>tour_1000</td>\n",
       "      <td>UNITED KINGDOM</td>\n",
       "      <td>25-44</td>\n",
       "      <td>Alone</td>\n",
       "      <td>0.0</td>\n",
       "      <td>1.0</td>\n",
       "      <td>Visiting Friends and Relatives</td>\n",
       "      <td>Cultural tourism</td>\n",
       "      <td>Friends, relatives</td>\n",
       "      <td>Independent</td>\n",
       "      <td>...</td>\n",
       "      <td>No</td>\n",
       "      <td>No</td>\n",
       "      <td>No</td>\n",
       "      <td>1</td>\n",
       "      <td>31</td>\n",
       "      <td>Cash</td>\n",
       "      <td>No</td>\n",
       "      <td>Excellent Experience</td>\n",
       "      <td>3315000.0</td>\n",
       "      <td>Europe</td>\n",
       "    </tr>\n",
       "    <tr>\n",
       "      <th>3</th>\n",
       "      <td>tour_1002</td>\n",
       "      <td>UNITED KINGDOM</td>\n",
       "      <td>25-44</td>\n",
       "      <td>Spouse</td>\n",
       "      <td>1.0</td>\n",
       "      <td>1.0</td>\n",
       "      <td>Leisure and Holidays</td>\n",
       "      <td>Wildlife tourism</td>\n",
       "      <td>Travel, agent, tour operator</td>\n",
       "      <td>Package Tour</td>\n",
       "      <td>...</td>\n",
       "      <td>Yes</td>\n",
       "      <td>Yes</td>\n",
       "      <td>No</td>\n",
       "      <td>11</td>\n",
       "      <td>0</td>\n",
       "      <td>Cash</td>\n",
       "      <td>Yes</td>\n",
       "      <td>Friendly People</td>\n",
       "      <td>7790250.0</td>\n",
       "      <td>Europe</td>\n",
       "    </tr>\n",
       "    <tr>\n",
       "      <th>4</th>\n",
       "      <td>tour_1004</td>\n",
       "      <td>CHINA</td>\n",
       "      <td>2022-01-24 00:00:00</td>\n",
       "      <td>NaN</td>\n",
       "      <td>1.0</td>\n",
       "      <td>0.0</td>\n",
       "      <td>Leisure and Holidays</td>\n",
       "      <td>Wildlife tourism</td>\n",
       "      <td>Travel, agent, tour operator</td>\n",
       "      <td>Independent</td>\n",
       "      <td>...</td>\n",
       "      <td>No</td>\n",
       "      <td>No</td>\n",
       "      <td>No</td>\n",
       "      <td>7</td>\n",
       "      <td>4</td>\n",
       "      <td>Cash</td>\n",
       "      <td>Yes</td>\n",
       "      <td>No comments</td>\n",
       "      <td>1657500.0</td>\n",
       "      <td>CHINA</td>\n",
       "    </tr>\n",
       "    <tr>\n",
       "      <th>5</th>\n",
       "      <td>tour_1005</td>\n",
       "      <td>UNITED KINGDOM</td>\n",
       "      <td>25-44</td>\n",
       "      <td>NaN</td>\n",
       "      <td>0.0</td>\n",
       "      <td>1.0</td>\n",
       "      <td>Leisure and Holidays</td>\n",
       "      <td>Wildlife tourism</td>\n",
       "      <td>Travel, agent, tour operator</td>\n",
       "      <td>Package Tour</td>\n",
       "      <td>...</td>\n",
       "      <td>Yes</td>\n",
       "      <td>Yes</td>\n",
       "      <td>No</td>\n",
       "      <td>9</td>\n",
       "      <td>3</td>\n",
       "      <td>Cash</td>\n",
       "      <td>Yes</td>\n",
       "      <td>Wildlife</td>\n",
       "      <td>120950.0</td>\n",
       "      <td>Europe</td>\n",
       "    </tr>\n",
       "    <tr>\n",
       "      <th>6</th>\n",
       "      <td>tour_1007</td>\n",
       "      <td>SOUTH AFRICA</td>\n",
       "      <td>45-64</td>\n",
       "      <td>Alone</td>\n",
       "      <td>0.0</td>\n",
       "      <td>1.0</td>\n",
       "      <td>Business</td>\n",
       "      <td>Mountain climbing</td>\n",
       "      <td>Friends, relatives</td>\n",
       "      <td>Independent</td>\n",
       "      <td>...</td>\n",
       "      <td>No</td>\n",
       "      <td>No</td>\n",
       "      <td>No</td>\n",
       "      <td>9</td>\n",
       "      <td>0</td>\n",
       "      <td>Cash</td>\n",
       "      <td>Yes</td>\n",
       "      <td>Friendly People</td>\n",
       "      <td>466140.0</td>\n",
       "      <td>Southern Africa</td>\n",
       "    </tr>\n",
       "    <tr>\n",
       "      <th>7</th>\n",
       "      <td>tour_1008</td>\n",
       "      <td>UNITED STATES OF AMERICA</td>\n",
       "      <td>45-64</td>\n",
       "      <td>Friends/Relatives</td>\n",
       "      <td>1.0</td>\n",
       "      <td>1.0</td>\n",
       "      <td>Leisure and Holidays</td>\n",
       "      <td>Wildlife tourism</td>\n",
       "      <td>Travel, agent, tour operator</td>\n",
       "      <td>Package Tour</td>\n",
       "      <td>...</td>\n",
       "      <td>Yes</td>\n",
       "      <td>Yes</td>\n",
       "      <td>Yes</td>\n",
       "      <td>10</td>\n",
       "      <td>3</td>\n",
       "      <td>Cash</td>\n",
       "      <td>Yes</td>\n",
       "      <td>Friendly People</td>\n",
       "      <td>3480750.0</td>\n",
       "      <td>UNITED STATES OF AMERICA</td>\n",
       "    </tr>\n",
       "    <tr>\n",
       "      <th>8</th>\n",
       "      <td>tour_101</td>\n",
       "      <td>NIGERIA</td>\n",
       "      <td>25-44</td>\n",
       "      <td>Alone</td>\n",
       "      <td>0.0</td>\n",
       "      <td>1.0</td>\n",
       "      <td>Leisure and Holidays</td>\n",
       "      <td>Cultural tourism</td>\n",
       "      <td>Travel, agent, tour operator</td>\n",
       "      <td>Independent</td>\n",
       "      <td>...</td>\n",
       "      <td>No</td>\n",
       "      <td>No</td>\n",
       "      <td>No</td>\n",
       "      <td>4</td>\n",
       "      <td>0</td>\n",
       "      <td>Cash</td>\n",
       "      <td>Yes</td>\n",
       "      <td>NaN</td>\n",
       "      <td>994500.0</td>\n",
       "      <td>West Africa</td>\n",
       "    </tr>\n",
       "    <tr>\n",
       "      <th>9</th>\n",
       "      <td>tour_1011</td>\n",
       "      <td>INDIA</td>\n",
       "      <td>25-44</td>\n",
       "      <td>Alone</td>\n",
       "      <td>1.0</td>\n",
       "      <td>0.0</td>\n",
       "      <td>Business</td>\n",
       "      <td>Wildlife tourism</td>\n",
       "      <td>Travel, agent, tour operator</td>\n",
       "      <td>Independent</td>\n",
       "      <td>...</td>\n",
       "      <td>No</td>\n",
       "      <td>No</td>\n",
       "      <td>No</td>\n",
       "      <td>5</td>\n",
       "      <td>0</td>\n",
       "      <td>Credit Card</td>\n",
       "      <td>Yes</td>\n",
       "      <td>Friendly People</td>\n",
       "      <td>2486250.0</td>\n",
       "      <td>INDIA</td>\n",
       "    </tr>\n",
       "    <tr>\n",
       "      <th>10</th>\n",
       "      <td>tour_1012</td>\n",
       "      <td>BRAZIL</td>\n",
       "      <td>25-44</td>\n",
       "      <td>Spouse</td>\n",
       "      <td>1.0</td>\n",
       "      <td>1.0</td>\n",
       "      <td>Leisure and Holidays</td>\n",
       "      <td>Wildlife tourism</td>\n",
       "      <td>Radio, TV, Web</td>\n",
       "      <td>Independent</td>\n",
       "      <td>...</td>\n",
       "      <td>No</td>\n",
       "      <td>No</td>\n",
       "      <td>No</td>\n",
       "      <td>17</td>\n",
       "      <td>3</td>\n",
       "      <td>Cash</td>\n",
       "      <td>Yes</td>\n",
       "      <td>Wonderful Country, Landscape, Nature</td>\n",
       "      <td>1117155.0</td>\n",
       "      <td>BRAZIL</td>\n",
       "    </tr>\n",
       "    <tr>\n",
       "      <th>11</th>\n",
       "      <td>tour_1013</td>\n",
       "      <td>CANADA</td>\n",
       "      <td>45-64</td>\n",
       "      <td>Children</td>\n",
       "      <td>2.0</td>\n",
       "      <td>0.0</td>\n",
       "      <td>Leisure and Holidays</td>\n",
       "      <td>Beach tourism</td>\n",
       "      <td>Friends, relatives</td>\n",
       "      <td>Independent</td>\n",
       "      <td>...</td>\n",
       "      <td>No</td>\n",
       "      <td>No</td>\n",
       "      <td>No</td>\n",
       "      <td>30</td>\n",
       "      <td>0</td>\n",
       "      <td>Cash</td>\n",
       "      <td>No</td>\n",
       "      <td>Excellent Experience</td>\n",
       "      <td>8121750.0</td>\n",
       "      <td>CANADA</td>\n",
       "    </tr>\n",
       "    <tr>\n",
       "      <th>12</th>\n",
       "      <td>tour_1016</td>\n",
       "      <td>CANADA</td>\n",
       "      <td>45-64</td>\n",
       "      <td>Children</td>\n",
       "      <td>0.0</td>\n",
       "      <td>2.0</td>\n",
       "      <td>Leisure and Holidays</td>\n",
       "      <td>Wildlife tourism</td>\n",
       "      <td>Travel, agent, tour operator</td>\n",
       "      <td>Independent</td>\n",
       "      <td>...</td>\n",
       "      <td>No</td>\n",
       "      <td>No</td>\n",
       "      <td>No</td>\n",
       "      <td>11</td>\n",
       "      <td>3</td>\n",
       "      <td>Cash</td>\n",
       "      <td>Yes</td>\n",
       "      <td>No comments</td>\n",
       "      <td>331500.0</td>\n",
       "      <td>CANADA</td>\n",
       "    </tr>\n",
       "    <tr>\n",
       "      <th>13</th>\n",
       "      <td>tour_1017</td>\n",
       "      <td>MALT</td>\n",
       "      <td>25-44</td>\n",
       "      <td>Friends/Relatives</td>\n",
       "      <td>2.0</td>\n",
       "      <td>0.0</td>\n",
       "      <td>Leisure and Holidays</td>\n",
       "      <td>Wildlife tourism</td>\n",
       "      <td>Friends, relatives</td>\n",
       "      <td>Package Tour</td>\n",
       "      <td>...</td>\n",
       "      <td>No</td>\n",
       "      <td>No</td>\n",
       "      <td>No</td>\n",
       "      <td>10</td>\n",
       "      <td>0</td>\n",
       "      <td>Cash</td>\n",
       "      <td>Yes</td>\n",
       "      <td>No comments</td>\n",
       "      <td>11346650.0</td>\n",
       "      <td>Europe</td>\n",
       "    </tr>\n",
       "    <tr>\n",
       "      <th>14</th>\n",
       "      <td>tour_1018</td>\n",
       "      <td>MOZAMBIQUE</td>\n",
       "      <td>25-44</td>\n",
       "      <td>Alone</td>\n",
       "      <td>0.0</td>\n",
       "      <td>1.0</td>\n",
       "      <td>Visiting Friends and Relatives</td>\n",
       "      <td>Beach tourism</td>\n",
       "      <td>Friends, relatives</td>\n",
       "      <td>Independent</td>\n",
       "      <td>...</td>\n",
       "      <td>No</td>\n",
       "      <td>No</td>\n",
       "      <td>No</td>\n",
       "      <td>2</td>\n",
       "      <td>0</td>\n",
       "      <td>Cash</td>\n",
       "      <td>Yes</td>\n",
       "      <td>Wildlife</td>\n",
       "      <td>497250.0</td>\n",
       "      <td>Southern Africa</td>\n",
       "    </tr>\n",
       "    <tr>\n",
       "      <th>15</th>\n",
       "      <td>tour_102</td>\n",
       "      <td>RWANDA</td>\n",
       "      <td>65+</td>\n",
       "      <td>Alone</td>\n",
       "      <td>1.0</td>\n",
       "      <td>0.0</td>\n",
       "      <td>Leisure and Holidays</td>\n",
       "      <td>Beach tourism</td>\n",
       "      <td>Friends, relatives</td>\n",
       "      <td>Independent</td>\n",
       "      <td>...</td>\n",
       "      <td>No</td>\n",
       "      <td>No</td>\n",
       "      <td>No</td>\n",
       "      <td>0</td>\n",
       "      <td>2</td>\n",
       "      <td>Cash</td>\n",
       "      <td>Yes</td>\n",
       "      <td>Wonderful Country, Landscape, Nature</td>\n",
       "      <td>331500.0</td>\n",
       "      <td>East Africa</td>\n",
       "    </tr>\n",
       "    <tr>\n",
       "      <th>16</th>\n",
       "      <td>tour_1021</td>\n",
       "      <td>AUSTRIA</td>\n",
       "      <td>45-64</td>\n",
       "      <td>Friends/Relatives</td>\n",
       "      <td>4.0</td>\n",
       "      <td>1.0</td>\n",
       "      <td>Visiting Friends and Relatives</td>\n",
       "      <td>Mountain climbing</td>\n",
       "      <td>Friends, relatives</td>\n",
       "      <td>Independent</td>\n",
       "      <td>...</td>\n",
       "      <td>No</td>\n",
       "      <td>No</td>\n",
       "      <td>No</td>\n",
       "      <td>24</td>\n",
       "      <td>0</td>\n",
       "      <td>Cash</td>\n",
       "      <td>No</td>\n",
       "      <td>Friendly People</td>\n",
       "      <td>2000000.0</td>\n",
       "      <td>Europe</td>\n",
       "    </tr>\n",
       "    <tr>\n",
       "      <th>17</th>\n",
       "      <td>tour_1022</td>\n",
       "      <td>MYANMAR</td>\n",
       "      <td>25-44</td>\n",
       "      <td>NaN</td>\n",
       "      <td>1.0</td>\n",
       "      <td>0.0</td>\n",
       "      <td>Meetings and Conference</td>\n",
       "      <td>Wildlife tourism</td>\n",
       "      <td>Radio, TV, Web</td>\n",
       "      <td>Independent</td>\n",
       "      <td>...</td>\n",
       "      <td>No</td>\n",
       "      <td>No</td>\n",
       "      <td>No</td>\n",
       "      <td>5</td>\n",
       "      <td>0</td>\n",
       "      <td>Cash</td>\n",
       "      <td>Yes</td>\n",
       "      <td>Friendly People</td>\n",
       "      <td>331500.0</td>\n",
       "      <td>MYANMAR</td>\n",
       "    </tr>\n",
       "    <tr>\n",
       "      <th>18</th>\n",
       "      <td>tour_1024</td>\n",
       "      <td>GERMANY</td>\n",
       "      <td>25-44</td>\n",
       "      <td>Children</td>\n",
       "      <td>1.0</td>\n",
       "      <td>1.0</td>\n",
       "      <td>Visiting Friends and Relatives</td>\n",
       "      <td>Cultural tourism</td>\n",
       "      <td>Friends, relatives</td>\n",
       "      <td>Independent</td>\n",
       "      <td>...</td>\n",
       "      <td>No</td>\n",
       "      <td>No</td>\n",
       "      <td>No</td>\n",
       "      <td>3</td>\n",
       "      <td>0</td>\n",
       "      <td>Cash</td>\n",
       "      <td>Yes</td>\n",
       "      <td>Friendly People</td>\n",
       "      <td>2269330.0</td>\n",
       "      <td>Europe</td>\n",
       "    </tr>\n",
       "    <tr>\n",
       "      <th>19</th>\n",
       "      <td>tour_1026</td>\n",
       "      <td>KENYA</td>\n",
       "      <td>25-44</td>\n",
       "      <td>NaN</td>\n",
       "      <td>1.0</td>\n",
       "      <td>0.0</td>\n",
       "      <td>Business</td>\n",
       "      <td>Mountain climbing</td>\n",
       "      <td>Friends, relatives</td>\n",
       "      <td>Independent</td>\n",
       "      <td>...</td>\n",
       "      <td>No</td>\n",
       "      <td>No</td>\n",
       "      <td>No</td>\n",
       "      <td>4</td>\n",
       "      <td>0</td>\n",
       "      <td>Cash</td>\n",
       "      <td>No</td>\n",
       "      <td>Friendly People</td>\n",
       "      <td>377520.0</td>\n",
       "      <td>East Africa</td>\n",
       "    </tr>\n",
       "    <tr>\n",
       "      <th>20</th>\n",
       "      <td>tour_1027</td>\n",
       "      <td>UNITED KINGDOM</td>\n",
       "      <td>2022-01-24 00:00:00</td>\n",
       "      <td>NaN</td>\n",
       "      <td>1.0</td>\n",
       "      <td>0.0</td>\n",
       "      <td>Volunteering</td>\n",
       "      <td>Cultural tourism</td>\n",
       "      <td>Tanzania Mission Abroad</td>\n",
       "      <td>Independent</td>\n",
       "      <td>...</td>\n",
       "      <td>No</td>\n",
       "      <td>No</td>\n",
       "      <td>No</td>\n",
       "      <td>70</td>\n",
       "      <td>0</td>\n",
       "      <td>Cash</td>\n",
       "      <td>Yes</td>\n",
       "      <td>Wonderful Country, Landscape, Nature</td>\n",
       "      <td>711262.5</td>\n",
       "      <td>Europe</td>\n",
       "    </tr>\n",
       "    <tr>\n",
       "      <th>21</th>\n",
       "      <td>tour_1028</td>\n",
       "      <td>KENYA</td>\n",
       "      <td>45-64</td>\n",
       "      <td>NaN</td>\n",
       "      <td>0.0</td>\n",
       "      <td>1.0</td>\n",
       "      <td>Business</td>\n",
       "      <td>Wildlife tourism</td>\n",
       "      <td>Friends, relatives</td>\n",
       "      <td>Independent</td>\n",
       "      <td>...</td>\n",
       "      <td>No</td>\n",
       "      <td>No</td>\n",
       "      <td>No</td>\n",
       "      <td>4</td>\n",
       "      <td>0</td>\n",
       "      <td>Cash</td>\n",
       "      <td>Yes</td>\n",
       "      <td>No comments</td>\n",
       "      <td>497250.0</td>\n",
       "      <td>East Africa</td>\n",
       "    </tr>\n",
       "    <tr>\n",
       "      <th>22</th>\n",
       "      <td>tour_1029</td>\n",
       "      <td>SWIZERLAND</td>\n",
       "      <td>45-64</td>\n",
       "      <td>Children</td>\n",
       "      <td>1.0</td>\n",
       "      <td>1.0</td>\n",
       "      <td>Leisure and Holidays</td>\n",
       "      <td>Wildlife tourism</td>\n",
       "      <td>Friends, relatives</td>\n",
       "      <td>Package Tour</td>\n",
       "      <td>...</td>\n",
       "      <td>No</td>\n",
       "      <td>No</td>\n",
       "      <td>No</td>\n",
       "      <td>10</td>\n",
       "      <td>0</td>\n",
       "      <td>Credit Card</td>\n",
       "      <td>No</td>\n",
       "      <td>Friendly People</td>\n",
       "      <td>7458750.0</td>\n",
       "      <td>Europe</td>\n",
       "    </tr>\n",
       "    <tr>\n",
       "      <th>23</th>\n",
       "      <td>tour_103</td>\n",
       "      <td>ALGERIA</td>\n",
       "      <td>25-44</td>\n",
       "      <td>Spouse</td>\n",
       "      <td>1.0</td>\n",
       "      <td>1.0</td>\n",
       "      <td>Leisure and Holidays</td>\n",
       "      <td>Beach tourism</td>\n",
       "      <td>Radio, TV, Web</td>\n",
       "      <td>Independent</td>\n",
       "      <td>...</td>\n",
       "      <td>No</td>\n",
       "      <td>No</td>\n",
       "      <td>No</td>\n",
       "      <td>0</td>\n",
       "      <td>11</td>\n",
       "      <td>Cash</td>\n",
       "      <td>Yes</td>\n",
       "      <td>Wildlife</td>\n",
       "      <td>3734347.5</td>\n",
       "      <td>North Africa</td>\n",
       "    </tr>\n",
       "    <tr>\n",
       "      <th>24</th>\n",
       "      <td>tour_1030</td>\n",
       "      <td>IRELAND</td>\n",
       "      <td>2022-01-24 00:00:00</td>\n",
       "      <td>Friends/Relatives</td>\n",
       "      <td>1.0</td>\n",
       "      <td>1.0</td>\n",
       "      <td>Leisure and Holidays</td>\n",
       "      <td>Wildlife tourism</td>\n",
       "      <td>others</td>\n",
       "      <td>Independent</td>\n",
       "      <td>...</td>\n",
       "      <td>No</td>\n",
       "      <td>No</td>\n",
       "      <td>No</td>\n",
       "      <td>20</td>\n",
       "      <td>6</td>\n",
       "      <td>Cash</td>\n",
       "      <td>Yes</td>\n",
       "      <td>Friendly People</td>\n",
       "      <td>5673325.0</td>\n",
       "      <td>Europe</td>\n",
       "    </tr>\n",
       "    <tr>\n",
       "      <th>25</th>\n",
       "      <td>tour_1032</td>\n",
       "      <td>DENMARK</td>\n",
       "      <td>2022-01-24 00:00:00</td>\n",
       "      <td>Friends/Relatives</td>\n",
       "      <td>2.0</td>\n",
       "      <td>2.0</td>\n",
       "      <td>Scientific and Academic</td>\n",
       "      <td>Beach tourism</td>\n",
       "      <td>Friends, relatives</td>\n",
       "      <td>Independent</td>\n",
       "      <td>...</td>\n",
       "      <td>No</td>\n",
       "      <td>No</td>\n",
       "      <td>No</td>\n",
       "      <td>15</td>\n",
       "      <td>7</td>\n",
       "      <td>Cash</td>\n",
       "      <td>Yes</td>\n",
       "      <td>No comments</td>\n",
       "      <td>400000.0</td>\n",
       "      <td>Europe</td>\n",
       "    </tr>\n",
       "    <tr>\n",
       "      <th>26</th>\n",
       "      <td>tour_1033</td>\n",
       "      <td>UNITED KINGDOM</td>\n",
       "      <td>25-44</td>\n",
       "      <td>Alone</td>\n",
       "      <td>0.0</td>\n",
       "      <td>1.0</td>\n",
       "      <td>Business</td>\n",
       "      <td>Wildlife tourism</td>\n",
       "      <td>Travel, agent, tour operator</td>\n",
       "      <td>Independent</td>\n",
       "      <td>...</td>\n",
       "      <td>No</td>\n",
       "      <td>No</td>\n",
       "      <td>No</td>\n",
       "      <td>1</td>\n",
       "      <td>0</td>\n",
       "      <td>Credit Card</td>\n",
       "      <td>Yes</td>\n",
       "      <td>No comments</td>\n",
       "      <td>663000.0</td>\n",
       "      <td>Europe</td>\n",
       "    </tr>\n",
       "    <tr>\n",
       "      <th>27</th>\n",
       "      <td>tour_1034</td>\n",
       "      <td>GERMANY</td>\n",
       "      <td>2022-01-24 00:00:00</td>\n",
       "      <td>NaN</td>\n",
       "      <td>1.0</td>\n",
       "      <td>0.0</td>\n",
       "      <td>Leisure and Holidays</td>\n",
       "      <td>Wildlife tourism</td>\n",
       "      <td>Friends, relatives</td>\n",
       "      <td>Independent</td>\n",
       "      <td>...</td>\n",
       "      <td>No</td>\n",
       "      <td>No</td>\n",
       "      <td>No</td>\n",
       "      <td>24</td>\n",
       "      <td>4</td>\n",
       "      <td>Cash</td>\n",
       "      <td>Yes</td>\n",
       "      <td>Good service</td>\n",
       "      <td>453866.0</td>\n",
       "      <td>Europe</td>\n",
       "    </tr>\n",
       "    <tr>\n",
       "      <th>28</th>\n",
       "      <td>tour_1035</td>\n",
       "      <td>SPAIN</td>\n",
       "      <td>45-64</td>\n",
       "      <td>Spouse and Children</td>\n",
       "      <td>3.0</td>\n",
       "      <td>1.0</td>\n",
       "      <td>Leisure and Holidays</td>\n",
       "      <td>Wildlife tourism</td>\n",
       "      <td>Travel, agent, tour operator</td>\n",
       "      <td>Package Tour</td>\n",
       "      <td>...</td>\n",
       "      <td>Yes</td>\n",
       "      <td>Yes</td>\n",
       "      <td>Yes</td>\n",
       "      <td>4</td>\n",
       "      <td>4</td>\n",
       "      <td>Cash</td>\n",
       "      <td>Yes</td>\n",
       "      <td>Wildlife</td>\n",
       "      <td>25442625.0</td>\n",
       "      <td>Europe</td>\n",
       "    </tr>\n",
       "    <tr>\n",
       "      <th>29</th>\n",
       "      <td>tour_1036</td>\n",
       "      <td>FRANCE</td>\n",
       "      <td>2022-01-24 00:00:00</td>\n",
       "      <td>NaN</td>\n",
       "      <td>0.0</td>\n",
       "      <td>1.0</td>\n",
       "      <td>Leisure and Holidays</td>\n",
       "      <td>Conference tourism</td>\n",
       "      <td>others</td>\n",
       "      <td>Package Tour</td>\n",
       "      <td>...</td>\n",
       "      <td>Yes</td>\n",
       "      <td>Yes</td>\n",
       "      <td>Yes</td>\n",
       "      <td>11</td>\n",
       "      <td>3</td>\n",
       "      <td>Cash</td>\n",
       "      <td>Yes</td>\n",
       "      <td>Wonderful Country, Landscape, Nature</td>\n",
       "      <td>6961500.0</td>\n",
       "      <td>Europe</td>\n",
       "    </tr>\n",
       "    <tr>\n",
       "      <th>30</th>\n",
       "      <td>tour_1038</td>\n",
       "      <td>UNITED KINGDOM</td>\n",
       "      <td>2022-01-24 00:00:00</td>\n",
       "      <td>Alone</td>\n",
       "      <td>0.0</td>\n",
       "      <td>1.0</td>\n",
       "      <td>Volunteering</td>\n",
       "      <td>Hunting tourism</td>\n",
       "      <td>Friends, relatives</td>\n",
       "      <td>Independent</td>\n",
       "      <td>...</td>\n",
       "      <td>No</td>\n",
       "      <td>No</td>\n",
       "      <td>No</td>\n",
       "      <td>56</td>\n",
       "      <td>0</td>\n",
       "      <td>Credit Card</td>\n",
       "      <td>No</td>\n",
       "      <td>Friendly People</td>\n",
       "      <td>1707030.0</td>\n",
       "      <td>Europe</td>\n",
       "    </tr>\n",
       "    <tr>\n",
       "      <th>31</th>\n",
       "      <td>tour_1039</td>\n",
       "      <td>UNITED KINGDOM</td>\n",
       "      <td>45-64</td>\n",
       "      <td>Alone</td>\n",
       "      <td>1.0</td>\n",
       "      <td>0.0</td>\n",
       "      <td>Visiting Friends and Relatives</td>\n",
       "      <td>Hunting tourism</td>\n",
       "      <td>Friends, relatives</td>\n",
       "      <td>Independent</td>\n",
       "      <td>...</td>\n",
       "      <td>No</td>\n",
       "      <td>No</td>\n",
       "      <td>No</td>\n",
       "      <td>12</td>\n",
       "      <td>0</td>\n",
       "      <td>Cash</td>\n",
       "      <td>No</td>\n",
       "      <td>Friendly People</td>\n",
       "      <td>5690100.0</td>\n",
       "      <td>Europe</td>\n",
       "    </tr>\n",
       "    <tr>\n",
       "      <th>32</th>\n",
       "      <td>tour_104</td>\n",
       "      <td>ITALY</td>\n",
       "      <td>45-64</td>\n",
       "      <td>Friends/Relatives</td>\n",
       "      <td>2.0</td>\n",
       "      <td>0.0</td>\n",
       "      <td>Leisure and Holidays</td>\n",
       "      <td>Wildlife tourism</td>\n",
       "      <td>Radio, TV, Web</td>\n",
       "      <td>Package Tour</td>\n",
       "      <td>...</td>\n",
       "      <td>Yes</td>\n",
       "      <td>No</td>\n",
       "      <td>No</td>\n",
       "      <td>6</td>\n",
       "      <td>5</td>\n",
       "      <td>Cash</td>\n",
       "      <td>Yes</td>\n",
       "      <td>Excellent Experience</td>\n",
       "      <td>2652000.0</td>\n",
       "      <td>Europe</td>\n",
       "    </tr>\n",
       "    <tr>\n",
       "      <th>33</th>\n",
       "      <td>tour_1040</td>\n",
       "      <td>EGYPT</td>\n",
       "      <td>2022-01-24 00:00:00</td>\n",
       "      <td>Alone</td>\n",
       "      <td>0.0</td>\n",
       "      <td>1.0</td>\n",
       "      <td>Visiting Friends and Relatives</td>\n",
       "      <td>Bird watching</td>\n",
       "      <td>Travel, agent, tour operator</td>\n",
       "      <td>Package Tour</td>\n",
       "      <td>...</td>\n",
       "      <td>No</td>\n",
       "      <td>No</td>\n",
       "      <td>No</td>\n",
       "      <td>2</td>\n",
       "      <td>0</td>\n",
       "      <td>Cash</td>\n",
       "      <td>Yes</td>\n",
       "      <td>No comments</td>\n",
       "      <td>2320500.0</td>\n",
       "      <td>North Africa</td>\n",
       "    </tr>\n",
       "    <tr>\n",
       "      <th>34</th>\n",
       "      <td>tour_1041</td>\n",
       "      <td>UNITED KINGDOM</td>\n",
       "      <td>45-64</td>\n",
       "      <td>Alone</td>\n",
       "      <td>1.0</td>\n",
       "      <td>0.0</td>\n",
       "      <td>Visiting Friends and Relatives</td>\n",
       "      <td>Hunting tourism</td>\n",
       "      <td>Friends, relatives</td>\n",
       "      <td>Independent</td>\n",
       "      <td>...</td>\n",
       "      <td>No</td>\n",
       "      <td>No</td>\n",
       "      <td>No</td>\n",
       "      <td>11</td>\n",
       "      <td>0</td>\n",
       "      <td>Cash</td>\n",
       "      <td>No</td>\n",
       "      <td>No comments</td>\n",
       "      <td>4267575.0</td>\n",
       "      <td>Europe</td>\n",
       "    </tr>\n",
       "    <tr>\n",
       "      <th>35</th>\n",
       "      <td>tour_1042</td>\n",
       "      <td>QATAR</td>\n",
       "      <td>25-44</td>\n",
       "      <td>Friends/Relatives</td>\n",
       "      <td>2.0</td>\n",
       "      <td>2.0</td>\n",
       "      <td>Leisure and Holidays</td>\n",
       "      <td>Wildlife tourism</td>\n",
       "      <td>Friends, relatives</td>\n",
       "      <td>Package Tour</td>\n",
       "      <td>...</td>\n",
       "      <td>Yes</td>\n",
       "      <td>Yes</td>\n",
       "      <td>No</td>\n",
       "      <td>13</td>\n",
       "      <td>10</td>\n",
       "      <td>Cash</td>\n",
       "      <td>No</td>\n",
       "      <td>Wildlife</td>\n",
       "      <td>17316000.0</td>\n",
       "      <td>QATAR</td>\n",
       "    </tr>\n",
       "    <tr>\n",
       "      <th>36</th>\n",
       "      <td>tour_1043</td>\n",
       "      <td>MOZAMBIQUE</td>\n",
       "      <td>2022-01-24 00:00:00</td>\n",
       "      <td>Alone</td>\n",
       "      <td>1.0</td>\n",
       "      <td>0.0</td>\n",
       "      <td>Visiting Friends and Relatives</td>\n",
       "      <td>Hunting tourism</td>\n",
       "      <td>Friends, relatives</td>\n",
       "      <td>Independent</td>\n",
       "      <td>...</td>\n",
       "      <td>No</td>\n",
       "      <td>No</td>\n",
       "      <td>No</td>\n",
       "      <td>3</td>\n",
       "      <td>0</td>\n",
       "      <td>Cash</td>\n",
       "      <td>Yes</td>\n",
       "      <td>Excellent Experience</td>\n",
       "      <td>663000.0</td>\n",
       "      <td>Southern Africa</td>\n",
       "    </tr>\n",
       "    <tr>\n",
       "      <th>37</th>\n",
       "      <td>tour_1045</td>\n",
       "      <td>KENYA</td>\n",
       "      <td>45-64</td>\n",
       "      <td>Alone</td>\n",
       "      <td>1.0</td>\n",
       "      <td>0.0</td>\n",
       "      <td>Scientific and Academic</td>\n",
       "      <td>Mountain climbing</td>\n",
       "      <td>inflight magazines</td>\n",
       "      <td>Package Tour</td>\n",
       "      <td>...</td>\n",
       "      <td>No</td>\n",
       "      <td>No</td>\n",
       "      <td>No</td>\n",
       "      <td>5</td>\n",
       "      <td>0</td>\n",
       "      <td>Credit Card</td>\n",
       "      <td>No</td>\n",
       "      <td>Wildlife</td>\n",
       "      <td>3812250.0</td>\n",
       "      <td>East Africa</td>\n",
       "    </tr>\n",
       "    <tr>\n",
       "      <th>38</th>\n",
       "      <td>tour_1046</td>\n",
       "      <td>CHINA</td>\n",
       "      <td>25-44</td>\n",
       "      <td>Alone</td>\n",
       "      <td>1.0</td>\n",
       "      <td>0.0</td>\n",
       "      <td>Leisure and Holidays</td>\n",
       "      <td>Beach tourism</td>\n",
       "      <td>Newspaper, magazines,brochures</td>\n",
       "      <td>Independent</td>\n",
       "      <td>...</td>\n",
       "      <td>No</td>\n",
       "      <td>No</td>\n",
       "      <td>No</td>\n",
       "      <td>2</td>\n",
       "      <td>0</td>\n",
       "      <td>Other</td>\n",
       "      <td>No</td>\n",
       "      <td>Friendly People</td>\n",
       "      <td>828750.0</td>\n",
       "      <td>CHINA</td>\n",
       "    </tr>\n",
       "    <tr>\n",
       "      <th>39</th>\n",
       "      <td>tour_1047</td>\n",
       "      <td>MALAWI</td>\n",
       "      <td>25-44</td>\n",
       "      <td>Alone</td>\n",
       "      <td>0.0</td>\n",
       "      <td>1.0</td>\n",
       "      <td>Meetings and Conference</td>\n",
       "      <td>Beach tourism</td>\n",
       "      <td>Friends, relatives</td>\n",
       "      <td>Independent</td>\n",
       "      <td>...</td>\n",
       "      <td>No</td>\n",
       "      <td>No</td>\n",
       "      <td>No</td>\n",
       "      <td>21</td>\n",
       "      <td>0</td>\n",
       "      <td>Credit Card</td>\n",
       "      <td>No</td>\n",
       "      <td>Friendly People</td>\n",
       "      <td>3000000.0</td>\n",
       "      <td>Southern Africa</td>\n",
       "    </tr>\n",
       "    <tr>\n",
       "      <th>40</th>\n",
       "      <td>tour_1048</td>\n",
       "      <td>UNITED KINGDOM</td>\n",
       "      <td>45-64</td>\n",
       "      <td>Spouse</td>\n",
       "      <td>1.0</td>\n",
       "      <td>1.0</td>\n",
       "      <td>Visiting Friends and Relatives</td>\n",
       "      <td>Beach tourism</td>\n",
       "      <td>Friends, relatives</td>\n",
       "      <td>Independent</td>\n",
       "      <td>...</td>\n",
       "      <td>No</td>\n",
       "      <td>No</td>\n",
       "      <td>No</td>\n",
       "      <td>10</td>\n",
       "      <td>0</td>\n",
       "      <td>Cash</td>\n",
       "      <td>No</td>\n",
       "      <td>Excellent Experience</td>\n",
       "      <td>828750.0</td>\n",
       "      <td>Europe</td>\n",
       "    </tr>\n",
       "    <tr>\n",
       "      <th>41</th>\n",
       "      <td>tour_1049</td>\n",
       "      <td>UNITED KINGDOM</td>\n",
       "      <td>25-44</td>\n",
       "      <td>Children</td>\n",
       "      <td>0.0</td>\n",
       "      <td>3.0</td>\n",
       "      <td>Visiting Friends and Relatives</td>\n",
       "      <td>Beach tourism</td>\n",
       "      <td>Friends, relatives</td>\n",
       "      <td>Independent</td>\n",
       "      <td>...</td>\n",
       "      <td>No</td>\n",
       "      <td>No</td>\n",
       "      <td>No</td>\n",
       "      <td>29</td>\n",
       "      <td>0</td>\n",
       "      <td>Cash</td>\n",
       "      <td>No</td>\n",
       "      <td>No comments</td>\n",
       "      <td>28450500.0</td>\n",
       "      <td>Europe</td>\n",
       "    </tr>\n",
       "    <tr>\n",
       "      <th>42</th>\n",
       "      <td>tour_105</td>\n",
       "      <td>JAPAN</td>\n",
       "      <td>25-44</td>\n",
       "      <td>NaN</td>\n",
       "      <td>1.0</td>\n",
       "      <td>0.0</td>\n",
       "      <td>Volunteering</td>\n",
       "      <td>Cultural tourism</td>\n",
       "      <td>Travel, agent, tour operator</td>\n",
       "      <td>Independent</td>\n",
       "      <td>...</td>\n",
       "      <td>No</td>\n",
       "      <td>No</td>\n",
       "      <td>No</td>\n",
       "      <td>27</td>\n",
       "      <td>2</td>\n",
       "      <td>Cash</td>\n",
       "      <td>Yes</td>\n",
       "      <td>No comments</td>\n",
       "      <td>745875.0</td>\n",
       "      <td>JAPAN</td>\n",
       "    </tr>\n",
       "    <tr>\n",
       "      <th>43</th>\n",
       "      <td>tour_1050</td>\n",
       "      <td>CHINA</td>\n",
       "      <td>2022-01-24 00:00:00</td>\n",
       "      <td>Alone</td>\n",
       "      <td>0.0</td>\n",
       "      <td>1.0</td>\n",
       "      <td>Leisure and Holidays</td>\n",
       "      <td>Wildlife tourism</td>\n",
       "      <td>Friends, relatives</td>\n",
       "      <td>Independent</td>\n",
       "      <td>...</td>\n",
       "      <td>No</td>\n",
       "      <td>No</td>\n",
       "      <td>No</td>\n",
       "      <td>34</td>\n",
       "      <td>4</td>\n",
       "      <td>Cash</td>\n",
       "      <td>Yes</td>\n",
       "      <td>Friendly People</td>\n",
       "      <td>3273562.5</td>\n",
       "      <td>CHINA</td>\n",
       "    </tr>\n",
       "    <tr>\n",
       "      <th>44</th>\n",
       "      <td>tour_1051</td>\n",
       "      <td>UNITED STATES OF AMERICA</td>\n",
       "      <td>45-64</td>\n",
       "      <td>Spouse</td>\n",
       "      <td>1.0</td>\n",
       "      <td>1.0</td>\n",
       "      <td>Leisure and Holidays</td>\n",
       "      <td>Beach tourism</td>\n",
       "      <td>others</td>\n",
       "      <td>Independent</td>\n",
       "      <td>...</td>\n",
       "      <td>No</td>\n",
       "      <td>No</td>\n",
       "      <td>No</td>\n",
       "      <td>0</td>\n",
       "      <td>5</td>\n",
       "      <td>Cash</td>\n",
       "      <td>Yes</td>\n",
       "      <td>No comments</td>\n",
       "      <td>3397875.0</td>\n",
       "      <td>UNITED STATES OF AMERICA</td>\n",
       "    </tr>\n",
       "    <tr>\n",
       "      <th>45</th>\n",
       "      <td>tour_1052</td>\n",
       "      <td>UNITED KINGDOM</td>\n",
       "      <td>45-64</td>\n",
       "      <td>Alone</td>\n",
       "      <td>0.0</td>\n",
       "      <td>1.0</td>\n",
       "      <td>Business</td>\n",
       "      <td>business</td>\n",
       "      <td>others</td>\n",
       "      <td>Independent</td>\n",
       "      <td>...</td>\n",
       "      <td>No</td>\n",
       "      <td>No</td>\n",
       "      <td>No</td>\n",
       "      <td>20</td>\n",
       "      <td>0</td>\n",
       "      <td>Cash</td>\n",
       "      <td>Yes</td>\n",
       "      <td>Friendly People</td>\n",
       "      <td>6132750.0</td>\n",
       "      <td>Europe</td>\n",
       "    </tr>\n",
       "    <tr>\n",
       "      <th>46</th>\n",
       "      <td>tour_1054</td>\n",
       "      <td>SWEDEN</td>\n",
       "      <td>45-64</td>\n",
       "      <td>NaN</td>\n",
       "      <td>0.0</td>\n",
       "      <td>1.0</td>\n",
       "      <td>Visiting Friends and Relatives</td>\n",
       "      <td>Beach tourism</td>\n",
       "      <td>Friends, relatives</td>\n",
       "      <td>Package Tour</td>\n",
       "      <td>...</td>\n",
       "      <td>No</td>\n",
       "      <td>No</td>\n",
       "      <td>No</td>\n",
       "      <td>10</td>\n",
       "      <td>7</td>\n",
       "      <td>Credit Card</td>\n",
       "      <td>No</td>\n",
       "      <td>Friendly People</td>\n",
       "      <td>4992526.0</td>\n",
       "      <td>Europe</td>\n",
       "    </tr>\n",
       "    <tr>\n",
       "      <th>47</th>\n",
       "      <td>tour_1055</td>\n",
       "      <td>NETHERLANDS</td>\n",
       "      <td>25-44</td>\n",
       "      <td>Spouse</td>\n",
       "      <td>1.0</td>\n",
       "      <td>1.0</td>\n",
       "      <td>Leisure and Holidays</td>\n",
       "      <td>Wildlife tourism</td>\n",
       "      <td>Travel, agent, tour operator</td>\n",
       "      <td>Independent</td>\n",
       "      <td>...</td>\n",
       "      <td>No</td>\n",
       "      <td>No</td>\n",
       "      <td>No</td>\n",
       "      <td>10</td>\n",
       "      <td>4</td>\n",
       "      <td>Cash</td>\n",
       "      <td>Yes</td>\n",
       "      <td>No comments</td>\n",
       "      <td>1588531.0</td>\n",
       "      <td>Europe</td>\n",
       "    </tr>\n",
       "    <tr>\n",
       "      <th>48</th>\n",
       "      <td>tour_1057</td>\n",
       "      <td>FRANCE</td>\n",
       "      <td>25-44</td>\n",
       "      <td>Spouse and Children</td>\n",
       "      <td>1.0</td>\n",
       "      <td>2.0</td>\n",
       "      <td>Leisure and Holidays</td>\n",
       "      <td>Wildlife tourism</td>\n",
       "      <td>Travel, agent, tour operator</td>\n",
       "      <td>Package Tour</td>\n",
       "      <td>...</td>\n",
       "      <td>Yes</td>\n",
       "      <td>Yes</td>\n",
       "      <td>Yes</td>\n",
       "      <td>4</td>\n",
       "      <td>3</td>\n",
       "      <td>Cash</td>\n",
       "      <td>Yes</td>\n",
       "      <td>No comments</td>\n",
       "      <td>34039950.0</td>\n",
       "      <td>Europe</td>\n",
       "    </tr>\n",
       "    <tr>\n",
       "      <th>49</th>\n",
       "      <td>tour_1058</td>\n",
       "      <td>UAE</td>\n",
       "      <td>25-44</td>\n",
       "      <td>Alone</td>\n",
       "      <td>0.0</td>\n",
       "      <td>1.0</td>\n",
       "      <td>Visiting Friends and Relatives</td>\n",
       "      <td>Beach tourism</td>\n",
       "      <td>Friends, relatives</td>\n",
       "      <td>Independent</td>\n",
       "      <td>...</td>\n",
       "      <td>No</td>\n",
       "      <td>No</td>\n",
       "      <td>No</td>\n",
       "      <td>7</td>\n",
       "      <td>1</td>\n",
       "      <td>Cash</td>\n",
       "      <td>No</td>\n",
       "      <td>NaN</td>\n",
       "      <td>1657500.0</td>\n",
       "      <td>UAE</td>\n",
       "    </tr>\n",
       "  </tbody>\n",
       "</table>\n",
       "<p>50 rows × 24 columns</p>\n",
       "</div>"
      ],
      "text/plain": [
       "           ID                   country            age_group  \\\n",
       "0      tour_0                SWIZERLAND                45-64   \n",
       "1     tour_10            UNITED KINGDOM                25-44   \n",
       "2   tour_1000            UNITED KINGDOM                25-44   \n",
       "3   tour_1002            UNITED KINGDOM                25-44   \n",
       "4   tour_1004                     CHINA  2022-01-24 00:00:00   \n",
       "5   tour_1005            UNITED KINGDOM                25-44   \n",
       "6   tour_1007              SOUTH AFRICA                45-64   \n",
       "7   tour_1008  UNITED STATES OF AMERICA                45-64   \n",
       "8    tour_101                   NIGERIA                25-44   \n",
       "9   tour_1011                     INDIA                25-44   \n",
       "10  tour_1012                    BRAZIL                25-44   \n",
       "11  tour_1013                    CANADA                45-64   \n",
       "12  tour_1016                    CANADA                45-64   \n",
       "13  tour_1017                      MALT                25-44   \n",
       "14  tour_1018                MOZAMBIQUE                25-44   \n",
       "15   tour_102                    RWANDA                  65+   \n",
       "16  tour_1021                   AUSTRIA                45-64   \n",
       "17  tour_1022                   MYANMAR                25-44   \n",
       "18  tour_1024                   GERMANY                25-44   \n",
       "19  tour_1026                     KENYA                25-44   \n",
       "20  tour_1027            UNITED KINGDOM  2022-01-24 00:00:00   \n",
       "21  tour_1028                     KENYA                45-64   \n",
       "22  tour_1029                SWIZERLAND                45-64   \n",
       "23   tour_103                   ALGERIA                25-44   \n",
       "24  tour_1030                   IRELAND  2022-01-24 00:00:00   \n",
       "25  tour_1032                   DENMARK  2022-01-24 00:00:00   \n",
       "26  tour_1033            UNITED KINGDOM                25-44   \n",
       "27  tour_1034                   GERMANY  2022-01-24 00:00:00   \n",
       "28  tour_1035                     SPAIN                45-64   \n",
       "29  tour_1036                    FRANCE  2022-01-24 00:00:00   \n",
       "30  tour_1038            UNITED KINGDOM  2022-01-24 00:00:00   \n",
       "31  tour_1039            UNITED KINGDOM                45-64   \n",
       "32   tour_104                     ITALY                45-64   \n",
       "33  tour_1040                     EGYPT  2022-01-24 00:00:00   \n",
       "34  tour_1041            UNITED KINGDOM                45-64   \n",
       "35  tour_1042                     QATAR                25-44   \n",
       "36  tour_1043                MOZAMBIQUE  2022-01-24 00:00:00   \n",
       "37  tour_1045                     KENYA                45-64   \n",
       "38  tour_1046                     CHINA                25-44   \n",
       "39  tour_1047                    MALAWI                25-44   \n",
       "40  tour_1048            UNITED KINGDOM                45-64   \n",
       "41  tour_1049            UNITED KINGDOM                25-44   \n",
       "42   tour_105                     JAPAN                25-44   \n",
       "43  tour_1050                     CHINA  2022-01-24 00:00:00   \n",
       "44  tour_1051  UNITED STATES OF AMERICA                45-64   \n",
       "45  tour_1052            UNITED KINGDOM                45-64   \n",
       "46  tour_1054                    SWEDEN                45-64   \n",
       "47  tour_1055               NETHERLANDS                25-44   \n",
       "48  tour_1057                    FRANCE                25-44   \n",
       "49  tour_1058                       UAE                25-44   \n",
       "\n",
       "            travel_with  total_female  total_male  \\\n",
       "0     Friends/Relatives           1.0         1.0   \n",
       "1                   NaN           1.0         0.0   \n",
       "2                 Alone           0.0         1.0   \n",
       "3                Spouse           1.0         1.0   \n",
       "4                   NaN           1.0         0.0   \n",
       "5                   NaN           0.0         1.0   \n",
       "6                 Alone           0.0         1.0   \n",
       "7     Friends/Relatives           1.0         1.0   \n",
       "8                 Alone           0.0         1.0   \n",
       "9                 Alone           1.0         0.0   \n",
       "10               Spouse           1.0         1.0   \n",
       "11             Children           2.0         0.0   \n",
       "12             Children           0.0         2.0   \n",
       "13    Friends/Relatives           2.0         0.0   \n",
       "14                Alone           0.0         1.0   \n",
       "15                Alone           1.0         0.0   \n",
       "16    Friends/Relatives           4.0         1.0   \n",
       "17                  NaN           1.0         0.0   \n",
       "18             Children           1.0         1.0   \n",
       "19                  NaN           1.0         0.0   \n",
       "20                  NaN           1.0         0.0   \n",
       "21                  NaN           0.0         1.0   \n",
       "22             Children           1.0         1.0   \n",
       "23               Spouse           1.0         1.0   \n",
       "24    Friends/Relatives           1.0         1.0   \n",
       "25    Friends/Relatives           2.0         2.0   \n",
       "26                Alone           0.0         1.0   \n",
       "27                  NaN           1.0         0.0   \n",
       "28  Spouse and Children           3.0         1.0   \n",
       "29                  NaN           0.0         1.0   \n",
       "30                Alone           0.0         1.0   \n",
       "31                Alone           1.0         0.0   \n",
       "32    Friends/Relatives           2.0         0.0   \n",
       "33                Alone           0.0         1.0   \n",
       "34                Alone           1.0         0.0   \n",
       "35    Friends/Relatives           2.0         2.0   \n",
       "36                Alone           1.0         0.0   \n",
       "37                Alone           1.0         0.0   \n",
       "38                Alone           1.0         0.0   \n",
       "39                Alone           0.0         1.0   \n",
       "40               Spouse           1.0         1.0   \n",
       "41             Children           0.0         3.0   \n",
       "42                  NaN           1.0         0.0   \n",
       "43                Alone           0.0         1.0   \n",
       "44               Spouse           1.0         1.0   \n",
       "45                Alone           0.0         1.0   \n",
       "46                  NaN           0.0         1.0   \n",
       "47               Spouse           1.0         1.0   \n",
       "48  Spouse and Children           1.0         2.0   \n",
       "49                Alone           0.0         1.0   \n",
       "\n",
       "                           purpose       main_activity  \\\n",
       "0             Leisure and Holidays    Wildlife tourism   \n",
       "1             Leisure and Holidays    Cultural tourism   \n",
       "2   Visiting Friends and Relatives    Cultural tourism   \n",
       "3             Leisure and Holidays    Wildlife tourism   \n",
       "4             Leisure and Holidays    Wildlife tourism   \n",
       "5             Leisure and Holidays    Wildlife tourism   \n",
       "6                         Business   Mountain climbing   \n",
       "7             Leisure and Holidays    Wildlife tourism   \n",
       "8             Leisure and Holidays    Cultural tourism   \n",
       "9                         Business    Wildlife tourism   \n",
       "10            Leisure and Holidays    Wildlife tourism   \n",
       "11            Leisure and Holidays       Beach tourism   \n",
       "12            Leisure and Holidays    Wildlife tourism   \n",
       "13            Leisure and Holidays    Wildlife tourism   \n",
       "14  Visiting Friends and Relatives       Beach tourism   \n",
       "15            Leisure and Holidays       Beach tourism   \n",
       "16  Visiting Friends and Relatives   Mountain climbing   \n",
       "17         Meetings and Conference    Wildlife tourism   \n",
       "18  Visiting Friends and Relatives    Cultural tourism   \n",
       "19                        Business   Mountain climbing   \n",
       "20                    Volunteering    Cultural tourism   \n",
       "21                        Business    Wildlife tourism   \n",
       "22            Leisure and Holidays    Wildlife tourism   \n",
       "23            Leisure and Holidays       Beach tourism   \n",
       "24            Leisure and Holidays    Wildlife tourism   \n",
       "25         Scientific and Academic       Beach tourism   \n",
       "26                        Business    Wildlife tourism   \n",
       "27            Leisure and Holidays    Wildlife tourism   \n",
       "28            Leisure and Holidays    Wildlife tourism   \n",
       "29            Leisure and Holidays  Conference tourism   \n",
       "30                    Volunteering     Hunting tourism   \n",
       "31  Visiting Friends and Relatives     Hunting tourism   \n",
       "32            Leisure and Holidays    Wildlife tourism   \n",
       "33  Visiting Friends and Relatives       Bird watching   \n",
       "34  Visiting Friends and Relatives     Hunting tourism   \n",
       "35            Leisure and Holidays    Wildlife tourism   \n",
       "36  Visiting Friends and Relatives     Hunting tourism   \n",
       "37         Scientific and Academic   Mountain climbing   \n",
       "38            Leisure and Holidays       Beach tourism   \n",
       "39         Meetings and Conference       Beach tourism   \n",
       "40  Visiting Friends and Relatives       Beach tourism   \n",
       "41  Visiting Friends and Relatives       Beach tourism   \n",
       "42                    Volunteering    Cultural tourism   \n",
       "43            Leisure and Holidays    Wildlife tourism   \n",
       "44            Leisure and Holidays       Beach tourism   \n",
       "45                        Business            business   \n",
       "46  Visiting Friends and Relatives       Beach tourism   \n",
       "47            Leisure and Holidays    Wildlife tourism   \n",
       "48            Leisure and Holidays    Wildlife tourism   \n",
       "49  Visiting Friends and Relatives       Beach tourism   \n",
       "\n",
       "                       info_source tour_arrangement  ... package_sightseeing  \\\n",
       "0               Friends, relatives      Independent  ...                  No   \n",
       "1                           others      Independent  ...                  No   \n",
       "2               Friends, relatives      Independent  ...                  No   \n",
       "3     Travel, agent, tour operator     Package Tour  ...                 Yes   \n",
       "4     Travel, agent, tour operator      Independent  ...                  No   \n",
       "5     Travel, agent, tour operator     Package Tour  ...                 Yes   \n",
       "6               Friends, relatives      Independent  ...                  No   \n",
       "7     Travel, agent, tour operator     Package Tour  ...                 Yes   \n",
       "8     Travel, agent, tour operator      Independent  ...                  No   \n",
       "9     Travel, agent, tour operator      Independent  ...                  No   \n",
       "10                  Radio, TV, Web      Independent  ...                  No   \n",
       "11              Friends, relatives      Independent  ...                  No   \n",
       "12    Travel, agent, tour operator      Independent  ...                  No   \n",
       "13              Friends, relatives     Package Tour  ...                  No   \n",
       "14              Friends, relatives      Independent  ...                  No   \n",
       "15              Friends, relatives      Independent  ...                  No   \n",
       "16              Friends, relatives      Independent  ...                  No   \n",
       "17                  Radio, TV, Web      Independent  ...                  No   \n",
       "18              Friends, relatives      Independent  ...                  No   \n",
       "19              Friends, relatives      Independent  ...                  No   \n",
       "20         Tanzania Mission Abroad      Independent  ...                  No   \n",
       "21              Friends, relatives      Independent  ...                  No   \n",
       "22              Friends, relatives     Package Tour  ...                  No   \n",
       "23                  Radio, TV, Web      Independent  ...                  No   \n",
       "24                          others      Independent  ...                  No   \n",
       "25              Friends, relatives      Independent  ...                  No   \n",
       "26    Travel, agent, tour operator      Independent  ...                  No   \n",
       "27              Friends, relatives      Independent  ...                  No   \n",
       "28    Travel, agent, tour operator     Package Tour  ...                 Yes   \n",
       "29                          others     Package Tour  ...                 Yes   \n",
       "30              Friends, relatives      Independent  ...                  No   \n",
       "31              Friends, relatives      Independent  ...                  No   \n",
       "32                  Radio, TV, Web     Package Tour  ...                 Yes   \n",
       "33    Travel, agent, tour operator     Package Tour  ...                  No   \n",
       "34              Friends, relatives      Independent  ...                  No   \n",
       "35              Friends, relatives     Package Tour  ...                 Yes   \n",
       "36              Friends, relatives      Independent  ...                  No   \n",
       "37              inflight magazines     Package Tour  ...                  No   \n",
       "38  Newspaper, magazines,brochures      Independent  ...                  No   \n",
       "39              Friends, relatives      Independent  ...                  No   \n",
       "40              Friends, relatives      Independent  ...                  No   \n",
       "41              Friends, relatives      Independent  ...                  No   \n",
       "42    Travel, agent, tour operator      Independent  ...                  No   \n",
       "43              Friends, relatives      Independent  ...                  No   \n",
       "44                          others      Independent  ...                  No   \n",
       "45                          others      Independent  ...                  No   \n",
       "46              Friends, relatives     Package Tour  ...                  No   \n",
       "47    Travel, agent, tour operator      Independent  ...                  No   \n",
       "48    Travel, agent, tour operator     Package Tour  ...                 Yes   \n",
       "49              Friends, relatives      Independent  ...                  No   \n",
       "\n",
       "   package_guided_tour package_insurance night_mainland night_zanzibar  \\\n",
       "0                   No                No             13              0   \n",
       "1                   No                No             14              7   \n",
       "2                   No                No              1             31   \n",
       "3                  Yes                No             11              0   \n",
       "4                   No                No              7              4   \n",
       "5                  Yes                No              9              3   \n",
       "6                   No                No              9              0   \n",
       "7                  Yes               Yes             10              3   \n",
       "8                   No                No              4              0   \n",
       "9                   No                No              5              0   \n",
       "10                  No                No             17              3   \n",
       "11                  No                No             30              0   \n",
       "12                  No                No             11              3   \n",
       "13                  No                No             10              0   \n",
       "14                  No                No              2              0   \n",
       "15                  No                No              0              2   \n",
       "16                  No                No             24              0   \n",
       "17                  No                No              5              0   \n",
       "18                  No                No              3              0   \n",
       "19                  No                No              4              0   \n",
       "20                  No                No             70              0   \n",
       "21                  No                No              4              0   \n",
       "22                  No                No             10              0   \n",
       "23                  No                No              0             11   \n",
       "24                  No                No             20              6   \n",
       "25                  No                No             15              7   \n",
       "26                  No                No              1              0   \n",
       "27                  No                No             24              4   \n",
       "28                 Yes               Yes              4              4   \n",
       "29                 Yes               Yes             11              3   \n",
       "30                  No                No             56              0   \n",
       "31                  No                No             12              0   \n",
       "32                  No                No              6              5   \n",
       "33                  No                No              2              0   \n",
       "34                  No                No             11              0   \n",
       "35                 Yes                No             13             10   \n",
       "36                  No                No              3              0   \n",
       "37                  No                No              5              0   \n",
       "38                  No                No              2              0   \n",
       "39                  No                No             21              0   \n",
       "40                  No                No             10              0   \n",
       "41                  No                No             29              0   \n",
       "42                  No                No             27              2   \n",
       "43                  No                No             34              4   \n",
       "44                  No                No              0              5   \n",
       "45                  No                No             20              0   \n",
       "46                  No                No             10              7   \n",
       "47                  No                No             10              4   \n",
       "48                 Yes               Yes              4              3   \n",
       "49                  No                No              7              1   \n",
       "\n",
       "   payment_mode first_trip_tz                       most_impressing  \\\n",
       "0          Cash            No                       Friendly People   \n",
       "1          Cash           Yes  Wonderful Country, Landscape, Nature   \n",
       "2          Cash            No                  Excellent Experience   \n",
       "3          Cash           Yes                       Friendly People   \n",
       "4          Cash           Yes                           No comments   \n",
       "5          Cash           Yes                              Wildlife   \n",
       "6          Cash           Yes                       Friendly People   \n",
       "7          Cash           Yes                       Friendly People   \n",
       "8          Cash           Yes                                   NaN   \n",
       "9   Credit Card           Yes                       Friendly People   \n",
       "10         Cash           Yes  Wonderful Country, Landscape, Nature   \n",
       "11         Cash            No                  Excellent Experience   \n",
       "12         Cash           Yes                           No comments   \n",
       "13         Cash           Yes                           No comments   \n",
       "14         Cash           Yes                              Wildlife   \n",
       "15         Cash           Yes  Wonderful Country, Landscape, Nature   \n",
       "16         Cash            No                       Friendly People   \n",
       "17         Cash           Yes                       Friendly People   \n",
       "18         Cash           Yes                       Friendly People   \n",
       "19         Cash            No                       Friendly People   \n",
       "20         Cash           Yes  Wonderful Country, Landscape, Nature   \n",
       "21         Cash           Yes                           No comments   \n",
       "22  Credit Card            No                       Friendly People   \n",
       "23         Cash           Yes                              Wildlife   \n",
       "24         Cash           Yes                       Friendly People   \n",
       "25         Cash           Yes                           No comments   \n",
       "26  Credit Card           Yes                           No comments   \n",
       "27         Cash           Yes                          Good service   \n",
       "28         Cash           Yes                              Wildlife   \n",
       "29         Cash           Yes  Wonderful Country, Landscape, Nature   \n",
       "30  Credit Card            No                       Friendly People   \n",
       "31         Cash            No                       Friendly People   \n",
       "32         Cash           Yes                  Excellent Experience   \n",
       "33         Cash           Yes                           No comments   \n",
       "34         Cash            No                           No comments   \n",
       "35         Cash            No                              Wildlife   \n",
       "36         Cash           Yes                  Excellent Experience   \n",
       "37  Credit Card            No                              Wildlife   \n",
       "38        Other            No                       Friendly People   \n",
       "39  Credit Card            No                       Friendly People   \n",
       "40         Cash            No                  Excellent Experience   \n",
       "41         Cash            No                           No comments   \n",
       "42         Cash           Yes                           No comments   \n",
       "43         Cash           Yes                       Friendly People   \n",
       "44         Cash           Yes                           No comments   \n",
       "45         Cash           Yes                       Friendly People   \n",
       "46  Credit Card            No                       Friendly People   \n",
       "47         Cash           Yes                           No comments   \n",
       "48         Cash           Yes                           No comments   \n",
       "49         Cash            No                                   NaN   \n",
       "\n",
       "    total_cost                 upcountry  \n",
       "0     674602.5                    Europe  \n",
       "1    3214906.5                    Europe  \n",
       "2    3315000.0                    Europe  \n",
       "3    7790250.0                    Europe  \n",
       "4    1657500.0                     CHINA  \n",
       "5     120950.0                    Europe  \n",
       "6     466140.0           Southern Africa  \n",
       "7    3480750.0  UNITED STATES OF AMERICA  \n",
       "8     994500.0               West Africa  \n",
       "9    2486250.0                     INDIA  \n",
       "10   1117155.0                    BRAZIL  \n",
       "11   8121750.0                    CANADA  \n",
       "12    331500.0                    CANADA  \n",
       "13  11346650.0                    Europe  \n",
       "14    497250.0           Southern Africa  \n",
       "15    331500.0               East Africa  \n",
       "16   2000000.0                    Europe  \n",
       "17    331500.0                   MYANMAR  \n",
       "18   2269330.0                    Europe  \n",
       "19    377520.0               East Africa  \n",
       "20    711262.5                    Europe  \n",
       "21    497250.0               East Africa  \n",
       "22   7458750.0                    Europe  \n",
       "23   3734347.5              North Africa  \n",
       "24   5673325.0                    Europe  \n",
       "25    400000.0                    Europe  \n",
       "26    663000.0                    Europe  \n",
       "27    453866.0                    Europe  \n",
       "28  25442625.0                    Europe  \n",
       "29   6961500.0                    Europe  \n",
       "30   1707030.0                    Europe  \n",
       "31   5690100.0                    Europe  \n",
       "32   2652000.0                    Europe  \n",
       "33   2320500.0              North Africa  \n",
       "34   4267575.0                    Europe  \n",
       "35  17316000.0                     QATAR  \n",
       "36    663000.0           Southern Africa  \n",
       "37   3812250.0               East Africa  \n",
       "38    828750.0                     CHINA  \n",
       "39   3000000.0           Southern Africa  \n",
       "40    828750.0                    Europe  \n",
       "41  28450500.0                    Europe  \n",
       "42    745875.0                     JAPAN  \n",
       "43   3273562.5                     CHINA  \n",
       "44   3397875.0  UNITED STATES OF AMERICA  \n",
       "45   6132750.0                    Europe  \n",
       "46   4992526.0                    Europe  \n",
       "47   1588531.0                    Europe  \n",
       "48  34039950.0                    Europe  \n",
       "49   1657500.0                       UAE  \n",
       "\n",
       "[50 rows x 24 columns]"
      ]
     },
     "execution_count": 674,
     "metadata": {},
     "output_type": "execute_result"
    }
   ],
   "source": [
    "df.head(50)"
   ]
  },
  {
   "cell_type": "code",
   "execution_count": 675,
   "id": "f9ed9eb4-66dc-467a-b004-766923d90da2",
   "metadata": {},
   "outputs": [],
   "source": [
    "euro = df[df['upcountry'] == 'Europe' ]\n",
    "#i=df[df[‘Name’]==’Will’]\n",
    "#print(i)"
   ]
  },
  {
   "cell_type": "code",
   "execution_count": 676,
   "id": "b417e8f2-721d-48ff-bc10-44560c0043de",
   "metadata": {},
   "outputs": [
    {
     "data": {
      "text/html": [
       "<div>\n",
       "<style scoped>\n",
       "    .dataframe tbody tr th:only-of-type {\n",
       "        vertical-align: middle;\n",
       "    }\n",
       "\n",
       "    .dataframe tbody tr th {\n",
       "        vertical-align: top;\n",
       "    }\n",
       "\n",
       "    .dataframe thead th {\n",
       "        text-align: right;\n",
       "    }\n",
       "</style>\n",
       "<table border=\"1\" class=\"dataframe\">\n",
       "  <thead>\n",
       "    <tr style=\"text-align: right;\">\n",
       "      <th></th>\n",
       "      <th>ID</th>\n",
       "      <th>country</th>\n",
       "      <th>age_group</th>\n",
       "      <th>travel_with</th>\n",
       "      <th>total_female</th>\n",
       "      <th>total_male</th>\n",
       "      <th>purpose</th>\n",
       "      <th>main_activity</th>\n",
       "      <th>info_source</th>\n",
       "      <th>tour_arrangement</th>\n",
       "      <th>...</th>\n",
       "      <th>package_sightseeing</th>\n",
       "      <th>package_guided_tour</th>\n",
       "      <th>package_insurance</th>\n",
       "      <th>night_mainland</th>\n",
       "      <th>night_zanzibar</th>\n",
       "      <th>payment_mode</th>\n",
       "      <th>first_trip_tz</th>\n",
       "      <th>most_impressing</th>\n",
       "      <th>total_cost</th>\n",
       "      <th>upcountry</th>\n",
       "    </tr>\n",
       "  </thead>\n",
       "  <tbody>\n",
       "    <tr>\n",
       "      <th>0</th>\n",
       "      <td>tour_0</td>\n",
       "      <td>SWIZERLAND</td>\n",
       "      <td>45-64</td>\n",
       "      <td>Friends/Relatives</td>\n",
       "      <td>1.0</td>\n",
       "      <td>1.0</td>\n",
       "      <td>Leisure and Holidays</td>\n",
       "      <td>Wildlife tourism</td>\n",
       "      <td>Friends, relatives</td>\n",
       "      <td>Independent</td>\n",
       "      <td>...</td>\n",
       "      <td>No</td>\n",
       "      <td>No</td>\n",
       "      <td>No</td>\n",
       "      <td>13</td>\n",
       "      <td>0</td>\n",
       "      <td>Cash</td>\n",
       "      <td>No</td>\n",
       "      <td>Friendly People</td>\n",
       "      <td>674602.5</td>\n",
       "      <td>Europe</td>\n",
       "    </tr>\n",
       "    <tr>\n",
       "      <th>1</th>\n",
       "      <td>tour_10</td>\n",
       "      <td>UNITED KINGDOM</td>\n",
       "      <td>25-44</td>\n",
       "      <td>NaN</td>\n",
       "      <td>1.0</td>\n",
       "      <td>0.0</td>\n",
       "      <td>Leisure and Holidays</td>\n",
       "      <td>Cultural tourism</td>\n",
       "      <td>others</td>\n",
       "      <td>Independent</td>\n",
       "      <td>...</td>\n",
       "      <td>No</td>\n",
       "      <td>No</td>\n",
       "      <td>No</td>\n",
       "      <td>14</td>\n",
       "      <td>7</td>\n",
       "      <td>Cash</td>\n",
       "      <td>Yes</td>\n",
       "      <td>Wonderful Country, Landscape, Nature</td>\n",
       "      <td>3214906.5</td>\n",
       "      <td>Europe</td>\n",
       "    </tr>\n",
       "    <tr>\n",
       "      <th>2</th>\n",
       "      <td>tour_1000</td>\n",
       "      <td>UNITED KINGDOM</td>\n",
       "      <td>25-44</td>\n",
       "      <td>Alone</td>\n",
       "      <td>0.0</td>\n",
       "      <td>1.0</td>\n",
       "      <td>Visiting Friends and Relatives</td>\n",
       "      <td>Cultural tourism</td>\n",
       "      <td>Friends, relatives</td>\n",
       "      <td>Independent</td>\n",
       "      <td>...</td>\n",
       "      <td>No</td>\n",
       "      <td>No</td>\n",
       "      <td>No</td>\n",
       "      <td>1</td>\n",
       "      <td>31</td>\n",
       "      <td>Cash</td>\n",
       "      <td>No</td>\n",
       "      <td>Excellent Experience</td>\n",
       "      <td>3315000.0</td>\n",
       "      <td>Europe</td>\n",
       "    </tr>\n",
       "    <tr>\n",
       "      <th>3</th>\n",
       "      <td>tour_1002</td>\n",
       "      <td>UNITED KINGDOM</td>\n",
       "      <td>25-44</td>\n",
       "      <td>Spouse</td>\n",
       "      <td>1.0</td>\n",
       "      <td>1.0</td>\n",
       "      <td>Leisure and Holidays</td>\n",
       "      <td>Wildlife tourism</td>\n",
       "      <td>Travel, agent, tour operator</td>\n",
       "      <td>Package Tour</td>\n",
       "      <td>...</td>\n",
       "      <td>Yes</td>\n",
       "      <td>Yes</td>\n",
       "      <td>No</td>\n",
       "      <td>11</td>\n",
       "      <td>0</td>\n",
       "      <td>Cash</td>\n",
       "      <td>Yes</td>\n",
       "      <td>Friendly People</td>\n",
       "      <td>7790250.0</td>\n",
       "      <td>Europe</td>\n",
       "    </tr>\n",
       "    <tr>\n",
       "      <th>5</th>\n",
       "      <td>tour_1005</td>\n",
       "      <td>UNITED KINGDOM</td>\n",
       "      <td>25-44</td>\n",
       "      <td>NaN</td>\n",
       "      <td>0.0</td>\n",
       "      <td>1.0</td>\n",
       "      <td>Leisure and Holidays</td>\n",
       "      <td>Wildlife tourism</td>\n",
       "      <td>Travel, agent, tour operator</td>\n",
       "      <td>Package Tour</td>\n",
       "      <td>...</td>\n",
       "      <td>Yes</td>\n",
       "      <td>Yes</td>\n",
       "      <td>No</td>\n",
       "      <td>9</td>\n",
       "      <td>3</td>\n",
       "      <td>Cash</td>\n",
       "      <td>Yes</td>\n",
       "      <td>Wildlife</td>\n",
       "      <td>120950.0</td>\n",
       "      <td>Europe</td>\n",
       "    </tr>\n",
       "    <tr>\n",
       "      <th>...</th>\n",
       "      <td>...</td>\n",
       "      <td>...</td>\n",
       "      <td>...</td>\n",
       "      <td>...</td>\n",
       "      <td>...</td>\n",
       "      <td>...</td>\n",
       "      <td>...</td>\n",
       "      <td>...</td>\n",
       "      <td>...</td>\n",
       "      <td>...</td>\n",
       "      <td>...</td>\n",
       "      <td>...</td>\n",
       "      <td>...</td>\n",
       "      <td>...</td>\n",
       "      <td>...</td>\n",
       "      <td>...</td>\n",
       "      <td>...</td>\n",
       "      <td>...</td>\n",
       "      <td>...</td>\n",
       "      <td>...</td>\n",
       "      <td>...</td>\n",
       "    </tr>\n",
       "    <tr>\n",
       "      <th>4798</th>\n",
       "      <td>tour_985</td>\n",
       "      <td>SWEDEN</td>\n",
       "      <td>45-64</td>\n",
       "      <td>NaN</td>\n",
       "      <td>1.0</td>\n",
       "      <td>0.0</td>\n",
       "      <td>Business</td>\n",
       "      <td>Wildlife tourism</td>\n",
       "      <td>others</td>\n",
       "      <td>Independent</td>\n",
       "      <td>...</td>\n",
       "      <td>No</td>\n",
       "      <td>No</td>\n",
       "      <td>No</td>\n",
       "      <td>3</td>\n",
       "      <td>0</td>\n",
       "      <td>Cash</td>\n",
       "      <td>No</td>\n",
       "      <td>No comments</td>\n",
       "      <td>1657500.0</td>\n",
       "      <td>Europe</td>\n",
       "    </tr>\n",
       "    <tr>\n",
       "      <th>4801</th>\n",
       "      <td>tour_989</td>\n",
       "      <td>ITALY</td>\n",
       "      <td>45-64</td>\n",
       "      <td>Friends/Relatives</td>\n",
       "      <td>1.0</td>\n",
       "      <td>1.0</td>\n",
       "      <td>Meetings and Conference</td>\n",
       "      <td>Mountain climbing</td>\n",
       "      <td>Newspaper, magazines,brochures</td>\n",
       "      <td>Independent</td>\n",
       "      <td>...</td>\n",
       "      <td>No</td>\n",
       "      <td>No</td>\n",
       "      <td>No</td>\n",
       "      <td>5</td>\n",
       "      <td>0</td>\n",
       "      <td>Cash</td>\n",
       "      <td>Yes</td>\n",
       "      <td>Wonderful Country, Landscape, Nature</td>\n",
       "      <td>2269330.0</td>\n",
       "      <td>Europe</td>\n",
       "    </tr>\n",
       "    <tr>\n",
       "      <th>4803</th>\n",
       "      <td>tour_991</td>\n",
       "      <td>GERMANY</td>\n",
       "      <td>2022-01-24 00:00:00</td>\n",
       "      <td>Friends/Relatives</td>\n",
       "      <td>2.0</td>\n",
       "      <td>0.0</td>\n",
       "      <td>Leisure and Holidays</td>\n",
       "      <td>Beach tourism</td>\n",
       "      <td>Newspaper, magazines,brochures</td>\n",
       "      <td>Independent</td>\n",
       "      <td>...</td>\n",
       "      <td>No</td>\n",
       "      <td>No</td>\n",
       "      <td>No</td>\n",
       "      <td>12</td>\n",
       "      <td>7</td>\n",
       "      <td>Cash</td>\n",
       "      <td>Yes</td>\n",
       "      <td>No comments</td>\n",
       "      <td>331500.0</td>\n",
       "      <td>Europe</td>\n",
       "    </tr>\n",
       "    <tr>\n",
       "      <th>4806</th>\n",
       "      <td>tour_995</td>\n",
       "      <td>NETHERLANDS</td>\n",
       "      <td>2022-01-24 00:00:00</td>\n",
       "      <td>NaN</td>\n",
       "      <td>1.0</td>\n",
       "      <td>0.0</td>\n",
       "      <td>Leisure and Holidays</td>\n",
       "      <td>Wildlife tourism</td>\n",
       "      <td>others</td>\n",
       "      <td>Independent</td>\n",
       "      <td>...</td>\n",
       "      <td>No</td>\n",
       "      <td>No</td>\n",
       "      <td>No</td>\n",
       "      <td>3</td>\n",
       "      <td>7</td>\n",
       "      <td>Cash</td>\n",
       "      <td>Yes</td>\n",
       "      <td>Good service</td>\n",
       "      <td>2246636.7</td>\n",
       "      <td>Europe</td>\n",
       "    </tr>\n",
       "    <tr>\n",
       "      <th>4808</th>\n",
       "      <td>tour_999</td>\n",
       "      <td>UNITED KINGDOM</td>\n",
       "      <td>25-44</td>\n",
       "      <td>Spouse</td>\n",
       "      <td>1.0</td>\n",
       "      <td>1.0</td>\n",
       "      <td>Leisure and Holidays</td>\n",
       "      <td>Wildlife tourism</td>\n",
       "      <td>Travel, agent, tour operator</td>\n",
       "      <td>Package Tour</td>\n",
       "      <td>...</td>\n",
       "      <td>Yes</td>\n",
       "      <td>Yes</td>\n",
       "      <td>No</td>\n",
       "      <td>4</td>\n",
       "      <td>7</td>\n",
       "      <td>Cash</td>\n",
       "      <td>Yes</td>\n",
       "      <td>Friendly People</td>\n",
       "      <td>13260000.0</td>\n",
       "      <td>Europe</td>\n",
       "    </tr>\n",
       "  </tbody>\n",
       "</table>\n",
       "<p>2054 rows × 24 columns</p>\n",
       "</div>"
      ],
      "text/plain": [
       "             ID         country            age_group        travel_with  \\\n",
       "0        tour_0      SWIZERLAND                45-64  Friends/Relatives   \n",
       "1       tour_10  UNITED KINGDOM                25-44                NaN   \n",
       "2     tour_1000  UNITED KINGDOM                25-44              Alone   \n",
       "3     tour_1002  UNITED KINGDOM                25-44             Spouse   \n",
       "5     tour_1005  UNITED KINGDOM                25-44                NaN   \n",
       "...         ...             ...                  ...                ...   \n",
       "4798   tour_985          SWEDEN                45-64                NaN   \n",
       "4801   tour_989           ITALY                45-64  Friends/Relatives   \n",
       "4803   tour_991         GERMANY  2022-01-24 00:00:00  Friends/Relatives   \n",
       "4806   tour_995     NETHERLANDS  2022-01-24 00:00:00                NaN   \n",
       "4808   tour_999  UNITED KINGDOM                25-44             Spouse   \n",
       "\n",
       "      total_female  total_male                         purpose  \\\n",
       "0              1.0         1.0            Leisure and Holidays   \n",
       "1              1.0         0.0            Leisure and Holidays   \n",
       "2              0.0         1.0  Visiting Friends and Relatives   \n",
       "3              1.0         1.0            Leisure and Holidays   \n",
       "5              0.0         1.0            Leisure and Holidays   \n",
       "...            ...         ...                             ...   \n",
       "4798           1.0         0.0                        Business   \n",
       "4801           1.0         1.0         Meetings and Conference   \n",
       "4803           2.0         0.0            Leisure and Holidays   \n",
       "4806           1.0         0.0            Leisure and Holidays   \n",
       "4808           1.0         1.0            Leisure and Holidays   \n",
       "\n",
       "          main_activity                     info_source tour_arrangement  ...  \\\n",
       "0      Wildlife tourism              Friends, relatives      Independent  ...   \n",
       "1      Cultural tourism                          others      Independent  ...   \n",
       "2      Cultural tourism              Friends, relatives      Independent  ...   \n",
       "3      Wildlife tourism    Travel, agent, tour operator     Package Tour  ...   \n",
       "5      Wildlife tourism    Travel, agent, tour operator     Package Tour  ...   \n",
       "...                 ...                             ...              ...  ...   \n",
       "4798   Wildlife tourism                          others      Independent  ...   \n",
       "4801  Mountain climbing  Newspaper, magazines,brochures      Independent  ...   \n",
       "4803      Beach tourism  Newspaper, magazines,brochures      Independent  ...   \n",
       "4806   Wildlife tourism                          others      Independent  ...   \n",
       "4808   Wildlife tourism    Travel, agent, tour operator     Package Tour  ...   \n",
       "\n",
       "     package_sightseeing package_guided_tour package_insurance night_mainland  \\\n",
       "0                     No                  No                No             13   \n",
       "1                     No                  No                No             14   \n",
       "2                     No                  No                No              1   \n",
       "3                    Yes                 Yes                No             11   \n",
       "5                    Yes                 Yes                No              9   \n",
       "...                  ...                 ...               ...            ...   \n",
       "4798                  No                  No                No              3   \n",
       "4801                  No                  No                No              5   \n",
       "4803                  No                  No                No             12   \n",
       "4806                  No                  No                No              3   \n",
       "4808                 Yes                 Yes                No              4   \n",
       "\n",
       "     night_zanzibar payment_mode first_trip_tz  \\\n",
       "0                 0         Cash            No   \n",
       "1                 7         Cash           Yes   \n",
       "2                31         Cash            No   \n",
       "3                 0         Cash           Yes   \n",
       "5                 3         Cash           Yes   \n",
       "...             ...          ...           ...   \n",
       "4798              0         Cash            No   \n",
       "4801              0         Cash           Yes   \n",
       "4803              7         Cash           Yes   \n",
       "4806              7         Cash           Yes   \n",
       "4808              7         Cash           Yes   \n",
       "\n",
       "                           most_impressing  total_cost upcountry  \n",
       "0                          Friendly People    674602.5    Europe  \n",
       "1     Wonderful Country, Landscape, Nature   3214906.5    Europe  \n",
       "2                     Excellent Experience   3315000.0    Europe  \n",
       "3                          Friendly People   7790250.0    Europe  \n",
       "5                                 Wildlife    120950.0    Europe  \n",
       "...                                    ...         ...       ...  \n",
       "4798                           No comments   1657500.0    Europe  \n",
       "4801  Wonderful Country, Landscape, Nature   2269330.0    Europe  \n",
       "4803                           No comments    331500.0    Europe  \n",
       "4806                          Good service   2246636.7    Europe  \n",
       "4808                       Friendly People  13260000.0    Europe  \n",
       "\n",
       "[2054 rows x 24 columns]"
      ]
     },
     "execution_count": 676,
     "metadata": {},
     "output_type": "execute_result"
    }
   ],
   "source": [
    "euro"
   ]
  },
  {
   "cell_type": "code",
   "execution_count": 677,
   "id": "5a2874e0-082a-4626-8321-c6ae100b2f23",
   "metadata": {},
   "outputs": [
    {
     "data": {
      "text/plain": [
       "Europe                      2054\n",
       "Southern Africa              732\n",
       "UNITED STATES OF AMERICA     695\n",
       "East Africa                  451\n",
       "AUSTRALIA                    186\n",
       "CANADA                       114\n",
       "Central Africa               105\n",
       "INDIA                         87\n",
       "CHINA                         65\n",
       "JAPAN                         53\n",
       "OMAN                          35\n",
       "UAE                           33\n",
       "MALAYSIA                      23\n",
       "NEW ZEALAND                   18\n",
       "North Africa                  18\n",
       "ISRAEL                        16\n",
       "UNITED ARAB EMIRATES          13\n",
       "KOREA                         12\n",
       "BRAZIL                        10\n",
       "TAIWAN                         9\n",
       "West Africa                    9\n",
       "QATAR                          8\n",
       "RUSSIA                         8\n",
       "SINGAPORE                      7\n",
       "PAKISTAN                       6\n",
       "TURKEY                         5\n",
       "COLOMBIA                       3\n",
       "INDONESIA                      3\n",
       "SRI LANKA                      3\n",
       "LEBANON                        3\n",
       "YEMEN                          2\n",
       "PHILIPINES                     2\n",
       "NEPAL                          2\n",
       "CHILE                          2\n",
       "THAILAND                       2\n",
       "KUWAIT                         2\n",
       "IRAN                           2\n",
       "MEXICO                         2\n",
       "URUGUAY                        1\n",
       "GEORGIA                        1\n",
       "ARGENTINA                      1\n",
       "TRINIDAD TOBACCO               1\n",
       "COSTARICA                      1\n",
       "IRAQ                           1\n",
       "DOMINICA                       1\n",
       "MYANMAR                        1\n",
       "BERMUDA                        1\n",
       "Name: upcountry, dtype: int64"
      ]
     },
     "execution_count": 677,
     "metadata": {},
     "output_type": "execute_result"
    }
   ],
   "source": [
    "df['upcountry'].value_counts()"
   ]
  },
  {
   "cell_type": "markdown",
   "id": "bc46f878-57b7-4605-b681-e65ae68e468d",
   "metadata": {},
   "source": [
    "## Asia"
   ]
  },
  {
   "cell_type": "code",
   "execution_count": 678,
   "id": "149f76a7-521a-4e2f-a767-c28ae517a637",
   "metadata": {},
   "outputs": [],
   "source": [
    "#(//div[@class='elementor-widget-container'])[55]"
   ]
  },
  {
   "cell_type": "code",
   "execution_count": 679,
   "id": "1fdde1c4-555d-42d4-8ee8-95ec6302eb95",
   "metadata": {},
   "outputs": [],
   "source": [
    "#(//div[@class='content-inner'])[1]"
   ]
  },
  {
   "cell_type": "code",
   "execution_count": 680,
   "id": "591d8f4b-0a3e-4789-b8a0-0021cfd99f8a",
   "metadata": {},
   "outputs": [],
   "source": [
    "driver.get(\"https://www.worldometers.info/geography/how-many-countries-in-asia/\")   \n",
    "time.sleep(15)"
   ]
  },
  {
   "cell_type": "code",
   "execution_count": 681,
   "id": "3e424cf0-fb75-4160-b80d-23a8557e0c44",
   "metadata": {},
   "outputs": [
    {
     "name": "stderr",
     "output_type": "stream",
     "text": [
      "C:\\Users\\Kofi\\AppData\\Local\\Temp/ipykernel_13564/3150918693.py:1: DeprecationWarning: find_element_by_xpath is deprecated. Please use find_element(by=By.XPATH, value=xpath) instead\n",
      "  i = driver.find_element_by_xpath(\"(//div[@class='content-inner'])[1]\")\n"
     ]
    }
   ],
   "source": [
    "i = driver.find_element_by_xpath(\"(//div[@class='content-inner'])[1]\")"
   ]
  },
  {
   "cell_type": "code",
   "execution_count": null,
   "id": "5569dae4-8147-41b1-ab48-318e638ff0b1",
   "metadata": {},
   "outputs": [],
   "source": []
  },
  {
   "cell_type": "code",
   "execution_count": 682,
   "id": "8ff801db-530b-4b55-9d52-bee448c00180",
   "metadata": {},
   "outputs": [],
   "source": [
    "text = i.text\n",
    "#(//tbody)[1]"
   ]
  },
  {
   "cell_type": "code",
   "execution_count": 683,
   "id": "6dce9a2c-51a2-4787-9ffc-5ce4915d35b8",
   "metadata": {},
   "outputs": [
    {
     "data": {
      "text/plain": [
       "str"
      ]
     },
     "execution_count": 683,
     "metadata": {},
     "output_type": "execute_result"
    }
   ],
   "source": [
    "type(text)"
   ]
  },
  {
   "cell_type": "code",
   "execution_count": 684,
   "id": "757d6496-59c9-4d90-b7c4-4c189db9d087",
   "metadata": {},
   "outputs": [],
   "source": [
    "rep = text.replace(\"\\n\", \". \")"
   ]
  },
  {
   "cell_type": "code",
   "execution_count": 685,
   "id": "84f796bd-69dd-4165-8d8d-c08dd864b146",
   "metadata": {},
   "outputs": [],
   "source": [
    "import re\n",
    "expression = re.compile(r'([A-Z][^\\.!?]*[\\.!?])')\n",
    "new_list = re.findall(expression, rep)"
   ]
  },
  {
   "cell_type": "code",
   "execution_count": 686,
   "id": "ec4675bf-1c4f-4bc8-a17b-9ee95110575b",
   "metadata": {},
   "outputs": [
    {
     "data": {
      "text/plain": [
       "['W How many Countries in Asia?',\n",
       " 'Countries in Asia:.',\n",
       " 'There are 48 countries in Asia today, according to the United Nations.',\n",
       " 'The full list is shown in the table below, with current population and subregion (based on the United Nations official statistics).',\n",
       " 'Not included in this total of \"countries\" and listed separately are:.',\n",
       " 'Dependencies (or dependent territories, dependent areas) or Areas of Special Sovereignty (autonomous territories).',\n",
       " 'Search:.',\n",
       " 'Country Population.',\n",
       " 'Subregion.',\n",
       " 'China 1,439,323,776 Eastern Asia.',\n",
       " 'India 1,380,004,385 Southern Asia.',\n",
       " 'Indonesia 273,523,615 South-Eastern Asia.',\n",
       " 'Pakistan 220,892,340 Southern Asia.',\n",
       " 'Bangladesh 164,689,383 Southern Asia.',\n",
       " 'Japan 126,476,461 Eastern Asia.',\n",
       " 'Philippines 109,581,078 South-Eastern Asia.',\n",
       " 'Vietnam 97,338,579 South-Eastern Asia.',\n",
       " 'Turkey 84,339,067 Western Asia.',\n",
       " 'Iran 83,992,949 Southern Asia.',\n",
       " 'Thailand 69,799,978 South-Eastern Asia.',\n",
       " 'Myanmar 54,409,800 South-Eastern Asia.',\n",
       " 'South Korea 51,269,185 Eastern Asia.',\n",
       " 'Iraq 40,222,493 Western Asia.',\n",
       " 'Afghanistan 38,928,346 Southern Asia.',\n",
       " 'Saudi Arabia 34,813,871 Western Asia.',\n",
       " 'Uzbekistan 33,469,203 Central Asia.',\n",
       " 'Malaysia 32,365,999 South-Eastern Asia.',\n",
       " 'Yemen 29,825,964 Western Asia.',\n",
       " 'Nepal 29,136,808 Southern Asia.',\n",
       " 'North Korea 25,778,816 Eastern Asia.',\n",
       " 'Sri Lanka 21,413,249 Southern Asia.',\n",
       " 'Kazakhstan 18,776,707 Central Asia.',\n",
       " 'Syria 17,500,658 Western Asia.',\n",
       " 'Cambodia 16,718,965 South-Eastern Asia.',\n",
       " 'Jordan 10,203,134 Western Asia.',\n",
       " 'Azerbaijan 10,139,177 Western Asia.',\n",
       " 'United Arab Emirates 9,890,402 Western Asia.',\n",
       " 'Tajikistan 9,537,645 Central Asia.',\n",
       " 'Israel 8,655,535 Western Asia.',\n",
       " 'Laos 7,275,560 South-Eastern Asia.',\n",
       " 'Lebanon 6,825,445 Western Asia.',\n",
       " 'Kyrgyzstan 6,524,195 Central Asia.',\n",
       " 'Turkmenistan 6,031,200 Central Asia.',\n",
       " 'Singapore 5,850,342 South-Eastern Asia.',\n",
       " 'Oman 5,106,626 Western Asia.',\n",
       " 'State of Palestine 5,101,414 Western Asia.',\n",
       " 'Kuwait 4,270,571 Western Asia.',\n",
       " 'Georgia 3,989,167 Western Asia.',\n",
       " 'Mongolia 3,278,290 Eastern Asia.',\n",
       " 'Armenia 2,963,243 Western Asia.',\n",
       " 'Qatar 2,881,053 Western Asia.',\n",
       " 'Bahrain 1,701,575 Western Asia.',\n",
       " 'Timor-Leste 1,318,445 South-Eastern Asia.',\n",
       " 'Cyprus 1,207,359 Western Asia.',\n",
       " 'Bhutan 771,608 Southern Asia.',\n",
       " 'Maldives 540,544 Southern Asia.',\n",
       " 'Brunei 437,479 South-Eastern Asia.',\n",
       " 'Dependencies or other territories.',\n",
       " 'Territory Population.',\n",
       " 'Dependency of.',\n",
       " 'Taiwan 23,816,775 (China).',\n",
       " 'Hong Kong 7,496,981 China.']"
      ]
     },
     "execution_count": 686,
     "metadata": {},
     "output_type": "execute_result"
    }
   ],
   "source": [
    "new_list"
   ]
  },
  {
   "cell_type": "code",
   "execution_count": null,
   "id": "9fd15773-0fb5-47f7-815f-e7965588ee99",
   "metadata": {},
   "outputs": [],
   "source": []
  },
  {
   "cell_type": "code",
   "execution_count": 687,
   "id": "5790f36c-70a1-4fb3-a409-04eed876e887",
   "metadata": {},
   "outputs": [],
   "source": [
    "converted_list = [x.upper() for x in new_list]"
   ]
  },
  {
   "cell_type": "code",
   "execution_count": 688,
   "id": "7efb5efb-ab93-4c7f-bc90-3eb40c559c77",
   "metadata": {},
   "outputs": [
    {
     "data": {
      "text/plain": [
       "['W HOW MANY COUNTRIES IN ASIA?',\n",
       " 'COUNTRIES IN ASIA:.',\n",
       " 'THERE ARE 48 COUNTRIES IN ASIA TODAY, ACCORDING TO THE UNITED NATIONS.',\n",
       " 'THE FULL LIST IS SHOWN IN THE TABLE BELOW, WITH CURRENT POPULATION AND SUBREGION (BASED ON THE UNITED NATIONS OFFICIAL STATISTICS).',\n",
       " 'NOT INCLUDED IN THIS TOTAL OF \"COUNTRIES\" AND LISTED SEPARATELY ARE:.',\n",
       " 'DEPENDENCIES (OR DEPENDENT TERRITORIES, DEPENDENT AREAS) OR AREAS OF SPECIAL SOVEREIGNTY (AUTONOMOUS TERRITORIES).',\n",
       " 'SEARCH:.',\n",
       " 'COUNTRY POPULATION.',\n",
       " 'SUBREGION.',\n",
       " 'CHINA 1,439,323,776 EASTERN ASIA.',\n",
       " 'INDIA 1,380,004,385 SOUTHERN ASIA.',\n",
       " 'INDONESIA 273,523,615 SOUTH-EASTERN ASIA.',\n",
       " 'PAKISTAN 220,892,340 SOUTHERN ASIA.',\n",
       " 'BANGLADESH 164,689,383 SOUTHERN ASIA.',\n",
       " 'JAPAN 126,476,461 EASTERN ASIA.',\n",
       " 'PHILIPPINES 109,581,078 SOUTH-EASTERN ASIA.',\n",
       " 'VIETNAM 97,338,579 SOUTH-EASTERN ASIA.',\n",
       " 'TURKEY 84,339,067 WESTERN ASIA.',\n",
       " 'IRAN 83,992,949 SOUTHERN ASIA.',\n",
       " 'THAILAND 69,799,978 SOUTH-EASTERN ASIA.',\n",
       " 'MYANMAR 54,409,800 SOUTH-EASTERN ASIA.',\n",
       " 'SOUTH KOREA 51,269,185 EASTERN ASIA.',\n",
       " 'IRAQ 40,222,493 WESTERN ASIA.',\n",
       " 'AFGHANISTAN 38,928,346 SOUTHERN ASIA.',\n",
       " 'SAUDI ARABIA 34,813,871 WESTERN ASIA.',\n",
       " 'UZBEKISTAN 33,469,203 CENTRAL ASIA.',\n",
       " 'MALAYSIA 32,365,999 SOUTH-EASTERN ASIA.',\n",
       " 'YEMEN 29,825,964 WESTERN ASIA.',\n",
       " 'NEPAL 29,136,808 SOUTHERN ASIA.',\n",
       " 'NORTH KOREA 25,778,816 EASTERN ASIA.',\n",
       " 'SRI LANKA 21,413,249 SOUTHERN ASIA.',\n",
       " 'KAZAKHSTAN 18,776,707 CENTRAL ASIA.',\n",
       " 'SYRIA 17,500,658 WESTERN ASIA.',\n",
       " 'CAMBODIA 16,718,965 SOUTH-EASTERN ASIA.',\n",
       " 'JORDAN 10,203,134 WESTERN ASIA.',\n",
       " 'AZERBAIJAN 10,139,177 WESTERN ASIA.',\n",
       " 'UNITED ARAB EMIRATES 9,890,402 WESTERN ASIA.',\n",
       " 'TAJIKISTAN 9,537,645 CENTRAL ASIA.',\n",
       " 'ISRAEL 8,655,535 WESTERN ASIA.',\n",
       " 'LAOS 7,275,560 SOUTH-EASTERN ASIA.',\n",
       " 'LEBANON 6,825,445 WESTERN ASIA.',\n",
       " 'KYRGYZSTAN 6,524,195 CENTRAL ASIA.',\n",
       " 'TURKMENISTAN 6,031,200 CENTRAL ASIA.',\n",
       " 'SINGAPORE 5,850,342 SOUTH-EASTERN ASIA.',\n",
       " 'OMAN 5,106,626 WESTERN ASIA.',\n",
       " 'STATE OF PALESTINE 5,101,414 WESTERN ASIA.',\n",
       " 'KUWAIT 4,270,571 WESTERN ASIA.',\n",
       " 'GEORGIA 3,989,167 WESTERN ASIA.',\n",
       " 'MONGOLIA 3,278,290 EASTERN ASIA.',\n",
       " 'ARMENIA 2,963,243 WESTERN ASIA.',\n",
       " 'QATAR 2,881,053 WESTERN ASIA.',\n",
       " 'BAHRAIN 1,701,575 WESTERN ASIA.',\n",
       " 'TIMOR-LESTE 1,318,445 SOUTH-EASTERN ASIA.',\n",
       " 'CYPRUS 1,207,359 WESTERN ASIA.',\n",
       " 'BHUTAN 771,608 SOUTHERN ASIA.',\n",
       " 'MALDIVES 540,544 SOUTHERN ASIA.',\n",
       " 'BRUNEI 437,479 SOUTH-EASTERN ASIA.',\n",
       " 'DEPENDENCIES OR OTHER TERRITORIES.',\n",
       " 'TERRITORY POPULATION.',\n",
       " 'DEPENDENCY OF.',\n",
       " 'TAIWAN 23,816,775 (CHINA).',\n",
       " 'HONG KONG 7,496,981 CHINA.']"
      ]
     },
     "execution_count": 688,
     "metadata": {},
     "output_type": "execute_result"
    }
   ],
   "source": [
    "converted_list"
   ]
  },
  {
   "cell_type": "code",
   "execution_count": null,
   "id": "651c3ba0-3041-4e30-b4dc-dc7e4cbade72",
   "metadata": {},
   "outputs": [],
   "source": []
  },
  {
   "cell_type": "code",
   "execution_count": 689,
   "id": "cce1f14f-ae10-4b9b-b83e-5d81fb1390d4",
   "metadata": {},
   "outputs": [],
   "source": [
    "co = str(converted_list)"
   ]
  },
  {
   "cell_type": "code",
   "execution_count": 690,
   "id": "9fa8f36e-3a2b-47ec-a135-6b51008c6e7a",
   "metadata": {},
   "outputs": [],
   "source": [
    "from itertools import chain"
   ]
  },
  {
   "cell_type": "code",
   "execution_count": 691,
   "id": "a5f9a0cd-122b-4568-875b-c36966f6eb1f",
   "metadata": {},
   "outputs": [],
   "source": [
    "coming = ' '.join(str(v) for v in converted_list)"
   ]
  },
  {
   "cell_type": "code",
   "execution_count": 692,
   "id": "a9ccf09c-87f6-414d-9388-2c72f09f710b",
   "metadata": {},
   "outputs": [
    {
     "data": {
      "text/plain": [
       "'W HOW MANY COUNTRIES IN ASIA? COUNTRIES IN ASIA:. THERE ARE 48 COUNTRIES IN ASIA TODAY, ACCORDING TO THE UNITED NATIONS. THE FULL LIST IS SHOWN IN THE TABLE BELOW, WITH CURRENT POPULATION AND SUBREGION (BASED ON THE UNITED NATIONS OFFICIAL STATISTICS). NOT INCLUDED IN THIS TOTAL OF \"COUNTRIES\" AND LISTED SEPARATELY ARE:. DEPENDENCIES (OR DEPENDENT TERRITORIES, DEPENDENT AREAS) OR AREAS OF SPECIAL SOVEREIGNTY (AUTONOMOUS TERRITORIES). SEARCH:. COUNTRY POPULATION. SUBREGION. CHINA 1,439,323,776 EASTERN ASIA. INDIA 1,380,004,385 SOUTHERN ASIA. INDONESIA 273,523,615 SOUTH-EASTERN ASIA. PAKISTAN 220,892,340 SOUTHERN ASIA. BANGLADESH 164,689,383 SOUTHERN ASIA. JAPAN 126,476,461 EASTERN ASIA. PHILIPPINES 109,581,078 SOUTH-EASTERN ASIA. VIETNAM 97,338,579 SOUTH-EASTERN ASIA. TURKEY 84,339,067 WESTERN ASIA. IRAN 83,992,949 SOUTHERN ASIA. THAILAND 69,799,978 SOUTH-EASTERN ASIA. MYANMAR 54,409,800 SOUTH-EASTERN ASIA. SOUTH KOREA 51,269,185 EASTERN ASIA. IRAQ 40,222,493 WESTERN ASIA. AFGHANISTAN 38,928,346 SOUTHERN ASIA. SAUDI ARABIA 34,813,871 WESTERN ASIA. UZBEKISTAN 33,469,203 CENTRAL ASIA. MALAYSIA 32,365,999 SOUTH-EASTERN ASIA. YEMEN 29,825,964 WESTERN ASIA. NEPAL 29,136,808 SOUTHERN ASIA. NORTH KOREA 25,778,816 EASTERN ASIA. SRI LANKA 21,413,249 SOUTHERN ASIA. KAZAKHSTAN 18,776,707 CENTRAL ASIA. SYRIA 17,500,658 WESTERN ASIA. CAMBODIA 16,718,965 SOUTH-EASTERN ASIA. JORDAN 10,203,134 WESTERN ASIA. AZERBAIJAN 10,139,177 WESTERN ASIA. UNITED ARAB EMIRATES 9,890,402 WESTERN ASIA. TAJIKISTAN 9,537,645 CENTRAL ASIA. ISRAEL 8,655,535 WESTERN ASIA. LAOS 7,275,560 SOUTH-EASTERN ASIA. LEBANON 6,825,445 WESTERN ASIA. KYRGYZSTAN 6,524,195 CENTRAL ASIA. TURKMENISTAN 6,031,200 CENTRAL ASIA. SINGAPORE 5,850,342 SOUTH-EASTERN ASIA. OMAN 5,106,626 WESTERN ASIA. STATE OF PALESTINE 5,101,414 WESTERN ASIA. KUWAIT 4,270,571 WESTERN ASIA. GEORGIA 3,989,167 WESTERN ASIA. MONGOLIA 3,278,290 EASTERN ASIA. ARMENIA 2,963,243 WESTERN ASIA. QATAR 2,881,053 WESTERN ASIA. BAHRAIN 1,701,575 WESTERN ASIA. TIMOR-LESTE 1,318,445 SOUTH-EASTERN ASIA. CYPRUS 1,207,359 WESTERN ASIA. BHUTAN 771,608 SOUTHERN ASIA. MALDIVES 540,544 SOUTHERN ASIA. BRUNEI 437,479 SOUTH-EASTERN ASIA. DEPENDENCIES OR OTHER TERRITORIES. TERRITORY POPULATION. DEPENDENCY OF. TAIWAN 23,816,775 (CHINA). HONG KONG 7,496,981 CHINA.'"
      ]
     },
     "execution_count": 692,
     "metadata": {},
     "output_type": "execute_result"
    }
   ],
   "source": [
    "coming"
   ]
  },
  {
   "cell_type": "code",
   "execution_count": 693,
   "id": "4b42f7b7-ab55-4200-9633-dad25456fab0",
   "metadata": {},
   "outputs": [],
   "source": [
    "come = coming.replace(\".\", \"\")\n",
    "com = come.replace(\"REPUBLIC\", \"\")\n",
    "come= com.replace(\"OF\", \"\")\n"
   ]
  },
  {
   "cell_type": "code",
   "execution_count": 694,
   "id": "74b6d498-12e8-4713-8393-5db66421fd8f",
   "metadata": {},
   "outputs": [
    {
     "data": {
      "text/plain": [
       "'W HOW MANY COUNTRIES IN ASIA? COUNTRIES IN ASIA: THERE ARE 48 COUNTRIES IN ASIA TODAY, ACCORDING TO THE UNITED NATIONS THE FULL LIST IS SHOWN IN THE TABLE BELOW, WITH CURRENT POPULATION AND SUBREGION (BASED ON THE UNITED NATIONS FICIAL STATISTICS) NOT INCLUDED IN THIS TOTAL  \"COUNTRIES\" AND LISTED SEPARATELY ARE: DEPENDENCIES (OR DEPENDENT TERRITORIES, DEPENDENT AREAS) OR AREAS  SPECIAL SOVEREIGNTY (AUTONOMOUS TERRITORIES) SEARCH: COUNTRY POPULATION SUBREGION CHINA 1,439,323,776 EASTERN ASIA INDIA 1,380,004,385 SOUTHERN ASIA INDONESIA 273,523,615 SOUTH-EASTERN ASIA PAKISTAN 220,892,340 SOUTHERN ASIA BANGLADESH 164,689,383 SOUTHERN ASIA JAPAN 126,476,461 EASTERN ASIA PHILIPPINES 109,581,078 SOUTH-EASTERN ASIA VIETNAM 97,338,579 SOUTH-EASTERN ASIA TURKEY 84,339,067 WESTERN ASIA IRAN 83,992,949 SOUTHERN ASIA THAILAND 69,799,978 SOUTH-EASTERN ASIA MYANMAR 54,409,800 SOUTH-EASTERN ASIA SOUTH KOREA 51,269,185 EASTERN ASIA IRAQ 40,222,493 WESTERN ASIA AFGHANISTAN 38,928,346 SOUTHERN ASIA SAUDI ARABIA 34,813,871 WESTERN ASIA UZBEKISTAN 33,469,203 CENTRAL ASIA MALAYSIA 32,365,999 SOUTH-EASTERN ASIA YEMEN 29,825,964 WESTERN ASIA NEPAL 29,136,808 SOUTHERN ASIA NORTH KOREA 25,778,816 EASTERN ASIA SRI LANKA 21,413,249 SOUTHERN ASIA KAZAKHSTAN 18,776,707 CENTRAL ASIA SYRIA 17,500,658 WESTERN ASIA CAMBODIA 16,718,965 SOUTH-EASTERN ASIA JORDAN 10,203,134 WESTERN ASIA AZERBAIJAN 10,139,177 WESTERN ASIA UNITED ARAB EMIRATES 9,890,402 WESTERN ASIA TAJIKISTAN 9,537,645 CENTRAL ASIA ISRAEL 8,655,535 WESTERN ASIA LAOS 7,275,560 SOUTH-EASTERN ASIA LEBANON 6,825,445 WESTERN ASIA KYRGYZSTAN 6,524,195 CENTRAL ASIA TURKMENISTAN 6,031,200 CENTRAL ASIA SINGAPORE 5,850,342 SOUTH-EASTERN ASIA OMAN 5,106,626 WESTERN ASIA STATE  PALESTINE 5,101,414 WESTERN ASIA KUWAIT 4,270,571 WESTERN ASIA GEORGIA 3,989,167 WESTERN ASIA MONGOLIA 3,278,290 EASTERN ASIA ARMENIA 2,963,243 WESTERN ASIA QATAR 2,881,053 WESTERN ASIA BAHRAIN 1,701,575 WESTERN ASIA TIMOR-LESTE 1,318,445 SOUTH-EASTERN ASIA CYPRUS 1,207,359 WESTERN ASIA BHUTAN 771,608 SOUTHERN ASIA MALDIVES 540,544 SOUTHERN ASIA BRUNEI 437,479 SOUTH-EASTERN ASIA DEPENDENCIES OR OTHER TERRITORIES TERRITORY POPULATION DEPENDENCY  TAIWAN 23,816,775 (CHINA) HONG KONG 7,496,981 CHINA'"
      ]
     },
     "execution_count": 694,
     "metadata": {},
     "output_type": "execute_result"
    }
   ],
   "source": [
    "come"
   ]
  },
  {
   "cell_type": "code",
   "execution_count": 695,
   "id": "897399fe-0197-4eb4-82c5-0817c0450371",
   "metadata": {},
   "outputs": [],
   "source": [
    "# i need to get the intersection of countries"
   ]
  },
  {
   "cell_type": "code",
   "execution_count": null,
   "id": "9c05b320-b8d3-4d47-9302-8bbb0c8df6d6",
   "metadata": {},
   "outputs": [],
   "source": []
  },
  {
   "cell_type": "code",
   "execution_count": 696,
   "id": "ff29cd04-de34-4194-9200-1d776ac6bdef",
   "metadata": {},
   "outputs": [],
   "source": [
    "#movi\n",
    "#come\n",
    "\n",
    "read = set(result.split()) & set(come.split())"
   ]
  },
  {
   "cell_type": "code",
   "execution_count": 697,
   "id": "ac3b4a3b-89e1-4869-96a0-dec967b15023",
   "metadata": {},
   "outputs": [],
   "source": [
    "readd = list(read)"
   ]
  },
  {
   "cell_type": "code",
   "execution_count": 698,
   "id": "700ded9e-06bc-46e7-be0a-06ccca39a509",
   "metadata": {},
   "outputs": [],
   "source": [
    "readd.append(\"RUSSIA\")\n",
    "readd.append(\"SRI LANKA\")\n",
    "readd.append(\"PHILIPINES\")"
   ]
  },
  {
   "cell_type": "code",
   "execution_count": 699,
   "id": "ddbc6c1c-c664-40e7-94e7-4caca3d6e09b",
   "metadata": {},
   "outputs": [
    {
     "data": {
      "text/plain": [
       "['TURKEY',\n",
       " 'EMIRATES',\n",
       " 'MALAYSIA',\n",
       " 'JAPAN',\n",
       " 'IRAN',\n",
       " 'SINGAPORE',\n",
       " 'LANKA',\n",
       " 'CYPRUS',\n",
       " 'TAIWAN',\n",
       " 'MYANMAR',\n",
       " 'OMAN',\n",
       " 'PAKISTAN',\n",
       " 'ISRAEL',\n",
       " 'KOREA',\n",
       " 'THAILAND',\n",
       " 'SRI',\n",
       " 'ARAB',\n",
       " 'YEMEN',\n",
       " 'QATAR',\n",
       " 'NEPAL',\n",
       " 'INDONESIA',\n",
       " 'KUWAIT',\n",
       " 'IRAQ',\n",
       " 'GEORGIA',\n",
       " 'CHINA',\n",
       " 'UNITED',\n",
       " 'LEBANON',\n",
       " 'INDIA',\n",
       " 'SOUTH',\n",
       " 'RUSSIA',\n",
       " 'SRI LANKA',\n",
       " 'PHILIPINES']"
      ]
     },
     "execution_count": 699,
     "metadata": {},
     "output_type": "execute_result"
    }
   ],
   "source": [
    "readd"
   ]
  },
  {
   "cell_type": "code",
   "execution_count": 700,
   "id": "85561cf8-e620-4dd4-853b-f1590063f625",
   "metadata": {},
   "outputs": [],
   "source": [
    "i = len(readd)"
   ]
  },
  {
   "cell_type": "code",
   "execution_count": 701,
   "id": "f6006187-0173-4bc8-9b6e-5cadcfc8ae65",
   "metadata": {},
   "outputs": [],
   "source": [
    "matches = []\n",
    "\n",
    "for match in list1:\n",
    "    if readd[i-1] in match:\n",
    "        matches.append(match)\n",
    "        i-=1"
   ]
  },
  {
   "cell_type": "code",
   "execution_count": 702,
   "id": "3244d91e-1e71-42bf-868c-16fdae9d0388",
   "metadata": {},
   "outputs": [
    {
     "data": {
      "text/plain": [
       "list"
      ]
     },
     "execution_count": 702,
     "metadata": {},
     "output_type": "execute_result"
    }
   ],
   "source": [
    "type(matches)"
   ]
  },
  {
   "cell_type": "code",
   "execution_count": 703,
   "id": "a08253df-e2b6-4e90-b0d2-a049103c63c2",
   "metadata": {},
   "outputs": [],
   "source": [
    "i = len(readd)"
   ]
  },
  {
   "cell_type": "code",
   "execution_count": 704,
   "id": "c366543c-fbf9-4275-9c97-4f2825304e7a",
   "metadata": {},
   "outputs": [
    {
     "data": {
      "text/plain": [
       "32"
      ]
     },
     "execution_count": 704,
     "metadata": {},
     "output_type": "execute_result"
    }
   ],
   "source": [
    "i"
   ]
  },
  {
   "cell_type": "code",
   "execution_count": 705,
   "id": "e04b73a7-e825-43bc-9a10-f5ca79ed02b1",
   "metadata": {},
   "outputs": [
    {
     "data": {
      "text/plain": [
       "'PHILIPINES'"
      ]
     },
     "execution_count": 705,
     "metadata": {},
     "output_type": "execute_result"
    }
   ],
   "source": [
    "readd[i-1]"
   ]
  },
  {
   "cell_type": "code",
   "execution_count": 706,
   "id": "4115de99-4301-48f0-a6a5-1ea5f4c3a1b4",
   "metadata": {},
   "outputs": [
    {
     "data": {
      "text/plain": [
       "pandas.core.frame.DataFrame"
      ]
     },
     "execution_count": 706,
     "metadata": {},
     "output_type": "execute_result"
    }
   ],
   "source": [
    "type(df)"
   ]
  },
  {
   "cell_type": "code",
   "execution_count": 707,
   "id": "885b308f-72e7-45f0-8a0c-1cf48d224bd5",
   "metadata": {},
   "outputs": [],
   "source": [
    "df.upcountry.replace(readd, 'Asia', inplace=True)"
   ]
  },
  {
   "cell_type": "code",
   "execution_count": 708,
   "id": "f7cc7359-4e4f-4dc4-90bc-20f2c8309e4e",
   "metadata": {},
   "outputs": [],
   "source": [
    "asia = df[df['upcountry'] == 'Asia' ]\n",
    "#i=df[df[‘Name’]==’Will’]\n",
    "#print(i)"
   ]
  },
  {
   "cell_type": "code",
   "execution_count": 709,
   "id": "3e6c27a6-27b4-4789-8021-03055a8f2d4e",
   "metadata": {
    "tags": []
   },
   "outputs": [
    {
     "data": {
      "text/html": [
       "<div>\n",
       "<style scoped>\n",
       "    .dataframe tbody tr th:only-of-type {\n",
       "        vertical-align: middle;\n",
       "    }\n",
       "\n",
       "    .dataframe tbody tr th {\n",
       "        vertical-align: top;\n",
       "    }\n",
       "\n",
       "    .dataframe thead th {\n",
       "        text-align: right;\n",
       "    }\n",
       "</style>\n",
       "<table border=\"1\" class=\"dataframe\">\n",
       "  <thead>\n",
       "    <tr style=\"text-align: right;\">\n",
       "      <th></th>\n",
       "      <th>ID</th>\n",
       "      <th>country</th>\n",
       "      <th>age_group</th>\n",
       "      <th>travel_with</th>\n",
       "      <th>total_female</th>\n",
       "      <th>total_male</th>\n",
       "      <th>purpose</th>\n",
       "      <th>main_activity</th>\n",
       "      <th>info_source</th>\n",
       "      <th>tour_arrangement</th>\n",
       "      <th>...</th>\n",
       "      <th>package_sightseeing</th>\n",
       "      <th>package_guided_tour</th>\n",
       "      <th>package_insurance</th>\n",
       "      <th>night_mainland</th>\n",
       "      <th>night_zanzibar</th>\n",
       "      <th>payment_mode</th>\n",
       "      <th>first_trip_tz</th>\n",
       "      <th>most_impressing</th>\n",
       "      <th>total_cost</th>\n",
       "      <th>upcountry</th>\n",
       "    </tr>\n",
       "  </thead>\n",
       "  <tbody>\n",
       "    <tr>\n",
       "      <th>4</th>\n",
       "      <td>tour_1004</td>\n",
       "      <td>CHINA</td>\n",
       "      <td>2022-01-24 00:00:00</td>\n",
       "      <td>NaN</td>\n",
       "      <td>1.0</td>\n",
       "      <td>0.0</td>\n",
       "      <td>Leisure and Holidays</td>\n",
       "      <td>Wildlife tourism</td>\n",
       "      <td>Travel, agent, tour operator</td>\n",
       "      <td>Independent</td>\n",
       "      <td>...</td>\n",
       "      <td>No</td>\n",
       "      <td>No</td>\n",
       "      <td>No</td>\n",
       "      <td>7</td>\n",
       "      <td>4</td>\n",
       "      <td>Cash</td>\n",
       "      <td>Yes</td>\n",
       "      <td>No comments</td>\n",
       "      <td>1657500.0</td>\n",
       "      <td>Asia</td>\n",
       "    </tr>\n",
       "    <tr>\n",
       "      <th>9</th>\n",
       "      <td>tour_1011</td>\n",
       "      <td>INDIA</td>\n",
       "      <td>25-44</td>\n",
       "      <td>Alone</td>\n",
       "      <td>1.0</td>\n",
       "      <td>0.0</td>\n",
       "      <td>Business</td>\n",
       "      <td>Wildlife tourism</td>\n",
       "      <td>Travel, agent, tour operator</td>\n",
       "      <td>Independent</td>\n",
       "      <td>...</td>\n",
       "      <td>No</td>\n",
       "      <td>No</td>\n",
       "      <td>No</td>\n",
       "      <td>5</td>\n",
       "      <td>0</td>\n",
       "      <td>Credit Card</td>\n",
       "      <td>Yes</td>\n",
       "      <td>Friendly People</td>\n",
       "      <td>2486250.0</td>\n",
       "      <td>Asia</td>\n",
       "    </tr>\n",
       "    <tr>\n",
       "      <th>17</th>\n",
       "      <td>tour_1022</td>\n",
       "      <td>MYANMAR</td>\n",
       "      <td>25-44</td>\n",
       "      <td>NaN</td>\n",
       "      <td>1.0</td>\n",
       "      <td>0.0</td>\n",
       "      <td>Meetings and Conference</td>\n",
       "      <td>Wildlife tourism</td>\n",
       "      <td>Radio, TV, Web</td>\n",
       "      <td>Independent</td>\n",
       "      <td>...</td>\n",
       "      <td>No</td>\n",
       "      <td>No</td>\n",
       "      <td>No</td>\n",
       "      <td>5</td>\n",
       "      <td>0</td>\n",
       "      <td>Cash</td>\n",
       "      <td>Yes</td>\n",
       "      <td>Friendly People</td>\n",
       "      <td>331500.0</td>\n",
       "      <td>Asia</td>\n",
       "    </tr>\n",
       "    <tr>\n",
       "      <th>35</th>\n",
       "      <td>tour_1042</td>\n",
       "      <td>QATAR</td>\n",
       "      <td>25-44</td>\n",
       "      <td>Friends/Relatives</td>\n",
       "      <td>2.0</td>\n",
       "      <td>2.0</td>\n",
       "      <td>Leisure and Holidays</td>\n",
       "      <td>Wildlife tourism</td>\n",
       "      <td>Friends, relatives</td>\n",
       "      <td>Package Tour</td>\n",
       "      <td>...</td>\n",
       "      <td>Yes</td>\n",
       "      <td>Yes</td>\n",
       "      <td>No</td>\n",
       "      <td>13</td>\n",
       "      <td>10</td>\n",
       "      <td>Cash</td>\n",
       "      <td>No</td>\n",
       "      <td>Wildlife</td>\n",
       "      <td>17316000.0</td>\n",
       "      <td>Asia</td>\n",
       "    </tr>\n",
       "    <tr>\n",
       "      <th>38</th>\n",
       "      <td>tour_1046</td>\n",
       "      <td>CHINA</td>\n",
       "      <td>25-44</td>\n",
       "      <td>Alone</td>\n",
       "      <td>1.0</td>\n",
       "      <td>0.0</td>\n",
       "      <td>Leisure and Holidays</td>\n",
       "      <td>Beach tourism</td>\n",
       "      <td>Newspaper, magazines,brochures</td>\n",
       "      <td>Independent</td>\n",
       "      <td>...</td>\n",
       "      <td>No</td>\n",
       "      <td>No</td>\n",
       "      <td>No</td>\n",
       "      <td>2</td>\n",
       "      <td>0</td>\n",
       "      <td>Other</td>\n",
       "      <td>No</td>\n",
       "      <td>Friendly People</td>\n",
       "      <td>828750.0</td>\n",
       "      <td>Asia</td>\n",
       "    </tr>\n",
       "    <tr>\n",
       "      <th>...</th>\n",
       "      <td>...</td>\n",
       "      <td>...</td>\n",
       "      <td>...</td>\n",
       "      <td>...</td>\n",
       "      <td>...</td>\n",
       "      <td>...</td>\n",
       "      <td>...</td>\n",
       "      <td>...</td>\n",
       "      <td>...</td>\n",
       "      <td>...</td>\n",
       "      <td>...</td>\n",
       "      <td>...</td>\n",
       "      <td>...</td>\n",
       "      <td>...</td>\n",
       "      <td>...</td>\n",
       "      <td>...</td>\n",
       "      <td>...</td>\n",
       "      <td>...</td>\n",
       "      <td>...</td>\n",
       "      <td>...</td>\n",
       "      <td>...</td>\n",
       "    </tr>\n",
       "    <tr>\n",
       "      <th>4780</th>\n",
       "      <td>tour_962</td>\n",
       "      <td>INDIA</td>\n",
       "      <td>45-64</td>\n",
       "      <td>NaN</td>\n",
       "      <td>0.0</td>\n",
       "      <td>1.0</td>\n",
       "      <td>Meetings and Conference</td>\n",
       "      <td>Wildlife tourism</td>\n",
       "      <td>Friends, relatives</td>\n",
       "      <td>Independent</td>\n",
       "      <td>...</td>\n",
       "      <td>No</td>\n",
       "      <td>No</td>\n",
       "      <td>No</td>\n",
       "      <td>12</td>\n",
       "      <td>0</td>\n",
       "      <td>Credit Card</td>\n",
       "      <td>No</td>\n",
       "      <td>Friendly People</td>\n",
       "      <td>1657500.0</td>\n",
       "      <td>Asia</td>\n",
       "    </tr>\n",
       "    <tr>\n",
       "      <th>4782</th>\n",
       "      <td>tour_967</td>\n",
       "      <td>KOREA</td>\n",
       "      <td>2022-01-24 00:00:00</td>\n",
       "      <td>Alone</td>\n",
       "      <td>0.0</td>\n",
       "      <td>1.0</td>\n",
       "      <td>Visiting Friends and Relatives</td>\n",
       "      <td>Beach tourism</td>\n",
       "      <td>Friends, relatives</td>\n",
       "      <td>Independent</td>\n",
       "      <td>...</td>\n",
       "      <td>No</td>\n",
       "      <td>No</td>\n",
       "      <td>No</td>\n",
       "      <td>30</td>\n",
       "      <td>0</td>\n",
       "      <td>Cash</td>\n",
       "      <td>Yes</td>\n",
       "      <td>Wildlife</td>\n",
       "      <td>2154750.0</td>\n",
       "      <td>Asia</td>\n",
       "    </tr>\n",
       "    <tr>\n",
       "      <th>4785</th>\n",
       "      <td>tour_970</td>\n",
       "      <td>LEBANON</td>\n",
       "      <td>45-64</td>\n",
       "      <td>Alone</td>\n",
       "      <td>0.0</td>\n",
       "      <td>1.0</td>\n",
       "      <td>Meetings and Conference</td>\n",
       "      <td>Mountain climbing</td>\n",
       "      <td>others</td>\n",
       "      <td>Independent</td>\n",
       "      <td>...</td>\n",
       "      <td>No</td>\n",
       "      <td>No</td>\n",
       "      <td>No</td>\n",
       "      <td>4</td>\n",
       "      <td>1</td>\n",
       "      <td>Cash</td>\n",
       "      <td>No</td>\n",
       "      <td>No comments</td>\n",
       "      <td>3315000.0</td>\n",
       "      <td>Asia</td>\n",
       "    </tr>\n",
       "    <tr>\n",
       "      <th>4795</th>\n",
       "      <td>tour_982</td>\n",
       "      <td>THAILAND</td>\n",
       "      <td>25-44</td>\n",
       "      <td>Alone</td>\n",
       "      <td>1.0</td>\n",
       "      <td>0.0</td>\n",
       "      <td>Meetings and Conference</td>\n",
       "      <td>Mountain climbing</td>\n",
       "      <td>others</td>\n",
       "      <td>Independent</td>\n",
       "      <td>...</td>\n",
       "      <td>No</td>\n",
       "      <td>No</td>\n",
       "      <td>No</td>\n",
       "      <td>5</td>\n",
       "      <td>0</td>\n",
       "      <td>Cash</td>\n",
       "      <td>Yes</td>\n",
       "      <td>Friendly People</td>\n",
       "      <td>414375.0</td>\n",
       "      <td>Asia</td>\n",
       "    </tr>\n",
       "    <tr>\n",
       "      <th>4800</th>\n",
       "      <td>tour_987</td>\n",
       "      <td>SINGAPORE</td>\n",
       "      <td>2022-01-24 00:00:00</td>\n",
       "      <td>Friends/Relatives</td>\n",
       "      <td>1.0</td>\n",
       "      <td>1.0</td>\n",
       "      <td>Leisure and Holidays</td>\n",
       "      <td>Conference tourism</td>\n",
       "      <td>Friends, relatives</td>\n",
       "      <td>Package Tour</td>\n",
       "      <td>...</td>\n",
       "      <td>No</td>\n",
       "      <td>Yes</td>\n",
       "      <td>No</td>\n",
       "      <td>14</td>\n",
       "      <td>2</td>\n",
       "      <td>Cash</td>\n",
       "      <td>Yes</td>\n",
       "      <td>Good service</td>\n",
       "      <td>9945000.0</td>\n",
       "      <td>Asia</td>\n",
       "    </tr>\n",
       "  </tbody>\n",
       "</table>\n",
       "<p>358 rows × 24 columns</p>\n",
       "</div>"
      ],
      "text/plain": [
       "             ID    country            age_group        travel_with  \\\n",
       "4     tour_1004      CHINA  2022-01-24 00:00:00                NaN   \n",
       "9     tour_1011      INDIA                25-44              Alone   \n",
       "17    tour_1022    MYANMAR                25-44                NaN   \n",
       "35    tour_1042      QATAR                25-44  Friends/Relatives   \n",
       "38    tour_1046      CHINA                25-44              Alone   \n",
       "...         ...        ...                  ...                ...   \n",
       "4780   tour_962      INDIA                45-64                NaN   \n",
       "4782   tour_967      KOREA  2022-01-24 00:00:00              Alone   \n",
       "4785   tour_970    LEBANON                45-64              Alone   \n",
       "4795   tour_982   THAILAND                25-44              Alone   \n",
       "4800   tour_987  SINGAPORE  2022-01-24 00:00:00  Friends/Relatives   \n",
       "\n",
       "      total_female  total_male                         purpose  \\\n",
       "4              1.0         0.0            Leisure and Holidays   \n",
       "9              1.0         0.0                        Business   \n",
       "17             1.0         0.0         Meetings and Conference   \n",
       "35             2.0         2.0            Leisure and Holidays   \n",
       "38             1.0         0.0            Leisure and Holidays   \n",
       "...            ...         ...                             ...   \n",
       "4780           0.0         1.0         Meetings and Conference   \n",
       "4782           0.0         1.0  Visiting Friends and Relatives   \n",
       "4785           0.0         1.0         Meetings and Conference   \n",
       "4795           1.0         0.0         Meetings and Conference   \n",
       "4800           1.0         1.0            Leisure and Holidays   \n",
       "\n",
       "           main_activity                     info_source tour_arrangement  \\\n",
       "4       Wildlife tourism    Travel, agent, tour operator      Independent   \n",
       "9       Wildlife tourism    Travel, agent, tour operator      Independent   \n",
       "17      Wildlife tourism                  Radio, TV, Web      Independent   \n",
       "35      Wildlife tourism              Friends, relatives     Package Tour   \n",
       "38         Beach tourism  Newspaper, magazines,brochures      Independent   \n",
       "...                  ...                             ...              ...   \n",
       "4780    Wildlife tourism              Friends, relatives      Independent   \n",
       "4782       Beach tourism              Friends, relatives      Independent   \n",
       "4785   Mountain climbing                          others      Independent   \n",
       "4795   Mountain climbing                          others      Independent   \n",
       "4800  Conference tourism              Friends, relatives     Package Tour   \n",
       "\n",
       "      ... package_sightseeing package_guided_tour package_insurance  \\\n",
       "4     ...                  No                  No                No   \n",
       "9     ...                  No                  No                No   \n",
       "17    ...                  No                  No                No   \n",
       "35    ...                 Yes                 Yes                No   \n",
       "38    ...                  No                  No                No   \n",
       "...   ...                 ...                 ...               ...   \n",
       "4780  ...                  No                  No                No   \n",
       "4782  ...                  No                  No                No   \n",
       "4785  ...                  No                  No                No   \n",
       "4795  ...                  No                  No                No   \n",
       "4800  ...                  No                 Yes                No   \n",
       "\n",
       "     night_mainland night_zanzibar payment_mode first_trip_tz  \\\n",
       "4                 7              4         Cash           Yes   \n",
       "9                 5              0  Credit Card           Yes   \n",
       "17                5              0         Cash           Yes   \n",
       "35               13             10         Cash            No   \n",
       "38                2              0        Other            No   \n",
       "...             ...            ...          ...           ...   \n",
       "4780             12              0  Credit Card            No   \n",
       "4782             30              0         Cash           Yes   \n",
       "4785              4              1         Cash            No   \n",
       "4795              5              0         Cash           Yes   \n",
       "4800             14              2         Cash           Yes   \n",
       "\n",
       "      most_impressing  total_cost upcountry  \n",
       "4         No comments   1657500.0      Asia  \n",
       "9     Friendly People   2486250.0      Asia  \n",
       "17    Friendly People    331500.0      Asia  \n",
       "35           Wildlife  17316000.0      Asia  \n",
       "38    Friendly People    828750.0      Asia  \n",
       "...               ...         ...       ...  \n",
       "4780  Friendly People   1657500.0      Asia  \n",
       "4782         Wildlife   2154750.0      Asia  \n",
       "4785      No comments   3315000.0      Asia  \n",
       "4795  Friendly People    414375.0      Asia  \n",
       "4800     Good service   9945000.0      Asia  \n",
       "\n",
       "[358 rows x 24 columns]"
      ]
     },
     "execution_count": 709,
     "metadata": {},
     "output_type": "execute_result"
    }
   ],
   "source": [
    "asia"
   ]
  },
  {
   "cell_type": "markdown",
   "id": "dc05101f-e53b-4b39-b5ad-41d71e61c3b4",
   "metadata": {},
   "source": [
    "## North America"
   ]
  },
  {
   "cell_type": "code",
   "execution_count": 710,
   "id": "5fc51a7a-c8ff-44b0-922b-04b592d7c98b",
   "metadata": {},
   "outputs": [],
   "source": [
    "driver.get(\"https://worldpopulationreview.com/country-rankings/countries-in-north-america\")   \n",
    "time.sleep(15)"
   ]
  },
  {
   "cell_type": "code",
   "execution_count": 711,
   "id": "68d17d6e-b800-4b52-ad4b-e62e3e00e7c8",
   "metadata": {},
   "outputs": [
    {
     "name": "stderr",
     "output_type": "stream",
     "text": [
      "C:\\Users\\Kofi\\AppData\\Local\\Temp/ipykernel_13564/180691724.py:1: DeprecationWarning: find_element_by_xpath is deprecated. Please use find_element(by=By.XPATH, value=xpath) instead\n",
      "  i = driver.find_element_by_xpath(\"(//section[@id='dataTable'])[1]\")\n"
     ]
    }
   ],
   "source": [
    "i = driver.find_element_by_xpath(\"(//section[@id='dataTable'])[1]\")"
   ]
  },
  {
   "cell_type": "code",
   "execution_count": null,
   "id": "d9e03d62-25d9-46e7-9c9d-49ffb29b59fa",
   "metadata": {},
   "outputs": [],
   "source": []
  },
  {
   "cell_type": "code",
   "execution_count": 712,
   "id": "4b801ba3-43e1-4b16-8d39-40563a537f60",
   "metadata": {},
   "outputs": [],
   "source": [
    "text = i.text\n",
    "#(//tbody)[1]"
   ]
  },
  {
   "cell_type": "code",
   "execution_count": 713,
   "id": "d46c3804-b632-4748-a849-f4dadc3d7444",
   "metadata": {},
   "outputs": [
    {
     "data": {
      "text/plain": [
       "str"
      ]
     },
     "execution_count": 713,
     "metadata": {},
     "output_type": "execute_result"
    }
   ],
   "source": [
    "type(text)"
   ]
  },
  {
   "cell_type": "code",
   "execution_count": 714,
   "id": "abc71edf-ea31-4417-80a2-a197c55af363",
   "metadata": {},
   "outputs": [],
   "source": [
    "rep = text.replace(\"\\n\", \". \")"
   ]
  },
  {
   "cell_type": "code",
   "execution_count": 715,
   "id": "e72ce983-6953-4e01-9d35-1f3eace7fd9f",
   "metadata": {},
   "outputs": [],
   "source": [
    "import re\n",
    "expression = re.compile(r'([A-Z][^\\.!?]*[\\.!?])')\n",
    "new_list = re.findall(expression, rep)"
   ]
  },
  {
   "cell_type": "code",
   "execution_count": 716,
   "id": "51424578-5266-4d4b-88e1-c91563749f56",
   "metadata": {},
   "outputs": [
    {
     "data": {
      "text/plain": [
       "['CSV.',\n",
       " 'JSON.',\n",
       " 'Rank.',\n",
       " 'Country.',\n",
       " 'Population.',\n",
       " 'Growth Rate.',\n",
       " 'Saint Kitts And Nevis 53,871 0.',\n",
       " 'Dominica 72,344 0.',\n",
       " 'Antigua And Barbuda 99,509 0.',\n",
       " 'Saint Vincent And the Grenadines 111,551 0.',\n",
       " 'Grenada 113,475 0.',\n",
       " 'Saint Lucia 185,113 0.',\n",
       " 'Barbados 288,023 0.',\n",
       " 'Bahamas 400,516 0.',\n",
       " 'Belize 412,190 1.',\n",
       " 'Trinidad And Tobago 1,406,585 0.',\n",
       " 'Jamaica 2,985,094 0.',\n",
       " 'Panama 4,446,964 1.',\n",
       " 'Costa Rica 5,182,354 0.',\n",
       " 'El Salvador 6,550,389 0.',\n",
       " 'Nicaragua 6,779,100 1.',\n",
       " 'Honduras 10,221,247 1.',\n",
       " 'Dominican Republic 11,056,370 0.',\n",
       " 'Cuba 11,305,652 -0.',\n",
       " 'Haiti 11,680,283 1.',\n",
       " 'Guatemala 18,584,039 1.',\n",
       " 'Canada 38,388,419 0.',\n",
       " 'Mexico 131,562,772 1.',\n",
       " 'United States 334,805,269 0.',\n",
       " 'Countries in North America 2022.']"
      ]
     },
     "execution_count": 716,
     "metadata": {},
     "output_type": "execute_result"
    }
   ],
   "source": [
    "new_list"
   ]
  },
  {
   "cell_type": "code",
   "execution_count": null,
   "id": "b2fa3897-4939-43c6-8cde-638aa0631610",
   "metadata": {},
   "outputs": [],
   "source": []
  },
  {
   "cell_type": "code",
   "execution_count": 717,
   "id": "449c0ed9-6109-470e-9f14-790577ada1f0",
   "metadata": {},
   "outputs": [],
   "source": [
    "converted_list = [x.upper() for x in new_list]"
   ]
  },
  {
   "cell_type": "code",
   "execution_count": 718,
   "id": "8cc0d645-3134-474b-a203-67bd59ba5431",
   "metadata": {},
   "outputs": [
    {
     "data": {
      "text/plain": [
       "['CSV.',\n",
       " 'JSON.',\n",
       " 'RANK.',\n",
       " 'COUNTRY.',\n",
       " 'POPULATION.',\n",
       " 'GROWTH RATE.',\n",
       " 'SAINT KITTS AND NEVIS 53,871 0.',\n",
       " 'DOMINICA 72,344 0.',\n",
       " 'ANTIGUA AND BARBUDA 99,509 0.',\n",
       " 'SAINT VINCENT AND THE GRENADINES 111,551 0.',\n",
       " 'GRENADA 113,475 0.',\n",
       " 'SAINT LUCIA 185,113 0.',\n",
       " 'BARBADOS 288,023 0.',\n",
       " 'BAHAMAS 400,516 0.',\n",
       " 'BELIZE 412,190 1.',\n",
       " 'TRINIDAD AND TOBAGO 1,406,585 0.',\n",
       " 'JAMAICA 2,985,094 0.',\n",
       " 'PANAMA 4,446,964 1.',\n",
       " 'COSTA RICA 5,182,354 0.',\n",
       " 'EL SALVADOR 6,550,389 0.',\n",
       " 'NICARAGUA 6,779,100 1.',\n",
       " 'HONDURAS 10,221,247 1.',\n",
       " 'DOMINICAN REPUBLIC 11,056,370 0.',\n",
       " 'CUBA 11,305,652 -0.',\n",
       " 'HAITI 11,680,283 1.',\n",
       " 'GUATEMALA 18,584,039 1.',\n",
       " 'CANADA 38,388,419 0.',\n",
       " 'MEXICO 131,562,772 1.',\n",
       " 'UNITED STATES 334,805,269 0.',\n",
       " 'COUNTRIES IN NORTH AMERICA 2022.']"
      ]
     },
     "execution_count": 718,
     "metadata": {},
     "output_type": "execute_result"
    }
   ],
   "source": [
    "converted_list"
   ]
  },
  {
   "cell_type": "code",
   "execution_count": null,
   "id": "4080df48-5f6c-43f2-9ac7-e9a1228e7f34",
   "metadata": {},
   "outputs": [],
   "source": []
  },
  {
   "cell_type": "code",
   "execution_count": 719,
   "id": "6cd6cd5b-9480-451c-ac4d-1a998a1afbc1",
   "metadata": {},
   "outputs": [],
   "source": [
    "co = str(converted_list)"
   ]
  },
  {
   "cell_type": "code",
   "execution_count": 720,
   "id": "51fc9ade-0bf5-4ebc-b447-0906b109b6e7",
   "metadata": {},
   "outputs": [],
   "source": [
    "from itertools import chain"
   ]
  },
  {
   "cell_type": "code",
   "execution_count": 721,
   "id": "ba26cfb3-0736-40e1-9d22-b6f68a1fcab4",
   "metadata": {},
   "outputs": [],
   "source": [
    "coming = ' '.join(str(v) for v in converted_list)"
   ]
  },
  {
   "cell_type": "code",
   "execution_count": 722,
   "id": "91e79a72-c6da-4744-a195-52b106dc62dc",
   "metadata": {},
   "outputs": [
    {
     "data": {
      "text/plain": [
       "'CSV. JSON. RANK. COUNTRY. POPULATION. GROWTH RATE. SAINT KITTS AND NEVIS 53,871 0. DOMINICA 72,344 0. ANTIGUA AND BARBUDA 99,509 0. SAINT VINCENT AND THE GRENADINES 111,551 0. GRENADA 113,475 0. SAINT LUCIA 185,113 0. BARBADOS 288,023 0. BAHAMAS 400,516 0. BELIZE 412,190 1. TRINIDAD AND TOBAGO 1,406,585 0. JAMAICA 2,985,094 0. PANAMA 4,446,964 1. COSTA RICA 5,182,354 0. EL SALVADOR 6,550,389 0. NICARAGUA 6,779,100 1. HONDURAS 10,221,247 1. DOMINICAN REPUBLIC 11,056,370 0. CUBA 11,305,652 -0. HAITI 11,680,283 1. GUATEMALA 18,584,039 1. CANADA 38,388,419 0. MEXICO 131,562,772 1. UNITED STATES 334,805,269 0. COUNTRIES IN NORTH AMERICA 2022.'"
      ]
     },
     "execution_count": 722,
     "metadata": {},
     "output_type": "execute_result"
    }
   ],
   "source": [
    "coming"
   ]
  },
  {
   "cell_type": "code",
   "execution_count": 723,
   "id": "a5523a59-9b18-44bf-9e79-c81bd823a8a6",
   "metadata": {},
   "outputs": [],
   "source": [
    "come = coming.replace(\".\", \"\")\n",
    "com = come.replace(\"REPUBLIC\", \"\")\n",
    "come= com.replace(\"OF\", \"\")\n"
   ]
  },
  {
   "cell_type": "code",
   "execution_count": 724,
   "id": "9c979f51-1be5-42e5-9438-2a53d5ff1810",
   "metadata": {},
   "outputs": [
    {
     "data": {
      "text/plain": [
       "'CSV JSON RANK COUNTRY POPULATION GROWTH RATE SAINT KITTS AND NEVIS 53,871 0 DOMINICA 72,344 0 ANTIGUA AND BARBUDA 99,509 0 SAINT VINCENT AND THE GRENADINES 111,551 0 GRENADA 113,475 0 SAINT LUCIA 185,113 0 BARBADOS 288,023 0 BAHAMAS 400,516 0 BELIZE 412,190 1 TRINIDAD AND TOBAGO 1,406,585 0 JAMAICA 2,985,094 0 PANAMA 4,446,964 1 COSTA RICA 5,182,354 0 EL SALVADOR 6,550,389 0 NICARAGUA 6,779,100 1 HONDURAS 10,221,247 1 DOMINICAN  11,056,370 0 CUBA 11,305,652 -0 HAITI 11,680,283 1 GUATEMALA 18,584,039 1 CANADA 38,388,419 0 MEXICO 131,562,772 1 UNITED STATES 334,805,269 0 COUNTRIES IN NORTH AMERICA 2022'"
      ]
     },
     "execution_count": 724,
     "metadata": {},
     "output_type": "execute_result"
    }
   ],
   "source": [
    "come"
   ]
  },
  {
   "cell_type": "code",
   "execution_count": 725,
   "id": "e31cdb63-0f70-47ac-a2de-06bda1267e47",
   "metadata": {},
   "outputs": [],
   "source": [
    "# i need to get the intersection of countries"
   ]
  },
  {
   "cell_type": "code",
   "execution_count": null,
   "id": "f6164209-c7ed-4ca2-849a-9f739cdd562f",
   "metadata": {},
   "outputs": [],
   "source": []
  },
  {
   "cell_type": "code",
   "execution_count": 726,
   "id": "79280b04-9cd0-4c1f-9a2c-56fcf1b47200",
   "metadata": {},
   "outputs": [],
   "source": [
    "#movi\n",
    "#come\n",
    "\n",
    "read = set(result.split()) & set(come.split())"
   ]
  },
  {
   "cell_type": "code",
   "execution_count": 727,
   "id": "aa0870fb-8d5f-4139-b8f6-b64d2c56fb96",
   "metadata": {},
   "outputs": [],
   "source": [
    "readd = list(read)"
   ]
  },
  {
   "cell_type": "code",
   "execution_count": 728,
   "id": "0e963df3-0d35-4d79-a6fb-18c299e5c750",
   "metadata": {},
   "outputs": [],
   "source": [
    "\n",
    "readd.append(\"UNITED STATES OF AMERICA\")\n"
   ]
  },
  {
   "cell_type": "code",
   "execution_count": 729,
   "id": "f4068bcf-5e5b-4da1-8902-f4e54d02dbcf",
   "metadata": {},
   "outputs": [
    {
     "data": {
      "text/plain": [
       "['STATES',\n",
       " 'AMERICA',\n",
       " 'MEXICO',\n",
       " 'CANADA',\n",
       " 'UNITED',\n",
       " 'DOMINICA',\n",
       " 'TRINIDAD',\n",
       " 'UNITED STATES OF AMERICA']"
      ]
     },
     "execution_count": 729,
     "metadata": {},
     "output_type": "execute_result"
    }
   ],
   "source": [
    "readd"
   ]
  },
  {
   "cell_type": "code",
   "execution_count": null,
   "id": "51e7acc9-6867-4abe-9557-1711410bd33b",
   "metadata": {},
   "outputs": [],
   "source": []
  },
  {
   "cell_type": "code",
   "execution_count": 730,
   "id": "5ef93a2c-fead-40b4-b174-844b17d7e9fa",
   "metadata": {},
   "outputs": [],
   "source": [
    "i = len(readd)"
   ]
  },
  {
   "cell_type": "code",
   "execution_count": 731,
   "id": "02191c38-2a56-4ebd-ab4e-019916f212be",
   "metadata": {},
   "outputs": [],
   "source": [
    "matches = []\n",
    "\n",
    "for match in list1:\n",
    "    if readd[i-1] in match:\n",
    "        matches.append(match)\n",
    "        i-=1"
   ]
  },
  {
   "cell_type": "code",
   "execution_count": 732,
   "id": "b8e8e04e-b452-4bf5-b743-19b08a4f1a18",
   "metadata": {},
   "outputs": [
    {
     "data": {
      "text/plain": [
       "list"
      ]
     },
     "execution_count": 732,
     "metadata": {},
     "output_type": "execute_result"
    }
   ],
   "source": [
    "type(matches)"
   ]
  },
  {
   "cell_type": "code",
   "execution_count": 733,
   "id": "e4cc39bc-56e2-45fe-b9ed-cbde3186f895",
   "metadata": {},
   "outputs": [],
   "source": [
    "i = len(readd)"
   ]
  },
  {
   "cell_type": "code",
   "execution_count": 734,
   "id": "d52f1026-d273-4f52-b3e6-66f73984d0f8",
   "metadata": {},
   "outputs": [
    {
     "data": {
      "text/plain": [
       "8"
      ]
     },
     "execution_count": 734,
     "metadata": {},
     "output_type": "execute_result"
    }
   ],
   "source": [
    "i"
   ]
  },
  {
   "cell_type": "code",
   "execution_count": 735,
   "id": "a84f71a9-9718-442d-91f9-cbf90a22f162",
   "metadata": {},
   "outputs": [
    {
     "data": {
      "text/plain": [
       "'UNITED STATES OF AMERICA'"
      ]
     },
     "execution_count": 735,
     "metadata": {},
     "output_type": "execute_result"
    }
   ],
   "source": [
    "readd[i-1]"
   ]
  },
  {
   "cell_type": "code",
   "execution_count": 736,
   "id": "bd5fb5ec-8f8c-41e2-b993-08790b184f1c",
   "metadata": {},
   "outputs": [
    {
     "data": {
      "text/plain": [
       "pandas.core.frame.DataFrame"
      ]
     },
     "execution_count": 736,
     "metadata": {},
     "output_type": "execute_result"
    }
   ],
   "source": [
    "type(df)"
   ]
  },
  {
   "cell_type": "code",
   "execution_count": 737,
   "id": "1b18d773-6111-45b5-8502-c419c263535e",
   "metadata": {},
   "outputs": [],
   "source": [
    "df.upcountry.replace(readd, 'North America', inplace=True)"
   ]
  },
  {
   "cell_type": "code",
   "execution_count": 738,
   "id": "d0d7b7a0-d0e3-47c7-94e1-99720d487dc6",
   "metadata": {},
   "outputs": [],
   "source": [
    "n_america = df[df['upcountry'] == 'North America' ]\n",
    "#i=df[df[‘Name’]==’Will’]\n",
    "#print(i)"
   ]
  },
  {
   "cell_type": "code",
   "execution_count": 739,
   "id": "ba216ca4-9cd8-44ec-b3f6-b091584e3942",
   "metadata": {
    "tags": []
   },
   "outputs": [
    {
     "data": {
      "text/html": [
       "<div>\n",
       "<style scoped>\n",
       "    .dataframe tbody tr th:only-of-type {\n",
       "        vertical-align: middle;\n",
       "    }\n",
       "\n",
       "    .dataframe tbody tr th {\n",
       "        vertical-align: top;\n",
       "    }\n",
       "\n",
       "    .dataframe thead th {\n",
       "        text-align: right;\n",
       "    }\n",
       "</style>\n",
       "<table border=\"1\" class=\"dataframe\">\n",
       "  <thead>\n",
       "    <tr style=\"text-align: right;\">\n",
       "      <th></th>\n",
       "      <th>ID</th>\n",
       "      <th>country</th>\n",
       "      <th>age_group</th>\n",
       "      <th>travel_with</th>\n",
       "      <th>total_female</th>\n",
       "      <th>total_male</th>\n",
       "      <th>purpose</th>\n",
       "      <th>main_activity</th>\n",
       "      <th>info_source</th>\n",
       "      <th>tour_arrangement</th>\n",
       "      <th>...</th>\n",
       "      <th>package_sightseeing</th>\n",
       "      <th>package_guided_tour</th>\n",
       "      <th>package_insurance</th>\n",
       "      <th>night_mainland</th>\n",
       "      <th>night_zanzibar</th>\n",
       "      <th>payment_mode</th>\n",
       "      <th>first_trip_tz</th>\n",
       "      <th>most_impressing</th>\n",
       "      <th>total_cost</th>\n",
       "      <th>upcountry</th>\n",
       "    </tr>\n",
       "  </thead>\n",
       "  <tbody>\n",
       "    <tr>\n",
       "      <th>7</th>\n",
       "      <td>tour_1008</td>\n",
       "      <td>UNITED STATES OF AMERICA</td>\n",
       "      <td>45-64</td>\n",
       "      <td>Friends/Relatives</td>\n",
       "      <td>1.0</td>\n",
       "      <td>1.0</td>\n",
       "      <td>Leisure and Holidays</td>\n",
       "      <td>Wildlife tourism</td>\n",
       "      <td>Travel, agent, tour operator</td>\n",
       "      <td>Package Tour</td>\n",
       "      <td>...</td>\n",
       "      <td>Yes</td>\n",
       "      <td>Yes</td>\n",
       "      <td>Yes</td>\n",
       "      <td>10</td>\n",
       "      <td>3</td>\n",
       "      <td>Cash</td>\n",
       "      <td>Yes</td>\n",
       "      <td>Friendly People</td>\n",
       "      <td>3480750.0</td>\n",
       "      <td>North America</td>\n",
       "    </tr>\n",
       "    <tr>\n",
       "      <th>11</th>\n",
       "      <td>tour_1013</td>\n",
       "      <td>CANADA</td>\n",
       "      <td>45-64</td>\n",
       "      <td>Children</td>\n",
       "      <td>2.0</td>\n",
       "      <td>0.0</td>\n",
       "      <td>Leisure and Holidays</td>\n",
       "      <td>Beach tourism</td>\n",
       "      <td>Friends, relatives</td>\n",
       "      <td>Independent</td>\n",
       "      <td>...</td>\n",
       "      <td>No</td>\n",
       "      <td>No</td>\n",
       "      <td>No</td>\n",
       "      <td>30</td>\n",
       "      <td>0</td>\n",
       "      <td>Cash</td>\n",
       "      <td>No</td>\n",
       "      <td>Excellent Experience</td>\n",
       "      <td>8121750.0</td>\n",
       "      <td>North America</td>\n",
       "    </tr>\n",
       "    <tr>\n",
       "      <th>12</th>\n",
       "      <td>tour_1016</td>\n",
       "      <td>CANADA</td>\n",
       "      <td>45-64</td>\n",
       "      <td>Children</td>\n",
       "      <td>0.0</td>\n",
       "      <td>2.0</td>\n",
       "      <td>Leisure and Holidays</td>\n",
       "      <td>Wildlife tourism</td>\n",
       "      <td>Travel, agent, tour operator</td>\n",
       "      <td>Independent</td>\n",
       "      <td>...</td>\n",
       "      <td>No</td>\n",
       "      <td>No</td>\n",
       "      <td>No</td>\n",
       "      <td>11</td>\n",
       "      <td>3</td>\n",
       "      <td>Cash</td>\n",
       "      <td>Yes</td>\n",
       "      <td>No comments</td>\n",
       "      <td>331500.0</td>\n",
       "      <td>North America</td>\n",
       "    </tr>\n",
       "    <tr>\n",
       "      <th>44</th>\n",
       "      <td>tour_1051</td>\n",
       "      <td>UNITED STATES OF AMERICA</td>\n",
       "      <td>45-64</td>\n",
       "      <td>Spouse</td>\n",
       "      <td>1.0</td>\n",
       "      <td>1.0</td>\n",
       "      <td>Leisure and Holidays</td>\n",
       "      <td>Beach tourism</td>\n",
       "      <td>others</td>\n",
       "      <td>Independent</td>\n",
       "      <td>...</td>\n",
       "      <td>No</td>\n",
       "      <td>No</td>\n",
       "      <td>No</td>\n",
       "      <td>0</td>\n",
       "      <td>5</td>\n",
       "      <td>Cash</td>\n",
       "      <td>Yes</td>\n",
       "      <td>No comments</td>\n",
       "      <td>3397875.0</td>\n",
       "      <td>North America</td>\n",
       "    </tr>\n",
       "    <tr>\n",
       "      <th>55</th>\n",
       "      <td>tour_1065</td>\n",
       "      <td>UNITED STATES OF AMERICA</td>\n",
       "      <td>25-44</td>\n",
       "      <td>NaN</td>\n",
       "      <td>1.0</td>\n",
       "      <td>0.0</td>\n",
       "      <td>Meetings and Conference</td>\n",
       "      <td>Mountain climbing</td>\n",
       "      <td>Friends, relatives</td>\n",
       "      <td>Independent</td>\n",
       "      <td>...</td>\n",
       "      <td>No</td>\n",
       "      <td>No</td>\n",
       "      <td>No</td>\n",
       "      <td>5</td>\n",
       "      <td>0</td>\n",
       "      <td>Credit Card</td>\n",
       "      <td>Yes</td>\n",
       "      <td>Excellent Experience</td>\n",
       "      <td>1491750.0</td>\n",
       "      <td>North America</td>\n",
       "    </tr>\n",
       "    <tr>\n",
       "      <th>...</th>\n",
       "      <td>...</td>\n",
       "      <td>...</td>\n",
       "      <td>...</td>\n",
       "      <td>...</td>\n",
       "      <td>...</td>\n",
       "      <td>...</td>\n",
       "      <td>...</td>\n",
       "      <td>...</td>\n",
       "      <td>...</td>\n",
       "      <td>...</td>\n",
       "      <td>...</td>\n",
       "      <td>...</td>\n",
       "      <td>...</td>\n",
       "      <td>...</td>\n",
       "      <td>...</td>\n",
       "      <td>...</td>\n",
       "      <td>...</td>\n",
       "      <td>...</td>\n",
       "      <td>...</td>\n",
       "      <td>...</td>\n",
       "      <td>...</td>\n",
       "    </tr>\n",
       "    <tr>\n",
       "      <th>4767</th>\n",
       "      <td>tour_945</td>\n",
       "      <td>CANADA</td>\n",
       "      <td>65+</td>\n",
       "      <td>Spouse</td>\n",
       "      <td>1.0</td>\n",
       "      <td>1.0</td>\n",
       "      <td>Leisure and Holidays</td>\n",
       "      <td>Wildlife tourism</td>\n",
       "      <td>Travel, agent, tour operator</td>\n",
       "      <td>Package Tour</td>\n",
       "      <td>...</td>\n",
       "      <td>Yes</td>\n",
       "      <td>Yes</td>\n",
       "      <td>No</td>\n",
       "      <td>9</td>\n",
       "      <td>3</td>\n",
       "      <td>Cash</td>\n",
       "      <td>Yes</td>\n",
       "      <td>Wonderful Country, Landscape, Nature</td>\n",
       "      <td>20387250.0</td>\n",
       "      <td>North America</td>\n",
       "    </tr>\n",
       "    <tr>\n",
       "      <th>4769</th>\n",
       "      <td>tour_948</td>\n",
       "      <td>UNITED STATES OF AMERICA</td>\n",
       "      <td>45-64</td>\n",
       "      <td>NaN</td>\n",
       "      <td>0.0</td>\n",
       "      <td>1.0</td>\n",
       "      <td>Business</td>\n",
       "      <td>Wildlife tourism</td>\n",
       "      <td>Travel, agent, tour operator</td>\n",
       "      <td>Package Tour</td>\n",
       "      <td>...</td>\n",
       "      <td>No</td>\n",
       "      <td>No</td>\n",
       "      <td>No</td>\n",
       "      <td>2</td>\n",
       "      <td>0</td>\n",
       "      <td>Cash</td>\n",
       "      <td>No</td>\n",
       "      <td>Friendly People</td>\n",
       "      <td>3563625.0</td>\n",
       "      <td>North America</td>\n",
       "    </tr>\n",
       "    <tr>\n",
       "      <th>4783</th>\n",
       "      <td>tour_969</td>\n",
       "      <td>UNITED STATES OF AMERICA</td>\n",
       "      <td>25-44</td>\n",
       "      <td>NaN</td>\n",
       "      <td>1.0</td>\n",
       "      <td>0.0</td>\n",
       "      <td>Meetings and Conference</td>\n",
       "      <td>Mountain climbing</td>\n",
       "      <td>Radio, TV, Web</td>\n",
       "      <td>Independent</td>\n",
       "      <td>...</td>\n",
       "      <td>No</td>\n",
       "      <td>No</td>\n",
       "      <td>No</td>\n",
       "      <td>3</td>\n",
       "      <td>0</td>\n",
       "      <td>Credit Card</td>\n",
       "      <td>No</td>\n",
       "      <td>NaN</td>\n",
       "      <td>497250.0</td>\n",
       "      <td>North America</td>\n",
       "    </tr>\n",
       "    <tr>\n",
       "      <th>4799</th>\n",
       "      <td>tour_986</td>\n",
       "      <td>UNITED STATES OF AMERICA</td>\n",
       "      <td>65+</td>\n",
       "      <td>Alone</td>\n",
       "      <td>1.0</td>\n",
       "      <td>0.0</td>\n",
       "      <td>Leisure and Holidays</td>\n",
       "      <td>Wildlife tourism</td>\n",
       "      <td>Travel, agent, tour operator</td>\n",
       "      <td>Package Tour</td>\n",
       "      <td>...</td>\n",
       "      <td>Yes</td>\n",
       "      <td>Yes</td>\n",
       "      <td>Yes</td>\n",
       "      <td>19</td>\n",
       "      <td>0</td>\n",
       "      <td>Cash</td>\n",
       "      <td>Yes</td>\n",
       "      <td>Wildlife</td>\n",
       "      <td>18232500.0</td>\n",
       "      <td>North America</td>\n",
       "    </tr>\n",
       "    <tr>\n",
       "      <th>4805</th>\n",
       "      <td>tour_994</td>\n",
       "      <td>UNITED STATES OF AMERICA</td>\n",
       "      <td>25-44</td>\n",
       "      <td>Spouse</td>\n",
       "      <td>1.0</td>\n",
       "      <td>1.0</td>\n",
       "      <td>Leisure and Holidays</td>\n",
       "      <td>Wildlife tourism</td>\n",
       "      <td>Travel, agent, tour operator</td>\n",
       "      <td>Package Tour</td>\n",
       "      <td>...</td>\n",
       "      <td>Yes</td>\n",
       "      <td>Yes</td>\n",
       "      <td>Yes</td>\n",
       "      <td>11</td>\n",
       "      <td>0</td>\n",
       "      <td>Cash</td>\n",
       "      <td>Yes</td>\n",
       "      <td>Friendly People</td>\n",
       "      <td>10690875.0</td>\n",
       "      <td>North America</td>\n",
       "    </tr>\n",
       "  </tbody>\n",
       "</table>\n",
       "<p>812 rows × 24 columns</p>\n",
       "</div>"
      ],
      "text/plain": [
       "             ID                   country age_group        travel_with  \\\n",
       "7     tour_1008  UNITED STATES OF AMERICA     45-64  Friends/Relatives   \n",
       "11    tour_1013                    CANADA     45-64           Children   \n",
       "12    tour_1016                    CANADA     45-64           Children   \n",
       "44    tour_1051  UNITED STATES OF AMERICA     45-64             Spouse   \n",
       "55    tour_1065  UNITED STATES OF AMERICA     25-44                NaN   \n",
       "...         ...                       ...       ...                ...   \n",
       "4767   tour_945                    CANADA       65+             Spouse   \n",
       "4769   tour_948  UNITED STATES OF AMERICA     45-64                NaN   \n",
       "4783   tour_969  UNITED STATES OF AMERICA     25-44                NaN   \n",
       "4799   tour_986  UNITED STATES OF AMERICA       65+              Alone   \n",
       "4805   tour_994  UNITED STATES OF AMERICA     25-44             Spouse   \n",
       "\n",
       "      total_female  total_male                  purpose      main_activity  \\\n",
       "7              1.0         1.0     Leisure and Holidays   Wildlife tourism   \n",
       "11             2.0         0.0     Leisure and Holidays      Beach tourism   \n",
       "12             0.0         2.0     Leisure and Holidays   Wildlife tourism   \n",
       "44             1.0         1.0     Leisure and Holidays      Beach tourism   \n",
       "55             1.0         0.0  Meetings and Conference  Mountain climbing   \n",
       "...            ...         ...                      ...                ...   \n",
       "4767           1.0         1.0     Leisure and Holidays   Wildlife tourism   \n",
       "4769           0.0         1.0                 Business   Wildlife tourism   \n",
       "4783           1.0         0.0  Meetings and Conference  Mountain climbing   \n",
       "4799           1.0         0.0     Leisure and Holidays   Wildlife tourism   \n",
       "4805           1.0         1.0     Leisure and Holidays   Wildlife tourism   \n",
       "\n",
       "                       info_source tour_arrangement  ... package_sightseeing  \\\n",
       "7     Travel, agent, tour operator     Package Tour  ...                 Yes   \n",
       "11              Friends, relatives      Independent  ...                  No   \n",
       "12    Travel, agent, tour operator      Independent  ...                  No   \n",
       "44                          others      Independent  ...                  No   \n",
       "55              Friends, relatives      Independent  ...                  No   \n",
       "...                            ...              ...  ...                 ...   \n",
       "4767  Travel, agent, tour operator     Package Tour  ...                 Yes   \n",
       "4769  Travel, agent, tour operator     Package Tour  ...                  No   \n",
       "4783                Radio, TV, Web      Independent  ...                  No   \n",
       "4799  Travel, agent, tour operator     Package Tour  ...                 Yes   \n",
       "4805  Travel, agent, tour operator     Package Tour  ...                 Yes   \n",
       "\n",
       "     package_guided_tour package_insurance night_mainland night_zanzibar  \\\n",
       "7                    Yes               Yes             10              3   \n",
       "11                    No                No             30              0   \n",
       "12                    No                No             11              3   \n",
       "44                    No                No              0              5   \n",
       "55                    No                No              5              0   \n",
       "...                  ...               ...            ...            ...   \n",
       "4767                 Yes                No              9              3   \n",
       "4769                  No                No              2              0   \n",
       "4783                  No                No              3              0   \n",
       "4799                 Yes               Yes             19              0   \n",
       "4805                 Yes               Yes             11              0   \n",
       "\n",
       "     payment_mode first_trip_tz                       most_impressing  \\\n",
       "7            Cash           Yes                       Friendly People   \n",
       "11           Cash            No                  Excellent Experience   \n",
       "12           Cash           Yes                           No comments   \n",
       "44           Cash           Yes                           No comments   \n",
       "55    Credit Card           Yes                  Excellent Experience   \n",
       "...           ...           ...                                   ...   \n",
       "4767         Cash           Yes  Wonderful Country, Landscape, Nature   \n",
       "4769         Cash            No                       Friendly People   \n",
       "4783  Credit Card            No                                   NaN   \n",
       "4799         Cash           Yes                              Wildlife   \n",
       "4805         Cash           Yes                       Friendly People   \n",
       "\n",
       "      total_cost      upcountry  \n",
       "7      3480750.0  North America  \n",
       "11     8121750.0  North America  \n",
       "12      331500.0  North America  \n",
       "44     3397875.0  North America  \n",
       "55     1491750.0  North America  \n",
       "...          ...            ...  \n",
       "4767  20387250.0  North America  \n",
       "4769   3563625.0  North America  \n",
       "4783    497250.0  North America  \n",
       "4799  18232500.0  North America  \n",
       "4805  10690875.0  North America  \n",
       "\n",
       "[812 rows x 24 columns]"
      ]
     },
     "execution_count": 739,
     "metadata": {},
     "output_type": "execute_result"
    }
   ],
   "source": [
    "n_america"
   ]
  },
  {
   "cell_type": "markdown",
   "id": "788314e5-2ea9-4b97-807d-2e02d065fecb",
   "metadata": {},
   "source": [
    "## South America"
   ]
  },
  {
   "cell_type": "code",
   "execution_count": 740,
   "id": "ac3f1554-dfe1-4fbc-9030-7ff7ee4185de",
   "metadata": {},
   "outputs": [],
   "source": [
    "driver.get(\"https://worldpopulationreview.com/country-rankings/countries-in-north-america\")   \n",
    "time.sleep(15)"
   ]
  },
  {
   "cell_type": "code",
   "execution_count": 741,
   "id": "cdad3df5-d81e-4493-aa41-fb12ff0b380c",
   "metadata": {},
   "outputs": [
    {
     "name": "stderr",
     "output_type": "stream",
     "text": [
      "C:\\Users\\Kofi\\AppData\\Local\\Temp/ipykernel_13564/1135680224.py:1: DeprecationWarning: find_element_by_xpath is deprecated. Please use find_element(by=By.XPATH, value=xpath) instead\n",
      "  i = driver.find_element_by_xpath(\"(//tbody)[1]\")\n"
     ]
    }
   ],
   "source": [
    "i = driver.find_element_by_xpath(\"(//tbody)[1]\")"
   ]
  },
  {
   "cell_type": "code",
   "execution_count": null,
   "id": "216101d3-e053-443d-ba76-2c17f893cb5a",
   "metadata": {},
   "outputs": [],
   "source": []
  },
  {
   "cell_type": "code",
   "execution_count": 742,
   "id": "183ffc82-faef-4e2c-8a01-e672d7e9de94",
   "metadata": {},
   "outputs": [],
   "source": [
    "text = i.text\n",
    "#(//tbody)[1]"
   ]
  },
  {
   "cell_type": "code",
   "execution_count": 743,
   "id": "cb4730ab-f868-4eba-af95-a127ddfa3341",
   "metadata": {},
   "outputs": [
    {
     "data": {
      "text/plain": [
       "str"
      ]
     },
     "execution_count": 743,
     "metadata": {},
     "output_type": "execute_result"
    }
   ],
   "source": [
    "type(text)"
   ]
  },
  {
   "cell_type": "code",
   "execution_count": 744,
   "id": "16d67c94-a492-4c9f-84c7-c0fde6c396fc",
   "metadata": {},
   "outputs": [],
   "source": [
    "rep = text.replace(\"\\n\", \". \")"
   ]
  },
  {
   "cell_type": "code",
   "execution_count": 745,
   "id": "66efd059-2f50-4a1e-9049-6a264aa0d97a",
   "metadata": {},
   "outputs": [],
   "source": [
    "import re\n",
    "expression = re.compile(r'([A-Z][^\\.!?]*[\\.!?])')\n",
    "new_list = re.findall(expression, rep)"
   ]
  },
  {
   "cell_type": "code",
   "execution_count": 746,
   "id": "897ff9ab-0a83-4185-a5be-f1f185d85ee7",
   "metadata": {},
   "outputs": [
    {
     "data": {
      "text/plain": [
       "['Saint Kitts And Nevis 53,871 0.',\n",
       " 'Dominica 72,344 0.',\n",
       " 'Antigua And Barbuda 99,509 0.',\n",
       " 'Saint Vincent And the Grenadines 111,551 0.',\n",
       " 'Grenada 113,475 0.',\n",
       " 'Saint Lucia 185,113 0.',\n",
       " 'Barbados 288,023 0.',\n",
       " 'Bahamas 400,516 0.',\n",
       " 'Belize 412,190 1.',\n",
       " 'Trinidad And Tobago 1,406,585 0.',\n",
       " 'Jamaica 2,985,094 0.',\n",
       " 'Panama 4,446,964 1.',\n",
       " 'Costa Rica 5,182,354 0.',\n",
       " 'El Salvador 6,550,389 0.',\n",
       " 'Nicaragua 6,779,100 1.',\n",
       " 'Honduras 10,221,247 1.',\n",
       " 'Dominican Republic 11,056,370 0.',\n",
       " 'Cuba 11,305,652 -0.',\n",
       " 'Haiti 11,680,283 1.',\n",
       " 'Guatemala 18,584,039 1.',\n",
       " 'Canada 38,388,419 0.',\n",
       " 'Mexico 131,562,772 1.',\n",
       " 'United States 334,805,269 0.']"
      ]
     },
     "execution_count": 746,
     "metadata": {},
     "output_type": "execute_result"
    }
   ],
   "source": [
    "new_list"
   ]
  },
  {
   "cell_type": "code",
   "execution_count": null,
   "id": "4ac110ac-3fd8-45b1-8649-642141cce60b",
   "metadata": {},
   "outputs": [],
   "source": []
  },
  {
   "cell_type": "code",
   "execution_count": 747,
   "id": "5e99db8e-76cc-42ad-b3cb-2e0da87a96d3",
   "metadata": {},
   "outputs": [],
   "source": [
    "converted_list = [x.upper() for x in new_list]"
   ]
  },
  {
   "cell_type": "code",
   "execution_count": 748,
   "id": "508ca7d2-a988-4ca2-b88c-c9e6984c4dc2",
   "metadata": {},
   "outputs": [
    {
     "data": {
      "text/plain": [
       "['SAINT KITTS AND NEVIS 53,871 0.',\n",
       " 'DOMINICA 72,344 0.',\n",
       " 'ANTIGUA AND BARBUDA 99,509 0.',\n",
       " 'SAINT VINCENT AND THE GRENADINES 111,551 0.',\n",
       " 'GRENADA 113,475 0.',\n",
       " 'SAINT LUCIA 185,113 0.',\n",
       " 'BARBADOS 288,023 0.',\n",
       " 'BAHAMAS 400,516 0.',\n",
       " 'BELIZE 412,190 1.',\n",
       " 'TRINIDAD AND TOBAGO 1,406,585 0.',\n",
       " 'JAMAICA 2,985,094 0.',\n",
       " 'PANAMA 4,446,964 1.',\n",
       " 'COSTA RICA 5,182,354 0.',\n",
       " 'EL SALVADOR 6,550,389 0.',\n",
       " 'NICARAGUA 6,779,100 1.',\n",
       " 'HONDURAS 10,221,247 1.',\n",
       " 'DOMINICAN REPUBLIC 11,056,370 0.',\n",
       " 'CUBA 11,305,652 -0.',\n",
       " 'HAITI 11,680,283 1.',\n",
       " 'GUATEMALA 18,584,039 1.',\n",
       " 'CANADA 38,388,419 0.',\n",
       " 'MEXICO 131,562,772 1.',\n",
       " 'UNITED STATES 334,805,269 0.']"
      ]
     },
     "execution_count": 748,
     "metadata": {},
     "output_type": "execute_result"
    }
   ],
   "source": [
    "converted_list"
   ]
  },
  {
   "cell_type": "code",
   "execution_count": null,
   "id": "cfb46e9a-759f-48db-9d23-e9fa252172ae",
   "metadata": {},
   "outputs": [],
   "source": []
  },
  {
   "cell_type": "code",
   "execution_count": 749,
   "id": "82fd3ed6-8e5f-422d-bc76-72398ad342d3",
   "metadata": {},
   "outputs": [],
   "source": [
    "co = str(converted_list)"
   ]
  },
  {
   "cell_type": "code",
   "execution_count": 750,
   "id": "9cd528da-28c6-43c2-8ee7-e915f2c8c4b2",
   "metadata": {},
   "outputs": [],
   "source": [
    "from itertools import chain"
   ]
  },
  {
   "cell_type": "code",
   "execution_count": 751,
   "id": "e13f81c7-68e4-44ce-9d0e-ecace1ee2eca",
   "metadata": {},
   "outputs": [],
   "source": [
    "coming = ' '.join(str(v) for v in converted_list)"
   ]
  },
  {
   "cell_type": "code",
   "execution_count": 752,
   "id": "11e844aa-9a8c-43cc-a9f9-9cc7c94a549d",
   "metadata": {},
   "outputs": [
    {
     "data": {
      "text/plain": [
       "'SAINT KITTS AND NEVIS 53,871 0. DOMINICA 72,344 0. ANTIGUA AND BARBUDA 99,509 0. SAINT VINCENT AND THE GRENADINES 111,551 0. GRENADA 113,475 0. SAINT LUCIA 185,113 0. BARBADOS 288,023 0. BAHAMAS 400,516 0. BELIZE 412,190 1. TRINIDAD AND TOBAGO 1,406,585 0. JAMAICA 2,985,094 0. PANAMA 4,446,964 1. COSTA RICA 5,182,354 0. EL SALVADOR 6,550,389 0. NICARAGUA 6,779,100 1. HONDURAS 10,221,247 1. DOMINICAN REPUBLIC 11,056,370 0. CUBA 11,305,652 -0. HAITI 11,680,283 1. GUATEMALA 18,584,039 1. CANADA 38,388,419 0. MEXICO 131,562,772 1. UNITED STATES 334,805,269 0.'"
      ]
     },
     "execution_count": 752,
     "metadata": {},
     "output_type": "execute_result"
    }
   ],
   "source": [
    "coming"
   ]
  },
  {
   "cell_type": "code",
   "execution_count": 753,
   "id": "b09922ca-ffee-4698-86d7-f47551a53b3b",
   "metadata": {},
   "outputs": [],
   "source": [
    "come = coming.replace(\".\", \"\")\n",
    "com = come.replace(\"REPUBLIC\", \"\")\n",
    "come= com.replace(\"OF\", \"\")\n"
   ]
  },
  {
   "cell_type": "code",
   "execution_count": 754,
   "id": "3682ac76-0105-4f3f-9585-a7a2538365c6",
   "metadata": {},
   "outputs": [
    {
     "data": {
      "text/plain": [
       "'SAINT KITTS AND NEVIS 53,871 0 DOMINICA 72,344 0 ANTIGUA AND BARBUDA 99,509 0 SAINT VINCENT AND THE GRENADINES 111,551 0 GRENADA 113,475 0 SAINT LUCIA 185,113 0 BARBADOS 288,023 0 BAHAMAS 400,516 0 BELIZE 412,190 1 TRINIDAD AND TOBAGO 1,406,585 0 JAMAICA 2,985,094 0 PANAMA 4,446,964 1 COSTA RICA 5,182,354 0 EL SALVADOR 6,550,389 0 NICARAGUA 6,779,100 1 HONDURAS 10,221,247 1 DOMINICAN  11,056,370 0 CUBA 11,305,652 -0 HAITI 11,680,283 1 GUATEMALA 18,584,039 1 CANADA 38,388,419 0 MEXICO 131,562,772 1 UNITED STATES 334,805,269 0'"
      ]
     },
     "execution_count": 754,
     "metadata": {},
     "output_type": "execute_result"
    }
   ],
   "source": [
    "come"
   ]
  },
  {
   "cell_type": "code",
   "execution_count": 755,
   "id": "a86114d1-cb9c-4a1e-b9f4-d30c36bd8f43",
   "metadata": {},
   "outputs": [],
   "source": [
    "# i need to get the intersection of countries"
   ]
  },
  {
   "cell_type": "code",
   "execution_count": null,
   "id": "0f5c7813-7643-4554-a0a6-e6cd3b66f3be",
   "metadata": {},
   "outputs": [],
   "source": []
  },
  {
   "cell_type": "code",
   "execution_count": 756,
   "id": "c3b2daca-a5d9-4afd-a771-9f38e4bb4274",
   "metadata": {},
   "outputs": [],
   "source": [
    "#movi\n",
    "#come\n",
    "\n",
    "read = set(result.split()) & set(come.split())"
   ]
  },
  {
   "cell_type": "code",
   "execution_count": 757,
   "id": "11e1b0be-3576-42eb-b6c2-9d107106d09b",
   "metadata": {},
   "outputs": [],
   "source": [
    "readd = list(read)"
   ]
  },
  {
   "cell_type": "code",
   "execution_count": 758,
   "id": "2b14d2fd-2948-4205-8719-a2b333e40a8b",
   "metadata": {},
   "outputs": [],
   "source": [
    "readd.append(\"BRAZIL\")\n",
    "readd.append(\"COLOMBIA\")\n",
    "readd.append(\"CHILE\")\n",
    "readd.append(\"UGANDA\")\n",
    "readd.append(\"TRINIDAD TOBACCO\")\n",
    "readd.append(\"ARGENTINA\")\n",
    "readd.append(\"URUGUAY\")\n"
   ]
  },
  {
   "cell_type": "code",
   "execution_count": 759,
   "id": "4ed003fd-2f57-4c55-ae2f-248ade9c70a8",
   "metadata": {},
   "outputs": [
    {
     "data": {
      "text/plain": [
       "['STATES',\n",
       " 'MEXICO',\n",
       " 'CANADA',\n",
       " 'UNITED',\n",
       " 'DOMINICA',\n",
       " 'TRINIDAD',\n",
       " 'BRAZIL',\n",
       " 'COLOMBIA',\n",
       " 'CHILE',\n",
       " 'UGANDA',\n",
       " 'TRINIDAD TOBACCO',\n",
       " 'ARGENTINA',\n",
       " 'URUGUAY']"
      ]
     },
     "execution_count": 759,
     "metadata": {},
     "output_type": "execute_result"
    }
   ],
   "source": [
    "readd"
   ]
  },
  {
   "cell_type": "code",
   "execution_count": 760,
   "id": "5d174454-0372-4da2-86e3-e3a3decc8b9a",
   "metadata": {},
   "outputs": [],
   "source": [
    "i = len(readd)"
   ]
  },
  {
   "cell_type": "code",
   "execution_count": 761,
   "id": "824fa53a-c9d6-4580-a2a1-5406828d87ab",
   "metadata": {},
   "outputs": [],
   "source": [
    "matches = []\n",
    "\n",
    "for match in list1:\n",
    "    if readd[i-1] in match:\n",
    "        matches.append(match)\n",
    "        i-=1"
   ]
  },
  {
   "cell_type": "code",
   "execution_count": 762,
   "id": "b4b36fed-bab9-4719-828f-90caabf8d090",
   "metadata": {},
   "outputs": [
    {
     "data": {
      "text/plain": [
       "list"
      ]
     },
     "execution_count": 762,
     "metadata": {},
     "output_type": "execute_result"
    }
   ],
   "source": [
    "type(matches)"
   ]
  },
  {
   "cell_type": "code",
   "execution_count": 763,
   "id": "8c4b7ba8-9b19-4538-ab58-5b5907aaa9c1",
   "metadata": {},
   "outputs": [],
   "source": [
    "i = len(readd)"
   ]
  },
  {
   "cell_type": "code",
   "execution_count": 764,
   "id": "863d9805-011b-487a-8abe-033691ae6338",
   "metadata": {},
   "outputs": [
    {
     "data": {
      "text/plain": [
       "13"
      ]
     },
     "execution_count": 764,
     "metadata": {},
     "output_type": "execute_result"
    }
   ],
   "source": [
    "i"
   ]
  },
  {
   "cell_type": "code",
   "execution_count": 765,
   "id": "5ed73ea9-4bde-4cd2-b20a-40ded9b5ce25",
   "metadata": {},
   "outputs": [
    {
     "data": {
      "text/plain": [
       "'URUGUAY'"
      ]
     },
     "execution_count": 765,
     "metadata": {},
     "output_type": "execute_result"
    }
   ],
   "source": [
    "readd[i-1]"
   ]
  },
  {
   "cell_type": "code",
   "execution_count": 766,
   "id": "142515a6-9248-4d7f-a846-14abb39e50e3",
   "metadata": {},
   "outputs": [
    {
     "data": {
      "text/plain": [
       "pandas.core.frame.DataFrame"
      ]
     },
     "execution_count": 766,
     "metadata": {},
     "output_type": "execute_result"
    }
   ],
   "source": [
    "type(df)"
   ]
  },
  {
   "cell_type": "code",
   "execution_count": 767,
   "id": "51a3a1e6-5924-4c0e-8430-7f5b61967b93",
   "metadata": {},
   "outputs": [
    {
     "data": {
      "text/plain": [
       "['STATES',\n",
       " 'MEXICO',\n",
       " 'CANADA',\n",
       " 'UNITED',\n",
       " 'DOMINICA',\n",
       " 'TRINIDAD',\n",
       " 'BRAZIL',\n",
       " 'COLOMBIA',\n",
       " 'CHILE',\n",
       " 'UGANDA',\n",
       " 'TRINIDAD TOBACCO',\n",
       " 'ARGENTINA',\n",
       " 'URUGUAY']"
      ]
     },
     "execution_count": 767,
     "metadata": {},
     "output_type": "execute_result"
    }
   ],
   "source": [
    "readd"
   ]
  },
  {
   "cell_type": "code",
   "execution_count": 768,
   "id": "f307ece5-68d9-4e2f-86a4-b52c49435842",
   "metadata": {},
   "outputs": [],
   "source": [
    "df.upcountry.replace(readd, 'South America', inplace=True)"
   ]
  },
  {
   "cell_type": "code",
   "execution_count": 769,
   "id": "fbc96f0f-7739-46ad-8844-f9b74492e256",
   "metadata": {},
   "outputs": [],
   "source": [
    "s_america = df[df['upcountry'] == 'South America' ]\n",
    "#i=df[df[‘Name’]==’Will’]\n",
    "#print(i)"
   ]
  },
  {
   "cell_type": "code",
   "execution_count": 770,
   "id": "7877203c-5788-42de-a195-4a7dda5f2225",
   "metadata": {
    "tags": []
   },
   "outputs": [
    {
     "data": {
      "text/html": [
       "<div>\n",
       "<style scoped>\n",
       "    .dataframe tbody tr th:only-of-type {\n",
       "        vertical-align: middle;\n",
       "    }\n",
       "\n",
       "    .dataframe tbody tr th {\n",
       "        vertical-align: top;\n",
       "    }\n",
       "\n",
       "    .dataframe thead th {\n",
       "        text-align: right;\n",
       "    }\n",
       "</style>\n",
       "<table border=\"1\" class=\"dataframe\">\n",
       "  <thead>\n",
       "    <tr style=\"text-align: right;\">\n",
       "      <th></th>\n",
       "      <th>ID</th>\n",
       "      <th>country</th>\n",
       "      <th>age_group</th>\n",
       "      <th>travel_with</th>\n",
       "      <th>total_female</th>\n",
       "      <th>total_male</th>\n",
       "      <th>purpose</th>\n",
       "      <th>main_activity</th>\n",
       "      <th>info_source</th>\n",
       "      <th>tour_arrangement</th>\n",
       "      <th>...</th>\n",
       "      <th>package_sightseeing</th>\n",
       "      <th>package_guided_tour</th>\n",
       "      <th>package_insurance</th>\n",
       "      <th>night_mainland</th>\n",
       "      <th>night_zanzibar</th>\n",
       "      <th>payment_mode</th>\n",
       "      <th>first_trip_tz</th>\n",
       "      <th>most_impressing</th>\n",
       "      <th>total_cost</th>\n",
       "      <th>upcountry</th>\n",
       "    </tr>\n",
       "  </thead>\n",
       "  <tbody>\n",
       "    <tr>\n",
       "      <th>10</th>\n",
       "      <td>tour_1012</td>\n",
       "      <td>BRAZIL</td>\n",
       "      <td>25-44</td>\n",
       "      <td>Spouse</td>\n",
       "      <td>1.0</td>\n",
       "      <td>1.0</td>\n",
       "      <td>Leisure and Holidays</td>\n",
       "      <td>Wildlife tourism</td>\n",
       "      <td>Radio, TV, Web</td>\n",
       "      <td>Independent</td>\n",
       "      <td>...</td>\n",
       "      <td>No</td>\n",
       "      <td>No</td>\n",
       "      <td>No</td>\n",
       "      <td>17</td>\n",
       "      <td>3</td>\n",
       "      <td>Cash</td>\n",
       "      <td>Yes</td>\n",
       "      <td>Wonderful Country, Landscape, Nature</td>\n",
       "      <td>1117155.0</td>\n",
       "      <td>South America</td>\n",
       "    </tr>\n",
       "    <tr>\n",
       "      <th>229</th>\n",
       "      <td>tour_1287</td>\n",
       "      <td>BRAZIL</td>\n",
       "      <td>45-64</td>\n",
       "      <td>Children</td>\n",
       "      <td>2.0</td>\n",
       "      <td>0.0</td>\n",
       "      <td>Leisure and Holidays</td>\n",
       "      <td>Wildlife tourism</td>\n",
       "      <td>Travel, agent, tour operator</td>\n",
       "      <td>Package Tour</td>\n",
       "      <td>...</td>\n",
       "      <td>Yes</td>\n",
       "      <td>Yes</td>\n",
       "      <td>No</td>\n",
       "      <td>4</td>\n",
       "      <td>5</td>\n",
       "      <td>Credit Card</td>\n",
       "      <td>Yes</td>\n",
       "      <td>Excellent Experience</td>\n",
       "      <td>27231960.0</td>\n",
       "      <td>South America</td>\n",
       "    </tr>\n",
       "    <tr>\n",
       "      <th>641</th>\n",
       "      <td>tour_1788</td>\n",
       "      <td>COLOMBIA</td>\n",
       "      <td>25-44</td>\n",
       "      <td>NaN</td>\n",
       "      <td>1.0</td>\n",
       "      <td>0.0</td>\n",
       "      <td>Leisure and Holidays</td>\n",
       "      <td>Wildlife tourism</td>\n",
       "      <td>Travel, agent, tour operator</td>\n",
       "      <td>Package Tour</td>\n",
       "      <td>...</td>\n",
       "      <td>No</td>\n",
       "      <td>No</td>\n",
       "      <td>No</td>\n",
       "      <td>4</td>\n",
       "      <td>0</td>\n",
       "      <td>Cash</td>\n",
       "      <td>No</td>\n",
       "      <td>No comments</td>\n",
       "      <td>5304000.0</td>\n",
       "      <td>South America</td>\n",
       "    </tr>\n",
       "    <tr>\n",
       "      <th>809</th>\n",
       "      <td>tour_1996</td>\n",
       "      <td>COLOMBIA</td>\n",
       "      <td>2022-01-24 00:00:00</td>\n",
       "      <td>Alone</td>\n",
       "      <td>1.0</td>\n",
       "      <td>0.0</td>\n",
       "      <td>Leisure and Holidays</td>\n",
       "      <td>Wildlife tourism</td>\n",
       "      <td>inflight magazines</td>\n",
       "      <td>Package Tour</td>\n",
       "      <td>...</td>\n",
       "      <td>Yes</td>\n",
       "      <td>Yes</td>\n",
       "      <td>Yes</td>\n",
       "      <td>4</td>\n",
       "      <td>0</td>\n",
       "      <td>Cash</td>\n",
       "      <td>Yes</td>\n",
       "      <td>Friendly People</td>\n",
       "      <td>15580500.0</td>\n",
       "      <td>South America</td>\n",
       "    </tr>\n",
       "    <tr>\n",
       "      <th>848</th>\n",
       "      <td>tour_2042</td>\n",
       "      <td>TRINIDAD TOBACCO</td>\n",
       "      <td>25-44</td>\n",
       "      <td>Spouse</td>\n",
       "      <td>1.0</td>\n",
       "      <td>1.0</td>\n",
       "      <td>Business</td>\n",
       "      <td>Wildlife tourism</td>\n",
       "      <td>others</td>\n",
       "      <td>Independent</td>\n",
       "      <td>...</td>\n",
       "      <td>No</td>\n",
       "      <td>No</td>\n",
       "      <td>No</td>\n",
       "      <td>20</td>\n",
       "      <td>0</td>\n",
       "      <td>Credit Card</td>\n",
       "      <td>No</td>\n",
       "      <td>No comments</td>\n",
       "      <td>1657500.0</td>\n",
       "      <td>South America</td>\n",
       "    </tr>\n",
       "    <tr>\n",
       "      <th>1012</th>\n",
       "      <td>tour_2239</td>\n",
       "      <td>BRAZIL</td>\n",
       "      <td>25-44</td>\n",
       "      <td>Friends/Relatives</td>\n",
       "      <td>1.0</td>\n",
       "      <td>1.0</td>\n",
       "      <td>Business</td>\n",
       "      <td>Wildlife tourism</td>\n",
       "      <td>others</td>\n",
       "      <td>Independent</td>\n",
       "      <td>...</td>\n",
       "      <td>No</td>\n",
       "      <td>No</td>\n",
       "      <td>No</td>\n",
       "      <td>10</td>\n",
       "      <td>0</td>\n",
       "      <td>Cash</td>\n",
       "      <td>Yes</td>\n",
       "      <td>Friendly People</td>\n",
       "      <td>4143750.0</td>\n",
       "      <td>South America</td>\n",
       "    </tr>\n",
       "    <tr>\n",
       "      <th>1478</th>\n",
       "      <td>tour_2816</td>\n",
       "      <td>BRAZIL</td>\n",
       "      <td>25-44</td>\n",
       "      <td>Friends/Relatives</td>\n",
       "      <td>2.0</td>\n",
       "      <td>0.0</td>\n",
       "      <td>Meetings and Conference</td>\n",
       "      <td>Mountain climbing</td>\n",
       "      <td>Friends, relatives</td>\n",
       "      <td>Package Tour</td>\n",
       "      <td>...</td>\n",
       "      <td>Yes</td>\n",
       "      <td>Yes</td>\n",
       "      <td>No</td>\n",
       "      <td>1</td>\n",
       "      <td>0</td>\n",
       "      <td>Cash</td>\n",
       "      <td>Yes</td>\n",
       "      <td>No comments</td>\n",
       "      <td>4309500.0</td>\n",
       "      <td>South America</td>\n",
       "    </tr>\n",
       "    <tr>\n",
       "      <th>1914</th>\n",
       "      <td>tour_3323</td>\n",
       "      <td>CHILE</td>\n",
       "      <td>25-44</td>\n",
       "      <td>Friends/Relatives</td>\n",
       "      <td>1.0</td>\n",
       "      <td>1.0</td>\n",
       "      <td>Leisure and Holidays</td>\n",
       "      <td>Wildlife tourism</td>\n",
       "      <td>Friends, relatives</td>\n",
       "      <td>Independent</td>\n",
       "      <td>...</td>\n",
       "      <td>No</td>\n",
       "      <td>No</td>\n",
       "      <td>No</td>\n",
       "      <td>0</td>\n",
       "      <td>0</td>\n",
       "      <td>Cash</td>\n",
       "      <td>Yes</td>\n",
       "      <td>Wonderful Country, Landscape, Nature</td>\n",
       "      <td>3315000.0</td>\n",
       "      <td>South America</td>\n",
       "    </tr>\n",
       "    <tr>\n",
       "      <th>2603</th>\n",
       "      <td>tour_4170</td>\n",
       "      <td>BRAZIL</td>\n",
       "      <td>25-44</td>\n",
       "      <td>Alone</td>\n",
       "      <td>0.0</td>\n",
       "      <td>1.0</td>\n",
       "      <td>Leisure and Holidays</td>\n",
       "      <td>Wildlife tourism</td>\n",
       "      <td>others</td>\n",
       "      <td>Package Tour</td>\n",
       "      <td>...</td>\n",
       "      <td>No</td>\n",
       "      <td>No</td>\n",
       "      <td>No</td>\n",
       "      <td>7</td>\n",
       "      <td>4</td>\n",
       "      <td>Cash</td>\n",
       "      <td>Yes</td>\n",
       "      <td>Wildlife</td>\n",
       "      <td>4395690.0</td>\n",
       "      <td>South America</td>\n",
       "    </tr>\n",
       "    <tr>\n",
       "      <th>2974</th>\n",
       "      <td>tour_4615</td>\n",
       "      <td>BRAZIL</td>\n",
       "      <td>45-64</td>\n",
       "      <td>Alone</td>\n",
       "      <td>1.0</td>\n",
       "      <td>0.0</td>\n",
       "      <td>Leisure and Holidays</td>\n",
       "      <td>Wildlife tourism</td>\n",
       "      <td>Travel, agent, tour operator</td>\n",
       "      <td>Package Tour</td>\n",
       "      <td>...</td>\n",
       "      <td>Yes</td>\n",
       "      <td>Yes</td>\n",
       "      <td>Yes</td>\n",
       "      <td>5</td>\n",
       "      <td>0</td>\n",
       "      <td>Cash</td>\n",
       "      <td>Yes</td>\n",
       "      <td>Excellent Experience</td>\n",
       "      <td>6845475.0</td>\n",
       "      <td>South America</td>\n",
       "    </tr>\n",
       "    <tr>\n",
       "      <th>3078</th>\n",
       "      <td>tour_4733</td>\n",
       "      <td>COLOMBIA</td>\n",
       "      <td>25-44</td>\n",
       "      <td>Friends/Relatives</td>\n",
       "      <td>3.0</td>\n",
       "      <td>2.0</td>\n",
       "      <td>Leisure and Holidays</td>\n",
       "      <td>Beach tourism</td>\n",
       "      <td>Travel, agent, tour operator</td>\n",
       "      <td>Package Tour</td>\n",
       "      <td>...</td>\n",
       "      <td>Yes</td>\n",
       "      <td>Yes</td>\n",
       "      <td>Yes</td>\n",
       "      <td>7</td>\n",
       "      <td>4</td>\n",
       "      <td>Cash</td>\n",
       "      <td>Yes</td>\n",
       "      <td>Wildlife</td>\n",
       "      <td>19061250.0</td>\n",
       "      <td>South America</td>\n",
       "    </tr>\n",
       "    <tr>\n",
       "      <th>3206</th>\n",
       "      <td>tour_4882</td>\n",
       "      <td>BRAZIL</td>\n",
       "      <td>45-64</td>\n",
       "      <td>Spouse</td>\n",
       "      <td>1.0</td>\n",
       "      <td>1.0</td>\n",
       "      <td>Leisure and Holidays</td>\n",
       "      <td>Wildlife tourism</td>\n",
       "      <td>Travel, agent, tour operator</td>\n",
       "      <td>Package Tour</td>\n",
       "      <td>...</td>\n",
       "      <td>Yes</td>\n",
       "      <td>Yes</td>\n",
       "      <td>Yes</td>\n",
       "      <td>5</td>\n",
       "      <td>0</td>\n",
       "      <td>Credit Card</td>\n",
       "      <td>Yes</td>\n",
       "      <td>Excellent Experience</td>\n",
       "      <td>13260000.0</td>\n",
       "      <td>South America</td>\n",
       "    </tr>\n",
       "    <tr>\n",
       "      <th>3417</th>\n",
       "      <td>tour_5128</td>\n",
       "      <td>ARGENTINA</td>\n",
       "      <td>45-64</td>\n",
       "      <td>Spouse</td>\n",
       "      <td>1.0</td>\n",
       "      <td>1.0</td>\n",
       "      <td>Leisure and Holidays</td>\n",
       "      <td>Wildlife tourism</td>\n",
       "      <td>Travel, agent, tour operator</td>\n",
       "      <td>Package Tour</td>\n",
       "      <td>...</td>\n",
       "      <td>Yes</td>\n",
       "      <td>Yes</td>\n",
       "      <td>No</td>\n",
       "      <td>6</td>\n",
       "      <td>3</td>\n",
       "      <td>Credit Card</td>\n",
       "      <td>Yes</td>\n",
       "      <td>Wonderful Country, Landscape, Nature</td>\n",
       "      <td>10442250.0</td>\n",
       "      <td>South America</td>\n",
       "    </tr>\n",
       "    <tr>\n",
       "      <th>3687</th>\n",
       "      <td>tour_5468</td>\n",
       "      <td>URUGUAY</td>\n",
       "      <td>25-44</td>\n",
       "      <td>Friends/Relatives</td>\n",
       "      <td>1.0</td>\n",
       "      <td>1.0</td>\n",
       "      <td>Leisure and Holidays</td>\n",
       "      <td>Beach tourism</td>\n",
       "      <td>Radio, TV, Web</td>\n",
       "      <td>Independent</td>\n",
       "      <td>...</td>\n",
       "      <td>No</td>\n",
       "      <td>No</td>\n",
       "      <td>No</td>\n",
       "      <td>0</td>\n",
       "      <td>10</td>\n",
       "      <td>Cash</td>\n",
       "      <td>Yes</td>\n",
       "      <td>Wonderful Country, Landscape, Nature</td>\n",
       "      <td>165750.0</td>\n",
       "      <td>South America</td>\n",
       "    </tr>\n",
       "    <tr>\n",
       "      <th>3856</th>\n",
       "      <td>tour_5681</td>\n",
       "      <td>BRAZIL</td>\n",
       "      <td>25-44</td>\n",
       "      <td>NaN</td>\n",
       "      <td>1.0</td>\n",
       "      <td>0.0</td>\n",
       "      <td>Leisure and Holidays</td>\n",
       "      <td>Cultural tourism</td>\n",
       "      <td>Friends, relatives</td>\n",
       "      <td>Independent</td>\n",
       "      <td>...</td>\n",
       "      <td>No</td>\n",
       "      <td>No</td>\n",
       "      <td>No</td>\n",
       "      <td>45</td>\n",
       "      <td>6</td>\n",
       "      <td>Credit Card</td>\n",
       "      <td>Yes</td>\n",
       "      <td>Wonderful Country, Landscape, Nature</td>\n",
       "      <td>5071950.0</td>\n",
       "      <td>South America</td>\n",
       "    </tr>\n",
       "    <tr>\n",
       "      <th>4017</th>\n",
       "      <td>tour_5875</td>\n",
       "      <td>BRAZIL</td>\n",
       "      <td>2022-01-24 00:00:00</td>\n",
       "      <td>Alone</td>\n",
       "      <td>1.0</td>\n",
       "      <td>0.0</td>\n",
       "      <td>Leisure and Holidays</td>\n",
       "      <td>Conference tourism</td>\n",
       "      <td>Travel, agent, tour operator</td>\n",
       "      <td>Package Tour</td>\n",
       "      <td>...</td>\n",
       "      <td>Yes</td>\n",
       "      <td>Yes</td>\n",
       "      <td>No</td>\n",
       "      <td>10</td>\n",
       "      <td>4</td>\n",
       "      <td>Cash</td>\n",
       "      <td>Yes</td>\n",
       "      <td>Wonderful Country, Landscape, Nature</td>\n",
       "      <td>6298500.0</td>\n",
       "      <td>South America</td>\n",
       "    </tr>\n",
       "    <tr>\n",
       "      <th>4037</th>\n",
       "      <td>tour_5898</td>\n",
       "      <td>BRAZIL</td>\n",
       "      <td>25-44</td>\n",
       "      <td>NaN</td>\n",
       "      <td>1.0</td>\n",
       "      <td>0.0</td>\n",
       "      <td>Leisure and Holidays</td>\n",
       "      <td>Beach tourism</td>\n",
       "      <td>Travel, agent, tour operator</td>\n",
       "      <td>Package Tour</td>\n",
       "      <td>...</td>\n",
       "      <td>Yes</td>\n",
       "      <td>Yes</td>\n",
       "      <td>No</td>\n",
       "      <td>7</td>\n",
       "      <td>3</td>\n",
       "      <td>Cash</td>\n",
       "      <td>Yes</td>\n",
       "      <td>Wildlife</td>\n",
       "      <td>5469750.0</td>\n",
       "      <td>South America</td>\n",
       "    </tr>\n",
       "    <tr>\n",
       "      <th>4215</th>\n",
       "      <td>tour_6108</td>\n",
       "      <td>CHILE</td>\n",
       "      <td>25-44</td>\n",
       "      <td>NaN</td>\n",
       "      <td>0.0</td>\n",
       "      <td>1.0</td>\n",
       "      <td>Leisure and Holidays</td>\n",
       "      <td>Wildlife tourism</td>\n",
       "      <td>Travel, agent, tour operator</td>\n",
       "      <td>Package Tour</td>\n",
       "      <td>...</td>\n",
       "      <td>Yes</td>\n",
       "      <td>Yes</td>\n",
       "      <td>No</td>\n",
       "      <td>13</td>\n",
       "      <td>0</td>\n",
       "      <td>Cash</td>\n",
       "      <td>Yes</td>\n",
       "      <td>Friendly People</td>\n",
       "      <td>574750.0</td>\n",
       "      <td>South America</td>\n",
       "    </tr>\n",
       "  </tbody>\n",
       "</table>\n",
       "<p>18 rows × 24 columns</p>\n",
       "</div>"
      ],
      "text/plain": [
       "             ID           country            age_group        travel_with  \\\n",
       "10    tour_1012            BRAZIL                25-44             Spouse   \n",
       "229   tour_1287            BRAZIL                45-64           Children   \n",
       "641   tour_1788          COLOMBIA                25-44                NaN   \n",
       "809   tour_1996          COLOMBIA  2022-01-24 00:00:00              Alone   \n",
       "848   tour_2042  TRINIDAD TOBACCO                25-44             Spouse   \n",
       "1012  tour_2239            BRAZIL                25-44  Friends/Relatives   \n",
       "1478  tour_2816            BRAZIL                25-44  Friends/Relatives   \n",
       "1914  tour_3323             CHILE                25-44  Friends/Relatives   \n",
       "2603  tour_4170            BRAZIL                25-44              Alone   \n",
       "2974  tour_4615            BRAZIL                45-64              Alone   \n",
       "3078  tour_4733          COLOMBIA                25-44  Friends/Relatives   \n",
       "3206  tour_4882            BRAZIL                45-64             Spouse   \n",
       "3417  tour_5128         ARGENTINA                45-64             Spouse   \n",
       "3687  tour_5468           URUGUAY                25-44  Friends/Relatives   \n",
       "3856  tour_5681            BRAZIL                25-44                NaN   \n",
       "4017  tour_5875            BRAZIL  2022-01-24 00:00:00              Alone   \n",
       "4037  tour_5898            BRAZIL                25-44                NaN   \n",
       "4215  tour_6108             CHILE                25-44                NaN   \n",
       "\n",
       "      total_female  total_male                  purpose       main_activity  \\\n",
       "10             1.0         1.0     Leisure and Holidays    Wildlife tourism   \n",
       "229            2.0         0.0     Leisure and Holidays    Wildlife tourism   \n",
       "641            1.0         0.0     Leisure and Holidays    Wildlife tourism   \n",
       "809            1.0         0.0     Leisure and Holidays    Wildlife tourism   \n",
       "848            1.0         1.0                 Business    Wildlife tourism   \n",
       "1012           1.0         1.0                 Business    Wildlife tourism   \n",
       "1478           2.0         0.0  Meetings and Conference   Mountain climbing   \n",
       "1914           1.0         1.0     Leisure and Holidays    Wildlife tourism   \n",
       "2603           0.0         1.0     Leisure and Holidays    Wildlife tourism   \n",
       "2974           1.0         0.0     Leisure and Holidays    Wildlife tourism   \n",
       "3078           3.0         2.0     Leisure and Holidays       Beach tourism   \n",
       "3206           1.0         1.0     Leisure and Holidays    Wildlife tourism   \n",
       "3417           1.0         1.0     Leisure and Holidays    Wildlife tourism   \n",
       "3687           1.0         1.0     Leisure and Holidays       Beach tourism   \n",
       "3856           1.0         0.0     Leisure and Holidays    Cultural tourism   \n",
       "4017           1.0         0.0     Leisure and Holidays  Conference tourism   \n",
       "4037           1.0         0.0     Leisure and Holidays       Beach tourism   \n",
       "4215           0.0         1.0     Leisure and Holidays    Wildlife tourism   \n",
       "\n",
       "                       info_source tour_arrangement  ... package_sightseeing  \\\n",
       "10                  Radio, TV, Web      Independent  ...                  No   \n",
       "229   Travel, agent, tour operator     Package Tour  ...                 Yes   \n",
       "641   Travel, agent, tour operator     Package Tour  ...                  No   \n",
       "809             inflight magazines     Package Tour  ...                 Yes   \n",
       "848                         others      Independent  ...                  No   \n",
       "1012                        others      Independent  ...                  No   \n",
       "1478            Friends, relatives     Package Tour  ...                 Yes   \n",
       "1914            Friends, relatives      Independent  ...                  No   \n",
       "2603                        others     Package Tour  ...                  No   \n",
       "2974  Travel, agent, tour operator     Package Tour  ...                 Yes   \n",
       "3078  Travel, agent, tour operator     Package Tour  ...                 Yes   \n",
       "3206  Travel, agent, tour operator     Package Tour  ...                 Yes   \n",
       "3417  Travel, agent, tour operator     Package Tour  ...                 Yes   \n",
       "3687                Radio, TV, Web      Independent  ...                  No   \n",
       "3856            Friends, relatives      Independent  ...                  No   \n",
       "4017  Travel, agent, tour operator     Package Tour  ...                 Yes   \n",
       "4037  Travel, agent, tour operator     Package Tour  ...                 Yes   \n",
       "4215  Travel, agent, tour operator     Package Tour  ...                 Yes   \n",
       "\n",
       "     package_guided_tour package_insurance night_mainland night_zanzibar  \\\n",
       "10                    No                No             17              3   \n",
       "229                  Yes                No              4              5   \n",
       "641                   No                No              4              0   \n",
       "809                  Yes               Yes              4              0   \n",
       "848                   No                No             20              0   \n",
       "1012                  No                No             10              0   \n",
       "1478                 Yes                No              1              0   \n",
       "1914                  No                No              0              0   \n",
       "2603                  No                No              7              4   \n",
       "2974                 Yes               Yes              5              0   \n",
       "3078                 Yes               Yes              7              4   \n",
       "3206                 Yes               Yes              5              0   \n",
       "3417                 Yes                No              6              3   \n",
       "3687                  No                No              0             10   \n",
       "3856                  No                No             45              6   \n",
       "4017                 Yes                No             10              4   \n",
       "4037                 Yes                No              7              3   \n",
       "4215                 Yes                No             13              0   \n",
       "\n",
       "     payment_mode first_trip_tz                       most_impressing  \\\n",
       "10           Cash           Yes  Wonderful Country, Landscape, Nature   \n",
       "229   Credit Card           Yes                  Excellent Experience   \n",
       "641          Cash            No                           No comments   \n",
       "809          Cash           Yes                       Friendly People   \n",
       "848   Credit Card            No                           No comments   \n",
       "1012         Cash           Yes                       Friendly People   \n",
       "1478         Cash           Yes                           No comments   \n",
       "1914         Cash           Yes  Wonderful Country, Landscape, Nature   \n",
       "2603         Cash           Yes                              Wildlife   \n",
       "2974         Cash           Yes                  Excellent Experience   \n",
       "3078         Cash           Yes                              Wildlife   \n",
       "3206  Credit Card           Yes                  Excellent Experience   \n",
       "3417  Credit Card           Yes  Wonderful Country, Landscape, Nature   \n",
       "3687         Cash           Yes  Wonderful Country, Landscape, Nature   \n",
       "3856  Credit Card           Yes  Wonderful Country, Landscape, Nature   \n",
       "4017         Cash           Yes  Wonderful Country, Landscape, Nature   \n",
       "4037         Cash           Yes                              Wildlife   \n",
       "4215         Cash           Yes                       Friendly People   \n",
       "\n",
       "      total_cost      upcountry  \n",
       "10     1117155.0  South America  \n",
       "229   27231960.0  South America  \n",
       "641    5304000.0  South America  \n",
       "809   15580500.0  South America  \n",
       "848    1657500.0  South America  \n",
       "1012   4143750.0  South America  \n",
       "1478   4309500.0  South America  \n",
       "1914   3315000.0  South America  \n",
       "2603   4395690.0  South America  \n",
       "2974   6845475.0  South America  \n",
       "3078  19061250.0  South America  \n",
       "3206  13260000.0  South America  \n",
       "3417  10442250.0  South America  \n",
       "3687    165750.0  South America  \n",
       "3856   5071950.0  South America  \n",
       "4017   6298500.0  South America  \n",
       "4037   5469750.0  South America  \n",
       "4215    574750.0  South America  \n",
       "\n",
       "[18 rows x 24 columns]"
      ]
     },
     "execution_count": 770,
     "metadata": {},
     "output_type": "execute_result"
    }
   ],
   "source": [
    "s_america"
   ]
  },
  {
   "cell_type": "code",
   "execution_count": 771,
   "id": "e0b323d8-e9f2-4bd5-9303-f158863abc58",
   "metadata": {},
   "outputs": [
    {
     "data": {
      "text/plain": [
       "UNITED STATES OF AMERICA    695\n",
       "UNITED KINGDOM              533\n",
       "ITALY                       393\n",
       "FRANCE                      280\n",
       "ZIMBABWE                    274\n",
       "                           ... \n",
       "NIGER                         1\n",
       "MYANMAR                       1\n",
       "DOMINICA                      1\n",
       "TUNISIA                       1\n",
       "ESTONIA                       1\n",
       "Name: country, Length: 105, dtype: int64"
      ]
     },
     "execution_count": 771,
     "metadata": {},
     "output_type": "execute_result"
    }
   ],
   "source": [
    "df['country'].value_counts()"
   ]
  },
  {
   "cell_type": "markdown",
   "id": "9e805be6-1666-4fab-a11c-53c01aff341f",
   "metadata": {},
   "source": [
    "## Central America"
   ]
  },
  {
   "cell_type": "code",
   "execution_count": 772,
   "id": "2a915db7-2c44-4cc4-a562-dc5ed6d4cc1d",
   "metadata": {},
   "outputs": [],
   "source": [
    "driver.get(\"https://www.worldometers.info/population/latin-america-and-the-caribbean/central-america/\")   \n",
    "time.sleep(15)"
   ]
  },
  {
   "cell_type": "code",
   "execution_count": 773,
   "id": "009a7844-b4c0-4585-a4f0-5240733fa823",
   "metadata": {},
   "outputs": [
    {
     "name": "stderr",
     "output_type": "stream",
     "text": [
      "C:\\Users\\Kofi\\AppData\\Local\\Temp/ipykernel_13564/347343155.py:1: DeprecationWarning: find_element_by_xpath is deprecated. Please use find_element(by=By.XPATH, value=xpath) instead\n",
      "  i = driver.find_element_by_xpath(\"(//div)[17]\")\n"
     ]
    }
   ],
   "source": [
    "i = driver.find_element_by_xpath(\"(//div)[17]\")"
   ]
  },
  {
   "cell_type": "code",
   "execution_count": null,
   "id": "24379f9b-9c1a-4c49-a2cf-de8bbf256717",
   "metadata": {},
   "outputs": [],
   "source": []
  },
  {
   "cell_type": "code",
   "execution_count": 774,
   "id": "5fddf8cf-e454-4b1b-bb83-b0d52e847259",
   "metadata": {},
   "outputs": [],
   "source": [
    "text = i.text\n",
    "#(//tbody)[1]"
   ]
  },
  {
   "cell_type": "code",
   "execution_count": 775,
   "id": "2f90e038-321e-45c2-82f8-4ae3e2f12647",
   "metadata": {},
   "outputs": [
    {
     "data": {
      "text/plain": [
       "str"
      ]
     },
     "execution_count": 775,
     "metadata": {},
     "output_type": "execute_result"
    }
   ],
   "source": [
    "type(text)"
   ]
  },
  {
   "cell_type": "code",
   "execution_count": 776,
   "id": "1a660198-43bf-4e97-9211-15af55e12fb8",
   "metadata": {},
   "outputs": [],
   "source": [
    "rep = text.replace(\"\\n\", \". \")"
   ]
  },
  {
   "cell_type": "code",
   "execution_count": 777,
   "id": "4ba03388-1722-46b4-96bb-245cdf0a6a9a",
   "metadata": {},
   "outputs": [],
   "source": [
    "import re\n",
    "expression = re.compile(r'([A-Z][^\\.!?]*[\\.!?])')\n",
    "new_list = re.findall(expression, rep)"
   ]
  },
  {
   "cell_type": "code",
   "execution_count": 778,
   "id": "0cbac963-b2ef-42b1-9a13-b79e4f5cf3ef",
   "metadata": {},
   "outputs": [
    {
     "data": {
      "text/plain": [
       "['Countries in Central America:.',\n",
       " 'Mexico.',\n",
       " 'Guatemala.',\n",
       " 'Honduras.',\n",
       " 'Nicaragua.',\n",
       " 'El Salvador.',\n",
       " 'Costa Rica.',\n",
       " 'Panama.']"
      ]
     },
     "execution_count": 778,
     "metadata": {},
     "output_type": "execute_result"
    }
   ],
   "source": [
    "new_list"
   ]
  },
  {
   "cell_type": "code",
   "execution_count": null,
   "id": "7d3b29ac-9fee-4f6c-bc2a-e08ff79ad5ae",
   "metadata": {},
   "outputs": [],
   "source": []
  },
  {
   "cell_type": "code",
   "execution_count": 779,
   "id": "6537c496-4b18-4693-91a6-ee2851ba8784",
   "metadata": {},
   "outputs": [],
   "source": [
    "converted_list = [x.upper() for x in new_list]"
   ]
  },
  {
   "cell_type": "code",
   "execution_count": 780,
   "id": "711a23eb-af87-4582-8004-00e60219fdf7",
   "metadata": {},
   "outputs": [
    {
     "data": {
      "text/plain": [
       "['COUNTRIES IN CENTRAL AMERICA:.',\n",
       " 'MEXICO.',\n",
       " 'GUATEMALA.',\n",
       " 'HONDURAS.',\n",
       " 'NICARAGUA.',\n",
       " 'EL SALVADOR.',\n",
       " 'COSTA RICA.',\n",
       " 'PANAMA.']"
      ]
     },
     "execution_count": 780,
     "metadata": {},
     "output_type": "execute_result"
    }
   ],
   "source": [
    "converted_list"
   ]
  },
  {
   "cell_type": "code",
   "execution_count": null,
   "id": "ac07ee7e-6b2d-4e7d-b66f-14f46d025b90",
   "metadata": {},
   "outputs": [],
   "source": []
  },
  {
   "cell_type": "code",
   "execution_count": 781,
   "id": "4447c0ba-8ad6-474f-820e-b6853547d2cc",
   "metadata": {},
   "outputs": [],
   "source": [
    "co = str(converted_list)"
   ]
  },
  {
   "cell_type": "code",
   "execution_count": 782,
   "id": "5a44eae0-7b8f-464d-ad9c-12a4c28384ef",
   "metadata": {},
   "outputs": [],
   "source": [
    "from itertools import chain"
   ]
  },
  {
   "cell_type": "code",
   "execution_count": 783,
   "id": "cc9cab76-0609-41e4-bd57-bccac49dfad5",
   "metadata": {},
   "outputs": [],
   "source": [
    "coming = ' '.join(str(v) for v in converted_list)"
   ]
  },
  {
   "cell_type": "code",
   "execution_count": 784,
   "id": "6b4c7d32-823b-439e-b279-14db4128dd22",
   "metadata": {},
   "outputs": [
    {
     "data": {
      "text/plain": [
       "'COUNTRIES IN CENTRAL AMERICA:. MEXICO. GUATEMALA. HONDURAS. NICARAGUA. EL SALVADOR. COSTA RICA. PANAMA.'"
      ]
     },
     "execution_count": 784,
     "metadata": {},
     "output_type": "execute_result"
    }
   ],
   "source": [
    "coming"
   ]
  },
  {
   "cell_type": "code",
   "execution_count": 785,
   "id": "a9e4cd3d-ce3c-4cf8-8050-99da3e0897ac",
   "metadata": {},
   "outputs": [],
   "source": [
    "come = coming.replace(\".\", \"\")\n",
    "com = come.replace(\"REPUBLIC\", \"\")\n",
    "come= com.replace(\"OF\", \"\")\n"
   ]
  },
  {
   "cell_type": "code",
   "execution_count": 786,
   "id": "dc4b4231-8edc-4a6d-92be-73fa4865c21d",
   "metadata": {},
   "outputs": [
    {
     "data": {
      "text/plain": [
       "'COUNTRIES IN CENTRAL AMERICA: MEXICO GUATEMALA HONDURAS NICARAGUA EL SALVADOR COSTA RICA PANAMA'"
      ]
     },
     "execution_count": 786,
     "metadata": {},
     "output_type": "execute_result"
    }
   ],
   "source": [
    "come"
   ]
  },
  {
   "cell_type": "code",
   "execution_count": 787,
   "id": "5c9baa29-ac7a-41f2-b19b-badc5bb73369",
   "metadata": {},
   "outputs": [],
   "source": [
    "# i need to get the intersection of countries"
   ]
  },
  {
   "cell_type": "code",
   "execution_count": null,
   "id": "fc104237-586a-46f4-a75b-6c853a2c21d4",
   "metadata": {},
   "outputs": [],
   "source": []
  },
  {
   "cell_type": "code",
   "execution_count": 788,
   "id": "25ec2070-0224-4e26-95fc-5dd0bc4cbb5f",
   "metadata": {},
   "outputs": [],
   "source": [
    "#movi\n",
    "#come\n",
    "\n",
    "read = set(result.split()) & set(come.split())"
   ]
  },
  {
   "cell_type": "code",
   "execution_count": 789,
   "id": "5260edbf-0405-4aa4-839e-4580872bb251",
   "metadata": {},
   "outputs": [],
   "source": [
    "readd = list(read)"
   ]
  },
  {
   "cell_type": "code",
   "execution_count": 790,
   "id": "3fea23b5-6c7e-4217-86cc-ee754f6ff940",
   "metadata": {},
   "outputs": [],
   "source": [
    "readd.append(\"COSTARICA\")"
   ]
  },
  {
   "cell_type": "code",
   "execution_count": 791,
   "id": "98aaa168-5648-4769-9b7c-a97b1da64706",
   "metadata": {},
   "outputs": [
    {
     "data": {
      "text/plain": [
       "['MEXICO', 'COSTARICA']"
      ]
     },
     "execution_count": 791,
     "metadata": {},
     "output_type": "execute_result"
    }
   ],
   "source": [
    "readd"
   ]
  },
  {
   "cell_type": "code",
   "execution_count": 792,
   "id": "45bb5bb7-515d-4fd9-bd55-3ffb352fcf6a",
   "metadata": {},
   "outputs": [],
   "source": [
    "i = len(readd)"
   ]
  },
  {
   "cell_type": "code",
   "execution_count": 793,
   "id": "4666fc6b-937a-42b0-bada-66ac58a434ac",
   "metadata": {},
   "outputs": [],
   "source": [
    "matches = []\n",
    "\n",
    "for match in list1:\n",
    "    if readd[i-1] in match:\n",
    "        matches.append(match)\n",
    "        i-=1"
   ]
  },
  {
   "cell_type": "code",
   "execution_count": 794,
   "id": "37bb7c7b-9e17-4914-995d-856f883ef8ba",
   "metadata": {},
   "outputs": [
    {
     "data": {
      "text/plain": [
       "list"
      ]
     },
     "execution_count": 794,
     "metadata": {},
     "output_type": "execute_result"
    }
   ],
   "source": [
    "type(matches)"
   ]
  },
  {
   "cell_type": "code",
   "execution_count": 795,
   "id": "c0469142-b68c-4020-b02f-e444f86f799f",
   "metadata": {},
   "outputs": [],
   "source": [
    "i = len(readd)"
   ]
  },
  {
   "cell_type": "code",
   "execution_count": 796,
   "id": "1a59e771-e4ec-45ac-b60a-b7b113f37be0",
   "metadata": {},
   "outputs": [
    {
     "data": {
      "text/plain": [
       "2"
      ]
     },
     "execution_count": 796,
     "metadata": {},
     "output_type": "execute_result"
    }
   ],
   "source": [
    "i"
   ]
  },
  {
   "cell_type": "code",
   "execution_count": 797,
   "id": "3eb7a389-f2dc-4e98-af79-7da4ae2bbd80",
   "metadata": {},
   "outputs": [
    {
     "data": {
      "text/plain": [
       "'COSTARICA'"
      ]
     },
     "execution_count": 797,
     "metadata": {},
     "output_type": "execute_result"
    }
   ],
   "source": [
    "readd[i-1]"
   ]
  },
  {
   "cell_type": "code",
   "execution_count": 798,
   "id": "31e8428a-77d5-4070-a792-d9cf366d88bf",
   "metadata": {},
   "outputs": [
    {
     "data": {
      "text/plain": [
       "pandas.core.frame.DataFrame"
      ]
     },
     "execution_count": 798,
     "metadata": {},
     "output_type": "execute_result"
    }
   ],
   "source": [
    "type(df)"
   ]
  },
  {
   "cell_type": "code",
   "execution_count": 799,
   "id": "32aa9f58-05fa-4f49-bd63-4960155312bf",
   "metadata": {},
   "outputs": [],
   "source": [
    "df.upcountry.replace(readd, 'Central America', inplace=True)"
   ]
  },
  {
   "cell_type": "code",
   "execution_count": 800,
   "id": "cf7efa11-92d9-4dcf-bc93-855ea79e6182",
   "metadata": {},
   "outputs": [],
   "source": [
    "c_america = df[df['upcountry'] == 'Central America' ]\n",
    "#i=df[df[‘Name’]==’Will’]\n",
    "#print(i)"
   ]
  },
  {
   "cell_type": "code",
   "execution_count": 801,
   "id": "d0c6407a-1f20-4bf7-979b-b595b733f272",
   "metadata": {
    "tags": []
   },
   "outputs": [
    {
     "data": {
      "text/html": [
       "<div>\n",
       "<style scoped>\n",
       "    .dataframe tbody tr th:only-of-type {\n",
       "        vertical-align: middle;\n",
       "    }\n",
       "\n",
       "    .dataframe tbody tr th {\n",
       "        vertical-align: top;\n",
       "    }\n",
       "\n",
       "    .dataframe thead th {\n",
       "        text-align: right;\n",
       "    }\n",
       "</style>\n",
       "<table border=\"1\" class=\"dataframe\">\n",
       "  <thead>\n",
       "    <tr style=\"text-align: right;\">\n",
       "      <th></th>\n",
       "      <th>ID</th>\n",
       "      <th>country</th>\n",
       "      <th>age_group</th>\n",
       "      <th>travel_with</th>\n",
       "      <th>total_female</th>\n",
       "      <th>total_male</th>\n",
       "      <th>purpose</th>\n",
       "      <th>main_activity</th>\n",
       "      <th>info_source</th>\n",
       "      <th>tour_arrangement</th>\n",
       "      <th>...</th>\n",
       "      <th>package_sightseeing</th>\n",
       "      <th>package_guided_tour</th>\n",
       "      <th>package_insurance</th>\n",
       "      <th>night_mainland</th>\n",
       "      <th>night_zanzibar</th>\n",
       "      <th>payment_mode</th>\n",
       "      <th>first_trip_tz</th>\n",
       "      <th>most_impressing</th>\n",
       "      <th>total_cost</th>\n",
       "      <th>upcountry</th>\n",
       "    </tr>\n",
       "  </thead>\n",
       "  <tbody>\n",
       "    <tr>\n",
       "      <th>1781</th>\n",
       "      <td>tour_3170</td>\n",
       "      <td>COSTARICA</td>\n",
       "      <td>25-44</td>\n",
       "      <td>Alone</td>\n",
       "      <td>1.0</td>\n",
       "      <td>0.0</td>\n",
       "      <td>Leisure and Holidays</td>\n",
       "      <td>Wildlife tourism</td>\n",
       "      <td>Travel, agent, tour operator</td>\n",
       "      <td>Package Tour</td>\n",
       "      <td>...</td>\n",
       "      <td>Yes</td>\n",
       "      <td>Yes</td>\n",
       "      <td>Yes</td>\n",
       "      <td>4</td>\n",
       "      <td>0</td>\n",
       "      <td>Credit Card</td>\n",
       "      <td>Yes</td>\n",
       "      <td>Friendly People</td>\n",
       "      <td>27183000.0</td>\n",
       "      <td>Central America</td>\n",
       "    </tr>\n",
       "  </tbody>\n",
       "</table>\n",
       "<p>1 rows × 24 columns</p>\n",
       "</div>"
      ],
      "text/plain": [
       "             ID    country age_group travel_with  total_female  total_male  \\\n",
       "1781  tour_3170  COSTARICA     25-44       Alone           1.0         0.0   \n",
       "\n",
       "                   purpose     main_activity                   info_source  \\\n",
       "1781  Leisure and Holidays  Wildlife tourism  Travel, agent, tour operator   \n",
       "\n",
       "     tour_arrangement  ... package_sightseeing package_guided_tour  \\\n",
       "1781     Package Tour  ...                 Yes                 Yes   \n",
       "\n",
       "     package_insurance night_mainland night_zanzibar payment_mode  \\\n",
       "1781               Yes              4              0  Credit Card   \n",
       "\n",
       "     first_trip_tz  most_impressing  total_cost        upcountry  \n",
       "1781           Yes  Friendly People  27183000.0  Central America  \n",
       "\n",
       "[1 rows x 24 columns]"
      ]
     },
     "execution_count": 801,
     "metadata": {},
     "output_type": "execute_result"
    }
   ],
   "source": [
    "c_america"
   ]
  },
  {
   "cell_type": "code",
   "execution_count": 802,
   "id": "7619cec6-0a50-400b-a6b0-4c79276d60a2",
   "metadata": {},
   "outputs": [],
   "source": [
    "#df['country'] = df['country'].replace('UNITED ARAB EMIRATES','UAE')\n",
    "df.upcountry.replace('UNITED ARAB EMIRATES', 'UAE', inplace=True)"
   ]
  },
  {
   "cell_type": "code",
   "execution_count": 803,
   "id": "5223e1e8-6334-4137-8bd7-4700536c672f",
   "metadata": {},
   "outputs": [],
   "source": [
    "uae = df[df['upcountry'] == 'UAE' ]\n",
    "#i=df[df[‘Name’]==’Will’]\n",
    "#print(i)"
   ]
  },
  {
   "cell_type": "code",
   "execution_count": 804,
   "id": "8d76c81b-3e1e-4ddc-aa27-e3f28eed9d52",
   "metadata": {},
   "outputs": [
    {
     "data": {
      "text/html": [
       "<div>\n",
       "<style scoped>\n",
       "    .dataframe tbody tr th:only-of-type {\n",
       "        vertical-align: middle;\n",
       "    }\n",
       "\n",
       "    .dataframe tbody tr th {\n",
       "        vertical-align: top;\n",
       "    }\n",
       "\n",
       "    .dataframe thead th {\n",
       "        text-align: right;\n",
       "    }\n",
       "</style>\n",
       "<table border=\"1\" class=\"dataframe\">\n",
       "  <thead>\n",
       "    <tr style=\"text-align: right;\">\n",
       "      <th></th>\n",
       "      <th>ID</th>\n",
       "      <th>country</th>\n",
       "      <th>age_group</th>\n",
       "      <th>travel_with</th>\n",
       "      <th>total_female</th>\n",
       "      <th>total_male</th>\n",
       "      <th>purpose</th>\n",
       "      <th>main_activity</th>\n",
       "      <th>info_source</th>\n",
       "      <th>tour_arrangement</th>\n",
       "      <th>...</th>\n",
       "      <th>package_sightseeing</th>\n",
       "      <th>package_guided_tour</th>\n",
       "      <th>package_insurance</th>\n",
       "      <th>night_mainland</th>\n",
       "      <th>night_zanzibar</th>\n",
       "      <th>payment_mode</th>\n",
       "      <th>first_trip_tz</th>\n",
       "      <th>most_impressing</th>\n",
       "      <th>total_cost</th>\n",
       "      <th>upcountry</th>\n",
       "    </tr>\n",
       "  </thead>\n",
       "  <tbody>\n",
       "    <tr>\n",
       "      <th>49</th>\n",
       "      <td>tour_1058</td>\n",
       "      <td>UAE</td>\n",
       "      <td>25-44</td>\n",
       "      <td>Alone</td>\n",
       "      <td>0.0</td>\n",
       "      <td>1.0</td>\n",
       "      <td>Visiting Friends and Relatives</td>\n",
       "      <td>Beach tourism</td>\n",
       "      <td>Friends, relatives</td>\n",
       "      <td>Independent</td>\n",
       "      <td>...</td>\n",
       "      <td>No</td>\n",
       "      <td>No</td>\n",
       "      <td>No</td>\n",
       "      <td>7</td>\n",
       "      <td>1</td>\n",
       "      <td>Cash</td>\n",
       "      <td>No</td>\n",
       "      <td>NaN</td>\n",
       "      <td>1657500.0</td>\n",
       "      <td>UAE</td>\n",
       "    </tr>\n",
       "    <tr>\n",
       "      <th>202</th>\n",
       "      <td>tour_1246</td>\n",
       "      <td>UAE</td>\n",
       "      <td>25-44</td>\n",
       "      <td>NaN</td>\n",
       "      <td>0.0</td>\n",
       "      <td>1.0</td>\n",
       "      <td>Business</td>\n",
       "      <td>Mountain climbing</td>\n",
       "      <td>Travel, agent, tour operator</td>\n",
       "      <td>Package Tour</td>\n",
       "      <td>...</td>\n",
       "      <td>No</td>\n",
       "      <td>No</td>\n",
       "      <td>No</td>\n",
       "      <td>3</td>\n",
       "      <td>0</td>\n",
       "      <td>Credit Card</td>\n",
       "      <td>No</td>\n",
       "      <td>No comments</td>\n",
       "      <td>6630000.0</td>\n",
       "      <td>UAE</td>\n",
       "    </tr>\n",
       "    <tr>\n",
       "      <th>213</th>\n",
       "      <td>tour_1261</td>\n",
       "      <td>UAE</td>\n",
       "      <td>25-44</td>\n",
       "      <td>Alone</td>\n",
       "      <td>0.0</td>\n",
       "      <td>1.0</td>\n",
       "      <td>Leisure and Holidays</td>\n",
       "      <td>Beach tourism</td>\n",
       "      <td>Newspaper, magazines,brochures</td>\n",
       "      <td>Independent</td>\n",
       "      <td>...</td>\n",
       "      <td>No</td>\n",
       "      <td>No</td>\n",
       "      <td>No</td>\n",
       "      <td>4</td>\n",
       "      <td>1</td>\n",
       "      <td>Cash</td>\n",
       "      <td>Yes</td>\n",
       "      <td>Wildlife</td>\n",
       "      <td>828750.0</td>\n",
       "      <td>UAE</td>\n",
       "    </tr>\n",
       "    <tr>\n",
       "      <th>302</th>\n",
       "      <td>tour_1373</td>\n",
       "      <td>UAE</td>\n",
       "      <td>25-44</td>\n",
       "      <td>Alone</td>\n",
       "      <td>0.0</td>\n",
       "      <td>1.0</td>\n",
       "      <td>Leisure and Holidays</td>\n",
       "      <td>Beach tourism</td>\n",
       "      <td>Radio, TV, Web</td>\n",
       "      <td>Package Tour</td>\n",
       "      <td>...</td>\n",
       "      <td>Yes</td>\n",
       "      <td>Yes</td>\n",
       "      <td>No</td>\n",
       "      <td>30</td>\n",
       "      <td>30</td>\n",
       "      <td>Cash</td>\n",
       "      <td>Yes</td>\n",
       "      <td>Excellent Experience</td>\n",
       "      <td>13260000.0</td>\n",
       "      <td>UAE</td>\n",
       "    </tr>\n",
       "    <tr>\n",
       "      <th>326</th>\n",
       "      <td>tour_1400</td>\n",
       "      <td>UAE</td>\n",
       "      <td>2022-01-24 00:00:00</td>\n",
       "      <td>Friends/Relatives</td>\n",
       "      <td>0.0</td>\n",
       "      <td>3.0</td>\n",
       "      <td>Business</td>\n",
       "      <td>Wildlife tourism</td>\n",
       "      <td>Friends, relatives</td>\n",
       "      <td>Independent</td>\n",
       "      <td>...</td>\n",
       "      <td>No</td>\n",
       "      <td>No</td>\n",
       "      <td>No</td>\n",
       "      <td>5</td>\n",
       "      <td>0</td>\n",
       "      <td>Credit Card</td>\n",
       "      <td>Yes</td>\n",
       "      <td>No comments</td>\n",
       "      <td>2320500.0</td>\n",
       "      <td>UAE</td>\n",
       "    </tr>\n",
       "    <tr>\n",
       "      <th>331</th>\n",
       "      <td>tour_1406</td>\n",
       "      <td>UAE</td>\n",
       "      <td>25-44</td>\n",
       "      <td>Alone</td>\n",
       "      <td>0.0</td>\n",
       "      <td>1.0</td>\n",
       "      <td>Meetings and Conference</td>\n",
       "      <td>Wildlife tourism</td>\n",
       "      <td>Friends, relatives</td>\n",
       "      <td>Independent</td>\n",
       "      <td>...</td>\n",
       "      <td>No</td>\n",
       "      <td>No</td>\n",
       "      <td>No</td>\n",
       "      <td>3</td>\n",
       "      <td>2</td>\n",
       "      <td>Cash</td>\n",
       "      <td>No</td>\n",
       "      <td>Excellent Experience</td>\n",
       "      <td>1657500.0</td>\n",
       "      <td>UAE</td>\n",
       "    </tr>\n",
       "    <tr>\n",
       "      <th>332</th>\n",
       "      <td>tour_1408</td>\n",
       "      <td>UAE</td>\n",
       "      <td>25-44</td>\n",
       "      <td>Alone</td>\n",
       "      <td>0.0</td>\n",
       "      <td>1.0</td>\n",
       "      <td>Leisure and Holidays</td>\n",
       "      <td>Wildlife tourism</td>\n",
       "      <td>Friends, relatives</td>\n",
       "      <td>Independent</td>\n",
       "      <td>...</td>\n",
       "      <td>No</td>\n",
       "      <td>No</td>\n",
       "      <td>No</td>\n",
       "      <td>4</td>\n",
       "      <td>0</td>\n",
       "      <td>Cash</td>\n",
       "      <td>Yes</td>\n",
       "      <td>Wildlife</td>\n",
       "      <td>3315000.0</td>\n",
       "      <td>UAE</td>\n",
       "    </tr>\n",
       "    <tr>\n",
       "      <th>350</th>\n",
       "      <td>tour_1427</td>\n",
       "      <td>UAE</td>\n",
       "      <td>25-44</td>\n",
       "      <td>NaN</td>\n",
       "      <td>0.0</td>\n",
       "      <td>1.0</td>\n",
       "      <td>Visiting Friends and Relatives</td>\n",
       "      <td>Cultural tourism</td>\n",
       "      <td>Friends, relatives</td>\n",
       "      <td>Independent</td>\n",
       "      <td>...</td>\n",
       "      <td>No</td>\n",
       "      <td>No</td>\n",
       "      <td>No</td>\n",
       "      <td>30</td>\n",
       "      <td>0</td>\n",
       "      <td>Cash</td>\n",
       "      <td>No</td>\n",
       "      <td>Wildlife</td>\n",
       "      <td>3315000.0</td>\n",
       "      <td>UAE</td>\n",
       "    </tr>\n",
       "    <tr>\n",
       "      <th>450</th>\n",
       "      <td>tour_1556</td>\n",
       "      <td>UAE</td>\n",
       "      <td>25-44</td>\n",
       "      <td>Alone</td>\n",
       "      <td>1.0</td>\n",
       "      <td>0.0</td>\n",
       "      <td>Meetings and Conference</td>\n",
       "      <td>Cultural tourism</td>\n",
       "      <td>Friends, relatives</td>\n",
       "      <td>Independent</td>\n",
       "      <td>...</td>\n",
       "      <td>No</td>\n",
       "      <td>No</td>\n",
       "      <td>No</td>\n",
       "      <td>1</td>\n",
       "      <td>0</td>\n",
       "      <td>Cash</td>\n",
       "      <td>Yes</td>\n",
       "      <td>Good service</td>\n",
       "      <td>331500.0</td>\n",
       "      <td>UAE</td>\n",
       "    </tr>\n",
       "    <tr>\n",
       "      <th>481</th>\n",
       "      <td>tour_1593</td>\n",
       "      <td>UAE</td>\n",
       "      <td>45-64</td>\n",
       "      <td>Alone</td>\n",
       "      <td>0.0</td>\n",
       "      <td>1.0</td>\n",
       "      <td>Visiting Friends and Relatives</td>\n",
       "      <td>Hunting tourism</td>\n",
       "      <td>Friends, relatives</td>\n",
       "      <td>Independent</td>\n",
       "      <td>...</td>\n",
       "      <td>No</td>\n",
       "      <td>No</td>\n",
       "      <td>No</td>\n",
       "      <td>12</td>\n",
       "      <td>0</td>\n",
       "      <td>Cash</td>\n",
       "      <td>No</td>\n",
       "      <td>Satisfies and Hope Come Back</td>\n",
       "      <td>1524900.0</td>\n",
       "      <td>UAE</td>\n",
       "    </tr>\n",
       "    <tr>\n",
       "      <th>518</th>\n",
       "      <td>tour_1642</td>\n",
       "      <td>UAE</td>\n",
       "      <td>25-44</td>\n",
       "      <td>Spouse</td>\n",
       "      <td>1.0</td>\n",
       "      <td>1.0</td>\n",
       "      <td>Leisure and Holidays</td>\n",
       "      <td>Wildlife tourism</td>\n",
       "      <td>Travel, agent, tour operator</td>\n",
       "      <td>Package Tour</td>\n",
       "      <td>...</td>\n",
       "      <td>No</td>\n",
       "      <td>Yes</td>\n",
       "      <td>No</td>\n",
       "      <td>5</td>\n",
       "      <td>0</td>\n",
       "      <td>Cash</td>\n",
       "      <td>Yes</td>\n",
       "      <td>Wildlife</td>\n",
       "      <td>8121750.0</td>\n",
       "      <td>UAE</td>\n",
       "    </tr>\n",
       "    <tr>\n",
       "      <th>824</th>\n",
       "      <td>tour_2016</td>\n",
       "      <td>UAE</td>\n",
       "      <td>65+</td>\n",
       "      <td>Alone</td>\n",
       "      <td>0.0</td>\n",
       "      <td>1.0</td>\n",
       "      <td>Meetings and Conference</td>\n",
       "      <td>Mountain climbing</td>\n",
       "      <td>others</td>\n",
       "      <td>Independent</td>\n",
       "      <td>...</td>\n",
       "      <td>No</td>\n",
       "      <td>No</td>\n",
       "      <td>No</td>\n",
       "      <td>10</td>\n",
       "      <td>0</td>\n",
       "      <td>Credit Card</td>\n",
       "      <td>No</td>\n",
       "      <td>Friendly People</td>\n",
       "      <td>5304000.0</td>\n",
       "      <td>UAE</td>\n",
       "    </tr>\n",
       "    <tr>\n",
       "      <th>1050</th>\n",
       "      <td>tour_2290</td>\n",
       "      <td>UNITED ARAB EMIRATES</td>\n",
       "      <td>65+</td>\n",
       "      <td>NaN</td>\n",
       "      <td>0.0</td>\n",
       "      <td>1.0</td>\n",
       "      <td>Leisure and Holidays</td>\n",
       "      <td>Wildlife tourism</td>\n",
       "      <td>Friends, relatives</td>\n",
       "      <td>Package Tour</td>\n",
       "      <td>...</td>\n",
       "      <td>Yes</td>\n",
       "      <td>Yes</td>\n",
       "      <td>Yes</td>\n",
       "      <td>14</td>\n",
       "      <td>0</td>\n",
       "      <td>Cash</td>\n",
       "      <td>Yes</td>\n",
       "      <td>Wildlife</td>\n",
       "      <td>18232500.0</td>\n",
       "      <td>UAE</td>\n",
       "    </tr>\n",
       "    <tr>\n",
       "      <th>1091</th>\n",
       "      <td>tour_2343</td>\n",
       "      <td>UNITED ARAB EMIRATES</td>\n",
       "      <td>45-64</td>\n",
       "      <td>NaN</td>\n",
       "      <td>1.0</td>\n",
       "      <td>0.0</td>\n",
       "      <td>Leisure and Holidays</td>\n",
       "      <td>Wildlife tourism</td>\n",
       "      <td>Travel, agent, tour operator</td>\n",
       "      <td>Independent</td>\n",
       "      <td>...</td>\n",
       "      <td>No</td>\n",
       "      <td>No</td>\n",
       "      <td>No</td>\n",
       "      <td>11</td>\n",
       "      <td>0</td>\n",
       "      <td>Credit Card</td>\n",
       "      <td>Yes</td>\n",
       "      <td>Good service</td>\n",
       "      <td>7458750.0</td>\n",
       "      <td>UAE</td>\n",
       "    </tr>\n",
       "    <tr>\n",
       "      <th>1173</th>\n",
       "      <td>tour_2438</td>\n",
       "      <td>UAE</td>\n",
       "      <td>25-44</td>\n",
       "      <td>NaN</td>\n",
       "      <td>0.0</td>\n",
       "      <td>1.0</td>\n",
       "      <td>Leisure and Holidays</td>\n",
       "      <td>Cultural tourism</td>\n",
       "      <td>Friends, relatives</td>\n",
       "      <td>Independent</td>\n",
       "      <td>...</td>\n",
       "      <td>No</td>\n",
       "      <td>No</td>\n",
       "      <td>No</td>\n",
       "      <td>3</td>\n",
       "      <td>0</td>\n",
       "      <td>Cash</td>\n",
       "      <td>Yes</td>\n",
       "      <td>Wildlife</td>\n",
       "      <td>951405.0</td>\n",
       "      <td>UAE</td>\n",
       "    </tr>\n",
       "    <tr>\n",
       "      <th>1329</th>\n",
       "      <td>tour_2635</td>\n",
       "      <td>UAE</td>\n",
       "      <td>25-44</td>\n",
       "      <td>NaN</td>\n",
       "      <td>1.0</td>\n",
       "      <td>0.0</td>\n",
       "      <td>Meetings and Conference</td>\n",
       "      <td>Wildlife tourism</td>\n",
       "      <td>Friends, relatives</td>\n",
       "      <td>Independent</td>\n",
       "      <td>...</td>\n",
       "      <td>No</td>\n",
       "      <td>No</td>\n",
       "      <td>No</td>\n",
       "      <td>2</td>\n",
       "      <td>0</td>\n",
       "      <td>Cash</td>\n",
       "      <td>No</td>\n",
       "      <td>Friendly People</td>\n",
       "      <td>1574625.0</td>\n",
       "      <td>UAE</td>\n",
       "    </tr>\n",
       "    <tr>\n",
       "      <th>1414</th>\n",
       "      <td>tour_2739</td>\n",
       "      <td>UNITED ARAB EMIRATES</td>\n",
       "      <td>25-44</td>\n",
       "      <td>Spouse</td>\n",
       "      <td>1.0</td>\n",
       "      <td>1.0</td>\n",
       "      <td>Leisure and Holidays</td>\n",
       "      <td>Wildlife tourism</td>\n",
       "      <td>Travel, agent, tour operator</td>\n",
       "      <td>Package Tour</td>\n",
       "      <td>...</td>\n",
       "      <td>Yes</td>\n",
       "      <td>Yes</td>\n",
       "      <td>No</td>\n",
       "      <td>9</td>\n",
       "      <td>2</td>\n",
       "      <td>Cash</td>\n",
       "      <td>Yes</td>\n",
       "      <td>Wildlife</td>\n",
       "      <td>580125.0</td>\n",
       "      <td>UAE</td>\n",
       "    </tr>\n",
       "    <tr>\n",
       "      <th>1450</th>\n",
       "      <td>tour_2778</td>\n",
       "      <td>UAE</td>\n",
       "      <td>45-64</td>\n",
       "      <td>Alone</td>\n",
       "      <td>0.0</td>\n",
       "      <td>1.0</td>\n",
       "      <td>Meetings and Conference</td>\n",
       "      <td>Mountain climbing</td>\n",
       "      <td>Travel, agent, tour operator</td>\n",
       "      <td>Independent</td>\n",
       "      <td>...</td>\n",
       "      <td>No</td>\n",
       "      <td>No</td>\n",
       "      <td>No</td>\n",
       "      <td>9</td>\n",
       "      <td>0</td>\n",
       "      <td>Cash</td>\n",
       "      <td>No</td>\n",
       "      <td>Satisfies and Hope Come Back</td>\n",
       "      <td>3315000.0</td>\n",
       "      <td>UAE</td>\n",
       "    </tr>\n",
       "    <tr>\n",
       "      <th>1511</th>\n",
       "      <td>tour_2858</td>\n",
       "      <td>UNITED ARAB EMIRATES</td>\n",
       "      <td>2022-01-24 00:00:00</td>\n",
       "      <td>NaN</td>\n",
       "      <td>0.0</td>\n",
       "      <td>1.0</td>\n",
       "      <td>Volunteering</td>\n",
       "      <td>Hunting tourism</td>\n",
       "      <td>Radio, TV, Web</td>\n",
       "      <td>Package Tour</td>\n",
       "      <td>...</td>\n",
       "      <td>Yes</td>\n",
       "      <td>No</td>\n",
       "      <td>Yes</td>\n",
       "      <td>14</td>\n",
       "      <td>0</td>\n",
       "      <td>Cash</td>\n",
       "      <td>Yes</td>\n",
       "      <td>Friendly People</td>\n",
       "      <td>2005575.0</td>\n",
       "      <td>UAE</td>\n",
       "    </tr>\n",
       "    <tr>\n",
       "      <th>1611</th>\n",
       "      <td>tour_2978</td>\n",
       "      <td>UAE</td>\n",
       "      <td>25-44</td>\n",
       "      <td>Spouse</td>\n",
       "      <td>1.0</td>\n",
       "      <td>1.0</td>\n",
       "      <td>Leisure and Holidays</td>\n",
       "      <td>Wildlife tourism</td>\n",
       "      <td>Friends, relatives</td>\n",
       "      <td>Independent</td>\n",
       "      <td>...</td>\n",
       "      <td>No</td>\n",
       "      <td>No</td>\n",
       "      <td>No</td>\n",
       "      <td>5</td>\n",
       "      <td>0</td>\n",
       "      <td>Cash</td>\n",
       "      <td>No</td>\n",
       "      <td>Good service</td>\n",
       "      <td>4143750.0</td>\n",
       "      <td>UAE</td>\n",
       "    </tr>\n",
       "    <tr>\n",
       "      <th>1717</th>\n",
       "      <td>tour_309</td>\n",
       "      <td>UAE</td>\n",
       "      <td>45-64</td>\n",
       "      <td>Children</td>\n",
       "      <td>4.0</td>\n",
       "      <td>1.0</td>\n",
       "      <td>Visiting Friends and Relatives</td>\n",
       "      <td>Hunting tourism</td>\n",
       "      <td>Friends, relatives</td>\n",
       "      <td>Independent</td>\n",
       "      <td>...</td>\n",
       "      <td>No</td>\n",
       "      <td>No</td>\n",
       "      <td>No</td>\n",
       "      <td>7</td>\n",
       "      <td>0</td>\n",
       "      <td>Cash</td>\n",
       "      <td>No</td>\n",
       "      <td>Wonderful Country, Landscape, Nature</td>\n",
       "      <td>4972500.0</td>\n",
       "      <td>UAE</td>\n",
       "    </tr>\n",
       "    <tr>\n",
       "      <th>1730</th>\n",
       "      <td>tour_3108</td>\n",
       "      <td>UNITED ARAB EMIRATES</td>\n",
       "      <td>65+</td>\n",
       "      <td>Friends/Relatives</td>\n",
       "      <td>2.0</td>\n",
       "      <td>0.0</td>\n",
       "      <td>Visiting Friends and Relatives</td>\n",
       "      <td>Cultural tourism</td>\n",
       "      <td>Friends, relatives</td>\n",
       "      <td>Independent</td>\n",
       "      <td>...</td>\n",
       "      <td>No</td>\n",
       "      <td>No</td>\n",
       "      <td>No</td>\n",
       "      <td>9</td>\n",
       "      <td>0</td>\n",
       "      <td>Cash</td>\n",
       "      <td>No</td>\n",
       "      <td>Wildlife</td>\n",
       "      <td>6630000.0</td>\n",
       "      <td>UAE</td>\n",
       "    </tr>\n",
       "    <tr>\n",
       "      <th>1807</th>\n",
       "      <td>tour_3197</td>\n",
       "      <td>UAE</td>\n",
       "      <td>25-44</td>\n",
       "      <td>NaN</td>\n",
       "      <td>1.0</td>\n",
       "      <td>0.0</td>\n",
       "      <td>Leisure and Holidays</td>\n",
       "      <td>Conference tourism</td>\n",
       "      <td>Travel, agent, tour operator</td>\n",
       "      <td>Package Tour</td>\n",
       "      <td>...</td>\n",
       "      <td>No</td>\n",
       "      <td>Yes</td>\n",
       "      <td>No</td>\n",
       "      <td>9</td>\n",
       "      <td>0</td>\n",
       "      <td>Cash</td>\n",
       "      <td>Yes</td>\n",
       "      <td>No comments</td>\n",
       "      <td>4309500.0</td>\n",
       "      <td>UAE</td>\n",
       "    </tr>\n",
       "    <tr>\n",
       "      <th>1823</th>\n",
       "      <td>tour_3215</td>\n",
       "      <td>UAE</td>\n",
       "      <td>25-44</td>\n",
       "      <td>Friends/Relatives</td>\n",
       "      <td>1.0</td>\n",
       "      <td>1.0</td>\n",
       "      <td>Leisure and Holidays</td>\n",
       "      <td>Beach tourism</td>\n",
       "      <td>Friends, relatives</td>\n",
       "      <td>Independent</td>\n",
       "      <td>...</td>\n",
       "      <td>No</td>\n",
       "      <td>No</td>\n",
       "      <td>No</td>\n",
       "      <td>0</td>\n",
       "      <td>2</td>\n",
       "      <td>Cash</td>\n",
       "      <td>No</td>\n",
       "      <td>Wildlife</td>\n",
       "      <td>1657500.0</td>\n",
       "      <td>UAE</td>\n",
       "    </tr>\n",
       "    <tr>\n",
       "      <th>1878</th>\n",
       "      <td>tour_3281</td>\n",
       "      <td>UAE</td>\n",
       "      <td>25-44</td>\n",
       "      <td>Alone</td>\n",
       "      <td>0.0</td>\n",
       "      <td>1.0</td>\n",
       "      <td>Visiting Friends and Relatives</td>\n",
       "      <td>Beach tourism</td>\n",
       "      <td>Friends, relatives</td>\n",
       "      <td>Independent</td>\n",
       "      <td>...</td>\n",
       "      <td>No</td>\n",
       "      <td>No</td>\n",
       "      <td>No</td>\n",
       "      <td>2</td>\n",
       "      <td>2</td>\n",
       "      <td>Cash</td>\n",
       "      <td>No</td>\n",
       "      <td>Good service</td>\n",
       "      <td>3315000.0</td>\n",
       "      <td>UAE</td>\n",
       "    </tr>\n",
       "    <tr>\n",
       "      <th>1976</th>\n",
       "      <td>tour_340</td>\n",
       "      <td>UAE</td>\n",
       "      <td>25-44</td>\n",
       "      <td>Alone</td>\n",
       "      <td>0.0</td>\n",
       "      <td>1.0</td>\n",
       "      <td>Leisure and Holidays</td>\n",
       "      <td>Beach tourism</td>\n",
       "      <td>Trade fair</td>\n",
       "      <td>Independent</td>\n",
       "      <td>...</td>\n",
       "      <td>No</td>\n",
       "      <td>No</td>\n",
       "      <td>No</td>\n",
       "      <td>3</td>\n",
       "      <td>0</td>\n",
       "      <td>Cash</td>\n",
       "      <td>No</td>\n",
       "      <td>Friendly People</td>\n",
       "      <td>828750.0</td>\n",
       "      <td>UAE</td>\n",
       "    </tr>\n",
       "    <tr>\n",
       "      <th>2082</th>\n",
       "      <td>tour_3529</td>\n",
       "      <td>UNITED ARAB EMIRATES</td>\n",
       "      <td>65+</td>\n",
       "      <td>Children</td>\n",
       "      <td>0.0</td>\n",
       "      <td>4.0</td>\n",
       "      <td>Leisure and Holidays</td>\n",
       "      <td>Conference tourism</td>\n",
       "      <td>Travel, agent, tour operator</td>\n",
       "      <td>Package Tour</td>\n",
       "      <td>...</td>\n",
       "      <td>No</td>\n",
       "      <td>Yes</td>\n",
       "      <td>Yes</td>\n",
       "      <td>12</td>\n",
       "      <td>0</td>\n",
       "      <td>Cash</td>\n",
       "      <td>Yes</td>\n",
       "      <td>Friendly People</td>\n",
       "      <td>4060875.0</td>\n",
       "      <td>UAE</td>\n",
       "    </tr>\n",
       "    <tr>\n",
       "      <th>2126</th>\n",
       "      <td>tour_3581</td>\n",
       "      <td>UAE</td>\n",
       "      <td>2022-01-24 00:00:00</td>\n",
       "      <td>NaN</td>\n",
       "      <td>1.0</td>\n",
       "      <td>0.0</td>\n",
       "      <td>Leisure and Holidays</td>\n",
       "      <td>Cultural tourism</td>\n",
       "      <td>Travel, agent, tour operator</td>\n",
       "      <td>Package Tour</td>\n",
       "      <td>...</td>\n",
       "      <td>No</td>\n",
       "      <td>Yes</td>\n",
       "      <td>No</td>\n",
       "      <td>4</td>\n",
       "      <td>4</td>\n",
       "      <td>Cash</td>\n",
       "      <td>Yes</td>\n",
       "      <td>Wildlife</td>\n",
       "      <td>12129733.0</td>\n",
       "      <td>UAE</td>\n",
       "    </tr>\n",
       "    <tr>\n",
       "      <th>2297</th>\n",
       "      <td>tour_38</td>\n",
       "      <td>UAE</td>\n",
       "      <td>45-64</td>\n",
       "      <td>Alone</td>\n",
       "      <td>1.0</td>\n",
       "      <td>0.0</td>\n",
       "      <td>Visiting Friends and Relatives</td>\n",
       "      <td>Hunting tourism</td>\n",
       "      <td>Friends, relatives</td>\n",
       "      <td>Independent</td>\n",
       "      <td>...</td>\n",
       "      <td>No</td>\n",
       "      <td>No</td>\n",
       "      <td>No</td>\n",
       "      <td>20</td>\n",
       "      <td>0</td>\n",
       "      <td>Cash</td>\n",
       "      <td>No</td>\n",
       "      <td>Wonderful Country, Landscape, Nature</td>\n",
       "      <td>3315000.0</td>\n",
       "      <td>UAE</td>\n",
       "    </tr>\n",
       "    <tr>\n",
       "      <th>2357</th>\n",
       "      <td>tour_3871</td>\n",
       "      <td>UAE</td>\n",
       "      <td>45-64</td>\n",
       "      <td>Spouse and Children</td>\n",
       "      <td>5.0</td>\n",
       "      <td>1.0</td>\n",
       "      <td>Leisure and Holidays</td>\n",
       "      <td>Beach tourism</td>\n",
       "      <td>Radio, TV, Web</td>\n",
       "      <td>Independent</td>\n",
       "      <td>...</td>\n",
       "      <td>No</td>\n",
       "      <td>No</td>\n",
       "      <td>No</td>\n",
       "      <td>9</td>\n",
       "      <td>5</td>\n",
       "      <td>Cash</td>\n",
       "      <td>Yes</td>\n",
       "      <td>Wildlife</td>\n",
       "      <td>16575000.0</td>\n",
       "      <td>UAE</td>\n",
       "    </tr>\n",
       "    <tr>\n",
       "      <th>2529</th>\n",
       "      <td>tour_4078</td>\n",
       "      <td>UNITED ARAB EMIRATES</td>\n",
       "      <td>45-64</td>\n",
       "      <td>Friends/Relatives</td>\n",
       "      <td>0.0</td>\n",
       "      <td>2.0</td>\n",
       "      <td>Leisure and Holidays</td>\n",
       "      <td>Beach tourism</td>\n",
       "      <td>others</td>\n",
       "      <td>Independent</td>\n",
       "      <td>...</td>\n",
       "      <td>No</td>\n",
       "      <td>No</td>\n",
       "      <td>No</td>\n",
       "      <td>0</td>\n",
       "      <td>4</td>\n",
       "      <td>Cash</td>\n",
       "      <td>Yes</td>\n",
       "      <td>Wildlife</td>\n",
       "      <td>82875.0</td>\n",
       "      <td>UAE</td>\n",
       "    </tr>\n",
       "    <tr>\n",
       "      <th>2911</th>\n",
       "      <td>tour_4548</td>\n",
       "      <td>UNITED ARAB EMIRATES</td>\n",
       "      <td>45-64</td>\n",
       "      <td>Spouse</td>\n",
       "      <td>1.0</td>\n",
       "      <td>1.0</td>\n",
       "      <td>Leisure and Holidays</td>\n",
       "      <td>Bird watching</td>\n",
       "      <td>Friends, relatives</td>\n",
       "      <td>Independent</td>\n",
       "      <td>...</td>\n",
       "      <td>No</td>\n",
       "      <td>No</td>\n",
       "      <td>No</td>\n",
       "      <td>2</td>\n",
       "      <td>0</td>\n",
       "      <td>Cash</td>\n",
       "      <td>Yes</td>\n",
       "      <td>Wonderful Country, Landscape, Nature</td>\n",
       "      <td>663000.0</td>\n",
       "      <td>UAE</td>\n",
       "    </tr>\n",
       "    <tr>\n",
       "      <th>3099</th>\n",
       "      <td>tour_4755</td>\n",
       "      <td>UNITED ARAB EMIRATES</td>\n",
       "      <td>45-64</td>\n",
       "      <td>Spouse and Children</td>\n",
       "      <td>2.0</td>\n",
       "      <td>2.0</td>\n",
       "      <td>Leisure and Holidays</td>\n",
       "      <td>Wildlife tourism</td>\n",
       "      <td>Radio, TV, Web</td>\n",
       "      <td>Package Tour</td>\n",
       "      <td>...</td>\n",
       "      <td>Yes</td>\n",
       "      <td>Yes</td>\n",
       "      <td>No</td>\n",
       "      <td>6</td>\n",
       "      <td>0</td>\n",
       "      <td>Credit Card</td>\n",
       "      <td>Yes</td>\n",
       "      <td>Good service</td>\n",
       "      <td>25189563.0</td>\n",
       "      <td>UAE</td>\n",
       "    </tr>\n",
       "    <tr>\n",
       "      <th>3153</th>\n",
       "      <td>tour_4813</td>\n",
       "      <td>UNITED ARAB EMIRATES</td>\n",
       "      <td>65+</td>\n",
       "      <td>Friends/Relatives</td>\n",
       "      <td>1.0</td>\n",
       "      <td>3.0</td>\n",
       "      <td>Leisure and Holidays</td>\n",
       "      <td>Conference tourism</td>\n",
       "      <td>Travel, agent, tour operator</td>\n",
       "      <td>Package Tour</td>\n",
       "      <td>...</td>\n",
       "      <td>No</td>\n",
       "      <td>Yes</td>\n",
       "      <td>Yes</td>\n",
       "      <td>6</td>\n",
       "      <td>0</td>\n",
       "      <td>Cash</td>\n",
       "      <td>Yes</td>\n",
       "      <td>Friendly People</td>\n",
       "      <td>33150000.0</td>\n",
       "      <td>UAE</td>\n",
       "    </tr>\n",
       "    <tr>\n",
       "      <th>3251</th>\n",
       "      <td>tour_4932</td>\n",
       "      <td>UAE</td>\n",
       "      <td>25-44</td>\n",
       "      <td>Spouse</td>\n",
       "      <td>1.0</td>\n",
       "      <td>1.0</td>\n",
       "      <td>Leisure and Holidays</td>\n",
       "      <td>Wildlife tourism</td>\n",
       "      <td>Travel, agent, tour operator</td>\n",
       "      <td>Package Tour</td>\n",
       "      <td>...</td>\n",
       "      <td>Yes</td>\n",
       "      <td>Yes</td>\n",
       "      <td>No</td>\n",
       "      <td>4</td>\n",
       "      <td>4</td>\n",
       "      <td>Cash</td>\n",
       "      <td>Yes</td>\n",
       "      <td>Friendly People</td>\n",
       "      <td>6630000.0</td>\n",
       "      <td>UAE</td>\n",
       "    </tr>\n",
       "    <tr>\n",
       "      <th>3392</th>\n",
       "      <td>tour_5100</td>\n",
       "      <td>UNITED ARAB EMIRATES</td>\n",
       "      <td>45-64</td>\n",
       "      <td>NaN</td>\n",
       "      <td>0.0</td>\n",
       "      <td>1.0</td>\n",
       "      <td>Leisure and Holidays</td>\n",
       "      <td>Wildlife tourism</td>\n",
       "      <td>others</td>\n",
       "      <td>Package Tour</td>\n",
       "      <td>...</td>\n",
       "      <td>Yes</td>\n",
       "      <td>Yes</td>\n",
       "      <td>No</td>\n",
       "      <td>13</td>\n",
       "      <td>0</td>\n",
       "      <td>Credit Card</td>\n",
       "      <td>Yes</td>\n",
       "      <td>Friendly People</td>\n",
       "      <td>10110750.0</td>\n",
       "      <td>UAE</td>\n",
       "    </tr>\n",
       "    <tr>\n",
       "      <th>3773</th>\n",
       "      <td>tour_5579</td>\n",
       "      <td>UAE</td>\n",
       "      <td>25-44</td>\n",
       "      <td>Friends/Relatives</td>\n",
       "      <td>2.0</td>\n",
       "      <td>0.0</td>\n",
       "      <td>Leisure and Holidays</td>\n",
       "      <td>Beach tourism</td>\n",
       "      <td>Radio, TV, Web</td>\n",
       "      <td>Independent</td>\n",
       "      <td>...</td>\n",
       "      <td>No</td>\n",
       "      <td>No</td>\n",
       "      <td>No</td>\n",
       "      <td>10</td>\n",
       "      <td>2</td>\n",
       "      <td>Cash</td>\n",
       "      <td>Yes</td>\n",
       "      <td>Wildlife</td>\n",
       "      <td>4591275.0</td>\n",
       "      <td>UAE</td>\n",
       "    </tr>\n",
       "    <tr>\n",
       "      <th>3948</th>\n",
       "      <td>tour_5794</td>\n",
       "      <td>UNITED ARAB EMIRATES</td>\n",
       "      <td>45-64</td>\n",
       "      <td>Friends/Relatives</td>\n",
       "      <td>2.0</td>\n",
       "      <td>0.0</td>\n",
       "      <td>Leisure and Holidays</td>\n",
       "      <td>Wildlife tourism</td>\n",
       "      <td>Friends, relatives</td>\n",
       "      <td>Package Tour</td>\n",
       "      <td>...</td>\n",
       "      <td>No</td>\n",
       "      <td>No</td>\n",
       "      <td>No</td>\n",
       "      <td>6</td>\n",
       "      <td>4</td>\n",
       "      <td>Cash</td>\n",
       "      <td>Yes</td>\n",
       "      <td>Friendly People</td>\n",
       "      <td>16213903.0</td>\n",
       "      <td>UAE</td>\n",
       "    </tr>\n",
       "    <tr>\n",
       "      <th>4189</th>\n",
       "      <td>tour_608</td>\n",
       "      <td>UAE</td>\n",
       "      <td>25-44</td>\n",
       "      <td>Spouse and Children</td>\n",
       "      <td>2.0</td>\n",
       "      <td>2.0</td>\n",
       "      <td>Visiting Friends and Relatives</td>\n",
       "      <td>Wildlife tourism</td>\n",
       "      <td>Friends, relatives</td>\n",
       "      <td>Package Tour</td>\n",
       "      <td>...</td>\n",
       "      <td>No</td>\n",
       "      <td>No</td>\n",
       "      <td>No</td>\n",
       "      <td>30</td>\n",
       "      <td>3</td>\n",
       "      <td>Cash</td>\n",
       "      <td>No</td>\n",
       "      <td>Wildlife</td>\n",
       "      <td>11602500.0</td>\n",
       "      <td>UAE</td>\n",
       "    </tr>\n",
       "    <tr>\n",
       "      <th>4210</th>\n",
       "      <td>tour_6102</td>\n",
       "      <td>UNITED ARAB EMIRATES</td>\n",
       "      <td>25-44</td>\n",
       "      <td>Friends/Relatives</td>\n",
       "      <td>0.0</td>\n",
       "      <td>3.0</td>\n",
       "      <td>Leisure and Holidays</td>\n",
       "      <td>Conference tourism</td>\n",
       "      <td>Travel, agent, tour operator</td>\n",
       "      <td>Package Tour</td>\n",
       "      <td>...</td>\n",
       "      <td>No</td>\n",
       "      <td>No</td>\n",
       "      <td>No</td>\n",
       "      <td>14</td>\n",
       "      <td>0</td>\n",
       "      <td>Cash</td>\n",
       "      <td>Yes</td>\n",
       "      <td>Wonderful Country, Landscape, Nature</td>\n",
       "      <td>28260375.0</td>\n",
       "      <td>UAE</td>\n",
       "    </tr>\n",
       "    <tr>\n",
       "      <th>4424</th>\n",
       "      <td>tour_636</td>\n",
       "      <td>UAE</td>\n",
       "      <td>45-64</td>\n",
       "      <td>Alone</td>\n",
       "      <td>0.0</td>\n",
       "      <td>1.0</td>\n",
       "      <td>Leisure and Holidays</td>\n",
       "      <td>business</td>\n",
       "      <td>Travel, agent, tour operator</td>\n",
       "      <td>Independent</td>\n",
       "      <td>...</td>\n",
       "      <td>No</td>\n",
       "      <td>No</td>\n",
       "      <td>No</td>\n",
       "      <td>3</td>\n",
       "      <td>0</td>\n",
       "      <td>Credit Card</td>\n",
       "      <td>No</td>\n",
       "      <td>No comments</td>\n",
       "      <td>1657500.0</td>\n",
       "      <td>UAE</td>\n",
       "    </tr>\n",
       "    <tr>\n",
       "      <th>4524</th>\n",
       "      <td>tour_649</td>\n",
       "      <td>UAE</td>\n",
       "      <td>25-44</td>\n",
       "      <td>NaN</td>\n",
       "      <td>0.0</td>\n",
       "      <td>1.0</td>\n",
       "      <td>Visiting Friends and Relatives</td>\n",
       "      <td>Beach tourism</td>\n",
       "      <td>Friends, relatives</td>\n",
       "      <td>Independent</td>\n",
       "      <td>...</td>\n",
       "      <td>No</td>\n",
       "      <td>No</td>\n",
       "      <td>No</td>\n",
       "      <td>10</td>\n",
       "      <td>0</td>\n",
       "      <td>Cash</td>\n",
       "      <td>No</td>\n",
       "      <td>Satisfies and Hope Come Back</td>\n",
       "      <td>1160250.0</td>\n",
       "      <td>UAE</td>\n",
       "    </tr>\n",
       "    <tr>\n",
       "      <th>4629</th>\n",
       "      <td>tour_78</td>\n",
       "      <td>UAE</td>\n",
       "      <td>25-44</td>\n",
       "      <td>Alone</td>\n",
       "      <td>0.0</td>\n",
       "      <td>1.0</td>\n",
       "      <td>Visiting Friends and Relatives</td>\n",
       "      <td>Beach tourism</td>\n",
       "      <td>Friends, relatives</td>\n",
       "      <td>Independent</td>\n",
       "      <td>...</td>\n",
       "      <td>No</td>\n",
       "      <td>No</td>\n",
       "      <td>No</td>\n",
       "      <td>3</td>\n",
       "      <td>0</td>\n",
       "      <td>Cash</td>\n",
       "      <td>Yes</td>\n",
       "      <td>Friendly People</td>\n",
       "      <td>1640925.0</td>\n",
       "      <td>UAE</td>\n",
       "    </tr>\n",
       "    <tr>\n",
       "      <th>4731</th>\n",
       "      <td>tour_90</td>\n",
       "      <td>UAE</td>\n",
       "      <td>2022-01-24 00:00:00</td>\n",
       "      <td>Friends/Relatives</td>\n",
       "      <td>2.0</td>\n",
       "      <td>1.0</td>\n",
       "      <td>Visiting Friends and Relatives</td>\n",
       "      <td>Beach tourism</td>\n",
       "      <td>Friends, relatives</td>\n",
       "      <td>Independent</td>\n",
       "      <td>...</td>\n",
       "      <td>No</td>\n",
       "      <td>No</td>\n",
       "      <td>No</td>\n",
       "      <td>30</td>\n",
       "      <td>0</td>\n",
       "      <td>Cash</td>\n",
       "      <td>No</td>\n",
       "      <td>Good service</td>\n",
       "      <td>10000000.0</td>\n",
       "      <td>UAE</td>\n",
       "    </tr>\n",
       "    <tr>\n",
       "      <th>4770</th>\n",
       "      <td>tour_949</td>\n",
       "      <td>UAE</td>\n",
       "      <td>25-44</td>\n",
       "      <td>Alone</td>\n",
       "      <td>1.0</td>\n",
       "      <td>0.0</td>\n",
       "      <td>Visiting Friends and Relatives</td>\n",
       "      <td>Hunting tourism</td>\n",
       "      <td>others</td>\n",
       "      <td>Independent</td>\n",
       "      <td>...</td>\n",
       "      <td>No</td>\n",
       "      <td>No</td>\n",
       "      <td>No</td>\n",
       "      <td>2</td>\n",
       "      <td>0</td>\n",
       "      <td>Cash</td>\n",
       "      <td>No</td>\n",
       "      <td>No comments</td>\n",
       "      <td>497250.0</td>\n",
       "      <td>UAE</td>\n",
       "    </tr>\n",
       "    <tr>\n",
       "      <th>4804</th>\n",
       "      <td>tour_993</td>\n",
       "      <td>UAE</td>\n",
       "      <td>45-64</td>\n",
       "      <td>Alone</td>\n",
       "      <td>0.0</td>\n",
       "      <td>1.0</td>\n",
       "      <td>Business</td>\n",
       "      <td>Hunting tourism</td>\n",
       "      <td>Friends, relatives</td>\n",
       "      <td>Independent</td>\n",
       "      <td>...</td>\n",
       "      <td>No</td>\n",
       "      <td>No</td>\n",
       "      <td>No</td>\n",
       "      <td>2</td>\n",
       "      <td>0</td>\n",
       "      <td>Credit Card</td>\n",
       "      <td>No</td>\n",
       "      <td>No comments</td>\n",
       "      <td>3315000.0</td>\n",
       "      <td>UAE</td>\n",
       "    </tr>\n",
       "  </tbody>\n",
       "</table>\n",
       "<p>46 rows × 24 columns</p>\n",
       "</div>"
      ],
      "text/plain": [
       "             ID               country            age_group  \\\n",
       "49    tour_1058                   UAE                25-44   \n",
       "202   tour_1246                   UAE                25-44   \n",
       "213   tour_1261                   UAE                25-44   \n",
       "302   tour_1373                   UAE                25-44   \n",
       "326   tour_1400                   UAE  2022-01-24 00:00:00   \n",
       "331   tour_1406                   UAE                25-44   \n",
       "332   tour_1408                   UAE                25-44   \n",
       "350   tour_1427                   UAE                25-44   \n",
       "450   tour_1556                   UAE                25-44   \n",
       "481   tour_1593                   UAE                45-64   \n",
       "518   tour_1642                   UAE                25-44   \n",
       "824   tour_2016                   UAE                  65+   \n",
       "1050  tour_2290  UNITED ARAB EMIRATES                  65+   \n",
       "1091  tour_2343  UNITED ARAB EMIRATES                45-64   \n",
       "1173  tour_2438                   UAE                25-44   \n",
       "1329  tour_2635                   UAE                25-44   \n",
       "1414  tour_2739  UNITED ARAB EMIRATES                25-44   \n",
       "1450  tour_2778                   UAE                45-64   \n",
       "1511  tour_2858  UNITED ARAB EMIRATES  2022-01-24 00:00:00   \n",
       "1611  tour_2978                   UAE                25-44   \n",
       "1717   tour_309                   UAE                45-64   \n",
       "1730  tour_3108  UNITED ARAB EMIRATES                  65+   \n",
       "1807  tour_3197                   UAE                25-44   \n",
       "1823  tour_3215                   UAE                25-44   \n",
       "1878  tour_3281                   UAE                25-44   \n",
       "1976   tour_340                   UAE                25-44   \n",
       "2082  tour_3529  UNITED ARAB EMIRATES                  65+   \n",
       "2126  tour_3581                   UAE  2022-01-24 00:00:00   \n",
       "2297    tour_38                   UAE                45-64   \n",
       "2357  tour_3871                   UAE                45-64   \n",
       "2529  tour_4078  UNITED ARAB EMIRATES                45-64   \n",
       "2911  tour_4548  UNITED ARAB EMIRATES                45-64   \n",
       "3099  tour_4755  UNITED ARAB EMIRATES                45-64   \n",
       "3153  tour_4813  UNITED ARAB EMIRATES                  65+   \n",
       "3251  tour_4932                   UAE                25-44   \n",
       "3392  tour_5100  UNITED ARAB EMIRATES                45-64   \n",
       "3773  tour_5579                   UAE                25-44   \n",
       "3948  tour_5794  UNITED ARAB EMIRATES                45-64   \n",
       "4189   tour_608                   UAE                25-44   \n",
       "4210  tour_6102  UNITED ARAB EMIRATES                25-44   \n",
       "4424   tour_636                   UAE                45-64   \n",
       "4524   tour_649                   UAE                25-44   \n",
       "4629    tour_78                   UAE                25-44   \n",
       "4731    tour_90                   UAE  2022-01-24 00:00:00   \n",
       "4770   tour_949                   UAE                25-44   \n",
       "4804   tour_993                   UAE                45-64   \n",
       "\n",
       "              travel_with  total_female  total_male  \\\n",
       "49                  Alone           0.0         1.0   \n",
       "202                   NaN           0.0         1.0   \n",
       "213                 Alone           0.0         1.0   \n",
       "302                 Alone           0.0         1.0   \n",
       "326     Friends/Relatives           0.0         3.0   \n",
       "331                 Alone           0.0         1.0   \n",
       "332                 Alone           0.0         1.0   \n",
       "350                   NaN           0.0         1.0   \n",
       "450                 Alone           1.0         0.0   \n",
       "481                 Alone           0.0         1.0   \n",
       "518                Spouse           1.0         1.0   \n",
       "824                 Alone           0.0         1.0   \n",
       "1050                  NaN           0.0         1.0   \n",
       "1091                  NaN           1.0         0.0   \n",
       "1173                  NaN           0.0         1.0   \n",
       "1329                  NaN           1.0         0.0   \n",
       "1414               Spouse           1.0         1.0   \n",
       "1450                Alone           0.0         1.0   \n",
       "1511                  NaN           0.0         1.0   \n",
       "1611               Spouse           1.0         1.0   \n",
       "1717             Children           4.0         1.0   \n",
       "1730    Friends/Relatives           2.0         0.0   \n",
       "1807                  NaN           1.0         0.0   \n",
       "1823    Friends/Relatives           1.0         1.0   \n",
       "1878                Alone           0.0         1.0   \n",
       "1976                Alone           0.0         1.0   \n",
       "2082             Children           0.0         4.0   \n",
       "2126                  NaN           1.0         0.0   \n",
       "2297                Alone           1.0         0.0   \n",
       "2357  Spouse and Children           5.0         1.0   \n",
       "2529    Friends/Relatives           0.0         2.0   \n",
       "2911               Spouse           1.0         1.0   \n",
       "3099  Spouse and Children           2.0         2.0   \n",
       "3153    Friends/Relatives           1.0         3.0   \n",
       "3251               Spouse           1.0         1.0   \n",
       "3392                  NaN           0.0         1.0   \n",
       "3773    Friends/Relatives           2.0         0.0   \n",
       "3948    Friends/Relatives           2.0         0.0   \n",
       "4189  Spouse and Children           2.0         2.0   \n",
       "4210    Friends/Relatives           0.0         3.0   \n",
       "4424                Alone           0.0         1.0   \n",
       "4524                  NaN           0.0         1.0   \n",
       "4629                Alone           0.0         1.0   \n",
       "4731    Friends/Relatives           2.0         1.0   \n",
       "4770                Alone           1.0         0.0   \n",
       "4804                Alone           0.0         1.0   \n",
       "\n",
       "                             purpose       main_activity  \\\n",
       "49    Visiting Friends and Relatives       Beach tourism   \n",
       "202                         Business   Mountain climbing   \n",
       "213             Leisure and Holidays       Beach tourism   \n",
       "302             Leisure and Holidays       Beach tourism   \n",
       "326                         Business    Wildlife tourism   \n",
       "331          Meetings and Conference    Wildlife tourism   \n",
       "332             Leisure and Holidays    Wildlife tourism   \n",
       "350   Visiting Friends and Relatives    Cultural tourism   \n",
       "450          Meetings and Conference    Cultural tourism   \n",
       "481   Visiting Friends and Relatives     Hunting tourism   \n",
       "518             Leisure and Holidays    Wildlife tourism   \n",
       "824          Meetings and Conference   Mountain climbing   \n",
       "1050            Leisure and Holidays    Wildlife tourism   \n",
       "1091            Leisure and Holidays    Wildlife tourism   \n",
       "1173            Leisure and Holidays    Cultural tourism   \n",
       "1329         Meetings and Conference    Wildlife tourism   \n",
       "1414            Leisure and Holidays    Wildlife tourism   \n",
       "1450         Meetings and Conference   Mountain climbing   \n",
       "1511                    Volunteering     Hunting tourism   \n",
       "1611            Leisure and Holidays    Wildlife tourism   \n",
       "1717  Visiting Friends and Relatives     Hunting tourism   \n",
       "1730  Visiting Friends and Relatives    Cultural tourism   \n",
       "1807            Leisure and Holidays  Conference tourism   \n",
       "1823            Leisure and Holidays       Beach tourism   \n",
       "1878  Visiting Friends and Relatives       Beach tourism   \n",
       "1976            Leisure and Holidays       Beach tourism   \n",
       "2082            Leisure and Holidays  Conference tourism   \n",
       "2126            Leisure and Holidays    Cultural tourism   \n",
       "2297  Visiting Friends and Relatives     Hunting tourism   \n",
       "2357            Leisure and Holidays       Beach tourism   \n",
       "2529            Leisure and Holidays       Beach tourism   \n",
       "2911            Leisure and Holidays       Bird watching   \n",
       "3099            Leisure and Holidays    Wildlife tourism   \n",
       "3153            Leisure and Holidays  Conference tourism   \n",
       "3251            Leisure and Holidays    Wildlife tourism   \n",
       "3392            Leisure and Holidays    Wildlife tourism   \n",
       "3773            Leisure and Holidays       Beach tourism   \n",
       "3948            Leisure and Holidays    Wildlife tourism   \n",
       "4189  Visiting Friends and Relatives    Wildlife tourism   \n",
       "4210            Leisure and Holidays  Conference tourism   \n",
       "4424            Leisure and Holidays            business   \n",
       "4524  Visiting Friends and Relatives       Beach tourism   \n",
       "4629  Visiting Friends and Relatives       Beach tourism   \n",
       "4731  Visiting Friends and Relatives       Beach tourism   \n",
       "4770  Visiting Friends and Relatives     Hunting tourism   \n",
       "4804                        Business     Hunting tourism   \n",
       "\n",
       "                         info_source tour_arrangement  ...  \\\n",
       "49                Friends, relatives      Independent  ...   \n",
       "202     Travel, agent, tour operator     Package Tour  ...   \n",
       "213   Newspaper, magazines,brochures      Independent  ...   \n",
       "302                   Radio, TV, Web     Package Tour  ...   \n",
       "326               Friends, relatives      Independent  ...   \n",
       "331               Friends, relatives      Independent  ...   \n",
       "332               Friends, relatives      Independent  ...   \n",
       "350               Friends, relatives      Independent  ...   \n",
       "450               Friends, relatives      Independent  ...   \n",
       "481               Friends, relatives      Independent  ...   \n",
       "518     Travel, agent, tour operator     Package Tour  ...   \n",
       "824                           others      Independent  ...   \n",
       "1050              Friends, relatives     Package Tour  ...   \n",
       "1091    Travel, agent, tour operator      Independent  ...   \n",
       "1173              Friends, relatives      Independent  ...   \n",
       "1329              Friends, relatives      Independent  ...   \n",
       "1414    Travel, agent, tour operator     Package Tour  ...   \n",
       "1450    Travel, agent, tour operator      Independent  ...   \n",
       "1511                  Radio, TV, Web     Package Tour  ...   \n",
       "1611              Friends, relatives      Independent  ...   \n",
       "1717              Friends, relatives      Independent  ...   \n",
       "1730              Friends, relatives      Independent  ...   \n",
       "1807    Travel, agent, tour operator     Package Tour  ...   \n",
       "1823              Friends, relatives      Independent  ...   \n",
       "1878              Friends, relatives      Independent  ...   \n",
       "1976                      Trade fair      Independent  ...   \n",
       "2082    Travel, agent, tour operator     Package Tour  ...   \n",
       "2126    Travel, agent, tour operator     Package Tour  ...   \n",
       "2297              Friends, relatives      Independent  ...   \n",
       "2357                  Radio, TV, Web      Independent  ...   \n",
       "2529                          others      Independent  ...   \n",
       "2911              Friends, relatives      Independent  ...   \n",
       "3099                  Radio, TV, Web     Package Tour  ...   \n",
       "3153    Travel, agent, tour operator     Package Tour  ...   \n",
       "3251    Travel, agent, tour operator     Package Tour  ...   \n",
       "3392                          others     Package Tour  ...   \n",
       "3773                  Radio, TV, Web      Independent  ...   \n",
       "3948              Friends, relatives     Package Tour  ...   \n",
       "4189              Friends, relatives     Package Tour  ...   \n",
       "4210    Travel, agent, tour operator     Package Tour  ...   \n",
       "4424    Travel, agent, tour operator      Independent  ...   \n",
       "4524              Friends, relatives      Independent  ...   \n",
       "4629              Friends, relatives      Independent  ...   \n",
       "4731              Friends, relatives      Independent  ...   \n",
       "4770                          others      Independent  ...   \n",
       "4804              Friends, relatives      Independent  ...   \n",
       "\n",
       "     package_sightseeing package_guided_tour package_insurance night_mainland  \\\n",
       "49                    No                  No                No              7   \n",
       "202                   No                  No                No              3   \n",
       "213                   No                  No                No              4   \n",
       "302                  Yes                 Yes                No             30   \n",
       "326                   No                  No                No              5   \n",
       "331                   No                  No                No              3   \n",
       "332                   No                  No                No              4   \n",
       "350                   No                  No                No             30   \n",
       "450                   No                  No                No              1   \n",
       "481                   No                  No                No             12   \n",
       "518                   No                 Yes                No              5   \n",
       "824                   No                  No                No             10   \n",
       "1050                 Yes                 Yes               Yes             14   \n",
       "1091                  No                  No                No             11   \n",
       "1173                  No                  No                No              3   \n",
       "1329                  No                  No                No              2   \n",
       "1414                 Yes                 Yes                No              9   \n",
       "1450                  No                  No                No              9   \n",
       "1511                 Yes                  No               Yes             14   \n",
       "1611                  No                  No                No              5   \n",
       "1717                  No                  No                No              7   \n",
       "1730                  No                  No                No              9   \n",
       "1807                  No                 Yes                No              9   \n",
       "1823                  No                  No                No              0   \n",
       "1878                  No                  No                No              2   \n",
       "1976                  No                  No                No              3   \n",
       "2082                  No                 Yes               Yes             12   \n",
       "2126                  No                 Yes                No              4   \n",
       "2297                  No                  No                No             20   \n",
       "2357                  No                  No                No              9   \n",
       "2529                  No                  No                No              0   \n",
       "2911                  No                  No                No              2   \n",
       "3099                 Yes                 Yes                No              6   \n",
       "3153                  No                 Yes               Yes              6   \n",
       "3251                 Yes                 Yes                No              4   \n",
       "3392                 Yes                 Yes                No             13   \n",
       "3773                  No                  No                No             10   \n",
       "3948                  No                  No                No              6   \n",
       "4189                  No                  No                No             30   \n",
       "4210                  No                  No                No             14   \n",
       "4424                  No                  No                No              3   \n",
       "4524                  No                  No                No             10   \n",
       "4629                  No                  No                No              3   \n",
       "4731                  No                  No                No             30   \n",
       "4770                  No                  No                No              2   \n",
       "4804                  No                  No                No              2   \n",
       "\n",
       "     night_zanzibar payment_mode first_trip_tz  \\\n",
       "49                1         Cash            No   \n",
       "202               0  Credit Card            No   \n",
       "213               1         Cash           Yes   \n",
       "302              30         Cash           Yes   \n",
       "326               0  Credit Card           Yes   \n",
       "331               2         Cash            No   \n",
       "332               0         Cash           Yes   \n",
       "350               0         Cash            No   \n",
       "450               0         Cash           Yes   \n",
       "481               0         Cash            No   \n",
       "518               0         Cash           Yes   \n",
       "824               0  Credit Card            No   \n",
       "1050              0         Cash           Yes   \n",
       "1091              0  Credit Card           Yes   \n",
       "1173              0         Cash           Yes   \n",
       "1329              0         Cash            No   \n",
       "1414              2         Cash           Yes   \n",
       "1450              0         Cash            No   \n",
       "1511              0         Cash           Yes   \n",
       "1611              0         Cash            No   \n",
       "1717              0         Cash            No   \n",
       "1730              0         Cash            No   \n",
       "1807              0         Cash           Yes   \n",
       "1823              2         Cash            No   \n",
       "1878              2         Cash            No   \n",
       "1976              0         Cash            No   \n",
       "2082              0         Cash           Yes   \n",
       "2126              4         Cash           Yes   \n",
       "2297              0         Cash            No   \n",
       "2357              5         Cash           Yes   \n",
       "2529              4         Cash           Yes   \n",
       "2911              0         Cash           Yes   \n",
       "3099              0  Credit Card           Yes   \n",
       "3153              0         Cash           Yes   \n",
       "3251              4         Cash           Yes   \n",
       "3392              0  Credit Card           Yes   \n",
       "3773              2         Cash           Yes   \n",
       "3948              4         Cash           Yes   \n",
       "4189              3         Cash            No   \n",
       "4210              0         Cash           Yes   \n",
       "4424              0  Credit Card            No   \n",
       "4524              0         Cash            No   \n",
       "4629              0         Cash           Yes   \n",
       "4731              0         Cash            No   \n",
       "4770              0         Cash            No   \n",
       "4804              0  Credit Card            No   \n",
       "\n",
       "                           most_impressing  total_cost upcountry  \n",
       "49                                     NaN   1657500.0       UAE  \n",
       "202                            No comments   6630000.0       UAE  \n",
       "213                               Wildlife    828750.0       UAE  \n",
       "302                   Excellent Experience  13260000.0       UAE  \n",
       "326                            No comments   2320500.0       UAE  \n",
       "331                   Excellent Experience   1657500.0       UAE  \n",
       "332                               Wildlife   3315000.0       UAE  \n",
       "350                               Wildlife   3315000.0       UAE  \n",
       "450                           Good service    331500.0       UAE  \n",
       "481           Satisfies and Hope Come Back   1524900.0       UAE  \n",
       "518                               Wildlife   8121750.0       UAE  \n",
       "824                        Friendly People   5304000.0       UAE  \n",
       "1050                              Wildlife  18232500.0       UAE  \n",
       "1091                          Good service   7458750.0       UAE  \n",
       "1173                              Wildlife    951405.0       UAE  \n",
       "1329                       Friendly People   1574625.0       UAE  \n",
       "1414                              Wildlife    580125.0       UAE  \n",
       "1450          Satisfies and Hope Come Back   3315000.0       UAE  \n",
       "1511                       Friendly People   2005575.0       UAE  \n",
       "1611                          Good service   4143750.0       UAE  \n",
       "1717  Wonderful Country, Landscape, Nature   4972500.0       UAE  \n",
       "1730                              Wildlife   6630000.0       UAE  \n",
       "1807                           No comments   4309500.0       UAE  \n",
       "1823                              Wildlife   1657500.0       UAE  \n",
       "1878                          Good service   3315000.0       UAE  \n",
       "1976                       Friendly People    828750.0       UAE  \n",
       "2082                       Friendly People   4060875.0       UAE  \n",
       "2126                              Wildlife  12129733.0       UAE  \n",
       "2297  Wonderful Country, Landscape, Nature   3315000.0       UAE  \n",
       "2357                              Wildlife  16575000.0       UAE  \n",
       "2529                              Wildlife     82875.0       UAE  \n",
       "2911  Wonderful Country, Landscape, Nature    663000.0       UAE  \n",
       "3099                          Good service  25189563.0       UAE  \n",
       "3153                       Friendly People  33150000.0       UAE  \n",
       "3251                       Friendly People   6630000.0       UAE  \n",
       "3392                       Friendly People  10110750.0       UAE  \n",
       "3773                              Wildlife   4591275.0       UAE  \n",
       "3948                       Friendly People  16213903.0       UAE  \n",
       "4189                              Wildlife  11602500.0       UAE  \n",
       "4210  Wonderful Country, Landscape, Nature  28260375.0       UAE  \n",
       "4424                           No comments   1657500.0       UAE  \n",
       "4524          Satisfies and Hope Come Back   1160250.0       UAE  \n",
       "4629                       Friendly People   1640925.0       UAE  \n",
       "4731                          Good service  10000000.0       UAE  \n",
       "4770                           No comments    497250.0       UAE  \n",
       "4804                           No comments   3315000.0       UAE  \n",
       "\n",
       "[46 rows x 24 columns]"
      ]
     },
     "execution_count": 804,
     "metadata": {},
     "output_type": "execute_result"
    }
   ],
   "source": [
    "uae"
   ]
  },
  {
   "cell_type": "code",
   "execution_count": 805,
   "id": "279cdf3a-de80-4429-ab9c-d3567496a0bb",
   "metadata": {},
   "outputs": [],
   "source": [
    "#df['country'] = df['country'].replace('UNITED ARAB EMIRATES','UAE')\n",
    "df.upcountry.replace(['NEW ZEALAND', 'BERMUDA'], 'OTHERS', inplace=True)"
   ]
  },
  {
   "cell_type": "code",
   "execution_count": 806,
   "id": "5efaed7b-c5d8-406d-bff8-995eb53c7bd5",
   "metadata": {},
   "outputs": [
    {
     "data": {
      "text/plain": [
       "Independent     2570\n",
       "Package Tour    2239\n",
       "Name: tour_arrangement, dtype: int64"
      ]
     },
     "execution_count": 806,
     "metadata": {},
     "output_type": "execute_result"
    }
   ],
   "source": [
    "df['tour_arrangement'].value_counts()"
   ]
  },
  {
   "cell_type": "code",
   "execution_count": 807,
   "id": "2529e3d9-df4d-4206-9420-93f3d9c98af4",
   "metadata": {},
   "outputs": [
    {
     "data": {
      "text/plain": [
       "Alone                  1265\n",
       "Spouse                 1005\n",
       "Friends/Relatives       895\n",
       "Spouse and Children     368\n",
       "Children                162\n",
       "Name: travel_with, dtype: int64"
      ]
     },
     "execution_count": 807,
     "metadata": {},
     "output_type": "execute_result"
    }
   ],
   "source": [
    "df['travel_with'].value_counts()"
   ]
  },
  {
   "cell_type": "code",
   "execution_count": null,
   "id": "a88c1b60-f21f-4b30-a4ed-3bd3e90232a0",
   "metadata": {},
   "outputs": [],
   "source": []
  },
  {
   "cell_type": "code",
   "execution_count": 808,
   "id": "69f89751-29a9-4f73-bb3d-46cfb96f8dce",
   "metadata": {},
   "outputs": [],
   "source": [
    "df['countrys'] = list(df['upcountry'])"
   ]
  },
  {
   "cell_type": "code",
   "execution_count": 809,
   "id": "49e581bf-542b-4ec2-967a-4e13619f23ea",
   "metadata": {},
   "outputs": [],
   "source": [
    "\n",
    "df.countrys.replace({\"Europe\": \"0\", \"North America\": \"1\", \"Southern Africa\": \"2\", \"East Africa\": \"3\", \"Asia\": \"4\", \"Asia\": \"5\", \"AUSTRALIA\": \"6\", \"Central Africa\": \"7\", \"UAE\": \"8\", \"OTHERS\": \"9\", \"South America\": \"10\", \"North Africa\": \"11\", \"West Africa\": \"12\", \"Central America\": \"13\"}, inplace=True)"
   ]
  },
  {
   "cell_type": "code",
   "execution_count": 810,
   "id": "61efca28-f582-4820-b3c6-e3ffd2fc705f",
   "metadata": {},
   "outputs": [
    {
     "data": {
      "text/plain": [
       "0     2054\n",
       "1      812\n",
       "2      732\n",
       "3      451\n",
       "5      358\n",
       "6      186\n",
       "7      105\n",
       "8       46\n",
       "9       19\n",
       "10      18\n",
       "11      18\n",
       "12       9\n",
       "13       1\n",
       "Name: countrys, dtype: int64"
      ]
     },
     "execution_count": 810,
     "metadata": {},
     "output_type": "execute_result"
    }
   ],
   "source": [
    "df['countrys'].value_counts()"
   ]
  },
  {
   "cell_type": "code",
   "execution_count": 811,
   "id": "11a02fed-90b4-403a-a6ca-93c3e3fc9960",
   "metadata": {},
   "outputs": [],
   "source": [
    "#df['cost'] = pd.cut(seeing['total_cost'], bins=[0, 100000, 200000, 300000, 400000, 500000, 600000, 700000, 800000, 900000, 1000000, 2000000, 10000000, 100000000], include_lowest=True)"
   ]
  },
  {
   "cell_type": "code",
   "execution_count": 854,
   "id": "8d592e19-1d89-48e5-860b-bb0adf87ed48",
   "metadata": {},
   "outputs": [],
   "source": [
    "df['age'] = df['age_group'].astype(str)"
   ]
  },
  {
   "cell_type": "code",
   "execution_count": 855,
   "id": "d2d8ae5b-bbb9-4cd5-a2c1-0456eed27259",
   "metadata": {},
   "outputs": [],
   "source": [
    "df.age.replace('2022-01-24 00:00:00', '01-24', inplace=True)"
   ]
  },
  {
   "cell_type": "code",
   "execution_count": 856,
   "id": "c8a7c0f1-ce84-45c8-8647-9bd51c923770",
   "metadata": {},
   "outputs": [],
   "source": [
    "df['aging'] = df['age'].astype(str)"
   ]
  },
  {
   "cell_type": "code",
   "execution_count": 857,
   "id": "b4b1da90-ee00-48f4-b126-fb9fd781a2f4",
   "metadata": {},
   "outputs": [],
   "source": [
    "#df['aging'] = list(df['age_group'])"
   ]
  },
  {
   "cell_type": "code",
   "execution_count": 858,
   "id": "765a173b-f56d-4ba4-a210-b87bbc03fbac",
   "metadata": {},
   "outputs": [],
   "source": [
    "import datetime"
   ]
  },
  {
   "cell_type": "code",
   "execution_count": 859,
   "id": "d0040ba1-000d-40da-85e5-9eb54f308f2f",
   "metadata": {},
   "outputs": [],
   "source": [
    "df.aging.replace({'01-24':'0', '25-44':'1', '45-64':'2', '65+':'3'}, inplace=True)"
   ]
  },
  {
   "cell_type": "code",
   "execution_count": 860,
   "id": "9138b1b3-7e7e-43a2-853c-26dcc604cdfa",
   "metadata": {},
   "outputs": [
    {
     "data": {
      "text/plain": [
       "1    2487\n",
       "2    1391\n",
       "0     624\n",
       "3     307\n",
       "Name: aging, dtype: int64"
      ]
     },
     "execution_count": 860,
     "metadata": {},
     "output_type": "execute_result"
    }
   ],
   "source": [
    "df['aging'].value_counts()"
   ]
  },
  {
   "cell_type": "code",
   "execution_count": 861,
   "id": "21edf61a-8bdc-4891-932e-7ea574974518",
   "metadata": {},
   "outputs": [
    {
     "data": {
      "text/plain": [
       "Alone                  1265\n",
       "Spouse                 1005\n",
       "Friends/Relatives       895\n",
       "Spouse and Children     368\n",
       "Children                162\n",
       "Name: travel_with, dtype: int64"
      ]
     },
     "execution_count": 861,
     "metadata": {},
     "output_type": "execute_result"
    }
   ],
   "source": [
    "df['travel_with'].value_counts()"
   ]
  },
  {
   "cell_type": "code",
   "execution_count": 862,
   "id": "9895fbad-fbd0-45e5-934d-8acef6478505",
   "metadata": {},
   "outputs": [],
   "source": [
    "#loners = df[df['travel_with'].value_counts() == 'Alone']\n",
    "loners = df[df['travel_with'] == 'Alone' ]"
   ]
  },
  {
   "cell_type": "code",
   "execution_count": 863,
   "id": "96ee52f3-e4c7-453a-be8d-6cde075f9f39",
   "metadata": {},
   "outputs": [
    {
     "data": {
      "text/html": [
       "<div>\n",
       "<style scoped>\n",
       "    .dataframe tbody tr th:only-of-type {\n",
       "        vertical-align: middle;\n",
       "    }\n",
       "\n",
       "    .dataframe tbody tr th {\n",
       "        vertical-align: top;\n",
       "    }\n",
       "\n",
       "    .dataframe thead th {\n",
       "        text-align: right;\n",
       "    }\n",
       "</style>\n",
       "<table border=\"1\" class=\"dataframe\">\n",
       "  <thead>\n",
       "    <tr style=\"text-align: right;\">\n",
       "      <th></th>\n",
       "      <th>ID</th>\n",
       "      <th>country</th>\n",
       "      <th>age_group</th>\n",
       "      <th>travel_with</th>\n",
       "      <th>total_female</th>\n",
       "      <th>total_male</th>\n",
       "      <th>purpose</th>\n",
       "      <th>main_activity</th>\n",
       "      <th>info_source</th>\n",
       "      <th>tour_arrangement</th>\n",
       "      <th>...</th>\n",
       "      <th>night_mainland</th>\n",
       "      <th>night_zanzibar</th>\n",
       "      <th>payment_mode</th>\n",
       "      <th>first_trip_tz</th>\n",
       "      <th>most_impressing</th>\n",
       "      <th>total_cost</th>\n",
       "      <th>upcountry</th>\n",
       "      <th>countrys</th>\n",
       "      <th>aging</th>\n",
       "      <th>age</th>\n",
       "    </tr>\n",
       "  </thead>\n",
       "  <tbody>\n",
       "    <tr>\n",
       "      <th>0</th>\n",
       "      <td>tour_0</td>\n",
       "      <td>SWIZERLAND</td>\n",
       "      <td>45-64</td>\n",
       "      <td>Friends/Relatives</td>\n",
       "      <td>1.0</td>\n",
       "      <td>1.0</td>\n",
       "      <td>Leisure and Holidays</td>\n",
       "      <td>Wildlife tourism</td>\n",
       "      <td>Friends, relatives</td>\n",
       "      <td>Independent</td>\n",
       "      <td>...</td>\n",
       "      <td>13</td>\n",
       "      <td>0</td>\n",
       "      <td>Cash</td>\n",
       "      <td>No</td>\n",
       "      <td>Friendly People</td>\n",
       "      <td>674602.5</td>\n",
       "      <td>Europe</td>\n",
       "      <td>0</td>\n",
       "      <td>2</td>\n",
       "      <td>45-64</td>\n",
       "    </tr>\n",
       "    <tr>\n",
       "      <th>1</th>\n",
       "      <td>tour_10</td>\n",
       "      <td>UNITED KINGDOM</td>\n",
       "      <td>25-44</td>\n",
       "      <td>NaN</td>\n",
       "      <td>1.0</td>\n",
       "      <td>0.0</td>\n",
       "      <td>Leisure and Holidays</td>\n",
       "      <td>Cultural tourism</td>\n",
       "      <td>others</td>\n",
       "      <td>Independent</td>\n",
       "      <td>...</td>\n",
       "      <td>14</td>\n",
       "      <td>7</td>\n",
       "      <td>Cash</td>\n",
       "      <td>Yes</td>\n",
       "      <td>Wonderful Country, Landscape, Nature</td>\n",
       "      <td>3214906.5</td>\n",
       "      <td>Europe</td>\n",
       "      <td>0</td>\n",
       "      <td>1</td>\n",
       "      <td>25-44</td>\n",
       "    </tr>\n",
       "  </tbody>\n",
       "</table>\n",
       "<p>2 rows × 27 columns</p>\n",
       "</div>"
      ],
      "text/plain": [
       "        ID         country age_group        travel_with  total_female  \\\n",
       "0   tour_0      SWIZERLAND     45-64  Friends/Relatives           1.0   \n",
       "1  tour_10  UNITED KINGDOM     25-44                NaN           1.0   \n",
       "\n",
       "   total_male               purpose     main_activity         info_source  \\\n",
       "0         1.0  Leisure and Holidays  Wildlife tourism  Friends, relatives   \n",
       "1         0.0  Leisure and Holidays  Cultural tourism              others   \n",
       "\n",
       "  tour_arrangement  ... night_mainland night_zanzibar payment_mode  \\\n",
       "0      Independent  ...             13              0         Cash   \n",
       "1      Independent  ...             14              7         Cash   \n",
       "\n",
       "  first_trip_tz                       most_impressing total_cost upcountry  \\\n",
       "0            No                       Friendly People   674602.5    Europe   \n",
       "1           Yes  Wonderful Country, Landscape, Nature  3214906.5    Europe   \n",
       "\n",
       "   countrys  aging    age  \n",
       "0         0      2  45-64  \n",
       "1         0      1  25-44  \n",
       "\n",
       "[2 rows x 27 columns]"
      ]
     },
     "execution_count": 863,
     "metadata": {},
     "output_type": "execute_result"
    }
   ],
   "source": [
    "df.head(2)"
   ]
  },
  {
   "cell_type": "code",
   "execution_count": 864,
   "id": "7e720dcd-9764-43a8-a7a7-aa5c1ae99dc4",
   "metadata": {},
   "outputs": [],
   "source": [
    "doing = loners[loners['age_group'] == '01-24']"
   ]
  },
  {
   "cell_type": "code",
   "execution_count": 865,
   "id": "9d1ce3aa-5e40-48ae-8628-f97dc333b3ab",
   "metadata": {},
   "outputs": [
    {
     "data": {
      "text/plain": [
       "25-44                  697\n",
       "45-64                  275\n",
       "2022-01-24 00:00:00    234\n",
       "65+                     59\n",
       "Name: age_group, dtype: int64"
      ]
     },
     "execution_count": 865,
     "metadata": {},
     "output_type": "execute_result"
    }
   ],
   "source": [
    "loners['age_group'].value_counts()"
   ]
  },
  {
   "cell_type": "code",
   "execution_count": null,
   "id": "8147e085-30bb-43ea-87fd-6832388c4360",
   "metadata": {},
   "outputs": [],
   "source": []
  },
  {
   "cell_type": "code",
   "execution_count": 866,
   "id": "b9600150-7245-4bd8-8c7a-842331f82b06",
   "metadata": {},
   "outputs": [
    {
     "data": {
      "text/plain": [
       "'01-24'"
      ]
     },
     "execution_count": 866,
     "metadata": {},
     "output_type": "execute_result"
    }
   ],
   "source": [
    "df.age[4]"
   ]
  },
  {
   "cell_type": "code",
   "execution_count": null,
   "id": "8f692b7a-7020-4e39-bdd5-36276d74b8d9",
   "metadata": {},
   "outputs": [],
   "source": []
  },
  {
   "cell_type": "code",
   "execution_count": null,
   "id": "31a75920-e09b-4fb6-b0b1-a7406c68fcbe",
   "metadata": {},
   "outputs": [],
   "source": []
  },
  {
   "cell_type": "code",
   "execution_count": 867,
   "id": "12afbcc8-efbb-4237-b293-25383c41d8d4",
   "metadata": {},
   "outputs": [
    {
     "data": {
      "text/html": [
       "<div>\n",
       "<style scoped>\n",
       "    .dataframe tbody tr th:only-of-type {\n",
       "        vertical-align: middle;\n",
       "    }\n",
       "\n",
       "    .dataframe tbody tr th {\n",
       "        vertical-align: top;\n",
       "    }\n",
       "\n",
       "    .dataframe thead th {\n",
       "        text-align: right;\n",
       "    }\n",
       "</style>\n",
       "<table border=\"1\" class=\"dataframe\">\n",
       "  <thead>\n",
       "    <tr style=\"text-align: right;\">\n",
       "      <th></th>\n",
       "      <th>ID</th>\n",
       "      <th>country</th>\n",
       "      <th>age_group</th>\n",
       "      <th>travel_with</th>\n",
       "      <th>total_female</th>\n",
       "      <th>total_male</th>\n",
       "      <th>purpose</th>\n",
       "      <th>main_activity</th>\n",
       "      <th>info_source</th>\n",
       "      <th>tour_arrangement</th>\n",
       "      <th>...</th>\n",
       "      <th>night_mainland</th>\n",
       "      <th>night_zanzibar</th>\n",
       "      <th>payment_mode</th>\n",
       "      <th>first_trip_tz</th>\n",
       "      <th>most_impressing</th>\n",
       "      <th>total_cost</th>\n",
       "      <th>upcountry</th>\n",
       "      <th>countrys</th>\n",
       "      <th>aging</th>\n",
       "      <th>age</th>\n",
       "    </tr>\n",
       "  </thead>\n",
       "  <tbody>\n",
       "    <tr>\n",
       "      <th>0</th>\n",
       "      <td>tour_0</td>\n",
       "      <td>SWIZERLAND</td>\n",
       "      <td>45-64</td>\n",
       "      <td>Friends/Relatives</td>\n",
       "      <td>1.0</td>\n",
       "      <td>1.0</td>\n",
       "      <td>Leisure and Holidays</td>\n",
       "      <td>Wildlife tourism</td>\n",
       "      <td>Friends, relatives</td>\n",
       "      <td>Independent</td>\n",
       "      <td>...</td>\n",
       "      <td>13</td>\n",
       "      <td>0</td>\n",
       "      <td>Cash</td>\n",
       "      <td>No</td>\n",
       "      <td>Friendly People</td>\n",
       "      <td>674602.5</td>\n",
       "      <td>Europe</td>\n",
       "      <td>0</td>\n",
       "      <td>2</td>\n",
       "      <td>45-64</td>\n",
       "    </tr>\n",
       "    <tr>\n",
       "      <th>1</th>\n",
       "      <td>tour_10</td>\n",
       "      <td>UNITED KINGDOM</td>\n",
       "      <td>25-44</td>\n",
       "      <td>NaN</td>\n",
       "      <td>1.0</td>\n",
       "      <td>0.0</td>\n",
       "      <td>Leisure and Holidays</td>\n",
       "      <td>Cultural tourism</td>\n",
       "      <td>others</td>\n",
       "      <td>Independent</td>\n",
       "      <td>...</td>\n",
       "      <td>14</td>\n",
       "      <td>7</td>\n",
       "      <td>Cash</td>\n",
       "      <td>Yes</td>\n",
       "      <td>Wonderful Country, Landscape, Nature</td>\n",
       "      <td>3214906.5</td>\n",
       "      <td>Europe</td>\n",
       "      <td>0</td>\n",
       "      <td>1</td>\n",
       "      <td>25-44</td>\n",
       "    </tr>\n",
       "    <tr>\n",
       "      <th>2</th>\n",
       "      <td>tour_1000</td>\n",
       "      <td>UNITED KINGDOM</td>\n",
       "      <td>25-44</td>\n",
       "      <td>Alone</td>\n",
       "      <td>0.0</td>\n",
       "      <td>1.0</td>\n",
       "      <td>Visiting Friends and Relatives</td>\n",
       "      <td>Cultural tourism</td>\n",
       "      <td>Friends, relatives</td>\n",
       "      <td>Independent</td>\n",
       "      <td>...</td>\n",
       "      <td>1</td>\n",
       "      <td>31</td>\n",
       "      <td>Cash</td>\n",
       "      <td>No</td>\n",
       "      <td>Excellent Experience</td>\n",
       "      <td>3315000.0</td>\n",
       "      <td>Europe</td>\n",
       "      <td>0</td>\n",
       "      <td>1</td>\n",
       "      <td>25-44</td>\n",
       "    </tr>\n",
       "    <tr>\n",
       "      <th>3</th>\n",
       "      <td>tour_1002</td>\n",
       "      <td>UNITED KINGDOM</td>\n",
       "      <td>25-44</td>\n",
       "      <td>Spouse</td>\n",
       "      <td>1.0</td>\n",
       "      <td>1.0</td>\n",
       "      <td>Leisure and Holidays</td>\n",
       "      <td>Wildlife tourism</td>\n",
       "      <td>Travel, agent, tour operator</td>\n",
       "      <td>Package Tour</td>\n",
       "      <td>...</td>\n",
       "      <td>11</td>\n",
       "      <td>0</td>\n",
       "      <td>Cash</td>\n",
       "      <td>Yes</td>\n",
       "      <td>Friendly People</td>\n",
       "      <td>7790250.0</td>\n",
       "      <td>Europe</td>\n",
       "      <td>0</td>\n",
       "      <td>1</td>\n",
       "      <td>25-44</td>\n",
       "    </tr>\n",
       "    <tr>\n",
       "      <th>4</th>\n",
       "      <td>tour_1004</td>\n",
       "      <td>CHINA</td>\n",
       "      <td>2022-01-24 00:00:00</td>\n",
       "      <td>NaN</td>\n",
       "      <td>1.0</td>\n",
       "      <td>0.0</td>\n",
       "      <td>Leisure and Holidays</td>\n",
       "      <td>Wildlife tourism</td>\n",
       "      <td>Travel, agent, tour operator</td>\n",
       "      <td>Independent</td>\n",
       "      <td>...</td>\n",
       "      <td>7</td>\n",
       "      <td>4</td>\n",
       "      <td>Cash</td>\n",
       "      <td>Yes</td>\n",
       "      <td>No comments</td>\n",
       "      <td>1657500.0</td>\n",
       "      <td>Asia</td>\n",
       "      <td>5</td>\n",
       "      <td>0</td>\n",
       "      <td>01-24</td>\n",
       "    </tr>\n",
       "    <tr>\n",
       "      <th>5</th>\n",
       "      <td>tour_1005</td>\n",
       "      <td>UNITED KINGDOM</td>\n",
       "      <td>25-44</td>\n",
       "      <td>NaN</td>\n",
       "      <td>0.0</td>\n",
       "      <td>1.0</td>\n",
       "      <td>Leisure and Holidays</td>\n",
       "      <td>Wildlife tourism</td>\n",
       "      <td>Travel, agent, tour operator</td>\n",
       "      <td>Package Tour</td>\n",
       "      <td>...</td>\n",
       "      <td>9</td>\n",
       "      <td>3</td>\n",
       "      <td>Cash</td>\n",
       "      <td>Yes</td>\n",
       "      <td>Wildlife</td>\n",
       "      <td>120950.0</td>\n",
       "      <td>Europe</td>\n",
       "      <td>0</td>\n",
       "      <td>1</td>\n",
       "      <td>25-44</td>\n",
       "    </tr>\n",
       "    <tr>\n",
       "      <th>6</th>\n",
       "      <td>tour_1007</td>\n",
       "      <td>SOUTH AFRICA</td>\n",
       "      <td>45-64</td>\n",
       "      <td>Alone</td>\n",
       "      <td>0.0</td>\n",
       "      <td>1.0</td>\n",
       "      <td>Business</td>\n",
       "      <td>Mountain climbing</td>\n",
       "      <td>Friends, relatives</td>\n",
       "      <td>Independent</td>\n",
       "      <td>...</td>\n",
       "      <td>9</td>\n",
       "      <td>0</td>\n",
       "      <td>Cash</td>\n",
       "      <td>Yes</td>\n",
       "      <td>Friendly People</td>\n",
       "      <td>466140.0</td>\n",
       "      <td>Southern Africa</td>\n",
       "      <td>2</td>\n",
       "      <td>2</td>\n",
       "      <td>45-64</td>\n",
       "    </tr>\n",
       "    <tr>\n",
       "      <th>7</th>\n",
       "      <td>tour_1008</td>\n",
       "      <td>UNITED STATES OF AMERICA</td>\n",
       "      <td>45-64</td>\n",
       "      <td>Friends/Relatives</td>\n",
       "      <td>1.0</td>\n",
       "      <td>1.0</td>\n",
       "      <td>Leisure and Holidays</td>\n",
       "      <td>Wildlife tourism</td>\n",
       "      <td>Travel, agent, tour operator</td>\n",
       "      <td>Package Tour</td>\n",
       "      <td>...</td>\n",
       "      <td>10</td>\n",
       "      <td>3</td>\n",
       "      <td>Cash</td>\n",
       "      <td>Yes</td>\n",
       "      <td>Friendly People</td>\n",
       "      <td>3480750.0</td>\n",
       "      <td>North America</td>\n",
       "      <td>1</td>\n",
       "      <td>2</td>\n",
       "      <td>45-64</td>\n",
       "    </tr>\n",
       "    <tr>\n",
       "      <th>8</th>\n",
       "      <td>tour_101</td>\n",
       "      <td>NIGERIA</td>\n",
       "      <td>25-44</td>\n",
       "      <td>Alone</td>\n",
       "      <td>0.0</td>\n",
       "      <td>1.0</td>\n",
       "      <td>Leisure and Holidays</td>\n",
       "      <td>Cultural tourism</td>\n",
       "      <td>Travel, agent, tour operator</td>\n",
       "      <td>Independent</td>\n",
       "      <td>...</td>\n",
       "      <td>4</td>\n",
       "      <td>0</td>\n",
       "      <td>Cash</td>\n",
       "      <td>Yes</td>\n",
       "      <td>NaN</td>\n",
       "      <td>994500.0</td>\n",
       "      <td>West Africa</td>\n",
       "      <td>12</td>\n",
       "      <td>1</td>\n",
       "      <td>25-44</td>\n",
       "    </tr>\n",
       "    <tr>\n",
       "      <th>9</th>\n",
       "      <td>tour_1011</td>\n",
       "      <td>INDIA</td>\n",
       "      <td>25-44</td>\n",
       "      <td>Alone</td>\n",
       "      <td>1.0</td>\n",
       "      <td>0.0</td>\n",
       "      <td>Business</td>\n",
       "      <td>Wildlife tourism</td>\n",
       "      <td>Travel, agent, tour operator</td>\n",
       "      <td>Independent</td>\n",
       "      <td>...</td>\n",
       "      <td>5</td>\n",
       "      <td>0</td>\n",
       "      <td>Credit Card</td>\n",
       "      <td>Yes</td>\n",
       "      <td>Friendly People</td>\n",
       "      <td>2486250.0</td>\n",
       "      <td>Asia</td>\n",
       "      <td>5</td>\n",
       "      <td>1</td>\n",
       "      <td>25-44</td>\n",
       "    </tr>\n",
       "  </tbody>\n",
       "</table>\n",
       "<p>10 rows × 27 columns</p>\n",
       "</div>"
      ],
      "text/plain": [
       "          ID                   country            age_group  \\\n",
       "0     tour_0                SWIZERLAND                45-64   \n",
       "1    tour_10            UNITED KINGDOM                25-44   \n",
       "2  tour_1000            UNITED KINGDOM                25-44   \n",
       "3  tour_1002            UNITED KINGDOM                25-44   \n",
       "4  tour_1004                     CHINA  2022-01-24 00:00:00   \n",
       "5  tour_1005            UNITED KINGDOM                25-44   \n",
       "6  tour_1007              SOUTH AFRICA                45-64   \n",
       "7  tour_1008  UNITED STATES OF AMERICA                45-64   \n",
       "8   tour_101                   NIGERIA                25-44   \n",
       "9  tour_1011                     INDIA                25-44   \n",
       "\n",
       "         travel_with  total_female  total_male  \\\n",
       "0  Friends/Relatives           1.0         1.0   \n",
       "1                NaN           1.0         0.0   \n",
       "2              Alone           0.0         1.0   \n",
       "3             Spouse           1.0         1.0   \n",
       "4                NaN           1.0         0.0   \n",
       "5                NaN           0.0         1.0   \n",
       "6              Alone           0.0         1.0   \n",
       "7  Friends/Relatives           1.0         1.0   \n",
       "8              Alone           0.0         1.0   \n",
       "9              Alone           1.0         0.0   \n",
       "\n",
       "                          purpose      main_activity  \\\n",
       "0            Leisure and Holidays   Wildlife tourism   \n",
       "1            Leisure and Holidays   Cultural tourism   \n",
       "2  Visiting Friends and Relatives   Cultural tourism   \n",
       "3            Leisure and Holidays   Wildlife tourism   \n",
       "4            Leisure and Holidays   Wildlife tourism   \n",
       "5            Leisure and Holidays   Wildlife tourism   \n",
       "6                        Business  Mountain climbing   \n",
       "7            Leisure and Holidays   Wildlife tourism   \n",
       "8            Leisure and Holidays   Cultural tourism   \n",
       "9                        Business   Wildlife tourism   \n",
       "\n",
       "                    info_source tour_arrangement  ... night_mainland  \\\n",
       "0            Friends, relatives      Independent  ...             13   \n",
       "1                        others      Independent  ...             14   \n",
       "2            Friends, relatives      Independent  ...              1   \n",
       "3  Travel, agent, tour operator     Package Tour  ...             11   \n",
       "4  Travel, agent, tour operator      Independent  ...              7   \n",
       "5  Travel, agent, tour operator     Package Tour  ...              9   \n",
       "6            Friends, relatives      Independent  ...              9   \n",
       "7  Travel, agent, tour operator     Package Tour  ...             10   \n",
       "8  Travel, agent, tour operator      Independent  ...              4   \n",
       "9  Travel, agent, tour operator      Independent  ...              5   \n",
       "\n",
       "  night_zanzibar payment_mode first_trip_tz  \\\n",
       "0              0         Cash            No   \n",
       "1              7         Cash           Yes   \n",
       "2             31         Cash            No   \n",
       "3              0         Cash           Yes   \n",
       "4              4         Cash           Yes   \n",
       "5              3         Cash           Yes   \n",
       "6              0         Cash           Yes   \n",
       "7              3         Cash           Yes   \n",
       "8              0         Cash           Yes   \n",
       "9              0  Credit Card           Yes   \n",
       "\n",
       "                        most_impressing total_cost        upcountry  countrys  \\\n",
       "0                       Friendly People   674602.5           Europe         0   \n",
       "1  Wonderful Country, Landscape, Nature  3214906.5           Europe         0   \n",
       "2                  Excellent Experience  3315000.0           Europe         0   \n",
       "3                       Friendly People  7790250.0           Europe         0   \n",
       "4                           No comments  1657500.0             Asia         5   \n",
       "5                              Wildlife   120950.0           Europe         0   \n",
       "6                       Friendly People   466140.0  Southern Africa         2   \n",
       "7                       Friendly People  3480750.0    North America         1   \n",
       "8                                   NaN   994500.0      West Africa        12   \n",
       "9                       Friendly People  2486250.0             Asia         5   \n",
       "\n",
       "   aging    age  \n",
       "0      2  45-64  \n",
       "1      1  25-44  \n",
       "2      1  25-44  \n",
       "3      1  25-44  \n",
       "4      0  01-24  \n",
       "5      1  25-44  \n",
       "6      2  45-64  \n",
       "7      2  45-64  \n",
       "8      1  25-44  \n",
       "9      1  25-44  \n",
       "\n",
       "[10 rows x 27 columns]"
      ]
     },
     "execution_count": 867,
     "metadata": {},
     "output_type": "execute_result"
    }
   ],
   "source": [
    "df.head(10)"
   ]
  },
  {
   "cell_type": "code",
   "execution_count": 827,
   "id": "f9175154-280f-4440-8016-8da986b74caf",
   "metadata": {},
   "outputs": [
    {
     "data": {
      "text/plain": [
       "Series([], Name: purpose, dtype: int64)"
      ]
     },
     "execution_count": 827,
     "metadata": {},
     "output_type": "execute_result"
    }
   ],
   "source": [
    "doing['purpose'].value_counts()\n",
    "#the young ones usually cdon't come for business reasons"
   ]
  },
  {
   "cell_type": "code",
   "execution_count": 828,
   "id": "bd90d28f-780f-4f6e-bf8c-03c46d3fe163",
   "metadata": {},
   "outputs": [],
   "source": [
    "#doing['cost'].value_counts()\n",
    "#and they spend quite a lot."
   ]
  },
  {
   "cell_type": "code",
   "execution_count": 829,
   "id": "2ccdba34-974b-42fd-92dc-a1492cf1f199",
   "metadata": {},
   "outputs": [],
   "source": [
    "kiddies = df[df['age_group']=='01-24']"
   ]
  },
  {
   "cell_type": "code",
   "execution_count": 830,
   "id": "11fe0966-49e9-4023-8272-56185e664ae4",
   "metadata": {},
   "outputs": [
    {
     "data": {
      "text/plain": [
       "Series([], Name: travel_with, dtype: int64)"
      ]
     },
     "execution_count": 830,
     "metadata": {},
     "output_type": "execute_result"
    }
   ],
   "source": [
    "kiddies['travel_with'].value_counts()\n",
    "#Ei the children travel alone oo"
   ]
  },
  {
   "cell_type": "code",
   "execution_count": 831,
   "id": "c5fe2c43-5859-477b-b5a9-cc38294ecc01",
   "metadata": {},
   "outputs": [],
   "source": [
    "#kiddies['cost'].value_counts()\n",
    "#Ei the children travel alone oo"
   ]
  },
  {
   "cell_type": "code",
   "execution_count": 832,
   "id": "d98194f6-f813-4cb9-beb9-819be4152cf6",
   "metadata": {},
   "outputs": [],
   "source": [
    "loners_business = doing[doing['purpose']=='Business']"
   ]
  },
  {
   "cell_type": "code",
   "execution_count": 833,
   "id": "251cc141-3976-4ae8-8080-cddf4792f96f",
   "metadata": {
    "tags": []
   },
   "outputs": [],
   "source": [
    "#loners_business['cost'].value_counts()"
   ]
  },
  {
   "cell_type": "code",
   "execution_count": null,
   "id": "e7e8c875-d634-4d63-89ef-cbc1762f158d",
   "metadata": {},
   "outputs": [],
   "source": []
  },
  {
   "cell_type": "code",
   "execution_count": 834,
   "id": "b15eb09c-7d0c-4a6b-b601-46d462707c58",
   "metadata": {},
   "outputs": [
    {
     "data": {
      "text/plain": [
       "Series([], Name: tour_arrangement, dtype: int64)"
      ]
     },
     "execution_count": 834,
     "metadata": {},
     "output_type": "execute_result"
    }
   ],
   "source": [
    "doing['tour_arrangement'].value_counts()"
   ]
  },
  {
   "cell_type": "code",
   "execution_count": 835,
   "id": "7c1a51e5-6a6a-428c-b1fc-71efc1ef7618",
   "metadata": {},
   "outputs": [
    {
     "data": {
      "text/plain": [
       "count    4.809000e+03\n",
       "mean     8.114389e+06\n",
       "std      1.222490e+07\n",
       "min      4.900000e+04\n",
       "25%      8.121750e+05\n",
       "50%      3.397875e+06\n",
       "75%      9.945000e+06\n",
       "max      9.953288e+07\n",
       "Name: total_cost, dtype: float64"
      ]
     },
     "execution_count": 835,
     "metadata": {},
     "output_type": "execute_result"
    }
   ],
   "source": [
    "df['total_cost'].describe()"
   ]
  },
  {
   "cell_type": "code",
   "execution_count": 836,
   "id": "c0a3460d-e78b-482d-b75e-d25bd1c360f3",
   "metadata": {},
   "outputs": [
    {
     "data": {
      "text/plain": [
       "8114389.0"
      ]
     },
     "execution_count": 836,
     "metadata": {},
     "output_type": "execute_result"
    }
   ],
   "source": [
    "float(8.114389e+06)\n",
    "#so this is the average money all travelers spend"
   ]
  },
  {
   "cell_type": "code",
   "execution_count": 837,
   "id": "7b89928a-3db4-4e7b-b177-1cbb4e790068",
   "metadata": {},
   "outputs": [
    {
     "data": {
      "text/plain": [
       "count    0.0\n",
       "mean     NaN\n",
       "std      NaN\n",
       "min      NaN\n",
       "25%      NaN\n",
       "50%      NaN\n",
       "75%      NaN\n",
       "max      NaN\n",
       "Name: total_cost, dtype: float64"
      ]
     },
     "execution_count": 837,
     "metadata": {},
     "output_type": "execute_result"
    }
   ],
   "source": [
    "kiddies['total_cost'].describe()"
   ]
  },
  {
   "cell_type": "code",
   "execution_count": 838,
   "id": "d19dc980-f91b-4065-bbd5-a3dd25a4f2ba",
   "metadata": {},
   "outputs": [
    {
     "data": {
      "text/plain": [
       "5415205.0"
      ]
     },
     "execution_count": 838,
     "metadata": {},
     "output_type": "execute_result"
    }
   ],
   "source": [
    "float(5.415205e+06)\n",
    "#so the kids don't spend more averagely"
   ]
  },
  {
   "cell_type": "code",
   "execution_count": 839,
   "id": "45c57e39-dca4-4d05-a65d-5eebc2c17f6d",
   "metadata": {},
   "outputs": [
    {
     "data": {
      "text/plain": [
       "5690100.0"
      ]
     },
     "execution_count": 839,
     "metadata": {},
     "output_type": "execute_result"
    }
   ],
   "source": [
    "float(5.690100e+06)\n",
    "#not even at the 75th percentile"
   ]
  },
  {
   "cell_type": "code",
   "execution_count": 840,
   "id": "5a1dbc37-0c82-43db-a0a2-b49ac269b300",
   "metadata": {},
   "outputs": [
    {
     "data": {
      "text/html": [
       "<div>\n",
       "<style scoped>\n",
       "    .dataframe tbody tr th:only-of-type {\n",
       "        vertical-align: middle;\n",
       "    }\n",
       "\n",
       "    .dataframe tbody tr th {\n",
       "        vertical-align: top;\n",
       "    }\n",
       "\n",
       "    .dataframe thead th {\n",
       "        text-align: right;\n",
       "    }\n",
       "</style>\n",
       "<table border=\"1\" class=\"dataframe\">\n",
       "  <thead>\n",
       "    <tr style=\"text-align: right;\">\n",
       "      <th></th>\n",
       "      <th>ID</th>\n",
       "      <th>country</th>\n",
       "      <th>age_group</th>\n",
       "      <th>travel_with</th>\n",
       "      <th>total_female</th>\n",
       "      <th>total_male</th>\n",
       "      <th>purpose</th>\n",
       "      <th>main_activity</th>\n",
       "      <th>info_source</th>\n",
       "      <th>tour_arrangement</th>\n",
       "      <th>...</th>\n",
       "      <th>night_mainland</th>\n",
       "      <th>night_zanzibar</th>\n",
       "      <th>payment_mode</th>\n",
       "      <th>first_trip_tz</th>\n",
       "      <th>most_impressing</th>\n",
       "      <th>total_cost</th>\n",
       "      <th>upcountry</th>\n",
       "      <th>countrys</th>\n",
       "      <th>aging</th>\n",
       "      <th>age</th>\n",
       "    </tr>\n",
       "  </thead>\n",
       "  <tbody>\n",
       "    <tr>\n",
       "      <th>0</th>\n",
       "      <td>tour_0</td>\n",
       "      <td>SWIZERLAND</td>\n",
       "      <td>45-64</td>\n",
       "      <td>Friends/Relatives</td>\n",
       "      <td>1.0</td>\n",
       "      <td>1.0</td>\n",
       "      <td>Leisure and Holidays</td>\n",
       "      <td>Wildlife tourism</td>\n",
       "      <td>Friends, relatives</td>\n",
       "      <td>Independent</td>\n",
       "      <td>...</td>\n",
       "      <td>13</td>\n",
       "      <td>0</td>\n",
       "      <td>Cash</td>\n",
       "      <td>No</td>\n",
       "      <td>Friendly People</td>\n",
       "      <td>674602.5</td>\n",
       "      <td>Europe</td>\n",
       "      <td>0</td>\n",
       "      <td>2</td>\n",
       "      <td>45-64</td>\n",
       "    </tr>\n",
       "    <tr>\n",
       "      <th>1</th>\n",
       "      <td>tour_10</td>\n",
       "      <td>UNITED KINGDOM</td>\n",
       "      <td>25-44</td>\n",
       "      <td>NaN</td>\n",
       "      <td>1.0</td>\n",
       "      <td>0.0</td>\n",
       "      <td>Leisure and Holidays</td>\n",
       "      <td>Cultural tourism</td>\n",
       "      <td>others</td>\n",
       "      <td>Independent</td>\n",
       "      <td>...</td>\n",
       "      <td>14</td>\n",
       "      <td>7</td>\n",
       "      <td>Cash</td>\n",
       "      <td>Yes</td>\n",
       "      <td>Wonderful Country, Landscape, Nature</td>\n",
       "      <td>3214906.5</td>\n",
       "      <td>Europe</td>\n",
       "      <td>0</td>\n",
       "      <td>1</td>\n",
       "      <td>25-44</td>\n",
       "    </tr>\n",
       "    <tr>\n",
       "      <th>2</th>\n",
       "      <td>tour_1000</td>\n",
       "      <td>UNITED KINGDOM</td>\n",
       "      <td>25-44</td>\n",
       "      <td>Alone</td>\n",
       "      <td>0.0</td>\n",
       "      <td>1.0</td>\n",
       "      <td>Visiting Friends and Relatives</td>\n",
       "      <td>Cultural tourism</td>\n",
       "      <td>Friends, relatives</td>\n",
       "      <td>Independent</td>\n",
       "      <td>...</td>\n",
       "      <td>1</td>\n",
       "      <td>31</td>\n",
       "      <td>Cash</td>\n",
       "      <td>No</td>\n",
       "      <td>Excellent Experience</td>\n",
       "      <td>3315000.0</td>\n",
       "      <td>Europe</td>\n",
       "      <td>0</td>\n",
       "      <td>1</td>\n",
       "      <td>25-44</td>\n",
       "    </tr>\n",
       "  </tbody>\n",
       "</table>\n",
       "<p>3 rows × 27 columns</p>\n",
       "</div>"
      ],
      "text/plain": [
       "          ID         country age_group        travel_with  total_female  \\\n",
       "0     tour_0      SWIZERLAND     45-64  Friends/Relatives           1.0   \n",
       "1    tour_10  UNITED KINGDOM     25-44                NaN           1.0   \n",
       "2  tour_1000  UNITED KINGDOM     25-44              Alone           0.0   \n",
       "\n",
       "   total_male                         purpose     main_activity  \\\n",
       "0         1.0            Leisure and Holidays  Wildlife tourism   \n",
       "1         0.0            Leisure and Holidays  Cultural tourism   \n",
       "2         1.0  Visiting Friends and Relatives  Cultural tourism   \n",
       "\n",
       "          info_source tour_arrangement  ... night_mainland night_zanzibar  \\\n",
       "0  Friends, relatives      Independent  ...             13              0   \n",
       "1              others      Independent  ...             14              7   \n",
       "2  Friends, relatives      Independent  ...              1             31   \n",
       "\n",
       "  payment_mode first_trip_tz                       most_impressing total_cost  \\\n",
       "0         Cash            No                       Friendly People   674602.5   \n",
       "1         Cash           Yes  Wonderful Country, Landscape, Nature  3214906.5   \n",
       "2         Cash            No                  Excellent Experience  3315000.0   \n",
       "\n",
       "  upcountry  countrys  aging    age  \n",
       "0    Europe         0      2  45-64  \n",
       "1    Europe         0      1  25-44  \n",
       "2    Europe         0      1  25-44  \n",
       "\n",
       "[3 rows x 27 columns]"
      ]
     },
     "execution_count": 840,
     "metadata": {},
     "output_type": "execute_result"
    }
   ],
   "source": [
    "df.head(3)"
   ]
  },
  {
   "cell_type": "code",
   "execution_count": 841,
   "id": "010f6834-348a-49e7-935a-e3e9eaf00333",
   "metadata": {},
   "outputs": [
    {
     "data": {
      "text/html": [
       "<div>\n",
       "<style scoped>\n",
       "    .dataframe tbody tr th:only-of-type {\n",
       "        vertical-align: middle;\n",
       "    }\n",
       "\n",
       "    .dataframe tbody tr th {\n",
       "        vertical-align: top;\n",
       "    }\n",
       "\n",
       "    .dataframe thead th {\n",
       "        text-align: right;\n",
       "    }\n",
       "</style>\n",
       "<table border=\"1\" class=\"dataframe\">\n",
       "  <thead>\n",
       "    <tr style=\"text-align: right;\">\n",
       "      <th></th>\n",
       "      <th>ID</th>\n",
       "      <th>country</th>\n",
       "      <th>age_group</th>\n",
       "      <th>travel_with</th>\n",
       "      <th>total_female</th>\n",
       "      <th>total_male</th>\n",
       "      <th>purpose</th>\n",
       "      <th>main_activity</th>\n",
       "      <th>info_source</th>\n",
       "      <th>tour_arrangement</th>\n",
       "      <th>...</th>\n",
       "      <th>night_mainland</th>\n",
       "      <th>night_zanzibar</th>\n",
       "      <th>payment_mode</th>\n",
       "      <th>first_trip_tz</th>\n",
       "      <th>most_impressing</th>\n",
       "      <th>total_cost</th>\n",
       "      <th>upcountry</th>\n",
       "      <th>countrys</th>\n",
       "      <th>aging</th>\n",
       "      <th>age</th>\n",
       "    </tr>\n",
       "  </thead>\n",
       "  <tbody>\n",
       "    <tr>\n",
       "      <th>0</th>\n",
       "      <td>tour_0</td>\n",
       "      <td>SWIZERLAND</td>\n",
       "      <td>45-64</td>\n",
       "      <td>Friends/Relatives</td>\n",
       "      <td>1.0</td>\n",
       "      <td>1.0</td>\n",
       "      <td>Leisure and Holidays</td>\n",
       "      <td>Wildlife tourism</td>\n",
       "      <td>Friends, relatives</td>\n",
       "      <td>Independent</td>\n",
       "      <td>...</td>\n",
       "      <td>13</td>\n",
       "      <td>0</td>\n",
       "      <td>Cash</td>\n",
       "      <td>No</td>\n",
       "      <td>Friendly People</td>\n",
       "      <td>674602.5</td>\n",
       "      <td>Europe</td>\n",
       "      <td>0</td>\n",
       "      <td>2</td>\n",
       "      <td>45-64</td>\n",
       "    </tr>\n",
       "    <tr>\n",
       "      <th>1</th>\n",
       "      <td>tour_10</td>\n",
       "      <td>UNITED KINGDOM</td>\n",
       "      <td>25-44</td>\n",
       "      <td>NaN</td>\n",
       "      <td>1.0</td>\n",
       "      <td>0.0</td>\n",
       "      <td>Leisure and Holidays</td>\n",
       "      <td>Cultural tourism</td>\n",
       "      <td>others</td>\n",
       "      <td>Independent</td>\n",
       "      <td>...</td>\n",
       "      <td>14</td>\n",
       "      <td>7</td>\n",
       "      <td>Cash</td>\n",
       "      <td>Yes</td>\n",
       "      <td>Wonderful Country, Landscape, Nature</td>\n",
       "      <td>3214906.5</td>\n",
       "      <td>Europe</td>\n",
       "      <td>0</td>\n",
       "      <td>1</td>\n",
       "      <td>25-44</td>\n",
       "    </tr>\n",
       "    <tr>\n",
       "      <th>2</th>\n",
       "      <td>tour_1000</td>\n",
       "      <td>UNITED KINGDOM</td>\n",
       "      <td>25-44</td>\n",
       "      <td>Alone</td>\n",
       "      <td>0.0</td>\n",
       "      <td>1.0</td>\n",
       "      <td>Visiting Friends and Relatives</td>\n",
       "      <td>Cultural tourism</td>\n",
       "      <td>Friends, relatives</td>\n",
       "      <td>Independent</td>\n",
       "      <td>...</td>\n",
       "      <td>1</td>\n",
       "      <td>31</td>\n",
       "      <td>Cash</td>\n",
       "      <td>No</td>\n",
       "      <td>Excellent Experience</td>\n",
       "      <td>3315000.0</td>\n",
       "      <td>Europe</td>\n",
       "      <td>0</td>\n",
       "      <td>1</td>\n",
       "      <td>25-44</td>\n",
       "    </tr>\n",
       "    <tr>\n",
       "      <th>3</th>\n",
       "      <td>tour_1002</td>\n",
       "      <td>UNITED KINGDOM</td>\n",
       "      <td>25-44</td>\n",
       "      <td>Spouse</td>\n",
       "      <td>1.0</td>\n",
       "      <td>1.0</td>\n",
       "      <td>Leisure and Holidays</td>\n",
       "      <td>Wildlife tourism</td>\n",
       "      <td>Travel, agent, tour operator</td>\n",
       "      <td>Package Tour</td>\n",
       "      <td>...</td>\n",
       "      <td>11</td>\n",
       "      <td>0</td>\n",
       "      <td>Cash</td>\n",
       "      <td>Yes</td>\n",
       "      <td>Friendly People</td>\n",
       "      <td>7790250.0</td>\n",
       "      <td>Europe</td>\n",
       "      <td>0</td>\n",
       "      <td>1</td>\n",
       "      <td>25-44</td>\n",
       "    </tr>\n",
       "    <tr>\n",
       "      <th>4</th>\n",
       "      <td>tour_1004</td>\n",
       "      <td>CHINA</td>\n",
       "      <td>2022-01-24 00:00:00</td>\n",
       "      <td>NaN</td>\n",
       "      <td>1.0</td>\n",
       "      <td>0.0</td>\n",
       "      <td>Leisure and Holidays</td>\n",
       "      <td>Wildlife tourism</td>\n",
       "      <td>Travel, agent, tour operator</td>\n",
       "      <td>Independent</td>\n",
       "      <td>...</td>\n",
       "      <td>7</td>\n",
       "      <td>4</td>\n",
       "      <td>Cash</td>\n",
       "      <td>Yes</td>\n",
       "      <td>No comments</td>\n",
       "      <td>1657500.0</td>\n",
       "      <td>Asia</td>\n",
       "      <td>5</td>\n",
       "      <td>2022-01-24 00:00:00</td>\n",
       "      <td>2022-01-24 00:00:00</td>\n",
       "    </tr>\n",
       "  </tbody>\n",
       "</table>\n",
       "<p>5 rows × 27 columns</p>\n",
       "</div>"
      ],
      "text/plain": [
       "          ID         country            age_group        travel_with  \\\n",
       "0     tour_0      SWIZERLAND                45-64  Friends/Relatives   \n",
       "1    tour_10  UNITED KINGDOM                25-44                NaN   \n",
       "2  tour_1000  UNITED KINGDOM                25-44              Alone   \n",
       "3  tour_1002  UNITED KINGDOM                25-44             Spouse   \n",
       "4  tour_1004           CHINA  2022-01-24 00:00:00                NaN   \n",
       "\n",
       "   total_female  total_male                         purpose     main_activity  \\\n",
       "0           1.0         1.0            Leisure and Holidays  Wildlife tourism   \n",
       "1           1.0         0.0            Leisure and Holidays  Cultural tourism   \n",
       "2           0.0         1.0  Visiting Friends and Relatives  Cultural tourism   \n",
       "3           1.0         1.0            Leisure and Holidays  Wildlife tourism   \n",
       "4           1.0         0.0            Leisure and Holidays  Wildlife tourism   \n",
       "\n",
       "                    info_source tour_arrangement  ... night_mainland  \\\n",
       "0            Friends, relatives      Independent  ...             13   \n",
       "1                        others      Independent  ...             14   \n",
       "2            Friends, relatives      Independent  ...              1   \n",
       "3  Travel, agent, tour operator     Package Tour  ...             11   \n",
       "4  Travel, agent, tour operator      Independent  ...              7   \n",
       "\n",
       "  night_zanzibar payment_mode first_trip_tz  \\\n",
       "0              0         Cash            No   \n",
       "1              7         Cash           Yes   \n",
       "2             31         Cash            No   \n",
       "3              0         Cash           Yes   \n",
       "4              4         Cash           Yes   \n",
       "\n",
       "                        most_impressing total_cost upcountry  countrys  \\\n",
       "0                       Friendly People   674602.5    Europe         0   \n",
       "1  Wonderful Country, Landscape, Nature  3214906.5    Europe         0   \n",
       "2                  Excellent Experience  3315000.0    Europe         0   \n",
       "3                       Friendly People  7790250.0    Europe         0   \n",
       "4                           No comments  1657500.0      Asia         5   \n",
       "\n",
       "                 aging                  age  \n",
       "0                    2                45-64  \n",
       "1                    1                25-44  \n",
       "2                    1                25-44  \n",
       "3                    1                25-44  \n",
       "4  2022-01-24 00:00:00  2022-01-24 00:00:00  \n",
       "\n",
       "[5 rows x 27 columns]"
      ]
     },
     "execution_count": 841,
     "metadata": {},
     "output_type": "execute_result"
    }
   ],
   "source": [
    "df.head()"
   ]
  },
  {
   "cell_type": "code",
   "execution_count": 873,
   "id": "3a40b6e0-6ae2-4aa6-92e9-17756e3e0e65",
   "metadata": {},
   "outputs": [],
   "source": [
    "all_males = df[df['total_female'] == 0]"
   ]
  },
  {
   "cell_type": "code",
   "execution_count": 879,
   "id": "bff4dc9f-1d60-448a-bfa3-cdec2bbc75bc",
   "metadata": {},
   "outputs": [
    {
     "data": {
      "text/plain": [
       "count    1.669000e+03\n",
       "mean     3.303366e+06\n",
       "std      6.754310e+06\n",
       "min      4.900000e+04\n",
       "25%      3.371250e+05\n",
       "50%      1.077375e+06\n",
       "75%      3.633240e+06\n",
       "max      9.008512e+07\n",
       "Name: total_cost, dtype: float64"
      ]
     },
     "execution_count": 879,
     "metadata": {},
     "output_type": "execute_result"
    }
   ],
   "source": [
    "all_males['total_cost'].describe()"
   ]
  },
  {
   "cell_type": "code",
   "execution_count": 880,
   "id": "27eebb2b-f889-419b-84ca-402fd2e9128d",
   "metadata": {},
   "outputs": [
    {
     "data": {
      "text/plain": [
       "[1669.0,\n",
       " 3303366.483581785,\n",
       " 6754309.889125307,\n",
       " 49000.0,\n",
       " 337125.0,\n",
       " 1077375.0,\n",
       " 3633240.0,\n",
       " 90085125.0]"
      ]
     },
     "execution_count": 880,
     "metadata": {},
     "output_type": "execute_result"
    }
   ],
   "source": [
    "list(all_males['total_cost'].describe())\n",
    "#descriptives of all-male groups \n",
    "#the mean cost is 3303366.483581785"
   ]
  },
  {
   "cell_type": "code",
   "execution_count": 881,
   "id": "3d705a5e-4450-4e29-ae14-514df2e2f69c",
   "metadata": {},
   "outputs": [],
   "source": [
    "all_females = df[df['total_male'] == 0]"
   ]
  },
  {
   "cell_type": "code",
   "execution_count": 882,
   "id": "314459fa-bcba-4aca-88e8-67ef1a6911dd",
   "metadata": {},
   "outputs": [
    {
     "data": {
      "text/plain": [
       "count    1.137000e+03\n",
       "mean     5.494953e+06\n",
       "std      8.616067e+06\n",
       "min      4.900000e+04\n",
       "25%      6.630000e+05\n",
       "50%      2.734875e+06\n",
       "75%      6.630000e+06\n",
       "max      8.287500e+07\n",
       "Name: total_cost, dtype: float64"
      ]
     },
     "execution_count": 882,
     "metadata": {},
     "output_type": "execute_result"
    }
   ],
   "source": [
    "all_females['total_cost'].describe()"
   ]
  },
  {
   "cell_type": "code",
   "execution_count": 883,
   "id": "db4cea41-60b6-4787-9598-8b07ea874fae",
   "metadata": {},
   "outputs": [
    {
     "data": {
      "text/plain": [
       "[1137.0,\n",
       " 5494953.413959542,\n",
       " 8616067.153400632,\n",
       " 49000.0,\n",
       " 663000.0,\n",
       " 2734875.0,\n",
       " 6630000.0,\n",
       " 82875000.0]"
      ]
     },
     "execution_count": 883,
     "metadata": {},
     "output_type": "execute_result"
    }
   ],
   "source": [
    "list(all_females['total_cost'].describe())\n",
    "#looks like the mean for all-female groups are higher. "
   ]
  },
  {
   "cell_type": "markdown",
   "id": "3c1f8e43-2a2b-4a5b-9446-f3caaa070a68",
   "metadata": {
    "tags": []
   },
   "source": [
    "### lets get deeper and see only males and only females"
   ]
  },
  {
   "cell_type": "code",
   "execution_count": 890,
   "id": "18e2ba3e-45a2-43f2-a61b-baf006dc7042",
   "metadata": {},
   "outputs": [],
   "source": [
    "only_males = loners[loners['total_male'] == 1]"
   ]
  },
  {
   "cell_type": "code",
   "execution_count": 892,
   "id": "74e41bb7-fd51-4f59-a1a4-c9078bb5f4f2",
   "metadata": {},
   "outputs": [
    {
     "data": {
      "text/plain": [
       "count    7.750000e+02\n",
       "mean     2.879189e+06\n",
       "std      6.938945e+06\n",
       "min      5.000000e+04\n",
       "25%      3.623250e+05\n",
       "50%      9.945000e+05\n",
       "75%      3.315000e+06\n",
       "max      9.008512e+07\n",
       "Name: total_cost, dtype: float64"
      ]
     },
     "execution_count": 892,
     "metadata": {},
     "output_type": "execute_result"
    }
   ],
   "source": [
    "only_males['total_cost'].describe()"
   ]
  },
  {
   "cell_type": "code",
   "execution_count": 894,
   "id": "327ff283-483b-422a-9bb3-163eb1ba38f2",
   "metadata": {},
   "outputs": [
    {
     "data": {
      "text/plain": [
       "[775.0,\n",
       " 2879189.149058064,\n",
       " 6938944.5662697945,\n",
       " 50000.0,\n",
       " 362325.0,\n",
       " 994500.0,\n",
       " 3315000.0,\n",
       " 90085125.0]"
      ]
     },
     "execution_count": 894,
     "metadata": {},
     "output_type": "execute_result"
    }
   ],
   "source": [
    "list(only_males['total_cost'].describe())\n",
    "#so on an average, a man coming alone will spend 2879189.149058064"
   ]
  },
  {
   "cell_type": "code",
   "execution_count": 895,
   "id": "85e760f0-6a65-4efe-a3bf-c0e88a278025",
   "metadata": {},
   "outputs": [],
   "source": [
    "only_females = loners[loners['total_female'] == 1]"
   ]
  },
  {
   "cell_type": "code",
   "execution_count": 897,
   "id": "b8c46f73-465a-4189-b59a-25e266eb55b5",
   "metadata": {},
   "outputs": [
    {
     "data": {
      "text/plain": [
       "count    4.840000e+02\n",
       "mean     4.247663e+06\n",
       "std      5.933442e+06\n",
       "min      4.972500e+04\n",
       "25%      6.588562e+05\n",
       "50%      2.387412e+06\n",
       "75%      5.241844e+06\n",
       "max      4.359225e+07\n",
       "Name: total_cost, dtype: float64"
      ]
     },
     "execution_count": 897,
     "metadata": {},
     "output_type": "execute_result"
    }
   ],
   "source": [
    "only_females['total_cost'].describe()\n"
   ]
  },
  {
   "cell_type": "code",
   "execution_count": 899,
   "id": "efe86ab7-ca4a-4992-bb6c-b28c0b5c3859",
   "metadata": {},
   "outputs": [
    {
     "data": {
      "text/plain": [
       "[484.0,\n",
       " 4247663.190458678,\n",
       " 5933441.784081972,\n",
       " 49725.0,\n",
       " 658856.25,\n",
       " 2387412.425,\n",
       " 5241843.75,\n",
       " 43592250.0]"
      ]
     },
     "execution_count": 899,
     "metadata": {},
     "output_type": "execute_result"
    }
   ],
   "source": [
    "list(only_females['total_cost'].describe())\n",
    "#females coming alone spend much more higher than males = 4247663.190458678 "
   ]
  },
  {
   "cell_type": "markdown",
   "id": "e651e0dd-0240-4be3-b8f3-ef411282d2f7",
   "metadata": {},
   "source": [
    "### checking with age ranges"
   ]
  },
  {
   "cell_type": "code",
   "execution_count": 913,
   "id": "093139fa-5efc-4b09-8c31-e5077ff34963",
   "metadata": {},
   "outputs": [],
   "source": [
    "kid = df[df['age'] == '01-24']"
   ]
  },
  {
   "cell_type": "code",
   "execution_count": 916,
   "id": "bda60457-1275-47d4-a7ed-ce86338444aa",
   "metadata": {},
   "outputs": [],
   "source": [
    "kids = kid[kid['travel_with'] == 'Alone']\n",
    "#kids traveling alone"
   ]
  },
  {
   "cell_type": "code",
   "execution_count": 918,
   "id": "098ab546-f8e3-42dc-ad66-820d22913653",
   "metadata": {},
   "outputs": [
    {
     "data": {
      "text/plain": [
       "count    2.340000e+02\n",
       "mean     3.948009e+06\n",
       "std      9.309394e+06\n",
       "min      4.972500e+04\n",
       "25%      5.041498e+05\n",
       "50%      2.071875e+06\n",
       "75%      4.773221e+06\n",
       "max      7.533338e+07\n",
       "Name: total_cost, dtype: float64"
      ]
     },
     "execution_count": 918,
     "metadata": {},
     "output_type": "execute_result"
    }
   ],
   "source": [
    "kids['total_cost'].describe()"
   ]
  },
  {
   "cell_type": "code",
   "execution_count": 921,
   "id": "10328be0-8618-4722-b0da-283910057e5d",
   "metadata": {},
   "outputs": [
    {
     "data": {
      "text/plain": [
       "[234.0,\n",
       " 3948008.967051282,\n",
       " 9309393.740152381,\n",
       " 49725.0,\n",
       " 504149.8125,\n",
       " 2071875.0,\n",
       " 4773220.8149999995,\n",
       " 75333375.0]"
      ]
     },
     "execution_count": 921,
     "metadata": {},
     "output_type": "execute_result"
    }
   ],
   "source": [
    "list(kids['total_cost'].describe())\n",
    "#the average cost for kids traveling is 3948008.967051282 "
   ]
  },
  {
   "cell_type": "code",
   "execution_count": 922,
   "id": "2797b154-fd8a-41e3-a1e6-8de3b980da81",
   "metadata": {},
   "outputs": [],
   "source": [
    "youth = df[df['age'] == '25-44']"
   ]
  },
  {
   "cell_type": "code",
   "execution_count": 923,
   "id": "d3d9d198-023e-4bc9-b1dd-97062a000355",
   "metadata": {},
   "outputs": [],
   "source": [
    "youth = youth[youth['travel_with'] == 'Alone']\n",
    "#youth traveling alone"
   ]
  },
  {
   "cell_type": "code",
   "execution_count": 925,
   "id": "5825ff18-42a4-4a26-867f-5b41ff289510",
   "metadata": {},
   "outputs": [
    {
     "data": {
      "text/plain": [
       "count    6.970000e+02\n",
       "mean     2.230397e+06\n",
       "std      3.141326e+06\n",
       "min      5.000000e+04\n",
       "25%      4.000000e+05\n",
       "50%      9.945000e+05\n",
       "75%      3.129555e+06\n",
       "max      3.480750e+07\n",
       "Name: total_cost, dtype: float64"
      ]
     },
     "execution_count": 925,
     "metadata": {},
     "output_type": "execute_result"
    }
   ],
   "source": [
    "youth['total_cost'].describe()"
   ]
  },
  {
   "cell_type": "code",
   "execution_count": 927,
   "id": "b6f71c2f-6153-49fd-b01c-9fb44abfe4e2",
   "metadata": {},
   "outputs": [
    {
     "data": {
      "text/plain": [
       "[697.0,\n",
       " 2230396.583314204,\n",
       " 3141325.9096136857,\n",
       " 50000.0,\n",
       " 400000.0,\n",
       " 994500.0,\n",
       " 3129555.0,\n",
       " 34807500.0]"
      ]
     },
     "execution_count": 927,
     "metadata": {},
     "output_type": "execute_result"
    }
   ],
   "source": [
    "list(youth['total_cost'].describe())\n",
    "#the average cost for youth traveling is 2230396.583314204 "
   ]
  },
  {
   "cell_type": "code",
   "execution_count": 928,
   "id": "d91ae7d7-c0f4-44c3-bb5f-4d09d814e2df",
   "metadata": {},
   "outputs": [],
   "source": [
    "adult = df[df['age'] == '45-64']"
   ]
  },
  {
   "cell_type": "code",
   "execution_count": 929,
   "id": "73117399-fcb0-4aeb-98e8-07a8245c026c",
   "metadata": {},
   "outputs": [],
   "source": [
    "adult = adult[adult['travel_with'] == 'Alone']\n",
    "#youth traveling alone"
   ]
  },
  {
   "cell_type": "code",
   "execution_count": 930,
   "id": "ba65bec0-6f38-4e08-82aa-f96379f5b76f",
   "metadata": {},
   "outputs": [
    {
     "data": {
      "text/plain": [
       "count    2.750000e+02\n",
       "mean     4.471133e+06\n",
       "std      8.065059e+06\n",
       "min      5.662800e+04\n",
       "25%      5.312288e+05\n",
       "50%      1.657500e+06\n",
       "75%      5.621362e+06\n",
       "max      9.008512e+07\n",
       "Name: total_cost, dtype: float64"
      ]
     },
     "execution_count": 930,
     "metadata": {},
     "output_type": "execute_result"
    }
   ],
   "source": [
    "adult['total_cost'].describe()"
   ]
  },
  {
   "cell_type": "code",
   "execution_count": 932,
   "id": "49b3cb2c-df3d-448f-be12-387cbb575b8c",
   "metadata": {},
   "outputs": [
    {
     "data": {
      "text/plain": [
       "[275.0,\n",
       " 4471132.616334545,\n",
       " 8065059.0506804325,\n",
       " 56628.0,\n",
       " 531228.75,\n",
       " 1657500.0,\n",
       " 5621362.5,\n",
       " 90085125.0]"
      ]
     },
     "execution_count": 932,
     "metadata": {},
     "output_type": "execute_result"
    }
   ],
   "source": [
    "list(adult['total_cost'].describe())\n",
    "#the average cost for adult traveling is 4471132.616334545 "
   ]
  },
  {
   "cell_type": "code",
   "execution_count": 937,
   "id": "a74adb85-cab9-49ab-9b3a-6f8f56ef6f85",
   "metadata": {},
   "outputs": [],
   "source": [
    "old = df[df['age'] == '65+']"
   ]
  },
  {
   "cell_type": "code",
   "execution_count": 938,
   "id": "fadea84c-25c8-4056-9c90-6932c7d703b3",
   "metadata": {},
   "outputs": [],
   "source": [
    "old = old[old['travel_with'] == 'Alone']\n",
    "#youth traveling alone"
   ]
  },
  {
   "cell_type": "code",
   "execution_count": 939,
   "id": "fb99a60b-e16f-4292-b7da-32d7ef2e5111",
   "metadata": {},
   "outputs": [
    {
     "data": {
      "text/plain": [
       "count    5.900000e+01\n",
       "mean     1.061182e+07\n",
       "std      1.055847e+07\n",
       "min      5.500000e+04\n",
       "25%      1.906125e+06\n",
       "50%      7.723950e+06\n",
       "75%      1.601974e+07\n",
       "max      4.153695e+07\n",
       "Name: total_cost, dtype: float64"
      ]
     },
     "execution_count": 939,
     "metadata": {},
     "output_type": "execute_result"
    }
   ],
   "source": [
    "old['total_cost'].describe()"
   ]
  },
  {
   "cell_type": "code",
   "execution_count": 940,
   "id": "28d788f6-1919-4095-a5b6-b2a8e6a08fc5",
   "metadata": {},
   "outputs": [
    {
     "data": {
      "text/plain": [
       "[59.0,\n",
       " 10611816.255932204,\n",
       " 10558474.29795233,\n",
       " 55000.0,\n",
       " 1906125.0,\n",
       " 7723950.0,\n",
       " 16019737.5,\n",
       " 41536950.0]"
      ]
     },
     "execution_count": 940,
     "metadata": {},
     "output_type": "execute_result"
    }
   ],
   "source": [
    "list(old['total_cost'].describe())\n",
    "#the average cost for adult traveling is 10611816.255932204 "
   ]
  },
  {
   "cell_type": "code",
   "execution_count": null,
   "id": "56744c7e-a123-4391-8ca3-a09da4355c4f",
   "metadata": {},
   "outputs": [],
   "source": []
  },
  {
   "cell_type": "code",
   "execution_count": 924,
   "id": "6f59a486-0c74-49bd-8c56-bc5738a543b8",
   "metadata": {},
   "outputs": [
    {
     "data": {
      "text/html": [
       "<div>\n",
       "<style scoped>\n",
       "    .dataframe tbody tr th:only-of-type {\n",
       "        vertical-align: middle;\n",
       "    }\n",
       "\n",
       "    .dataframe tbody tr th {\n",
       "        vertical-align: top;\n",
       "    }\n",
       "\n",
       "    .dataframe thead th {\n",
       "        text-align: right;\n",
       "    }\n",
       "</style>\n",
       "<table border=\"1\" class=\"dataframe\">\n",
       "  <thead>\n",
       "    <tr style=\"text-align: right;\">\n",
       "      <th></th>\n",
       "      <th>ID</th>\n",
       "      <th>country</th>\n",
       "      <th>age_group</th>\n",
       "      <th>travel_with</th>\n",
       "      <th>total_female</th>\n",
       "      <th>total_male</th>\n",
       "      <th>purpose</th>\n",
       "      <th>main_activity</th>\n",
       "      <th>info_source</th>\n",
       "      <th>tour_arrangement</th>\n",
       "      <th>...</th>\n",
       "      <th>night_mainland</th>\n",
       "      <th>night_zanzibar</th>\n",
       "      <th>payment_mode</th>\n",
       "      <th>first_trip_tz</th>\n",
       "      <th>most_impressing</th>\n",
       "      <th>total_cost</th>\n",
       "      <th>upcountry</th>\n",
       "      <th>countrys</th>\n",
       "      <th>aging</th>\n",
       "      <th>age</th>\n",
       "    </tr>\n",
       "  </thead>\n",
       "  <tbody>\n",
       "    <tr>\n",
       "      <th>2</th>\n",
       "      <td>tour_1000</td>\n",
       "      <td>UNITED KINGDOM</td>\n",
       "      <td>25-44</td>\n",
       "      <td>Alone</td>\n",
       "      <td>0.0</td>\n",
       "      <td>1.0</td>\n",
       "      <td>Visiting Friends and Relatives</td>\n",
       "      <td>Cultural tourism</td>\n",
       "      <td>Friends, relatives</td>\n",
       "      <td>Independent</td>\n",
       "      <td>...</td>\n",
       "      <td>1</td>\n",
       "      <td>31</td>\n",
       "      <td>Cash</td>\n",
       "      <td>No</td>\n",
       "      <td>Excellent Experience</td>\n",
       "      <td>3315000.0</td>\n",
       "      <td>Europe</td>\n",
       "      <td>0</td>\n",
       "      <td>1</td>\n",
       "      <td>25-44</td>\n",
       "    </tr>\n",
       "    <tr>\n",
       "      <th>8</th>\n",
       "      <td>tour_101</td>\n",
       "      <td>NIGERIA</td>\n",
       "      <td>25-44</td>\n",
       "      <td>Alone</td>\n",
       "      <td>0.0</td>\n",
       "      <td>1.0</td>\n",
       "      <td>Leisure and Holidays</td>\n",
       "      <td>Cultural tourism</td>\n",
       "      <td>Travel, agent, tour operator</td>\n",
       "      <td>Independent</td>\n",
       "      <td>...</td>\n",
       "      <td>4</td>\n",
       "      <td>0</td>\n",
       "      <td>Cash</td>\n",
       "      <td>Yes</td>\n",
       "      <td>NaN</td>\n",
       "      <td>994500.0</td>\n",
       "      <td>West Africa</td>\n",
       "      <td>12</td>\n",
       "      <td>1</td>\n",
       "      <td>25-44</td>\n",
       "    </tr>\n",
       "    <tr>\n",
       "      <th>9</th>\n",
       "      <td>tour_1011</td>\n",
       "      <td>INDIA</td>\n",
       "      <td>25-44</td>\n",
       "      <td>Alone</td>\n",
       "      <td>1.0</td>\n",
       "      <td>0.0</td>\n",
       "      <td>Business</td>\n",
       "      <td>Wildlife tourism</td>\n",
       "      <td>Travel, agent, tour operator</td>\n",
       "      <td>Independent</td>\n",
       "      <td>...</td>\n",
       "      <td>5</td>\n",
       "      <td>0</td>\n",
       "      <td>Credit Card</td>\n",
       "      <td>Yes</td>\n",
       "      <td>Friendly People</td>\n",
       "      <td>2486250.0</td>\n",
       "      <td>Asia</td>\n",
       "      <td>5</td>\n",
       "      <td>1</td>\n",
       "      <td>25-44</td>\n",
       "    </tr>\n",
       "    <tr>\n",
       "      <th>14</th>\n",
       "      <td>tour_1018</td>\n",
       "      <td>MOZAMBIQUE</td>\n",
       "      <td>25-44</td>\n",
       "      <td>Alone</td>\n",
       "      <td>0.0</td>\n",
       "      <td>1.0</td>\n",
       "      <td>Visiting Friends and Relatives</td>\n",
       "      <td>Beach tourism</td>\n",
       "      <td>Friends, relatives</td>\n",
       "      <td>Independent</td>\n",
       "      <td>...</td>\n",
       "      <td>2</td>\n",
       "      <td>0</td>\n",
       "      <td>Cash</td>\n",
       "      <td>Yes</td>\n",
       "      <td>Wildlife</td>\n",
       "      <td>497250.0</td>\n",
       "      <td>Southern Africa</td>\n",
       "      <td>2</td>\n",
       "      <td>1</td>\n",
       "      <td>25-44</td>\n",
       "    </tr>\n",
       "    <tr>\n",
       "      <th>26</th>\n",
       "      <td>tour_1033</td>\n",
       "      <td>UNITED KINGDOM</td>\n",
       "      <td>25-44</td>\n",
       "      <td>Alone</td>\n",
       "      <td>0.0</td>\n",
       "      <td>1.0</td>\n",
       "      <td>Business</td>\n",
       "      <td>Wildlife tourism</td>\n",
       "      <td>Travel, agent, tour operator</td>\n",
       "      <td>Independent</td>\n",
       "      <td>...</td>\n",
       "      <td>1</td>\n",
       "      <td>0</td>\n",
       "      <td>Credit Card</td>\n",
       "      <td>Yes</td>\n",
       "      <td>No comments</td>\n",
       "      <td>663000.0</td>\n",
       "      <td>Europe</td>\n",
       "      <td>0</td>\n",
       "      <td>1</td>\n",
       "      <td>25-44</td>\n",
       "    </tr>\n",
       "    <tr>\n",
       "      <th>...</th>\n",
       "      <td>...</td>\n",
       "      <td>...</td>\n",
       "      <td>...</td>\n",
       "      <td>...</td>\n",
       "      <td>...</td>\n",
       "      <td>...</td>\n",
       "      <td>...</td>\n",
       "      <td>...</td>\n",
       "      <td>...</td>\n",
       "      <td>...</td>\n",
       "      <td>...</td>\n",
       "      <td>...</td>\n",
       "      <td>...</td>\n",
       "      <td>...</td>\n",
       "      <td>...</td>\n",
       "      <td>...</td>\n",
       "      <td>...</td>\n",
       "      <td>...</td>\n",
       "      <td>...</td>\n",
       "      <td>...</td>\n",
       "      <td>...</td>\n",
       "    </tr>\n",
       "    <tr>\n",
       "      <th>4772</th>\n",
       "      <td>tour_952</td>\n",
       "      <td>UNITED KINGDOM</td>\n",
       "      <td>25-44</td>\n",
       "      <td>Alone</td>\n",
       "      <td>1.0</td>\n",
       "      <td>0.0</td>\n",
       "      <td>Visiting Friends and Relatives</td>\n",
       "      <td>Hunting tourism</td>\n",
       "      <td>Friends, relatives</td>\n",
       "      <td>Independent</td>\n",
       "      <td>...</td>\n",
       "      <td>9</td>\n",
       "      <td>0</td>\n",
       "      <td>Cash</td>\n",
       "      <td>No</td>\n",
       "      <td>No comments</td>\n",
       "      <td>994500.0</td>\n",
       "      <td>Europe</td>\n",
       "      <td>0</td>\n",
       "      <td>1</td>\n",
       "      <td>25-44</td>\n",
       "    </tr>\n",
       "    <tr>\n",
       "      <th>4790</th>\n",
       "      <td>tour_978</td>\n",
       "      <td>POLAND</td>\n",
       "      <td>25-44</td>\n",
       "      <td>Alone</td>\n",
       "      <td>1.0</td>\n",
       "      <td>0.0</td>\n",
       "      <td>Visiting Friends and Relatives</td>\n",
       "      <td>business</td>\n",
       "      <td>Friends, relatives</td>\n",
       "      <td>Independent</td>\n",
       "      <td>...</td>\n",
       "      <td>1</td>\n",
       "      <td>7</td>\n",
       "      <td>Cash</td>\n",
       "      <td>Yes</td>\n",
       "      <td>Friendly People</td>\n",
       "      <td>1657500.0</td>\n",
       "      <td>Europe</td>\n",
       "      <td>0</td>\n",
       "      <td>1</td>\n",
       "      <td>25-44</td>\n",
       "    </tr>\n",
       "    <tr>\n",
       "      <th>4795</th>\n",
       "      <td>tour_982</td>\n",
       "      <td>THAILAND</td>\n",
       "      <td>25-44</td>\n",
       "      <td>Alone</td>\n",
       "      <td>1.0</td>\n",
       "      <td>0.0</td>\n",
       "      <td>Meetings and Conference</td>\n",
       "      <td>Mountain climbing</td>\n",
       "      <td>others</td>\n",
       "      <td>Independent</td>\n",
       "      <td>...</td>\n",
       "      <td>5</td>\n",
       "      <td>0</td>\n",
       "      <td>Cash</td>\n",
       "      <td>Yes</td>\n",
       "      <td>Friendly People</td>\n",
       "      <td>414375.0</td>\n",
       "      <td>Asia</td>\n",
       "      <td>5</td>\n",
       "      <td>1</td>\n",
       "      <td>25-44</td>\n",
       "    </tr>\n",
       "    <tr>\n",
       "      <th>4796</th>\n",
       "      <td>tour_983</td>\n",
       "      <td>SOUTH AFRICA</td>\n",
       "      <td>25-44</td>\n",
       "      <td>Alone</td>\n",
       "      <td>0.0</td>\n",
       "      <td>1.0</td>\n",
       "      <td>Meetings and Conference</td>\n",
       "      <td>Mountain climbing</td>\n",
       "      <td>Travel, agent, tour operator</td>\n",
       "      <td>Independent</td>\n",
       "      <td>...</td>\n",
       "      <td>3</td>\n",
       "      <td>0</td>\n",
       "      <td>Cash</td>\n",
       "      <td>Yes</td>\n",
       "      <td>Friendly People</td>\n",
       "      <td>1657500.0</td>\n",
       "      <td>Southern Africa</td>\n",
       "      <td>2</td>\n",
       "      <td>1</td>\n",
       "      <td>25-44</td>\n",
       "    </tr>\n",
       "    <tr>\n",
       "      <th>4797</th>\n",
       "      <td>tour_984</td>\n",
       "      <td>UNITED KINGDOM</td>\n",
       "      <td>25-44</td>\n",
       "      <td>Alone</td>\n",
       "      <td>1.0</td>\n",
       "      <td>0.0</td>\n",
       "      <td>Leisure and Holidays</td>\n",
       "      <td>Beach tourism</td>\n",
       "      <td>Friends, relatives</td>\n",
       "      <td>Independent</td>\n",
       "      <td>...</td>\n",
       "      <td>3</td>\n",
       "      <td>0</td>\n",
       "      <td>Credit Card</td>\n",
       "      <td>Yes</td>\n",
       "      <td>Friendly People</td>\n",
       "      <td>4552080.0</td>\n",
       "      <td>Europe</td>\n",
       "      <td>0</td>\n",
       "      <td>1</td>\n",
       "      <td>25-44</td>\n",
       "    </tr>\n",
       "  </tbody>\n",
       "</table>\n",
       "<p>697 rows × 27 columns</p>\n",
       "</div>"
      ],
      "text/plain": [
       "             ID         country age_group travel_with  total_female  \\\n",
       "2     tour_1000  UNITED KINGDOM     25-44       Alone           0.0   \n",
       "8      tour_101         NIGERIA     25-44       Alone           0.0   \n",
       "9     tour_1011           INDIA     25-44       Alone           1.0   \n",
       "14    tour_1018      MOZAMBIQUE     25-44       Alone           0.0   \n",
       "26    tour_1033  UNITED KINGDOM     25-44       Alone           0.0   \n",
       "...         ...             ...       ...         ...           ...   \n",
       "4772   tour_952  UNITED KINGDOM     25-44       Alone           1.0   \n",
       "4790   tour_978          POLAND     25-44       Alone           1.0   \n",
       "4795   tour_982        THAILAND     25-44       Alone           1.0   \n",
       "4796   tour_983    SOUTH AFRICA     25-44       Alone           0.0   \n",
       "4797   tour_984  UNITED KINGDOM     25-44       Alone           1.0   \n",
       "\n",
       "      total_male                         purpose      main_activity  \\\n",
       "2            1.0  Visiting Friends and Relatives   Cultural tourism   \n",
       "8            1.0            Leisure and Holidays   Cultural tourism   \n",
       "9            0.0                        Business   Wildlife tourism   \n",
       "14           1.0  Visiting Friends and Relatives      Beach tourism   \n",
       "26           1.0                        Business   Wildlife tourism   \n",
       "...          ...                             ...                ...   \n",
       "4772         0.0  Visiting Friends and Relatives    Hunting tourism   \n",
       "4790         0.0  Visiting Friends and Relatives           business   \n",
       "4795         0.0         Meetings and Conference  Mountain climbing   \n",
       "4796         1.0         Meetings and Conference  Mountain climbing   \n",
       "4797         0.0            Leisure and Holidays      Beach tourism   \n",
       "\n",
       "                       info_source tour_arrangement  ... night_mainland  \\\n",
       "2               Friends, relatives      Independent  ...              1   \n",
       "8     Travel, agent, tour operator      Independent  ...              4   \n",
       "9     Travel, agent, tour operator      Independent  ...              5   \n",
       "14              Friends, relatives      Independent  ...              2   \n",
       "26    Travel, agent, tour operator      Independent  ...              1   \n",
       "...                            ...              ...  ...            ...   \n",
       "4772            Friends, relatives      Independent  ...              9   \n",
       "4790            Friends, relatives      Independent  ...              1   \n",
       "4795                        others      Independent  ...              5   \n",
       "4796  Travel, agent, tour operator      Independent  ...              3   \n",
       "4797            Friends, relatives      Independent  ...              3   \n",
       "\n",
       "     night_zanzibar payment_mode first_trip_tz       most_impressing  \\\n",
       "2                31         Cash            No  Excellent Experience   \n",
       "8                 0         Cash           Yes                   NaN   \n",
       "9                 0  Credit Card           Yes       Friendly People   \n",
       "14                0         Cash           Yes              Wildlife   \n",
       "26                0  Credit Card           Yes           No comments   \n",
       "...             ...          ...           ...                   ...   \n",
       "4772              0         Cash            No           No comments   \n",
       "4790              7         Cash           Yes       Friendly People   \n",
       "4795              0         Cash           Yes       Friendly People   \n",
       "4796              0         Cash           Yes       Friendly People   \n",
       "4797              0  Credit Card           Yes       Friendly People   \n",
       "\n",
       "     total_cost        upcountry  countrys  aging    age  \n",
       "2     3315000.0           Europe         0      1  25-44  \n",
       "8      994500.0      West Africa        12      1  25-44  \n",
       "9     2486250.0             Asia         5      1  25-44  \n",
       "14     497250.0  Southern Africa         2      1  25-44  \n",
       "26     663000.0           Europe         0      1  25-44  \n",
       "...         ...              ...       ...    ...    ...  \n",
       "4772   994500.0           Europe         0      1  25-44  \n",
       "4790  1657500.0           Europe         0      1  25-44  \n",
       "4795   414375.0             Asia         5      1  25-44  \n",
       "4796  1657500.0  Southern Africa         2      1  25-44  \n",
       "4797  4552080.0           Europe         0      1  25-44  \n",
       "\n",
       "[697 rows x 27 columns]"
      ]
     },
     "execution_count": 924,
     "metadata": {},
     "output_type": "execute_result"
    }
   ],
   "source": [
    "youth"
   ]
  },
  {
   "cell_type": "code",
   "execution_count": 920,
   "id": "a02f9b83-cfe4-4f93-81e6-368b94e0359b",
   "metadata": {},
   "outputs": [
    {
     "data": {
      "text/plain": [
       "25-44    2487\n",
       "45-64    1391\n",
       "01-24     624\n",
       "65+       307\n",
       "Name: age, dtype: int64"
      ]
     },
     "execution_count": 920,
     "metadata": {},
     "output_type": "execute_result"
    }
   ],
   "source": [
    "df['age'].value_counts()"
   ]
  },
  {
   "cell_type": "code",
   "execution_count": null,
   "id": "f1c0338e-f9d8-44f2-80e6-a2f20b990c50",
   "metadata": {},
   "outputs": [],
   "source": []
  },
  {
   "cell_type": "code",
   "execution_count": null,
   "id": "2a7fbc3c-c31a-4ca1-9976-a01ae633a9e7",
   "metadata": {},
   "outputs": [],
   "source": []
  },
  {
   "cell_type": "code",
   "execution_count": 909,
   "id": "8b107694-010a-48c0-9600-a5cfd6945445",
   "metadata": {},
   "outputs": [
    {
     "data": {
      "text/plain": [
       "01-24    624\n",
       "Name: age, dtype: int64"
      ]
     },
     "execution_count": 909,
     "metadata": {},
     "output_type": "execute_result"
    }
   ],
   "source": [
    "kids['age'].value_counts()"
   ]
  },
  {
   "cell_type": "code",
   "execution_count": 910,
   "id": "b793964e-1fe0-4f37-b338-9367e5c35af4",
   "metadata": {},
   "outputs": [
    {
     "data": {
      "text/plain": [
       "count    6.240000e+02\n",
       "mean     5.415205e+06\n",
       "std      1.068684e+07\n",
       "min      4.972500e+04\n",
       "25%      5.690100e+05\n",
       "50%      2.602275e+06\n",
       "75%      5.690100e+06\n",
       "max      9.264596e+07\n",
       "Name: total_cost, dtype: float64"
      ]
     },
     "execution_count": 910,
     "metadata": {},
     "output_type": "execute_result"
    }
   ],
   "source": [
    "kids['total_cost'].describe()"
   ]
  },
  {
   "cell_type": "code",
   "execution_count": 911,
   "id": "57d5106f-4111-4b38-8b28-daecf12e457d",
   "metadata": {},
   "outputs": [
    {
     "data": {
      "text/plain": [
       "[624.0,\n",
       " 5415205.368749999,\n",
       " 10686840.999321232,\n",
       " 49725.0,\n",
       " 569010.0,\n",
       " 2602275.0,\n",
       " 5690100.0,\n",
       " 92645962.5]"
      ]
     },
     "execution_count": 911,
     "metadata": {},
     "output_type": "execute_result"
    }
   ],
   "source": [
    "list(kids['total_cost'].describe())\n"
   ]
  },
  {
   "cell_type": "code",
   "execution_count": 868,
   "id": "43454708-49e6-49e1-94fc-20bc385a865a",
   "metadata": {},
   "outputs": [
    {
     "data": {
      "text/html": [
       "<div>\n",
       "<style scoped>\n",
       "    .dataframe tbody tr th:only-of-type {\n",
       "        vertical-align: middle;\n",
       "    }\n",
       "\n",
       "    .dataframe tbody tr th {\n",
       "        vertical-align: top;\n",
       "    }\n",
       "\n",
       "    .dataframe thead th {\n",
       "        text-align: right;\n",
       "    }\n",
       "</style>\n",
       "<table border=\"1\" class=\"dataframe\">\n",
       "  <thead>\n",
       "    <tr style=\"text-align: right;\">\n",
       "      <th></th>\n",
       "      <th>ID</th>\n",
       "      <th>country</th>\n",
       "      <th>age_group</th>\n",
       "      <th>travel_with</th>\n",
       "      <th>total_female</th>\n",
       "      <th>total_male</th>\n",
       "      <th>purpose</th>\n",
       "      <th>main_activity</th>\n",
       "      <th>info_source</th>\n",
       "      <th>tour_arrangement</th>\n",
       "      <th>...</th>\n",
       "      <th>night_mainland</th>\n",
       "      <th>night_zanzibar</th>\n",
       "      <th>payment_mode</th>\n",
       "      <th>first_trip_tz</th>\n",
       "      <th>most_impressing</th>\n",
       "      <th>total_cost</th>\n",
       "      <th>upcountry</th>\n",
       "      <th>countrys</th>\n",
       "      <th>aging</th>\n",
       "      <th>age</th>\n",
       "    </tr>\n",
       "  </thead>\n",
       "  <tbody>\n",
       "    <tr>\n",
       "      <th>0</th>\n",
       "      <td>tour_0</td>\n",
       "      <td>SWIZERLAND</td>\n",
       "      <td>45-64</td>\n",
       "      <td>Friends/Relatives</td>\n",
       "      <td>1.0</td>\n",
       "      <td>1.0</td>\n",
       "      <td>Leisure and Holidays</td>\n",
       "      <td>Wildlife tourism</td>\n",
       "      <td>Friends, relatives</td>\n",
       "      <td>Independent</td>\n",
       "      <td>...</td>\n",
       "      <td>13</td>\n",
       "      <td>0</td>\n",
       "      <td>Cash</td>\n",
       "      <td>No</td>\n",
       "      <td>Friendly People</td>\n",
       "      <td>674602.5</td>\n",
       "      <td>Europe</td>\n",
       "      <td>0</td>\n",
       "      <td>2</td>\n",
       "      <td>45-64</td>\n",
       "    </tr>\n",
       "    <tr>\n",
       "      <th>1</th>\n",
       "      <td>tour_10</td>\n",
       "      <td>UNITED KINGDOM</td>\n",
       "      <td>25-44</td>\n",
       "      <td>NaN</td>\n",
       "      <td>1.0</td>\n",
       "      <td>0.0</td>\n",
       "      <td>Leisure and Holidays</td>\n",
       "      <td>Cultural tourism</td>\n",
       "      <td>others</td>\n",
       "      <td>Independent</td>\n",
       "      <td>...</td>\n",
       "      <td>14</td>\n",
       "      <td>7</td>\n",
       "      <td>Cash</td>\n",
       "      <td>Yes</td>\n",
       "      <td>Wonderful Country, Landscape, Nature</td>\n",
       "      <td>3214906.5</td>\n",
       "      <td>Europe</td>\n",
       "      <td>0</td>\n",
       "      <td>1</td>\n",
       "      <td>25-44</td>\n",
       "    </tr>\n",
       "    <tr>\n",
       "      <th>2</th>\n",
       "      <td>tour_1000</td>\n",
       "      <td>UNITED KINGDOM</td>\n",
       "      <td>25-44</td>\n",
       "      <td>Alone</td>\n",
       "      <td>0.0</td>\n",
       "      <td>1.0</td>\n",
       "      <td>Visiting Friends and Relatives</td>\n",
       "      <td>Cultural tourism</td>\n",
       "      <td>Friends, relatives</td>\n",
       "      <td>Independent</td>\n",
       "      <td>...</td>\n",
       "      <td>1</td>\n",
       "      <td>31</td>\n",
       "      <td>Cash</td>\n",
       "      <td>No</td>\n",
       "      <td>Excellent Experience</td>\n",
       "      <td>3315000.0</td>\n",
       "      <td>Europe</td>\n",
       "      <td>0</td>\n",
       "      <td>1</td>\n",
       "      <td>25-44</td>\n",
       "    </tr>\n",
       "  </tbody>\n",
       "</table>\n",
       "<p>3 rows × 27 columns</p>\n",
       "</div>"
      ],
      "text/plain": [
       "          ID         country age_group        travel_with  total_female  \\\n",
       "0     tour_0      SWIZERLAND     45-64  Friends/Relatives           1.0   \n",
       "1    tour_10  UNITED KINGDOM     25-44                NaN           1.0   \n",
       "2  tour_1000  UNITED KINGDOM     25-44              Alone           0.0   \n",
       "\n",
       "   total_male                         purpose     main_activity  \\\n",
       "0         1.0            Leisure and Holidays  Wildlife tourism   \n",
       "1         0.0            Leisure and Holidays  Cultural tourism   \n",
       "2         1.0  Visiting Friends and Relatives  Cultural tourism   \n",
       "\n",
       "          info_source tour_arrangement  ... night_mainland night_zanzibar  \\\n",
       "0  Friends, relatives      Independent  ...             13              0   \n",
       "1              others      Independent  ...             14              7   \n",
       "2  Friends, relatives      Independent  ...              1             31   \n",
       "\n",
       "  payment_mode first_trip_tz                       most_impressing total_cost  \\\n",
       "0         Cash            No                       Friendly People   674602.5   \n",
       "1         Cash           Yes  Wonderful Country, Landscape, Nature  3214906.5   \n",
       "2         Cash            No                  Excellent Experience  3315000.0   \n",
       "\n",
       "  upcountry  countrys  aging    age  \n",
       "0    Europe         0      2  45-64  \n",
       "1    Europe         0      1  25-44  \n",
       "2    Europe         0      1  25-44  \n",
       "\n",
       "[3 rows x 27 columns]"
      ]
     },
     "execution_count": 868,
     "metadata": {},
     "output_type": "execute_result"
    }
   ],
   "source": [
    "df.head(3)"
   ]
  },
  {
   "cell_type": "code",
   "execution_count": null,
   "id": "c1cd059c-73da-4fd1-95d0-66b4b1d47fa4",
   "metadata": {},
   "outputs": [],
   "source": []
  }
 ],
 "metadata": {
  "kernelspec": {
   "display_name": "Python 3 (ipykernel)",
   "language": "python",
   "name": "python3"
  },
  "language_info": {
   "codemirror_mode": {
    "name": "ipython",
    "version": 3
   },
   "file_extension": ".py",
   "mimetype": "text/x-python",
   "name": "python",
   "nbconvert_exporter": "python",
   "pygments_lexer": "ipython3",
   "version": "3.9.7"
  }
 },
 "nbformat": 4,
 "nbformat_minor": 5
}
