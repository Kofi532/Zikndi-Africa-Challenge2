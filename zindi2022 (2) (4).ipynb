{
 "cells": [
  {
   "cell_type": "code",
   "execution_count": 1259,
   "id": "7b19bc67-bebe-4e2d-969d-789690584d03",
   "metadata": {
    "tags": []
   },
   "outputs": [],
   "source": [
    "import pandas as pd\n",
    "import numpy as np\n",
    "import time\n",
    "from time import sleep"
   ]
  },
  {
   "cell_type": "code",
   "execution_count": 1260,
   "id": "23eb173d-bb12-4fc6-8362-582903ea088e",
   "metadata": {},
   "outputs": [],
   "source": [
    "df = pd.read_excel (\"C:\\\\Users\\\\KOFI ADUKPO\\\\Desktop\\\\ML\\\\zindi.xlsx\", index_col=0, parse_dates=True)\n",
    "time.sleep(2)\n",
    "#\"C:\\Users\\Kofi\\Downloads\\Train.csv\"\n",
    "#C:\\Users\\Kofi\\Desktop\\Train.xlsx\n"
   ]
  },
  {
   "cell_type": "code",
   "execution_count": 1261,
   "id": "c3c26243-eb01-46e9-97a8-7c74e55f6d94",
   "metadata": {},
   "outputs": [
    {
     "data": {
      "text/plain": [
       "(4809, 22)"
      ]
     },
     "execution_count": 1261,
     "metadata": {},
     "output_type": "execute_result"
    }
   ],
   "source": [
    "df.shape"
   ]
  },
  {
   "cell_type": "code",
   "execution_count": 1262,
   "id": "ac45754f-0efc-427e-9241-607631268864",
   "metadata": {},
   "outputs": [
    {
     "data": {
      "text/plain": [
       "Index(['travel_with', 'total_female', 'total_male', 'most_impressing'], dtype='object')"
      ]
     },
     "execution_count": 1262,
     "metadata": {},
     "output_type": "execute_result"
    }
   ],
   "source": [
    "df.columns[df.isnull().any()]"
   ]
  },
  {
   "cell_type": "code",
   "execution_count": 1263,
   "id": "de750a09-78ff-4f8e-837e-5e2a270e2fbd",
   "metadata": {},
   "outputs": [],
   "source": [
    "for column in ['travel_with', 'total_female', 'total_male', 'most_impressing']:\n",
    "    df[column].fillna(df[column].mode()[0], inplace=True)"
   ]
  },
  {
   "cell_type": "code",
   "execution_count": 1264,
   "id": "d5d0211d-4d76-46b6-8a61-d203dcfe9b7c",
   "metadata": {},
   "outputs": [
    {
     "data": {
      "text/plain": [
       "(4809, 22)"
      ]
     },
     "execution_count": 1264,
     "metadata": {},
     "output_type": "execute_result"
    }
   ],
   "source": [
    "df.shape"
   ]
  },
  {
   "cell_type": "code",
   "execution_count": 1265,
   "id": "ffbb0b50-5805-4638-a613-4598de586aa8",
   "metadata": {},
   "outputs": [],
   "source": [
    "#df = df.dropna()"
   ]
  },
  {
   "cell_type": "code",
   "execution_count": 1266,
   "id": "92d77964-3886-4942-bc8f-3dfcc4b7401a",
   "metadata": {},
   "outputs": [
    {
     "data": {
      "text/html": [
       "<div>\n",
       "<style scoped>\n",
       "    .dataframe tbody tr th:only-of-type {\n",
       "        vertical-align: middle;\n",
       "    }\n",
       "\n",
       "    .dataframe tbody tr th {\n",
       "        vertical-align: top;\n",
       "    }\n",
       "\n",
       "    .dataframe thead th {\n",
       "        text-align: right;\n",
       "    }\n",
       "</style>\n",
       "<table border=\"1\" class=\"dataframe\">\n",
       "  <thead>\n",
       "    <tr style=\"text-align: right;\">\n",
       "      <th></th>\n",
       "      <th>country</th>\n",
       "      <th>age_group</th>\n",
       "      <th>travel_with</th>\n",
       "      <th>total_female</th>\n",
       "      <th>total_male</th>\n",
       "      <th>purpose</th>\n",
       "      <th>main_activity</th>\n",
       "      <th>info_source</th>\n",
       "      <th>tour_arrangement</th>\n",
       "      <th>package_transport_int</th>\n",
       "      <th>...</th>\n",
       "      <th>package_transport_tz</th>\n",
       "      <th>package_sightseeing</th>\n",
       "      <th>package_guided_tour</th>\n",
       "      <th>package_insurance</th>\n",
       "      <th>night_mainland</th>\n",
       "      <th>night_zanzibar</th>\n",
       "      <th>payment_mode</th>\n",
       "      <th>first_trip_tz</th>\n",
       "      <th>most_impressing</th>\n",
       "      <th>total_cost</th>\n",
       "    </tr>\n",
       "    <tr>\n",
       "      <th>ID</th>\n",
       "      <th></th>\n",
       "      <th></th>\n",
       "      <th></th>\n",
       "      <th></th>\n",
       "      <th></th>\n",
       "      <th></th>\n",
       "      <th></th>\n",
       "      <th></th>\n",
       "      <th></th>\n",
       "      <th></th>\n",
       "      <th></th>\n",
       "      <th></th>\n",
       "      <th></th>\n",
       "      <th></th>\n",
       "      <th></th>\n",
       "      <th></th>\n",
       "      <th></th>\n",
       "      <th></th>\n",
       "      <th></th>\n",
       "      <th></th>\n",
       "      <th></th>\n",
       "    </tr>\n",
       "  </thead>\n",
       "  <tbody>\n",
       "    <tr>\n",
       "      <th>tour_0</th>\n",
       "      <td>SWIZERLAND</td>\n",
       "      <td>45-64</td>\n",
       "      <td>Friends/Relatives</td>\n",
       "      <td>1.0</td>\n",
       "      <td>1.0</td>\n",
       "      <td>Leisure and Holidays</td>\n",
       "      <td>Wildlife tourism</td>\n",
       "      <td>Friends, relatives</td>\n",
       "      <td>Independent</td>\n",
       "      <td>No</td>\n",
       "      <td>...</td>\n",
       "      <td>No</td>\n",
       "      <td>No</td>\n",
       "      <td>No</td>\n",
       "      <td>No</td>\n",
       "      <td>13</td>\n",
       "      <td>0</td>\n",
       "      <td>Cash</td>\n",
       "      <td>No</td>\n",
       "      <td>Friendly People</td>\n",
       "      <td>674602.5</td>\n",
       "    </tr>\n",
       "    <tr>\n",
       "      <th>tour_10</th>\n",
       "      <td>UNITED KINGDOM</td>\n",
       "      <td>25-44</td>\n",
       "      <td>Alone</td>\n",
       "      <td>1.0</td>\n",
       "      <td>0.0</td>\n",
       "      <td>Leisure and Holidays</td>\n",
       "      <td>Cultural tourism</td>\n",
       "      <td>others</td>\n",
       "      <td>Independent</td>\n",
       "      <td>No</td>\n",
       "      <td>...</td>\n",
       "      <td>No</td>\n",
       "      <td>No</td>\n",
       "      <td>No</td>\n",
       "      <td>No</td>\n",
       "      <td>14</td>\n",
       "      <td>7</td>\n",
       "      <td>Cash</td>\n",
       "      <td>Yes</td>\n",
       "      <td>Wonderful Country, Landscape, Nature</td>\n",
       "      <td>3214906.5</td>\n",
       "    </tr>\n",
       "    <tr>\n",
       "      <th>tour_1000</th>\n",
       "      <td>UNITED KINGDOM</td>\n",
       "      <td>25-44</td>\n",
       "      <td>Alone</td>\n",
       "      <td>0.0</td>\n",
       "      <td>1.0</td>\n",
       "      <td>Visiting Friends and Relatives</td>\n",
       "      <td>Cultural tourism</td>\n",
       "      <td>Friends, relatives</td>\n",
       "      <td>Independent</td>\n",
       "      <td>No</td>\n",
       "      <td>...</td>\n",
       "      <td>No</td>\n",
       "      <td>No</td>\n",
       "      <td>No</td>\n",
       "      <td>No</td>\n",
       "      <td>1</td>\n",
       "      <td>31</td>\n",
       "      <td>Cash</td>\n",
       "      <td>No</td>\n",
       "      <td>Excellent Experience</td>\n",
       "      <td>3315000.0</td>\n",
       "    </tr>\n",
       "  </tbody>\n",
       "</table>\n",
       "<p>3 rows × 22 columns</p>\n",
       "</div>"
      ],
      "text/plain": [
       "                  country age_group        travel_with  total_female  \\\n",
       "ID                                                                     \n",
       "tour_0         SWIZERLAND     45-64  Friends/Relatives           1.0   \n",
       "tour_10    UNITED KINGDOM     25-44              Alone           1.0   \n",
       "tour_1000  UNITED KINGDOM     25-44              Alone           0.0   \n",
       "\n",
       "           total_male                         purpose     main_activity  \\\n",
       "ID                                                                        \n",
       "tour_0            1.0            Leisure and Holidays  Wildlife tourism   \n",
       "tour_10           0.0            Leisure and Holidays  Cultural tourism   \n",
       "tour_1000         1.0  Visiting Friends and Relatives  Cultural tourism   \n",
       "\n",
       "                  info_source tour_arrangement package_transport_int  ...  \\\n",
       "ID                                                                    ...   \n",
       "tour_0     Friends, relatives      Independent                    No  ...   \n",
       "tour_10                others      Independent                    No  ...   \n",
       "tour_1000  Friends, relatives      Independent                    No  ...   \n",
       "\n",
       "          package_transport_tz package_sightseeing package_guided_tour  \\\n",
       "ID                                                                       \n",
       "tour_0                      No                  No                  No   \n",
       "tour_10                     No                  No                  No   \n",
       "tour_1000                   No                  No                  No   \n",
       "\n",
       "          package_insurance night_mainland night_zanzibar  payment_mode  \\\n",
       "ID                                                                        \n",
       "tour_0                   No             13              0          Cash   \n",
       "tour_10                  No             14              7          Cash   \n",
       "tour_1000                No              1             31          Cash   \n",
       "\n",
       "           first_trip_tz                       most_impressing total_cost  \n",
       "ID                                                                         \n",
       "tour_0                No                       Friendly People   674602.5  \n",
       "tour_10              Yes  Wonderful Country, Landscape, Nature  3214906.5  \n",
       "tour_1000             No                  Excellent Experience  3315000.0  \n",
       "\n",
       "[3 rows x 22 columns]"
      ]
     },
     "execution_count": 1266,
     "metadata": {},
     "output_type": "execute_result"
    }
   ],
   "source": [
    "df.head(3)"
   ]
  },
  {
   "cell_type": "code",
   "execution_count": 1267,
   "id": "dd54bde4-8ac5-44be-bc4c-069041e37ad1",
   "metadata": {},
   "outputs": [],
   "source": [
    "ctry = df['country']"
   ]
  },
  {
   "cell_type": "code",
   "execution_count": 1268,
   "id": "a3bffedf-02b5-4658-b2e6-5a0afccd5dfa",
   "metadata": {},
   "outputs": [
    {
     "data": {
      "text/plain": [
       "pandas.core.series.Series"
      ]
     },
     "execution_count": 1268,
     "metadata": {},
     "output_type": "execute_result"
    }
   ],
   "source": [
    "type(ctry)"
   ]
  },
  {
   "cell_type": "code",
   "execution_count": 1269,
   "id": "7b61d982-a39d-46a4-88ba-af32fa4911c2",
   "metadata": {},
   "outputs": [
    {
     "data": {
      "text/plain": [
       "count                         4809\n",
       "unique                         105\n",
       "top       UNITED STATES OF AMERICA\n",
       "freq                           695\n",
       "Name: country, dtype: object"
      ]
     },
     "execution_count": 1269,
     "metadata": {},
     "output_type": "execute_result"
    }
   ],
   "source": [
    "ctry.describe()"
   ]
  },
  {
   "cell_type": "code",
   "execution_count": 1270,
   "id": "4e2002be-4d85-493d-9194-f9c50b1aa956",
   "metadata": {},
   "outputs": [],
   "source": [
    "unique, counts = np.unique(ctry, return_counts=True)"
   ]
  },
  {
   "cell_type": "code",
   "execution_count": 1271,
   "id": "0182dc86-0784-4d47-b658-2ffd23914cf4",
   "metadata": {},
   "outputs": [],
   "source": [
    "ctrys = np.asarray((unique, counts)).T"
   ]
  },
  {
   "cell_type": "code",
   "execution_count": 1272,
   "id": "9185f928-1626-4feb-8dd6-c5cda26dbe1d",
   "metadata": {},
   "outputs": [
    {
     "name": "stderr",
     "output_type": "stream",
     "text": [
      "[WDM] - ====== WebDriver manager ======\n"
     ]
    },
    {
     "name": "stdout",
     "output_type": "stream",
     "text": [
      "\n"
     ]
    },
    {
     "name": "stderr",
     "output_type": "stream",
     "text": [
      "[WDM] - Current google-chrome version is 101.0.4951\n",
      "[WDM] - Get LATEST chromedriver version for 101.0.4951 google-chrome\n",
      "[WDM] - Driver [C:\\Users\\KOFI ADUKPO\\.wdm\\drivers\\chromedriver\\win32\\101.0.4951.41\\chromedriver.exe] found in cache\n",
      "C:\\Users\\KOFI ADUKPO\\AppData\\Local\\Temp\\ipykernel_4848\\2674708284.py:6: DeprecationWarning: executable_path has been deprecated, please pass in a Service object\n",
      "  driver = webdriver.Chrome(ChromeDriverManager().install())\n"
     ]
    }
   ],
   "source": [
    "import time\n",
    "from time import sleep\n",
    "from selenium import webdriver\n",
    "from selenium.webdriver.common.keys import Keys\n",
    "from webdriver_manager.chrome import ChromeDriverManager\n",
    "driver = webdriver.Chrome(ChromeDriverManager().install())"
   ]
  },
  {
   "cell_type": "code",
   "execution_count": 1273,
   "id": "faa9f2e0-f116-43c2-a6b2-a630c00bd88d",
   "metadata": {},
   "outputs": [],
   "source": [
    "driver.get(\"https://au.int/en/member_states/countryprofiles2\")  \n",
    "time.sleep(15)"
   ]
  },
  {
   "cell_type": "code",
   "execution_count": 1274,
   "id": "989464f5-5e0c-49ca-bae8-62ce9b6c191c",
   "metadata": {},
   "outputs": [],
   "source": [
    "driver.maximize_window()"
   ]
  },
  {
   "cell_type": "code",
   "execution_count": 1275,
   "id": "f202b9b6-06f6-4aba-8b61-ac407f961591",
   "metadata": {},
   "outputs": [
    {
     "name": "stderr",
     "output_type": "stream",
     "text": [
      "C:\\Users\\KOFI ADUKPO\\AppData\\Local\\Temp\\ipykernel_4848\\1135680224.py:1: DeprecationWarning: find_element_by_xpath is deprecated. Please use find_element(by=By.XPATH, value=xpath) instead\n",
      "  i = driver.find_element_by_xpath(\"(//tbody)[1]\")\n"
     ]
    }
   ],
   "source": [
    "i = driver.find_element_by_xpath(\"(//tbody)[1]\")"
   ]
  },
  {
   "cell_type": "code",
   "execution_count": 1276,
   "id": "ef801939-6e17-4b52-903e-5b81dc4e547a",
   "metadata": {},
   "outputs": [],
   "source": [
    "text = i.text\n",
    "#(//tbody)[1]"
   ]
  },
  {
   "cell_type": "code",
   "execution_count": 1277,
   "id": "7c6ec7c6-85f7-4af8-be78-3286be5a9edf",
   "metadata": {},
   "outputs": [
    {
     "data": {
      "text/plain": [
       "str"
      ]
     },
     "execution_count": 1277,
     "metadata": {},
     "output_type": "execute_result"
    }
   ],
   "source": [
    "type(text)"
   ]
  },
  {
   "cell_type": "code",
   "execution_count": 1278,
   "id": "a4a61e2b-b9ce-4be4-8178-8c607037fb05",
   "metadata": {},
   "outputs": [],
   "source": [
    "rep = text.replace(\"\\n\", \". \")"
   ]
  },
  {
   "cell_type": "code",
   "execution_count": 1279,
   "id": "d8a5a1a2-9592-46a9-a6f2-ea74f431042e",
   "metadata": {},
   "outputs": [],
   "source": [
    "import re\n",
    "expression = re.compile(r'([A-Z][^\\.!?]*[\\.!?])')\n",
    "new_list = re.findall(expression, rep)"
   ]
  },
  {
   "cell_type": "code",
   "execution_count": 1280,
   "id": "95fbca36-1971-4ffe-a2e3-6f9a4a4de8a9",
   "metadata": {},
   "outputs": [
    {
     "data": {
      "text/plain": [
       "['Member State  Abbreviation Date of joining.',\n",
       " 'OAU or AU.',\n",
       " 'Republic of Burundi  Burundi 25 May 1963.',\n",
       " 'Republic of Cameroon  Cameroon 25 May 1963.',\n",
       " 'Central African Republic  Central African Republic 25 May 1963 .',\n",
       " 'Republic of Chad  Chad 25 May 1963.',\n",
       " 'Republic of the Congo  Congo Republic 25 May 1963.',\n",
       " 'Democratic Republic of Congo  DR Congo 25 May 1963.',\n",
       " 'Republic of Equatorial Guinea  Equatorial Guinea 12 October 1968.',\n",
       " 'Gabonese Republic  Gabon 25 May 1963.']"
      ]
     },
     "execution_count": 1280,
     "metadata": {},
     "output_type": "execute_result"
    }
   ],
   "source": [
    "new_list"
   ]
  },
  {
   "cell_type": "code",
   "execution_count": 1281,
   "id": "3108eb7e-52de-467a-8d76-ca6ee228dd01",
   "metadata": {},
   "outputs": [],
   "source": [
    "converted_list = [x.upper() for x in new_list]"
   ]
  },
  {
   "cell_type": "code",
   "execution_count": 1282,
   "id": "8c6efc02-5637-48ad-b1dc-4d658b1748ed",
   "metadata": {},
   "outputs": [
    {
     "data": {
      "text/plain": [
       "['MEMBER STATE  ABBREVIATION DATE OF JOINING.',\n",
       " 'OAU OR AU.',\n",
       " 'REPUBLIC OF BURUNDI  BURUNDI 25 MAY 1963.',\n",
       " 'REPUBLIC OF CAMEROON  CAMEROON 25 MAY 1963.',\n",
       " 'CENTRAL AFRICAN REPUBLIC  CENTRAL AFRICAN REPUBLIC 25 MAY 1963 .',\n",
       " 'REPUBLIC OF CHAD  CHAD 25 MAY 1963.',\n",
       " 'REPUBLIC OF THE CONGO  CONGO REPUBLIC 25 MAY 1963.',\n",
       " 'DEMOCRATIC REPUBLIC OF CONGO  DR CONGO 25 MAY 1963.',\n",
       " 'REPUBLIC OF EQUATORIAL GUINEA  EQUATORIAL GUINEA 12 OCTOBER 1968.',\n",
       " 'GABONESE REPUBLIC  GABON 25 MAY 1963.']"
      ]
     },
     "execution_count": 1282,
     "metadata": {},
     "output_type": "execute_result"
    }
   ],
   "source": [
    "converted_list"
   ]
  },
  {
   "cell_type": "code",
   "execution_count": 1283,
   "id": "092b6fcb-51a0-40b8-9e0e-1250941eca72",
   "metadata": {},
   "outputs": [],
   "source": [
    "list1 = ctrys.tolist()"
   ]
  },
  {
   "cell_type": "code",
   "execution_count": 1284,
   "id": "54f09f0d-eb4a-496e-bdaf-212affd744dc",
   "metadata": {},
   "outputs": [
    {
     "data": {
      "text/plain": [
       "[['ALGERIA', 2],\n",
       " ['ANGOLA', 1],\n",
       " ['ARGENTINA', 1],\n",
       " ['AUSTRALIA', 186],\n",
       " ['AUSTRIA', 18],\n",
       " ['BELGIUM', 49],\n",
       " ['BERMUDA', 1],\n",
       " ['BRAZIL', 10],\n",
       " ['BURGARIA', 2],\n",
       " ['BURUNDI', 64],\n",
       " ['CANADA', 114],\n",
       " ['CAPE VERDE', 1],\n",
       " ['CHILE', 2],\n",
       " ['CHINA', 65],\n",
       " ['COLOMBIA', 3],\n",
       " ['COMORO', 1],\n",
       " ['CONGO', 11],\n",
       " ['COSTARICA', 1],\n",
       " ['CROATIA', 2],\n",
       " ['CYPRUS', 1],\n",
       " ['CZECH REPUBLIC', 11],\n",
       " ['DENMARK', 41],\n",
       " ['DJIBOUT', 3],\n",
       " ['DOMINICA', 1],\n",
       " ['DRC', 30],\n",
       " ['EGYPT', 10],\n",
       " ['ESTONIA', 1],\n",
       " ['ETHIOPIA', 6],\n",
       " ['FINLAND', 8],\n",
       " ['FRANCE', 280],\n",
       " ['GEORGIA', 1],\n",
       " ['GERMANY', 223],\n",
       " ['GHANA', 2],\n",
       " ['GREECE', 7],\n",
       " ['HUNGARY', 2],\n",
       " ['INDIA', 87],\n",
       " ['INDONESIA', 3],\n",
       " ['IRAN', 2],\n",
       " ['IRAQ', 1],\n",
       " ['IRELAND', 29],\n",
       " ['ISRAEL', 16],\n",
       " ['ITALY', 393],\n",
       " ['IVORY COAST', 1],\n",
       " ['JAPAN', 53],\n",
       " ['KENYA', 235],\n",
       " ['KOREA', 12],\n",
       " ['KUWAIT', 2],\n",
       " ['LATVIA', 2],\n",
       " ['LEBANON', 3],\n",
       " ['LESOTHO', 1],\n",
       " ['LITHUANIA', 4],\n",
       " ['LUXEMBOURG', 2],\n",
       " ['MADAGASCAR', 1],\n",
       " ['MALAWI', 20],\n",
       " ['MALAYSIA', 23],\n",
       " ['MALT', 3],\n",
       " ['MAURITIUS', 2],\n",
       " ['MEXICO', 2],\n",
       " ['MONTENEGRO', 1],\n",
       " ['MORROCO', 1],\n",
       " ['MOZAMBIQUE', 8],\n",
       " ['MYANMAR', 1],\n",
       " ['NAMIBIA', 2],\n",
       " ['NEPAL', 2],\n",
       " ['NETHERLANDS', 112],\n",
       " ['NEW ZEALAND', 18],\n",
       " ['NIGER', 1],\n",
       " ['NIGERIA', 4],\n",
       " ['NORWAY', 21],\n",
       " ['OMAN', 35],\n",
       " ['PAKISTAN', 6],\n",
       " ['PHILIPINES', 2],\n",
       " ['POLAND', 16],\n",
       " ['PORTUGAL', 10],\n",
       " ['QATAR', 8],\n",
       " ['ROMANIA', 2],\n",
       " ['RUSSIA', 8],\n",
       " ['RWANDA', 40],\n",
       " ['SCOTLAND', 4],\n",
       " ['SERBIA', 6],\n",
       " ['SINGAPORE', 7],\n",
       " ['SLOVAKIA', 2],\n",
       " ['SLOVENIA', 1],\n",
       " ['SOUTH AFRICA', 235],\n",
       " ['SPAIN', 165],\n",
       " ['SRI LANKA', 3],\n",
       " ['SUDAN', 4],\n",
       " ['SWAZILAND', 4],\n",
       " ['SWEDEN', 37],\n",
       " ['SWIZERLAND', 64],\n",
       " ['TAIWAN', 9],\n",
       " ['THAILAND', 2],\n",
       " ['TRINIDAD TOBACCO', 1],\n",
       " ['TUNISIA', 1],\n",
       " ['TURKEY', 5],\n",
       " ['UAE', 33],\n",
       " ['UGANDA', 159],\n",
       " ['UKRAIN', 2],\n",
       " ['UNITED ARAB EMIRATES', 13],\n",
       " ['UNITED KINGDOM', 533],\n",
       " ['UNITED STATES OF AMERICA', 695],\n",
       " ['URUGUAY', 1],\n",
       " ['YEMEN', 2],\n",
       " ['ZAMBIA', 191],\n",
       " ['ZIMBABWE', 274]]"
      ]
     },
     "execution_count": 1284,
     "metadata": {},
     "output_type": "execute_result"
    }
   ],
   "source": [
    "list1"
   ]
  },
  {
   "cell_type": "code",
   "execution_count": 1285,
   "id": "4640b22e-5b77-4bc9-82a5-6294d2ab4f58",
   "metadata": {},
   "outputs": [
    {
     "data": {
      "text/plain": [
       "list"
      ]
     },
     "execution_count": 1285,
     "metadata": {},
     "output_type": "execute_result"
    }
   ],
   "source": [
    "type(list1)"
   ]
  },
  {
   "cell_type": "code",
   "execution_count": 1286,
   "id": "1d74a640-e758-4cd2-a1b6-fb55ac3b1c92",
   "metadata": {},
   "outputs": [],
   "source": [
    "li = str(list1)"
   ]
  },
  {
   "cell_type": "code",
   "execution_count": 1287,
   "id": "1bc56a36-7e38-4c1c-b5ea-0732c94f26fd",
   "metadata": {},
   "outputs": [],
   "source": [
    "co = str(converted_list)"
   ]
  },
  {
   "cell_type": "code",
   "execution_count": 1288,
   "id": "bfe2bca0-020d-4bd5-9222-c3e273be68aa",
   "metadata": {},
   "outputs": [],
   "source": [
    "from itertools import chain"
   ]
  },
  {
   "cell_type": "code",
   "execution_count": 1289,
   "id": "3227c467-2f80-4064-b6a0-4d8814840808",
   "metadata": {},
   "outputs": [],
   "source": [
    "check = ' '.join(str(v) for v in list1)"
   ]
  },
  {
   "cell_type": "code",
   "execution_count": 1290,
   "id": "d3c06214-60b6-4ba9-9b14-01444ce806cb",
   "metadata": {},
   "outputs": [],
   "source": [
    "m = check.replace(\"[\", \"\")\n",
    "mo = m.replace(\"]\", \"\")\n",
    "mov = mo.replace(\"'\", \"\")\n",
    "move = mov.replace(\".\", \"\")\n",
    "movi = move.replace(\",\", \"\")"
   ]
  },
  {
   "cell_type": "code",
   "execution_count": 1291,
   "id": "11f8f5f9-e32f-4657-8cc9-dedfe037d967",
   "metadata": {},
   "outputs": [
    {
     "data": {
      "text/plain": [
       "str"
      ]
     },
     "execution_count": 1291,
     "metadata": {},
     "output_type": "execute_result"
    }
   ],
   "source": [
    "type(movi)"
   ]
  },
  {
   "cell_type": "code",
   "execution_count": 1292,
   "id": "acfedd22-926d-4ee0-81c2-e4c6587b89c4",
   "metadata": {},
   "outputs": [
    {
     "data": {
      "text/plain": [
       "'ALGERIA 2 ANGOLA 1 ARGENTINA 1 AUSTRALIA 186 AUSTRIA 18 BELGIUM 49 BERMUDA 1 BRAZIL 10 BURGARIA 2 BURUNDI 64 CANADA 114 CAPE VERDE 1 CHILE 2 CHINA 65 COLOMBIA 3 COMORO 1 CONGO 11 COSTARICA 1 CROATIA 2 CYPRUS 1 CZECH REPUBLIC 11 DENMARK 41 DJIBOUT 3 DOMINICA 1 DRC 30 EGYPT 10 ESTONIA 1 ETHIOPIA 6 FINLAND 8 FRANCE 280 GEORGIA 1 GERMANY 223 GHANA 2 GREECE 7 HUNGARY 2 INDIA 87 INDONESIA 3 IRAN 2 IRAQ 1 IRELAND 29 ISRAEL 16 ITALY 393 IVORY COAST 1 JAPAN 53 KENYA 235 KOREA 12 KUWAIT 2 LATVIA 2 LEBANON 3 LESOTHO 1 LITHUANIA 4 LUXEMBOURG 2 MADAGASCAR 1 MALAWI 20 MALAYSIA 23 MALT 3 MAURITIUS 2 MEXICO 2 MONTENEGRO 1 MORROCO 1 MOZAMBIQUE 8 MYANMAR 1 NAMIBIA 2 NEPAL 2 NETHERLANDS 112 NEW ZEALAND 18 NIGER 1 NIGERIA 4 NORWAY 21 OMAN 35 PAKISTAN 6 PHILIPINES 2 POLAND 16 PORTUGAL 10 QATAR 8 ROMANIA 2 RUSSIA 8 RWANDA 40 SCOTLAND 4 SERBIA 6 SINGAPORE 7 SLOVAKIA 2 SLOVENIA 1 SOUTH AFRICA 235 SPAIN 165 SRI LANKA 3 SUDAN 4 SWAZILAND 4 SWEDEN 37 SWIZERLAND 64 TAIWAN 9 THAILAND 2 TRINIDAD TOBACCO 1 TUNISIA 1 TURKEY 5 UAE 33 UGANDA 159 UKRAIN 2 UNITED ARAB EMIRATES 13 UNITED KINGDOM 533 UNITED STATES OF AMERICA 695 URUGUAY 1 YEMEN 2 ZAMBIA 191 ZIMBABWE 274'"
      ]
     },
     "execution_count": 1292,
     "metadata": {},
     "output_type": "execute_result"
    }
   ],
   "source": [
    "movi"
   ]
  },
  {
   "cell_type": "code",
   "execution_count": 1293,
   "id": "598c7ca4-ae99-4452-a7aa-200623cf2b28",
   "metadata": {},
   "outputs": [
    {
     "data": {
      "text/plain": [
       "'ALGERIA  ANGOLA  ARGENTINA  AUSTRALIA  AUSTRIA  BELGIUM  BERMUDA  BRAZIL  BURGARIA  BURUNDI  CANADA  CAPE VERDE  CHILE  CHINA  COLOMBIA  COMORO  CONGO  COSTARICA  CROATIA  CYPRUS  CZECH REPUBLIC  DENMARK  DJIBOUT  DOMINICA  DRC  EGYPT  ESTONIA  ETHIOPIA  FINLAND  FRANCE  GEORGIA  GERMANY  GHANA  GREECE  HUNGARY  INDIA  INDONESIA  IRAN  IRAQ  IRELAND  ISRAEL  ITALY  IVORY COAST  JAPAN  KENYA  KOREA  KUWAIT  LATVIA  LEBANON  LESOTHO  LITHUANIA  LUXEMBOURG  MADAGASCAR  MALAWI  MALAYSIA  MALT  MAURITIUS  MEXICO  MONTENEGRO  MORROCO  MOZAMBIQUE  MYANMAR  NAMIBIA  NEPAL  NETHERLANDS  NEW ZEALAND  NIGER  NIGERIA  NORWAY  OMAN  PAKISTAN  PHILIPINES  POLAND  PORTUGAL  QATAR  ROMANIA  RUSSIA  RWANDA  SCOTLAND  SERBIA  SINGAPORE  SLOVAKIA  SLOVENIA  SOUTH AFRICA  SPAIN  SRI LANKA  SUDAN  SWAZILAND  SWEDEN  SWIZERLAND  TAIWAN  THAILAND  TRINIDAD TOBACCO  TUNISIA  TURKEY  UAE  UGANDA  UKRAIN  UNITED ARAB EMIRATES  UNITED KINGDOM  UNITED STATES OF AMERICA  URUGUAY  YEMEN  ZAMBIA  ZIMBABWE '"
      ]
     },
     "execution_count": 1293,
     "metadata": {},
     "output_type": "execute_result"
    }
   ],
   "source": [
    "\n",
    "result = ''.join([i for i in movi if not i.isdigit()])\n",
    "result"
   ]
  },
  {
   "cell_type": "code",
   "execution_count": 1294,
   "id": "8ea5eb75-c10e-4941-9b20-318ddde57ec2",
   "metadata": {},
   "outputs": [
    {
     "data": {
      "text/plain": [
       "['MEMBER STATE  ABBREVIATION DATE OF JOINING.',\n",
       " 'OAU OR AU.',\n",
       " 'REPUBLIC OF BURUNDI  BURUNDI 25 MAY 1963.',\n",
       " 'REPUBLIC OF CAMEROON  CAMEROON 25 MAY 1963.',\n",
       " 'CENTRAL AFRICAN REPUBLIC  CENTRAL AFRICAN REPUBLIC 25 MAY 1963 .',\n",
       " 'REPUBLIC OF CHAD  CHAD 25 MAY 1963.',\n",
       " 'REPUBLIC OF THE CONGO  CONGO REPUBLIC 25 MAY 1963.',\n",
       " 'DEMOCRATIC REPUBLIC OF CONGO  DR CONGO 25 MAY 1963.',\n",
       " 'REPUBLIC OF EQUATORIAL GUINEA  EQUATORIAL GUINEA 12 OCTOBER 1968.',\n",
       " 'GABONESE REPUBLIC  GABON 25 MAY 1963.']"
      ]
     },
     "execution_count": 1294,
     "metadata": {},
     "output_type": "execute_result"
    }
   ],
   "source": [
    "converted_list"
   ]
  },
  {
   "cell_type": "code",
   "execution_count": 1295,
   "id": "820fa560-6b69-4b05-aa39-ad5ea22250fe",
   "metadata": {},
   "outputs": [],
   "source": [
    "coming = ' '.join(str(v) for v in converted_list)"
   ]
  },
  {
   "cell_type": "code",
   "execution_count": 1296,
   "id": "c9f73eef-c34d-448c-90ee-413f421686fb",
   "metadata": {},
   "outputs": [
    {
     "data": {
      "text/plain": [
       "'MEMBER STATE  ABBREVIATION DATE OF JOINING. OAU OR AU. REPUBLIC OF BURUNDI  BURUNDI 25 MAY 1963. REPUBLIC OF CAMEROON  CAMEROON 25 MAY 1963. CENTRAL AFRICAN REPUBLIC  CENTRAL AFRICAN REPUBLIC 25 MAY 1963 . REPUBLIC OF CHAD  CHAD 25 MAY 1963. REPUBLIC OF THE CONGO  CONGO REPUBLIC 25 MAY 1963. DEMOCRATIC REPUBLIC OF CONGO  DR CONGO 25 MAY 1963. REPUBLIC OF EQUATORIAL GUINEA  EQUATORIAL GUINEA 12 OCTOBER 1968. GABONESE REPUBLIC  GABON 25 MAY 1963.'"
      ]
     },
     "execution_count": 1296,
     "metadata": {},
     "output_type": "execute_result"
    }
   ],
   "source": [
    "coming"
   ]
  },
  {
   "cell_type": "code",
   "execution_count": 1297,
   "id": "fdb31ae6-d44f-43fc-b725-6989aa7d5a73",
   "metadata": {},
   "outputs": [],
   "source": [
    "come = coming.replace(\".\", \"\")\n",
    "com = come.replace(\"REPUBLIC\", \"\")\n",
    "come= com.replace(\"OF\", \"\")\n"
   ]
  },
  {
   "cell_type": "code",
   "execution_count": 1298,
   "id": "e999cebb-a889-42fe-8085-eaa5504de3a9",
   "metadata": {},
   "outputs": [
    {
     "data": {
      "text/plain": [
       "'MEMBER STATE  ABBREVIATION DATE  JOINING OAU OR AU   BURUNDI  BURUNDI 25 MAY 1963   CAMEROON  CAMEROON 25 MAY 1963 CENTRAL AFRICAN   CENTRAL AFRICAN  25 MAY 1963    CHAD  CHAD 25 MAY 1963   THE CONGO  CONGO  25 MAY 1963 DEMOCRATIC   CONGO  DR CONGO 25 MAY 1963   EQUATORIAL GUINEA  EQUATORIAL GUINEA 12 OCTOBER 1968 GABONESE   GABON 25 MAY 1963'"
      ]
     },
     "execution_count": 1298,
     "metadata": {},
     "output_type": "execute_result"
    }
   ],
   "source": [
    "come"
   ]
  },
  {
   "cell_type": "code",
   "execution_count": 1299,
   "id": "f1053dfa-2274-4301-99a5-55d93063bd38",
   "metadata": {},
   "outputs": [],
   "source": [
    "# i need to get the intersection of countries"
   ]
  },
  {
   "cell_type": "markdown",
   "id": "337e61a9-9834-4df6-b9bc-0939c5ae4431",
   "metadata": {},
   "source": [
    "## Central Africa"
   ]
  },
  {
   "cell_type": "code",
   "execution_count": 1300,
   "id": "f94e570f-2e6e-4356-981d-42bfc40d07bf",
   "metadata": {},
   "outputs": [],
   "source": [
    "#movi\n",
    "#come\n",
    "\n",
    "read = set(result.split()) & set(come.split())"
   ]
  },
  {
   "cell_type": "code",
   "execution_count": 1301,
   "id": "c93e28c4-0142-4c76-b5c7-6c427c39e2fe",
   "metadata": {},
   "outputs": [],
   "source": [
    "readd = list(read)"
   ]
  },
  {
   "cell_type": "code",
   "execution_count": 1302,
   "id": "47e6ddb3-d320-4cdc-ab25-77dfe094be9b",
   "metadata": {},
   "outputs": [
    {
     "data": {
      "text/plain": [
       "set"
      ]
     },
     "execution_count": 1302,
     "metadata": {},
     "output_type": "execute_result"
    }
   ],
   "source": [
    "type(read)"
   ]
  },
  {
   "cell_type": "code",
   "execution_count": 1303,
   "id": "c5588ce4-39c5-4cc9-a2df-91fedcc73dee",
   "metadata": {},
   "outputs": [],
   "source": [
    "readd.append(\"DRC\")\n"
   ]
  },
  {
   "cell_type": "code",
   "execution_count": 1304,
   "id": "e7cf70b0-37d5-4d8e-a29c-ff522b8d154c",
   "metadata": {},
   "outputs": [
    {
     "data": {
      "text/plain": [
       "['CONGO', 'BURUNDI', 'DRC']"
      ]
     },
     "execution_count": 1304,
     "metadata": {},
     "output_type": "execute_result"
    }
   ],
   "source": [
    "readd"
   ]
  },
  {
   "cell_type": "code",
   "execution_count": 1305,
   "id": "30ca188a-1248-4ab6-81cb-2853ec5b59e3",
   "metadata": {},
   "outputs": [],
   "source": [
    "matches = []\n",
    "i = len(read)\n",
    "for match in list1:\n",
    "    if readd[i-2] in match:\n",
    "        matches.append(match)\n",
    "        i-=1"
   ]
  },
  {
   "cell_type": "code",
   "execution_count": 1306,
   "id": "2763be03-4ca2-4f4d-a24a-6e2f936e027e",
   "metadata": {},
   "outputs": [
    {
     "data": {
      "text/plain": [
       "[['CONGO', 11], ['DRC', 30]]"
      ]
     },
     "execution_count": 1306,
     "metadata": {},
     "output_type": "execute_result"
    }
   ],
   "source": [
    "matches"
   ]
  },
  {
   "cell_type": "code",
   "execution_count": 1307,
   "id": "b80c864b-6de1-4164-ac37-42a93fb47f75",
   "metadata": {},
   "outputs": [
    {
     "data": {
      "text/plain": [
       "list"
      ]
     },
     "execution_count": 1307,
     "metadata": {},
     "output_type": "execute_result"
    }
   ],
   "source": [
    "type(matches)"
   ]
  },
  {
   "cell_type": "code",
   "execution_count": 1308,
   "id": "547a7b09-ae88-47da-ab3f-b43706e14080",
   "metadata": {},
   "outputs": [
    {
     "data": {
      "text/plain": [
       "'BURUNDI'"
      ]
     },
     "execution_count": 1308,
     "metadata": {},
     "output_type": "execute_result"
    }
   ],
   "source": [
    "readd[i-2]"
   ]
  },
  {
   "cell_type": "code",
   "execution_count": 1309,
   "id": "562f78bd-057b-4e41-bcf9-3023e7b58799",
   "metadata": {},
   "outputs": [
    {
     "data": {
      "text/plain": [
       "pandas.core.frame.DataFrame"
      ]
     },
     "execution_count": 1309,
     "metadata": {},
     "output_type": "execute_result"
    }
   ],
   "source": [
    "type(df)"
   ]
  },
  {
   "cell_type": "code",
   "execution_count": 1310,
   "id": "8cc2efce-9826-4dd9-aab7-e0889b6b6b99",
   "metadata": {},
   "outputs": [],
   "source": [
    "df['upcountry'] = list(df['country'])"
   ]
  },
  {
   "cell_type": "code",
   "execution_count": 1311,
   "id": "be53e825-477e-4133-b5fe-4223f49cce8c",
   "metadata": {},
   "outputs": [],
   "source": [
    "df.upcountry.replace(readd, 'Central Africa', inplace=True)"
   ]
  },
  {
   "cell_type": "code",
   "execution_count": 1312,
   "id": "662cdfda-eeea-4091-9165-5da75c7ac78f",
   "metadata": {},
   "outputs": [],
   "source": [
    "cen = df['upcountry'] == 'Central Africa' \n",
    "#i=df[df[‘Name’]==’Will’]\n",
    "#print(i)"
   ]
  },
  {
   "cell_type": "code",
   "execution_count": 1313,
   "id": "cbc97a28-21ec-4c34-8fd4-b49a45ec82eb",
   "metadata": {},
   "outputs": [
    {
     "data": {
      "text/plain": [
       "False    4704\n",
       "True      105\n",
       "Name: upcountry, dtype: int64"
      ]
     },
     "execution_count": 1313,
     "metadata": {},
     "output_type": "execute_result"
    }
   ],
   "source": [
    "cen.value_counts()"
   ]
  },
  {
   "cell_type": "markdown",
   "id": "221421ab-7349-4696-a42a-c4ea642203c7",
   "metadata": {},
   "source": [
    "## Eastern africa"
   ]
  },
  {
   "cell_type": "code",
   "execution_count": 1314,
   "id": "9be93291-699a-489f-b5de-1e6014870308",
   "metadata": {},
   "outputs": [
    {
     "name": "stderr",
     "output_type": "stream",
     "text": [
      "C:\\Users\\KOFI ADUKPO\\AppData\\Local\\Temp\\ipykernel_4848\\2948023138.py:1: DeprecationWarning: find_element_by_xpath is deprecated. Please use find_element(by=By.XPATH, value=xpath) instead\n",
      "  i = driver.find_element_by_xpath(\"(//tbody)[2]\")\n"
     ]
    }
   ],
   "source": [
    "i = driver.find_element_by_xpath(\"(//tbody)[2]\")"
   ]
  },
  {
   "cell_type": "code",
   "execution_count": null,
   "id": "857fccb9-f716-4f69-b8ca-0113aa763b87",
   "metadata": {},
   "outputs": [],
   "source": []
  },
  {
   "cell_type": "code",
   "execution_count": 1315,
   "id": "bcd1b196-68e3-4f3a-8f08-c1e524434670",
   "metadata": {},
   "outputs": [],
   "source": [
    "text = i.text\n",
    "#(//tbody)[1]"
   ]
  },
  {
   "cell_type": "code",
   "execution_count": 1316,
   "id": "d618823b-e092-42d1-9305-3ee20821dfe6",
   "metadata": {},
   "outputs": [
    {
     "data": {
      "text/plain": [
       "str"
      ]
     },
     "execution_count": 1316,
     "metadata": {},
     "output_type": "execute_result"
    }
   ],
   "source": [
    "type(text)"
   ]
  },
  {
   "cell_type": "code",
   "execution_count": 1317,
   "id": "5b0b3333-84a1-4c96-b918-87cc811ce6a5",
   "metadata": {},
   "outputs": [],
   "source": [
    "rep = text.replace(\"\\n\", \". \")"
   ]
  },
  {
   "cell_type": "code",
   "execution_count": 1318,
   "id": "1baf90ea-7291-4fd8-9138-904f5906fe5a",
   "metadata": {},
   "outputs": [],
   "source": [
    "import re\n",
    "expression = re.compile(r'([A-Z][^\\.!?]*[\\.!?])')\n",
    "new_list = re.findall(expression, rep)"
   ]
  },
  {
   "cell_type": "code",
   "execution_count": 1319,
   "id": "bfd81129-f68a-42a6-b876-e84004a857dc",
   "metadata": {},
   "outputs": [
    {
     "data": {
      "text/plain": [
       "['Member State  Abbreviation  Date of joining.',\n",
       " 'OAU or AU.',\n",
       " 'Union of the Comoros   Comoros 18 July 1975.',\n",
       " 'Republic of Djibouti   Djibouti 27 June 1977.',\n",
       " 'State of Eritrea   Eritrea 24 May 1993.',\n",
       " 'Federal Democratic Republic of Ethiopia  Ethiopia 25 May 1963.',\n",
       " 'Republic of Kenya  Kenya 25 May 1963.',\n",
       " 'Republic of Madagascar  Madagascar 25 May 1963.',\n",
       " 'Republic of Mauritius   Mauritius August 1968.',\n",
       " 'Republic of Rwanda  Rwanda 25 May 1963.',\n",
       " 'Republic of Seychelles   Seychelles 29 June 1976.',\n",
       " 'Federal Republic of Somalia  Somalia 25 May 1963.',\n",
       " 'Republic of South Sudan  South Sudan 27 July 2011.',\n",
       " 'Republic of the Sudan  Sudan 25 May 1963.',\n",
       " 'United Republic of Tanzania  Tanzania 25 May 1963.']"
      ]
     },
     "execution_count": 1319,
     "metadata": {},
     "output_type": "execute_result"
    }
   ],
   "source": [
    "new_list"
   ]
  },
  {
   "cell_type": "code",
   "execution_count": null,
   "id": "c4189090-593d-495d-ba03-191b99b0da49",
   "metadata": {},
   "outputs": [],
   "source": []
  },
  {
   "cell_type": "code",
   "execution_count": 1320,
   "id": "d1cc7da7-effa-4df9-ad03-a4083e099ff3",
   "metadata": {},
   "outputs": [],
   "source": [
    "converted_list = [x.upper() for x in new_list]"
   ]
  },
  {
   "cell_type": "code",
   "execution_count": 1321,
   "id": "d75b1186-e2b4-4e1c-90f2-404a238beee3",
   "metadata": {},
   "outputs": [
    {
     "data": {
      "text/plain": [
       "['MEMBER STATE  ABBREVIATION  DATE OF JOINING.',\n",
       " 'OAU OR AU.',\n",
       " 'UNION OF THE COMOROS   COMOROS 18 JULY 1975.',\n",
       " 'REPUBLIC OF DJIBOUTI   DJIBOUTI 27 JUNE 1977.',\n",
       " 'STATE OF ERITREA   ERITREA 24 MAY 1993.',\n",
       " 'FEDERAL DEMOCRATIC REPUBLIC OF ETHIOPIA  ETHIOPIA 25 MAY 1963.',\n",
       " 'REPUBLIC OF KENYA  KENYA 25 MAY 1963.',\n",
       " 'REPUBLIC OF MADAGASCAR  MADAGASCAR 25 MAY 1963.',\n",
       " 'REPUBLIC OF MAURITIUS   MAURITIUS AUGUST 1968.',\n",
       " 'REPUBLIC OF RWANDA  RWANDA 25 MAY 1963.',\n",
       " 'REPUBLIC OF SEYCHELLES   SEYCHELLES 29 JUNE 1976.',\n",
       " 'FEDERAL REPUBLIC OF SOMALIA  SOMALIA 25 MAY 1963.',\n",
       " 'REPUBLIC OF SOUTH SUDAN  SOUTH SUDAN 27 JULY 2011.',\n",
       " 'REPUBLIC OF THE SUDAN  SUDAN 25 MAY 1963.',\n",
       " 'UNITED REPUBLIC OF TANZANIA  TANZANIA 25 MAY 1963.']"
      ]
     },
     "execution_count": 1321,
     "metadata": {},
     "output_type": "execute_result"
    }
   ],
   "source": [
    "converted_list"
   ]
  },
  {
   "cell_type": "code",
   "execution_count": null,
   "id": "a2edaf39-92b1-4f4a-91c3-3cbd9ad404f0",
   "metadata": {},
   "outputs": [],
   "source": []
  },
  {
   "cell_type": "code",
   "execution_count": 1322,
   "id": "094af2de-258f-4841-84b4-4e1b64892c6f",
   "metadata": {},
   "outputs": [],
   "source": [
    "co = str(converted_list)"
   ]
  },
  {
   "cell_type": "code",
   "execution_count": 1323,
   "id": "38530d4f-ace3-47f8-8743-b41aadc55214",
   "metadata": {},
   "outputs": [],
   "source": [
    "from itertools import chain"
   ]
  },
  {
   "cell_type": "code",
   "execution_count": 1324,
   "id": "4338a6dd-8a5e-4d73-9525-bdec37d3ee1e",
   "metadata": {},
   "outputs": [],
   "source": [
    "coming = ' '.join(str(v) for v in converted_list)"
   ]
  },
  {
   "cell_type": "code",
   "execution_count": 1325,
   "id": "05891d28-8ebf-48d5-a881-21cdbea55d51",
   "metadata": {},
   "outputs": [
    {
     "data": {
      "text/plain": [
       "'MEMBER STATE  ABBREVIATION  DATE OF JOINING. OAU OR AU. UNION OF THE COMOROS   COMOROS 18 JULY 1975. REPUBLIC OF DJIBOUTI   DJIBOUTI 27 JUNE 1977. STATE OF ERITREA   ERITREA 24 MAY 1993. FEDERAL DEMOCRATIC REPUBLIC OF ETHIOPIA  ETHIOPIA 25 MAY 1963. REPUBLIC OF KENYA  KENYA 25 MAY 1963. REPUBLIC OF MADAGASCAR  MADAGASCAR 25 MAY 1963. REPUBLIC OF MAURITIUS   MAURITIUS AUGUST 1968. REPUBLIC OF RWANDA  RWANDA 25 MAY 1963. REPUBLIC OF SEYCHELLES   SEYCHELLES 29 JUNE 1976. FEDERAL REPUBLIC OF SOMALIA  SOMALIA 25 MAY 1963. REPUBLIC OF SOUTH SUDAN  SOUTH SUDAN 27 JULY 2011. REPUBLIC OF THE SUDAN  SUDAN 25 MAY 1963. UNITED REPUBLIC OF TANZANIA  TANZANIA 25 MAY 1963.'"
      ]
     },
     "execution_count": 1325,
     "metadata": {},
     "output_type": "execute_result"
    }
   ],
   "source": [
    "coming"
   ]
  },
  {
   "cell_type": "code",
   "execution_count": 1326,
   "id": "af9efbbd-d784-4409-9acb-5cc35f1bcf15",
   "metadata": {},
   "outputs": [],
   "source": [
    "come = coming.replace(\".\", \"\")\n",
    "com = come.replace(\"REPUBLIC\", \"\")\n",
    "come= com.replace(\"OF\", \"\")\n"
   ]
  },
  {
   "cell_type": "code",
   "execution_count": 1327,
   "id": "9e728113-7deb-4a32-9da3-89336ac73aa9",
   "metadata": {},
   "outputs": [
    {
     "data": {
      "text/plain": [
       "'MEMBER STATE  ABBREVIATION  DATE  JOINING OAU OR AU UNION  THE COMOROS   COMOROS 18 JULY 1975   DJIBOUTI   DJIBOUTI 27 JUNE 1977 STATE  ERITREA   ERITREA 24 MAY 1993 FEDERAL DEMOCRATIC   ETHIOPIA  ETHIOPIA 25 MAY 1963   KENYA  KENYA 25 MAY 1963   MADAGASCAR  MADAGASCAR 25 MAY 1963   MAURITIUS   MAURITIUS AUGUST 1968   RWANDA  RWANDA 25 MAY 1963   SEYCHELLES   SEYCHELLES 29 JUNE 1976 FEDERAL   SOMALIA  SOMALIA 25 MAY 1963   SOUTH SUDAN  SOUTH SUDAN 27 JULY 2011   THE SUDAN  SUDAN 25 MAY 1963 UNITED   TANZANIA  TANZANIA 25 MAY 1963'"
      ]
     },
     "execution_count": 1327,
     "metadata": {},
     "output_type": "execute_result"
    }
   ],
   "source": [
    "come"
   ]
  },
  {
   "cell_type": "code",
   "execution_count": 1328,
   "id": "07f8d5f8-ebba-4abf-ac43-a17c152a9ddb",
   "metadata": {},
   "outputs": [],
   "source": [
    "# i need to get the intersection of countries"
   ]
  },
  {
   "cell_type": "code",
   "execution_count": null,
   "id": "564b55a9-68b2-490d-a3c9-9648d75530aa",
   "metadata": {},
   "outputs": [],
   "source": []
  },
  {
   "cell_type": "code",
   "execution_count": 1329,
   "id": "734e5583-f192-4cc0-84f2-8dac738cd1e4",
   "metadata": {},
   "outputs": [],
   "source": [
    "#movi\n",
    "#come\n",
    "\n",
    "read = set(result.split()) & set(come.split())"
   ]
  },
  {
   "cell_type": "code",
   "execution_count": 1330,
   "id": "639bedde-a583-42f9-b350-1c469ee8e94a",
   "metadata": {},
   "outputs": [],
   "source": [
    "readd = list(read)"
   ]
  },
  {
   "cell_type": "code",
   "execution_count": 1331,
   "id": "6339b7c5-4533-4acf-bc49-174d7ca5af46",
   "metadata": {},
   "outputs": [],
   "source": [
    "readd.append(\"UGANDA\")\n",
    "readd.append(\"DJIBOUT\")\n",
    "readd.append(\"COMORO\")\n",
    "readd.append(\"BURUNDI\")"
   ]
  },
  {
   "cell_type": "code",
   "execution_count": 1332,
   "id": "daa4fbf1-7f6a-4aab-a6cd-67ba6418eb5c",
   "metadata": {},
   "outputs": [
    {
     "data": {
      "text/plain": [
       "['KENYA',\n",
       " 'SOUTH',\n",
       " 'UNITED',\n",
       " 'RWANDA',\n",
       " 'SUDAN',\n",
       " 'MAURITIUS',\n",
       " 'MADAGASCAR',\n",
       " 'ETHIOPIA',\n",
       " 'UGANDA',\n",
       " 'DJIBOUT',\n",
       " 'COMORO',\n",
       " 'BURUNDI']"
      ]
     },
     "execution_count": 1332,
     "metadata": {},
     "output_type": "execute_result"
    }
   ],
   "source": [
    "readd"
   ]
  },
  {
   "cell_type": "code",
   "execution_count": 1333,
   "id": "c8b3dcb7-d884-4455-a1a8-432895766722",
   "metadata": {},
   "outputs": [],
   "source": [
    "i = len(readd)"
   ]
  },
  {
   "cell_type": "code",
   "execution_count": 1334,
   "id": "8ecaebea-fc91-40b7-87ff-653700a7d6b7",
   "metadata": {},
   "outputs": [],
   "source": [
    "matches = []\n",
    "\n",
    "for match in list1:\n",
    "    if readd[i-1] in match:\n",
    "        matches.append(match)\n",
    "        i-=1"
   ]
  },
  {
   "cell_type": "code",
   "execution_count": 1335,
   "id": "2dd66003-9721-47d4-a240-84c55371003b",
   "metadata": {},
   "outputs": [
    {
     "data": {
      "text/plain": [
       "list"
      ]
     },
     "execution_count": 1335,
     "metadata": {},
     "output_type": "execute_result"
    }
   ],
   "source": [
    "type(matches)"
   ]
  },
  {
   "cell_type": "code",
   "execution_count": 1336,
   "id": "a9d7e432-aac2-454f-8c5b-592351b1a95f",
   "metadata": {},
   "outputs": [],
   "source": [
    "i = len(readd)"
   ]
  },
  {
   "cell_type": "code",
   "execution_count": 1337,
   "id": "ae2cb650-f9aa-423c-8e64-3ce55e4cee9c",
   "metadata": {},
   "outputs": [
    {
     "data": {
      "text/plain": [
       "12"
      ]
     },
     "execution_count": 1337,
     "metadata": {},
     "output_type": "execute_result"
    }
   ],
   "source": [
    "i"
   ]
  },
  {
   "cell_type": "code",
   "execution_count": 1338,
   "id": "0c23ff17-3512-49c5-b1f0-22611fd6be4e",
   "metadata": {},
   "outputs": [
    {
     "data": {
      "text/plain": [
       "'BURUNDI'"
      ]
     },
     "execution_count": 1338,
     "metadata": {},
     "output_type": "execute_result"
    }
   ],
   "source": [
    "readd[i-1]"
   ]
  },
  {
   "cell_type": "code",
   "execution_count": 1339,
   "id": "42693498-9ec3-4e02-bbc9-9597d8d3fbf7",
   "metadata": {},
   "outputs": [
    {
     "data": {
      "text/plain": [
       "pandas.core.frame.DataFrame"
      ]
     },
     "execution_count": 1339,
     "metadata": {},
     "output_type": "execute_result"
    }
   ],
   "source": [
    "type(df)"
   ]
  },
  {
   "cell_type": "code",
   "execution_count": 1340,
   "id": "4f0e03b9-e902-4eb9-b554-48d564302eba",
   "metadata": {},
   "outputs": [],
   "source": [
    "df.upcountry.replace(readd, 'East Africa', inplace=True)"
   ]
  },
  {
   "cell_type": "code",
   "execution_count": 1341,
   "id": "d564af52-41b4-427c-ae12-8d3822f6b09a",
   "metadata": {},
   "outputs": [],
   "source": [
    "east = df[df['upcountry'] == 'East Africa' ]\n",
    "#i=df[df[‘Name’]==’Will’]\n",
    "#print(i)"
   ]
  },
  {
   "cell_type": "code",
   "execution_count": 1342,
   "id": "25381b99-50f7-4535-ab28-aff785a3850b",
   "metadata": {},
   "outputs": [
    {
     "data": {
      "text/html": [
       "<div>\n",
       "<style scoped>\n",
       "    .dataframe tbody tr th:only-of-type {\n",
       "        vertical-align: middle;\n",
       "    }\n",
       "\n",
       "    .dataframe tbody tr th {\n",
       "        vertical-align: top;\n",
       "    }\n",
       "\n",
       "    .dataframe thead th {\n",
       "        text-align: right;\n",
       "    }\n",
       "</style>\n",
       "<table border=\"1\" class=\"dataframe\">\n",
       "  <thead>\n",
       "    <tr style=\"text-align: right;\">\n",
       "      <th></th>\n",
       "      <th>country</th>\n",
       "      <th>age_group</th>\n",
       "      <th>travel_with</th>\n",
       "      <th>total_female</th>\n",
       "      <th>total_male</th>\n",
       "      <th>purpose</th>\n",
       "      <th>main_activity</th>\n",
       "      <th>info_source</th>\n",
       "      <th>tour_arrangement</th>\n",
       "      <th>package_transport_int</th>\n",
       "      <th>...</th>\n",
       "      <th>package_sightseeing</th>\n",
       "      <th>package_guided_tour</th>\n",
       "      <th>package_insurance</th>\n",
       "      <th>night_mainland</th>\n",
       "      <th>night_zanzibar</th>\n",
       "      <th>payment_mode</th>\n",
       "      <th>first_trip_tz</th>\n",
       "      <th>most_impressing</th>\n",
       "      <th>total_cost</th>\n",
       "      <th>upcountry</th>\n",
       "    </tr>\n",
       "    <tr>\n",
       "      <th>ID</th>\n",
       "      <th></th>\n",
       "      <th></th>\n",
       "      <th></th>\n",
       "      <th></th>\n",
       "      <th></th>\n",
       "      <th></th>\n",
       "      <th></th>\n",
       "      <th></th>\n",
       "      <th></th>\n",
       "      <th></th>\n",
       "      <th></th>\n",
       "      <th></th>\n",
       "      <th></th>\n",
       "      <th></th>\n",
       "      <th></th>\n",
       "      <th></th>\n",
       "      <th></th>\n",
       "      <th></th>\n",
       "      <th></th>\n",
       "      <th></th>\n",
       "      <th></th>\n",
       "    </tr>\n",
       "  </thead>\n",
       "  <tbody>\n",
       "    <tr>\n",
       "      <th>tour_102</th>\n",
       "      <td>RWANDA</td>\n",
       "      <td>65+</td>\n",
       "      <td>Alone</td>\n",
       "      <td>1.0</td>\n",
       "      <td>0.0</td>\n",
       "      <td>Leisure and Holidays</td>\n",
       "      <td>Beach tourism</td>\n",
       "      <td>Friends, relatives</td>\n",
       "      <td>Independent</td>\n",
       "      <td>No</td>\n",
       "      <td>...</td>\n",
       "      <td>No</td>\n",
       "      <td>No</td>\n",
       "      <td>No</td>\n",
       "      <td>0</td>\n",
       "      <td>2</td>\n",
       "      <td>Cash</td>\n",
       "      <td>Yes</td>\n",
       "      <td>Wonderful Country, Landscape, Nature</td>\n",
       "      <td>331500.0</td>\n",
       "      <td>East Africa</td>\n",
       "    </tr>\n",
       "    <tr>\n",
       "      <th>tour_1026</th>\n",
       "      <td>KENYA</td>\n",
       "      <td>25-44</td>\n",
       "      <td>Alone</td>\n",
       "      <td>1.0</td>\n",
       "      <td>0.0</td>\n",
       "      <td>Business</td>\n",
       "      <td>Mountain climbing</td>\n",
       "      <td>Friends, relatives</td>\n",
       "      <td>Independent</td>\n",
       "      <td>No</td>\n",
       "      <td>...</td>\n",
       "      <td>No</td>\n",
       "      <td>No</td>\n",
       "      <td>No</td>\n",
       "      <td>4</td>\n",
       "      <td>0</td>\n",
       "      <td>Cash</td>\n",
       "      <td>No</td>\n",
       "      <td>Friendly People</td>\n",
       "      <td>377520.0</td>\n",
       "      <td>East Africa</td>\n",
       "    </tr>\n",
       "    <tr>\n",
       "      <th>tour_1028</th>\n",
       "      <td>KENYA</td>\n",
       "      <td>45-64</td>\n",
       "      <td>Alone</td>\n",
       "      <td>0.0</td>\n",
       "      <td>1.0</td>\n",
       "      <td>Business</td>\n",
       "      <td>Wildlife tourism</td>\n",
       "      <td>Friends, relatives</td>\n",
       "      <td>Independent</td>\n",
       "      <td>No</td>\n",
       "      <td>...</td>\n",
       "      <td>No</td>\n",
       "      <td>No</td>\n",
       "      <td>No</td>\n",
       "      <td>4</td>\n",
       "      <td>0</td>\n",
       "      <td>Cash</td>\n",
       "      <td>Yes</td>\n",
       "      <td>No comments</td>\n",
       "      <td>497250.0</td>\n",
       "      <td>East Africa</td>\n",
       "    </tr>\n",
       "    <tr>\n",
       "      <th>tour_1045</th>\n",
       "      <td>KENYA</td>\n",
       "      <td>45-64</td>\n",
       "      <td>Alone</td>\n",
       "      <td>1.0</td>\n",
       "      <td>0.0</td>\n",
       "      <td>Scientific and Academic</td>\n",
       "      <td>Mountain climbing</td>\n",
       "      <td>inflight magazines</td>\n",
       "      <td>Package Tour</td>\n",
       "      <td>Yes</td>\n",
       "      <td>...</td>\n",
       "      <td>No</td>\n",
       "      <td>No</td>\n",
       "      <td>No</td>\n",
       "      <td>5</td>\n",
       "      <td>0</td>\n",
       "      <td>Credit Card</td>\n",
       "      <td>No</td>\n",
       "      <td>Wildlife</td>\n",
       "      <td>3812250.0</td>\n",
       "      <td>East Africa</td>\n",
       "    </tr>\n",
       "    <tr>\n",
       "      <th>tour_1060</th>\n",
       "      <td>UGANDA</td>\n",
       "      <td>25-44</td>\n",
       "      <td>Spouse and Children</td>\n",
       "      <td>2.0</td>\n",
       "      <td>1.0</td>\n",
       "      <td>Meetings and Conference</td>\n",
       "      <td>Beach tourism</td>\n",
       "      <td>Friends, relatives</td>\n",
       "      <td>Independent</td>\n",
       "      <td>No</td>\n",
       "      <td>...</td>\n",
       "      <td>No</td>\n",
       "      <td>No</td>\n",
       "      <td>No</td>\n",
       "      <td>12</td>\n",
       "      <td>5</td>\n",
       "      <td>Cash</td>\n",
       "      <td>No</td>\n",
       "      <td>Friendly People</td>\n",
       "      <td>1000000.0</td>\n",
       "      <td>East Africa</td>\n",
       "    </tr>\n",
       "    <tr>\n",
       "      <th>...</th>\n",
       "      <td>...</td>\n",
       "      <td>...</td>\n",
       "      <td>...</td>\n",
       "      <td>...</td>\n",
       "      <td>...</td>\n",
       "      <td>...</td>\n",
       "      <td>...</td>\n",
       "      <td>...</td>\n",
       "      <td>...</td>\n",
       "      <td>...</td>\n",
       "      <td>...</td>\n",
       "      <td>...</td>\n",
       "      <td>...</td>\n",
       "      <td>...</td>\n",
       "      <td>...</td>\n",
       "      <td>...</td>\n",
       "      <td>...</td>\n",
       "      <td>...</td>\n",
       "      <td>...</td>\n",
       "      <td>...</td>\n",
       "      <td>...</td>\n",
       "    </tr>\n",
       "    <tr>\n",
       "      <th>tour_922</th>\n",
       "      <td>KENYA</td>\n",
       "      <td>25-44</td>\n",
       "      <td>Alone</td>\n",
       "      <td>1.0</td>\n",
       "      <td>0.0</td>\n",
       "      <td>Business</td>\n",
       "      <td>Wildlife tourism</td>\n",
       "      <td>others</td>\n",
       "      <td>Independent</td>\n",
       "      <td>No</td>\n",
       "      <td>...</td>\n",
       "      <td>No</td>\n",
       "      <td>No</td>\n",
       "      <td>No</td>\n",
       "      <td>2</td>\n",
       "      <td>0</td>\n",
       "      <td>Cash</td>\n",
       "      <td>No</td>\n",
       "      <td>Friendly People</td>\n",
       "      <td>1657500.0</td>\n",
       "      <td>East Africa</td>\n",
       "    </tr>\n",
       "    <tr>\n",
       "      <th>tour_951</th>\n",
       "      <td>KENYA</td>\n",
       "      <td>25-44</td>\n",
       "      <td>Spouse and Children</td>\n",
       "      <td>4.0</td>\n",
       "      <td>3.0</td>\n",
       "      <td>Leisure and Holidays</td>\n",
       "      <td>Beach tourism</td>\n",
       "      <td>Travel, agent, tour operator</td>\n",
       "      <td>Independent</td>\n",
       "      <td>No</td>\n",
       "      <td>...</td>\n",
       "      <td>No</td>\n",
       "      <td>No</td>\n",
       "      <td>No</td>\n",
       "      <td>7</td>\n",
       "      <td>0</td>\n",
       "      <td>Credit Card</td>\n",
       "      <td>Yes</td>\n",
       "      <td>Good service</td>\n",
       "      <td>502000.0</td>\n",
       "      <td>East Africa</td>\n",
       "    </tr>\n",
       "    <tr>\n",
       "      <th>tour_956</th>\n",
       "      <td>RWANDA</td>\n",
       "      <td>2024-01-01 00:00:00</td>\n",
       "      <td>Alone</td>\n",
       "      <td>1.0</td>\n",
       "      <td>0.0</td>\n",
       "      <td>Visiting Friends and Relatives</td>\n",
       "      <td>Beach tourism</td>\n",
       "      <td>Trade fair</td>\n",
       "      <td>Independent</td>\n",
       "      <td>No</td>\n",
       "      <td>...</td>\n",
       "      <td>No</td>\n",
       "      <td>No</td>\n",
       "      <td>No</td>\n",
       "      <td>3</td>\n",
       "      <td>0</td>\n",
       "      <td>Cash</td>\n",
       "      <td>Yes</td>\n",
       "      <td>No comments</td>\n",
       "      <td>165750.0</td>\n",
       "      <td>East Africa</td>\n",
       "    </tr>\n",
       "    <tr>\n",
       "      <th>tour_975</th>\n",
       "      <td>KENYA</td>\n",
       "      <td>25-44</td>\n",
       "      <td>Alone</td>\n",
       "      <td>0.0</td>\n",
       "      <td>1.0</td>\n",
       "      <td>Meetings and Conference</td>\n",
       "      <td>Wildlife tourism</td>\n",
       "      <td>Friends, relatives</td>\n",
       "      <td>Package Tour</td>\n",
       "      <td>Yes</td>\n",
       "      <td>...</td>\n",
       "      <td>No</td>\n",
       "      <td>No</td>\n",
       "      <td>No</td>\n",
       "      <td>6</td>\n",
       "      <td>0</td>\n",
       "      <td>Cash</td>\n",
       "      <td>No</td>\n",
       "      <td>Friendly People</td>\n",
       "      <td>1657500.0</td>\n",
       "      <td>East Africa</td>\n",
       "    </tr>\n",
       "    <tr>\n",
       "      <th>tour_99</th>\n",
       "      <td>KENYA</td>\n",
       "      <td>45-64</td>\n",
       "      <td>Friends/Relatives</td>\n",
       "      <td>2.0</td>\n",
       "      <td>2.0</td>\n",
       "      <td>Leisure and Holidays</td>\n",
       "      <td>Wildlife tourism</td>\n",
       "      <td>Travel, agent, tour operator</td>\n",
       "      <td>Independent</td>\n",
       "      <td>No</td>\n",
       "      <td>...</td>\n",
       "      <td>No</td>\n",
       "      <td>No</td>\n",
       "      <td>No</td>\n",
       "      <td>10</td>\n",
       "      <td>5</td>\n",
       "      <td>Cash</td>\n",
       "      <td>Yes</td>\n",
       "      <td>No comments</td>\n",
       "      <td>6464250.0</td>\n",
       "      <td>East Africa</td>\n",
       "    </tr>\n",
       "  </tbody>\n",
       "</table>\n",
       "<p>451 rows × 23 columns</p>\n",
       "</div>"
      ],
      "text/plain": [
       "          country            age_group          travel_with  total_female  \\\n",
       "ID                                                                          \n",
       "tour_102   RWANDA                  65+                Alone           1.0   \n",
       "tour_1026   KENYA                25-44                Alone           1.0   \n",
       "tour_1028   KENYA                45-64                Alone           0.0   \n",
       "tour_1045   KENYA                45-64                Alone           1.0   \n",
       "tour_1060  UGANDA                25-44  Spouse and Children           2.0   \n",
       "...           ...                  ...                  ...           ...   \n",
       "tour_922    KENYA                25-44                Alone           1.0   \n",
       "tour_951    KENYA                25-44  Spouse and Children           4.0   \n",
       "tour_956   RWANDA  2024-01-01 00:00:00                Alone           1.0   \n",
       "tour_975    KENYA                25-44                Alone           0.0   \n",
       "tour_99     KENYA                45-64    Friends/Relatives           2.0   \n",
       "\n",
       "           total_male                         purpose      main_activity  \\\n",
       "ID                                                                         \n",
       "tour_102          0.0            Leisure and Holidays      Beach tourism   \n",
       "tour_1026         0.0                        Business  Mountain climbing   \n",
       "tour_1028         1.0                        Business   Wildlife tourism   \n",
       "tour_1045         0.0         Scientific and Academic  Mountain climbing   \n",
       "tour_1060         1.0         Meetings and Conference      Beach tourism   \n",
       "...               ...                             ...                ...   \n",
       "tour_922          0.0                        Business   Wildlife tourism   \n",
       "tour_951          3.0            Leisure and Holidays      Beach tourism   \n",
       "tour_956          0.0  Visiting Friends and Relatives      Beach tourism   \n",
       "tour_975          1.0         Meetings and Conference   Wildlife tourism   \n",
       "tour_99           2.0            Leisure and Holidays   Wildlife tourism   \n",
       "\n",
       "                            info_source tour_arrangement  \\\n",
       "ID                                                         \n",
       "tour_102             Friends, relatives      Independent   \n",
       "tour_1026            Friends, relatives      Independent   \n",
       "tour_1028            Friends, relatives      Independent   \n",
       "tour_1045            inflight magazines     Package Tour   \n",
       "tour_1060            Friends, relatives      Independent   \n",
       "...                                 ...              ...   \n",
       "tour_922                         others      Independent   \n",
       "tour_951   Travel, agent, tour operator      Independent   \n",
       "tour_956                     Trade fair      Independent   \n",
       "tour_975             Friends, relatives     Package Tour   \n",
       "tour_99    Travel, agent, tour operator      Independent   \n",
       "\n",
       "          package_transport_int  ... package_sightseeing package_guided_tour  \\\n",
       "ID                               ...                                           \n",
       "tour_102                     No  ...                  No                  No   \n",
       "tour_1026                    No  ...                  No                  No   \n",
       "tour_1028                    No  ...                  No                  No   \n",
       "tour_1045                   Yes  ...                  No                  No   \n",
       "tour_1060                    No  ...                  No                  No   \n",
       "...                         ...  ...                 ...                 ...   \n",
       "tour_922                     No  ...                  No                  No   \n",
       "tour_951                     No  ...                  No                  No   \n",
       "tour_956                     No  ...                  No                  No   \n",
       "tour_975                    Yes  ...                  No                  No   \n",
       "tour_99                      No  ...                  No                  No   \n",
       "\n",
       "          package_insurance night_mainland night_zanzibar payment_mode  \\\n",
       "ID                                                                       \n",
       "tour_102                 No              0              2         Cash   \n",
       "tour_1026                No              4              0         Cash   \n",
       "tour_1028                No              4              0         Cash   \n",
       "tour_1045                No              5              0  Credit Card   \n",
       "tour_1060                No             12              5         Cash   \n",
       "...                     ...            ...            ...          ...   \n",
       "tour_922                 No              2              0         Cash   \n",
       "tour_951                 No              7              0  Credit Card   \n",
       "tour_956                 No              3              0         Cash   \n",
       "tour_975                 No              6              0         Cash   \n",
       "tour_99                  No             10              5         Cash   \n",
       "\n",
       "           first_trip_tz                       most_impressing total_cost  \\\n",
       "ID                                                                          \n",
       "tour_102             Yes  Wonderful Country, Landscape, Nature   331500.0   \n",
       "tour_1026             No                       Friendly People   377520.0   \n",
       "tour_1028            Yes                           No comments   497250.0   \n",
       "tour_1045             No                              Wildlife  3812250.0   \n",
       "tour_1060             No                       Friendly People  1000000.0   \n",
       "...                  ...                                   ...        ...   \n",
       "tour_922              No                       Friendly People  1657500.0   \n",
       "tour_951             Yes                          Good service   502000.0   \n",
       "tour_956             Yes                           No comments   165750.0   \n",
       "tour_975              No                       Friendly People  1657500.0   \n",
       "tour_99              Yes                           No comments  6464250.0   \n",
       "\n",
       "             upcountry  \n",
       "ID                      \n",
       "tour_102   East Africa  \n",
       "tour_1026  East Africa  \n",
       "tour_1028  East Africa  \n",
       "tour_1045  East Africa  \n",
       "tour_1060  East Africa  \n",
       "...                ...  \n",
       "tour_922   East Africa  \n",
       "tour_951   East Africa  \n",
       "tour_956   East Africa  \n",
       "tour_975   East Africa  \n",
       "tour_99    East Africa  \n",
       "\n",
       "[451 rows x 23 columns]"
      ]
     },
     "execution_count": 1342,
     "metadata": {},
     "output_type": "execute_result"
    }
   ],
   "source": [
    "east"
   ]
  },
  {
   "cell_type": "markdown",
   "id": "8896f2b7-ce80-4d5c-9778-4250c8cd6ca6",
   "metadata": {},
   "source": [
    "## Northern Africa"
   ]
  },
  {
   "cell_type": "code",
   "execution_count": null,
   "id": "86f41fc0-f686-45c8-ad0f-c6e9fb1703e0",
   "metadata": {},
   "outputs": [],
   "source": []
  },
  {
   "cell_type": "code",
   "execution_count": 1343,
   "id": "cdd43231-1628-4de1-8c73-f07ba0f4ce9c",
   "metadata": {},
   "outputs": [
    {
     "name": "stderr",
     "output_type": "stream",
     "text": [
      "C:\\Users\\KOFI ADUKPO\\AppData\\Local\\Temp\\ipykernel_4848\\3376065246.py:1: DeprecationWarning: find_element_by_xpath is deprecated. Please use find_element(by=By.XPATH, value=xpath) instead\n",
      "  i = driver.find_element_by_xpath(\"(//tbody)[3]\")\n"
     ]
    }
   ],
   "source": [
    "i = driver.find_element_by_xpath(\"(//tbody)[3]\")"
   ]
  },
  {
   "cell_type": "code",
   "execution_count": null,
   "id": "0e7c2bc3-c7ae-4685-bd94-f89940befe27",
   "metadata": {},
   "outputs": [],
   "source": []
  },
  {
   "cell_type": "code",
   "execution_count": 1344,
   "id": "16f5ff8e-1655-4512-a57d-adc5ce22ae7e",
   "metadata": {},
   "outputs": [],
   "source": [
    "text = i.text\n",
    "#(//tbody)[1]"
   ]
  },
  {
   "cell_type": "code",
   "execution_count": 1345,
   "id": "97a42c99-b55e-4299-848b-c795b0cc9902",
   "metadata": {},
   "outputs": [
    {
     "data": {
      "text/plain": [
       "str"
      ]
     },
     "execution_count": 1345,
     "metadata": {},
     "output_type": "execute_result"
    }
   ],
   "source": [
    "type(text)"
   ]
  },
  {
   "cell_type": "code",
   "execution_count": 1346,
   "id": "4f67376b-52ae-4be4-b6ff-981e3629229a",
   "metadata": {},
   "outputs": [],
   "source": [
    "rep = text.replace(\"\\n\", \". \")"
   ]
  },
  {
   "cell_type": "code",
   "execution_count": 1347,
   "id": "c0e6a344-01e9-455f-92e5-05a9f55a5e5d",
   "metadata": {},
   "outputs": [],
   "source": [
    "import re\n",
    "expression = re.compile(r'([A-Z][^\\.!?]*[\\.!?])')\n",
    "new_list = re.findall(expression, rep)"
   ]
  },
  {
   "cell_type": "code",
   "execution_count": 1348,
   "id": "7ca1fd82-6948-45f5-a946-9245dd35cc8b",
   "metadata": {},
   "outputs": [
    {
     "data": {
      "text/plain": [
       "['Member State  Abbreviation Date of joining.',\n",
       " 'OAU or AU.',\n",
       " 'People’s Democratic Republic of Algeria Algeria 25 May 1963.',\n",
       " 'Arab Republic of Egypt Egypt 25 May 1963.',\n",
       " 'Libya Libya 25 May 1963.',\n",
       " 'Islamic Republic of Mauritania Mauritania 25 May 1963.',\n",
       " 'Kingdom of Morocco Morocco 1963/31 January 2017.',\n",
       " 'Sahrawi Arab Democratic Republic Sahrawi Republic 22 February 1982.']"
      ]
     },
     "execution_count": 1348,
     "metadata": {},
     "output_type": "execute_result"
    }
   ],
   "source": [
    "new_list"
   ]
  },
  {
   "cell_type": "code",
   "execution_count": null,
   "id": "3702f7d8-d7a1-4ac0-a65f-3e93ba4f2988",
   "metadata": {},
   "outputs": [],
   "source": []
  },
  {
   "cell_type": "code",
   "execution_count": 1349,
   "id": "f514fe33-b10a-465c-9710-12ed10d16657",
   "metadata": {},
   "outputs": [],
   "source": [
    "converted_list = [x.upper() for x in new_list]"
   ]
  },
  {
   "cell_type": "code",
   "execution_count": 1350,
   "id": "db8db2f7-41bf-426b-a245-fca3ca4c4eca",
   "metadata": {},
   "outputs": [
    {
     "data": {
      "text/plain": [
       "['MEMBER STATE  ABBREVIATION DATE OF JOINING.',\n",
       " 'OAU OR AU.',\n",
       " 'PEOPLE’S DEMOCRATIC REPUBLIC OF ALGERIA ALGERIA 25 MAY 1963.',\n",
       " 'ARAB REPUBLIC OF EGYPT EGYPT 25 MAY 1963.',\n",
       " 'LIBYA LIBYA 25 MAY 1963.',\n",
       " 'ISLAMIC REPUBLIC OF MAURITANIA MAURITANIA 25 MAY 1963.',\n",
       " 'KINGDOM OF MOROCCO MOROCCO 1963/31 JANUARY 2017.',\n",
       " 'SAHRAWI ARAB DEMOCRATIC REPUBLIC SAHRAWI REPUBLIC 22 FEBRUARY 1982.']"
      ]
     },
     "execution_count": 1350,
     "metadata": {},
     "output_type": "execute_result"
    }
   ],
   "source": [
    "converted_list"
   ]
  },
  {
   "cell_type": "code",
   "execution_count": null,
   "id": "c26588b0-6bdf-43e5-9193-53b658dd4f27",
   "metadata": {},
   "outputs": [],
   "source": []
  },
  {
   "cell_type": "code",
   "execution_count": 1351,
   "id": "8c3acbbf-0436-496d-afc1-226db0d6fa83",
   "metadata": {},
   "outputs": [],
   "source": [
    "co = str(converted_list)"
   ]
  },
  {
   "cell_type": "code",
   "execution_count": 1352,
   "id": "a72e8e44-fe4d-4e42-9686-793bd2e938c8",
   "metadata": {},
   "outputs": [],
   "source": [
    "from itertools import chain"
   ]
  },
  {
   "cell_type": "code",
   "execution_count": 1353,
   "id": "9e4b0017-d119-4d87-9a17-577ea2e9cd50",
   "metadata": {},
   "outputs": [],
   "source": [
    "coming = ' '.join(str(v) for v in converted_list)"
   ]
  },
  {
   "cell_type": "code",
   "execution_count": 1354,
   "id": "447a80da-79a9-4fa1-bdf1-ae4675481c7f",
   "metadata": {},
   "outputs": [
    {
     "data": {
      "text/plain": [
       "'MEMBER STATE  ABBREVIATION DATE OF JOINING. OAU OR AU. PEOPLE’S DEMOCRATIC REPUBLIC OF ALGERIA ALGERIA 25 MAY 1963. ARAB REPUBLIC OF EGYPT EGYPT 25 MAY 1963. LIBYA LIBYA 25 MAY 1963. ISLAMIC REPUBLIC OF MAURITANIA MAURITANIA 25 MAY 1963. KINGDOM OF MOROCCO MOROCCO 1963/31 JANUARY 2017. SAHRAWI ARAB DEMOCRATIC REPUBLIC SAHRAWI REPUBLIC 22 FEBRUARY 1982.'"
      ]
     },
     "execution_count": 1354,
     "metadata": {},
     "output_type": "execute_result"
    }
   ],
   "source": [
    "coming"
   ]
  },
  {
   "cell_type": "code",
   "execution_count": 1355,
   "id": "869fe8cc-2048-42ef-84b5-bf621578421f",
   "metadata": {},
   "outputs": [],
   "source": [
    "come = coming.replace(\".\", \"\")\n",
    "com = come.replace(\"REPUBLIC\", \"\")\n",
    "come= com.replace(\"OF\", \"\")\n"
   ]
  },
  {
   "cell_type": "code",
   "execution_count": 1356,
   "id": "f7a7e538-39af-4f74-a155-d6fc454160e9",
   "metadata": {},
   "outputs": [
    {
     "data": {
      "text/plain": [
       "'MEMBER STATE  ABBREVIATION DATE  JOINING OAU OR AU PEOPLE’S DEMOCRATIC   ALGERIA ALGERIA 25 MAY 1963 ARAB   EGYPT EGYPT 25 MAY 1963 LIBYA LIBYA 25 MAY 1963 ISLAMIC   MAURITANIA MAURITANIA 25 MAY 1963 KINGDOM  MOROCCO MOROCCO 1963/31 JANUARY 2017 SAHRAWI ARAB DEMOCRATIC  SAHRAWI  22 FEBRUARY 1982'"
      ]
     },
     "execution_count": 1356,
     "metadata": {},
     "output_type": "execute_result"
    }
   ],
   "source": [
    "come"
   ]
  },
  {
   "cell_type": "code",
   "execution_count": 1357,
   "id": "a9370f52-a37b-42f4-9a49-2b5b7adf8773",
   "metadata": {},
   "outputs": [],
   "source": [
    "# i need to get the intersection of countries"
   ]
  },
  {
   "cell_type": "code",
   "execution_count": null,
   "id": "0da21875-0b1d-4e9b-b72f-60ec90dae48e",
   "metadata": {},
   "outputs": [],
   "source": []
  },
  {
   "cell_type": "code",
   "execution_count": 1358,
   "id": "d4abf81a-f40c-4eb2-946d-be63407372e4",
   "metadata": {},
   "outputs": [],
   "source": [
    "#movi\n",
    "#come\n",
    "\n",
    "read = set(result.split()) & set(come.split())"
   ]
  },
  {
   "cell_type": "code",
   "execution_count": 1359,
   "id": "ac872277-5950-4041-bb69-9885560f3a63",
   "metadata": {},
   "outputs": [],
   "source": [
    "readd = list(read)"
   ]
  },
  {
   "cell_type": "code",
   "execution_count": 1360,
   "id": "80395f6f-5198-4d56-a807-e69b0ae0f17e",
   "metadata": {},
   "outputs": [],
   "source": [
    "readd.append(\"SWAZILAND\")\n",
    "readd.append(\"TUNISIA\")\n",
    "readd.append(\"MORROCO\")"
   ]
  },
  {
   "cell_type": "code",
   "execution_count": 1361,
   "id": "bcf3f8f1-2121-4b5e-a25e-c2b33ba76865",
   "metadata": {},
   "outputs": [
    {
     "data": {
      "text/plain": [
       "['ALGERIA', 'KINGDOM', 'EGYPT', 'ARAB', 'SWAZILAND', 'TUNISIA', 'MORROCO']"
      ]
     },
     "execution_count": 1361,
     "metadata": {},
     "output_type": "execute_result"
    }
   ],
   "source": [
    "readd"
   ]
  },
  {
   "cell_type": "code",
   "execution_count": 1362,
   "id": "7fb9dfa0-38cb-4dc7-b66c-9d103bb15717",
   "metadata": {},
   "outputs": [],
   "source": [
    "i = len(readd)"
   ]
  },
  {
   "cell_type": "code",
   "execution_count": 1363,
   "id": "dc7729d1-c1e1-4541-b7b9-e41d521cc1fd",
   "metadata": {},
   "outputs": [],
   "source": [
    "matches = []\n",
    "\n",
    "for match in list1:\n",
    "    if readd[i-1] in match:\n",
    "        matches.append(match)\n",
    "        i-=1"
   ]
  },
  {
   "cell_type": "code",
   "execution_count": 1364,
   "id": "03986f25-c8e5-4aad-a9d6-1426c520b9cd",
   "metadata": {},
   "outputs": [
    {
     "data": {
      "text/plain": [
       "list"
      ]
     },
     "execution_count": 1364,
     "metadata": {},
     "output_type": "execute_result"
    }
   ],
   "source": [
    "type(matches)"
   ]
  },
  {
   "cell_type": "code",
   "execution_count": 1365,
   "id": "1757cb1a-3788-44ba-8b9e-eedd19f38717",
   "metadata": {},
   "outputs": [],
   "source": [
    "i = len(readd)"
   ]
  },
  {
   "cell_type": "code",
   "execution_count": 1366,
   "id": "08695d79-eae4-4a37-8e2b-0d8c9f1cd637",
   "metadata": {},
   "outputs": [
    {
     "data": {
      "text/plain": [
       "7"
      ]
     },
     "execution_count": 1366,
     "metadata": {},
     "output_type": "execute_result"
    }
   ],
   "source": [
    "i"
   ]
  },
  {
   "cell_type": "code",
   "execution_count": 1367,
   "id": "e07057f3-1981-414a-a6d7-934c507d118f",
   "metadata": {},
   "outputs": [
    {
     "data": {
      "text/plain": [
       "'MORROCO'"
      ]
     },
     "execution_count": 1367,
     "metadata": {},
     "output_type": "execute_result"
    }
   ],
   "source": [
    "readd[i-1]"
   ]
  },
  {
   "cell_type": "code",
   "execution_count": 1368,
   "id": "9644754c-5453-4f91-b941-684294c4a099",
   "metadata": {},
   "outputs": [
    {
     "data": {
      "text/plain": [
       "pandas.core.frame.DataFrame"
      ]
     },
     "execution_count": 1368,
     "metadata": {},
     "output_type": "execute_result"
    }
   ],
   "source": [
    "type(df)"
   ]
  },
  {
   "cell_type": "code",
   "execution_count": 1369,
   "id": "ed1189e4-2b97-4cdd-bff4-2dadb5e065b9",
   "metadata": {},
   "outputs": [],
   "source": [
    "df.upcountry.replace(readd, 'North Africa', inplace=True)"
   ]
  },
  {
   "cell_type": "code",
   "execution_count": 1370,
   "id": "e4c8ad92-7d29-42c7-ae80-2674cc40e4f5",
   "metadata": {},
   "outputs": [],
   "source": [
    "north = df[df['upcountry'] == 'North Africa' ]\n",
    "#i=df[df[‘Name’]==’Will’]\n",
    "#print(i)"
   ]
  },
  {
   "cell_type": "code",
   "execution_count": 1371,
   "id": "3823ca0c-512e-4fa7-8c72-f6cbe778464b",
   "metadata": {},
   "outputs": [
    {
     "data": {
      "text/html": [
       "<div>\n",
       "<style scoped>\n",
       "    .dataframe tbody tr th:only-of-type {\n",
       "        vertical-align: middle;\n",
       "    }\n",
       "\n",
       "    .dataframe tbody tr th {\n",
       "        vertical-align: top;\n",
       "    }\n",
       "\n",
       "    .dataframe thead th {\n",
       "        text-align: right;\n",
       "    }\n",
       "</style>\n",
       "<table border=\"1\" class=\"dataframe\">\n",
       "  <thead>\n",
       "    <tr style=\"text-align: right;\">\n",
       "      <th></th>\n",
       "      <th>country</th>\n",
       "      <th>age_group</th>\n",
       "      <th>travel_with</th>\n",
       "      <th>total_female</th>\n",
       "      <th>total_male</th>\n",
       "      <th>purpose</th>\n",
       "      <th>main_activity</th>\n",
       "      <th>info_source</th>\n",
       "      <th>tour_arrangement</th>\n",
       "      <th>package_transport_int</th>\n",
       "      <th>...</th>\n",
       "      <th>package_sightseeing</th>\n",
       "      <th>package_guided_tour</th>\n",
       "      <th>package_insurance</th>\n",
       "      <th>night_mainland</th>\n",
       "      <th>night_zanzibar</th>\n",
       "      <th>payment_mode</th>\n",
       "      <th>first_trip_tz</th>\n",
       "      <th>most_impressing</th>\n",
       "      <th>total_cost</th>\n",
       "      <th>upcountry</th>\n",
       "    </tr>\n",
       "    <tr>\n",
       "      <th>ID</th>\n",
       "      <th></th>\n",
       "      <th></th>\n",
       "      <th></th>\n",
       "      <th></th>\n",
       "      <th></th>\n",
       "      <th></th>\n",
       "      <th></th>\n",
       "      <th></th>\n",
       "      <th></th>\n",
       "      <th></th>\n",
       "      <th></th>\n",
       "      <th></th>\n",
       "      <th></th>\n",
       "      <th></th>\n",
       "      <th></th>\n",
       "      <th></th>\n",
       "      <th></th>\n",
       "      <th></th>\n",
       "      <th></th>\n",
       "      <th></th>\n",
       "      <th></th>\n",
       "    </tr>\n",
       "  </thead>\n",
       "  <tbody>\n",
       "    <tr>\n",
       "      <th>tour_103</th>\n",
       "      <td>ALGERIA</td>\n",
       "      <td>25-44</td>\n",
       "      <td>Spouse</td>\n",
       "      <td>1.0</td>\n",
       "      <td>1.0</td>\n",
       "      <td>Leisure and Holidays</td>\n",
       "      <td>Beach tourism</td>\n",
       "      <td>Radio, TV, Web</td>\n",
       "      <td>Independent</td>\n",
       "      <td>No</td>\n",
       "      <td>...</td>\n",
       "      <td>No</td>\n",
       "      <td>No</td>\n",
       "      <td>No</td>\n",
       "      <td>0</td>\n",
       "      <td>11</td>\n",
       "      <td>Cash</td>\n",
       "      <td>Yes</td>\n",
       "      <td>Wildlife</td>\n",
       "      <td>3734347.5</td>\n",
       "      <td>North Africa</td>\n",
       "    </tr>\n",
       "    <tr>\n",
       "      <th>tour_1040</th>\n",
       "      <td>EGYPT</td>\n",
       "      <td>2024-01-01 00:00:00</td>\n",
       "      <td>Alone</td>\n",
       "      <td>0.0</td>\n",
       "      <td>1.0</td>\n",
       "      <td>Visiting Friends and Relatives</td>\n",
       "      <td>Bird watching</td>\n",
       "      <td>Travel, agent, tour operator</td>\n",
       "      <td>Package Tour</td>\n",
       "      <td>Yes</td>\n",
       "      <td>...</td>\n",
       "      <td>No</td>\n",
       "      <td>No</td>\n",
       "      <td>No</td>\n",
       "      <td>2</td>\n",
       "      <td>0</td>\n",
       "      <td>Cash</td>\n",
       "      <td>Yes</td>\n",
       "      <td>No comments</td>\n",
       "      <td>2320500.0</td>\n",
       "      <td>North Africa</td>\n",
       "    </tr>\n",
       "    <tr>\n",
       "      <th>tour_1305</th>\n",
       "      <td>EGYPT</td>\n",
       "      <td>45-64</td>\n",
       "      <td>Alone</td>\n",
       "      <td>0.0</td>\n",
       "      <td>1.0</td>\n",
       "      <td>Leisure and Holidays</td>\n",
       "      <td>Wildlife tourism</td>\n",
       "      <td>Tanzania Mission Abroad</td>\n",
       "      <td>Independent</td>\n",
       "      <td>No</td>\n",
       "      <td>...</td>\n",
       "      <td>No</td>\n",
       "      <td>No</td>\n",
       "      <td>No</td>\n",
       "      <td>4</td>\n",
       "      <td>0</td>\n",
       "      <td>Cash</td>\n",
       "      <td>No</td>\n",
       "      <td>No comments</td>\n",
       "      <td>994500.0</td>\n",
       "      <td>North Africa</td>\n",
       "    </tr>\n",
       "    <tr>\n",
       "      <th>tour_1360</th>\n",
       "      <td>SWAZILAND</td>\n",
       "      <td>25-44</td>\n",
       "      <td>Alone</td>\n",
       "      <td>0.0</td>\n",
       "      <td>1.0</td>\n",
       "      <td>Leisure and Holidays</td>\n",
       "      <td>Beach tourism</td>\n",
       "      <td>Travel, agent, tour operator</td>\n",
       "      <td>Independent</td>\n",
       "      <td>No</td>\n",
       "      <td>...</td>\n",
       "      <td>No</td>\n",
       "      <td>No</td>\n",
       "      <td>No</td>\n",
       "      <td>12</td>\n",
       "      <td>3</td>\n",
       "      <td>Cash</td>\n",
       "      <td>Yes</td>\n",
       "      <td>Wonderful Country, Landscape, Nature</td>\n",
       "      <td>15912000.0</td>\n",
       "      <td>North Africa</td>\n",
       "    </tr>\n",
       "    <tr>\n",
       "      <th>tour_1369</th>\n",
       "      <td>TUNISIA</td>\n",
       "      <td>25-44</td>\n",
       "      <td>Alone</td>\n",
       "      <td>0.0</td>\n",
       "      <td>1.0</td>\n",
       "      <td>Business</td>\n",
       "      <td>Beach tourism</td>\n",
       "      <td>Friends, relatives</td>\n",
       "      <td>Package Tour</td>\n",
       "      <td>Yes</td>\n",
       "      <td>...</td>\n",
       "      <td>No</td>\n",
       "      <td>No</td>\n",
       "      <td>No</td>\n",
       "      <td>36</td>\n",
       "      <td>0</td>\n",
       "      <td>Cash</td>\n",
       "      <td>No</td>\n",
       "      <td>Good service</td>\n",
       "      <td>15746250.0</td>\n",
       "      <td>North Africa</td>\n",
       "    </tr>\n",
       "    <tr>\n",
       "      <th>tour_1601</th>\n",
       "      <td>EGYPT</td>\n",
       "      <td>25-44</td>\n",
       "      <td>Alone</td>\n",
       "      <td>1.0</td>\n",
       "      <td>0.0</td>\n",
       "      <td>Leisure and Holidays</td>\n",
       "      <td>Wildlife tourism</td>\n",
       "      <td>Friends, relatives</td>\n",
       "      <td>Independent</td>\n",
       "      <td>No</td>\n",
       "      <td>...</td>\n",
       "      <td>No</td>\n",
       "      <td>No</td>\n",
       "      <td>No</td>\n",
       "      <td>7</td>\n",
       "      <td>7</td>\n",
       "      <td>Cash</td>\n",
       "      <td>Yes</td>\n",
       "      <td>No comments</td>\n",
       "      <td>4143750.0</td>\n",
       "      <td>North Africa</td>\n",
       "    </tr>\n",
       "    <tr>\n",
       "      <th>tour_1681</th>\n",
       "      <td>ALGERIA</td>\n",
       "      <td>25-44</td>\n",
       "      <td>Friends/Relatives</td>\n",
       "      <td>5.0</td>\n",
       "      <td>0.0</td>\n",
       "      <td>Visiting Friends and Relatives</td>\n",
       "      <td>Wildlife tourism</td>\n",
       "      <td>Friends, relatives</td>\n",
       "      <td>Independent</td>\n",
       "      <td>No</td>\n",
       "      <td>...</td>\n",
       "      <td>No</td>\n",
       "      <td>No</td>\n",
       "      <td>No</td>\n",
       "      <td>15</td>\n",
       "      <td>10</td>\n",
       "      <td>Cash</td>\n",
       "      <td>No</td>\n",
       "      <td>Wonderful Country, Landscape, Nature</td>\n",
       "      <td>828750.0</td>\n",
       "      <td>North Africa</td>\n",
       "    </tr>\n",
       "    <tr>\n",
       "      <th>tour_194</th>\n",
       "      <td>EGYPT</td>\n",
       "      <td>25-44</td>\n",
       "      <td>Alone</td>\n",
       "      <td>1.0</td>\n",
       "      <td>0.0</td>\n",
       "      <td>Visiting Friends and Relatives</td>\n",
       "      <td>Beach tourism</td>\n",
       "      <td>Friends, relatives</td>\n",
       "      <td>Independent</td>\n",
       "      <td>No</td>\n",
       "      <td>...</td>\n",
       "      <td>No</td>\n",
       "      <td>No</td>\n",
       "      <td>No</td>\n",
       "      <td>1</td>\n",
       "      <td>0</td>\n",
       "      <td>Cash</td>\n",
       "      <td>Yes</td>\n",
       "      <td>Friendly People</td>\n",
       "      <td>3315000.0</td>\n",
       "      <td>North Africa</td>\n",
       "    </tr>\n",
       "    <tr>\n",
       "      <th>tour_195</th>\n",
       "      <td>EGYPT</td>\n",
       "      <td>25-44</td>\n",
       "      <td>Alone</td>\n",
       "      <td>1.0</td>\n",
       "      <td>1.0</td>\n",
       "      <td>Leisure and Holidays</td>\n",
       "      <td>Wildlife tourism</td>\n",
       "      <td>Newspaper, magazines,brochures</td>\n",
       "      <td>Independent</td>\n",
       "      <td>No</td>\n",
       "      <td>...</td>\n",
       "      <td>No</td>\n",
       "      <td>No</td>\n",
       "      <td>No</td>\n",
       "      <td>23</td>\n",
       "      <td>3</td>\n",
       "      <td>Cash</td>\n",
       "      <td>Yes</td>\n",
       "      <td>Wildlife</td>\n",
       "      <td>5304000.0</td>\n",
       "      <td>North Africa</td>\n",
       "    </tr>\n",
       "    <tr>\n",
       "      <th>tour_2266</th>\n",
       "      <td>EGYPT</td>\n",
       "      <td>25-44</td>\n",
       "      <td>Friends/Relatives</td>\n",
       "      <td>0.0</td>\n",
       "      <td>2.0</td>\n",
       "      <td>Leisure and Holidays</td>\n",
       "      <td>Conference tourism</td>\n",
       "      <td>Travel, agent, tour operator</td>\n",
       "      <td>Package Tour</td>\n",
       "      <td>No</td>\n",
       "      <td>...</td>\n",
       "      <td>Yes</td>\n",
       "      <td>Yes</td>\n",
       "      <td>No</td>\n",
       "      <td>14</td>\n",
       "      <td>0</td>\n",
       "      <td>Cash</td>\n",
       "      <td>Yes</td>\n",
       "      <td>Good service</td>\n",
       "      <td>10856625.0</td>\n",
       "      <td>North Africa</td>\n",
       "    </tr>\n",
       "    <tr>\n",
       "      <th>tour_2718</th>\n",
       "      <td>EGYPT</td>\n",
       "      <td>25-44</td>\n",
       "      <td>Spouse</td>\n",
       "      <td>2.0</td>\n",
       "      <td>0.0</td>\n",
       "      <td>Meetings and Conference</td>\n",
       "      <td>Conference tourism</td>\n",
       "      <td>Friends, relatives</td>\n",
       "      <td>Package Tour</td>\n",
       "      <td>Yes</td>\n",
       "      <td>...</td>\n",
       "      <td>No</td>\n",
       "      <td>Yes</td>\n",
       "      <td>No</td>\n",
       "      <td>10</td>\n",
       "      <td>0</td>\n",
       "      <td>Cash</td>\n",
       "      <td>No</td>\n",
       "      <td>Wonderful Country, Landscape, Nature</td>\n",
       "      <td>3978000.0</td>\n",
       "      <td>North Africa</td>\n",
       "    </tr>\n",
       "    <tr>\n",
       "      <th>tour_2856</th>\n",
       "      <td>SWAZILAND</td>\n",
       "      <td>25-44</td>\n",
       "      <td>Spouse</td>\n",
       "      <td>1.0</td>\n",
       "      <td>1.0</td>\n",
       "      <td>Leisure and Holidays</td>\n",
       "      <td>Wildlife tourism</td>\n",
       "      <td>Travel, agent, tour operator</td>\n",
       "      <td>Package Tour</td>\n",
       "      <td>Yes</td>\n",
       "      <td>...</td>\n",
       "      <td>No</td>\n",
       "      <td>No</td>\n",
       "      <td>No</td>\n",
       "      <td>7</td>\n",
       "      <td>6</td>\n",
       "      <td>Cash</td>\n",
       "      <td>Yes</td>\n",
       "      <td>No comments</td>\n",
       "      <td>828750.0</td>\n",
       "      <td>North Africa</td>\n",
       "    </tr>\n",
       "    <tr>\n",
       "      <th>tour_2938</th>\n",
       "      <td>SWAZILAND</td>\n",
       "      <td>2024-01-01 00:00:00</td>\n",
       "      <td>Friends/Relatives</td>\n",
       "      <td>1.0</td>\n",
       "      <td>1.0</td>\n",
       "      <td>Leisure and Holidays</td>\n",
       "      <td>Wildlife tourism</td>\n",
       "      <td>others</td>\n",
       "      <td>Independent</td>\n",
       "      <td>No</td>\n",
       "      <td>...</td>\n",
       "      <td>No</td>\n",
       "      <td>No</td>\n",
       "      <td>No</td>\n",
       "      <td>14</td>\n",
       "      <td>0</td>\n",
       "      <td>Cash</td>\n",
       "      <td>Yes</td>\n",
       "      <td>Wonderful Country, Landscape, Nature</td>\n",
       "      <td>4889625.0</td>\n",
       "      <td>North Africa</td>\n",
       "    </tr>\n",
       "    <tr>\n",
       "      <th>tour_3482</th>\n",
       "      <td>EGYPT</td>\n",
       "      <td>25-44</td>\n",
       "      <td>Alone</td>\n",
       "      <td>0.0</td>\n",
       "      <td>1.0</td>\n",
       "      <td>Leisure and Holidays</td>\n",
       "      <td>Conference tourism</td>\n",
       "      <td>Travel, agent, tour operator</td>\n",
       "      <td>Independent</td>\n",
       "      <td>No</td>\n",
       "      <td>...</td>\n",
       "      <td>No</td>\n",
       "      <td>No</td>\n",
       "      <td>No</td>\n",
       "      <td>14</td>\n",
       "      <td>0</td>\n",
       "      <td>Cash</td>\n",
       "      <td>Yes</td>\n",
       "      <td>Wonderful Country, Landscape, Nature</td>\n",
       "      <td>4143750.0</td>\n",
       "      <td>North Africa</td>\n",
       "    </tr>\n",
       "    <tr>\n",
       "      <th>tour_4473</th>\n",
       "      <td>EGYPT</td>\n",
       "      <td>25-44</td>\n",
       "      <td>Spouse</td>\n",
       "      <td>1.0</td>\n",
       "      <td>1.0</td>\n",
       "      <td>Leisure and Holidays</td>\n",
       "      <td>Beach tourism</td>\n",
       "      <td>Friends, relatives</td>\n",
       "      <td>Independent</td>\n",
       "      <td>No</td>\n",
       "      <td>...</td>\n",
       "      <td>No</td>\n",
       "      <td>No</td>\n",
       "      <td>No</td>\n",
       "      <td>0</td>\n",
       "      <td>6</td>\n",
       "      <td>Cash</td>\n",
       "      <td>Yes</td>\n",
       "      <td>Wonderful Country, Landscape, Nature</td>\n",
       "      <td>3315000.0</td>\n",
       "      <td>North Africa</td>\n",
       "    </tr>\n",
       "    <tr>\n",
       "      <th>tour_5565</th>\n",
       "      <td>MORROCO</td>\n",
       "      <td>25-44</td>\n",
       "      <td>Spouse</td>\n",
       "      <td>1.0</td>\n",
       "      <td>1.0</td>\n",
       "      <td>Leisure and Holidays</td>\n",
       "      <td>Wildlife tourism</td>\n",
       "      <td>Travel, agent, tour operator</td>\n",
       "      <td>Package Tour</td>\n",
       "      <td>No</td>\n",
       "      <td>...</td>\n",
       "      <td>Yes</td>\n",
       "      <td>Yes</td>\n",
       "      <td>No</td>\n",
       "      <td>5</td>\n",
       "      <td>5</td>\n",
       "      <td>Cash</td>\n",
       "      <td>Yes</td>\n",
       "      <td>Wildlife</td>\n",
       "      <td>1491750.0</td>\n",
       "      <td>North Africa</td>\n",
       "    </tr>\n",
       "    <tr>\n",
       "      <th>tour_847</th>\n",
       "      <td>SWAZILAND</td>\n",
       "      <td>25-44</td>\n",
       "      <td>Alone</td>\n",
       "      <td>0.0</td>\n",
       "      <td>1.0</td>\n",
       "      <td>Meetings and Conference</td>\n",
       "      <td>Bird watching</td>\n",
       "      <td>Travel, agent, tour operator</td>\n",
       "      <td>Independent</td>\n",
       "      <td>No</td>\n",
       "      <td>...</td>\n",
       "      <td>No</td>\n",
       "      <td>No</td>\n",
       "      <td>No</td>\n",
       "      <td>6</td>\n",
       "      <td>0</td>\n",
       "      <td>Cash</td>\n",
       "      <td>No</td>\n",
       "      <td>Good service</td>\n",
       "      <td>1657500.0</td>\n",
       "      <td>North Africa</td>\n",
       "    </tr>\n",
       "    <tr>\n",
       "      <th>tour_928</th>\n",
       "      <td>EGYPT</td>\n",
       "      <td>25-44</td>\n",
       "      <td>Alone</td>\n",
       "      <td>1.0</td>\n",
       "      <td>0.0</td>\n",
       "      <td>Leisure and Holidays</td>\n",
       "      <td>Wildlife tourism</td>\n",
       "      <td>Friends, relatives</td>\n",
       "      <td>Independent</td>\n",
       "      <td>No</td>\n",
       "      <td>...</td>\n",
       "      <td>No</td>\n",
       "      <td>No</td>\n",
       "      <td>No</td>\n",
       "      <td>5</td>\n",
       "      <td>5</td>\n",
       "      <td>Cash</td>\n",
       "      <td>Yes</td>\n",
       "      <td>Excellent Experience</td>\n",
       "      <td>1657500.0</td>\n",
       "      <td>North Africa</td>\n",
       "    </tr>\n",
       "  </tbody>\n",
       "</table>\n",
       "<p>18 rows × 23 columns</p>\n",
       "</div>"
      ],
      "text/plain": [
       "             country            age_group        travel_with  total_female  \\\n",
       "ID                                                                           \n",
       "tour_103     ALGERIA                25-44             Spouse           1.0   \n",
       "tour_1040      EGYPT  2024-01-01 00:00:00              Alone           0.0   \n",
       "tour_1305      EGYPT                45-64              Alone           0.0   \n",
       "tour_1360  SWAZILAND                25-44              Alone           0.0   \n",
       "tour_1369    TUNISIA                25-44              Alone           0.0   \n",
       "tour_1601      EGYPT                25-44              Alone           1.0   \n",
       "tour_1681    ALGERIA                25-44  Friends/Relatives           5.0   \n",
       "tour_194       EGYPT                25-44              Alone           1.0   \n",
       "tour_195       EGYPT                25-44              Alone           1.0   \n",
       "tour_2266      EGYPT                25-44  Friends/Relatives           0.0   \n",
       "tour_2718      EGYPT                25-44             Spouse           2.0   \n",
       "tour_2856  SWAZILAND                25-44             Spouse           1.0   \n",
       "tour_2938  SWAZILAND  2024-01-01 00:00:00  Friends/Relatives           1.0   \n",
       "tour_3482      EGYPT                25-44              Alone           0.0   \n",
       "tour_4473      EGYPT                25-44             Spouse           1.0   \n",
       "tour_5565    MORROCO                25-44             Spouse           1.0   \n",
       "tour_847   SWAZILAND                25-44              Alone           0.0   \n",
       "tour_928       EGYPT                25-44              Alone           1.0   \n",
       "\n",
       "           total_male                         purpose       main_activity  \\\n",
       "ID                                                                          \n",
       "tour_103          1.0            Leisure and Holidays       Beach tourism   \n",
       "tour_1040         1.0  Visiting Friends and Relatives       Bird watching   \n",
       "tour_1305         1.0            Leisure and Holidays    Wildlife tourism   \n",
       "tour_1360         1.0            Leisure and Holidays       Beach tourism   \n",
       "tour_1369         1.0                        Business       Beach tourism   \n",
       "tour_1601         0.0            Leisure and Holidays    Wildlife tourism   \n",
       "tour_1681         0.0  Visiting Friends and Relatives    Wildlife tourism   \n",
       "tour_194          0.0  Visiting Friends and Relatives       Beach tourism   \n",
       "tour_195          1.0            Leisure and Holidays    Wildlife tourism   \n",
       "tour_2266         2.0            Leisure and Holidays  Conference tourism   \n",
       "tour_2718         0.0         Meetings and Conference  Conference tourism   \n",
       "tour_2856         1.0            Leisure and Holidays    Wildlife tourism   \n",
       "tour_2938         1.0            Leisure and Holidays    Wildlife tourism   \n",
       "tour_3482         1.0            Leisure and Holidays  Conference tourism   \n",
       "tour_4473         1.0            Leisure and Holidays       Beach tourism   \n",
       "tour_5565         1.0            Leisure and Holidays    Wildlife tourism   \n",
       "tour_847          1.0         Meetings and Conference       Bird watching   \n",
       "tour_928          0.0            Leisure and Holidays    Wildlife tourism   \n",
       "\n",
       "                              info_source tour_arrangement  \\\n",
       "ID                                                           \n",
       "tour_103                   Radio, TV, Web      Independent   \n",
       "tour_1040    Travel, agent, tour operator     Package Tour   \n",
       "tour_1305         Tanzania Mission Abroad      Independent   \n",
       "tour_1360    Travel, agent, tour operator      Independent   \n",
       "tour_1369              Friends, relatives     Package Tour   \n",
       "tour_1601              Friends, relatives      Independent   \n",
       "tour_1681              Friends, relatives      Independent   \n",
       "tour_194               Friends, relatives      Independent   \n",
       "tour_195   Newspaper, magazines,brochures      Independent   \n",
       "tour_2266    Travel, agent, tour operator     Package Tour   \n",
       "tour_2718              Friends, relatives     Package Tour   \n",
       "tour_2856    Travel, agent, tour operator     Package Tour   \n",
       "tour_2938                          others      Independent   \n",
       "tour_3482    Travel, agent, tour operator      Independent   \n",
       "tour_4473              Friends, relatives      Independent   \n",
       "tour_5565    Travel, agent, tour operator     Package Tour   \n",
       "tour_847     Travel, agent, tour operator      Independent   \n",
       "tour_928               Friends, relatives      Independent   \n",
       "\n",
       "          package_transport_int  ... package_sightseeing package_guided_tour  \\\n",
       "ID                               ...                                           \n",
       "tour_103                     No  ...                  No                  No   \n",
       "tour_1040                   Yes  ...                  No                  No   \n",
       "tour_1305                    No  ...                  No                  No   \n",
       "tour_1360                    No  ...                  No                  No   \n",
       "tour_1369                   Yes  ...                  No                  No   \n",
       "tour_1601                    No  ...                  No                  No   \n",
       "tour_1681                    No  ...                  No                  No   \n",
       "tour_194                     No  ...                  No                  No   \n",
       "tour_195                     No  ...                  No                  No   \n",
       "tour_2266                    No  ...                 Yes                 Yes   \n",
       "tour_2718                   Yes  ...                  No                 Yes   \n",
       "tour_2856                   Yes  ...                  No                  No   \n",
       "tour_2938                    No  ...                  No                  No   \n",
       "tour_3482                    No  ...                  No                  No   \n",
       "tour_4473                    No  ...                  No                  No   \n",
       "tour_5565                    No  ...                 Yes                 Yes   \n",
       "tour_847                     No  ...                  No                  No   \n",
       "tour_928                     No  ...                  No                  No   \n",
       "\n",
       "          package_insurance night_mainland night_zanzibar payment_mode  \\\n",
       "ID                                                                       \n",
       "tour_103                 No              0             11         Cash   \n",
       "tour_1040                No              2              0         Cash   \n",
       "tour_1305                No              4              0         Cash   \n",
       "tour_1360                No             12              3         Cash   \n",
       "tour_1369                No             36              0         Cash   \n",
       "tour_1601                No              7              7         Cash   \n",
       "tour_1681                No             15             10         Cash   \n",
       "tour_194                 No              1              0         Cash   \n",
       "tour_195                 No             23              3         Cash   \n",
       "tour_2266                No             14              0         Cash   \n",
       "tour_2718                No             10              0         Cash   \n",
       "tour_2856                No              7              6         Cash   \n",
       "tour_2938                No             14              0         Cash   \n",
       "tour_3482                No             14              0         Cash   \n",
       "tour_4473                No              0              6         Cash   \n",
       "tour_5565                No              5              5         Cash   \n",
       "tour_847                 No              6              0         Cash   \n",
       "tour_928                 No              5              5         Cash   \n",
       "\n",
       "           first_trip_tz                       most_impressing  total_cost  \\\n",
       "ID                                                                           \n",
       "tour_103             Yes                              Wildlife   3734347.5   \n",
       "tour_1040            Yes                           No comments   2320500.0   \n",
       "tour_1305             No                           No comments    994500.0   \n",
       "tour_1360            Yes  Wonderful Country, Landscape, Nature  15912000.0   \n",
       "tour_1369             No                          Good service  15746250.0   \n",
       "tour_1601            Yes                           No comments   4143750.0   \n",
       "tour_1681             No  Wonderful Country, Landscape, Nature    828750.0   \n",
       "tour_194             Yes                       Friendly People   3315000.0   \n",
       "tour_195             Yes                              Wildlife   5304000.0   \n",
       "tour_2266            Yes                          Good service  10856625.0   \n",
       "tour_2718             No  Wonderful Country, Landscape, Nature   3978000.0   \n",
       "tour_2856            Yes                           No comments    828750.0   \n",
       "tour_2938            Yes  Wonderful Country, Landscape, Nature   4889625.0   \n",
       "tour_3482            Yes  Wonderful Country, Landscape, Nature   4143750.0   \n",
       "tour_4473            Yes  Wonderful Country, Landscape, Nature   3315000.0   \n",
       "tour_5565            Yes                              Wildlife   1491750.0   \n",
       "tour_847              No                          Good service   1657500.0   \n",
       "tour_928             Yes                  Excellent Experience   1657500.0   \n",
       "\n",
       "              upcountry  \n",
       "ID                       \n",
       "tour_103   North Africa  \n",
       "tour_1040  North Africa  \n",
       "tour_1305  North Africa  \n",
       "tour_1360  North Africa  \n",
       "tour_1369  North Africa  \n",
       "tour_1601  North Africa  \n",
       "tour_1681  North Africa  \n",
       "tour_194   North Africa  \n",
       "tour_195   North Africa  \n",
       "tour_2266  North Africa  \n",
       "tour_2718  North Africa  \n",
       "tour_2856  North Africa  \n",
       "tour_2938  North Africa  \n",
       "tour_3482  North Africa  \n",
       "tour_4473  North Africa  \n",
       "tour_5565  North Africa  \n",
       "tour_847   North Africa  \n",
       "tour_928   North Africa  \n",
       "\n",
       "[18 rows x 23 columns]"
      ]
     },
     "execution_count": 1371,
     "metadata": {},
     "output_type": "execute_result"
    }
   ],
   "source": [
    "north"
   ]
  },
  {
   "cell_type": "markdown",
   "id": "15ca4774-33a7-46c8-9f57-8a706bdb1d43",
   "metadata": {},
   "source": [
    "## Southern Africa"
   ]
  },
  {
   "cell_type": "code",
   "execution_count": 1372,
   "id": "c6075b28-b945-4a08-9f9f-a20499365c1f",
   "metadata": {},
   "outputs": [
    {
     "name": "stderr",
     "output_type": "stream",
     "text": [
      "C:\\Users\\KOFI ADUKPO\\AppData\\Local\\Temp\\ipykernel_4848\\954712956.py:1: DeprecationWarning: find_element_by_xpath is deprecated. Please use find_element(by=By.XPATH, value=xpath) instead\n",
      "  i = driver.find_element_by_xpath(\"(//tbody)[4]\")\n"
     ]
    }
   ],
   "source": [
    "i = driver.find_element_by_xpath(\"(//tbody)[4]\")"
   ]
  },
  {
   "cell_type": "code",
   "execution_count": null,
   "id": "0bfd32ba-bfef-4b16-a9c1-e84a69a1595f",
   "metadata": {},
   "outputs": [],
   "source": []
  },
  {
   "cell_type": "code",
   "execution_count": 1373,
   "id": "aa11333d-76e7-4d31-87f6-401745428026",
   "metadata": {},
   "outputs": [],
   "source": [
    "text = i.text\n",
    "#(//tbody)[1]"
   ]
  },
  {
   "cell_type": "code",
   "execution_count": 1374,
   "id": "333944a7-d2c3-4db2-adcf-ad920699af98",
   "metadata": {},
   "outputs": [
    {
     "data": {
      "text/plain": [
       "str"
      ]
     },
     "execution_count": 1374,
     "metadata": {},
     "output_type": "execute_result"
    }
   ],
   "source": [
    "type(text)"
   ]
  },
  {
   "cell_type": "code",
   "execution_count": 1375,
   "id": "8f5fa5fd-da04-44bb-b565-2c8246044b9b",
   "metadata": {},
   "outputs": [],
   "source": [
    "rep = text.replace(\"\\n\", \". \")"
   ]
  },
  {
   "cell_type": "code",
   "execution_count": 1376,
   "id": "bbee28a8-3a1b-4eab-9524-417345046d56",
   "metadata": {},
   "outputs": [],
   "source": [
    "import re\n",
    "expression = re.compile(r'([A-Z][^\\.!?]*[\\.!?])')\n",
    "new_list = re.findall(expression, rep)"
   ]
  },
  {
   "cell_type": "code",
   "execution_count": 1377,
   "id": "eb672e3a-143c-4989-a0c0-1454a32f0db4",
   "metadata": {},
   "outputs": [
    {
     "data": {
      "text/plain": [
       "['Member State  Abbreviation Date of joining.',\n",
       " 'OAU or AU.',\n",
       " 'Republic of Angola   Angola 11 February 1975.',\n",
       " 'Republic of Botswana   Botswana 31 October 1966.',\n",
       " 'Kingdom of Eswatini   Eswatini 24 September 1968.',\n",
       " 'Kingdom of Lesotho   Lesotho 31 October 1966.',\n",
       " 'Republic of Malawi   Malawi 13 July 1964.',\n",
       " 'Republic of Mozambique   Mozambique 18 July 1975.',\n",
       " 'Republic of Namibia   Namibia June 1990.',\n",
       " 'Republic of South Africa  South Africa 6 June 1994.',\n",
       " 'Republic of Zambia   Zambia 16 December 1964.']"
      ]
     },
     "execution_count": 1377,
     "metadata": {},
     "output_type": "execute_result"
    }
   ],
   "source": [
    "new_list"
   ]
  },
  {
   "cell_type": "code",
   "execution_count": null,
   "id": "76abdae1-79bc-449d-bce7-17cfd38a3e3b",
   "metadata": {},
   "outputs": [],
   "source": []
  },
  {
   "cell_type": "code",
   "execution_count": 1378,
   "id": "23b1fa60-e672-4bf5-b488-afe553714653",
   "metadata": {},
   "outputs": [],
   "source": [
    "converted_list = [x.upper() for x in new_list]"
   ]
  },
  {
   "cell_type": "code",
   "execution_count": 1379,
   "id": "5bbef3b9-4237-4bcf-ad8c-5ee3493a585e",
   "metadata": {},
   "outputs": [
    {
     "data": {
      "text/plain": [
       "['MEMBER STATE  ABBREVIATION DATE OF JOINING.',\n",
       " 'OAU OR AU.',\n",
       " 'REPUBLIC OF ANGOLA   ANGOLA 11 FEBRUARY 1975.',\n",
       " 'REPUBLIC OF BOTSWANA   BOTSWANA 31 OCTOBER 1966.',\n",
       " 'KINGDOM OF ESWATINI   ESWATINI 24 SEPTEMBER 1968.',\n",
       " 'KINGDOM OF LESOTHO   LESOTHO 31 OCTOBER 1966.',\n",
       " 'REPUBLIC OF MALAWI   MALAWI 13 JULY 1964.',\n",
       " 'REPUBLIC OF MOZAMBIQUE   MOZAMBIQUE 18 JULY 1975.',\n",
       " 'REPUBLIC OF NAMIBIA   NAMIBIA JUNE 1990.',\n",
       " 'REPUBLIC OF SOUTH AFRICA  SOUTH AFRICA 6 JUNE 1994.',\n",
       " 'REPUBLIC OF ZAMBIA   ZAMBIA 16 DECEMBER 1964.']"
      ]
     },
     "execution_count": 1379,
     "metadata": {},
     "output_type": "execute_result"
    }
   ],
   "source": [
    "converted_list"
   ]
  },
  {
   "cell_type": "code",
   "execution_count": null,
   "id": "d87a2976-3730-40ae-92e2-ce6f79382a06",
   "metadata": {},
   "outputs": [],
   "source": []
  },
  {
   "cell_type": "code",
   "execution_count": 1380,
   "id": "709f2228-dabb-4e41-9c42-6d2946a8f3e8",
   "metadata": {},
   "outputs": [],
   "source": [
    "co = str(converted_list)"
   ]
  },
  {
   "cell_type": "code",
   "execution_count": 1381,
   "id": "0a445bf4-ee6a-4169-95eb-bbdeb70e17d7",
   "metadata": {},
   "outputs": [],
   "source": [
    "from itertools import chain"
   ]
  },
  {
   "cell_type": "code",
   "execution_count": 1382,
   "id": "2bd992f9-9807-407c-b971-dd37d3afa8c1",
   "metadata": {},
   "outputs": [],
   "source": [
    "coming = ' '.join(str(v) for v in converted_list)"
   ]
  },
  {
   "cell_type": "code",
   "execution_count": 1383,
   "id": "a63d4743-e1aa-4b66-82d4-cbfd424541ad",
   "metadata": {},
   "outputs": [
    {
     "data": {
      "text/plain": [
       "'MEMBER STATE  ABBREVIATION DATE OF JOINING. OAU OR AU. REPUBLIC OF ANGOLA   ANGOLA 11 FEBRUARY 1975. REPUBLIC OF BOTSWANA   BOTSWANA 31 OCTOBER 1966. KINGDOM OF ESWATINI   ESWATINI 24 SEPTEMBER 1968. KINGDOM OF LESOTHO   LESOTHO 31 OCTOBER 1966. REPUBLIC OF MALAWI   MALAWI 13 JULY 1964. REPUBLIC OF MOZAMBIQUE   MOZAMBIQUE 18 JULY 1975. REPUBLIC OF NAMIBIA   NAMIBIA JUNE 1990. REPUBLIC OF SOUTH AFRICA  SOUTH AFRICA 6 JUNE 1994. REPUBLIC OF ZAMBIA   ZAMBIA 16 DECEMBER 1964.'"
      ]
     },
     "execution_count": 1383,
     "metadata": {},
     "output_type": "execute_result"
    }
   ],
   "source": [
    "coming"
   ]
  },
  {
   "cell_type": "code",
   "execution_count": 1384,
   "id": "5200e261-1da0-4c98-9eba-be7f19141619",
   "metadata": {},
   "outputs": [],
   "source": [
    "come = coming.replace(\".\", \"\")\n",
    "com = come.replace(\"REPUBLIC\", \"\")\n",
    "come= com.replace(\"OF\", \"\")\n"
   ]
  },
  {
   "cell_type": "code",
   "execution_count": 1385,
   "id": "76edc6c0-dff8-4876-82a0-1d3a3f92c1e4",
   "metadata": {},
   "outputs": [
    {
     "data": {
      "text/plain": [
       "'MEMBER STATE  ABBREVIATION DATE  JOINING OAU OR AU   ANGOLA   ANGOLA 11 FEBRUARY 1975   BOTSWANA   BOTSWANA 31 OCTOBER 1966 KINGDOM  ESWATINI   ESWATINI 24 SEPTEMBER 1968 KINGDOM  LESOTHO   LESOTHO 31 OCTOBER 1966   MALAWI   MALAWI 13 JULY 1964   MOZAMBIQUE   MOZAMBIQUE 18 JULY 1975   NAMIBIA   NAMIBIA JUNE 1990   SOUTH AFRICA  SOUTH AFRICA 6 JUNE 1994   ZAMBIA   ZAMBIA 16 DECEMBER 1964'"
      ]
     },
     "execution_count": 1385,
     "metadata": {},
     "output_type": "execute_result"
    }
   ],
   "source": [
    "come"
   ]
  },
  {
   "cell_type": "code",
   "execution_count": 1386,
   "id": "9c74f2cb-65be-4856-95d3-f3144777fd7d",
   "metadata": {},
   "outputs": [],
   "source": [
    "# i need to get the intersection of countries"
   ]
  },
  {
   "cell_type": "code",
   "execution_count": null,
   "id": "b7c7c1c4-4241-4382-9d04-53ab61a36e17",
   "metadata": {},
   "outputs": [],
   "source": []
  },
  {
   "cell_type": "code",
   "execution_count": 1387,
   "id": "2b4b9170-e35e-4ab9-b997-5bc595565663",
   "metadata": {},
   "outputs": [],
   "source": [
    "#movi\n",
    "#come\n",
    "\n",
    "read = set(result.split()) & set(come.split())"
   ]
  },
  {
   "cell_type": "code",
   "execution_count": 1388,
   "id": "b6c9e7fc-4978-4540-ab93-ad7f2afe17a3",
   "metadata": {},
   "outputs": [],
   "source": [
    "readd = list(read)"
   ]
  },
  {
   "cell_type": "code",
   "execution_count": 1389,
   "id": "1138bab1-70f3-4555-af49-f24509ffaaf0",
   "metadata": {},
   "outputs": [],
   "source": [
    "#SOUTH AFRICA"
   ]
  },
  {
   "cell_type": "code",
   "execution_count": 1390,
   "id": "456be1e1-383c-4465-869d-a7bcc5a4e402",
   "metadata": {},
   "outputs": [],
   "source": [
    "\n",
    "readd.append(\"SOUTH AFRICA\")\n",
    "readd.append(\"ZIMBABWE\")"
   ]
  },
  {
   "cell_type": "code",
   "execution_count": 1391,
   "id": "1fc361c2-af5a-4530-ba12-8293a2dc87be",
   "metadata": {},
   "outputs": [
    {
     "data": {
      "text/plain": [
       "['SOUTH',\n",
       " 'AFRICA',\n",
       " 'NAMIBIA',\n",
       " 'ZAMBIA',\n",
       " 'KINGDOM',\n",
       " 'ANGOLA',\n",
       " 'MALAWI',\n",
       " 'LESOTHO',\n",
       " 'MOZAMBIQUE',\n",
       " 'SOUTH AFRICA',\n",
       " 'ZIMBABWE']"
      ]
     },
     "execution_count": 1391,
     "metadata": {},
     "output_type": "execute_result"
    }
   ],
   "source": [
    "readd"
   ]
  },
  {
   "cell_type": "code",
   "execution_count": 1392,
   "id": "e0fccb4a-00c4-497a-b3e7-02917db4660e",
   "metadata": {},
   "outputs": [],
   "source": [
    "i = len(readd)"
   ]
  },
  {
   "cell_type": "code",
   "execution_count": 1393,
   "id": "acbbcff9-d027-41ac-82b4-b89842a60e8d",
   "metadata": {},
   "outputs": [],
   "source": [
    "matches = []\n",
    "\n",
    "for match in list1:\n",
    "    if readd[i-1] in match:\n",
    "        matches.append(match)\n",
    "        i-=1"
   ]
  },
  {
   "cell_type": "code",
   "execution_count": 1394,
   "id": "7f854cc1-721e-432a-93ae-cbff3be637f3",
   "metadata": {},
   "outputs": [
    {
     "data": {
      "text/plain": [
       "list"
      ]
     },
     "execution_count": 1394,
     "metadata": {},
     "output_type": "execute_result"
    }
   ],
   "source": [
    "type(matches)"
   ]
  },
  {
   "cell_type": "code",
   "execution_count": 1395,
   "id": "d2ca36f4-b8e2-4129-af25-aaa77ce56489",
   "metadata": {},
   "outputs": [],
   "source": [
    "i = len(readd)"
   ]
  },
  {
   "cell_type": "code",
   "execution_count": 1396,
   "id": "bb6f3fb5-55ca-4aa9-9140-819680bd168d",
   "metadata": {},
   "outputs": [
    {
     "data": {
      "text/plain": [
       "11"
      ]
     },
     "execution_count": 1396,
     "metadata": {},
     "output_type": "execute_result"
    }
   ],
   "source": [
    "i"
   ]
  },
  {
   "cell_type": "code",
   "execution_count": 1397,
   "id": "33942224-d671-45f8-9047-be4c59d6ec7e",
   "metadata": {},
   "outputs": [
    {
     "data": {
      "text/plain": [
       "'ZIMBABWE'"
      ]
     },
     "execution_count": 1397,
     "metadata": {},
     "output_type": "execute_result"
    }
   ],
   "source": [
    "readd[i-1]"
   ]
  },
  {
   "cell_type": "code",
   "execution_count": 1398,
   "id": "508ea21f-ceaf-46d4-a1f0-7209792c8ccb",
   "metadata": {},
   "outputs": [
    {
     "data": {
      "text/plain": [
       "pandas.core.frame.DataFrame"
      ]
     },
     "execution_count": 1398,
     "metadata": {},
     "output_type": "execute_result"
    }
   ],
   "source": [
    "type(df)"
   ]
  },
  {
   "cell_type": "code",
   "execution_count": 1399,
   "id": "dacadcec-3a60-4d8a-8d6c-11ace05ade28",
   "metadata": {},
   "outputs": [],
   "source": [
    "df.upcountry.replace(readd, 'Southern Africa', inplace=True)"
   ]
  },
  {
   "cell_type": "code",
   "execution_count": 1400,
   "id": "a8deec4d-ae49-4eb8-a239-00d24ad30fff",
   "metadata": {},
   "outputs": [],
   "source": [
    "south = df[df['upcountry'] == 'Southern Africa' ]\n",
    "#i=df[df[‘Name’]==’Will’]\n",
    "#print(i)"
   ]
  },
  {
   "cell_type": "code",
   "execution_count": 1401,
   "id": "0465faab-3f75-486d-93c6-82c52af43a8f",
   "metadata": {},
   "outputs": [
    {
     "data": {
      "text/html": [
       "<div>\n",
       "<style scoped>\n",
       "    .dataframe tbody tr th:only-of-type {\n",
       "        vertical-align: middle;\n",
       "    }\n",
       "\n",
       "    .dataframe tbody tr th {\n",
       "        vertical-align: top;\n",
       "    }\n",
       "\n",
       "    .dataframe thead th {\n",
       "        text-align: right;\n",
       "    }\n",
       "</style>\n",
       "<table border=\"1\" class=\"dataframe\">\n",
       "  <thead>\n",
       "    <tr style=\"text-align: right;\">\n",
       "      <th></th>\n",
       "      <th>country</th>\n",
       "      <th>age_group</th>\n",
       "      <th>travel_with</th>\n",
       "      <th>total_female</th>\n",
       "      <th>total_male</th>\n",
       "      <th>purpose</th>\n",
       "      <th>main_activity</th>\n",
       "      <th>info_source</th>\n",
       "      <th>tour_arrangement</th>\n",
       "      <th>package_transport_int</th>\n",
       "      <th>...</th>\n",
       "      <th>package_sightseeing</th>\n",
       "      <th>package_guided_tour</th>\n",
       "      <th>package_insurance</th>\n",
       "      <th>night_mainland</th>\n",
       "      <th>night_zanzibar</th>\n",
       "      <th>payment_mode</th>\n",
       "      <th>first_trip_tz</th>\n",
       "      <th>most_impressing</th>\n",
       "      <th>total_cost</th>\n",
       "      <th>upcountry</th>\n",
       "    </tr>\n",
       "    <tr>\n",
       "      <th>ID</th>\n",
       "      <th></th>\n",
       "      <th></th>\n",
       "      <th></th>\n",
       "      <th></th>\n",
       "      <th></th>\n",
       "      <th></th>\n",
       "      <th></th>\n",
       "      <th></th>\n",
       "      <th></th>\n",
       "      <th></th>\n",
       "      <th></th>\n",
       "      <th></th>\n",
       "      <th></th>\n",
       "      <th></th>\n",
       "      <th></th>\n",
       "      <th></th>\n",
       "      <th></th>\n",
       "      <th></th>\n",
       "      <th></th>\n",
       "      <th></th>\n",
       "      <th></th>\n",
       "    </tr>\n",
       "  </thead>\n",
       "  <tbody>\n",
       "    <tr>\n",
       "      <th>tour_1007</th>\n",
       "      <td>SOUTH AFRICA</td>\n",
       "      <td>45-64</td>\n",
       "      <td>Alone</td>\n",
       "      <td>0.0</td>\n",
       "      <td>1.0</td>\n",
       "      <td>Business</td>\n",
       "      <td>Mountain climbing</td>\n",
       "      <td>Friends, relatives</td>\n",
       "      <td>Independent</td>\n",
       "      <td>No</td>\n",
       "      <td>...</td>\n",
       "      <td>No</td>\n",
       "      <td>No</td>\n",
       "      <td>No</td>\n",
       "      <td>9</td>\n",
       "      <td>0</td>\n",
       "      <td>Cash</td>\n",
       "      <td>Yes</td>\n",
       "      <td>Friendly People</td>\n",
       "      <td>466140.0</td>\n",
       "      <td>Southern Africa</td>\n",
       "    </tr>\n",
       "    <tr>\n",
       "      <th>tour_1018</th>\n",
       "      <td>MOZAMBIQUE</td>\n",
       "      <td>25-44</td>\n",
       "      <td>Alone</td>\n",
       "      <td>0.0</td>\n",
       "      <td>1.0</td>\n",
       "      <td>Visiting Friends and Relatives</td>\n",
       "      <td>Beach tourism</td>\n",
       "      <td>Friends, relatives</td>\n",
       "      <td>Independent</td>\n",
       "      <td>No</td>\n",
       "      <td>...</td>\n",
       "      <td>No</td>\n",
       "      <td>No</td>\n",
       "      <td>No</td>\n",
       "      <td>2</td>\n",
       "      <td>0</td>\n",
       "      <td>Cash</td>\n",
       "      <td>Yes</td>\n",
       "      <td>Wildlife</td>\n",
       "      <td>497250.0</td>\n",
       "      <td>Southern Africa</td>\n",
       "    </tr>\n",
       "    <tr>\n",
       "      <th>tour_1043</th>\n",
       "      <td>MOZAMBIQUE</td>\n",
       "      <td>2024-01-01 00:00:00</td>\n",
       "      <td>Alone</td>\n",
       "      <td>1.0</td>\n",
       "      <td>0.0</td>\n",
       "      <td>Visiting Friends and Relatives</td>\n",
       "      <td>Hunting tourism</td>\n",
       "      <td>Friends, relatives</td>\n",
       "      <td>Independent</td>\n",
       "      <td>No</td>\n",
       "      <td>...</td>\n",
       "      <td>No</td>\n",
       "      <td>No</td>\n",
       "      <td>No</td>\n",
       "      <td>3</td>\n",
       "      <td>0</td>\n",
       "      <td>Cash</td>\n",
       "      <td>Yes</td>\n",
       "      <td>Excellent Experience</td>\n",
       "      <td>663000.0</td>\n",
       "      <td>Southern Africa</td>\n",
       "    </tr>\n",
       "    <tr>\n",
       "      <th>tour_1047</th>\n",
       "      <td>MALAWI</td>\n",
       "      <td>25-44</td>\n",
       "      <td>Alone</td>\n",
       "      <td>0.0</td>\n",
       "      <td>1.0</td>\n",
       "      <td>Meetings and Conference</td>\n",
       "      <td>Beach tourism</td>\n",
       "      <td>Friends, relatives</td>\n",
       "      <td>Independent</td>\n",
       "      <td>No</td>\n",
       "      <td>...</td>\n",
       "      <td>No</td>\n",
       "      <td>No</td>\n",
       "      <td>No</td>\n",
       "      <td>21</td>\n",
       "      <td>0</td>\n",
       "      <td>Credit Card</td>\n",
       "      <td>No</td>\n",
       "      <td>Friendly People</td>\n",
       "      <td>3000000.0</td>\n",
       "      <td>Southern Africa</td>\n",
       "    </tr>\n",
       "    <tr>\n",
       "      <th>tour_1081</th>\n",
       "      <td>SOUTH AFRICA</td>\n",
       "      <td>25-44</td>\n",
       "      <td>Friends/Relatives</td>\n",
       "      <td>0.0</td>\n",
       "      <td>2.0</td>\n",
       "      <td>Meetings and Conference</td>\n",
       "      <td>Mountain climbing</td>\n",
       "      <td>Travel, agent, tour operator</td>\n",
       "      <td>Independent</td>\n",
       "      <td>No</td>\n",
       "      <td>...</td>\n",
       "      <td>No</td>\n",
       "      <td>No</td>\n",
       "      <td>No</td>\n",
       "      <td>3</td>\n",
       "      <td>0</td>\n",
       "      <td>Cash</td>\n",
       "      <td>Yes</td>\n",
       "      <td>No comments</td>\n",
       "      <td>331500.0</td>\n",
       "      <td>Southern Africa</td>\n",
       "    </tr>\n",
       "    <tr>\n",
       "      <th>...</th>\n",
       "      <td>...</td>\n",
       "      <td>...</td>\n",
       "      <td>...</td>\n",
       "      <td>...</td>\n",
       "      <td>...</td>\n",
       "      <td>...</td>\n",
       "      <td>...</td>\n",
       "      <td>...</td>\n",
       "      <td>...</td>\n",
       "      <td>...</td>\n",
       "      <td>...</td>\n",
       "      <td>...</td>\n",
       "      <td>...</td>\n",
       "      <td>...</td>\n",
       "      <td>...</td>\n",
       "      <td>...</td>\n",
       "      <td>...</td>\n",
       "      <td>...</td>\n",
       "      <td>...</td>\n",
       "      <td>...</td>\n",
       "      <td>...</td>\n",
       "    </tr>\n",
       "    <tr>\n",
       "      <th>tour_916</th>\n",
       "      <td>SOUTH AFRICA</td>\n",
       "      <td>45-64</td>\n",
       "      <td>Alone</td>\n",
       "      <td>0.0</td>\n",
       "      <td>1.0</td>\n",
       "      <td>Meetings and Conference</td>\n",
       "      <td>Mountain climbing</td>\n",
       "      <td>Friends, relatives</td>\n",
       "      <td>Independent</td>\n",
       "      <td>No</td>\n",
       "      <td>...</td>\n",
       "      <td>No</td>\n",
       "      <td>No</td>\n",
       "      <td>No</td>\n",
       "      <td>5</td>\n",
       "      <td>0</td>\n",
       "      <td>Cash</td>\n",
       "      <td>Yes</td>\n",
       "      <td>Friendly People</td>\n",
       "      <td>828750.0</td>\n",
       "      <td>Southern Africa</td>\n",
       "    </tr>\n",
       "    <tr>\n",
       "      <th>tour_920</th>\n",
       "      <td>SOUTH AFRICA</td>\n",
       "      <td>45-64</td>\n",
       "      <td>Friends/Relatives</td>\n",
       "      <td>2.0</td>\n",
       "      <td>2.0</td>\n",
       "      <td>Leisure and Holidays</td>\n",
       "      <td>Wildlife tourism</td>\n",
       "      <td>Travel, agent, tour operator</td>\n",
       "      <td>Package Tour</td>\n",
       "      <td>Yes</td>\n",
       "      <td>...</td>\n",
       "      <td>Yes</td>\n",
       "      <td>No</td>\n",
       "      <td>No</td>\n",
       "      <td>5</td>\n",
       "      <td>9</td>\n",
       "      <td>Cash</td>\n",
       "      <td>No</td>\n",
       "      <td>Wildlife</td>\n",
       "      <td>34807500.0</td>\n",
       "      <td>Southern Africa</td>\n",
       "    </tr>\n",
       "    <tr>\n",
       "      <th>tour_944</th>\n",
       "      <td>SOUTH AFRICA</td>\n",
       "      <td>25-44</td>\n",
       "      <td>Alone</td>\n",
       "      <td>0.0</td>\n",
       "      <td>1.0</td>\n",
       "      <td>Business</td>\n",
       "      <td>Wildlife tourism</td>\n",
       "      <td>inflight magazines</td>\n",
       "      <td>Independent</td>\n",
       "      <td>No</td>\n",
       "      <td>...</td>\n",
       "      <td>No</td>\n",
       "      <td>No</td>\n",
       "      <td>No</td>\n",
       "      <td>4</td>\n",
       "      <td>0</td>\n",
       "      <td>Cash</td>\n",
       "      <td>No</td>\n",
       "      <td>Friendly People</td>\n",
       "      <td>828750.0</td>\n",
       "      <td>Southern Africa</td>\n",
       "    </tr>\n",
       "    <tr>\n",
       "      <th>tour_983</th>\n",
       "      <td>SOUTH AFRICA</td>\n",
       "      <td>25-44</td>\n",
       "      <td>Alone</td>\n",
       "      <td>0.0</td>\n",
       "      <td>1.0</td>\n",
       "      <td>Meetings and Conference</td>\n",
       "      <td>Mountain climbing</td>\n",
       "      <td>Travel, agent, tour operator</td>\n",
       "      <td>Independent</td>\n",
       "      <td>No</td>\n",
       "      <td>...</td>\n",
       "      <td>No</td>\n",
       "      <td>No</td>\n",
       "      <td>No</td>\n",
       "      <td>3</td>\n",
       "      <td>0</td>\n",
       "      <td>Cash</td>\n",
       "      <td>Yes</td>\n",
       "      <td>Friendly People</td>\n",
       "      <td>1657500.0</td>\n",
       "      <td>Southern Africa</td>\n",
       "    </tr>\n",
       "    <tr>\n",
       "      <th>tour_997</th>\n",
       "      <td>SOUTH AFRICA</td>\n",
       "      <td>25-44</td>\n",
       "      <td>Friends/Relatives</td>\n",
       "      <td>1.0</td>\n",
       "      <td>1.0</td>\n",
       "      <td>Business</td>\n",
       "      <td>Beach tourism</td>\n",
       "      <td>Travel, agent, tour operator</td>\n",
       "      <td>Independent</td>\n",
       "      <td>Yes</td>\n",
       "      <td>...</td>\n",
       "      <td>No</td>\n",
       "      <td>No</td>\n",
       "      <td>No</td>\n",
       "      <td>5</td>\n",
       "      <td>0</td>\n",
       "      <td>Credit Card</td>\n",
       "      <td>No</td>\n",
       "      <td>Friendly People</td>\n",
       "      <td>1160250.0</td>\n",
       "      <td>Southern Africa</td>\n",
       "    </tr>\n",
       "  </tbody>\n",
       "</table>\n",
       "<p>732 rows × 23 columns</p>\n",
       "</div>"
      ],
      "text/plain": [
       "                country            age_group        travel_with  total_female  \\\n",
       "ID                                                                              \n",
       "tour_1007  SOUTH AFRICA                45-64              Alone           0.0   \n",
       "tour_1018    MOZAMBIQUE                25-44              Alone           0.0   \n",
       "tour_1043    MOZAMBIQUE  2024-01-01 00:00:00              Alone           1.0   \n",
       "tour_1047        MALAWI                25-44              Alone           0.0   \n",
       "tour_1081  SOUTH AFRICA                25-44  Friends/Relatives           0.0   \n",
       "...                 ...                  ...                ...           ...   \n",
       "tour_916   SOUTH AFRICA                45-64              Alone           0.0   \n",
       "tour_920   SOUTH AFRICA                45-64  Friends/Relatives           2.0   \n",
       "tour_944   SOUTH AFRICA                25-44              Alone           0.0   \n",
       "tour_983   SOUTH AFRICA                25-44              Alone           0.0   \n",
       "tour_997   SOUTH AFRICA                25-44  Friends/Relatives           1.0   \n",
       "\n",
       "           total_male                         purpose      main_activity  \\\n",
       "ID                                                                         \n",
       "tour_1007         1.0                        Business  Mountain climbing   \n",
       "tour_1018         1.0  Visiting Friends and Relatives      Beach tourism   \n",
       "tour_1043         0.0  Visiting Friends and Relatives    Hunting tourism   \n",
       "tour_1047         1.0         Meetings and Conference      Beach tourism   \n",
       "tour_1081         2.0         Meetings and Conference  Mountain climbing   \n",
       "...               ...                             ...                ...   \n",
       "tour_916          1.0         Meetings and Conference  Mountain climbing   \n",
       "tour_920          2.0            Leisure and Holidays   Wildlife tourism   \n",
       "tour_944          1.0                        Business   Wildlife tourism   \n",
       "tour_983          1.0         Meetings and Conference  Mountain climbing   \n",
       "tour_997          1.0                        Business      Beach tourism   \n",
       "\n",
       "                            info_source tour_arrangement  \\\n",
       "ID                                                         \n",
       "tour_1007            Friends, relatives      Independent   \n",
       "tour_1018            Friends, relatives      Independent   \n",
       "tour_1043            Friends, relatives      Independent   \n",
       "tour_1047            Friends, relatives      Independent   \n",
       "tour_1081  Travel, agent, tour operator      Independent   \n",
       "...                                 ...              ...   \n",
       "tour_916             Friends, relatives      Independent   \n",
       "tour_920   Travel, agent, tour operator     Package Tour   \n",
       "tour_944             inflight magazines      Independent   \n",
       "tour_983   Travel, agent, tour operator      Independent   \n",
       "tour_997   Travel, agent, tour operator      Independent   \n",
       "\n",
       "          package_transport_int  ... package_sightseeing package_guided_tour  \\\n",
       "ID                               ...                                           \n",
       "tour_1007                    No  ...                  No                  No   \n",
       "tour_1018                    No  ...                  No                  No   \n",
       "tour_1043                    No  ...                  No                  No   \n",
       "tour_1047                    No  ...                  No                  No   \n",
       "tour_1081                    No  ...                  No                  No   \n",
       "...                         ...  ...                 ...                 ...   \n",
       "tour_916                     No  ...                  No                  No   \n",
       "tour_920                    Yes  ...                 Yes                  No   \n",
       "tour_944                     No  ...                  No                  No   \n",
       "tour_983                     No  ...                  No                  No   \n",
       "tour_997                    Yes  ...                  No                  No   \n",
       "\n",
       "          package_insurance night_mainland night_zanzibar payment_mode  \\\n",
       "ID                                                                       \n",
       "tour_1007                No              9              0         Cash   \n",
       "tour_1018                No              2              0         Cash   \n",
       "tour_1043                No              3              0         Cash   \n",
       "tour_1047                No             21              0  Credit Card   \n",
       "tour_1081                No              3              0         Cash   \n",
       "...                     ...            ...            ...          ...   \n",
       "tour_916                 No              5              0         Cash   \n",
       "tour_920                 No              5              9         Cash   \n",
       "tour_944                 No              4              0         Cash   \n",
       "tour_983                 No              3              0         Cash   \n",
       "tour_997                 No              5              0  Credit Card   \n",
       "\n",
       "           first_trip_tz       most_impressing  total_cost        upcountry  \n",
       "ID                                                                           \n",
       "tour_1007            Yes       Friendly People    466140.0  Southern Africa  \n",
       "tour_1018            Yes              Wildlife    497250.0  Southern Africa  \n",
       "tour_1043            Yes  Excellent Experience    663000.0  Southern Africa  \n",
       "tour_1047             No       Friendly People   3000000.0  Southern Africa  \n",
       "tour_1081            Yes           No comments    331500.0  Southern Africa  \n",
       "...                  ...                   ...         ...              ...  \n",
       "tour_916             Yes       Friendly People    828750.0  Southern Africa  \n",
       "tour_920              No              Wildlife  34807500.0  Southern Africa  \n",
       "tour_944              No       Friendly People    828750.0  Southern Africa  \n",
       "tour_983             Yes       Friendly People   1657500.0  Southern Africa  \n",
       "tour_997              No       Friendly People   1160250.0  Southern Africa  \n",
       "\n",
       "[732 rows x 23 columns]"
      ]
     },
     "execution_count": 1401,
     "metadata": {},
     "output_type": "execute_result"
    }
   ],
   "source": [
    "south"
   ]
  },
  {
   "cell_type": "markdown",
   "id": "7a7efd32-d0be-4a07-9c1f-295d9013002b",
   "metadata": {},
   "source": [
    "## West Africa"
   ]
  },
  {
   "cell_type": "code",
   "execution_count": null,
   "id": "676379b6-18f4-4dca-9e44-d9609a97bb2c",
   "metadata": {},
   "outputs": [],
   "source": []
  },
  {
   "cell_type": "code",
   "execution_count": 1402,
   "id": "173a6f30-520b-457d-b009-33d21af88ce6",
   "metadata": {},
   "outputs": [
    {
     "name": "stderr",
     "output_type": "stream",
     "text": [
      "C:\\Users\\KOFI ADUKPO\\AppData\\Local\\Temp\\ipykernel_4848\\3885326720.py:1: DeprecationWarning: find_element_by_xpath is deprecated. Please use find_element(by=By.XPATH, value=xpath) instead\n",
      "  i = driver.find_element_by_xpath(\"(//tbody)[5]\")\n"
     ]
    }
   ],
   "source": [
    "i = driver.find_element_by_xpath(\"(//tbody)[5]\")"
   ]
  },
  {
   "cell_type": "code",
   "execution_count": null,
   "id": "bd947542-3edd-423b-8a97-efb845a1bb0b",
   "metadata": {},
   "outputs": [],
   "source": []
  },
  {
   "cell_type": "code",
   "execution_count": 1403,
   "id": "4bc56963-84ef-4eb2-9e44-ca090e97f52d",
   "metadata": {},
   "outputs": [],
   "source": [
    "text = i.text\n",
    "#(//tbody)[1]"
   ]
  },
  {
   "cell_type": "code",
   "execution_count": 1404,
   "id": "ef386c3b-f855-410a-a6ed-ebd63eac89a9",
   "metadata": {},
   "outputs": [
    {
     "data": {
      "text/plain": [
       "str"
      ]
     },
     "execution_count": 1404,
     "metadata": {},
     "output_type": "execute_result"
    }
   ],
   "source": [
    "type(text)"
   ]
  },
  {
   "cell_type": "code",
   "execution_count": 1405,
   "id": "c4b17978-3b80-4333-a2f0-55f1b211102e",
   "metadata": {},
   "outputs": [],
   "source": [
    "rep = text.replace(\"\\n\", \". \")"
   ]
  },
  {
   "cell_type": "code",
   "execution_count": 1406,
   "id": "a204c8df-6eab-4ede-b070-64d55393f45f",
   "metadata": {},
   "outputs": [],
   "source": [
    "import re\n",
    "expression = re.compile(r'([A-Z][^\\.!?]*[\\.!?])')\n",
    "new_list = re.findall(expression, rep)"
   ]
  },
  {
   "cell_type": "code",
   "execution_count": 1407,
   "id": "1f1deb75-8fc0-4c0f-8b3a-62e51a825985",
   "metadata": {},
   "outputs": [
    {
     "data": {
      "text/plain": [
       "['Member State  Abbreviation  Date of joining.',\n",
       " 'OAU or AU.',\n",
       " 'Republic of Benin   Benin 25 May 1963.',\n",
       " 'Burkina Faso  Burkina Faso 25 May 1963.',\n",
       " 'Republic of Cabo Verde   Cabo Verde 18 July 1975.',\n",
       " 'Republic of Côte d’Ivoire   Côte d’Ivoire 25 May 1963.',\n",
       " 'Republic of the Gambia   Gambia  9 March 1965.',\n",
       " 'Republic of Ghana   Ghana  25 May 1963.',\n",
       " 'Republic of Guinea  Guinea  25 May 1963.',\n",
       " 'Republic of Guinea-Bissau  Guinea-Bissau  19 November 1973.',\n",
       " 'Republic of Liberia  Liberia  25 May 1963.',\n",
       " 'Republic of Mali  Mali  25 May 1963.',\n",
       " 'Republic of Niger  Niger  25 May 1963.',\n",
       " 'Federal Republic of Nigeria  Nigeria  25 May 1963.',\n",
       " 'Republic of Senegal  Senegal  25 May 1963.',\n",
       " 'Republic of Sierra Leone  Sierra Leone  25 May 1963.']"
      ]
     },
     "execution_count": 1407,
     "metadata": {},
     "output_type": "execute_result"
    }
   ],
   "source": [
    "new_list"
   ]
  },
  {
   "cell_type": "code",
   "execution_count": null,
   "id": "28518e6e-64af-4ad6-b883-025bcaf75b71",
   "metadata": {},
   "outputs": [],
   "source": []
  },
  {
   "cell_type": "code",
   "execution_count": 1408,
   "id": "5adfdda9-be92-415a-b824-7b1764e9c758",
   "metadata": {},
   "outputs": [],
   "source": [
    "converted_list = [x.upper() for x in new_list]"
   ]
  },
  {
   "cell_type": "code",
   "execution_count": 1409,
   "id": "80a0281d-642c-442f-8f61-0afd181fdd63",
   "metadata": {},
   "outputs": [
    {
     "data": {
      "text/plain": [
       "['MEMBER STATE  ABBREVIATION  DATE OF JOINING.',\n",
       " 'OAU OR AU.',\n",
       " 'REPUBLIC OF BENIN   BENIN 25 MAY 1963.',\n",
       " 'BURKINA FASO  BURKINA FASO 25 MAY 1963.',\n",
       " 'REPUBLIC OF CABO VERDE   CABO VERDE 18 JULY 1975.',\n",
       " 'REPUBLIC OF CÔTE D’IVOIRE   CÔTE D’IVOIRE 25 MAY 1963.',\n",
       " 'REPUBLIC OF THE GAMBIA   GAMBIA  9 MARCH 1965.',\n",
       " 'REPUBLIC OF GHANA   GHANA  25 MAY 1963.',\n",
       " 'REPUBLIC OF GUINEA  GUINEA  25 MAY 1963.',\n",
       " 'REPUBLIC OF GUINEA-BISSAU  GUINEA-BISSAU  19 NOVEMBER 1973.',\n",
       " 'REPUBLIC OF LIBERIA  LIBERIA  25 MAY 1963.',\n",
       " 'REPUBLIC OF MALI  MALI  25 MAY 1963.',\n",
       " 'REPUBLIC OF NIGER  NIGER  25 MAY 1963.',\n",
       " 'FEDERAL REPUBLIC OF NIGERIA  NIGERIA  25 MAY 1963.',\n",
       " 'REPUBLIC OF SENEGAL  SENEGAL  25 MAY 1963.',\n",
       " 'REPUBLIC OF SIERRA LEONE  SIERRA LEONE  25 MAY 1963.']"
      ]
     },
     "execution_count": 1409,
     "metadata": {},
     "output_type": "execute_result"
    }
   ],
   "source": [
    "converted_list"
   ]
  },
  {
   "cell_type": "code",
   "execution_count": null,
   "id": "9192d412-c224-459e-a1c7-71397664f236",
   "metadata": {},
   "outputs": [],
   "source": []
  },
  {
   "cell_type": "code",
   "execution_count": 1410,
   "id": "a1d1a66c-d7e8-43da-aac4-dc6b4cfd2522",
   "metadata": {},
   "outputs": [],
   "source": [
    "co = str(converted_list)"
   ]
  },
  {
   "cell_type": "code",
   "execution_count": 1411,
   "id": "9f1e78af-fea3-4a21-b399-5bb3e04a2390",
   "metadata": {},
   "outputs": [],
   "source": [
    "from itertools import chain"
   ]
  },
  {
   "cell_type": "code",
   "execution_count": 1412,
   "id": "5915e4cd-e23f-4702-a859-3e7e557d2a6b",
   "metadata": {},
   "outputs": [],
   "source": [
    "coming = ' '.join(str(v) for v in converted_list)"
   ]
  },
  {
   "cell_type": "code",
   "execution_count": 1413,
   "id": "99b8191a-16de-4423-9eb2-cf88fbdcaf1e",
   "metadata": {},
   "outputs": [
    {
     "data": {
      "text/plain": [
       "'MEMBER STATE  ABBREVIATION  DATE OF JOINING. OAU OR AU. REPUBLIC OF BENIN   BENIN 25 MAY 1963. BURKINA FASO  BURKINA FASO 25 MAY 1963. REPUBLIC OF CABO VERDE   CABO VERDE 18 JULY 1975. REPUBLIC OF CÔTE D’IVOIRE   CÔTE D’IVOIRE 25 MAY 1963. REPUBLIC OF THE GAMBIA   GAMBIA  9 MARCH 1965. REPUBLIC OF GHANA   GHANA  25 MAY 1963. REPUBLIC OF GUINEA  GUINEA  25 MAY 1963. REPUBLIC OF GUINEA-BISSAU  GUINEA-BISSAU  19 NOVEMBER 1973. REPUBLIC OF LIBERIA  LIBERIA  25 MAY 1963. REPUBLIC OF MALI  MALI  25 MAY 1963. REPUBLIC OF NIGER  NIGER  25 MAY 1963. FEDERAL REPUBLIC OF NIGERIA  NIGERIA  25 MAY 1963. REPUBLIC OF SENEGAL  SENEGAL  25 MAY 1963. REPUBLIC OF SIERRA LEONE  SIERRA LEONE  25 MAY 1963.'"
      ]
     },
     "execution_count": 1413,
     "metadata": {},
     "output_type": "execute_result"
    }
   ],
   "source": [
    "coming"
   ]
  },
  {
   "cell_type": "code",
   "execution_count": 1414,
   "id": "230a5f40-b3ae-4f0c-b78d-916385826b1f",
   "metadata": {},
   "outputs": [],
   "source": [
    "come = coming.replace(\".\", \"\")\n",
    "com = come.replace(\"REPUBLIC\", \"\")\n",
    "come= com.replace(\"OF\", \"\")\n"
   ]
  },
  {
   "cell_type": "code",
   "execution_count": 1415,
   "id": "aae66179-38be-482e-93c1-030cb2ce0cdb",
   "metadata": {},
   "outputs": [
    {
     "data": {
      "text/plain": [
       "'MEMBER STATE  ABBREVIATION  DATE  JOINING OAU OR AU   BENIN   BENIN 25 MAY 1963 BURKINA FASO  BURKINA FASO 25 MAY 1963   CABO VERDE   CABO VERDE 18 JULY 1975   CÔTE D’IVOIRE   CÔTE D’IVOIRE 25 MAY 1963   THE GAMBIA   GAMBIA  9 MARCH 1965   GHANA   GHANA  25 MAY 1963   GUINEA  GUINEA  25 MAY 1963   GUINEA-BISSAU  GUINEA-BISSAU  19 NOVEMBER 1973   LIBERIA  LIBERIA  25 MAY 1963   MALI  MALI  25 MAY 1963   NIGER  NIGER  25 MAY 1963 FEDERAL   NIGERIA  NIGERIA  25 MAY 1963   SENEGAL  SENEGAL  25 MAY 1963   SIERRA LEONE  SIERRA LEONE  25 MAY 1963'"
      ]
     },
     "execution_count": 1415,
     "metadata": {},
     "output_type": "execute_result"
    }
   ],
   "source": [
    "come"
   ]
  },
  {
   "cell_type": "code",
   "execution_count": 1416,
   "id": "8de8f63a-4519-47a4-86f4-28916e496f4e",
   "metadata": {},
   "outputs": [],
   "source": [
    "# i need to get the intersection of countries"
   ]
  },
  {
   "cell_type": "code",
   "execution_count": null,
   "id": "ccbe95c1-1c3c-4553-925e-3f828ae6c91b",
   "metadata": {},
   "outputs": [],
   "source": []
  },
  {
   "cell_type": "code",
   "execution_count": 1417,
   "id": "25344946-e7ac-4c51-981f-9af6f3d84c72",
   "metadata": {},
   "outputs": [],
   "source": [
    "#movi\n",
    "#come\n",
    "\n",
    "read = set(result.split()) & set(come.split())"
   ]
  },
  {
   "cell_type": "code",
   "execution_count": 1418,
   "id": "54786374-9214-45fd-83cd-7f3f104af28e",
   "metadata": {},
   "outputs": [],
   "source": [
    "readd = list(read)"
   ]
  },
  {
   "cell_type": "code",
   "execution_count": 1419,
   "id": "cda36442-0ce8-4860-92cd-e8f3225af385",
   "metadata": {},
   "outputs": [],
   "source": [
    "readd.append(\"CAPE VERDE\")\n",
    "readd.append(\"IVORY COAST\")\n"
   ]
  },
  {
   "cell_type": "code",
   "execution_count": 1420,
   "id": "edef0f49-9cf3-42fa-9e39-a2511a1ff7a9",
   "metadata": {},
   "outputs": [
    {
     "data": {
      "text/plain": [
       "['GHANA', 'VERDE', 'NIGERIA', 'NIGER', 'CAPE VERDE', 'IVORY COAST']"
      ]
     },
     "execution_count": 1420,
     "metadata": {},
     "output_type": "execute_result"
    }
   ],
   "source": [
    "readd"
   ]
  },
  {
   "cell_type": "code",
   "execution_count": 1421,
   "id": "3879311c-e2f6-4ce4-90c5-04b0f95e3762",
   "metadata": {},
   "outputs": [],
   "source": [
    "i = len(readd)"
   ]
  },
  {
   "cell_type": "code",
   "execution_count": 1422,
   "id": "7cfcc661-2b69-48e3-b85b-70354750c757",
   "metadata": {},
   "outputs": [],
   "source": [
    "matches = []\n",
    "\n",
    "for match in list1:\n",
    "    if readd[i-1] in match:\n",
    "        matches.append(match)\n",
    "        i-=1"
   ]
  },
  {
   "cell_type": "code",
   "execution_count": 1423,
   "id": "e4f0fe3f-8368-47d1-b97c-02effdee1b24",
   "metadata": {},
   "outputs": [
    {
     "data": {
      "text/plain": [
       "list"
      ]
     },
     "execution_count": 1423,
     "metadata": {},
     "output_type": "execute_result"
    }
   ],
   "source": [
    "type(matches)"
   ]
  },
  {
   "cell_type": "code",
   "execution_count": 1424,
   "id": "c882d2a9-71ca-499d-ba63-0f9bffa35ac8",
   "metadata": {},
   "outputs": [],
   "source": [
    "i = len(readd)"
   ]
  },
  {
   "cell_type": "code",
   "execution_count": 1425,
   "id": "dd10073c-a1bc-4965-aa77-a92d585c6d62",
   "metadata": {},
   "outputs": [
    {
     "data": {
      "text/plain": [
       "6"
      ]
     },
     "execution_count": 1425,
     "metadata": {},
     "output_type": "execute_result"
    }
   ],
   "source": [
    "i"
   ]
  },
  {
   "cell_type": "code",
   "execution_count": 1426,
   "id": "13e8bbb0-f234-48d4-a941-eb6ccd9fcbb5",
   "metadata": {},
   "outputs": [
    {
     "data": {
      "text/plain": [
       "'IVORY COAST'"
      ]
     },
     "execution_count": 1426,
     "metadata": {},
     "output_type": "execute_result"
    }
   ],
   "source": [
    "readd[i-1]"
   ]
  },
  {
   "cell_type": "code",
   "execution_count": 1427,
   "id": "3e5f28f7-9bb2-4fff-bc43-bf09d53c6f93",
   "metadata": {},
   "outputs": [
    {
     "data": {
      "text/plain": [
       "pandas.core.frame.DataFrame"
      ]
     },
     "execution_count": 1427,
     "metadata": {},
     "output_type": "execute_result"
    }
   ],
   "source": [
    "type(df)"
   ]
  },
  {
   "cell_type": "code",
   "execution_count": 1428,
   "id": "b072b5b3-0f37-4007-b89f-b9386eb791e5",
   "metadata": {},
   "outputs": [],
   "source": [
    "df.upcountry.replace(readd, 'West Africa', inplace=True)"
   ]
  },
  {
   "cell_type": "code",
   "execution_count": 1429,
   "id": "faa4f4c7-86e5-4066-852a-6fb167ca1544",
   "metadata": {},
   "outputs": [],
   "source": [
    "west = df[df['upcountry'] == 'West Africa' ]\n",
    "#i=df[df[‘Name’]==’Will’]\n",
    "#print(i)"
   ]
  },
  {
   "cell_type": "code",
   "execution_count": 1430,
   "id": "92f3eadd-e94e-4308-9e19-cbfbb1d051a3",
   "metadata": {
    "tags": []
   },
   "outputs": [
    {
     "data": {
      "text/html": [
       "<div>\n",
       "<style scoped>\n",
       "    .dataframe tbody tr th:only-of-type {\n",
       "        vertical-align: middle;\n",
       "    }\n",
       "\n",
       "    .dataframe tbody tr th {\n",
       "        vertical-align: top;\n",
       "    }\n",
       "\n",
       "    .dataframe thead th {\n",
       "        text-align: right;\n",
       "    }\n",
       "</style>\n",
       "<table border=\"1\" class=\"dataframe\">\n",
       "  <thead>\n",
       "    <tr style=\"text-align: right;\">\n",
       "      <th></th>\n",
       "      <th>country</th>\n",
       "      <th>age_group</th>\n",
       "      <th>travel_with</th>\n",
       "      <th>total_female</th>\n",
       "      <th>total_male</th>\n",
       "      <th>purpose</th>\n",
       "      <th>main_activity</th>\n",
       "      <th>info_source</th>\n",
       "      <th>tour_arrangement</th>\n",
       "      <th>package_transport_int</th>\n",
       "      <th>...</th>\n",
       "      <th>package_sightseeing</th>\n",
       "      <th>package_guided_tour</th>\n",
       "      <th>package_insurance</th>\n",
       "      <th>night_mainland</th>\n",
       "      <th>night_zanzibar</th>\n",
       "      <th>payment_mode</th>\n",
       "      <th>first_trip_tz</th>\n",
       "      <th>most_impressing</th>\n",
       "      <th>total_cost</th>\n",
       "      <th>upcountry</th>\n",
       "    </tr>\n",
       "    <tr>\n",
       "      <th>ID</th>\n",
       "      <th></th>\n",
       "      <th></th>\n",
       "      <th></th>\n",
       "      <th></th>\n",
       "      <th></th>\n",
       "      <th></th>\n",
       "      <th></th>\n",
       "      <th></th>\n",
       "      <th></th>\n",
       "      <th></th>\n",
       "      <th></th>\n",
       "      <th></th>\n",
       "      <th></th>\n",
       "      <th></th>\n",
       "      <th></th>\n",
       "      <th></th>\n",
       "      <th></th>\n",
       "      <th></th>\n",
       "      <th></th>\n",
       "      <th></th>\n",
       "      <th></th>\n",
       "    </tr>\n",
       "  </thead>\n",
       "  <tbody>\n",
       "    <tr>\n",
       "      <th>tour_101</th>\n",
       "      <td>NIGERIA</td>\n",
       "      <td>25-44</td>\n",
       "      <td>Alone</td>\n",
       "      <td>0.0</td>\n",
       "      <td>1.0</td>\n",
       "      <td>Leisure and Holidays</td>\n",
       "      <td>Cultural tourism</td>\n",
       "      <td>Travel, agent, tour operator</td>\n",
       "      <td>Independent</td>\n",
       "      <td>No</td>\n",
       "      <td>...</td>\n",
       "      <td>No</td>\n",
       "      <td>No</td>\n",
       "      <td>No</td>\n",
       "      <td>4</td>\n",
       "      <td>0</td>\n",
       "      <td>Cash</td>\n",
       "      <td>Yes</td>\n",
       "      <td>Friendly People</td>\n",
       "      <td>994500.0</td>\n",
       "      <td>West Africa</td>\n",
       "    </tr>\n",
       "    <tr>\n",
       "      <th>tour_174</th>\n",
       "      <td>GHANA</td>\n",
       "      <td>25-44</td>\n",
       "      <td>Alone</td>\n",
       "      <td>1.0</td>\n",
       "      <td>0.0</td>\n",
       "      <td>Meetings and Conference</td>\n",
       "      <td>Mountain climbing</td>\n",
       "      <td>Travel, agent, tour operator</td>\n",
       "      <td>Independent</td>\n",
       "      <td>No</td>\n",
       "      <td>...</td>\n",
       "      <td>No</td>\n",
       "      <td>No</td>\n",
       "      <td>No</td>\n",
       "      <td>5</td>\n",
       "      <td>0</td>\n",
       "      <td>Cash</td>\n",
       "      <td>Yes</td>\n",
       "      <td>Friendly People</td>\n",
       "      <td>828750.0</td>\n",
       "      <td>West Africa</td>\n",
       "    </tr>\n",
       "    <tr>\n",
       "      <th>tour_1741</th>\n",
       "      <td>NIGER</td>\n",
       "      <td>25-44</td>\n",
       "      <td>Spouse and Children</td>\n",
       "      <td>2.0</td>\n",
       "      <td>1.0</td>\n",
       "      <td>Leisure and Holidays</td>\n",
       "      <td>Beach tourism</td>\n",
       "      <td>Friends, relatives</td>\n",
       "      <td>Independent</td>\n",
       "      <td>No</td>\n",
       "      <td>...</td>\n",
       "      <td>No</td>\n",
       "      <td>No</td>\n",
       "      <td>No</td>\n",
       "      <td>4</td>\n",
       "      <td>16</td>\n",
       "      <td>Credit Card</td>\n",
       "      <td>No</td>\n",
       "      <td>Friendly People</td>\n",
       "      <td>4972500.0</td>\n",
       "      <td>West Africa</td>\n",
       "    </tr>\n",
       "    <tr>\n",
       "      <th>tour_217</th>\n",
       "      <td>GHANA</td>\n",
       "      <td>45-64</td>\n",
       "      <td>Friends/Relatives</td>\n",
       "      <td>0.0</td>\n",
       "      <td>2.0</td>\n",
       "      <td>Business</td>\n",
       "      <td>Wildlife tourism</td>\n",
       "      <td>Trade fair</td>\n",
       "      <td>Independent</td>\n",
       "      <td>No</td>\n",
       "      <td>...</td>\n",
       "      <td>No</td>\n",
       "      <td>No</td>\n",
       "      <td>No</td>\n",
       "      <td>30</td>\n",
       "      <td>0</td>\n",
       "      <td>Cash</td>\n",
       "      <td>Yes</td>\n",
       "      <td>No comments</td>\n",
       "      <td>10000000.0</td>\n",
       "      <td>West Africa</td>\n",
       "    </tr>\n",
       "    <tr>\n",
       "      <th>tour_2719</th>\n",
       "      <td>NIGERIA</td>\n",
       "      <td>25-44</td>\n",
       "      <td>Alone</td>\n",
       "      <td>0.0</td>\n",
       "      <td>1.0</td>\n",
       "      <td>Visiting Friends and Relatives</td>\n",
       "      <td>Wildlife tourism</td>\n",
       "      <td>Friends, relatives</td>\n",
       "      <td>Independent</td>\n",
       "      <td>No</td>\n",
       "      <td>...</td>\n",
       "      <td>No</td>\n",
       "      <td>No</td>\n",
       "      <td>No</td>\n",
       "      <td>7</td>\n",
       "      <td>0</td>\n",
       "      <td>Cash</td>\n",
       "      <td>No</td>\n",
       "      <td>Friendly People</td>\n",
       "      <td>250282.5</td>\n",
       "      <td>West Africa</td>\n",
       "    </tr>\n",
       "    <tr>\n",
       "      <th>tour_3050</th>\n",
       "      <td>CAPE VERDE</td>\n",
       "      <td>45-64</td>\n",
       "      <td>Friends/Relatives</td>\n",
       "      <td>0.0</td>\n",
       "      <td>3.0</td>\n",
       "      <td>Meetings and Conference</td>\n",
       "      <td>Mountain climbing</td>\n",
       "      <td>Newspaper, magazines,brochures</td>\n",
       "      <td>Independent</td>\n",
       "      <td>No</td>\n",
       "      <td>...</td>\n",
       "      <td>No</td>\n",
       "      <td>No</td>\n",
       "      <td>No</td>\n",
       "      <td>2</td>\n",
       "      <td>0</td>\n",
       "      <td>Cash</td>\n",
       "      <td>No</td>\n",
       "      <td>No comments</td>\n",
       "      <td>663000.0</td>\n",
       "      <td>West Africa</td>\n",
       "    </tr>\n",
       "    <tr>\n",
       "      <th>tour_4135</th>\n",
       "      <td>IVORY COAST</td>\n",
       "      <td>45-64</td>\n",
       "      <td>Alone</td>\n",
       "      <td>1.0</td>\n",
       "      <td>0.0</td>\n",
       "      <td>Leisure and Holidays</td>\n",
       "      <td>Hunting tourism</td>\n",
       "      <td>Travel, agent, tour operator</td>\n",
       "      <td>Package Tour</td>\n",
       "      <td>Yes</td>\n",
       "      <td>...</td>\n",
       "      <td>No</td>\n",
       "      <td>Yes</td>\n",
       "      <td>Yes</td>\n",
       "      <td>10</td>\n",
       "      <td>4</td>\n",
       "      <td>Credit Card</td>\n",
       "      <td>Yes</td>\n",
       "      <td>Friendly People</td>\n",
       "      <td>7210125.0</td>\n",
       "      <td>West Africa</td>\n",
       "    </tr>\n",
       "    <tr>\n",
       "      <th>tour_5068</th>\n",
       "      <td>NIGERIA</td>\n",
       "      <td>2024-01-01 00:00:00</td>\n",
       "      <td>Alone</td>\n",
       "      <td>0.0</td>\n",
       "      <td>1.0</td>\n",
       "      <td>Business</td>\n",
       "      <td>Wildlife tourism</td>\n",
       "      <td>Friends, relatives</td>\n",
       "      <td>Independent</td>\n",
       "      <td>No</td>\n",
       "      <td>...</td>\n",
       "      <td>No</td>\n",
       "      <td>No</td>\n",
       "      <td>No</td>\n",
       "      <td>14</td>\n",
       "      <td>0</td>\n",
       "      <td>Cash</td>\n",
       "      <td>Yes</td>\n",
       "      <td>Excellent Experience</td>\n",
       "      <td>497250.0</td>\n",
       "      <td>West Africa</td>\n",
       "    </tr>\n",
       "    <tr>\n",
       "      <th>tour_6412</th>\n",
       "      <td>NIGERIA</td>\n",
       "      <td>25-44</td>\n",
       "      <td>Alone</td>\n",
       "      <td>0.0</td>\n",
       "      <td>1.0</td>\n",
       "      <td>Business</td>\n",
       "      <td>Wildlife tourism</td>\n",
       "      <td>Friends, relatives</td>\n",
       "      <td>Independent</td>\n",
       "      <td>No</td>\n",
       "      <td>...</td>\n",
       "      <td>No</td>\n",
       "      <td>No</td>\n",
       "      <td>No</td>\n",
       "      <td>35</td>\n",
       "      <td>0</td>\n",
       "      <td>Cash</td>\n",
       "      <td>No</td>\n",
       "      <td>Good service</td>\n",
       "      <td>50000.0</td>\n",
       "      <td>West Africa</td>\n",
       "    </tr>\n",
       "  </tbody>\n",
       "</table>\n",
       "<p>9 rows × 23 columns</p>\n",
       "</div>"
      ],
      "text/plain": [
       "               country            age_group          travel_with  \\\n",
       "ID                                                                 \n",
       "tour_101       NIGERIA                25-44                Alone   \n",
       "tour_174         GHANA                25-44                Alone   \n",
       "tour_1741        NIGER                25-44  Spouse and Children   \n",
       "tour_217         GHANA                45-64    Friends/Relatives   \n",
       "tour_2719      NIGERIA                25-44                Alone   \n",
       "tour_3050   CAPE VERDE                45-64    Friends/Relatives   \n",
       "tour_4135  IVORY COAST                45-64                Alone   \n",
       "tour_5068      NIGERIA  2024-01-01 00:00:00                Alone   \n",
       "tour_6412      NIGERIA                25-44                Alone   \n",
       "\n",
       "           total_female  total_male                         purpose  \\\n",
       "ID                                                                    \n",
       "tour_101            0.0         1.0            Leisure and Holidays   \n",
       "tour_174            1.0         0.0         Meetings and Conference   \n",
       "tour_1741           2.0         1.0            Leisure and Holidays   \n",
       "tour_217            0.0         2.0                        Business   \n",
       "tour_2719           0.0         1.0  Visiting Friends and Relatives   \n",
       "tour_3050           0.0         3.0         Meetings and Conference   \n",
       "tour_4135           1.0         0.0            Leisure and Holidays   \n",
       "tour_5068           0.0         1.0                        Business   \n",
       "tour_6412           0.0         1.0                        Business   \n",
       "\n",
       "               main_activity                     info_source tour_arrangement  \\\n",
       "ID                                                                              \n",
       "tour_101    Cultural tourism    Travel, agent, tour operator      Independent   \n",
       "tour_174   Mountain climbing    Travel, agent, tour operator      Independent   \n",
       "tour_1741      Beach tourism              Friends, relatives      Independent   \n",
       "tour_217    Wildlife tourism                      Trade fair      Independent   \n",
       "tour_2719   Wildlife tourism              Friends, relatives      Independent   \n",
       "tour_3050  Mountain climbing  Newspaper, magazines,brochures      Independent   \n",
       "tour_4135    Hunting tourism    Travel, agent, tour operator     Package Tour   \n",
       "tour_5068   Wildlife tourism              Friends, relatives      Independent   \n",
       "tour_6412   Wildlife tourism              Friends, relatives      Independent   \n",
       "\n",
       "          package_transport_int  ... package_sightseeing package_guided_tour  \\\n",
       "ID                               ...                                           \n",
       "tour_101                     No  ...                  No                  No   \n",
       "tour_174                     No  ...                  No                  No   \n",
       "tour_1741                    No  ...                  No                  No   \n",
       "tour_217                     No  ...                  No                  No   \n",
       "tour_2719                    No  ...                  No                  No   \n",
       "tour_3050                    No  ...                  No                  No   \n",
       "tour_4135                   Yes  ...                  No                 Yes   \n",
       "tour_5068                    No  ...                  No                  No   \n",
       "tour_6412                    No  ...                  No                  No   \n",
       "\n",
       "          package_insurance night_mainland night_zanzibar payment_mode  \\\n",
       "ID                                                                       \n",
       "tour_101                 No              4              0         Cash   \n",
       "tour_174                 No              5              0         Cash   \n",
       "tour_1741                No              4             16  Credit Card   \n",
       "tour_217                 No             30              0         Cash   \n",
       "tour_2719                No              7              0         Cash   \n",
       "tour_3050                No              2              0         Cash   \n",
       "tour_4135               Yes             10              4  Credit Card   \n",
       "tour_5068                No             14              0         Cash   \n",
       "tour_6412                No             35              0         Cash   \n",
       "\n",
       "           first_trip_tz       most_impressing  total_cost    upcountry  \n",
       "ID                                                                       \n",
       "tour_101             Yes       Friendly People    994500.0  West Africa  \n",
       "tour_174             Yes       Friendly People    828750.0  West Africa  \n",
       "tour_1741             No       Friendly People   4972500.0  West Africa  \n",
       "tour_217             Yes           No comments  10000000.0  West Africa  \n",
       "tour_2719             No       Friendly People    250282.5  West Africa  \n",
       "tour_3050             No           No comments    663000.0  West Africa  \n",
       "tour_4135            Yes       Friendly People   7210125.0  West Africa  \n",
       "tour_5068            Yes  Excellent Experience    497250.0  West Africa  \n",
       "tour_6412             No          Good service     50000.0  West Africa  \n",
       "\n",
       "[9 rows x 23 columns]"
      ]
     },
     "execution_count": 1430,
     "metadata": {},
     "output_type": "execute_result"
    }
   ],
   "source": [
    "west"
   ]
  },
  {
   "cell_type": "markdown",
   "id": "610eb626-faff-47df-ad6c-5d7530fef607",
   "metadata": {},
   "source": [
    "## Europe"
   ]
  },
  {
   "cell_type": "code",
   "execution_count": 1431,
   "id": "bf3689ab-b9ab-4270-aa65-9471a30a9120",
   "metadata": {},
   "outputs": [],
   "source": [
    "\n",
    "\n",
    "#(//main[@id='main-content'])[1]"
   ]
  },
  {
   "cell_type": "code",
   "execution_count": 1432,
   "id": "d7b1d619-cd1f-42bc-adcc-1312e089ce59",
   "metadata": {},
   "outputs": [],
   "source": [
    "driver.get(\"https://european-union.europa.eu/principles-countries-history/country-profiles_en?page=0\")   \n",
    "time.sleep(18)"
   ]
  },
  {
   "cell_type": "code",
   "execution_count": 1433,
   "id": "3f9372b1-4251-44ec-ad9a-060c5fe9fe4d",
   "metadata": {},
   "outputs": [
    {
     "name": "stderr",
     "output_type": "stream",
     "text": [
      "C:\\Users\\KOFI ADUKPO\\AppData\\Local\\Temp\\ipykernel_4848\\3388245205.py:1: DeprecationWarning: find_element_by_xpath is deprecated. Please use find_element(by=By.XPATH, value=xpath) instead\n",
      "  i = driver.find_element_by_xpath(\"(//div[@class='ecl-row'])[5]\")\n"
     ]
    }
   ],
   "source": [
    "i = driver.find_element_by_xpath(\"(//div[@class='ecl-row'])[5]\")"
   ]
  },
  {
   "cell_type": "code",
   "execution_count": 1434,
   "id": "ffafebca-f5df-4ca6-aff8-9840d51abd48",
   "metadata": {},
   "outputs": [],
   "source": [
    "text = i.text\n",
    "#(//tbody)[1]"
   ]
  },
  {
   "cell_type": "code",
   "execution_count": 1435,
   "id": "d2392017-f94c-4787-b34f-9446d50788d7",
   "metadata": {},
   "outputs": [
    {
     "data": {
      "text/plain": [
       "str"
      ]
     },
     "execution_count": 1435,
     "metadata": {},
     "output_type": "execute_result"
    }
   ],
   "source": [
    "type(text)"
   ]
  },
  {
   "cell_type": "code",
   "execution_count": 1436,
   "id": "1ee6244d-9e1c-4206-9086-580e4d080faf",
   "metadata": {},
   "outputs": [],
   "source": [
    "rep = text.replace(\"\\n\", \". \")"
   ]
  },
  {
   "cell_type": "code",
   "execution_count": 1437,
   "id": "21e54ee2-1e22-4eb2-89d0-2b9efc0f1f56",
   "metadata": {},
   "outputs": [],
   "source": [
    "import re\n",
    "expression = re.compile(r'([A-Z][^\\.!?]*[\\.!?])')\n",
    "new_list = re.findall(expression, rep)"
   ]
  },
  {
   "cell_type": "code",
   "execution_count": 1438,
   "id": "1134463d-7afb-4f76-8b8d-f538a2fd7ea5",
   "metadata": {},
   "outputs": [
    {
     "data": {
      "text/plain": [
       "['Austria.',\n",
       " 'EU member country since 1995, Euro area member since 1999, Schengen area member since 1997 and more about Austria’s participation in the EU.',\n",
       " 'Belgium.',\n",
       " 'EU member country since 1958, Euro area member since 1999, Schengen area member since 1995 and more about Belgium’s participation in the EU.',\n",
       " 'Bulgaria.',\n",
       " 'EU member country since 2007 and more about Bulgaria’s participation in the EU.',\n",
       " 'Croatia.',\n",
       " \"EU Member State since 2013 and more on Croatia's role in the EU.\",\n",
       " 'Cyprus.',\n",
       " 'EU member country since 2004, Euro area member since 2008 and more about Cyprus’s participation in the EU.',\n",
       " 'Czechia.',\n",
       " 'EU member country since 2004, Schengen area member since 2007 and more about Czechia’s participation in the EU.',\n",
       " 'Denmark.',\n",
       " 'EU member country since 1973, opt-out from euro, Schengen area member since 2001 and more about Denmark’s participation in the EU.',\n",
       " 'Estonia.',\n",
       " 'How Estonia is represented in the different EU institutions, how much money it gives and receives, its political system and trade figures.',\n",
       " 'Finland.',\n",
       " 'EU member country since 1995, Euro area member since 1999, Schengen area member since 2001 and more about Finland’s participation in the EU.',\n",
       " 'France.',\n",
       " 'EU member country since 1958, Euro area member since 1999, Schengen area member since 1995 and more about France’s participation in the EU.',\n",
       " 'Germany.',\n",
       " 'EU member country since 1958, Euro area member since 1999, Schengen area member since 1995 and more about Germany’s participation in the EU.',\n",
       " 'Greece.',\n",
       " 'EU member country since 1981, Euro area member since 2001, Schengen area member since 2000 and more about Greece’s participation in the EU.',\n",
       " 'Hungary.',\n",
       " 'EU member country since 2004, Schengen area member since 2007 and more about Hungary’s participation in the EU.',\n",
       " 'Ireland.',\n",
       " 'EU member country since 1973, Euro area member since 1999, opt-out from Schengen area and more about Ireland’s participation in the EU.',\n",
       " 'Italy.',\n",
       " 'EU member country since 1958, Euro area member since 1999, Schengen area member since 1997 and more about Italy’s participation in the EU.',\n",
       " 'Latvia.',\n",
       " 'EU member country since 2004, Euro area member since 2014, Schengen area member since 2007 and more about Latvia’s participation in the EU.',\n",
       " 'Lithuania.',\n",
       " 'EU member country since 2004, Euro area member since 2015, Schengen area member since 2007 and more about Lithuania’s participation in the EU.',\n",
       " 'Luxembourg.',\n",
       " 'EU member country since 1958, Euro area member since 1999, Schengen area member since 1995 and more about Luxembourg’s participation in the EU.',\n",
       " 'Malta.',\n",
       " 'EU member country since 2004, Euro area member since 2008, Schengen area member since 2007 and more about Malta’s participation in the EU.',\n",
       " 'Netherlands.',\n",
       " 'EU member country since 1958, Euro area member since 1999, Schengen area member since 1995 and more about the Netherlands’ participation in the EU.']"
      ]
     },
     "execution_count": 1438,
     "metadata": {},
     "output_type": "execute_result"
    }
   ],
   "source": [
    "new_list"
   ]
  },
  {
   "cell_type": "code",
   "execution_count": 1439,
   "id": "a525113d-3f02-471d-a280-a2778916345a",
   "metadata": {},
   "outputs": [],
   "source": [
    "driver.get(\"https://european-union.europa.eu/principles-countries-history/country-profiles_en?page=1\")   \n",
    "time.sleep(15)"
   ]
  },
  {
   "cell_type": "code",
   "execution_count": 1440,
   "id": "988960bc-22b9-41f1-b1ca-b33a91582b10",
   "metadata": {},
   "outputs": [
    {
     "name": "stderr",
     "output_type": "stream",
     "text": [
      "C:\\Users\\KOFI ADUKPO\\AppData\\Local\\Temp\\ipykernel_4848\\3388245205.py:1: DeprecationWarning: find_element_by_xpath is deprecated. Please use find_element(by=By.XPATH, value=xpath) instead\n",
      "  i = driver.find_element_by_xpath(\"(//div[@class='ecl-row'])[5]\")\n"
     ]
    }
   ],
   "source": [
    "i = driver.find_element_by_xpath(\"(//div[@class='ecl-row'])[5]\")"
   ]
  },
  {
   "cell_type": "code",
   "execution_count": null,
   "id": "fdd6bf4c-0f6b-4873-803f-d1e3d1b6de64",
   "metadata": {},
   "outputs": [],
   "source": []
  },
  {
   "cell_type": "code",
   "execution_count": 1441,
   "id": "79010831-d2bf-4ce0-b067-918df2298f81",
   "metadata": {},
   "outputs": [],
   "source": [
    "text = i.text\n",
    "#(//tbody)[1]"
   ]
  },
  {
   "cell_type": "code",
   "execution_count": 1442,
   "id": "a0b98cec-c269-486e-939d-7458d5f78232",
   "metadata": {},
   "outputs": [
    {
     "data": {
      "text/plain": [
       "str"
      ]
     },
     "execution_count": 1442,
     "metadata": {},
     "output_type": "execute_result"
    }
   ],
   "source": [
    "type(text)"
   ]
  },
  {
   "cell_type": "code",
   "execution_count": 1443,
   "id": "557e9078-b5bc-4136-bc54-219f395e5446",
   "metadata": {},
   "outputs": [],
   "source": [
    "rep = text.replace(\"\\n\", \". \")"
   ]
  },
  {
   "cell_type": "code",
   "execution_count": 1444,
   "id": "69d2619d-f61d-4a80-98ea-5d65054fb1be",
   "metadata": {},
   "outputs": [],
   "source": [
    "import re\n",
    "expression = re.compile(r'([A-Z][^\\.!?]*[\\.!?])')\n",
    "new_list1 = re.findall(expression, rep)"
   ]
  },
  {
   "cell_type": "code",
   "execution_count": 1445,
   "id": "b09b43ce-b0b0-4560-85e7-005e2e854b16",
   "metadata": {},
   "outputs": [
    {
     "data": {
      "text/plain": [
       "list"
      ]
     },
     "execution_count": 1445,
     "metadata": {},
     "output_type": "execute_result"
    }
   ],
   "source": [
    "type(new_list1)"
   ]
  },
  {
   "cell_type": "code",
   "execution_count": 1446,
   "id": "221e43eb-e270-4db7-9b27-21eb203d6c60",
   "metadata": {},
   "outputs": [],
   "source": [
    "new_lists = new_list+new_list1"
   ]
  },
  {
   "cell_type": "code",
   "execution_count": null,
   "id": "acc194cc-d8e2-4dab-bda0-24293bbcf880",
   "metadata": {},
   "outputs": [],
   "source": []
  },
  {
   "cell_type": "code",
   "execution_count": 1447,
   "id": "28ef4e80-d97a-4010-80c9-800638a33146",
   "metadata": {},
   "outputs": [],
   "source": [
    "converted_list = [x.upper() for x in new_lists]"
   ]
  },
  {
   "cell_type": "code",
   "execution_count": 1448,
   "id": "64b62c1f-f968-42e8-8721-8fbe0c3b9eaf",
   "metadata": {},
   "outputs": [
    {
     "data": {
      "text/plain": [
       "['AUSTRIA.',\n",
       " 'EU MEMBER COUNTRY SINCE 1995, EURO AREA MEMBER SINCE 1999, SCHENGEN AREA MEMBER SINCE 1997 AND MORE ABOUT AUSTRIA’S PARTICIPATION IN THE EU.',\n",
       " 'BELGIUM.',\n",
       " 'EU MEMBER COUNTRY SINCE 1958, EURO AREA MEMBER SINCE 1999, SCHENGEN AREA MEMBER SINCE 1995 AND MORE ABOUT BELGIUM’S PARTICIPATION IN THE EU.',\n",
       " 'BULGARIA.',\n",
       " 'EU MEMBER COUNTRY SINCE 2007 AND MORE ABOUT BULGARIA’S PARTICIPATION IN THE EU.',\n",
       " 'CROATIA.',\n",
       " \"EU MEMBER STATE SINCE 2013 AND MORE ON CROATIA'S ROLE IN THE EU.\",\n",
       " 'CYPRUS.',\n",
       " 'EU MEMBER COUNTRY SINCE 2004, EURO AREA MEMBER SINCE 2008 AND MORE ABOUT CYPRUS’S PARTICIPATION IN THE EU.',\n",
       " 'CZECHIA.',\n",
       " 'EU MEMBER COUNTRY SINCE 2004, SCHENGEN AREA MEMBER SINCE 2007 AND MORE ABOUT CZECHIA’S PARTICIPATION IN THE EU.',\n",
       " 'DENMARK.',\n",
       " 'EU MEMBER COUNTRY SINCE 1973, OPT-OUT FROM EURO, SCHENGEN AREA MEMBER SINCE 2001 AND MORE ABOUT DENMARK’S PARTICIPATION IN THE EU.',\n",
       " 'ESTONIA.',\n",
       " 'HOW ESTONIA IS REPRESENTED IN THE DIFFERENT EU INSTITUTIONS, HOW MUCH MONEY IT GIVES AND RECEIVES, ITS POLITICAL SYSTEM AND TRADE FIGURES.',\n",
       " 'FINLAND.',\n",
       " 'EU MEMBER COUNTRY SINCE 1995, EURO AREA MEMBER SINCE 1999, SCHENGEN AREA MEMBER SINCE 2001 AND MORE ABOUT FINLAND’S PARTICIPATION IN THE EU.',\n",
       " 'FRANCE.',\n",
       " 'EU MEMBER COUNTRY SINCE 1958, EURO AREA MEMBER SINCE 1999, SCHENGEN AREA MEMBER SINCE 1995 AND MORE ABOUT FRANCE’S PARTICIPATION IN THE EU.',\n",
       " 'GERMANY.',\n",
       " 'EU MEMBER COUNTRY SINCE 1958, EURO AREA MEMBER SINCE 1999, SCHENGEN AREA MEMBER SINCE 1995 AND MORE ABOUT GERMANY’S PARTICIPATION IN THE EU.',\n",
       " 'GREECE.',\n",
       " 'EU MEMBER COUNTRY SINCE 1981, EURO AREA MEMBER SINCE 2001, SCHENGEN AREA MEMBER SINCE 2000 AND MORE ABOUT GREECE’S PARTICIPATION IN THE EU.',\n",
       " 'HUNGARY.',\n",
       " 'EU MEMBER COUNTRY SINCE 2004, SCHENGEN AREA MEMBER SINCE 2007 AND MORE ABOUT HUNGARY’S PARTICIPATION IN THE EU.',\n",
       " 'IRELAND.',\n",
       " 'EU MEMBER COUNTRY SINCE 1973, EURO AREA MEMBER SINCE 1999, OPT-OUT FROM SCHENGEN AREA AND MORE ABOUT IRELAND’S PARTICIPATION IN THE EU.',\n",
       " 'ITALY.',\n",
       " 'EU MEMBER COUNTRY SINCE 1958, EURO AREA MEMBER SINCE 1999, SCHENGEN AREA MEMBER SINCE 1997 AND MORE ABOUT ITALY’S PARTICIPATION IN THE EU.',\n",
       " 'LATVIA.',\n",
       " 'EU MEMBER COUNTRY SINCE 2004, EURO AREA MEMBER SINCE 2014, SCHENGEN AREA MEMBER SINCE 2007 AND MORE ABOUT LATVIA’S PARTICIPATION IN THE EU.',\n",
       " 'LITHUANIA.',\n",
       " 'EU MEMBER COUNTRY SINCE 2004, EURO AREA MEMBER SINCE 2015, SCHENGEN AREA MEMBER SINCE 2007 AND MORE ABOUT LITHUANIA’S PARTICIPATION IN THE EU.',\n",
       " 'LUXEMBOURG.',\n",
       " 'EU MEMBER COUNTRY SINCE 1958, EURO AREA MEMBER SINCE 1999, SCHENGEN AREA MEMBER SINCE 1995 AND MORE ABOUT LUXEMBOURG’S PARTICIPATION IN THE EU.',\n",
       " 'MALTA.',\n",
       " 'EU MEMBER COUNTRY SINCE 2004, EURO AREA MEMBER SINCE 2008, SCHENGEN AREA MEMBER SINCE 2007 AND MORE ABOUT MALTA’S PARTICIPATION IN THE EU.',\n",
       " 'NETHERLANDS.',\n",
       " 'EU MEMBER COUNTRY SINCE 1958, EURO AREA MEMBER SINCE 1999, SCHENGEN AREA MEMBER SINCE 1995 AND MORE ABOUT THE NETHERLANDS’ PARTICIPATION IN THE EU.',\n",
       " 'POLAND.',\n",
       " 'EU MEMBER COUNTRY SINCE 2004, SCHENGEN AREA MEMBER SINCE 2007 AND MORE ABOUT POLAND’S PARTICIPATION IN THE EU.',\n",
       " 'PORTUGAL.',\n",
       " 'EU MEMBER COUNTRY SINCE 1986, EURO AREA MEMBER SINCE 1999, SCHENGEN AREA MEMBER SINCE 1995 AND MORE ABOUT PORTUGAL’S PARTICIPATION IN THE EU.',\n",
       " 'ROMANIA.',\n",
       " 'EU MEMBER COUNTRY SINCE 2007 AND MORE ABOUT ROMANIA’S PARTICIPATION IN THE EU.',\n",
       " 'SLOVAKIA.',\n",
       " 'EU MEMBER COUNTRY SINCE 2004, EURO AREA MEMBER SINCE 2009, SCHENGEN AREA MEMBER SINCE 2007 AND MORE ABOUT SLOVAKIA’S PARTICIPATION IN THE EU.',\n",
       " 'SLOVENIA.',\n",
       " 'EU MEMBER COUNTRY SINCE 2004, EURO AREA MEMBER SINCE 2007, SCHENGEN AREA MEMBER SINCE 2007 AND MORE ABOUT SLOVENIA’S PARTICIPATION IN THE EU.',\n",
       " 'SPAIN.',\n",
       " 'EU MEMBER COUNTRY SINCE 1986, EURO AREA MEMBER SINCE 1999, SCHENGEN AREA MEMBER SINCE 1995 AND MORE ABOUT SPAIN’S PARTICIPATION IN THE EU.',\n",
       " 'SWEDEN.',\n",
       " 'EU MEMBER COUNTRY SINCE 1995, SCHENGEN AREA MEMBER SINCE 2001 AND MORE ABOUT SWEDEN’S PARTICIPATION IN THE EU.']"
      ]
     },
     "execution_count": 1448,
     "metadata": {},
     "output_type": "execute_result"
    }
   ],
   "source": [
    "converted_list"
   ]
  },
  {
   "cell_type": "code",
   "execution_count": null,
   "id": "49bed0f2-c418-4fa8-bece-d5bb6dcf31b7",
   "metadata": {},
   "outputs": [],
   "source": []
  },
  {
   "cell_type": "code",
   "execution_count": 1449,
   "id": "31b2d861-32e0-4201-9882-24dadab5649f",
   "metadata": {},
   "outputs": [],
   "source": [
    "co = str(converted_list)"
   ]
  },
  {
   "cell_type": "code",
   "execution_count": 1450,
   "id": "c4b7dbbe-662b-42eb-bd86-b4dfaaded892",
   "metadata": {},
   "outputs": [],
   "source": [
    "from itertools import chain"
   ]
  },
  {
   "cell_type": "code",
   "execution_count": 1451,
   "id": "7ae43a1b-68c6-45b1-b6aa-f9b78888d011",
   "metadata": {},
   "outputs": [],
   "source": [
    "coming = ' '.join(str(v) for v in converted_list)"
   ]
  },
  {
   "cell_type": "code",
   "execution_count": 1452,
   "id": "87290bac-8825-42db-8a05-ca5217854511",
   "metadata": {},
   "outputs": [
    {
     "data": {
      "text/plain": [
       "\"AUSTRIA. EU MEMBER COUNTRY SINCE 1995, EURO AREA MEMBER SINCE 1999, SCHENGEN AREA MEMBER SINCE 1997 AND MORE ABOUT AUSTRIA’S PARTICIPATION IN THE EU. BELGIUM. EU MEMBER COUNTRY SINCE 1958, EURO AREA MEMBER SINCE 1999, SCHENGEN AREA MEMBER SINCE 1995 AND MORE ABOUT BELGIUM’S PARTICIPATION IN THE EU. BULGARIA. EU MEMBER COUNTRY SINCE 2007 AND MORE ABOUT BULGARIA’S PARTICIPATION IN THE EU. CROATIA. EU MEMBER STATE SINCE 2013 AND MORE ON CROATIA'S ROLE IN THE EU. CYPRUS. EU MEMBER COUNTRY SINCE 2004, EURO AREA MEMBER SINCE 2008 AND MORE ABOUT CYPRUS’S PARTICIPATION IN THE EU. CZECHIA. EU MEMBER COUNTRY SINCE 2004, SCHENGEN AREA MEMBER SINCE 2007 AND MORE ABOUT CZECHIA’S PARTICIPATION IN THE EU. DENMARK. EU MEMBER COUNTRY SINCE 1973, OPT-OUT FROM EURO, SCHENGEN AREA MEMBER SINCE 2001 AND MORE ABOUT DENMARK’S PARTICIPATION IN THE EU. ESTONIA. HOW ESTONIA IS REPRESENTED IN THE DIFFERENT EU INSTITUTIONS, HOW MUCH MONEY IT GIVES AND RECEIVES, ITS POLITICAL SYSTEM AND TRADE FIGURES. FINLAND. EU MEMBER COUNTRY SINCE 1995, EURO AREA MEMBER SINCE 1999, SCHENGEN AREA MEMBER SINCE 2001 AND MORE ABOUT FINLAND’S PARTICIPATION IN THE EU. FRANCE. EU MEMBER COUNTRY SINCE 1958, EURO AREA MEMBER SINCE 1999, SCHENGEN AREA MEMBER SINCE 1995 AND MORE ABOUT FRANCE’S PARTICIPATION IN THE EU. GERMANY. EU MEMBER COUNTRY SINCE 1958, EURO AREA MEMBER SINCE 1999, SCHENGEN AREA MEMBER SINCE 1995 AND MORE ABOUT GERMANY’S PARTICIPATION IN THE EU. GREECE. EU MEMBER COUNTRY SINCE 1981, EURO AREA MEMBER SINCE 2001, SCHENGEN AREA MEMBER SINCE 2000 AND MORE ABOUT GREECE’S PARTICIPATION IN THE EU. HUNGARY. EU MEMBER COUNTRY SINCE 2004, SCHENGEN AREA MEMBER SINCE 2007 AND MORE ABOUT HUNGARY’S PARTICIPATION IN THE EU. IRELAND. EU MEMBER COUNTRY SINCE 1973, EURO AREA MEMBER SINCE 1999, OPT-OUT FROM SCHENGEN AREA AND MORE ABOUT IRELAND’S PARTICIPATION IN THE EU. ITALY. EU MEMBER COUNTRY SINCE 1958, EURO AREA MEMBER SINCE 1999, SCHENGEN AREA MEMBER SINCE 1997 AND MORE ABOUT ITALY’S PARTICIPATION IN THE EU. LATVIA. EU MEMBER COUNTRY SINCE 2004, EURO AREA MEMBER SINCE 2014, SCHENGEN AREA MEMBER SINCE 2007 AND MORE ABOUT LATVIA’S PARTICIPATION IN THE EU. LITHUANIA. EU MEMBER COUNTRY SINCE 2004, EURO AREA MEMBER SINCE 2015, SCHENGEN AREA MEMBER SINCE 2007 AND MORE ABOUT LITHUANIA’S PARTICIPATION IN THE EU. LUXEMBOURG. EU MEMBER COUNTRY SINCE 1958, EURO AREA MEMBER SINCE 1999, SCHENGEN AREA MEMBER SINCE 1995 AND MORE ABOUT LUXEMBOURG’S PARTICIPATION IN THE EU. MALTA. EU MEMBER COUNTRY SINCE 2004, EURO AREA MEMBER SINCE 2008, SCHENGEN AREA MEMBER SINCE 2007 AND MORE ABOUT MALTA’S PARTICIPATION IN THE EU. NETHERLANDS. EU MEMBER COUNTRY SINCE 1958, EURO AREA MEMBER SINCE 1999, SCHENGEN AREA MEMBER SINCE 1995 AND MORE ABOUT THE NETHERLANDS’ PARTICIPATION IN THE EU. POLAND. EU MEMBER COUNTRY SINCE 2004, SCHENGEN AREA MEMBER SINCE 2007 AND MORE ABOUT POLAND’S PARTICIPATION IN THE EU. PORTUGAL. EU MEMBER COUNTRY SINCE 1986, EURO AREA MEMBER SINCE 1999, SCHENGEN AREA MEMBER SINCE 1995 AND MORE ABOUT PORTUGAL’S PARTICIPATION IN THE EU. ROMANIA. EU MEMBER COUNTRY SINCE 2007 AND MORE ABOUT ROMANIA’S PARTICIPATION IN THE EU. SLOVAKIA. EU MEMBER COUNTRY SINCE 2004, EURO AREA MEMBER SINCE 2009, SCHENGEN AREA MEMBER SINCE 2007 AND MORE ABOUT SLOVAKIA’S PARTICIPATION IN THE EU. SLOVENIA. EU MEMBER COUNTRY SINCE 2004, EURO AREA MEMBER SINCE 2007, SCHENGEN AREA MEMBER SINCE 2007 AND MORE ABOUT SLOVENIA’S PARTICIPATION IN THE EU. SPAIN. EU MEMBER COUNTRY SINCE 1986, EURO AREA MEMBER SINCE 1999, SCHENGEN AREA MEMBER SINCE 1995 AND MORE ABOUT SPAIN’S PARTICIPATION IN THE EU. SWEDEN. EU MEMBER COUNTRY SINCE 1995, SCHENGEN AREA MEMBER SINCE 2001 AND MORE ABOUT SWEDEN’S PARTICIPATION IN THE EU.\""
      ]
     },
     "execution_count": 1452,
     "metadata": {},
     "output_type": "execute_result"
    }
   ],
   "source": [
    "coming"
   ]
  },
  {
   "cell_type": "code",
   "execution_count": 1453,
   "id": "bc5ca8ed-8149-4e0f-bcdd-83c08c66ab82",
   "metadata": {},
   "outputs": [],
   "source": [
    "come = coming.replace(\".\", \"\")\n",
    "com = come.replace(\"REPUBLIC\", \"\")\n",
    "come= com.replace(\"OF\", \"\")\n"
   ]
  },
  {
   "cell_type": "code",
   "execution_count": 1454,
   "id": "bbdaaaed-c375-43bf-82e2-4098249be389",
   "metadata": {},
   "outputs": [
    {
     "data": {
      "text/plain": [
       "\"AUSTRIA EU MEMBER COUNTRY SINCE 1995, EURO AREA MEMBER SINCE 1999, SCHENGEN AREA MEMBER SINCE 1997 AND MORE ABOUT AUSTRIA’S PARTICIPATION IN THE EU BELGIUM EU MEMBER COUNTRY SINCE 1958, EURO AREA MEMBER SINCE 1999, SCHENGEN AREA MEMBER SINCE 1995 AND MORE ABOUT BELGIUM’S PARTICIPATION IN THE EU BULGARIA EU MEMBER COUNTRY SINCE 2007 AND MORE ABOUT BULGARIA’S PARTICIPATION IN THE EU CROATIA EU MEMBER STATE SINCE 2013 AND MORE ON CROATIA'S ROLE IN THE EU CYPRUS EU MEMBER COUNTRY SINCE 2004, EURO AREA MEMBER SINCE 2008 AND MORE ABOUT CYPRUS’S PARTICIPATION IN THE EU CZECHIA EU MEMBER COUNTRY SINCE 2004, SCHENGEN AREA MEMBER SINCE 2007 AND MORE ABOUT CZECHIA’S PARTICIPATION IN THE EU DENMARK EU MEMBER COUNTRY SINCE 1973, OPT-OUT FROM EURO, SCHENGEN AREA MEMBER SINCE 2001 AND MORE ABOUT DENMARK’S PARTICIPATION IN THE EU ESTONIA HOW ESTONIA IS REPRESENTED IN THE DIFFERENT EU INSTITUTIONS, HOW MUCH MONEY IT GIVES AND RECEIVES, ITS POLITICAL SYSTEM AND TRADE FIGURES FINLAND EU MEMBER COUNTRY SINCE 1995, EURO AREA MEMBER SINCE 1999, SCHENGEN AREA MEMBER SINCE 2001 AND MORE ABOUT FINLAND’S PARTICIPATION IN THE EU FRANCE EU MEMBER COUNTRY SINCE 1958, EURO AREA MEMBER SINCE 1999, SCHENGEN AREA MEMBER SINCE 1995 AND MORE ABOUT FRANCE’S PARTICIPATION IN THE EU GERMANY EU MEMBER COUNTRY SINCE 1958, EURO AREA MEMBER SINCE 1999, SCHENGEN AREA MEMBER SINCE 1995 AND MORE ABOUT GERMANY’S PARTICIPATION IN THE EU GREECE EU MEMBER COUNTRY SINCE 1981, EURO AREA MEMBER SINCE 2001, SCHENGEN AREA MEMBER SINCE 2000 AND MORE ABOUT GREECE’S PARTICIPATION IN THE EU HUNGARY EU MEMBER COUNTRY SINCE 2004, SCHENGEN AREA MEMBER SINCE 2007 AND MORE ABOUT HUNGARY’S PARTICIPATION IN THE EU IRELAND EU MEMBER COUNTRY SINCE 1973, EURO AREA MEMBER SINCE 1999, OPT-OUT FROM SCHENGEN AREA AND MORE ABOUT IRELAND’S PARTICIPATION IN THE EU ITALY EU MEMBER COUNTRY SINCE 1958, EURO AREA MEMBER SINCE 1999, SCHENGEN AREA MEMBER SINCE 1997 AND MORE ABOUT ITALY’S PARTICIPATION IN THE EU LATVIA EU MEMBER COUNTRY SINCE 2004, EURO AREA MEMBER SINCE 2014, SCHENGEN AREA MEMBER SINCE 2007 AND MORE ABOUT LATVIA’S PARTICIPATION IN THE EU LITHUANIA EU MEMBER COUNTRY SINCE 2004, EURO AREA MEMBER SINCE 2015, SCHENGEN AREA MEMBER SINCE 2007 AND MORE ABOUT LITHUANIA’S PARTICIPATION IN THE EU LUXEMBOURG EU MEMBER COUNTRY SINCE 1958, EURO AREA MEMBER SINCE 1999, SCHENGEN AREA MEMBER SINCE 1995 AND MORE ABOUT LUXEMBOURG’S PARTICIPATION IN THE EU MALTA EU MEMBER COUNTRY SINCE 2004, EURO AREA MEMBER SINCE 2008, SCHENGEN AREA MEMBER SINCE 2007 AND MORE ABOUT MALTA’S PARTICIPATION IN THE EU NETHERLANDS EU MEMBER COUNTRY SINCE 1958, EURO AREA MEMBER SINCE 1999, SCHENGEN AREA MEMBER SINCE 1995 AND MORE ABOUT THE NETHERLANDS’ PARTICIPATION IN THE EU POLAND EU MEMBER COUNTRY SINCE 2004, SCHENGEN AREA MEMBER SINCE 2007 AND MORE ABOUT POLAND’S PARTICIPATION IN THE EU PORTUGAL EU MEMBER COUNTRY SINCE 1986, EURO AREA MEMBER SINCE 1999, SCHENGEN AREA MEMBER SINCE 1995 AND MORE ABOUT PORTUGAL’S PARTICIPATION IN THE EU ROMANIA EU MEMBER COUNTRY SINCE 2007 AND MORE ABOUT ROMANIA’S PARTICIPATION IN THE EU SLOVAKIA EU MEMBER COUNTRY SINCE 2004, EURO AREA MEMBER SINCE 2009, SCHENGEN AREA MEMBER SINCE 2007 AND MORE ABOUT SLOVAKIA’S PARTICIPATION IN THE EU SLOVENIA EU MEMBER COUNTRY SINCE 2004, EURO AREA MEMBER SINCE 2007, SCHENGEN AREA MEMBER SINCE 2007 AND MORE ABOUT SLOVENIA’S PARTICIPATION IN THE EU SPAIN EU MEMBER COUNTRY SINCE 1986, EURO AREA MEMBER SINCE 1999, SCHENGEN AREA MEMBER SINCE 1995 AND MORE ABOUT SPAIN’S PARTICIPATION IN THE EU SWEDEN EU MEMBER COUNTRY SINCE 1995, SCHENGEN AREA MEMBER SINCE 2001 AND MORE ABOUT SWEDEN’S PARTICIPATION IN THE EU\""
      ]
     },
     "execution_count": 1454,
     "metadata": {},
     "output_type": "execute_result"
    }
   ],
   "source": [
    "come"
   ]
  },
  {
   "cell_type": "code",
   "execution_count": 1455,
   "id": "1e328b58-ac99-46c2-9f54-e02229f8f9bf",
   "metadata": {},
   "outputs": [],
   "source": [
    "# i need to get the intersection of countries"
   ]
  },
  {
   "cell_type": "code",
   "execution_count": null,
   "id": "9fc24104-928e-486b-9ded-1748f1f014d8",
   "metadata": {},
   "outputs": [],
   "source": []
  },
  {
   "cell_type": "code",
   "execution_count": 1456,
   "id": "74ea9eca-f77e-46a4-9e0a-cfd51632cd8b",
   "metadata": {},
   "outputs": [],
   "source": [
    "#movi\n",
    "#come\n",
    "\n",
    "read = set(result.split()) & set(come.split())"
   ]
  },
  {
   "cell_type": "code",
   "execution_count": 1457,
   "id": "3143b8d2-f658-4d8d-aaa2-ac8b755708d0",
   "metadata": {},
   "outputs": [],
   "source": [
    "readd = list(read)"
   ]
  },
  {
   "cell_type": "code",
   "execution_count": 1458,
   "id": "acd0abe1-2fe3-41b3-b13f-a72717a3121e",
   "metadata": {},
   "outputs": [],
   "source": [
    "readd.append(\"SWIZERLAND\")\n",
    "readd.append(\"UNITED KINGDOM\")\n",
    "readd.append(\"SCOTLAND\")\n",
    "readd.append(\"NORWAY\")\n",
    "readd.append(\"SWITZERLAND\")\n",
    "readd.append(\"UGANDA\")\n",
    "readd.append(\"CZECH REPUBLIC\")\n",
    "readd.append(\"SERBIA\")\n",
    "readd.append(\"MALT\")\n",
    "readd.append(\"UKRAIN\")\n",
    "readd.append(\"BURGARIA\")\n",
    "readd.append(\"MONTENEGRO\")\n",
    "\n",
    "#SWIZERLAND "
   ]
  },
  {
   "cell_type": "code",
   "execution_count": 1459,
   "id": "adfca038-f81f-402b-b975-f077d80ce4c4",
   "metadata": {},
   "outputs": [
    {
     "data": {
      "text/plain": [
       "['GREECE',\n",
       " 'GERMANY',\n",
       " 'CROATIA',\n",
       " 'LATVIA',\n",
       " 'POLAND',\n",
       " 'SPAIN',\n",
       " 'AUSTRIA',\n",
       " 'NETHERLANDS',\n",
       " 'PORTUGAL',\n",
       " 'LITHUANIA',\n",
       " 'CYPRUS',\n",
       " 'SLOVAKIA',\n",
       " 'ITALY',\n",
       " 'HUNGARY',\n",
       " 'FINLAND',\n",
       " 'BELGIUM',\n",
       " 'ROMANIA',\n",
       " 'SWEDEN',\n",
       " 'IRELAND',\n",
       " 'DENMARK',\n",
       " 'SLOVENIA',\n",
       " 'ESTONIA',\n",
       " 'FRANCE',\n",
       " 'LUXEMBOURG',\n",
       " 'SWIZERLAND',\n",
       " 'UNITED KINGDOM',\n",
       " 'SCOTLAND',\n",
       " 'NORWAY',\n",
       " 'SWITZERLAND',\n",
       " 'UGANDA',\n",
       " 'CZECH REPUBLIC',\n",
       " 'SERBIA',\n",
       " 'MALT',\n",
       " 'UKRAIN',\n",
       " 'BURGARIA',\n",
       " 'MONTENEGRO']"
      ]
     },
     "execution_count": 1459,
     "metadata": {},
     "output_type": "execute_result"
    }
   ],
   "source": [
    "readd"
   ]
  },
  {
   "cell_type": "code",
   "execution_count": 1460,
   "id": "d905723f-3134-4ad5-be1a-33fb79088e5f",
   "metadata": {},
   "outputs": [],
   "source": [
    "i = len(readd)"
   ]
  },
  {
   "cell_type": "code",
   "execution_count": 1461,
   "id": "1f0733fe-c31a-4540-a437-bfd2820e2798",
   "metadata": {},
   "outputs": [],
   "source": [
    "matches = []\n",
    "\n",
    "for match in list1:\n",
    "    if readd[i-1] in match:\n",
    "        matches.append(match)\n",
    "        i-=1"
   ]
  },
  {
   "cell_type": "code",
   "execution_count": 1462,
   "id": "05e4d074-2a23-40c1-b087-77930fa8ca63",
   "metadata": {},
   "outputs": [
    {
     "data": {
      "text/plain": [
       "list"
      ]
     },
     "execution_count": 1462,
     "metadata": {},
     "output_type": "execute_result"
    }
   ],
   "source": [
    "type(matches)"
   ]
  },
  {
   "cell_type": "code",
   "execution_count": 1463,
   "id": "fe865842-cb65-4d8f-b007-7419bc046aaf",
   "metadata": {},
   "outputs": [],
   "source": [
    "i = len(readd)"
   ]
  },
  {
   "cell_type": "code",
   "execution_count": 1464,
   "id": "12e10d62-f689-4e43-bad2-a903416a6e58",
   "metadata": {},
   "outputs": [
    {
     "data": {
      "text/plain": [
       "36"
      ]
     },
     "execution_count": 1464,
     "metadata": {},
     "output_type": "execute_result"
    }
   ],
   "source": [
    "i"
   ]
  },
  {
   "cell_type": "code",
   "execution_count": 1465,
   "id": "f5c6ff36-c9d4-4bdc-ada5-a520ae4f7911",
   "metadata": {},
   "outputs": [
    {
     "data": {
      "text/plain": [
       "'MONTENEGRO'"
      ]
     },
     "execution_count": 1465,
     "metadata": {},
     "output_type": "execute_result"
    }
   ],
   "source": [
    "readd[i-1]"
   ]
  },
  {
   "cell_type": "code",
   "execution_count": 1466,
   "id": "7264b2c2-0c62-45be-99be-b3d60083c70b",
   "metadata": {},
   "outputs": [],
   "source": [
    "df.upcountry.replace(readd, 'Europe', inplace=True)"
   ]
  },
  {
   "cell_type": "code",
   "execution_count": 1467,
   "id": "438eca55-a8a0-4158-b550-5a8d0a61a809",
   "metadata": {},
   "outputs": [
    {
     "data": {
      "text/html": [
       "<div>\n",
       "<style scoped>\n",
       "    .dataframe tbody tr th:only-of-type {\n",
       "        vertical-align: middle;\n",
       "    }\n",
       "\n",
       "    .dataframe tbody tr th {\n",
       "        vertical-align: top;\n",
       "    }\n",
       "\n",
       "    .dataframe thead th {\n",
       "        text-align: right;\n",
       "    }\n",
       "</style>\n",
       "<table border=\"1\" class=\"dataframe\">\n",
       "  <thead>\n",
       "    <tr style=\"text-align: right;\">\n",
       "      <th></th>\n",
       "      <th>country</th>\n",
       "      <th>age_group</th>\n",
       "      <th>travel_with</th>\n",
       "      <th>total_female</th>\n",
       "      <th>total_male</th>\n",
       "      <th>purpose</th>\n",
       "      <th>main_activity</th>\n",
       "      <th>info_source</th>\n",
       "      <th>tour_arrangement</th>\n",
       "      <th>package_transport_int</th>\n",
       "      <th>...</th>\n",
       "      <th>package_sightseeing</th>\n",
       "      <th>package_guided_tour</th>\n",
       "      <th>package_insurance</th>\n",
       "      <th>night_mainland</th>\n",
       "      <th>night_zanzibar</th>\n",
       "      <th>payment_mode</th>\n",
       "      <th>first_trip_tz</th>\n",
       "      <th>most_impressing</th>\n",
       "      <th>total_cost</th>\n",
       "      <th>upcountry</th>\n",
       "    </tr>\n",
       "    <tr>\n",
       "      <th>ID</th>\n",
       "      <th></th>\n",
       "      <th></th>\n",
       "      <th></th>\n",
       "      <th></th>\n",
       "      <th></th>\n",
       "      <th></th>\n",
       "      <th></th>\n",
       "      <th></th>\n",
       "      <th></th>\n",
       "      <th></th>\n",
       "      <th></th>\n",
       "      <th></th>\n",
       "      <th></th>\n",
       "      <th></th>\n",
       "      <th></th>\n",
       "      <th></th>\n",
       "      <th></th>\n",
       "      <th></th>\n",
       "      <th></th>\n",
       "      <th></th>\n",
       "      <th></th>\n",
       "    </tr>\n",
       "  </thead>\n",
       "  <tbody>\n",
       "    <tr>\n",
       "      <th>tour_0</th>\n",
       "      <td>SWIZERLAND</td>\n",
       "      <td>45-64</td>\n",
       "      <td>Friends/Relatives</td>\n",
       "      <td>1.0</td>\n",
       "      <td>1.0</td>\n",
       "      <td>Leisure and Holidays</td>\n",
       "      <td>Wildlife tourism</td>\n",
       "      <td>Friends, relatives</td>\n",
       "      <td>Independent</td>\n",
       "      <td>No</td>\n",
       "      <td>...</td>\n",
       "      <td>No</td>\n",
       "      <td>No</td>\n",
       "      <td>No</td>\n",
       "      <td>13</td>\n",
       "      <td>0</td>\n",
       "      <td>Cash</td>\n",
       "      <td>No</td>\n",
       "      <td>Friendly People</td>\n",
       "      <td>674602.5</td>\n",
       "      <td>Europe</td>\n",
       "    </tr>\n",
       "    <tr>\n",
       "      <th>tour_10</th>\n",
       "      <td>UNITED KINGDOM</td>\n",
       "      <td>25-44</td>\n",
       "      <td>Alone</td>\n",
       "      <td>1.0</td>\n",
       "      <td>0.0</td>\n",
       "      <td>Leisure and Holidays</td>\n",
       "      <td>Cultural tourism</td>\n",
       "      <td>others</td>\n",
       "      <td>Independent</td>\n",
       "      <td>No</td>\n",
       "      <td>...</td>\n",
       "      <td>No</td>\n",
       "      <td>No</td>\n",
       "      <td>No</td>\n",
       "      <td>14</td>\n",
       "      <td>7</td>\n",
       "      <td>Cash</td>\n",
       "      <td>Yes</td>\n",
       "      <td>Wonderful Country, Landscape, Nature</td>\n",
       "      <td>3214906.5</td>\n",
       "      <td>Europe</td>\n",
       "    </tr>\n",
       "    <tr>\n",
       "      <th>tour_1000</th>\n",
       "      <td>UNITED KINGDOM</td>\n",
       "      <td>25-44</td>\n",
       "      <td>Alone</td>\n",
       "      <td>0.0</td>\n",
       "      <td>1.0</td>\n",
       "      <td>Visiting Friends and Relatives</td>\n",
       "      <td>Cultural tourism</td>\n",
       "      <td>Friends, relatives</td>\n",
       "      <td>Independent</td>\n",
       "      <td>No</td>\n",
       "      <td>...</td>\n",
       "      <td>No</td>\n",
       "      <td>No</td>\n",
       "      <td>No</td>\n",
       "      <td>1</td>\n",
       "      <td>31</td>\n",
       "      <td>Cash</td>\n",
       "      <td>No</td>\n",
       "      <td>Excellent Experience</td>\n",
       "      <td>3315000.0</td>\n",
       "      <td>Europe</td>\n",
       "    </tr>\n",
       "    <tr>\n",
       "      <th>tour_1002</th>\n",
       "      <td>UNITED KINGDOM</td>\n",
       "      <td>25-44</td>\n",
       "      <td>Spouse</td>\n",
       "      <td>1.0</td>\n",
       "      <td>1.0</td>\n",
       "      <td>Leisure and Holidays</td>\n",
       "      <td>Wildlife tourism</td>\n",
       "      <td>Travel, agent, tour operator</td>\n",
       "      <td>Package Tour</td>\n",
       "      <td>No</td>\n",
       "      <td>...</td>\n",
       "      <td>Yes</td>\n",
       "      <td>Yes</td>\n",
       "      <td>No</td>\n",
       "      <td>11</td>\n",
       "      <td>0</td>\n",
       "      <td>Cash</td>\n",
       "      <td>Yes</td>\n",
       "      <td>Friendly People</td>\n",
       "      <td>7790250.0</td>\n",
       "      <td>Europe</td>\n",
       "    </tr>\n",
       "    <tr>\n",
       "      <th>tour_1004</th>\n",
       "      <td>CHINA</td>\n",
       "      <td>2024-01-01 00:00:00</td>\n",
       "      <td>Alone</td>\n",
       "      <td>1.0</td>\n",
       "      <td>0.0</td>\n",
       "      <td>Leisure and Holidays</td>\n",
       "      <td>Wildlife tourism</td>\n",
       "      <td>Travel, agent, tour operator</td>\n",
       "      <td>Independent</td>\n",
       "      <td>No</td>\n",
       "      <td>...</td>\n",
       "      <td>No</td>\n",
       "      <td>No</td>\n",
       "      <td>No</td>\n",
       "      <td>7</td>\n",
       "      <td>4</td>\n",
       "      <td>Cash</td>\n",
       "      <td>Yes</td>\n",
       "      <td>No comments</td>\n",
       "      <td>1657500.0</td>\n",
       "      <td>CHINA</td>\n",
       "    </tr>\n",
       "    <tr>\n",
       "      <th>tour_1005</th>\n",
       "      <td>UNITED KINGDOM</td>\n",
       "      <td>25-44</td>\n",
       "      <td>Alone</td>\n",
       "      <td>0.0</td>\n",
       "      <td>1.0</td>\n",
       "      <td>Leisure and Holidays</td>\n",
       "      <td>Wildlife tourism</td>\n",
       "      <td>Travel, agent, tour operator</td>\n",
       "      <td>Package Tour</td>\n",
       "      <td>No</td>\n",
       "      <td>...</td>\n",
       "      <td>Yes</td>\n",
       "      <td>Yes</td>\n",
       "      <td>No</td>\n",
       "      <td>9</td>\n",
       "      <td>3</td>\n",
       "      <td>Cash</td>\n",
       "      <td>Yes</td>\n",
       "      <td>Wildlife</td>\n",
       "      <td>120950.0</td>\n",
       "      <td>Europe</td>\n",
       "    </tr>\n",
       "    <tr>\n",
       "      <th>tour_1007</th>\n",
       "      <td>SOUTH AFRICA</td>\n",
       "      <td>45-64</td>\n",
       "      <td>Alone</td>\n",
       "      <td>0.0</td>\n",
       "      <td>1.0</td>\n",
       "      <td>Business</td>\n",
       "      <td>Mountain climbing</td>\n",
       "      <td>Friends, relatives</td>\n",
       "      <td>Independent</td>\n",
       "      <td>No</td>\n",
       "      <td>...</td>\n",
       "      <td>No</td>\n",
       "      <td>No</td>\n",
       "      <td>No</td>\n",
       "      <td>9</td>\n",
       "      <td>0</td>\n",
       "      <td>Cash</td>\n",
       "      <td>Yes</td>\n",
       "      <td>Friendly People</td>\n",
       "      <td>466140.0</td>\n",
       "      <td>Southern Africa</td>\n",
       "    </tr>\n",
       "    <tr>\n",
       "      <th>tour_1008</th>\n",
       "      <td>UNITED STATES OF AMERICA</td>\n",
       "      <td>45-64</td>\n",
       "      <td>Friends/Relatives</td>\n",
       "      <td>1.0</td>\n",
       "      <td>1.0</td>\n",
       "      <td>Leisure and Holidays</td>\n",
       "      <td>Wildlife tourism</td>\n",
       "      <td>Travel, agent, tour operator</td>\n",
       "      <td>Package Tour</td>\n",
       "      <td>Yes</td>\n",
       "      <td>...</td>\n",
       "      <td>Yes</td>\n",
       "      <td>Yes</td>\n",
       "      <td>Yes</td>\n",
       "      <td>10</td>\n",
       "      <td>3</td>\n",
       "      <td>Cash</td>\n",
       "      <td>Yes</td>\n",
       "      <td>Friendly People</td>\n",
       "      <td>3480750.0</td>\n",
       "      <td>UNITED STATES OF AMERICA</td>\n",
       "    </tr>\n",
       "    <tr>\n",
       "      <th>tour_101</th>\n",
       "      <td>NIGERIA</td>\n",
       "      <td>25-44</td>\n",
       "      <td>Alone</td>\n",
       "      <td>0.0</td>\n",
       "      <td>1.0</td>\n",
       "      <td>Leisure and Holidays</td>\n",
       "      <td>Cultural tourism</td>\n",
       "      <td>Travel, agent, tour operator</td>\n",
       "      <td>Independent</td>\n",
       "      <td>No</td>\n",
       "      <td>...</td>\n",
       "      <td>No</td>\n",
       "      <td>No</td>\n",
       "      <td>No</td>\n",
       "      <td>4</td>\n",
       "      <td>0</td>\n",
       "      <td>Cash</td>\n",
       "      <td>Yes</td>\n",
       "      <td>Friendly People</td>\n",
       "      <td>994500.0</td>\n",
       "      <td>West Africa</td>\n",
       "    </tr>\n",
       "    <tr>\n",
       "      <th>tour_1011</th>\n",
       "      <td>INDIA</td>\n",
       "      <td>25-44</td>\n",
       "      <td>Alone</td>\n",
       "      <td>1.0</td>\n",
       "      <td>0.0</td>\n",
       "      <td>Business</td>\n",
       "      <td>Wildlife tourism</td>\n",
       "      <td>Travel, agent, tour operator</td>\n",
       "      <td>Independent</td>\n",
       "      <td>No</td>\n",
       "      <td>...</td>\n",
       "      <td>No</td>\n",
       "      <td>No</td>\n",
       "      <td>No</td>\n",
       "      <td>5</td>\n",
       "      <td>0</td>\n",
       "      <td>Credit Card</td>\n",
       "      <td>Yes</td>\n",
       "      <td>Friendly People</td>\n",
       "      <td>2486250.0</td>\n",
       "      <td>INDIA</td>\n",
       "    </tr>\n",
       "    <tr>\n",
       "      <th>tour_1012</th>\n",
       "      <td>BRAZIL</td>\n",
       "      <td>25-44</td>\n",
       "      <td>Spouse</td>\n",
       "      <td>1.0</td>\n",
       "      <td>1.0</td>\n",
       "      <td>Leisure and Holidays</td>\n",
       "      <td>Wildlife tourism</td>\n",
       "      <td>Radio, TV, Web</td>\n",
       "      <td>Independent</td>\n",
       "      <td>No</td>\n",
       "      <td>...</td>\n",
       "      <td>No</td>\n",
       "      <td>No</td>\n",
       "      <td>No</td>\n",
       "      <td>17</td>\n",
       "      <td>3</td>\n",
       "      <td>Cash</td>\n",
       "      <td>Yes</td>\n",
       "      <td>Wonderful Country, Landscape, Nature</td>\n",
       "      <td>1117155.0</td>\n",
       "      <td>BRAZIL</td>\n",
       "    </tr>\n",
       "    <tr>\n",
       "      <th>tour_1013</th>\n",
       "      <td>CANADA</td>\n",
       "      <td>45-64</td>\n",
       "      <td>Children</td>\n",
       "      <td>2.0</td>\n",
       "      <td>0.0</td>\n",
       "      <td>Leisure and Holidays</td>\n",
       "      <td>Beach tourism</td>\n",
       "      <td>Friends, relatives</td>\n",
       "      <td>Independent</td>\n",
       "      <td>No</td>\n",
       "      <td>...</td>\n",
       "      <td>No</td>\n",
       "      <td>No</td>\n",
       "      <td>No</td>\n",
       "      <td>30</td>\n",
       "      <td>0</td>\n",
       "      <td>Cash</td>\n",
       "      <td>No</td>\n",
       "      <td>Excellent Experience</td>\n",
       "      <td>8121750.0</td>\n",
       "      <td>CANADA</td>\n",
       "    </tr>\n",
       "    <tr>\n",
       "      <th>tour_1016</th>\n",
       "      <td>CANADA</td>\n",
       "      <td>45-64</td>\n",
       "      <td>Children</td>\n",
       "      <td>0.0</td>\n",
       "      <td>2.0</td>\n",
       "      <td>Leisure and Holidays</td>\n",
       "      <td>Wildlife tourism</td>\n",
       "      <td>Travel, agent, tour operator</td>\n",
       "      <td>Independent</td>\n",
       "      <td>No</td>\n",
       "      <td>...</td>\n",
       "      <td>No</td>\n",
       "      <td>No</td>\n",
       "      <td>No</td>\n",
       "      <td>11</td>\n",
       "      <td>3</td>\n",
       "      <td>Cash</td>\n",
       "      <td>Yes</td>\n",
       "      <td>No comments</td>\n",
       "      <td>331500.0</td>\n",
       "      <td>CANADA</td>\n",
       "    </tr>\n",
       "    <tr>\n",
       "      <th>tour_1017</th>\n",
       "      <td>MALT</td>\n",
       "      <td>25-44</td>\n",
       "      <td>Friends/Relatives</td>\n",
       "      <td>2.0</td>\n",
       "      <td>0.0</td>\n",
       "      <td>Leisure and Holidays</td>\n",
       "      <td>Wildlife tourism</td>\n",
       "      <td>Friends, relatives</td>\n",
       "      <td>Package Tour</td>\n",
       "      <td>Yes</td>\n",
       "      <td>...</td>\n",
       "      <td>No</td>\n",
       "      <td>No</td>\n",
       "      <td>No</td>\n",
       "      <td>10</td>\n",
       "      <td>0</td>\n",
       "      <td>Cash</td>\n",
       "      <td>Yes</td>\n",
       "      <td>No comments</td>\n",
       "      <td>11346650.0</td>\n",
       "      <td>Europe</td>\n",
       "    </tr>\n",
       "    <tr>\n",
       "      <th>tour_1018</th>\n",
       "      <td>MOZAMBIQUE</td>\n",
       "      <td>25-44</td>\n",
       "      <td>Alone</td>\n",
       "      <td>0.0</td>\n",
       "      <td>1.0</td>\n",
       "      <td>Visiting Friends and Relatives</td>\n",
       "      <td>Beach tourism</td>\n",
       "      <td>Friends, relatives</td>\n",
       "      <td>Independent</td>\n",
       "      <td>No</td>\n",
       "      <td>...</td>\n",
       "      <td>No</td>\n",
       "      <td>No</td>\n",
       "      <td>No</td>\n",
       "      <td>2</td>\n",
       "      <td>0</td>\n",
       "      <td>Cash</td>\n",
       "      <td>Yes</td>\n",
       "      <td>Wildlife</td>\n",
       "      <td>497250.0</td>\n",
       "      <td>Southern Africa</td>\n",
       "    </tr>\n",
       "    <tr>\n",
       "      <th>tour_102</th>\n",
       "      <td>RWANDA</td>\n",
       "      <td>65+</td>\n",
       "      <td>Alone</td>\n",
       "      <td>1.0</td>\n",
       "      <td>0.0</td>\n",
       "      <td>Leisure and Holidays</td>\n",
       "      <td>Beach tourism</td>\n",
       "      <td>Friends, relatives</td>\n",
       "      <td>Independent</td>\n",
       "      <td>No</td>\n",
       "      <td>...</td>\n",
       "      <td>No</td>\n",
       "      <td>No</td>\n",
       "      <td>No</td>\n",
       "      <td>0</td>\n",
       "      <td>2</td>\n",
       "      <td>Cash</td>\n",
       "      <td>Yes</td>\n",
       "      <td>Wonderful Country, Landscape, Nature</td>\n",
       "      <td>331500.0</td>\n",
       "      <td>East Africa</td>\n",
       "    </tr>\n",
       "    <tr>\n",
       "      <th>tour_1021</th>\n",
       "      <td>AUSTRIA</td>\n",
       "      <td>45-64</td>\n",
       "      <td>Friends/Relatives</td>\n",
       "      <td>4.0</td>\n",
       "      <td>1.0</td>\n",
       "      <td>Visiting Friends and Relatives</td>\n",
       "      <td>Mountain climbing</td>\n",
       "      <td>Friends, relatives</td>\n",
       "      <td>Independent</td>\n",
       "      <td>No</td>\n",
       "      <td>...</td>\n",
       "      <td>No</td>\n",
       "      <td>No</td>\n",
       "      <td>No</td>\n",
       "      <td>24</td>\n",
       "      <td>0</td>\n",
       "      <td>Cash</td>\n",
       "      <td>No</td>\n",
       "      <td>Friendly People</td>\n",
       "      <td>2000000.0</td>\n",
       "      <td>Europe</td>\n",
       "    </tr>\n",
       "    <tr>\n",
       "      <th>tour_1022</th>\n",
       "      <td>MYANMAR</td>\n",
       "      <td>25-44</td>\n",
       "      <td>Alone</td>\n",
       "      <td>1.0</td>\n",
       "      <td>0.0</td>\n",
       "      <td>Meetings and Conference</td>\n",
       "      <td>Wildlife tourism</td>\n",
       "      <td>Radio, TV, Web</td>\n",
       "      <td>Independent</td>\n",
       "      <td>No</td>\n",
       "      <td>...</td>\n",
       "      <td>No</td>\n",
       "      <td>No</td>\n",
       "      <td>No</td>\n",
       "      <td>5</td>\n",
       "      <td>0</td>\n",
       "      <td>Cash</td>\n",
       "      <td>Yes</td>\n",
       "      <td>Friendly People</td>\n",
       "      <td>331500.0</td>\n",
       "      <td>MYANMAR</td>\n",
       "    </tr>\n",
       "    <tr>\n",
       "      <th>tour_1024</th>\n",
       "      <td>GERMANY</td>\n",
       "      <td>25-44</td>\n",
       "      <td>Children</td>\n",
       "      <td>1.0</td>\n",
       "      <td>1.0</td>\n",
       "      <td>Visiting Friends and Relatives</td>\n",
       "      <td>Cultural tourism</td>\n",
       "      <td>Friends, relatives</td>\n",
       "      <td>Independent</td>\n",
       "      <td>No</td>\n",
       "      <td>...</td>\n",
       "      <td>No</td>\n",
       "      <td>No</td>\n",
       "      <td>No</td>\n",
       "      <td>3</td>\n",
       "      <td>0</td>\n",
       "      <td>Cash</td>\n",
       "      <td>Yes</td>\n",
       "      <td>Friendly People</td>\n",
       "      <td>2269330.0</td>\n",
       "      <td>Europe</td>\n",
       "    </tr>\n",
       "    <tr>\n",
       "      <th>tour_1026</th>\n",
       "      <td>KENYA</td>\n",
       "      <td>25-44</td>\n",
       "      <td>Alone</td>\n",
       "      <td>1.0</td>\n",
       "      <td>0.0</td>\n",
       "      <td>Business</td>\n",
       "      <td>Mountain climbing</td>\n",
       "      <td>Friends, relatives</td>\n",
       "      <td>Independent</td>\n",
       "      <td>No</td>\n",
       "      <td>...</td>\n",
       "      <td>No</td>\n",
       "      <td>No</td>\n",
       "      <td>No</td>\n",
       "      <td>4</td>\n",
       "      <td>0</td>\n",
       "      <td>Cash</td>\n",
       "      <td>No</td>\n",
       "      <td>Friendly People</td>\n",
       "      <td>377520.0</td>\n",
       "      <td>East Africa</td>\n",
       "    </tr>\n",
       "    <tr>\n",
       "      <th>tour_1027</th>\n",
       "      <td>UNITED KINGDOM</td>\n",
       "      <td>2024-01-01 00:00:00</td>\n",
       "      <td>Alone</td>\n",
       "      <td>1.0</td>\n",
       "      <td>0.0</td>\n",
       "      <td>Volunteering</td>\n",
       "      <td>Cultural tourism</td>\n",
       "      <td>Tanzania Mission Abroad</td>\n",
       "      <td>Independent</td>\n",
       "      <td>No</td>\n",
       "      <td>...</td>\n",
       "      <td>No</td>\n",
       "      <td>No</td>\n",
       "      <td>No</td>\n",
       "      <td>70</td>\n",
       "      <td>0</td>\n",
       "      <td>Cash</td>\n",
       "      <td>Yes</td>\n",
       "      <td>Wonderful Country, Landscape, Nature</td>\n",
       "      <td>711262.5</td>\n",
       "      <td>Europe</td>\n",
       "    </tr>\n",
       "    <tr>\n",
       "      <th>tour_1028</th>\n",
       "      <td>KENYA</td>\n",
       "      <td>45-64</td>\n",
       "      <td>Alone</td>\n",
       "      <td>0.0</td>\n",
       "      <td>1.0</td>\n",
       "      <td>Business</td>\n",
       "      <td>Wildlife tourism</td>\n",
       "      <td>Friends, relatives</td>\n",
       "      <td>Independent</td>\n",
       "      <td>No</td>\n",
       "      <td>...</td>\n",
       "      <td>No</td>\n",
       "      <td>No</td>\n",
       "      <td>No</td>\n",
       "      <td>4</td>\n",
       "      <td>0</td>\n",
       "      <td>Cash</td>\n",
       "      <td>Yes</td>\n",
       "      <td>No comments</td>\n",
       "      <td>497250.0</td>\n",
       "      <td>East Africa</td>\n",
       "    </tr>\n",
       "    <tr>\n",
       "      <th>tour_1029</th>\n",
       "      <td>SWIZERLAND</td>\n",
       "      <td>45-64</td>\n",
       "      <td>Children</td>\n",
       "      <td>1.0</td>\n",
       "      <td>1.0</td>\n",
       "      <td>Leisure and Holidays</td>\n",
       "      <td>Wildlife tourism</td>\n",
       "      <td>Friends, relatives</td>\n",
       "      <td>Package Tour</td>\n",
       "      <td>Yes</td>\n",
       "      <td>...</td>\n",
       "      <td>No</td>\n",
       "      <td>No</td>\n",
       "      <td>No</td>\n",
       "      <td>10</td>\n",
       "      <td>0</td>\n",
       "      <td>Credit Card</td>\n",
       "      <td>No</td>\n",
       "      <td>Friendly People</td>\n",
       "      <td>7458750.0</td>\n",
       "      <td>Europe</td>\n",
       "    </tr>\n",
       "    <tr>\n",
       "      <th>tour_103</th>\n",
       "      <td>ALGERIA</td>\n",
       "      <td>25-44</td>\n",
       "      <td>Spouse</td>\n",
       "      <td>1.0</td>\n",
       "      <td>1.0</td>\n",
       "      <td>Leisure and Holidays</td>\n",
       "      <td>Beach tourism</td>\n",
       "      <td>Radio, TV, Web</td>\n",
       "      <td>Independent</td>\n",
       "      <td>No</td>\n",
       "      <td>...</td>\n",
       "      <td>No</td>\n",
       "      <td>No</td>\n",
       "      <td>No</td>\n",
       "      <td>0</td>\n",
       "      <td>11</td>\n",
       "      <td>Cash</td>\n",
       "      <td>Yes</td>\n",
       "      <td>Wildlife</td>\n",
       "      <td>3734347.5</td>\n",
       "      <td>North Africa</td>\n",
       "    </tr>\n",
       "    <tr>\n",
       "      <th>tour_1030</th>\n",
       "      <td>IRELAND</td>\n",
       "      <td>2024-01-01 00:00:00</td>\n",
       "      <td>Friends/Relatives</td>\n",
       "      <td>1.0</td>\n",
       "      <td>1.0</td>\n",
       "      <td>Leisure and Holidays</td>\n",
       "      <td>Wildlife tourism</td>\n",
       "      <td>others</td>\n",
       "      <td>Independent</td>\n",
       "      <td>No</td>\n",
       "      <td>...</td>\n",
       "      <td>No</td>\n",
       "      <td>No</td>\n",
       "      <td>No</td>\n",
       "      <td>20</td>\n",
       "      <td>6</td>\n",
       "      <td>Cash</td>\n",
       "      <td>Yes</td>\n",
       "      <td>Friendly People</td>\n",
       "      <td>5673325.0</td>\n",
       "      <td>Europe</td>\n",
       "    </tr>\n",
       "    <tr>\n",
       "      <th>tour_1032</th>\n",
       "      <td>DENMARK</td>\n",
       "      <td>2024-01-01 00:00:00</td>\n",
       "      <td>Friends/Relatives</td>\n",
       "      <td>2.0</td>\n",
       "      <td>2.0</td>\n",
       "      <td>Scientific and Academic</td>\n",
       "      <td>Beach tourism</td>\n",
       "      <td>Friends, relatives</td>\n",
       "      <td>Independent</td>\n",
       "      <td>No</td>\n",
       "      <td>...</td>\n",
       "      <td>No</td>\n",
       "      <td>No</td>\n",
       "      <td>No</td>\n",
       "      <td>15</td>\n",
       "      <td>7</td>\n",
       "      <td>Cash</td>\n",
       "      <td>Yes</td>\n",
       "      <td>No comments</td>\n",
       "      <td>400000.0</td>\n",
       "      <td>Europe</td>\n",
       "    </tr>\n",
       "    <tr>\n",
       "      <th>tour_1033</th>\n",
       "      <td>UNITED KINGDOM</td>\n",
       "      <td>25-44</td>\n",
       "      <td>Alone</td>\n",
       "      <td>0.0</td>\n",
       "      <td>1.0</td>\n",
       "      <td>Business</td>\n",
       "      <td>Wildlife tourism</td>\n",
       "      <td>Travel, agent, tour operator</td>\n",
       "      <td>Independent</td>\n",
       "      <td>No</td>\n",
       "      <td>...</td>\n",
       "      <td>No</td>\n",
       "      <td>No</td>\n",
       "      <td>No</td>\n",
       "      <td>1</td>\n",
       "      <td>0</td>\n",
       "      <td>Credit Card</td>\n",
       "      <td>Yes</td>\n",
       "      <td>No comments</td>\n",
       "      <td>663000.0</td>\n",
       "      <td>Europe</td>\n",
       "    </tr>\n",
       "    <tr>\n",
       "      <th>tour_1034</th>\n",
       "      <td>GERMANY</td>\n",
       "      <td>2024-01-01 00:00:00</td>\n",
       "      <td>Alone</td>\n",
       "      <td>1.0</td>\n",
       "      <td>0.0</td>\n",
       "      <td>Leisure and Holidays</td>\n",
       "      <td>Wildlife tourism</td>\n",
       "      <td>Friends, relatives</td>\n",
       "      <td>Independent</td>\n",
       "      <td>No</td>\n",
       "      <td>...</td>\n",
       "      <td>No</td>\n",
       "      <td>No</td>\n",
       "      <td>No</td>\n",
       "      <td>24</td>\n",
       "      <td>4</td>\n",
       "      <td>Cash</td>\n",
       "      <td>Yes</td>\n",
       "      <td>Good service</td>\n",
       "      <td>453866.0</td>\n",
       "      <td>Europe</td>\n",
       "    </tr>\n",
       "    <tr>\n",
       "      <th>tour_1035</th>\n",
       "      <td>SPAIN</td>\n",
       "      <td>45-64</td>\n",
       "      <td>Spouse and Children</td>\n",
       "      <td>3.0</td>\n",
       "      <td>1.0</td>\n",
       "      <td>Leisure and Holidays</td>\n",
       "      <td>Wildlife tourism</td>\n",
       "      <td>Travel, agent, tour operator</td>\n",
       "      <td>Package Tour</td>\n",
       "      <td>Yes</td>\n",
       "      <td>...</td>\n",
       "      <td>Yes</td>\n",
       "      <td>Yes</td>\n",
       "      <td>Yes</td>\n",
       "      <td>4</td>\n",
       "      <td>4</td>\n",
       "      <td>Cash</td>\n",
       "      <td>Yes</td>\n",
       "      <td>Wildlife</td>\n",
       "      <td>25442625.0</td>\n",
       "      <td>Europe</td>\n",
       "    </tr>\n",
       "    <tr>\n",
       "      <th>tour_1036</th>\n",
       "      <td>FRANCE</td>\n",
       "      <td>2024-01-01 00:00:00</td>\n",
       "      <td>Alone</td>\n",
       "      <td>0.0</td>\n",
       "      <td>1.0</td>\n",
       "      <td>Leisure and Holidays</td>\n",
       "      <td>Conference tourism</td>\n",
       "      <td>others</td>\n",
       "      <td>Package Tour</td>\n",
       "      <td>No</td>\n",
       "      <td>...</td>\n",
       "      <td>Yes</td>\n",
       "      <td>Yes</td>\n",
       "      <td>Yes</td>\n",
       "      <td>11</td>\n",
       "      <td>3</td>\n",
       "      <td>Cash</td>\n",
       "      <td>Yes</td>\n",
       "      <td>Wonderful Country, Landscape, Nature</td>\n",
       "      <td>6961500.0</td>\n",
       "      <td>Europe</td>\n",
       "    </tr>\n",
       "    <tr>\n",
       "      <th>tour_1038</th>\n",
       "      <td>UNITED KINGDOM</td>\n",
       "      <td>2024-01-01 00:00:00</td>\n",
       "      <td>Alone</td>\n",
       "      <td>0.0</td>\n",
       "      <td>1.0</td>\n",
       "      <td>Volunteering</td>\n",
       "      <td>Hunting tourism</td>\n",
       "      <td>Friends, relatives</td>\n",
       "      <td>Independent</td>\n",
       "      <td>No</td>\n",
       "      <td>...</td>\n",
       "      <td>No</td>\n",
       "      <td>No</td>\n",
       "      <td>No</td>\n",
       "      <td>56</td>\n",
       "      <td>0</td>\n",
       "      <td>Credit Card</td>\n",
       "      <td>No</td>\n",
       "      <td>Friendly People</td>\n",
       "      <td>1707030.0</td>\n",
       "      <td>Europe</td>\n",
       "    </tr>\n",
       "    <tr>\n",
       "      <th>tour_1039</th>\n",
       "      <td>UNITED KINGDOM</td>\n",
       "      <td>45-64</td>\n",
       "      <td>Alone</td>\n",
       "      <td>1.0</td>\n",
       "      <td>0.0</td>\n",
       "      <td>Visiting Friends and Relatives</td>\n",
       "      <td>Hunting tourism</td>\n",
       "      <td>Friends, relatives</td>\n",
       "      <td>Independent</td>\n",
       "      <td>No</td>\n",
       "      <td>...</td>\n",
       "      <td>No</td>\n",
       "      <td>No</td>\n",
       "      <td>No</td>\n",
       "      <td>12</td>\n",
       "      <td>0</td>\n",
       "      <td>Cash</td>\n",
       "      <td>No</td>\n",
       "      <td>Friendly People</td>\n",
       "      <td>5690100.0</td>\n",
       "      <td>Europe</td>\n",
       "    </tr>\n",
       "    <tr>\n",
       "      <th>tour_104</th>\n",
       "      <td>ITALY</td>\n",
       "      <td>45-64</td>\n",
       "      <td>Friends/Relatives</td>\n",
       "      <td>2.0</td>\n",
       "      <td>0.0</td>\n",
       "      <td>Leisure and Holidays</td>\n",
       "      <td>Wildlife tourism</td>\n",
       "      <td>Radio, TV, Web</td>\n",
       "      <td>Package Tour</td>\n",
       "      <td>Yes</td>\n",
       "      <td>...</td>\n",
       "      <td>Yes</td>\n",
       "      <td>No</td>\n",
       "      <td>No</td>\n",
       "      <td>6</td>\n",
       "      <td>5</td>\n",
       "      <td>Cash</td>\n",
       "      <td>Yes</td>\n",
       "      <td>Excellent Experience</td>\n",
       "      <td>2652000.0</td>\n",
       "      <td>Europe</td>\n",
       "    </tr>\n",
       "    <tr>\n",
       "      <th>tour_1040</th>\n",
       "      <td>EGYPT</td>\n",
       "      <td>2024-01-01 00:00:00</td>\n",
       "      <td>Alone</td>\n",
       "      <td>0.0</td>\n",
       "      <td>1.0</td>\n",
       "      <td>Visiting Friends and Relatives</td>\n",
       "      <td>Bird watching</td>\n",
       "      <td>Travel, agent, tour operator</td>\n",
       "      <td>Package Tour</td>\n",
       "      <td>Yes</td>\n",
       "      <td>...</td>\n",
       "      <td>No</td>\n",
       "      <td>No</td>\n",
       "      <td>No</td>\n",
       "      <td>2</td>\n",
       "      <td>0</td>\n",
       "      <td>Cash</td>\n",
       "      <td>Yes</td>\n",
       "      <td>No comments</td>\n",
       "      <td>2320500.0</td>\n",
       "      <td>North Africa</td>\n",
       "    </tr>\n",
       "    <tr>\n",
       "      <th>tour_1041</th>\n",
       "      <td>UNITED KINGDOM</td>\n",
       "      <td>45-64</td>\n",
       "      <td>Alone</td>\n",
       "      <td>1.0</td>\n",
       "      <td>0.0</td>\n",
       "      <td>Visiting Friends and Relatives</td>\n",
       "      <td>Hunting tourism</td>\n",
       "      <td>Friends, relatives</td>\n",
       "      <td>Independent</td>\n",
       "      <td>No</td>\n",
       "      <td>...</td>\n",
       "      <td>No</td>\n",
       "      <td>No</td>\n",
       "      <td>No</td>\n",
       "      <td>11</td>\n",
       "      <td>0</td>\n",
       "      <td>Cash</td>\n",
       "      <td>No</td>\n",
       "      <td>No comments</td>\n",
       "      <td>4267575.0</td>\n",
       "      <td>Europe</td>\n",
       "    </tr>\n",
       "    <tr>\n",
       "      <th>tour_1042</th>\n",
       "      <td>QATAR</td>\n",
       "      <td>25-44</td>\n",
       "      <td>Friends/Relatives</td>\n",
       "      <td>2.0</td>\n",
       "      <td>2.0</td>\n",
       "      <td>Leisure and Holidays</td>\n",
       "      <td>Wildlife tourism</td>\n",
       "      <td>Friends, relatives</td>\n",
       "      <td>Package Tour</td>\n",
       "      <td>Yes</td>\n",
       "      <td>...</td>\n",
       "      <td>Yes</td>\n",
       "      <td>Yes</td>\n",
       "      <td>No</td>\n",
       "      <td>13</td>\n",
       "      <td>10</td>\n",
       "      <td>Cash</td>\n",
       "      <td>No</td>\n",
       "      <td>Wildlife</td>\n",
       "      <td>17316000.0</td>\n",
       "      <td>QATAR</td>\n",
       "    </tr>\n",
       "    <tr>\n",
       "      <th>tour_1043</th>\n",
       "      <td>MOZAMBIQUE</td>\n",
       "      <td>2024-01-01 00:00:00</td>\n",
       "      <td>Alone</td>\n",
       "      <td>1.0</td>\n",
       "      <td>0.0</td>\n",
       "      <td>Visiting Friends and Relatives</td>\n",
       "      <td>Hunting tourism</td>\n",
       "      <td>Friends, relatives</td>\n",
       "      <td>Independent</td>\n",
       "      <td>No</td>\n",
       "      <td>...</td>\n",
       "      <td>No</td>\n",
       "      <td>No</td>\n",
       "      <td>No</td>\n",
       "      <td>3</td>\n",
       "      <td>0</td>\n",
       "      <td>Cash</td>\n",
       "      <td>Yes</td>\n",
       "      <td>Excellent Experience</td>\n",
       "      <td>663000.0</td>\n",
       "      <td>Southern Africa</td>\n",
       "    </tr>\n",
       "    <tr>\n",
       "      <th>tour_1045</th>\n",
       "      <td>KENYA</td>\n",
       "      <td>45-64</td>\n",
       "      <td>Alone</td>\n",
       "      <td>1.0</td>\n",
       "      <td>0.0</td>\n",
       "      <td>Scientific and Academic</td>\n",
       "      <td>Mountain climbing</td>\n",
       "      <td>inflight magazines</td>\n",
       "      <td>Package Tour</td>\n",
       "      <td>Yes</td>\n",
       "      <td>...</td>\n",
       "      <td>No</td>\n",
       "      <td>No</td>\n",
       "      <td>No</td>\n",
       "      <td>5</td>\n",
       "      <td>0</td>\n",
       "      <td>Credit Card</td>\n",
       "      <td>No</td>\n",
       "      <td>Wildlife</td>\n",
       "      <td>3812250.0</td>\n",
       "      <td>East Africa</td>\n",
       "    </tr>\n",
       "    <tr>\n",
       "      <th>tour_1046</th>\n",
       "      <td>CHINA</td>\n",
       "      <td>25-44</td>\n",
       "      <td>Alone</td>\n",
       "      <td>1.0</td>\n",
       "      <td>0.0</td>\n",
       "      <td>Leisure and Holidays</td>\n",
       "      <td>Beach tourism</td>\n",
       "      <td>Newspaper, magazines,brochures</td>\n",
       "      <td>Independent</td>\n",
       "      <td>No</td>\n",
       "      <td>...</td>\n",
       "      <td>No</td>\n",
       "      <td>No</td>\n",
       "      <td>No</td>\n",
       "      <td>2</td>\n",
       "      <td>0</td>\n",
       "      <td>Other</td>\n",
       "      <td>No</td>\n",
       "      <td>Friendly People</td>\n",
       "      <td>828750.0</td>\n",
       "      <td>CHINA</td>\n",
       "    </tr>\n",
       "    <tr>\n",
       "      <th>tour_1047</th>\n",
       "      <td>MALAWI</td>\n",
       "      <td>25-44</td>\n",
       "      <td>Alone</td>\n",
       "      <td>0.0</td>\n",
       "      <td>1.0</td>\n",
       "      <td>Meetings and Conference</td>\n",
       "      <td>Beach tourism</td>\n",
       "      <td>Friends, relatives</td>\n",
       "      <td>Independent</td>\n",
       "      <td>No</td>\n",
       "      <td>...</td>\n",
       "      <td>No</td>\n",
       "      <td>No</td>\n",
       "      <td>No</td>\n",
       "      <td>21</td>\n",
       "      <td>0</td>\n",
       "      <td>Credit Card</td>\n",
       "      <td>No</td>\n",
       "      <td>Friendly People</td>\n",
       "      <td>3000000.0</td>\n",
       "      <td>Southern Africa</td>\n",
       "    </tr>\n",
       "    <tr>\n",
       "      <th>tour_1048</th>\n",
       "      <td>UNITED KINGDOM</td>\n",
       "      <td>45-64</td>\n",
       "      <td>Spouse</td>\n",
       "      <td>1.0</td>\n",
       "      <td>1.0</td>\n",
       "      <td>Visiting Friends and Relatives</td>\n",
       "      <td>Beach tourism</td>\n",
       "      <td>Friends, relatives</td>\n",
       "      <td>Independent</td>\n",
       "      <td>No</td>\n",
       "      <td>...</td>\n",
       "      <td>No</td>\n",
       "      <td>No</td>\n",
       "      <td>No</td>\n",
       "      <td>10</td>\n",
       "      <td>0</td>\n",
       "      <td>Cash</td>\n",
       "      <td>No</td>\n",
       "      <td>Excellent Experience</td>\n",
       "      <td>828750.0</td>\n",
       "      <td>Europe</td>\n",
       "    </tr>\n",
       "    <tr>\n",
       "      <th>tour_1049</th>\n",
       "      <td>UNITED KINGDOM</td>\n",
       "      <td>25-44</td>\n",
       "      <td>Children</td>\n",
       "      <td>0.0</td>\n",
       "      <td>3.0</td>\n",
       "      <td>Visiting Friends and Relatives</td>\n",
       "      <td>Beach tourism</td>\n",
       "      <td>Friends, relatives</td>\n",
       "      <td>Independent</td>\n",
       "      <td>No</td>\n",
       "      <td>...</td>\n",
       "      <td>No</td>\n",
       "      <td>No</td>\n",
       "      <td>No</td>\n",
       "      <td>29</td>\n",
       "      <td>0</td>\n",
       "      <td>Cash</td>\n",
       "      <td>No</td>\n",
       "      <td>No comments</td>\n",
       "      <td>28450500.0</td>\n",
       "      <td>Europe</td>\n",
       "    </tr>\n",
       "    <tr>\n",
       "      <th>tour_105</th>\n",
       "      <td>JAPAN</td>\n",
       "      <td>25-44</td>\n",
       "      <td>Alone</td>\n",
       "      <td>1.0</td>\n",
       "      <td>0.0</td>\n",
       "      <td>Volunteering</td>\n",
       "      <td>Cultural tourism</td>\n",
       "      <td>Travel, agent, tour operator</td>\n",
       "      <td>Independent</td>\n",
       "      <td>No</td>\n",
       "      <td>...</td>\n",
       "      <td>No</td>\n",
       "      <td>No</td>\n",
       "      <td>No</td>\n",
       "      <td>27</td>\n",
       "      <td>2</td>\n",
       "      <td>Cash</td>\n",
       "      <td>Yes</td>\n",
       "      <td>No comments</td>\n",
       "      <td>745875.0</td>\n",
       "      <td>JAPAN</td>\n",
       "    </tr>\n",
       "    <tr>\n",
       "      <th>tour_1050</th>\n",
       "      <td>CHINA</td>\n",
       "      <td>2024-01-01 00:00:00</td>\n",
       "      <td>Alone</td>\n",
       "      <td>0.0</td>\n",
       "      <td>1.0</td>\n",
       "      <td>Leisure and Holidays</td>\n",
       "      <td>Wildlife tourism</td>\n",
       "      <td>Friends, relatives</td>\n",
       "      <td>Independent</td>\n",
       "      <td>No</td>\n",
       "      <td>...</td>\n",
       "      <td>No</td>\n",
       "      <td>No</td>\n",
       "      <td>No</td>\n",
       "      <td>34</td>\n",
       "      <td>4</td>\n",
       "      <td>Cash</td>\n",
       "      <td>Yes</td>\n",
       "      <td>Friendly People</td>\n",
       "      <td>3273562.5</td>\n",
       "      <td>CHINA</td>\n",
       "    </tr>\n",
       "    <tr>\n",
       "      <th>tour_1051</th>\n",
       "      <td>UNITED STATES OF AMERICA</td>\n",
       "      <td>45-64</td>\n",
       "      <td>Spouse</td>\n",
       "      <td>1.0</td>\n",
       "      <td>1.0</td>\n",
       "      <td>Leisure and Holidays</td>\n",
       "      <td>Beach tourism</td>\n",
       "      <td>others</td>\n",
       "      <td>Independent</td>\n",
       "      <td>No</td>\n",
       "      <td>...</td>\n",
       "      <td>No</td>\n",
       "      <td>No</td>\n",
       "      <td>No</td>\n",
       "      <td>0</td>\n",
       "      <td>5</td>\n",
       "      <td>Cash</td>\n",
       "      <td>Yes</td>\n",
       "      <td>No comments</td>\n",
       "      <td>3397875.0</td>\n",
       "      <td>UNITED STATES OF AMERICA</td>\n",
       "    </tr>\n",
       "    <tr>\n",
       "      <th>tour_1052</th>\n",
       "      <td>UNITED KINGDOM</td>\n",
       "      <td>45-64</td>\n",
       "      <td>Alone</td>\n",
       "      <td>0.0</td>\n",
       "      <td>1.0</td>\n",
       "      <td>Business</td>\n",
       "      <td>business</td>\n",
       "      <td>others</td>\n",
       "      <td>Independent</td>\n",
       "      <td>No</td>\n",
       "      <td>...</td>\n",
       "      <td>No</td>\n",
       "      <td>No</td>\n",
       "      <td>No</td>\n",
       "      <td>20</td>\n",
       "      <td>0</td>\n",
       "      <td>Cash</td>\n",
       "      <td>Yes</td>\n",
       "      <td>Friendly People</td>\n",
       "      <td>6132750.0</td>\n",
       "      <td>Europe</td>\n",
       "    </tr>\n",
       "    <tr>\n",
       "      <th>tour_1054</th>\n",
       "      <td>SWEDEN</td>\n",
       "      <td>45-64</td>\n",
       "      <td>Alone</td>\n",
       "      <td>0.0</td>\n",
       "      <td>1.0</td>\n",
       "      <td>Visiting Friends and Relatives</td>\n",
       "      <td>Beach tourism</td>\n",
       "      <td>Friends, relatives</td>\n",
       "      <td>Package Tour</td>\n",
       "      <td>Yes</td>\n",
       "      <td>...</td>\n",
       "      <td>No</td>\n",
       "      <td>No</td>\n",
       "      <td>No</td>\n",
       "      <td>10</td>\n",
       "      <td>7</td>\n",
       "      <td>Credit Card</td>\n",
       "      <td>No</td>\n",
       "      <td>Friendly People</td>\n",
       "      <td>4992526.0</td>\n",
       "      <td>Europe</td>\n",
       "    </tr>\n",
       "    <tr>\n",
       "      <th>tour_1055</th>\n",
       "      <td>NETHERLANDS</td>\n",
       "      <td>25-44</td>\n",
       "      <td>Spouse</td>\n",
       "      <td>1.0</td>\n",
       "      <td>1.0</td>\n",
       "      <td>Leisure and Holidays</td>\n",
       "      <td>Wildlife tourism</td>\n",
       "      <td>Travel, agent, tour operator</td>\n",
       "      <td>Independent</td>\n",
       "      <td>No</td>\n",
       "      <td>...</td>\n",
       "      <td>No</td>\n",
       "      <td>No</td>\n",
       "      <td>No</td>\n",
       "      <td>10</td>\n",
       "      <td>4</td>\n",
       "      <td>Cash</td>\n",
       "      <td>Yes</td>\n",
       "      <td>No comments</td>\n",
       "      <td>1588531.0</td>\n",
       "      <td>Europe</td>\n",
       "    </tr>\n",
       "    <tr>\n",
       "      <th>tour_1057</th>\n",
       "      <td>FRANCE</td>\n",
       "      <td>25-44</td>\n",
       "      <td>Spouse and Children</td>\n",
       "      <td>1.0</td>\n",
       "      <td>2.0</td>\n",
       "      <td>Leisure and Holidays</td>\n",
       "      <td>Wildlife tourism</td>\n",
       "      <td>Travel, agent, tour operator</td>\n",
       "      <td>Package Tour</td>\n",
       "      <td>Yes</td>\n",
       "      <td>...</td>\n",
       "      <td>Yes</td>\n",
       "      <td>Yes</td>\n",
       "      <td>Yes</td>\n",
       "      <td>4</td>\n",
       "      <td>3</td>\n",
       "      <td>Cash</td>\n",
       "      <td>Yes</td>\n",
       "      <td>No comments</td>\n",
       "      <td>34039950.0</td>\n",
       "      <td>Europe</td>\n",
       "    </tr>\n",
       "    <tr>\n",
       "      <th>tour_1058</th>\n",
       "      <td>UAE</td>\n",
       "      <td>25-44</td>\n",
       "      <td>Alone</td>\n",
       "      <td>0.0</td>\n",
       "      <td>1.0</td>\n",
       "      <td>Visiting Friends and Relatives</td>\n",
       "      <td>Beach tourism</td>\n",
       "      <td>Friends, relatives</td>\n",
       "      <td>Independent</td>\n",
       "      <td>No</td>\n",
       "      <td>...</td>\n",
       "      <td>No</td>\n",
       "      <td>No</td>\n",
       "      <td>No</td>\n",
       "      <td>7</td>\n",
       "      <td>1</td>\n",
       "      <td>Cash</td>\n",
       "      <td>No</td>\n",
       "      <td>Friendly People</td>\n",
       "      <td>1657500.0</td>\n",
       "      <td>UAE</td>\n",
       "    </tr>\n",
       "  </tbody>\n",
       "</table>\n",
       "<p>50 rows × 23 columns</p>\n",
       "</div>"
      ],
      "text/plain": [
       "                            country            age_group          travel_with  \\\n",
       "ID                                                                              \n",
       "tour_0                   SWIZERLAND                45-64    Friends/Relatives   \n",
       "tour_10              UNITED KINGDOM                25-44                Alone   \n",
       "tour_1000            UNITED KINGDOM                25-44                Alone   \n",
       "tour_1002            UNITED KINGDOM                25-44               Spouse   \n",
       "tour_1004                     CHINA  2024-01-01 00:00:00                Alone   \n",
       "tour_1005            UNITED KINGDOM                25-44                Alone   \n",
       "tour_1007              SOUTH AFRICA                45-64                Alone   \n",
       "tour_1008  UNITED STATES OF AMERICA                45-64    Friends/Relatives   \n",
       "tour_101                    NIGERIA                25-44                Alone   \n",
       "tour_1011                     INDIA                25-44                Alone   \n",
       "tour_1012                    BRAZIL                25-44               Spouse   \n",
       "tour_1013                    CANADA                45-64             Children   \n",
       "tour_1016                    CANADA                45-64             Children   \n",
       "tour_1017                      MALT                25-44    Friends/Relatives   \n",
       "tour_1018                MOZAMBIQUE                25-44                Alone   \n",
       "tour_102                     RWANDA                  65+                Alone   \n",
       "tour_1021                   AUSTRIA                45-64    Friends/Relatives   \n",
       "tour_1022                   MYANMAR                25-44                Alone   \n",
       "tour_1024                   GERMANY                25-44             Children   \n",
       "tour_1026                     KENYA                25-44                Alone   \n",
       "tour_1027            UNITED KINGDOM  2024-01-01 00:00:00                Alone   \n",
       "tour_1028                     KENYA                45-64                Alone   \n",
       "tour_1029                SWIZERLAND                45-64             Children   \n",
       "tour_103                    ALGERIA                25-44               Spouse   \n",
       "tour_1030                   IRELAND  2024-01-01 00:00:00    Friends/Relatives   \n",
       "tour_1032                   DENMARK  2024-01-01 00:00:00    Friends/Relatives   \n",
       "tour_1033            UNITED KINGDOM                25-44                Alone   \n",
       "tour_1034                   GERMANY  2024-01-01 00:00:00                Alone   \n",
       "tour_1035                     SPAIN                45-64  Spouse and Children   \n",
       "tour_1036                    FRANCE  2024-01-01 00:00:00                Alone   \n",
       "tour_1038            UNITED KINGDOM  2024-01-01 00:00:00                Alone   \n",
       "tour_1039            UNITED KINGDOM                45-64                Alone   \n",
       "tour_104                      ITALY                45-64    Friends/Relatives   \n",
       "tour_1040                     EGYPT  2024-01-01 00:00:00                Alone   \n",
       "tour_1041            UNITED KINGDOM                45-64                Alone   \n",
       "tour_1042                     QATAR                25-44    Friends/Relatives   \n",
       "tour_1043                MOZAMBIQUE  2024-01-01 00:00:00                Alone   \n",
       "tour_1045                     KENYA                45-64                Alone   \n",
       "tour_1046                     CHINA                25-44                Alone   \n",
       "tour_1047                    MALAWI                25-44                Alone   \n",
       "tour_1048            UNITED KINGDOM                45-64               Spouse   \n",
       "tour_1049            UNITED KINGDOM                25-44             Children   \n",
       "tour_105                      JAPAN                25-44                Alone   \n",
       "tour_1050                     CHINA  2024-01-01 00:00:00                Alone   \n",
       "tour_1051  UNITED STATES OF AMERICA                45-64               Spouse   \n",
       "tour_1052            UNITED KINGDOM                45-64                Alone   \n",
       "tour_1054                    SWEDEN                45-64                Alone   \n",
       "tour_1055               NETHERLANDS                25-44               Spouse   \n",
       "tour_1057                    FRANCE                25-44  Spouse and Children   \n",
       "tour_1058                       UAE                25-44                Alone   \n",
       "\n",
       "           total_female  total_male                         purpose  \\\n",
       "ID                                                                    \n",
       "tour_0              1.0         1.0            Leisure and Holidays   \n",
       "tour_10             1.0         0.0            Leisure and Holidays   \n",
       "tour_1000           0.0         1.0  Visiting Friends and Relatives   \n",
       "tour_1002           1.0         1.0            Leisure and Holidays   \n",
       "tour_1004           1.0         0.0            Leisure and Holidays   \n",
       "tour_1005           0.0         1.0            Leisure and Holidays   \n",
       "tour_1007           0.0         1.0                        Business   \n",
       "tour_1008           1.0         1.0            Leisure and Holidays   \n",
       "tour_101            0.0         1.0            Leisure and Holidays   \n",
       "tour_1011           1.0         0.0                        Business   \n",
       "tour_1012           1.0         1.0            Leisure and Holidays   \n",
       "tour_1013           2.0         0.0            Leisure and Holidays   \n",
       "tour_1016           0.0         2.0            Leisure and Holidays   \n",
       "tour_1017           2.0         0.0            Leisure and Holidays   \n",
       "tour_1018           0.0         1.0  Visiting Friends and Relatives   \n",
       "tour_102            1.0         0.0            Leisure and Holidays   \n",
       "tour_1021           4.0         1.0  Visiting Friends and Relatives   \n",
       "tour_1022           1.0         0.0         Meetings and Conference   \n",
       "tour_1024           1.0         1.0  Visiting Friends and Relatives   \n",
       "tour_1026           1.0         0.0                        Business   \n",
       "tour_1027           1.0         0.0                    Volunteering   \n",
       "tour_1028           0.0         1.0                        Business   \n",
       "tour_1029           1.0         1.0            Leisure and Holidays   \n",
       "tour_103            1.0         1.0            Leisure and Holidays   \n",
       "tour_1030           1.0         1.0            Leisure and Holidays   \n",
       "tour_1032           2.0         2.0         Scientific and Academic   \n",
       "tour_1033           0.0         1.0                        Business   \n",
       "tour_1034           1.0         0.0            Leisure and Holidays   \n",
       "tour_1035           3.0         1.0            Leisure and Holidays   \n",
       "tour_1036           0.0         1.0            Leisure and Holidays   \n",
       "tour_1038           0.0         1.0                    Volunteering   \n",
       "tour_1039           1.0         0.0  Visiting Friends and Relatives   \n",
       "tour_104            2.0         0.0            Leisure and Holidays   \n",
       "tour_1040           0.0         1.0  Visiting Friends and Relatives   \n",
       "tour_1041           1.0         0.0  Visiting Friends and Relatives   \n",
       "tour_1042           2.0         2.0            Leisure and Holidays   \n",
       "tour_1043           1.0         0.0  Visiting Friends and Relatives   \n",
       "tour_1045           1.0         0.0         Scientific and Academic   \n",
       "tour_1046           1.0         0.0            Leisure and Holidays   \n",
       "tour_1047           0.0         1.0         Meetings and Conference   \n",
       "tour_1048           1.0         1.0  Visiting Friends and Relatives   \n",
       "tour_1049           0.0         3.0  Visiting Friends and Relatives   \n",
       "tour_105            1.0         0.0                    Volunteering   \n",
       "tour_1050           0.0         1.0            Leisure and Holidays   \n",
       "tour_1051           1.0         1.0            Leisure and Holidays   \n",
       "tour_1052           0.0         1.0                        Business   \n",
       "tour_1054           0.0         1.0  Visiting Friends and Relatives   \n",
       "tour_1055           1.0         1.0            Leisure and Holidays   \n",
       "tour_1057           1.0         2.0            Leisure and Holidays   \n",
       "tour_1058           0.0         1.0  Visiting Friends and Relatives   \n",
       "\n",
       "                main_activity                     info_source  \\\n",
       "ID                                                              \n",
       "tour_0       Wildlife tourism              Friends, relatives   \n",
       "tour_10      Cultural tourism                          others   \n",
       "tour_1000    Cultural tourism              Friends, relatives   \n",
       "tour_1002    Wildlife tourism    Travel, agent, tour operator   \n",
       "tour_1004    Wildlife tourism    Travel, agent, tour operator   \n",
       "tour_1005    Wildlife tourism    Travel, agent, tour operator   \n",
       "tour_1007   Mountain climbing              Friends, relatives   \n",
       "tour_1008    Wildlife tourism    Travel, agent, tour operator   \n",
       "tour_101     Cultural tourism    Travel, agent, tour operator   \n",
       "tour_1011    Wildlife tourism    Travel, agent, tour operator   \n",
       "tour_1012    Wildlife tourism                  Radio, TV, Web   \n",
       "tour_1013       Beach tourism              Friends, relatives   \n",
       "tour_1016    Wildlife tourism    Travel, agent, tour operator   \n",
       "tour_1017    Wildlife tourism              Friends, relatives   \n",
       "tour_1018       Beach tourism              Friends, relatives   \n",
       "tour_102        Beach tourism              Friends, relatives   \n",
       "tour_1021   Mountain climbing              Friends, relatives   \n",
       "tour_1022    Wildlife tourism                  Radio, TV, Web   \n",
       "tour_1024    Cultural tourism              Friends, relatives   \n",
       "tour_1026   Mountain climbing              Friends, relatives   \n",
       "tour_1027    Cultural tourism         Tanzania Mission Abroad   \n",
       "tour_1028    Wildlife tourism              Friends, relatives   \n",
       "tour_1029    Wildlife tourism              Friends, relatives   \n",
       "tour_103        Beach tourism                  Radio, TV, Web   \n",
       "tour_1030    Wildlife tourism                          others   \n",
       "tour_1032       Beach tourism              Friends, relatives   \n",
       "tour_1033    Wildlife tourism    Travel, agent, tour operator   \n",
       "tour_1034    Wildlife tourism              Friends, relatives   \n",
       "tour_1035    Wildlife tourism    Travel, agent, tour operator   \n",
       "tour_1036  Conference tourism                          others   \n",
       "tour_1038     Hunting tourism              Friends, relatives   \n",
       "tour_1039     Hunting tourism              Friends, relatives   \n",
       "tour_104     Wildlife tourism                  Radio, TV, Web   \n",
       "tour_1040       Bird watching    Travel, agent, tour operator   \n",
       "tour_1041     Hunting tourism              Friends, relatives   \n",
       "tour_1042    Wildlife tourism              Friends, relatives   \n",
       "tour_1043     Hunting tourism              Friends, relatives   \n",
       "tour_1045   Mountain climbing              inflight magazines   \n",
       "tour_1046       Beach tourism  Newspaper, magazines,brochures   \n",
       "tour_1047       Beach tourism              Friends, relatives   \n",
       "tour_1048       Beach tourism              Friends, relatives   \n",
       "tour_1049       Beach tourism              Friends, relatives   \n",
       "tour_105     Cultural tourism    Travel, agent, tour operator   \n",
       "tour_1050    Wildlife tourism              Friends, relatives   \n",
       "tour_1051       Beach tourism                          others   \n",
       "tour_1052            business                          others   \n",
       "tour_1054       Beach tourism              Friends, relatives   \n",
       "tour_1055    Wildlife tourism    Travel, agent, tour operator   \n",
       "tour_1057    Wildlife tourism    Travel, agent, tour operator   \n",
       "tour_1058       Beach tourism              Friends, relatives   \n",
       "\n",
       "          tour_arrangement package_transport_int  ... package_sightseeing  \\\n",
       "ID                                                ...                       \n",
       "tour_0         Independent                    No  ...                  No   \n",
       "tour_10        Independent                    No  ...                  No   \n",
       "tour_1000      Independent                    No  ...                  No   \n",
       "tour_1002     Package Tour                    No  ...                 Yes   \n",
       "tour_1004      Independent                    No  ...                  No   \n",
       "tour_1005     Package Tour                    No  ...                 Yes   \n",
       "tour_1007      Independent                    No  ...                  No   \n",
       "tour_1008     Package Tour                   Yes  ...                 Yes   \n",
       "tour_101       Independent                    No  ...                  No   \n",
       "tour_1011      Independent                    No  ...                  No   \n",
       "tour_1012      Independent                    No  ...                  No   \n",
       "tour_1013      Independent                    No  ...                  No   \n",
       "tour_1016      Independent                    No  ...                  No   \n",
       "tour_1017     Package Tour                   Yes  ...                  No   \n",
       "tour_1018      Independent                    No  ...                  No   \n",
       "tour_102       Independent                    No  ...                  No   \n",
       "tour_1021      Independent                    No  ...                  No   \n",
       "tour_1022      Independent                    No  ...                  No   \n",
       "tour_1024      Independent                    No  ...                  No   \n",
       "tour_1026      Independent                    No  ...                  No   \n",
       "tour_1027      Independent                    No  ...                  No   \n",
       "tour_1028      Independent                    No  ...                  No   \n",
       "tour_1029     Package Tour                   Yes  ...                  No   \n",
       "tour_103       Independent                    No  ...                  No   \n",
       "tour_1030      Independent                    No  ...                  No   \n",
       "tour_1032      Independent                    No  ...                  No   \n",
       "tour_1033      Independent                    No  ...                  No   \n",
       "tour_1034      Independent                    No  ...                  No   \n",
       "tour_1035     Package Tour                   Yes  ...                 Yes   \n",
       "tour_1036     Package Tour                    No  ...                 Yes   \n",
       "tour_1038      Independent                    No  ...                  No   \n",
       "tour_1039      Independent                    No  ...                  No   \n",
       "tour_104      Package Tour                   Yes  ...                 Yes   \n",
       "tour_1040     Package Tour                   Yes  ...                  No   \n",
       "tour_1041      Independent                    No  ...                  No   \n",
       "tour_1042     Package Tour                   Yes  ...                 Yes   \n",
       "tour_1043      Independent                    No  ...                  No   \n",
       "tour_1045     Package Tour                   Yes  ...                  No   \n",
       "tour_1046      Independent                    No  ...                  No   \n",
       "tour_1047      Independent                    No  ...                  No   \n",
       "tour_1048      Independent                    No  ...                  No   \n",
       "tour_1049      Independent                    No  ...                  No   \n",
       "tour_105       Independent                    No  ...                  No   \n",
       "tour_1050      Independent                    No  ...                  No   \n",
       "tour_1051      Independent                    No  ...                  No   \n",
       "tour_1052      Independent                    No  ...                  No   \n",
       "tour_1054     Package Tour                   Yes  ...                  No   \n",
       "tour_1055      Independent                    No  ...                  No   \n",
       "tour_1057     Package Tour                   Yes  ...                 Yes   \n",
       "tour_1058      Independent                    No  ...                  No   \n",
       "\n",
       "          package_guided_tour package_insurance night_mainland night_zanzibar  \\\n",
       "ID                                                                              \n",
       "tour_0                     No                No             13              0   \n",
       "tour_10                    No                No             14              7   \n",
       "tour_1000                  No                No              1             31   \n",
       "tour_1002                 Yes                No             11              0   \n",
       "tour_1004                  No                No              7              4   \n",
       "tour_1005                 Yes                No              9              3   \n",
       "tour_1007                  No                No              9              0   \n",
       "tour_1008                 Yes               Yes             10              3   \n",
       "tour_101                   No                No              4              0   \n",
       "tour_1011                  No                No              5              0   \n",
       "tour_1012                  No                No             17              3   \n",
       "tour_1013                  No                No             30              0   \n",
       "tour_1016                  No                No             11              3   \n",
       "tour_1017                  No                No             10              0   \n",
       "tour_1018                  No                No              2              0   \n",
       "tour_102                   No                No              0              2   \n",
       "tour_1021                  No                No             24              0   \n",
       "tour_1022                  No                No              5              0   \n",
       "tour_1024                  No                No              3              0   \n",
       "tour_1026                  No                No              4              0   \n",
       "tour_1027                  No                No             70              0   \n",
       "tour_1028                  No                No              4              0   \n",
       "tour_1029                  No                No             10              0   \n",
       "tour_103                   No                No              0             11   \n",
       "tour_1030                  No                No             20              6   \n",
       "tour_1032                  No                No             15              7   \n",
       "tour_1033                  No                No              1              0   \n",
       "tour_1034                  No                No             24              4   \n",
       "tour_1035                 Yes               Yes              4              4   \n",
       "tour_1036                 Yes               Yes             11              3   \n",
       "tour_1038                  No                No             56              0   \n",
       "tour_1039                  No                No             12              0   \n",
       "tour_104                   No                No              6              5   \n",
       "tour_1040                  No                No              2              0   \n",
       "tour_1041                  No                No             11              0   \n",
       "tour_1042                 Yes                No             13             10   \n",
       "tour_1043                  No                No              3              0   \n",
       "tour_1045                  No                No              5              0   \n",
       "tour_1046                  No                No              2              0   \n",
       "tour_1047                  No                No             21              0   \n",
       "tour_1048                  No                No             10              0   \n",
       "tour_1049                  No                No             29              0   \n",
       "tour_105                   No                No             27              2   \n",
       "tour_1050                  No                No             34              4   \n",
       "tour_1051                  No                No              0              5   \n",
       "tour_1052                  No                No             20              0   \n",
       "tour_1054                  No                No             10              7   \n",
       "tour_1055                  No                No             10              4   \n",
       "tour_1057                 Yes               Yes              4              3   \n",
       "tour_1058                  No                No              7              1   \n",
       "\n",
       "          payment_mode  first_trip_tz                       most_impressing  \\\n",
       "ID                                                                            \n",
       "tour_0            Cash             No                       Friendly People   \n",
       "tour_10           Cash            Yes  Wonderful Country, Landscape, Nature   \n",
       "tour_1000         Cash             No                  Excellent Experience   \n",
       "tour_1002         Cash            Yes                       Friendly People   \n",
       "tour_1004         Cash            Yes                           No comments   \n",
       "tour_1005         Cash            Yes                              Wildlife   \n",
       "tour_1007         Cash            Yes                       Friendly People   \n",
       "tour_1008         Cash            Yes                       Friendly People   \n",
       "tour_101          Cash            Yes                       Friendly People   \n",
       "tour_1011  Credit Card            Yes                       Friendly People   \n",
       "tour_1012         Cash            Yes  Wonderful Country, Landscape, Nature   \n",
       "tour_1013         Cash             No                  Excellent Experience   \n",
       "tour_1016         Cash            Yes                           No comments   \n",
       "tour_1017         Cash            Yes                           No comments   \n",
       "tour_1018         Cash            Yes                              Wildlife   \n",
       "tour_102          Cash            Yes  Wonderful Country, Landscape, Nature   \n",
       "tour_1021         Cash             No                       Friendly People   \n",
       "tour_1022         Cash            Yes                       Friendly People   \n",
       "tour_1024         Cash            Yes                       Friendly People   \n",
       "tour_1026         Cash             No                       Friendly People   \n",
       "tour_1027         Cash            Yes  Wonderful Country, Landscape, Nature   \n",
       "tour_1028         Cash            Yes                           No comments   \n",
       "tour_1029  Credit Card             No                       Friendly People   \n",
       "tour_103          Cash            Yes                              Wildlife   \n",
       "tour_1030         Cash            Yes                       Friendly People   \n",
       "tour_1032         Cash            Yes                           No comments   \n",
       "tour_1033  Credit Card            Yes                           No comments   \n",
       "tour_1034         Cash            Yes                          Good service   \n",
       "tour_1035         Cash            Yes                              Wildlife   \n",
       "tour_1036         Cash            Yes  Wonderful Country, Landscape, Nature   \n",
       "tour_1038  Credit Card             No                       Friendly People   \n",
       "tour_1039         Cash             No                       Friendly People   \n",
       "tour_104          Cash            Yes                  Excellent Experience   \n",
       "tour_1040         Cash            Yes                           No comments   \n",
       "tour_1041         Cash             No                           No comments   \n",
       "tour_1042         Cash             No                              Wildlife   \n",
       "tour_1043         Cash            Yes                  Excellent Experience   \n",
       "tour_1045  Credit Card             No                              Wildlife   \n",
       "tour_1046        Other             No                       Friendly People   \n",
       "tour_1047  Credit Card             No                       Friendly People   \n",
       "tour_1048         Cash             No                  Excellent Experience   \n",
       "tour_1049         Cash             No                           No comments   \n",
       "tour_105          Cash            Yes                           No comments   \n",
       "tour_1050         Cash            Yes                       Friendly People   \n",
       "tour_1051         Cash            Yes                           No comments   \n",
       "tour_1052         Cash            Yes                       Friendly People   \n",
       "tour_1054  Credit Card             No                       Friendly People   \n",
       "tour_1055         Cash            Yes                           No comments   \n",
       "tour_1057         Cash            Yes                           No comments   \n",
       "tour_1058         Cash             No                       Friendly People   \n",
       "\n",
       "           total_cost                 upcountry  \n",
       "ID                                               \n",
       "tour_0       674602.5                    Europe  \n",
       "tour_10     3214906.5                    Europe  \n",
       "tour_1000   3315000.0                    Europe  \n",
       "tour_1002   7790250.0                    Europe  \n",
       "tour_1004   1657500.0                     CHINA  \n",
       "tour_1005    120950.0                    Europe  \n",
       "tour_1007    466140.0           Southern Africa  \n",
       "tour_1008   3480750.0  UNITED STATES OF AMERICA  \n",
       "tour_101     994500.0               West Africa  \n",
       "tour_1011   2486250.0                     INDIA  \n",
       "tour_1012   1117155.0                    BRAZIL  \n",
       "tour_1013   8121750.0                    CANADA  \n",
       "tour_1016    331500.0                    CANADA  \n",
       "tour_1017  11346650.0                    Europe  \n",
       "tour_1018    497250.0           Southern Africa  \n",
       "tour_102     331500.0               East Africa  \n",
       "tour_1021   2000000.0                    Europe  \n",
       "tour_1022    331500.0                   MYANMAR  \n",
       "tour_1024   2269330.0                    Europe  \n",
       "tour_1026    377520.0               East Africa  \n",
       "tour_1027    711262.5                    Europe  \n",
       "tour_1028    497250.0               East Africa  \n",
       "tour_1029   7458750.0                    Europe  \n",
       "tour_103    3734347.5              North Africa  \n",
       "tour_1030   5673325.0                    Europe  \n",
       "tour_1032    400000.0                    Europe  \n",
       "tour_1033    663000.0                    Europe  \n",
       "tour_1034    453866.0                    Europe  \n",
       "tour_1035  25442625.0                    Europe  \n",
       "tour_1036   6961500.0                    Europe  \n",
       "tour_1038   1707030.0                    Europe  \n",
       "tour_1039   5690100.0                    Europe  \n",
       "tour_104    2652000.0                    Europe  \n",
       "tour_1040   2320500.0              North Africa  \n",
       "tour_1041   4267575.0                    Europe  \n",
       "tour_1042  17316000.0                     QATAR  \n",
       "tour_1043    663000.0           Southern Africa  \n",
       "tour_1045   3812250.0               East Africa  \n",
       "tour_1046    828750.0                     CHINA  \n",
       "tour_1047   3000000.0           Southern Africa  \n",
       "tour_1048    828750.0                    Europe  \n",
       "tour_1049  28450500.0                    Europe  \n",
       "tour_105     745875.0                     JAPAN  \n",
       "tour_1050   3273562.5                     CHINA  \n",
       "tour_1051   3397875.0  UNITED STATES OF AMERICA  \n",
       "tour_1052   6132750.0                    Europe  \n",
       "tour_1054   4992526.0                    Europe  \n",
       "tour_1055   1588531.0                    Europe  \n",
       "tour_1057  34039950.0                    Europe  \n",
       "tour_1058   1657500.0                       UAE  \n",
       "\n",
       "[50 rows x 23 columns]"
      ]
     },
     "execution_count": 1467,
     "metadata": {},
     "output_type": "execute_result"
    }
   ],
   "source": [
    "df.head(50)"
   ]
  },
  {
   "cell_type": "code",
   "execution_count": 1468,
   "id": "f9ed9eb4-66dc-467a-b004-766923d90da2",
   "metadata": {},
   "outputs": [],
   "source": [
    "euro = df[df['upcountry'] == 'Europe' ]\n",
    "#i=df[df[‘Name’]==’Will’]\n",
    "#print(i)"
   ]
  },
  {
   "cell_type": "code",
   "execution_count": 1469,
   "id": "b417e8f2-721d-48ff-bc10-44560c0043de",
   "metadata": {},
   "outputs": [
    {
     "data": {
      "text/html": [
       "<div>\n",
       "<style scoped>\n",
       "    .dataframe tbody tr th:only-of-type {\n",
       "        vertical-align: middle;\n",
       "    }\n",
       "\n",
       "    .dataframe tbody tr th {\n",
       "        vertical-align: top;\n",
       "    }\n",
       "\n",
       "    .dataframe thead th {\n",
       "        text-align: right;\n",
       "    }\n",
       "</style>\n",
       "<table border=\"1\" class=\"dataframe\">\n",
       "  <thead>\n",
       "    <tr style=\"text-align: right;\">\n",
       "      <th></th>\n",
       "      <th>country</th>\n",
       "      <th>age_group</th>\n",
       "      <th>travel_with</th>\n",
       "      <th>total_female</th>\n",
       "      <th>total_male</th>\n",
       "      <th>purpose</th>\n",
       "      <th>main_activity</th>\n",
       "      <th>info_source</th>\n",
       "      <th>tour_arrangement</th>\n",
       "      <th>package_transport_int</th>\n",
       "      <th>...</th>\n",
       "      <th>package_sightseeing</th>\n",
       "      <th>package_guided_tour</th>\n",
       "      <th>package_insurance</th>\n",
       "      <th>night_mainland</th>\n",
       "      <th>night_zanzibar</th>\n",
       "      <th>payment_mode</th>\n",
       "      <th>first_trip_tz</th>\n",
       "      <th>most_impressing</th>\n",
       "      <th>total_cost</th>\n",
       "      <th>upcountry</th>\n",
       "    </tr>\n",
       "    <tr>\n",
       "      <th>ID</th>\n",
       "      <th></th>\n",
       "      <th></th>\n",
       "      <th></th>\n",
       "      <th></th>\n",
       "      <th></th>\n",
       "      <th></th>\n",
       "      <th></th>\n",
       "      <th></th>\n",
       "      <th></th>\n",
       "      <th></th>\n",
       "      <th></th>\n",
       "      <th></th>\n",
       "      <th></th>\n",
       "      <th></th>\n",
       "      <th></th>\n",
       "      <th></th>\n",
       "      <th></th>\n",
       "      <th></th>\n",
       "      <th></th>\n",
       "      <th></th>\n",
       "      <th></th>\n",
       "    </tr>\n",
       "  </thead>\n",
       "  <tbody>\n",
       "    <tr>\n",
       "      <th>tour_0</th>\n",
       "      <td>SWIZERLAND</td>\n",
       "      <td>45-64</td>\n",
       "      <td>Friends/Relatives</td>\n",
       "      <td>1.0</td>\n",
       "      <td>1.0</td>\n",
       "      <td>Leisure and Holidays</td>\n",
       "      <td>Wildlife tourism</td>\n",
       "      <td>Friends, relatives</td>\n",
       "      <td>Independent</td>\n",
       "      <td>No</td>\n",
       "      <td>...</td>\n",
       "      <td>No</td>\n",
       "      <td>No</td>\n",
       "      <td>No</td>\n",
       "      <td>13</td>\n",
       "      <td>0</td>\n",
       "      <td>Cash</td>\n",
       "      <td>No</td>\n",
       "      <td>Friendly People</td>\n",
       "      <td>674602.5</td>\n",
       "      <td>Europe</td>\n",
       "    </tr>\n",
       "    <tr>\n",
       "      <th>tour_10</th>\n",
       "      <td>UNITED KINGDOM</td>\n",
       "      <td>25-44</td>\n",
       "      <td>Alone</td>\n",
       "      <td>1.0</td>\n",
       "      <td>0.0</td>\n",
       "      <td>Leisure and Holidays</td>\n",
       "      <td>Cultural tourism</td>\n",
       "      <td>others</td>\n",
       "      <td>Independent</td>\n",
       "      <td>No</td>\n",
       "      <td>...</td>\n",
       "      <td>No</td>\n",
       "      <td>No</td>\n",
       "      <td>No</td>\n",
       "      <td>14</td>\n",
       "      <td>7</td>\n",
       "      <td>Cash</td>\n",
       "      <td>Yes</td>\n",
       "      <td>Wonderful Country, Landscape, Nature</td>\n",
       "      <td>3214906.5</td>\n",
       "      <td>Europe</td>\n",
       "    </tr>\n",
       "    <tr>\n",
       "      <th>tour_1000</th>\n",
       "      <td>UNITED KINGDOM</td>\n",
       "      <td>25-44</td>\n",
       "      <td>Alone</td>\n",
       "      <td>0.0</td>\n",
       "      <td>1.0</td>\n",
       "      <td>Visiting Friends and Relatives</td>\n",
       "      <td>Cultural tourism</td>\n",
       "      <td>Friends, relatives</td>\n",
       "      <td>Independent</td>\n",
       "      <td>No</td>\n",
       "      <td>...</td>\n",
       "      <td>No</td>\n",
       "      <td>No</td>\n",
       "      <td>No</td>\n",
       "      <td>1</td>\n",
       "      <td>31</td>\n",
       "      <td>Cash</td>\n",
       "      <td>No</td>\n",
       "      <td>Excellent Experience</td>\n",
       "      <td>3315000.0</td>\n",
       "      <td>Europe</td>\n",
       "    </tr>\n",
       "    <tr>\n",
       "      <th>tour_1002</th>\n",
       "      <td>UNITED KINGDOM</td>\n",
       "      <td>25-44</td>\n",
       "      <td>Spouse</td>\n",
       "      <td>1.0</td>\n",
       "      <td>1.0</td>\n",
       "      <td>Leisure and Holidays</td>\n",
       "      <td>Wildlife tourism</td>\n",
       "      <td>Travel, agent, tour operator</td>\n",
       "      <td>Package Tour</td>\n",
       "      <td>No</td>\n",
       "      <td>...</td>\n",
       "      <td>Yes</td>\n",
       "      <td>Yes</td>\n",
       "      <td>No</td>\n",
       "      <td>11</td>\n",
       "      <td>0</td>\n",
       "      <td>Cash</td>\n",
       "      <td>Yes</td>\n",
       "      <td>Friendly People</td>\n",
       "      <td>7790250.0</td>\n",
       "      <td>Europe</td>\n",
       "    </tr>\n",
       "    <tr>\n",
       "      <th>tour_1005</th>\n",
       "      <td>UNITED KINGDOM</td>\n",
       "      <td>25-44</td>\n",
       "      <td>Alone</td>\n",
       "      <td>0.0</td>\n",
       "      <td>1.0</td>\n",
       "      <td>Leisure and Holidays</td>\n",
       "      <td>Wildlife tourism</td>\n",
       "      <td>Travel, agent, tour operator</td>\n",
       "      <td>Package Tour</td>\n",
       "      <td>No</td>\n",
       "      <td>...</td>\n",
       "      <td>Yes</td>\n",
       "      <td>Yes</td>\n",
       "      <td>No</td>\n",
       "      <td>9</td>\n",
       "      <td>3</td>\n",
       "      <td>Cash</td>\n",
       "      <td>Yes</td>\n",
       "      <td>Wildlife</td>\n",
       "      <td>120950.0</td>\n",
       "      <td>Europe</td>\n",
       "    </tr>\n",
       "    <tr>\n",
       "      <th>...</th>\n",
       "      <td>...</td>\n",
       "      <td>...</td>\n",
       "      <td>...</td>\n",
       "      <td>...</td>\n",
       "      <td>...</td>\n",
       "      <td>...</td>\n",
       "      <td>...</td>\n",
       "      <td>...</td>\n",
       "      <td>...</td>\n",
       "      <td>...</td>\n",
       "      <td>...</td>\n",
       "      <td>...</td>\n",
       "      <td>...</td>\n",
       "      <td>...</td>\n",
       "      <td>...</td>\n",
       "      <td>...</td>\n",
       "      <td>...</td>\n",
       "      <td>...</td>\n",
       "      <td>...</td>\n",
       "      <td>...</td>\n",
       "      <td>...</td>\n",
       "    </tr>\n",
       "    <tr>\n",
       "      <th>tour_985</th>\n",
       "      <td>SWEDEN</td>\n",
       "      <td>45-64</td>\n",
       "      <td>Alone</td>\n",
       "      <td>1.0</td>\n",
       "      <td>0.0</td>\n",
       "      <td>Business</td>\n",
       "      <td>Wildlife tourism</td>\n",
       "      <td>others</td>\n",
       "      <td>Independent</td>\n",
       "      <td>No</td>\n",
       "      <td>...</td>\n",
       "      <td>No</td>\n",
       "      <td>No</td>\n",
       "      <td>No</td>\n",
       "      <td>3</td>\n",
       "      <td>0</td>\n",
       "      <td>Cash</td>\n",
       "      <td>No</td>\n",
       "      <td>No comments</td>\n",
       "      <td>1657500.0</td>\n",
       "      <td>Europe</td>\n",
       "    </tr>\n",
       "    <tr>\n",
       "      <th>tour_989</th>\n",
       "      <td>ITALY</td>\n",
       "      <td>45-64</td>\n",
       "      <td>Friends/Relatives</td>\n",
       "      <td>1.0</td>\n",
       "      <td>1.0</td>\n",
       "      <td>Meetings and Conference</td>\n",
       "      <td>Mountain climbing</td>\n",
       "      <td>Newspaper, magazines,brochures</td>\n",
       "      <td>Independent</td>\n",
       "      <td>No</td>\n",
       "      <td>...</td>\n",
       "      <td>No</td>\n",
       "      <td>No</td>\n",
       "      <td>No</td>\n",
       "      <td>5</td>\n",
       "      <td>0</td>\n",
       "      <td>Cash</td>\n",
       "      <td>Yes</td>\n",
       "      <td>Wonderful Country, Landscape, Nature</td>\n",
       "      <td>2269330.0</td>\n",
       "      <td>Europe</td>\n",
       "    </tr>\n",
       "    <tr>\n",
       "      <th>tour_991</th>\n",
       "      <td>GERMANY</td>\n",
       "      <td>2024-01-01 00:00:00</td>\n",
       "      <td>Friends/Relatives</td>\n",
       "      <td>2.0</td>\n",
       "      <td>0.0</td>\n",
       "      <td>Leisure and Holidays</td>\n",
       "      <td>Beach tourism</td>\n",
       "      <td>Newspaper, magazines,brochures</td>\n",
       "      <td>Independent</td>\n",
       "      <td>No</td>\n",
       "      <td>...</td>\n",
       "      <td>No</td>\n",
       "      <td>No</td>\n",
       "      <td>No</td>\n",
       "      <td>12</td>\n",
       "      <td>7</td>\n",
       "      <td>Cash</td>\n",
       "      <td>Yes</td>\n",
       "      <td>No comments</td>\n",
       "      <td>331500.0</td>\n",
       "      <td>Europe</td>\n",
       "    </tr>\n",
       "    <tr>\n",
       "      <th>tour_995</th>\n",
       "      <td>NETHERLANDS</td>\n",
       "      <td>2024-01-01 00:00:00</td>\n",
       "      <td>Alone</td>\n",
       "      <td>1.0</td>\n",
       "      <td>0.0</td>\n",
       "      <td>Leisure and Holidays</td>\n",
       "      <td>Wildlife tourism</td>\n",
       "      <td>others</td>\n",
       "      <td>Independent</td>\n",
       "      <td>No</td>\n",
       "      <td>...</td>\n",
       "      <td>No</td>\n",
       "      <td>No</td>\n",
       "      <td>No</td>\n",
       "      <td>3</td>\n",
       "      <td>7</td>\n",
       "      <td>Cash</td>\n",
       "      <td>Yes</td>\n",
       "      <td>Good service</td>\n",
       "      <td>2246636.7</td>\n",
       "      <td>Europe</td>\n",
       "    </tr>\n",
       "    <tr>\n",
       "      <th>tour_999</th>\n",
       "      <td>UNITED KINGDOM</td>\n",
       "      <td>25-44</td>\n",
       "      <td>Spouse</td>\n",
       "      <td>1.0</td>\n",
       "      <td>1.0</td>\n",
       "      <td>Leisure and Holidays</td>\n",
       "      <td>Wildlife tourism</td>\n",
       "      <td>Travel, agent, tour operator</td>\n",
       "      <td>Package Tour</td>\n",
       "      <td>Yes</td>\n",
       "      <td>...</td>\n",
       "      <td>Yes</td>\n",
       "      <td>Yes</td>\n",
       "      <td>No</td>\n",
       "      <td>4</td>\n",
       "      <td>7</td>\n",
       "      <td>Cash</td>\n",
       "      <td>Yes</td>\n",
       "      <td>Friendly People</td>\n",
       "      <td>13260000.0</td>\n",
       "      <td>Europe</td>\n",
       "    </tr>\n",
       "  </tbody>\n",
       "</table>\n",
       "<p>2054 rows × 23 columns</p>\n",
       "</div>"
      ],
      "text/plain": [
       "                  country            age_group        travel_with  \\\n",
       "ID                                                                  \n",
       "tour_0         SWIZERLAND                45-64  Friends/Relatives   \n",
       "tour_10    UNITED KINGDOM                25-44              Alone   \n",
       "tour_1000  UNITED KINGDOM                25-44              Alone   \n",
       "tour_1002  UNITED KINGDOM                25-44             Spouse   \n",
       "tour_1005  UNITED KINGDOM                25-44              Alone   \n",
       "...                   ...                  ...                ...   \n",
       "tour_985           SWEDEN                45-64              Alone   \n",
       "tour_989            ITALY                45-64  Friends/Relatives   \n",
       "tour_991          GERMANY  2024-01-01 00:00:00  Friends/Relatives   \n",
       "tour_995      NETHERLANDS  2024-01-01 00:00:00              Alone   \n",
       "tour_999   UNITED KINGDOM                25-44             Spouse   \n",
       "\n",
       "           total_female  total_male                         purpose  \\\n",
       "ID                                                                    \n",
       "tour_0              1.0         1.0            Leisure and Holidays   \n",
       "tour_10             1.0         0.0            Leisure and Holidays   \n",
       "tour_1000           0.0         1.0  Visiting Friends and Relatives   \n",
       "tour_1002           1.0         1.0            Leisure and Holidays   \n",
       "tour_1005           0.0         1.0            Leisure and Holidays   \n",
       "...                 ...         ...                             ...   \n",
       "tour_985            1.0         0.0                        Business   \n",
       "tour_989            1.0         1.0         Meetings and Conference   \n",
       "tour_991            2.0         0.0            Leisure and Holidays   \n",
       "tour_995            1.0         0.0            Leisure and Holidays   \n",
       "tour_999            1.0         1.0            Leisure and Holidays   \n",
       "\n",
       "               main_activity                     info_source tour_arrangement  \\\n",
       "ID                                                                              \n",
       "tour_0      Wildlife tourism              Friends, relatives      Independent   \n",
       "tour_10     Cultural tourism                          others      Independent   \n",
       "tour_1000   Cultural tourism              Friends, relatives      Independent   \n",
       "tour_1002   Wildlife tourism    Travel, agent, tour operator     Package Tour   \n",
       "tour_1005   Wildlife tourism    Travel, agent, tour operator     Package Tour   \n",
       "...                      ...                             ...              ...   \n",
       "tour_985    Wildlife tourism                          others      Independent   \n",
       "tour_989   Mountain climbing  Newspaper, magazines,brochures      Independent   \n",
       "tour_991       Beach tourism  Newspaper, magazines,brochures      Independent   \n",
       "tour_995    Wildlife tourism                          others      Independent   \n",
       "tour_999    Wildlife tourism    Travel, agent, tour operator     Package Tour   \n",
       "\n",
       "          package_transport_int  ... package_sightseeing package_guided_tour  \\\n",
       "ID                               ...                                           \n",
       "tour_0                       No  ...                  No                  No   \n",
       "tour_10                      No  ...                  No                  No   \n",
       "tour_1000                    No  ...                  No                  No   \n",
       "tour_1002                    No  ...                 Yes                 Yes   \n",
       "tour_1005                    No  ...                 Yes                 Yes   \n",
       "...                         ...  ...                 ...                 ...   \n",
       "tour_985                     No  ...                  No                  No   \n",
       "tour_989                     No  ...                  No                  No   \n",
       "tour_991                     No  ...                  No                  No   \n",
       "tour_995                     No  ...                  No                  No   \n",
       "tour_999                    Yes  ...                 Yes                 Yes   \n",
       "\n",
       "          package_insurance night_mainland night_zanzibar payment_mode  \\\n",
       "ID                                                                       \n",
       "tour_0                   No             13              0         Cash   \n",
       "tour_10                  No             14              7         Cash   \n",
       "tour_1000                No              1             31         Cash   \n",
       "tour_1002                No             11              0         Cash   \n",
       "tour_1005                No              9              3         Cash   \n",
       "...                     ...            ...            ...          ...   \n",
       "tour_985                 No              3              0         Cash   \n",
       "tour_989                 No              5              0         Cash   \n",
       "tour_991                 No             12              7         Cash   \n",
       "tour_995                 No              3              7         Cash   \n",
       "tour_999                 No              4              7         Cash   \n",
       "\n",
       "           first_trip_tz                       most_impressing  total_cost  \\\n",
       "ID                                                                           \n",
       "tour_0                No                       Friendly People    674602.5   \n",
       "tour_10              Yes  Wonderful Country, Landscape, Nature   3214906.5   \n",
       "tour_1000             No                  Excellent Experience   3315000.0   \n",
       "tour_1002            Yes                       Friendly People   7790250.0   \n",
       "tour_1005            Yes                              Wildlife    120950.0   \n",
       "...                  ...                                   ...         ...   \n",
       "tour_985              No                           No comments   1657500.0   \n",
       "tour_989             Yes  Wonderful Country, Landscape, Nature   2269330.0   \n",
       "tour_991             Yes                           No comments    331500.0   \n",
       "tour_995             Yes                          Good service   2246636.7   \n",
       "tour_999             Yes                       Friendly People  13260000.0   \n",
       "\n",
       "          upcountry  \n",
       "ID                   \n",
       "tour_0       Europe  \n",
       "tour_10      Europe  \n",
       "tour_1000    Europe  \n",
       "tour_1002    Europe  \n",
       "tour_1005    Europe  \n",
       "...             ...  \n",
       "tour_985     Europe  \n",
       "tour_989     Europe  \n",
       "tour_991     Europe  \n",
       "tour_995     Europe  \n",
       "tour_999     Europe  \n",
       "\n",
       "[2054 rows x 23 columns]"
      ]
     },
     "execution_count": 1469,
     "metadata": {},
     "output_type": "execute_result"
    }
   ],
   "source": [
    "euro"
   ]
  },
  {
   "cell_type": "code",
   "execution_count": 1470,
   "id": "5a2874e0-082a-4626-8321-c6ae100b2f23",
   "metadata": {},
   "outputs": [
    {
     "data": {
      "text/plain": [
       "Europe                      2054\n",
       "Southern Africa              732\n",
       "UNITED STATES OF AMERICA     695\n",
       "East Africa                  451\n",
       "AUSTRALIA                    186\n",
       "CANADA                       114\n",
       "Central Africa               105\n",
       "INDIA                         87\n",
       "CHINA                         65\n",
       "JAPAN                         53\n",
       "OMAN                          35\n",
       "UAE                           33\n",
       "MALAYSIA                      23\n",
       "NEW ZEALAND                   18\n",
       "North Africa                  18\n",
       "ISRAEL                        16\n",
       "UNITED ARAB EMIRATES          13\n",
       "KOREA                         12\n",
       "BRAZIL                        10\n",
       "TAIWAN                         9\n",
       "West Africa                    9\n",
       "QATAR                          8\n",
       "RUSSIA                         8\n",
       "SINGAPORE                      7\n",
       "PAKISTAN                       6\n",
       "TURKEY                         5\n",
       "COLOMBIA                       3\n",
       "INDONESIA                      3\n",
       "SRI LANKA                      3\n",
       "LEBANON                        3\n",
       "YEMEN                          2\n",
       "PHILIPINES                     2\n",
       "NEPAL                          2\n",
       "CHILE                          2\n",
       "THAILAND                       2\n",
       "KUWAIT                         2\n",
       "IRAN                           2\n",
       "MEXICO                         2\n",
       "URUGUAY                        1\n",
       "GEORGIA                        1\n",
       "ARGENTINA                      1\n",
       "TRINIDAD TOBACCO               1\n",
       "COSTARICA                      1\n",
       "IRAQ                           1\n",
       "DOMINICA                       1\n",
       "MYANMAR                        1\n",
       "BERMUDA                        1\n",
       "Name: upcountry, dtype: int64"
      ]
     },
     "execution_count": 1470,
     "metadata": {},
     "output_type": "execute_result"
    }
   ],
   "source": [
    "df['upcountry'].value_counts()"
   ]
  },
  {
   "cell_type": "markdown",
   "id": "bc46f878-57b7-4605-b681-e65ae68e468d",
   "metadata": {},
   "source": [
    "## Asia"
   ]
  },
  {
   "cell_type": "code",
   "execution_count": 1471,
   "id": "149f76a7-521a-4e2f-a767-c28ae517a637",
   "metadata": {},
   "outputs": [],
   "source": [
    "#(//div[@class='elementor-widget-container'])[55]"
   ]
  },
  {
   "cell_type": "code",
   "execution_count": 1472,
   "id": "1fdde1c4-555d-42d4-8ee8-95ec6302eb95",
   "metadata": {},
   "outputs": [],
   "source": [
    "#(//div[@class='content-inner'])[1]"
   ]
  },
  {
   "cell_type": "code",
   "execution_count": 1473,
   "id": "591d8f4b-0a3e-4789-b8a0-0021cfd99f8a",
   "metadata": {},
   "outputs": [],
   "source": [
    "driver.get(\"https://www.worldometers.info/geography/how-many-countries-in-asia/\")   \n",
    "time.sleep(15)"
   ]
  },
  {
   "cell_type": "code",
   "execution_count": 1474,
   "id": "3e424cf0-fb75-4160-b80d-23a8557e0c44",
   "metadata": {},
   "outputs": [
    {
     "name": "stderr",
     "output_type": "stream",
     "text": [
      "C:\\Users\\KOFI ADUKPO\\AppData\\Local\\Temp\\ipykernel_4848\\3150918693.py:1: DeprecationWarning: find_element_by_xpath is deprecated. Please use find_element(by=By.XPATH, value=xpath) instead\n",
      "  i = driver.find_element_by_xpath(\"(//div[@class='content-inner'])[1]\")\n"
     ]
    }
   ],
   "source": [
    "i = driver.find_element_by_xpath(\"(//div[@class='content-inner'])[1]\")"
   ]
  },
  {
   "cell_type": "code",
   "execution_count": null,
   "id": "5569dae4-8147-41b1-ab48-318e638ff0b1",
   "metadata": {},
   "outputs": [],
   "source": []
  },
  {
   "cell_type": "code",
   "execution_count": 1475,
   "id": "8ff801db-530b-4b55-9d52-bee448c00180",
   "metadata": {},
   "outputs": [],
   "source": [
    "text = i.text\n",
    "#(//tbody)[1]"
   ]
  },
  {
   "cell_type": "code",
   "execution_count": 1476,
   "id": "6dce9a2c-51a2-4787-9ffc-5ce4915d35b8",
   "metadata": {},
   "outputs": [
    {
     "data": {
      "text/plain": [
       "str"
      ]
     },
     "execution_count": 1476,
     "metadata": {},
     "output_type": "execute_result"
    }
   ],
   "source": [
    "type(text)"
   ]
  },
  {
   "cell_type": "code",
   "execution_count": 1477,
   "id": "757d6496-59c9-4d90-b7c4-4c189db9d087",
   "metadata": {},
   "outputs": [],
   "source": [
    "rep = text.replace(\"\\n\", \". \")"
   ]
  },
  {
   "cell_type": "code",
   "execution_count": 1478,
   "id": "84f796bd-69dd-4165-8d8d-c08dd864b146",
   "metadata": {},
   "outputs": [],
   "source": [
    "import re\n",
    "expression = re.compile(r'([A-Z][^\\.!?]*[\\.!?])')\n",
    "new_list = re.findall(expression, rep)"
   ]
  },
  {
   "cell_type": "code",
   "execution_count": 1479,
   "id": "ec4675bf-1c4f-4bc8-a17b-9ee95110575b",
   "metadata": {},
   "outputs": [
    {
     "data": {
      "text/plain": [
       "['W How many Countries in Asia?',\n",
       " 'Countries in Asia:.',\n",
       " 'There are 48 countries in Asia today, according to the United Nations.',\n",
       " 'The full list is shown in the table below, with current population and subregion (based on the United Nations official statistics).',\n",
       " 'Not included in this total of \"countries\" and listed separately are:.',\n",
       " 'Dependencies (or dependent territories, dependent areas) or Areas of Special Sovereignty (autonomous territories).',\n",
       " 'Search:.',\n",
       " 'Country Population.',\n",
       " 'Subregion.',\n",
       " 'China 1,439,323,776 Eastern Asia.',\n",
       " 'India 1,380,004,385 Southern Asia.',\n",
       " 'Indonesia 273,523,615 South-Eastern Asia.',\n",
       " 'Pakistan 220,892,340 Southern Asia.',\n",
       " 'Bangladesh 164,689,383 Southern Asia.',\n",
       " 'Japan 126,476,461 Eastern Asia.',\n",
       " 'Philippines 109,581,078 South-Eastern Asia.',\n",
       " 'Vietnam 97,338,579 South-Eastern Asia.',\n",
       " 'Turkey 84,339,067 Western Asia.',\n",
       " 'Iran 83,992,949 Southern Asia.',\n",
       " 'Thailand 69,799,978 South-Eastern Asia.',\n",
       " 'Myanmar 54,409,800 South-Eastern Asia.',\n",
       " 'South Korea 51,269,185 Eastern Asia.',\n",
       " 'Iraq 40,222,493 Western Asia.',\n",
       " 'Afghanistan 38,928,346 Southern Asia.',\n",
       " 'Saudi Arabia 34,813,871 Western Asia.',\n",
       " 'Uzbekistan 33,469,203 Central Asia.',\n",
       " 'Malaysia 32,365,999 South-Eastern Asia.',\n",
       " 'Yemen 29,825,964 Western Asia.',\n",
       " 'Nepal 29,136,808 Southern Asia.',\n",
       " 'North Korea 25,778,816 Eastern Asia.',\n",
       " 'Sri Lanka 21,413,249 Southern Asia.',\n",
       " 'Kazakhstan 18,776,707 Central Asia.',\n",
       " 'Syria 17,500,658 Western Asia.',\n",
       " 'Cambodia 16,718,965 South-Eastern Asia.',\n",
       " 'Jordan 10,203,134 Western Asia.',\n",
       " 'Azerbaijan 10,139,177 Western Asia.',\n",
       " 'United Arab Emirates 9,890,402 Western Asia.',\n",
       " 'Tajikistan 9,537,645 Central Asia.',\n",
       " 'Israel 8,655,535 Western Asia.',\n",
       " 'Laos 7,275,560 South-Eastern Asia.',\n",
       " 'Lebanon 6,825,445 Western Asia.',\n",
       " 'Kyrgyzstan 6,524,195 Central Asia.',\n",
       " 'Turkmenistan 6,031,200 Central Asia.',\n",
       " 'Singapore 5,850,342 South-Eastern Asia.',\n",
       " 'Oman 5,106,626 Western Asia.',\n",
       " 'State of Palestine 5,101,414 Western Asia.',\n",
       " 'Kuwait 4,270,571 Western Asia.',\n",
       " 'Georgia 3,989,167 Western Asia.',\n",
       " 'Mongolia 3,278,290 Eastern Asia.',\n",
       " 'Armenia 2,963,243 Western Asia.',\n",
       " 'Qatar 2,881,053 Western Asia.',\n",
       " 'Bahrain 1,701,575 Western Asia.',\n",
       " 'Timor-Leste 1,318,445 South-Eastern Asia.',\n",
       " 'Cyprus 1,207,359 Western Asia.',\n",
       " 'Bhutan 771,608 Southern Asia.',\n",
       " 'Maldives 540,544 Southern Asia.',\n",
       " 'Brunei 437,479 South-Eastern Asia.',\n",
       " 'Dependencies or other territories.',\n",
       " 'Territory Population.',\n",
       " 'Dependency of.',\n",
       " 'Taiwan 23,816,775 (China).',\n",
       " 'Hong Kong 7,496,981 China.']"
      ]
     },
     "execution_count": 1479,
     "metadata": {},
     "output_type": "execute_result"
    }
   ],
   "source": [
    "new_list"
   ]
  },
  {
   "cell_type": "code",
   "execution_count": null,
   "id": "9fd15773-0fb5-47f7-815f-e7965588ee99",
   "metadata": {},
   "outputs": [],
   "source": []
  },
  {
   "cell_type": "code",
   "execution_count": 1480,
   "id": "5790f36c-70a1-4fb3-a409-04eed876e887",
   "metadata": {},
   "outputs": [],
   "source": [
    "converted_list = [x.upper() for x in new_list]"
   ]
  },
  {
   "cell_type": "code",
   "execution_count": 1481,
   "id": "7efb5efb-ab93-4c7f-bc90-3eb40c559c77",
   "metadata": {},
   "outputs": [
    {
     "data": {
      "text/plain": [
       "['W HOW MANY COUNTRIES IN ASIA?',\n",
       " 'COUNTRIES IN ASIA:.',\n",
       " 'THERE ARE 48 COUNTRIES IN ASIA TODAY, ACCORDING TO THE UNITED NATIONS.',\n",
       " 'THE FULL LIST IS SHOWN IN THE TABLE BELOW, WITH CURRENT POPULATION AND SUBREGION (BASED ON THE UNITED NATIONS OFFICIAL STATISTICS).',\n",
       " 'NOT INCLUDED IN THIS TOTAL OF \"COUNTRIES\" AND LISTED SEPARATELY ARE:.',\n",
       " 'DEPENDENCIES (OR DEPENDENT TERRITORIES, DEPENDENT AREAS) OR AREAS OF SPECIAL SOVEREIGNTY (AUTONOMOUS TERRITORIES).',\n",
       " 'SEARCH:.',\n",
       " 'COUNTRY POPULATION.',\n",
       " 'SUBREGION.',\n",
       " 'CHINA 1,439,323,776 EASTERN ASIA.',\n",
       " 'INDIA 1,380,004,385 SOUTHERN ASIA.',\n",
       " 'INDONESIA 273,523,615 SOUTH-EASTERN ASIA.',\n",
       " 'PAKISTAN 220,892,340 SOUTHERN ASIA.',\n",
       " 'BANGLADESH 164,689,383 SOUTHERN ASIA.',\n",
       " 'JAPAN 126,476,461 EASTERN ASIA.',\n",
       " 'PHILIPPINES 109,581,078 SOUTH-EASTERN ASIA.',\n",
       " 'VIETNAM 97,338,579 SOUTH-EASTERN ASIA.',\n",
       " 'TURKEY 84,339,067 WESTERN ASIA.',\n",
       " 'IRAN 83,992,949 SOUTHERN ASIA.',\n",
       " 'THAILAND 69,799,978 SOUTH-EASTERN ASIA.',\n",
       " 'MYANMAR 54,409,800 SOUTH-EASTERN ASIA.',\n",
       " 'SOUTH KOREA 51,269,185 EASTERN ASIA.',\n",
       " 'IRAQ 40,222,493 WESTERN ASIA.',\n",
       " 'AFGHANISTAN 38,928,346 SOUTHERN ASIA.',\n",
       " 'SAUDI ARABIA 34,813,871 WESTERN ASIA.',\n",
       " 'UZBEKISTAN 33,469,203 CENTRAL ASIA.',\n",
       " 'MALAYSIA 32,365,999 SOUTH-EASTERN ASIA.',\n",
       " 'YEMEN 29,825,964 WESTERN ASIA.',\n",
       " 'NEPAL 29,136,808 SOUTHERN ASIA.',\n",
       " 'NORTH KOREA 25,778,816 EASTERN ASIA.',\n",
       " 'SRI LANKA 21,413,249 SOUTHERN ASIA.',\n",
       " 'KAZAKHSTAN 18,776,707 CENTRAL ASIA.',\n",
       " 'SYRIA 17,500,658 WESTERN ASIA.',\n",
       " 'CAMBODIA 16,718,965 SOUTH-EASTERN ASIA.',\n",
       " 'JORDAN 10,203,134 WESTERN ASIA.',\n",
       " 'AZERBAIJAN 10,139,177 WESTERN ASIA.',\n",
       " 'UNITED ARAB EMIRATES 9,890,402 WESTERN ASIA.',\n",
       " 'TAJIKISTAN 9,537,645 CENTRAL ASIA.',\n",
       " 'ISRAEL 8,655,535 WESTERN ASIA.',\n",
       " 'LAOS 7,275,560 SOUTH-EASTERN ASIA.',\n",
       " 'LEBANON 6,825,445 WESTERN ASIA.',\n",
       " 'KYRGYZSTAN 6,524,195 CENTRAL ASIA.',\n",
       " 'TURKMENISTAN 6,031,200 CENTRAL ASIA.',\n",
       " 'SINGAPORE 5,850,342 SOUTH-EASTERN ASIA.',\n",
       " 'OMAN 5,106,626 WESTERN ASIA.',\n",
       " 'STATE OF PALESTINE 5,101,414 WESTERN ASIA.',\n",
       " 'KUWAIT 4,270,571 WESTERN ASIA.',\n",
       " 'GEORGIA 3,989,167 WESTERN ASIA.',\n",
       " 'MONGOLIA 3,278,290 EASTERN ASIA.',\n",
       " 'ARMENIA 2,963,243 WESTERN ASIA.',\n",
       " 'QATAR 2,881,053 WESTERN ASIA.',\n",
       " 'BAHRAIN 1,701,575 WESTERN ASIA.',\n",
       " 'TIMOR-LESTE 1,318,445 SOUTH-EASTERN ASIA.',\n",
       " 'CYPRUS 1,207,359 WESTERN ASIA.',\n",
       " 'BHUTAN 771,608 SOUTHERN ASIA.',\n",
       " 'MALDIVES 540,544 SOUTHERN ASIA.',\n",
       " 'BRUNEI 437,479 SOUTH-EASTERN ASIA.',\n",
       " 'DEPENDENCIES OR OTHER TERRITORIES.',\n",
       " 'TERRITORY POPULATION.',\n",
       " 'DEPENDENCY OF.',\n",
       " 'TAIWAN 23,816,775 (CHINA).',\n",
       " 'HONG KONG 7,496,981 CHINA.']"
      ]
     },
     "execution_count": 1481,
     "metadata": {},
     "output_type": "execute_result"
    }
   ],
   "source": [
    "converted_list"
   ]
  },
  {
   "cell_type": "code",
   "execution_count": null,
   "id": "651c3ba0-3041-4e30-b4dc-dc7e4cbade72",
   "metadata": {},
   "outputs": [],
   "source": []
  },
  {
   "cell_type": "code",
   "execution_count": 1482,
   "id": "cce1f14f-ae10-4b9b-b83e-5d81fb1390d4",
   "metadata": {},
   "outputs": [],
   "source": [
    "co = str(converted_list)"
   ]
  },
  {
   "cell_type": "code",
   "execution_count": 1483,
   "id": "9fa8f36e-3a2b-47ec-a135-6b51008c6e7a",
   "metadata": {},
   "outputs": [],
   "source": [
    "from itertools import chain"
   ]
  },
  {
   "cell_type": "code",
   "execution_count": 1484,
   "id": "a5f9a0cd-122b-4568-875b-c36966f6eb1f",
   "metadata": {},
   "outputs": [],
   "source": [
    "coming = ' '.join(str(v) for v in converted_list)"
   ]
  },
  {
   "cell_type": "code",
   "execution_count": 1485,
   "id": "a9ccf09c-87f6-414d-9388-2c72f09f710b",
   "metadata": {},
   "outputs": [
    {
     "data": {
      "text/plain": [
       "'W HOW MANY COUNTRIES IN ASIA? COUNTRIES IN ASIA:. THERE ARE 48 COUNTRIES IN ASIA TODAY, ACCORDING TO THE UNITED NATIONS. THE FULL LIST IS SHOWN IN THE TABLE BELOW, WITH CURRENT POPULATION AND SUBREGION (BASED ON THE UNITED NATIONS OFFICIAL STATISTICS). NOT INCLUDED IN THIS TOTAL OF \"COUNTRIES\" AND LISTED SEPARATELY ARE:. DEPENDENCIES (OR DEPENDENT TERRITORIES, DEPENDENT AREAS) OR AREAS OF SPECIAL SOVEREIGNTY (AUTONOMOUS TERRITORIES). SEARCH:. COUNTRY POPULATION. SUBREGION. CHINA 1,439,323,776 EASTERN ASIA. INDIA 1,380,004,385 SOUTHERN ASIA. INDONESIA 273,523,615 SOUTH-EASTERN ASIA. PAKISTAN 220,892,340 SOUTHERN ASIA. BANGLADESH 164,689,383 SOUTHERN ASIA. JAPAN 126,476,461 EASTERN ASIA. PHILIPPINES 109,581,078 SOUTH-EASTERN ASIA. VIETNAM 97,338,579 SOUTH-EASTERN ASIA. TURKEY 84,339,067 WESTERN ASIA. IRAN 83,992,949 SOUTHERN ASIA. THAILAND 69,799,978 SOUTH-EASTERN ASIA. MYANMAR 54,409,800 SOUTH-EASTERN ASIA. SOUTH KOREA 51,269,185 EASTERN ASIA. IRAQ 40,222,493 WESTERN ASIA. AFGHANISTAN 38,928,346 SOUTHERN ASIA. SAUDI ARABIA 34,813,871 WESTERN ASIA. UZBEKISTAN 33,469,203 CENTRAL ASIA. MALAYSIA 32,365,999 SOUTH-EASTERN ASIA. YEMEN 29,825,964 WESTERN ASIA. NEPAL 29,136,808 SOUTHERN ASIA. NORTH KOREA 25,778,816 EASTERN ASIA. SRI LANKA 21,413,249 SOUTHERN ASIA. KAZAKHSTAN 18,776,707 CENTRAL ASIA. SYRIA 17,500,658 WESTERN ASIA. CAMBODIA 16,718,965 SOUTH-EASTERN ASIA. JORDAN 10,203,134 WESTERN ASIA. AZERBAIJAN 10,139,177 WESTERN ASIA. UNITED ARAB EMIRATES 9,890,402 WESTERN ASIA. TAJIKISTAN 9,537,645 CENTRAL ASIA. ISRAEL 8,655,535 WESTERN ASIA. LAOS 7,275,560 SOUTH-EASTERN ASIA. LEBANON 6,825,445 WESTERN ASIA. KYRGYZSTAN 6,524,195 CENTRAL ASIA. TURKMENISTAN 6,031,200 CENTRAL ASIA. SINGAPORE 5,850,342 SOUTH-EASTERN ASIA. OMAN 5,106,626 WESTERN ASIA. STATE OF PALESTINE 5,101,414 WESTERN ASIA. KUWAIT 4,270,571 WESTERN ASIA. GEORGIA 3,989,167 WESTERN ASIA. MONGOLIA 3,278,290 EASTERN ASIA. ARMENIA 2,963,243 WESTERN ASIA. QATAR 2,881,053 WESTERN ASIA. BAHRAIN 1,701,575 WESTERN ASIA. TIMOR-LESTE 1,318,445 SOUTH-EASTERN ASIA. CYPRUS 1,207,359 WESTERN ASIA. BHUTAN 771,608 SOUTHERN ASIA. MALDIVES 540,544 SOUTHERN ASIA. BRUNEI 437,479 SOUTH-EASTERN ASIA. DEPENDENCIES OR OTHER TERRITORIES. TERRITORY POPULATION. DEPENDENCY OF. TAIWAN 23,816,775 (CHINA). HONG KONG 7,496,981 CHINA.'"
      ]
     },
     "execution_count": 1485,
     "metadata": {},
     "output_type": "execute_result"
    }
   ],
   "source": [
    "coming"
   ]
  },
  {
   "cell_type": "code",
   "execution_count": 1486,
   "id": "4b42f7b7-ab55-4200-9633-dad25456fab0",
   "metadata": {},
   "outputs": [],
   "source": [
    "come = coming.replace(\".\", \"\")\n",
    "com = come.replace(\"REPUBLIC\", \"\")\n",
    "come= com.replace(\"OF\", \"\")\n"
   ]
  },
  {
   "cell_type": "code",
   "execution_count": 1487,
   "id": "74b6d498-12e8-4713-8393-5db66421fd8f",
   "metadata": {},
   "outputs": [
    {
     "data": {
      "text/plain": [
       "'W HOW MANY COUNTRIES IN ASIA? COUNTRIES IN ASIA: THERE ARE 48 COUNTRIES IN ASIA TODAY, ACCORDING TO THE UNITED NATIONS THE FULL LIST IS SHOWN IN THE TABLE BELOW, WITH CURRENT POPULATION AND SUBREGION (BASED ON THE UNITED NATIONS FICIAL STATISTICS) NOT INCLUDED IN THIS TOTAL  \"COUNTRIES\" AND LISTED SEPARATELY ARE: DEPENDENCIES (OR DEPENDENT TERRITORIES, DEPENDENT AREAS) OR AREAS  SPECIAL SOVEREIGNTY (AUTONOMOUS TERRITORIES) SEARCH: COUNTRY POPULATION SUBREGION CHINA 1,439,323,776 EASTERN ASIA INDIA 1,380,004,385 SOUTHERN ASIA INDONESIA 273,523,615 SOUTH-EASTERN ASIA PAKISTAN 220,892,340 SOUTHERN ASIA BANGLADESH 164,689,383 SOUTHERN ASIA JAPAN 126,476,461 EASTERN ASIA PHILIPPINES 109,581,078 SOUTH-EASTERN ASIA VIETNAM 97,338,579 SOUTH-EASTERN ASIA TURKEY 84,339,067 WESTERN ASIA IRAN 83,992,949 SOUTHERN ASIA THAILAND 69,799,978 SOUTH-EASTERN ASIA MYANMAR 54,409,800 SOUTH-EASTERN ASIA SOUTH KOREA 51,269,185 EASTERN ASIA IRAQ 40,222,493 WESTERN ASIA AFGHANISTAN 38,928,346 SOUTHERN ASIA SAUDI ARABIA 34,813,871 WESTERN ASIA UZBEKISTAN 33,469,203 CENTRAL ASIA MALAYSIA 32,365,999 SOUTH-EASTERN ASIA YEMEN 29,825,964 WESTERN ASIA NEPAL 29,136,808 SOUTHERN ASIA NORTH KOREA 25,778,816 EASTERN ASIA SRI LANKA 21,413,249 SOUTHERN ASIA KAZAKHSTAN 18,776,707 CENTRAL ASIA SYRIA 17,500,658 WESTERN ASIA CAMBODIA 16,718,965 SOUTH-EASTERN ASIA JORDAN 10,203,134 WESTERN ASIA AZERBAIJAN 10,139,177 WESTERN ASIA UNITED ARAB EMIRATES 9,890,402 WESTERN ASIA TAJIKISTAN 9,537,645 CENTRAL ASIA ISRAEL 8,655,535 WESTERN ASIA LAOS 7,275,560 SOUTH-EASTERN ASIA LEBANON 6,825,445 WESTERN ASIA KYRGYZSTAN 6,524,195 CENTRAL ASIA TURKMENISTAN 6,031,200 CENTRAL ASIA SINGAPORE 5,850,342 SOUTH-EASTERN ASIA OMAN 5,106,626 WESTERN ASIA STATE  PALESTINE 5,101,414 WESTERN ASIA KUWAIT 4,270,571 WESTERN ASIA GEORGIA 3,989,167 WESTERN ASIA MONGOLIA 3,278,290 EASTERN ASIA ARMENIA 2,963,243 WESTERN ASIA QATAR 2,881,053 WESTERN ASIA BAHRAIN 1,701,575 WESTERN ASIA TIMOR-LESTE 1,318,445 SOUTH-EASTERN ASIA CYPRUS 1,207,359 WESTERN ASIA BHUTAN 771,608 SOUTHERN ASIA MALDIVES 540,544 SOUTHERN ASIA BRUNEI 437,479 SOUTH-EASTERN ASIA DEPENDENCIES OR OTHER TERRITORIES TERRITORY POPULATION DEPENDENCY  TAIWAN 23,816,775 (CHINA) HONG KONG 7,496,981 CHINA'"
      ]
     },
     "execution_count": 1487,
     "metadata": {},
     "output_type": "execute_result"
    }
   ],
   "source": [
    "come"
   ]
  },
  {
   "cell_type": "code",
   "execution_count": 1488,
   "id": "897399fe-0197-4eb4-82c5-0817c0450371",
   "metadata": {},
   "outputs": [],
   "source": [
    "# i need to get the intersection of countries"
   ]
  },
  {
   "cell_type": "code",
   "execution_count": null,
   "id": "9c05b320-b8d3-4d47-9302-8bbb0c8df6d6",
   "metadata": {},
   "outputs": [],
   "source": []
  },
  {
   "cell_type": "code",
   "execution_count": 1489,
   "id": "ff29cd04-de34-4194-9200-1d776ac6bdef",
   "metadata": {},
   "outputs": [],
   "source": [
    "#movi\n",
    "#come\n",
    "\n",
    "read = set(result.split()) & set(come.split())"
   ]
  },
  {
   "cell_type": "code",
   "execution_count": 1490,
   "id": "ac3b4a3b-89e1-4869-96a0-dec967b15023",
   "metadata": {},
   "outputs": [],
   "source": [
    "readd = list(read)"
   ]
  },
  {
   "cell_type": "code",
   "execution_count": 1491,
   "id": "700ded9e-06bc-46e7-be0a-06ccca39a509",
   "metadata": {},
   "outputs": [],
   "source": [
    "readd.append(\"RUSSIA\")\n",
    "readd.append(\"SRI LANKA\")\n",
    "readd.append(\"PHILIPINES\")"
   ]
  },
  {
   "cell_type": "code",
   "execution_count": 1492,
   "id": "ddbc6c1c-c664-40e7-94e7-4caca3d6e09b",
   "metadata": {},
   "outputs": [
    {
     "data": {
      "text/plain": [
       "['PAKISTAN',\n",
       " 'THAILAND',\n",
       " 'KUWAIT',\n",
       " 'TURKEY',\n",
       " 'OMAN',\n",
       " 'CYPRUS',\n",
       " 'KOREA',\n",
       " 'ARAB',\n",
       " 'QATAR',\n",
       " 'MYANMAR',\n",
       " 'GEORGIA',\n",
       " 'EMIRATES',\n",
       " 'ISRAEL',\n",
       " 'YEMEN',\n",
       " 'INDIA',\n",
       " 'IRAQ',\n",
       " 'MALAYSIA',\n",
       " 'LEBANON',\n",
       " 'JAPAN',\n",
       " 'SOUTH',\n",
       " 'NEPAL',\n",
       " 'SRI',\n",
       " 'INDONESIA',\n",
       " 'UNITED',\n",
       " 'SINGAPORE',\n",
       " 'LANKA',\n",
       " 'CHINA',\n",
       " 'IRAN',\n",
       " 'TAIWAN',\n",
       " 'RUSSIA',\n",
       " 'SRI LANKA',\n",
       " 'PHILIPINES']"
      ]
     },
     "execution_count": 1492,
     "metadata": {},
     "output_type": "execute_result"
    }
   ],
   "source": [
    "readd"
   ]
  },
  {
   "cell_type": "code",
   "execution_count": 1493,
   "id": "85561cf8-e620-4dd4-853b-f1590063f625",
   "metadata": {},
   "outputs": [],
   "source": [
    "i = len(readd)"
   ]
  },
  {
   "cell_type": "code",
   "execution_count": 1494,
   "id": "f6006187-0173-4bc8-9b6e-5cadcfc8ae65",
   "metadata": {},
   "outputs": [],
   "source": [
    "matches = []\n",
    "\n",
    "for match in list1:\n",
    "    if readd[i-1] in match:\n",
    "        matches.append(match)\n",
    "        i-=1"
   ]
  },
  {
   "cell_type": "code",
   "execution_count": 1495,
   "id": "3244d91e-1e71-42bf-868c-16fdae9d0388",
   "metadata": {},
   "outputs": [
    {
     "data": {
      "text/plain": [
       "list"
      ]
     },
     "execution_count": 1495,
     "metadata": {},
     "output_type": "execute_result"
    }
   ],
   "source": [
    "type(matches)"
   ]
  },
  {
   "cell_type": "code",
   "execution_count": 1496,
   "id": "a08253df-e2b6-4e90-b0d2-a049103c63c2",
   "metadata": {},
   "outputs": [],
   "source": [
    "i = len(readd)"
   ]
  },
  {
   "cell_type": "code",
   "execution_count": 1497,
   "id": "c366543c-fbf9-4275-9c97-4f2825304e7a",
   "metadata": {},
   "outputs": [
    {
     "data": {
      "text/plain": [
       "32"
      ]
     },
     "execution_count": 1497,
     "metadata": {},
     "output_type": "execute_result"
    }
   ],
   "source": [
    "i"
   ]
  },
  {
   "cell_type": "code",
   "execution_count": 1498,
   "id": "e04b73a7-e825-43bc-9a10-f5ca79ed02b1",
   "metadata": {},
   "outputs": [
    {
     "data": {
      "text/plain": [
       "'PHILIPINES'"
      ]
     },
     "execution_count": 1498,
     "metadata": {},
     "output_type": "execute_result"
    }
   ],
   "source": [
    "readd[i-1]"
   ]
  },
  {
   "cell_type": "code",
   "execution_count": 1499,
   "id": "4115de99-4301-48f0-a6a5-1ea5f4c3a1b4",
   "metadata": {},
   "outputs": [
    {
     "data": {
      "text/plain": [
       "pandas.core.frame.DataFrame"
      ]
     },
     "execution_count": 1499,
     "metadata": {},
     "output_type": "execute_result"
    }
   ],
   "source": [
    "type(df)"
   ]
  },
  {
   "cell_type": "code",
   "execution_count": 1500,
   "id": "885b308f-72e7-45f0-8a0c-1cf48d224bd5",
   "metadata": {},
   "outputs": [],
   "source": [
    "df.upcountry.replace(readd, 'Asia', inplace=True)"
   ]
  },
  {
   "cell_type": "code",
   "execution_count": 1501,
   "id": "f7cc7359-4e4f-4dc4-90bc-20f2c8309e4e",
   "metadata": {},
   "outputs": [],
   "source": [
    "asia = df[df['upcountry'] == 'Asia' ]\n",
    "#i=df[df[‘Name’]==’Will’]\n",
    "#print(i)"
   ]
  },
  {
   "cell_type": "code",
   "execution_count": 1502,
   "id": "3e6c27a6-27b4-4789-8021-03055a8f2d4e",
   "metadata": {
    "tags": []
   },
   "outputs": [
    {
     "data": {
      "text/html": [
       "<div>\n",
       "<style scoped>\n",
       "    .dataframe tbody tr th:only-of-type {\n",
       "        vertical-align: middle;\n",
       "    }\n",
       "\n",
       "    .dataframe tbody tr th {\n",
       "        vertical-align: top;\n",
       "    }\n",
       "\n",
       "    .dataframe thead th {\n",
       "        text-align: right;\n",
       "    }\n",
       "</style>\n",
       "<table border=\"1\" class=\"dataframe\">\n",
       "  <thead>\n",
       "    <tr style=\"text-align: right;\">\n",
       "      <th></th>\n",
       "      <th>country</th>\n",
       "      <th>age_group</th>\n",
       "      <th>travel_with</th>\n",
       "      <th>total_female</th>\n",
       "      <th>total_male</th>\n",
       "      <th>purpose</th>\n",
       "      <th>main_activity</th>\n",
       "      <th>info_source</th>\n",
       "      <th>tour_arrangement</th>\n",
       "      <th>package_transport_int</th>\n",
       "      <th>...</th>\n",
       "      <th>package_sightseeing</th>\n",
       "      <th>package_guided_tour</th>\n",
       "      <th>package_insurance</th>\n",
       "      <th>night_mainland</th>\n",
       "      <th>night_zanzibar</th>\n",
       "      <th>payment_mode</th>\n",
       "      <th>first_trip_tz</th>\n",
       "      <th>most_impressing</th>\n",
       "      <th>total_cost</th>\n",
       "      <th>upcountry</th>\n",
       "    </tr>\n",
       "    <tr>\n",
       "      <th>ID</th>\n",
       "      <th></th>\n",
       "      <th></th>\n",
       "      <th></th>\n",
       "      <th></th>\n",
       "      <th></th>\n",
       "      <th></th>\n",
       "      <th></th>\n",
       "      <th></th>\n",
       "      <th></th>\n",
       "      <th></th>\n",
       "      <th></th>\n",
       "      <th></th>\n",
       "      <th></th>\n",
       "      <th></th>\n",
       "      <th></th>\n",
       "      <th></th>\n",
       "      <th></th>\n",
       "      <th></th>\n",
       "      <th></th>\n",
       "      <th></th>\n",
       "      <th></th>\n",
       "    </tr>\n",
       "  </thead>\n",
       "  <tbody>\n",
       "    <tr>\n",
       "      <th>tour_1004</th>\n",
       "      <td>CHINA</td>\n",
       "      <td>2024-01-01 00:00:00</td>\n",
       "      <td>Alone</td>\n",
       "      <td>1.0</td>\n",
       "      <td>0.0</td>\n",
       "      <td>Leisure and Holidays</td>\n",
       "      <td>Wildlife tourism</td>\n",
       "      <td>Travel, agent, tour operator</td>\n",
       "      <td>Independent</td>\n",
       "      <td>No</td>\n",
       "      <td>...</td>\n",
       "      <td>No</td>\n",
       "      <td>No</td>\n",
       "      <td>No</td>\n",
       "      <td>7</td>\n",
       "      <td>4</td>\n",
       "      <td>Cash</td>\n",
       "      <td>Yes</td>\n",
       "      <td>No comments</td>\n",
       "      <td>1657500.0</td>\n",
       "      <td>Asia</td>\n",
       "    </tr>\n",
       "    <tr>\n",
       "      <th>tour_1011</th>\n",
       "      <td>INDIA</td>\n",
       "      <td>25-44</td>\n",
       "      <td>Alone</td>\n",
       "      <td>1.0</td>\n",
       "      <td>0.0</td>\n",
       "      <td>Business</td>\n",
       "      <td>Wildlife tourism</td>\n",
       "      <td>Travel, agent, tour operator</td>\n",
       "      <td>Independent</td>\n",
       "      <td>No</td>\n",
       "      <td>...</td>\n",
       "      <td>No</td>\n",
       "      <td>No</td>\n",
       "      <td>No</td>\n",
       "      <td>5</td>\n",
       "      <td>0</td>\n",
       "      <td>Credit Card</td>\n",
       "      <td>Yes</td>\n",
       "      <td>Friendly People</td>\n",
       "      <td>2486250.0</td>\n",
       "      <td>Asia</td>\n",
       "    </tr>\n",
       "    <tr>\n",
       "      <th>tour_1022</th>\n",
       "      <td>MYANMAR</td>\n",
       "      <td>25-44</td>\n",
       "      <td>Alone</td>\n",
       "      <td>1.0</td>\n",
       "      <td>0.0</td>\n",
       "      <td>Meetings and Conference</td>\n",
       "      <td>Wildlife tourism</td>\n",
       "      <td>Radio, TV, Web</td>\n",
       "      <td>Independent</td>\n",
       "      <td>No</td>\n",
       "      <td>...</td>\n",
       "      <td>No</td>\n",
       "      <td>No</td>\n",
       "      <td>No</td>\n",
       "      <td>5</td>\n",
       "      <td>0</td>\n",
       "      <td>Cash</td>\n",
       "      <td>Yes</td>\n",
       "      <td>Friendly People</td>\n",
       "      <td>331500.0</td>\n",
       "      <td>Asia</td>\n",
       "    </tr>\n",
       "    <tr>\n",
       "      <th>tour_1042</th>\n",
       "      <td>QATAR</td>\n",
       "      <td>25-44</td>\n",
       "      <td>Friends/Relatives</td>\n",
       "      <td>2.0</td>\n",
       "      <td>2.0</td>\n",
       "      <td>Leisure and Holidays</td>\n",
       "      <td>Wildlife tourism</td>\n",
       "      <td>Friends, relatives</td>\n",
       "      <td>Package Tour</td>\n",
       "      <td>Yes</td>\n",
       "      <td>...</td>\n",
       "      <td>Yes</td>\n",
       "      <td>Yes</td>\n",
       "      <td>No</td>\n",
       "      <td>13</td>\n",
       "      <td>10</td>\n",
       "      <td>Cash</td>\n",
       "      <td>No</td>\n",
       "      <td>Wildlife</td>\n",
       "      <td>17316000.0</td>\n",
       "      <td>Asia</td>\n",
       "    </tr>\n",
       "    <tr>\n",
       "      <th>tour_1046</th>\n",
       "      <td>CHINA</td>\n",
       "      <td>25-44</td>\n",
       "      <td>Alone</td>\n",
       "      <td>1.0</td>\n",
       "      <td>0.0</td>\n",
       "      <td>Leisure and Holidays</td>\n",
       "      <td>Beach tourism</td>\n",
       "      <td>Newspaper, magazines,brochures</td>\n",
       "      <td>Independent</td>\n",
       "      <td>No</td>\n",
       "      <td>...</td>\n",
       "      <td>No</td>\n",
       "      <td>No</td>\n",
       "      <td>No</td>\n",
       "      <td>2</td>\n",
       "      <td>0</td>\n",
       "      <td>Other</td>\n",
       "      <td>No</td>\n",
       "      <td>Friendly People</td>\n",
       "      <td>828750.0</td>\n",
       "      <td>Asia</td>\n",
       "    </tr>\n",
       "    <tr>\n",
       "      <th>...</th>\n",
       "      <td>...</td>\n",
       "      <td>...</td>\n",
       "      <td>...</td>\n",
       "      <td>...</td>\n",
       "      <td>...</td>\n",
       "      <td>...</td>\n",
       "      <td>...</td>\n",
       "      <td>...</td>\n",
       "      <td>...</td>\n",
       "      <td>...</td>\n",
       "      <td>...</td>\n",
       "      <td>...</td>\n",
       "      <td>...</td>\n",
       "      <td>...</td>\n",
       "      <td>...</td>\n",
       "      <td>...</td>\n",
       "      <td>...</td>\n",
       "      <td>...</td>\n",
       "      <td>...</td>\n",
       "      <td>...</td>\n",
       "      <td>...</td>\n",
       "    </tr>\n",
       "    <tr>\n",
       "      <th>tour_962</th>\n",
       "      <td>INDIA</td>\n",
       "      <td>45-64</td>\n",
       "      <td>Alone</td>\n",
       "      <td>0.0</td>\n",
       "      <td>1.0</td>\n",
       "      <td>Meetings and Conference</td>\n",
       "      <td>Wildlife tourism</td>\n",
       "      <td>Friends, relatives</td>\n",
       "      <td>Independent</td>\n",
       "      <td>No</td>\n",
       "      <td>...</td>\n",
       "      <td>No</td>\n",
       "      <td>No</td>\n",
       "      <td>No</td>\n",
       "      <td>12</td>\n",
       "      <td>0</td>\n",
       "      <td>Credit Card</td>\n",
       "      <td>No</td>\n",
       "      <td>Friendly People</td>\n",
       "      <td>1657500.0</td>\n",
       "      <td>Asia</td>\n",
       "    </tr>\n",
       "    <tr>\n",
       "      <th>tour_967</th>\n",
       "      <td>KOREA</td>\n",
       "      <td>2024-01-01 00:00:00</td>\n",
       "      <td>Alone</td>\n",
       "      <td>0.0</td>\n",
       "      <td>1.0</td>\n",
       "      <td>Visiting Friends and Relatives</td>\n",
       "      <td>Beach tourism</td>\n",
       "      <td>Friends, relatives</td>\n",
       "      <td>Independent</td>\n",
       "      <td>No</td>\n",
       "      <td>...</td>\n",
       "      <td>No</td>\n",
       "      <td>No</td>\n",
       "      <td>No</td>\n",
       "      <td>30</td>\n",
       "      <td>0</td>\n",
       "      <td>Cash</td>\n",
       "      <td>Yes</td>\n",
       "      <td>Wildlife</td>\n",
       "      <td>2154750.0</td>\n",
       "      <td>Asia</td>\n",
       "    </tr>\n",
       "    <tr>\n",
       "      <th>tour_970</th>\n",
       "      <td>LEBANON</td>\n",
       "      <td>45-64</td>\n",
       "      <td>Alone</td>\n",
       "      <td>0.0</td>\n",
       "      <td>1.0</td>\n",
       "      <td>Meetings and Conference</td>\n",
       "      <td>Mountain climbing</td>\n",
       "      <td>others</td>\n",
       "      <td>Independent</td>\n",
       "      <td>No</td>\n",
       "      <td>...</td>\n",
       "      <td>No</td>\n",
       "      <td>No</td>\n",
       "      <td>No</td>\n",
       "      <td>4</td>\n",
       "      <td>1</td>\n",
       "      <td>Cash</td>\n",
       "      <td>No</td>\n",
       "      <td>No comments</td>\n",
       "      <td>3315000.0</td>\n",
       "      <td>Asia</td>\n",
       "    </tr>\n",
       "    <tr>\n",
       "      <th>tour_982</th>\n",
       "      <td>THAILAND</td>\n",
       "      <td>25-44</td>\n",
       "      <td>Alone</td>\n",
       "      <td>1.0</td>\n",
       "      <td>0.0</td>\n",
       "      <td>Meetings and Conference</td>\n",
       "      <td>Mountain climbing</td>\n",
       "      <td>others</td>\n",
       "      <td>Independent</td>\n",
       "      <td>No</td>\n",
       "      <td>...</td>\n",
       "      <td>No</td>\n",
       "      <td>No</td>\n",
       "      <td>No</td>\n",
       "      <td>5</td>\n",
       "      <td>0</td>\n",
       "      <td>Cash</td>\n",
       "      <td>Yes</td>\n",
       "      <td>Friendly People</td>\n",
       "      <td>414375.0</td>\n",
       "      <td>Asia</td>\n",
       "    </tr>\n",
       "    <tr>\n",
       "      <th>tour_987</th>\n",
       "      <td>SINGAPORE</td>\n",
       "      <td>2024-01-01 00:00:00</td>\n",
       "      <td>Friends/Relatives</td>\n",
       "      <td>1.0</td>\n",
       "      <td>1.0</td>\n",
       "      <td>Leisure and Holidays</td>\n",
       "      <td>Conference tourism</td>\n",
       "      <td>Friends, relatives</td>\n",
       "      <td>Package Tour</td>\n",
       "      <td>Yes</td>\n",
       "      <td>...</td>\n",
       "      <td>No</td>\n",
       "      <td>Yes</td>\n",
       "      <td>No</td>\n",
       "      <td>14</td>\n",
       "      <td>2</td>\n",
       "      <td>Cash</td>\n",
       "      <td>Yes</td>\n",
       "      <td>Good service</td>\n",
       "      <td>9945000.0</td>\n",
       "      <td>Asia</td>\n",
       "    </tr>\n",
       "  </tbody>\n",
       "</table>\n",
       "<p>358 rows × 23 columns</p>\n",
       "</div>"
      ],
      "text/plain": [
       "             country            age_group        travel_with  total_female  \\\n",
       "ID                                                                           \n",
       "tour_1004      CHINA  2024-01-01 00:00:00              Alone           1.0   \n",
       "tour_1011      INDIA                25-44              Alone           1.0   \n",
       "tour_1022    MYANMAR                25-44              Alone           1.0   \n",
       "tour_1042      QATAR                25-44  Friends/Relatives           2.0   \n",
       "tour_1046      CHINA                25-44              Alone           1.0   \n",
       "...              ...                  ...                ...           ...   \n",
       "tour_962       INDIA                45-64              Alone           0.0   \n",
       "tour_967       KOREA  2024-01-01 00:00:00              Alone           0.0   \n",
       "tour_970     LEBANON                45-64              Alone           0.0   \n",
       "tour_982    THAILAND                25-44              Alone           1.0   \n",
       "tour_987   SINGAPORE  2024-01-01 00:00:00  Friends/Relatives           1.0   \n",
       "\n",
       "           total_male                         purpose       main_activity  \\\n",
       "ID                                                                          \n",
       "tour_1004         0.0            Leisure and Holidays    Wildlife tourism   \n",
       "tour_1011         0.0                        Business    Wildlife tourism   \n",
       "tour_1022         0.0         Meetings and Conference    Wildlife tourism   \n",
       "tour_1042         2.0            Leisure and Holidays    Wildlife tourism   \n",
       "tour_1046         0.0            Leisure and Holidays       Beach tourism   \n",
       "...               ...                             ...                 ...   \n",
       "tour_962          1.0         Meetings and Conference    Wildlife tourism   \n",
       "tour_967          1.0  Visiting Friends and Relatives       Beach tourism   \n",
       "tour_970          1.0         Meetings and Conference   Mountain climbing   \n",
       "tour_982          0.0         Meetings and Conference   Mountain climbing   \n",
       "tour_987          1.0            Leisure and Holidays  Conference tourism   \n",
       "\n",
       "                              info_source tour_arrangement  \\\n",
       "ID                                                           \n",
       "tour_1004    Travel, agent, tour operator      Independent   \n",
       "tour_1011    Travel, agent, tour operator      Independent   \n",
       "tour_1022                  Radio, TV, Web      Independent   \n",
       "tour_1042              Friends, relatives     Package Tour   \n",
       "tour_1046  Newspaper, magazines,brochures      Independent   \n",
       "...                                   ...              ...   \n",
       "tour_962               Friends, relatives      Independent   \n",
       "tour_967               Friends, relatives      Independent   \n",
       "tour_970                           others      Independent   \n",
       "tour_982                           others      Independent   \n",
       "tour_987               Friends, relatives     Package Tour   \n",
       "\n",
       "          package_transport_int  ... package_sightseeing package_guided_tour  \\\n",
       "ID                               ...                                           \n",
       "tour_1004                    No  ...                  No                  No   \n",
       "tour_1011                    No  ...                  No                  No   \n",
       "tour_1022                    No  ...                  No                  No   \n",
       "tour_1042                   Yes  ...                 Yes                 Yes   \n",
       "tour_1046                    No  ...                  No                  No   \n",
       "...                         ...  ...                 ...                 ...   \n",
       "tour_962                     No  ...                  No                  No   \n",
       "tour_967                     No  ...                  No                  No   \n",
       "tour_970                     No  ...                  No                  No   \n",
       "tour_982                     No  ...                  No                  No   \n",
       "tour_987                    Yes  ...                  No                 Yes   \n",
       "\n",
       "          package_insurance night_mainland night_zanzibar payment_mode  \\\n",
       "ID                                                                       \n",
       "tour_1004                No              7              4         Cash   \n",
       "tour_1011                No              5              0  Credit Card   \n",
       "tour_1022                No              5              0         Cash   \n",
       "tour_1042                No             13             10         Cash   \n",
       "tour_1046                No              2              0        Other   \n",
       "...                     ...            ...            ...          ...   \n",
       "tour_962                 No             12              0  Credit Card   \n",
       "tour_967                 No             30              0         Cash   \n",
       "tour_970                 No              4              1         Cash   \n",
       "tour_982                 No              5              0         Cash   \n",
       "tour_987                 No             14              2         Cash   \n",
       "\n",
       "           first_trip_tz  most_impressing  total_cost upcountry  \n",
       "ID                                                               \n",
       "tour_1004            Yes      No comments   1657500.0      Asia  \n",
       "tour_1011            Yes  Friendly People   2486250.0      Asia  \n",
       "tour_1022            Yes  Friendly People    331500.0      Asia  \n",
       "tour_1042             No         Wildlife  17316000.0      Asia  \n",
       "tour_1046             No  Friendly People    828750.0      Asia  \n",
       "...                  ...              ...         ...       ...  \n",
       "tour_962              No  Friendly People   1657500.0      Asia  \n",
       "tour_967             Yes         Wildlife   2154750.0      Asia  \n",
       "tour_970              No      No comments   3315000.0      Asia  \n",
       "tour_982             Yes  Friendly People    414375.0      Asia  \n",
       "tour_987             Yes     Good service   9945000.0      Asia  \n",
       "\n",
       "[358 rows x 23 columns]"
      ]
     },
     "execution_count": 1502,
     "metadata": {},
     "output_type": "execute_result"
    }
   ],
   "source": [
    "asia"
   ]
  },
  {
   "cell_type": "markdown",
   "id": "dc05101f-e53b-4b39-b5ad-41d71e61c3b4",
   "metadata": {},
   "source": [
    "## North America"
   ]
  },
  {
   "cell_type": "code",
   "execution_count": 1503,
   "id": "5fc51a7a-c8ff-44b0-922b-04b592d7c98b",
   "metadata": {},
   "outputs": [],
   "source": [
    "driver.get(\"https://worldpopulationreview.com/country-rankings/countries-in-north-america\")   \n",
    "time.sleep(15)"
   ]
  },
  {
   "cell_type": "code",
   "execution_count": 1504,
   "id": "68d17d6e-b800-4b52-ad4b-e62e3e00e7c8",
   "metadata": {},
   "outputs": [
    {
     "name": "stderr",
     "output_type": "stream",
     "text": [
      "C:\\Users\\KOFI ADUKPO\\AppData\\Local\\Temp\\ipykernel_4848\\180691724.py:1: DeprecationWarning: find_element_by_xpath is deprecated. Please use find_element(by=By.XPATH, value=xpath) instead\n",
      "  i = driver.find_element_by_xpath(\"(//section[@id='dataTable'])[1]\")\n"
     ]
    }
   ],
   "source": [
    "i = driver.find_element_by_xpath(\"(//section[@id='dataTable'])[1]\")"
   ]
  },
  {
   "cell_type": "code",
   "execution_count": null,
   "id": "d9e03d62-25d9-46e7-9c9d-49ffb29b59fa",
   "metadata": {},
   "outputs": [],
   "source": []
  },
  {
   "cell_type": "code",
   "execution_count": 1505,
   "id": "4b801ba3-43e1-4b16-8d39-40563a537f60",
   "metadata": {},
   "outputs": [],
   "source": [
    "text = i.text\n",
    "#(//tbody)[1]"
   ]
  },
  {
   "cell_type": "code",
   "execution_count": 1506,
   "id": "d46c3804-b632-4748-a849-f4dadc3d7444",
   "metadata": {},
   "outputs": [
    {
     "data": {
      "text/plain": [
       "str"
      ]
     },
     "execution_count": 1506,
     "metadata": {},
     "output_type": "execute_result"
    }
   ],
   "source": [
    "type(text)"
   ]
  },
  {
   "cell_type": "code",
   "execution_count": 1507,
   "id": "abc71edf-ea31-4417-80a2-a197c55af363",
   "metadata": {},
   "outputs": [],
   "source": [
    "rep = text.replace(\"\\n\", \". \")"
   ]
  },
  {
   "cell_type": "code",
   "execution_count": 1508,
   "id": "e72ce983-6953-4e01-9d35-1f3eace7fd9f",
   "metadata": {},
   "outputs": [],
   "source": [
    "import re\n",
    "expression = re.compile(r'([A-Z][^\\.!?]*[\\.!?])')\n",
    "new_list = re.findall(expression, rep)"
   ]
  },
  {
   "cell_type": "code",
   "execution_count": 1509,
   "id": "51424578-5266-4d4b-88e1-c91563749f56",
   "metadata": {},
   "outputs": [
    {
     "data": {
      "text/plain": [
       "['CSV.',\n",
       " 'JSON.',\n",
       " 'Rank.',\n",
       " 'Country.',\n",
       " 'Population.',\n",
       " 'Growth Rate.',\n",
       " 'Saint Kitts And Nevis 53,871 0.',\n",
       " 'Dominica 72,344 0.',\n",
       " 'Antigua And Barbuda 99,509 0.',\n",
       " 'Saint Vincent And the Grenadines 111,551 0.',\n",
       " 'Grenada 113,475 0.',\n",
       " 'Saint Lucia 185,113 0.',\n",
       " 'Barbados 288,023 0.',\n",
       " 'Bahamas 400,516 0.',\n",
       " 'Belize 412,190 1.',\n",
       " 'Trinidad And Tobago 1,406,585 0.',\n",
       " 'Jamaica 2,985,094 0.',\n",
       " 'Panama 4,446,964 1.',\n",
       " 'Costa Rica 5,182,354 0.',\n",
       " 'El Salvador 6,550,389 0.',\n",
       " 'Nicaragua 6,779,100 1.',\n",
       " 'Honduras 10,221,247 1.',\n",
       " 'Dominican Republic 11,056,370 0.',\n",
       " 'Cuba 11,305,652 -0.',\n",
       " 'Haiti 11,680,283 1.',\n",
       " 'Guatemala 18,584,039 1.',\n",
       " 'Canada 38,388,419 0.',\n",
       " 'Mexico 131,562,772 1.',\n",
       " 'United States 334,805,269 0.',\n",
       " 'Countries in North America 2022.']"
      ]
     },
     "execution_count": 1509,
     "metadata": {},
     "output_type": "execute_result"
    }
   ],
   "source": [
    "new_list"
   ]
  },
  {
   "cell_type": "code",
   "execution_count": null,
   "id": "b2fa3897-4939-43c6-8cde-638aa0631610",
   "metadata": {},
   "outputs": [],
   "source": []
  },
  {
   "cell_type": "code",
   "execution_count": 1510,
   "id": "449c0ed9-6109-470e-9f14-790577ada1f0",
   "metadata": {},
   "outputs": [],
   "source": [
    "converted_list = [x.upper() for x in new_list]"
   ]
  },
  {
   "cell_type": "code",
   "execution_count": 1511,
   "id": "8cc0d645-3134-474b-a203-67bd59ba5431",
   "metadata": {},
   "outputs": [
    {
     "data": {
      "text/plain": [
       "['CSV.',\n",
       " 'JSON.',\n",
       " 'RANK.',\n",
       " 'COUNTRY.',\n",
       " 'POPULATION.',\n",
       " 'GROWTH RATE.',\n",
       " 'SAINT KITTS AND NEVIS 53,871 0.',\n",
       " 'DOMINICA 72,344 0.',\n",
       " 'ANTIGUA AND BARBUDA 99,509 0.',\n",
       " 'SAINT VINCENT AND THE GRENADINES 111,551 0.',\n",
       " 'GRENADA 113,475 0.',\n",
       " 'SAINT LUCIA 185,113 0.',\n",
       " 'BARBADOS 288,023 0.',\n",
       " 'BAHAMAS 400,516 0.',\n",
       " 'BELIZE 412,190 1.',\n",
       " 'TRINIDAD AND TOBAGO 1,406,585 0.',\n",
       " 'JAMAICA 2,985,094 0.',\n",
       " 'PANAMA 4,446,964 1.',\n",
       " 'COSTA RICA 5,182,354 0.',\n",
       " 'EL SALVADOR 6,550,389 0.',\n",
       " 'NICARAGUA 6,779,100 1.',\n",
       " 'HONDURAS 10,221,247 1.',\n",
       " 'DOMINICAN REPUBLIC 11,056,370 0.',\n",
       " 'CUBA 11,305,652 -0.',\n",
       " 'HAITI 11,680,283 1.',\n",
       " 'GUATEMALA 18,584,039 1.',\n",
       " 'CANADA 38,388,419 0.',\n",
       " 'MEXICO 131,562,772 1.',\n",
       " 'UNITED STATES 334,805,269 0.',\n",
       " 'COUNTRIES IN NORTH AMERICA 2022.']"
      ]
     },
     "execution_count": 1511,
     "metadata": {},
     "output_type": "execute_result"
    }
   ],
   "source": [
    "converted_list"
   ]
  },
  {
   "cell_type": "code",
   "execution_count": null,
   "id": "4080df48-5f6c-43f2-9ac7-e9a1228e7f34",
   "metadata": {},
   "outputs": [],
   "source": []
  },
  {
   "cell_type": "code",
   "execution_count": 1512,
   "id": "6cd6cd5b-9480-451c-ac4d-1a998a1afbc1",
   "metadata": {},
   "outputs": [],
   "source": [
    "co = str(converted_list)"
   ]
  },
  {
   "cell_type": "code",
   "execution_count": 1513,
   "id": "51fc9ade-0bf5-4ebc-b447-0906b109b6e7",
   "metadata": {},
   "outputs": [],
   "source": [
    "from itertools import chain"
   ]
  },
  {
   "cell_type": "code",
   "execution_count": 1514,
   "id": "ba26cfb3-0736-40e1-9d22-b6f68a1fcab4",
   "metadata": {},
   "outputs": [],
   "source": [
    "coming = ' '.join(str(v) for v in converted_list)"
   ]
  },
  {
   "cell_type": "code",
   "execution_count": 1515,
   "id": "91e79a72-c6da-4744-a195-52b106dc62dc",
   "metadata": {},
   "outputs": [
    {
     "data": {
      "text/plain": [
       "'CSV. JSON. RANK. COUNTRY. POPULATION. GROWTH RATE. SAINT KITTS AND NEVIS 53,871 0. DOMINICA 72,344 0. ANTIGUA AND BARBUDA 99,509 0. SAINT VINCENT AND THE GRENADINES 111,551 0. GRENADA 113,475 0. SAINT LUCIA 185,113 0. BARBADOS 288,023 0. BAHAMAS 400,516 0. BELIZE 412,190 1. TRINIDAD AND TOBAGO 1,406,585 0. JAMAICA 2,985,094 0. PANAMA 4,446,964 1. COSTA RICA 5,182,354 0. EL SALVADOR 6,550,389 0. NICARAGUA 6,779,100 1. HONDURAS 10,221,247 1. DOMINICAN REPUBLIC 11,056,370 0. CUBA 11,305,652 -0. HAITI 11,680,283 1. GUATEMALA 18,584,039 1. CANADA 38,388,419 0. MEXICO 131,562,772 1. UNITED STATES 334,805,269 0. COUNTRIES IN NORTH AMERICA 2022.'"
      ]
     },
     "execution_count": 1515,
     "metadata": {},
     "output_type": "execute_result"
    }
   ],
   "source": [
    "coming"
   ]
  },
  {
   "cell_type": "code",
   "execution_count": 1516,
   "id": "a5523a59-9b18-44bf-9e79-c81bd823a8a6",
   "metadata": {},
   "outputs": [],
   "source": [
    "come = coming.replace(\".\", \"\")\n",
    "com = come.replace(\"REPUBLIC\", \"\")\n",
    "come= com.replace(\"OF\", \"\")\n"
   ]
  },
  {
   "cell_type": "code",
   "execution_count": 1517,
   "id": "9c979f51-1be5-42e5-9438-2a53d5ff1810",
   "metadata": {},
   "outputs": [
    {
     "data": {
      "text/plain": [
       "'CSV JSON RANK COUNTRY POPULATION GROWTH RATE SAINT KITTS AND NEVIS 53,871 0 DOMINICA 72,344 0 ANTIGUA AND BARBUDA 99,509 0 SAINT VINCENT AND THE GRENADINES 111,551 0 GRENADA 113,475 0 SAINT LUCIA 185,113 0 BARBADOS 288,023 0 BAHAMAS 400,516 0 BELIZE 412,190 1 TRINIDAD AND TOBAGO 1,406,585 0 JAMAICA 2,985,094 0 PANAMA 4,446,964 1 COSTA RICA 5,182,354 0 EL SALVADOR 6,550,389 0 NICARAGUA 6,779,100 1 HONDURAS 10,221,247 1 DOMINICAN  11,056,370 0 CUBA 11,305,652 -0 HAITI 11,680,283 1 GUATEMALA 18,584,039 1 CANADA 38,388,419 0 MEXICO 131,562,772 1 UNITED STATES 334,805,269 0 COUNTRIES IN NORTH AMERICA 2022'"
      ]
     },
     "execution_count": 1517,
     "metadata": {},
     "output_type": "execute_result"
    }
   ],
   "source": [
    "come"
   ]
  },
  {
   "cell_type": "code",
   "execution_count": 1518,
   "id": "e31cdb63-0f70-47ac-a2de-06bda1267e47",
   "metadata": {},
   "outputs": [],
   "source": [
    "# i need to get the intersection of countries"
   ]
  },
  {
   "cell_type": "code",
   "execution_count": null,
   "id": "f6164209-c7ed-4ca2-849a-9f739cdd562f",
   "metadata": {},
   "outputs": [],
   "source": []
  },
  {
   "cell_type": "code",
   "execution_count": 1519,
   "id": "79280b04-9cd0-4c1f-9a2c-56fcf1b47200",
   "metadata": {},
   "outputs": [],
   "source": [
    "#movi\n",
    "#come\n",
    "\n",
    "read = set(result.split()) & set(come.split())"
   ]
  },
  {
   "cell_type": "code",
   "execution_count": 1520,
   "id": "aa0870fb-8d5f-4139-b8f6-b64d2c56fb96",
   "metadata": {},
   "outputs": [],
   "source": [
    "readd = list(read)"
   ]
  },
  {
   "cell_type": "code",
   "execution_count": 1521,
   "id": "0e963df3-0d35-4d79-a6fb-18c299e5c750",
   "metadata": {},
   "outputs": [],
   "source": [
    "\n",
    "readd.append(\"UNITED STATES OF AMERICA\")\n"
   ]
  },
  {
   "cell_type": "code",
   "execution_count": 1522,
   "id": "f4068bcf-5e5b-4da1-8902-f4e54d02dbcf",
   "metadata": {},
   "outputs": [
    {
     "data": {
      "text/plain": [
       "['AMERICA',\n",
       " 'UNITED',\n",
       " 'TRINIDAD',\n",
       " 'MEXICO',\n",
       " 'STATES',\n",
       " 'CANADA',\n",
       " 'DOMINICA',\n",
       " 'UNITED STATES OF AMERICA']"
      ]
     },
     "execution_count": 1522,
     "metadata": {},
     "output_type": "execute_result"
    }
   ],
   "source": [
    "readd"
   ]
  },
  {
   "cell_type": "code",
   "execution_count": null,
   "id": "51e7acc9-6867-4abe-9557-1711410bd33b",
   "metadata": {},
   "outputs": [],
   "source": []
  },
  {
   "cell_type": "code",
   "execution_count": 1523,
   "id": "5ef93a2c-fead-40b4-b174-844b17d7e9fa",
   "metadata": {},
   "outputs": [],
   "source": [
    "i = len(readd)"
   ]
  },
  {
   "cell_type": "code",
   "execution_count": 1524,
   "id": "02191c38-2a56-4ebd-ab4e-019916f212be",
   "metadata": {},
   "outputs": [],
   "source": [
    "matches = []\n",
    "\n",
    "for match in list1:\n",
    "    if readd[i-1] in match:\n",
    "        matches.append(match)\n",
    "        i-=1"
   ]
  },
  {
   "cell_type": "code",
   "execution_count": 1525,
   "id": "b8e8e04e-b452-4bf5-b743-19b08a4f1a18",
   "metadata": {},
   "outputs": [
    {
     "data": {
      "text/plain": [
       "list"
      ]
     },
     "execution_count": 1525,
     "metadata": {},
     "output_type": "execute_result"
    }
   ],
   "source": [
    "type(matches)"
   ]
  },
  {
   "cell_type": "code",
   "execution_count": 1526,
   "id": "e4cc39bc-56e2-45fe-b9ed-cbde3186f895",
   "metadata": {},
   "outputs": [],
   "source": [
    "i = len(readd)"
   ]
  },
  {
   "cell_type": "code",
   "execution_count": 1527,
   "id": "d52f1026-d273-4f52-b3e6-66f73984d0f8",
   "metadata": {},
   "outputs": [
    {
     "data": {
      "text/plain": [
       "8"
      ]
     },
     "execution_count": 1527,
     "metadata": {},
     "output_type": "execute_result"
    }
   ],
   "source": [
    "i"
   ]
  },
  {
   "cell_type": "code",
   "execution_count": 1528,
   "id": "a84f71a9-9718-442d-91f9-cbf90a22f162",
   "metadata": {},
   "outputs": [
    {
     "data": {
      "text/plain": [
       "'UNITED STATES OF AMERICA'"
      ]
     },
     "execution_count": 1528,
     "metadata": {},
     "output_type": "execute_result"
    }
   ],
   "source": [
    "readd[i-1]"
   ]
  },
  {
   "cell_type": "code",
   "execution_count": 1529,
   "id": "bd5fb5ec-8f8c-41e2-b993-08790b184f1c",
   "metadata": {},
   "outputs": [
    {
     "data": {
      "text/plain": [
       "pandas.core.frame.DataFrame"
      ]
     },
     "execution_count": 1529,
     "metadata": {},
     "output_type": "execute_result"
    }
   ],
   "source": [
    "type(df)"
   ]
  },
  {
   "cell_type": "code",
   "execution_count": 1530,
   "id": "1b18d773-6111-45b5-8502-c419c263535e",
   "metadata": {},
   "outputs": [],
   "source": [
    "df.upcountry.replace(readd, 'North America', inplace=True)"
   ]
  },
  {
   "cell_type": "code",
   "execution_count": 1531,
   "id": "d0d7b7a0-d0e3-47c7-94e1-99720d487dc6",
   "metadata": {},
   "outputs": [],
   "source": [
    "n_america = df[df['upcountry'] == 'North America' ]\n",
    "#i=df[df[‘Name’]==’Will’]\n",
    "#print(i)"
   ]
  },
  {
   "cell_type": "code",
   "execution_count": 1532,
   "id": "ba216ca4-9cd8-44ec-b3f6-b091584e3942",
   "metadata": {
    "tags": []
   },
   "outputs": [
    {
     "data": {
      "text/html": [
       "<div>\n",
       "<style scoped>\n",
       "    .dataframe tbody tr th:only-of-type {\n",
       "        vertical-align: middle;\n",
       "    }\n",
       "\n",
       "    .dataframe tbody tr th {\n",
       "        vertical-align: top;\n",
       "    }\n",
       "\n",
       "    .dataframe thead th {\n",
       "        text-align: right;\n",
       "    }\n",
       "</style>\n",
       "<table border=\"1\" class=\"dataframe\">\n",
       "  <thead>\n",
       "    <tr style=\"text-align: right;\">\n",
       "      <th></th>\n",
       "      <th>country</th>\n",
       "      <th>age_group</th>\n",
       "      <th>travel_with</th>\n",
       "      <th>total_female</th>\n",
       "      <th>total_male</th>\n",
       "      <th>purpose</th>\n",
       "      <th>main_activity</th>\n",
       "      <th>info_source</th>\n",
       "      <th>tour_arrangement</th>\n",
       "      <th>package_transport_int</th>\n",
       "      <th>...</th>\n",
       "      <th>package_sightseeing</th>\n",
       "      <th>package_guided_tour</th>\n",
       "      <th>package_insurance</th>\n",
       "      <th>night_mainland</th>\n",
       "      <th>night_zanzibar</th>\n",
       "      <th>payment_mode</th>\n",
       "      <th>first_trip_tz</th>\n",
       "      <th>most_impressing</th>\n",
       "      <th>total_cost</th>\n",
       "      <th>upcountry</th>\n",
       "    </tr>\n",
       "    <tr>\n",
       "      <th>ID</th>\n",
       "      <th></th>\n",
       "      <th></th>\n",
       "      <th></th>\n",
       "      <th></th>\n",
       "      <th></th>\n",
       "      <th></th>\n",
       "      <th></th>\n",
       "      <th></th>\n",
       "      <th></th>\n",
       "      <th></th>\n",
       "      <th></th>\n",
       "      <th></th>\n",
       "      <th></th>\n",
       "      <th></th>\n",
       "      <th></th>\n",
       "      <th></th>\n",
       "      <th></th>\n",
       "      <th></th>\n",
       "      <th></th>\n",
       "      <th></th>\n",
       "      <th></th>\n",
       "    </tr>\n",
       "  </thead>\n",
       "  <tbody>\n",
       "    <tr>\n",
       "      <th>tour_1008</th>\n",
       "      <td>UNITED STATES OF AMERICA</td>\n",
       "      <td>45-64</td>\n",
       "      <td>Friends/Relatives</td>\n",
       "      <td>1.0</td>\n",
       "      <td>1.0</td>\n",
       "      <td>Leisure and Holidays</td>\n",
       "      <td>Wildlife tourism</td>\n",
       "      <td>Travel, agent, tour operator</td>\n",
       "      <td>Package Tour</td>\n",
       "      <td>Yes</td>\n",
       "      <td>...</td>\n",
       "      <td>Yes</td>\n",
       "      <td>Yes</td>\n",
       "      <td>Yes</td>\n",
       "      <td>10</td>\n",
       "      <td>3</td>\n",
       "      <td>Cash</td>\n",
       "      <td>Yes</td>\n",
       "      <td>Friendly People</td>\n",
       "      <td>3480750.0</td>\n",
       "      <td>North America</td>\n",
       "    </tr>\n",
       "    <tr>\n",
       "      <th>tour_1013</th>\n",
       "      <td>CANADA</td>\n",
       "      <td>45-64</td>\n",
       "      <td>Children</td>\n",
       "      <td>2.0</td>\n",
       "      <td>0.0</td>\n",
       "      <td>Leisure and Holidays</td>\n",
       "      <td>Beach tourism</td>\n",
       "      <td>Friends, relatives</td>\n",
       "      <td>Independent</td>\n",
       "      <td>No</td>\n",
       "      <td>...</td>\n",
       "      <td>No</td>\n",
       "      <td>No</td>\n",
       "      <td>No</td>\n",
       "      <td>30</td>\n",
       "      <td>0</td>\n",
       "      <td>Cash</td>\n",
       "      <td>No</td>\n",
       "      <td>Excellent Experience</td>\n",
       "      <td>8121750.0</td>\n",
       "      <td>North America</td>\n",
       "    </tr>\n",
       "    <tr>\n",
       "      <th>tour_1016</th>\n",
       "      <td>CANADA</td>\n",
       "      <td>45-64</td>\n",
       "      <td>Children</td>\n",
       "      <td>0.0</td>\n",
       "      <td>2.0</td>\n",
       "      <td>Leisure and Holidays</td>\n",
       "      <td>Wildlife tourism</td>\n",
       "      <td>Travel, agent, tour operator</td>\n",
       "      <td>Independent</td>\n",
       "      <td>No</td>\n",
       "      <td>...</td>\n",
       "      <td>No</td>\n",
       "      <td>No</td>\n",
       "      <td>No</td>\n",
       "      <td>11</td>\n",
       "      <td>3</td>\n",
       "      <td>Cash</td>\n",
       "      <td>Yes</td>\n",
       "      <td>No comments</td>\n",
       "      <td>331500.0</td>\n",
       "      <td>North America</td>\n",
       "    </tr>\n",
       "    <tr>\n",
       "      <th>tour_1051</th>\n",
       "      <td>UNITED STATES OF AMERICA</td>\n",
       "      <td>45-64</td>\n",
       "      <td>Spouse</td>\n",
       "      <td>1.0</td>\n",
       "      <td>1.0</td>\n",
       "      <td>Leisure and Holidays</td>\n",
       "      <td>Beach tourism</td>\n",
       "      <td>others</td>\n",
       "      <td>Independent</td>\n",
       "      <td>No</td>\n",
       "      <td>...</td>\n",
       "      <td>No</td>\n",
       "      <td>No</td>\n",
       "      <td>No</td>\n",
       "      <td>0</td>\n",
       "      <td>5</td>\n",
       "      <td>Cash</td>\n",
       "      <td>Yes</td>\n",
       "      <td>No comments</td>\n",
       "      <td>3397875.0</td>\n",
       "      <td>North America</td>\n",
       "    </tr>\n",
       "    <tr>\n",
       "      <th>tour_1065</th>\n",
       "      <td>UNITED STATES OF AMERICA</td>\n",
       "      <td>25-44</td>\n",
       "      <td>Alone</td>\n",
       "      <td>1.0</td>\n",
       "      <td>0.0</td>\n",
       "      <td>Meetings and Conference</td>\n",
       "      <td>Mountain climbing</td>\n",
       "      <td>Friends, relatives</td>\n",
       "      <td>Independent</td>\n",
       "      <td>No</td>\n",
       "      <td>...</td>\n",
       "      <td>No</td>\n",
       "      <td>No</td>\n",
       "      <td>No</td>\n",
       "      <td>5</td>\n",
       "      <td>0</td>\n",
       "      <td>Credit Card</td>\n",
       "      <td>Yes</td>\n",
       "      <td>Excellent Experience</td>\n",
       "      <td>1491750.0</td>\n",
       "      <td>North America</td>\n",
       "    </tr>\n",
       "    <tr>\n",
       "      <th>...</th>\n",
       "      <td>...</td>\n",
       "      <td>...</td>\n",
       "      <td>...</td>\n",
       "      <td>...</td>\n",
       "      <td>...</td>\n",
       "      <td>...</td>\n",
       "      <td>...</td>\n",
       "      <td>...</td>\n",
       "      <td>...</td>\n",
       "      <td>...</td>\n",
       "      <td>...</td>\n",
       "      <td>...</td>\n",
       "      <td>...</td>\n",
       "      <td>...</td>\n",
       "      <td>...</td>\n",
       "      <td>...</td>\n",
       "      <td>...</td>\n",
       "      <td>...</td>\n",
       "      <td>...</td>\n",
       "      <td>...</td>\n",
       "      <td>...</td>\n",
       "    </tr>\n",
       "    <tr>\n",
       "      <th>tour_945</th>\n",
       "      <td>CANADA</td>\n",
       "      <td>65+</td>\n",
       "      <td>Spouse</td>\n",
       "      <td>1.0</td>\n",
       "      <td>1.0</td>\n",
       "      <td>Leisure and Holidays</td>\n",
       "      <td>Wildlife tourism</td>\n",
       "      <td>Travel, agent, tour operator</td>\n",
       "      <td>Package Tour</td>\n",
       "      <td>No</td>\n",
       "      <td>...</td>\n",
       "      <td>Yes</td>\n",
       "      <td>Yes</td>\n",
       "      <td>No</td>\n",
       "      <td>9</td>\n",
       "      <td>3</td>\n",
       "      <td>Cash</td>\n",
       "      <td>Yes</td>\n",
       "      <td>Wonderful Country, Landscape, Nature</td>\n",
       "      <td>20387250.0</td>\n",
       "      <td>North America</td>\n",
       "    </tr>\n",
       "    <tr>\n",
       "      <th>tour_948</th>\n",
       "      <td>UNITED STATES OF AMERICA</td>\n",
       "      <td>45-64</td>\n",
       "      <td>Alone</td>\n",
       "      <td>0.0</td>\n",
       "      <td>1.0</td>\n",
       "      <td>Business</td>\n",
       "      <td>Wildlife tourism</td>\n",
       "      <td>Travel, agent, tour operator</td>\n",
       "      <td>Package Tour</td>\n",
       "      <td>Yes</td>\n",
       "      <td>...</td>\n",
       "      <td>No</td>\n",
       "      <td>No</td>\n",
       "      <td>No</td>\n",
       "      <td>2</td>\n",
       "      <td>0</td>\n",
       "      <td>Cash</td>\n",
       "      <td>No</td>\n",
       "      <td>Friendly People</td>\n",
       "      <td>3563625.0</td>\n",
       "      <td>North America</td>\n",
       "    </tr>\n",
       "    <tr>\n",
       "      <th>tour_969</th>\n",
       "      <td>UNITED STATES OF AMERICA</td>\n",
       "      <td>25-44</td>\n",
       "      <td>Alone</td>\n",
       "      <td>1.0</td>\n",
       "      <td>0.0</td>\n",
       "      <td>Meetings and Conference</td>\n",
       "      <td>Mountain climbing</td>\n",
       "      <td>Radio, TV, Web</td>\n",
       "      <td>Independent</td>\n",
       "      <td>No</td>\n",
       "      <td>...</td>\n",
       "      <td>No</td>\n",
       "      <td>No</td>\n",
       "      <td>No</td>\n",
       "      <td>3</td>\n",
       "      <td>0</td>\n",
       "      <td>Credit Card</td>\n",
       "      <td>No</td>\n",
       "      <td>Friendly People</td>\n",
       "      <td>497250.0</td>\n",
       "      <td>North America</td>\n",
       "    </tr>\n",
       "    <tr>\n",
       "      <th>tour_986</th>\n",
       "      <td>UNITED STATES OF AMERICA</td>\n",
       "      <td>65+</td>\n",
       "      <td>Alone</td>\n",
       "      <td>1.0</td>\n",
       "      <td>0.0</td>\n",
       "      <td>Leisure and Holidays</td>\n",
       "      <td>Wildlife tourism</td>\n",
       "      <td>Travel, agent, tour operator</td>\n",
       "      <td>Package Tour</td>\n",
       "      <td>Yes</td>\n",
       "      <td>...</td>\n",
       "      <td>Yes</td>\n",
       "      <td>Yes</td>\n",
       "      <td>Yes</td>\n",
       "      <td>19</td>\n",
       "      <td>0</td>\n",
       "      <td>Cash</td>\n",
       "      <td>Yes</td>\n",
       "      <td>Wildlife</td>\n",
       "      <td>18232500.0</td>\n",
       "      <td>North America</td>\n",
       "    </tr>\n",
       "    <tr>\n",
       "      <th>tour_994</th>\n",
       "      <td>UNITED STATES OF AMERICA</td>\n",
       "      <td>25-44</td>\n",
       "      <td>Spouse</td>\n",
       "      <td>1.0</td>\n",
       "      <td>1.0</td>\n",
       "      <td>Leisure and Holidays</td>\n",
       "      <td>Wildlife tourism</td>\n",
       "      <td>Travel, agent, tour operator</td>\n",
       "      <td>Package Tour</td>\n",
       "      <td>Yes</td>\n",
       "      <td>...</td>\n",
       "      <td>Yes</td>\n",
       "      <td>Yes</td>\n",
       "      <td>Yes</td>\n",
       "      <td>11</td>\n",
       "      <td>0</td>\n",
       "      <td>Cash</td>\n",
       "      <td>Yes</td>\n",
       "      <td>Friendly People</td>\n",
       "      <td>10690875.0</td>\n",
       "      <td>North America</td>\n",
       "    </tr>\n",
       "  </tbody>\n",
       "</table>\n",
       "<p>812 rows × 23 columns</p>\n",
       "</div>"
      ],
      "text/plain": [
       "                            country age_group        travel_with  \\\n",
       "ID                                                                 \n",
       "tour_1008  UNITED STATES OF AMERICA     45-64  Friends/Relatives   \n",
       "tour_1013                    CANADA     45-64           Children   \n",
       "tour_1016                    CANADA     45-64           Children   \n",
       "tour_1051  UNITED STATES OF AMERICA     45-64             Spouse   \n",
       "tour_1065  UNITED STATES OF AMERICA     25-44              Alone   \n",
       "...                             ...       ...                ...   \n",
       "tour_945                     CANADA       65+             Spouse   \n",
       "tour_948   UNITED STATES OF AMERICA     45-64              Alone   \n",
       "tour_969   UNITED STATES OF AMERICA     25-44              Alone   \n",
       "tour_986   UNITED STATES OF AMERICA       65+              Alone   \n",
       "tour_994   UNITED STATES OF AMERICA     25-44             Spouse   \n",
       "\n",
       "           total_female  total_male                  purpose  \\\n",
       "ID                                                             \n",
       "tour_1008           1.0         1.0     Leisure and Holidays   \n",
       "tour_1013           2.0         0.0     Leisure and Holidays   \n",
       "tour_1016           0.0         2.0     Leisure and Holidays   \n",
       "tour_1051           1.0         1.0     Leisure and Holidays   \n",
       "tour_1065           1.0         0.0  Meetings and Conference   \n",
       "...                 ...         ...                      ...   \n",
       "tour_945            1.0         1.0     Leisure and Holidays   \n",
       "tour_948            0.0         1.0                 Business   \n",
       "tour_969            1.0         0.0  Meetings and Conference   \n",
       "tour_986            1.0         0.0     Leisure and Holidays   \n",
       "tour_994            1.0         1.0     Leisure and Holidays   \n",
       "\n",
       "               main_activity                   info_source tour_arrangement  \\\n",
       "ID                                                                            \n",
       "tour_1008   Wildlife tourism  Travel, agent, tour operator     Package Tour   \n",
       "tour_1013      Beach tourism            Friends, relatives      Independent   \n",
       "tour_1016   Wildlife tourism  Travel, agent, tour operator      Independent   \n",
       "tour_1051      Beach tourism                        others      Independent   \n",
       "tour_1065  Mountain climbing            Friends, relatives      Independent   \n",
       "...                      ...                           ...              ...   \n",
       "tour_945    Wildlife tourism  Travel, agent, tour operator     Package Tour   \n",
       "tour_948    Wildlife tourism  Travel, agent, tour operator     Package Tour   \n",
       "tour_969   Mountain climbing                Radio, TV, Web      Independent   \n",
       "tour_986    Wildlife tourism  Travel, agent, tour operator     Package Tour   \n",
       "tour_994    Wildlife tourism  Travel, agent, tour operator     Package Tour   \n",
       "\n",
       "          package_transport_int  ... package_sightseeing package_guided_tour  \\\n",
       "ID                               ...                                           \n",
       "tour_1008                   Yes  ...                 Yes                 Yes   \n",
       "tour_1013                    No  ...                  No                  No   \n",
       "tour_1016                    No  ...                  No                  No   \n",
       "tour_1051                    No  ...                  No                  No   \n",
       "tour_1065                    No  ...                  No                  No   \n",
       "...                         ...  ...                 ...                 ...   \n",
       "tour_945                     No  ...                 Yes                 Yes   \n",
       "tour_948                    Yes  ...                  No                  No   \n",
       "tour_969                     No  ...                  No                  No   \n",
       "tour_986                    Yes  ...                 Yes                 Yes   \n",
       "tour_994                    Yes  ...                 Yes                 Yes   \n",
       "\n",
       "          package_insurance night_mainland night_zanzibar payment_mode  \\\n",
       "ID                                                                       \n",
       "tour_1008               Yes             10              3         Cash   \n",
       "tour_1013                No             30              0         Cash   \n",
       "tour_1016                No             11              3         Cash   \n",
       "tour_1051                No              0              5         Cash   \n",
       "tour_1065                No              5              0  Credit Card   \n",
       "...                     ...            ...            ...          ...   \n",
       "tour_945                 No              9              3         Cash   \n",
       "tour_948                 No              2              0         Cash   \n",
       "tour_969                 No              3              0  Credit Card   \n",
       "tour_986                Yes             19              0         Cash   \n",
       "tour_994                Yes             11              0         Cash   \n",
       "\n",
       "           first_trip_tz                       most_impressing  total_cost  \\\n",
       "ID                                                                           \n",
       "tour_1008            Yes                       Friendly People   3480750.0   \n",
       "tour_1013             No                  Excellent Experience   8121750.0   \n",
       "tour_1016            Yes                           No comments    331500.0   \n",
       "tour_1051            Yes                           No comments   3397875.0   \n",
       "tour_1065            Yes                  Excellent Experience   1491750.0   \n",
       "...                  ...                                   ...         ...   \n",
       "tour_945             Yes  Wonderful Country, Landscape, Nature  20387250.0   \n",
       "tour_948              No                       Friendly People   3563625.0   \n",
       "tour_969              No                       Friendly People    497250.0   \n",
       "tour_986             Yes                              Wildlife  18232500.0   \n",
       "tour_994             Yes                       Friendly People  10690875.0   \n",
       "\n",
       "               upcountry  \n",
       "ID                        \n",
       "tour_1008  North America  \n",
       "tour_1013  North America  \n",
       "tour_1016  North America  \n",
       "tour_1051  North America  \n",
       "tour_1065  North America  \n",
       "...                  ...  \n",
       "tour_945   North America  \n",
       "tour_948   North America  \n",
       "tour_969   North America  \n",
       "tour_986   North America  \n",
       "tour_994   North America  \n",
       "\n",
       "[812 rows x 23 columns]"
      ]
     },
     "execution_count": 1532,
     "metadata": {},
     "output_type": "execute_result"
    }
   ],
   "source": [
    "n_america"
   ]
  },
  {
   "cell_type": "markdown",
   "id": "788314e5-2ea9-4b97-807d-2e02d065fecb",
   "metadata": {},
   "source": [
    "## South America"
   ]
  },
  {
   "cell_type": "code",
   "execution_count": 1533,
   "id": "ac3f1554-dfe1-4fbc-9030-7ff7ee4185de",
   "metadata": {},
   "outputs": [],
   "source": [
    "driver.get(\"https://worldpopulationreview.com/country-rankings/countries-in-north-america\")   \n",
    "time.sleep(15)"
   ]
  },
  {
   "cell_type": "code",
   "execution_count": 1534,
   "id": "cdad3df5-d81e-4493-aa41-fb12ff0b380c",
   "metadata": {},
   "outputs": [
    {
     "name": "stderr",
     "output_type": "stream",
     "text": [
      "C:\\Users\\KOFI ADUKPO\\AppData\\Local\\Temp\\ipykernel_4848\\1135680224.py:1: DeprecationWarning: find_element_by_xpath is deprecated. Please use find_element(by=By.XPATH, value=xpath) instead\n",
      "  i = driver.find_element_by_xpath(\"(//tbody)[1]\")\n"
     ]
    }
   ],
   "source": [
    "i = driver.find_element_by_xpath(\"(//tbody)[1]\")"
   ]
  },
  {
   "cell_type": "code",
   "execution_count": null,
   "id": "216101d3-e053-443d-ba76-2c17f893cb5a",
   "metadata": {},
   "outputs": [],
   "source": []
  },
  {
   "cell_type": "code",
   "execution_count": 1535,
   "id": "183ffc82-faef-4e2c-8a01-e672d7e9de94",
   "metadata": {},
   "outputs": [],
   "source": [
    "text = i.text\n",
    "#(//tbody)[1]"
   ]
  },
  {
   "cell_type": "code",
   "execution_count": 1536,
   "id": "cb4730ab-f868-4eba-af95-a127ddfa3341",
   "metadata": {},
   "outputs": [
    {
     "data": {
      "text/plain": [
       "str"
      ]
     },
     "execution_count": 1536,
     "metadata": {},
     "output_type": "execute_result"
    }
   ],
   "source": [
    "type(text)"
   ]
  },
  {
   "cell_type": "code",
   "execution_count": 1537,
   "id": "16d67c94-a492-4c9f-84c7-c0fde6c396fc",
   "metadata": {},
   "outputs": [],
   "source": [
    "rep = text.replace(\"\\n\", \". \")"
   ]
  },
  {
   "cell_type": "code",
   "execution_count": 1538,
   "id": "66efd059-2f50-4a1e-9049-6a264aa0d97a",
   "metadata": {},
   "outputs": [],
   "source": [
    "import re\n",
    "expression = re.compile(r'([A-Z][^\\.!?]*[\\.!?])')\n",
    "new_list = re.findall(expression, rep)"
   ]
  },
  {
   "cell_type": "code",
   "execution_count": 1539,
   "id": "897ff9ab-0a83-4185-a5be-f1f185d85ee7",
   "metadata": {},
   "outputs": [
    {
     "data": {
      "text/plain": [
       "['Saint Kitts And Nevis 53,871 0.',\n",
       " 'Dominica 72,344 0.',\n",
       " 'Antigua And Barbuda 99,509 0.',\n",
       " 'Saint Vincent And the Grenadines 111,551 0.',\n",
       " 'Grenada 113,475 0.',\n",
       " 'Saint Lucia 185,113 0.',\n",
       " 'Barbados 288,023 0.',\n",
       " 'Bahamas 400,516 0.',\n",
       " 'Belize 412,190 1.',\n",
       " 'Trinidad And Tobago 1,406,585 0.',\n",
       " 'Jamaica 2,985,094 0.',\n",
       " 'Panama 4,446,964 1.',\n",
       " 'Costa Rica 5,182,354 0.',\n",
       " 'El Salvador 6,550,389 0.',\n",
       " 'Nicaragua 6,779,100 1.',\n",
       " 'Honduras 10,221,247 1.',\n",
       " 'Dominican Republic 11,056,370 0.',\n",
       " 'Cuba 11,305,652 -0.',\n",
       " 'Haiti 11,680,283 1.',\n",
       " 'Guatemala 18,584,039 1.',\n",
       " 'Canada 38,388,419 0.',\n",
       " 'Mexico 131,562,772 1.',\n",
       " 'United States 334,805,269 0.']"
      ]
     },
     "execution_count": 1539,
     "metadata": {},
     "output_type": "execute_result"
    }
   ],
   "source": [
    "new_list"
   ]
  },
  {
   "cell_type": "code",
   "execution_count": null,
   "id": "4ac110ac-3fd8-45b1-8649-642141cce60b",
   "metadata": {},
   "outputs": [],
   "source": []
  },
  {
   "cell_type": "code",
   "execution_count": 1540,
   "id": "5e99db8e-76cc-42ad-b3cb-2e0da87a96d3",
   "metadata": {},
   "outputs": [],
   "source": [
    "converted_list = [x.upper() for x in new_list]"
   ]
  },
  {
   "cell_type": "code",
   "execution_count": 1541,
   "id": "508ca7d2-a988-4ca2-b88c-c9e6984c4dc2",
   "metadata": {},
   "outputs": [
    {
     "data": {
      "text/plain": [
       "['SAINT KITTS AND NEVIS 53,871 0.',\n",
       " 'DOMINICA 72,344 0.',\n",
       " 'ANTIGUA AND BARBUDA 99,509 0.',\n",
       " 'SAINT VINCENT AND THE GRENADINES 111,551 0.',\n",
       " 'GRENADA 113,475 0.',\n",
       " 'SAINT LUCIA 185,113 0.',\n",
       " 'BARBADOS 288,023 0.',\n",
       " 'BAHAMAS 400,516 0.',\n",
       " 'BELIZE 412,190 1.',\n",
       " 'TRINIDAD AND TOBAGO 1,406,585 0.',\n",
       " 'JAMAICA 2,985,094 0.',\n",
       " 'PANAMA 4,446,964 1.',\n",
       " 'COSTA RICA 5,182,354 0.',\n",
       " 'EL SALVADOR 6,550,389 0.',\n",
       " 'NICARAGUA 6,779,100 1.',\n",
       " 'HONDURAS 10,221,247 1.',\n",
       " 'DOMINICAN REPUBLIC 11,056,370 0.',\n",
       " 'CUBA 11,305,652 -0.',\n",
       " 'HAITI 11,680,283 1.',\n",
       " 'GUATEMALA 18,584,039 1.',\n",
       " 'CANADA 38,388,419 0.',\n",
       " 'MEXICO 131,562,772 1.',\n",
       " 'UNITED STATES 334,805,269 0.']"
      ]
     },
     "execution_count": 1541,
     "metadata": {},
     "output_type": "execute_result"
    }
   ],
   "source": [
    "converted_list"
   ]
  },
  {
   "cell_type": "code",
   "execution_count": null,
   "id": "cfb46e9a-759f-48db-9d23-e9fa252172ae",
   "metadata": {},
   "outputs": [],
   "source": []
  },
  {
   "cell_type": "code",
   "execution_count": 1542,
   "id": "82fd3ed6-8e5f-422d-bc76-72398ad342d3",
   "metadata": {},
   "outputs": [],
   "source": [
    "co = str(converted_list)"
   ]
  },
  {
   "cell_type": "code",
   "execution_count": 1543,
   "id": "9cd528da-28c6-43c2-8ee7-e915f2c8c4b2",
   "metadata": {},
   "outputs": [],
   "source": [
    "from itertools import chain"
   ]
  },
  {
   "cell_type": "code",
   "execution_count": 1544,
   "id": "e13f81c7-68e4-44ce-9d0e-ecace1ee2eca",
   "metadata": {},
   "outputs": [],
   "source": [
    "coming = ' '.join(str(v) for v in converted_list)"
   ]
  },
  {
   "cell_type": "code",
   "execution_count": 1545,
   "id": "11e844aa-9a8c-43cc-a9f9-9cc7c94a549d",
   "metadata": {},
   "outputs": [
    {
     "data": {
      "text/plain": [
       "'SAINT KITTS AND NEVIS 53,871 0. DOMINICA 72,344 0. ANTIGUA AND BARBUDA 99,509 0. SAINT VINCENT AND THE GRENADINES 111,551 0. GRENADA 113,475 0. SAINT LUCIA 185,113 0. BARBADOS 288,023 0. BAHAMAS 400,516 0. BELIZE 412,190 1. TRINIDAD AND TOBAGO 1,406,585 0. JAMAICA 2,985,094 0. PANAMA 4,446,964 1. COSTA RICA 5,182,354 0. EL SALVADOR 6,550,389 0. NICARAGUA 6,779,100 1. HONDURAS 10,221,247 1. DOMINICAN REPUBLIC 11,056,370 0. CUBA 11,305,652 -0. HAITI 11,680,283 1. GUATEMALA 18,584,039 1. CANADA 38,388,419 0. MEXICO 131,562,772 1. UNITED STATES 334,805,269 0.'"
      ]
     },
     "execution_count": 1545,
     "metadata": {},
     "output_type": "execute_result"
    }
   ],
   "source": [
    "coming"
   ]
  },
  {
   "cell_type": "code",
   "execution_count": 1546,
   "id": "b09922ca-ffee-4698-86d7-f47551a53b3b",
   "metadata": {},
   "outputs": [],
   "source": [
    "come = coming.replace(\".\", \"\")\n",
    "com = come.replace(\"REPUBLIC\", \"\")\n",
    "come= com.replace(\"OF\", \"\")\n"
   ]
  },
  {
   "cell_type": "code",
   "execution_count": 1547,
   "id": "3682ac76-0105-4f3f-9585-a7a2538365c6",
   "metadata": {},
   "outputs": [
    {
     "data": {
      "text/plain": [
       "'SAINT KITTS AND NEVIS 53,871 0 DOMINICA 72,344 0 ANTIGUA AND BARBUDA 99,509 0 SAINT VINCENT AND THE GRENADINES 111,551 0 GRENADA 113,475 0 SAINT LUCIA 185,113 0 BARBADOS 288,023 0 BAHAMAS 400,516 0 BELIZE 412,190 1 TRINIDAD AND TOBAGO 1,406,585 0 JAMAICA 2,985,094 0 PANAMA 4,446,964 1 COSTA RICA 5,182,354 0 EL SALVADOR 6,550,389 0 NICARAGUA 6,779,100 1 HONDURAS 10,221,247 1 DOMINICAN  11,056,370 0 CUBA 11,305,652 -0 HAITI 11,680,283 1 GUATEMALA 18,584,039 1 CANADA 38,388,419 0 MEXICO 131,562,772 1 UNITED STATES 334,805,269 0'"
      ]
     },
     "execution_count": 1547,
     "metadata": {},
     "output_type": "execute_result"
    }
   ],
   "source": [
    "come"
   ]
  },
  {
   "cell_type": "code",
   "execution_count": 1548,
   "id": "a86114d1-cb9c-4a1e-b9f4-d30c36bd8f43",
   "metadata": {},
   "outputs": [],
   "source": [
    "# i need to get the intersection of countries"
   ]
  },
  {
   "cell_type": "code",
   "execution_count": null,
   "id": "0f5c7813-7643-4554-a0a6-e6cd3b66f3be",
   "metadata": {},
   "outputs": [],
   "source": []
  },
  {
   "cell_type": "code",
   "execution_count": 1549,
   "id": "c3b2daca-a5d9-4afd-a771-9f38e4bb4274",
   "metadata": {},
   "outputs": [],
   "source": [
    "#movi\n",
    "#come\n",
    "\n",
    "read = set(result.split()) & set(come.split())"
   ]
  },
  {
   "cell_type": "code",
   "execution_count": 1550,
   "id": "11e1b0be-3576-42eb-b6c2-9d107106d09b",
   "metadata": {},
   "outputs": [],
   "source": [
    "readd = list(read)"
   ]
  },
  {
   "cell_type": "code",
   "execution_count": 1551,
   "id": "2b14d2fd-2948-4205-8719-a2b333e40a8b",
   "metadata": {},
   "outputs": [],
   "source": [
    "readd.append(\"BRAZIL\")\n",
    "readd.append(\"COLOMBIA\")\n",
    "readd.append(\"CHILE\")\n",
    "readd.append(\"UGANDA\")\n",
    "readd.append(\"TRINIDAD TOBACCO\")\n",
    "readd.append(\"ARGENTINA\")\n",
    "readd.append(\"URUGUAY\")\n"
   ]
  },
  {
   "cell_type": "code",
   "execution_count": 1552,
   "id": "4ed003fd-2f57-4c55-ae2f-248ade9c70a8",
   "metadata": {},
   "outputs": [
    {
     "data": {
      "text/plain": [
       "['UNITED',\n",
       " 'TRINIDAD',\n",
       " 'MEXICO',\n",
       " 'STATES',\n",
       " 'CANADA',\n",
       " 'DOMINICA',\n",
       " 'BRAZIL',\n",
       " 'COLOMBIA',\n",
       " 'CHILE',\n",
       " 'UGANDA',\n",
       " 'TRINIDAD TOBACCO',\n",
       " 'ARGENTINA',\n",
       " 'URUGUAY']"
      ]
     },
     "execution_count": 1552,
     "metadata": {},
     "output_type": "execute_result"
    }
   ],
   "source": [
    "readd"
   ]
  },
  {
   "cell_type": "code",
   "execution_count": 1553,
   "id": "5d174454-0372-4da2-86e3-e3a3decc8b9a",
   "metadata": {},
   "outputs": [],
   "source": [
    "i = len(readd)"
   ]
  },
  {
   "cell_type": "code",
   "execution_count": 1554,
   "id": "824fa53a-c9d6-4580-a2a1-5406828d87ab",
   "metadata": {},
   "outputs": [],
   "source": [
    "matches = []\n",
    "\n",
    "for match in list1:\n",
    "    if readd[i-1] in match:\n",
    "        matches.append(match)\n",
    "        i-=1"
   ]
  },
  {
   "cell_type": "code",
   "execution_count": 1555,
   "id": "b4b36fed-bab9-4719-828f-90caabf8d090",
   "metadata": {},
   "outputs": [
    {
     "data": {
      "text/plain": [
       "list"
      ]
     },
     "execution_count": 1555,
     "metadata": {},
     "output_type": "execute_result"
    }
   ],
   "source": [
    "type(matches)"
   ]
  },
  {
   "cell_type": "code",
   "execution_count": 1556,
   "id": "8c4b7ba8-9b19-4538-ab58-5b5907aaa9c1",
   "metadata": {},
   "outputs": [],
   "source": [
    "i = len(readd)"
   ]
  },
  {
   "cell_type": "code",
   "execution_count": 1557,
   "id": "863d9805-011b-487a-8abe-033691ae6338",
   "metadata": {},
   "outputs": [
    {
     "data": {
      "text/plain": [
       "13"
      ]
     },
     "execution_count": 1557,
     "metadata": {},
     "output_type": "execute_result"
    }
   ],
   "source": [
    "i"
   ]
  },
  {
   "cell_type": "code",
   "execution_count": 1558,
   "id": "5ed73ea9-4bde-4cd2-b20a-40ded9b5ce25",
   "metadata": {},
   "outputs": [
    {
     "data": {
      "text/plain": [
       "'URUGUAY'"
      ]
     },
     "execution_count": 1558,
     "metadata": {},
     "output_type": "execute_result"
    }
   ],
   "source": [
    "readd[i-1]"
   ]
  },
  {
   "cell_type": "code",
   "execution_count": 1559,
   "id": "142515a6-9248-4d7f-a846-14abb39e50e3",
   "metadata": {},
   "outputs": [
    {
     "data": {
      "text/plain": [
       "pandas.core.frame.DataFrame"
      ]
     },
     "execution_count": 1559,
     "metadata": {},
     "output_type": "execute_result"
    }
   ],
   "source": [
    "type(df)"
   ]
  },
  {
   "cell_type": "code",
   "execution_count": 1560,
   "id": "51a3a1e6-5924-4c0e-8430-7f5b61967b93",
   "metadata": {},
   "outputs": [
    {
     "data": {
      "text/plain": [
       "['UNITED',\n",
       " 'TRINIDAD',\n",
       " 'MEXICO',\n",
       " 'STATES',\n",
       " 'CANADA',\n",
       " 'DOMINICA',\n",
       " 'BRAZIL',\n",
       " 'COLOMBIA',\n",
       " 'CHILE',\n",
       " 'UGANDA',\n",
       " 'TRINIDAD TOBACCO',\n",
       " 'ARGENTINA',\n",
       " 'URUGUAY']"
      ]
     },
     "execution_count": 1560,
     "metadata": {},
     "output_type": "execute_result"
    }
   ],
   "source": [
    "readd"
   ]
  },
  {
   "cell_type": "code",
   "execution_count": 1561,
   "id": "f307ece5-68d9-4e2f-86a4-b52c49435842",
   "metadata": {},
   "outputs": [],
   "source": [
    "df.upcountry.replace(readd, 'South America', inplace=True)"
   ]
  },
  {
   "cell_type": "code",
   "execution_count": 1562,
   "id": "fbc96f0f-7739-46ad-8844-f9b74492e256",
   "metadata": {},
   "outputs": [],
   "source": [
    "s_america = df[df['upcountry'] == 'South America' ]\n",
    "#i=df[df[‘Name’]==’Will’]\n",
    "#print(i)"
   ]
  },
  {
   "cell_type": "code",
   "execution_count": 1563,
   "id": "7877203c-5788-42de-a195-4a7dda5f2225",
   "metadata": {
    "tags": []
   },
   "outputs": [
    {
     "data": {
      "text/html": [
       "<div>\n",
       "<style scoped>\n",
       "    .dataframe tbody tr th:only-of-type {\n",
       "        vertical-align: middle;\n",
       "    }\n",
       "\n",
       "    .dataframe tbody tr th {\n",
       "        vertical-align: top;\n",
       "    }\n",
       "\n",
       "    .dataframe thead th {\n",
       "        text-align: right;\n",
       "    }\n",
       "</style>\n",
       "<table border=\"1\" class=\"dataframe\">\n",
       "  <thead>\n",
       "    <tr style=\"text-align: right;\">\n",
       "      <th></th>\n",
       "      <th>country</th>\n",
       "      <th>age_group</th>\n",
       "      <th>travel_with</th>\n",
       "      <th>total_female</th>\n",
       "      <th>total_male</th>\n",
       "      <th>purpose</th>\n",
       "      <th>main_activity</th>\n",
       "      <th>info_source</th>\n",
       "      <th>tour_arrangement</th>\n",
       "      <th>package_transport_int</th>\n",
       "      <th>...</th>\n",
       "      <th>package_sightseeing</th>\n",
       "      <th>package_guided_tour</th>\n",
       "      <th>package_insurance</th>\n",
       "      <th>night_mainland</th>\n",
       "      <th>night_zanzibar</th>\n",
       "      <th>payment_mode</th>\n",
       "      <th>first_trip_tz</th>\n",
       "      <th>most_impressing</th>\n",
       "      <th>total_cost</th>\n",
       "      <th>upcountry</th>\n",
       "    </tr>\n",
       "    <tr>\n",
       "      <th>ID</th>\n",
       "      <th></th>\n",
       "      <th></th>\n",
       "      <th></th>\n",
       "      <th></th>\n",
       "      <th></th>\n",
       "      <th></th>\n",
       "      <th></th>\n",
       "      <th></th>\n",
       "      <th></th>\n",
       "      <th></th>\n",
       "      <th></th>\n",
       "      <th></th>\n",
       "      <th></th>\n",
       "      <th></th>\n",
       "      <th></th>\n",
       "      <th></th>\n",
       "      <th></th>\n",
       "      <th></th>\n",
       "      <th></th>\n",
       "      <th></th>\n",
       "      <th></th>\n",
       "    </tr>\n",
       "  </thead>\n",
       "  <tbody>\n",
       "    <tr>\n",
       "      <th>tour_1012</th>\n",
       "      <td>BRAZIL</td>\n",
       "      <td>25-44</td>\n",
       "      <td>Spouse</td>\n",
       "      <td>1.0</td>\n",
       "      <td>1.0</td>\n",
       "      <td>Leisure and Holidays</td>\n",
       "      <td>Wildlife tourism</td>\n",
       "      <td>Radio, TV, Web</td>\n",
       "      <td>Independent</td>\n",
       "      <td>No</td>\n",
       "      <td>...</td>\n",
       "      <td>No</td>\n",
       "      <td>No</td>\n",
       "      <td>No</td>\n",
       "      <td>17</td>\n",
       "      <td>3</td>\n",
       "      <td>Cash</td>\n",
       "      <td>Yes</td>\n",
       "      <td>Wonderful Country, Landscape, Nature</td>\n",
       "      <td>1117155.0</td>\n",
       "      <td>South America</td>\n",
       "    </tr>\n",
       "    <tr>\n",
       "      <th>tour_1287</th>\n",
       "      <td>BRAZIL</td>\n",
       "      <td>45-64</td>\n",
       "      <td>Children</td>\n",
       "      <td>2.0</td>\n",
       "      <td>0.0</td>\n",
       "      <td>Leisure and Holidays</td>\n",
       "      <td>Wildlife tourism</td>\n",
       "      <td>Travel, agent, tour operator</td>\n",
       "      <td>Package Tour</td>\n",
       "      <td>Yes</td>\n",
       "      <td>...</td>\n",
       "      <td>Yes</td>\n",
       "      <td>Yes</td>\n",
       "      <td>No</td>\n",
       "      <td>4</td>\n",
       "      <td>5</td>\n",
       "      <td>Credit Card</td>\n",
       "      <td>Yes</td>\n",
       "      <td>Excellent Experience</td>\n",
       "      <td>27231960.0</td>\n",
       "      <td>South America</td>\n",
       "    </tr>\n",
       "    <tr>\n",
       "      <th>tour_1788</th>\n",
       "      <td>COLOMBIA</td>\n",
       "      <td>25-44</td>\n",
       "      <td>Alone</td>\n",
       "      <td>1.0</td>\n",
       "      <td>0.0</td>\n",
       "      <td>Leisure and Holidays</td>\n",
       "      <td>Wildlife tourism</td>\n",
       "      <td>Travel, agent, tour operator</td>\n",
       "      <td>Package Tour</td>\n",
       "      <td>Yes</td>\n",
       "      <td>...</td>\n",
       "      <td>No</td>\n",
       "      <td>No</td>\n",
       "      <td>No</td>\n",
       "      <td>4</td>\n",
       "      <td>0</td>\n",
       "      <td>Cash</td>\n",
       "      <td>No</td>\n",
       "      <td>No comments</td>\n",
       "      <td>5304000.0</td>\n",
       "      <td>South America</td>\n",
       "    </tr>\n",
       "    <tr>\n",
       "      <th>tour_1996</th>\n",
       "      <td>COLOMBIA</td>\n",
       "      <td>2024-01-01 00:00:00</td>\n",
       "      <td>Alone</td>\n",
       "      <td>1.0</td>\n",
       "      <td>0.0</td>\n",
       "      <td>Leisure and Holidays</td>\n",
       "      <td>Wildlife tourism</td>\n",
       "      <td>inflight magazines</td>\n",
       "      <td>Package Tour</td>\n",
       "      <td>No</td>\n",
       "      <td>...</td>\n",
       "      <td>Yes</td>\n",
       "      <td>Yes</td>\n",
       "      <td>Yes</td>\n",
       "      <td>4</td>\n",
       "      <td>0</td>\n",
       "      <td>Cash</td>\n",
       "      <td>Yes</td>\n",
       "      <td>Friendly People</td>\n",
       "      <td>15580500.0</td>\n",
       "      <td>South America</td>\n",
       "    </tr>\n",
       "    <tr>\n",
       "      <th>tour_2042</th>\n",
       "      <td>TRINIDAD TOBACCO</td>\n",
       "      <td>25-44</td>\n",
       "      <td>Spouse</td>\n",
       "      <td>1.0</td>\n",
       "      <td>1.0</td>\n",
       "      <td>Business</td>\n",
       "      <td>Wildlife tourism</td>\n",
       "      <td>others</td>\n",
       "      <td>Independent</td>\n",
       "      <td>No</td>\n",
       "      <td>...</td>\n",
       "      <td>No</td>\n",
       "      <td>No</td>\n",
       "      <td>No</td>\n",
       "      <td>20</td>\n",
       "      <td>0</td>\n",
       "      <td>Credit Card</td>\n",
       "      <td>No</td>\n",
       "      <td>No comments</td>\n",
       "      <td>1657500.0</td>\n",
       "      <td>South America</td>\n",
       "    </tr>\n",
       "    <tr>\n",
       "      <th>tour_2239</th>\n",
       "      <td>BRAZIL</td>\n",
       "      <td>25-44</td>\n",
       "      <td>Friends/Relatives</td>\n",
       "      <td>1.0</td>\n",
       "      <td>1.0</td>\n",
       "      <td>Business</td>\n",
       "      <td>Wildlife tourism</td>\n",
       "      <td>others</td>\n",
       "      <td>Independent</td>\n",
       "      <td>No</td>\n",
       "      <td>...</td>\n",
       "      <td>No</td>\n",
       "      <td>No</td>\n",
       "      <td>No</td>\n",
       "      <td>10</td>\n",
       "      <td>0</td>\n",
       "      <td>Cash</td>\n",
       "      <td>Yes</td>\n",
       "      <td>Friendly People</td>\n",
       "      <td>4143750.0</td>\n",
       "      <td>South America</td>\n",
       "    </tr>\n",
       "    <tr>\n",
       "      <th>tour_2816</th>\n",
       "      <td>BRAZIL</td>\n",
       "      <td>25-44</td>\n",
       "      <td>Friends/Relatives</td>\n",
       "      <td>2.0</td>\n",
       "      <td>0.0</td>\n",
       "      <td>Meetings and Conference</td>\n",
       "      <td>Mountain climbing</td>\n",
       "      <td>Friends, relatives</td>\n",
       "      <td>Package Tour</td>\n",
       "      <td>No</td>\n",
       "      <td>...</td>\n",
       "      <td>Yes</td>\n",
       "      <td>Yes</td>\n",
       "      <td>No</td>\n",
       "      <td>1</td>\n",
       "      <td>0</td>\n",
       "      <td>Cash</td>\n",
       "      <td>Yes</td>\n",
       "      <td>No comments</td>\n",
       "      <td>4309500.0</td>\n",
       "      <td>South America</td>\n",
       "    </tr>\n",
       "    <tr>\n",
       "      <th>tour_3323</th>\n",
       "      <td>CHILE</td>\n",
       "      <td>25-44</td>\n",
       "      <td>Friends/Relatives</td>\n",
       "      <td>1.0</td>\n",
       "      <td>1.0</td>\n",
       "      <td>Leisure and Holidays</td>\n",
       "      <td>Wildlife tourism</td>\n",
       "      <td>Friends, relatives</td>\n",
       "      <td>Independent</td>\n",
       "      <td>No</td>\n",
       "      <td>...</td>\n",
       "      <td>No</td>\n",
       "      <td>No</td>\n",
       "      <td>No</td>\n",
       "      <td>0</td>\n",
       "      <td>0</td>\n",
       "      <td>Cash</td>\n",
       "      <td>Yes</td>\n",
       "      <td>Wonderful Country, Landscape, Nature</td>\n",
       "      <td>3315000.0</td>\n",
       "      <td>South America</td>\n",
       "    </tr>\n",
       "    <tr>\n",
       "      <th>tour_4170</th>\n",
       "      <td>BRAZIL</td>\n",
       "      <td>25-44</td>\n",
       "      <td>Alone</td>\n",
       "      <td>0.0</td>\n",
       "      <td>1.0</td>\n",
       "      <td>Leisure and Holidays</td>\n",
       "      <td>Wildlife tourism</td>\n",
       "      <td>others</td>\n",
       "      <td>Package Tour</td>\n",
       "      <td>No</td>\n",
       "      <td>...</td>\n",
       "      <td>No</td>\n",
       "      <td>No</td>\n",
       "      <td>No</td>\n",
       "      <td>7</td>\n",
       "      <td>4</td>\n",
       "      <td>Cash</td>\n",
       "      <td>Yes</td>\n",
       "      <td>Wildlife</td>\n",
       "      <td>4395690.0</td>\n",
       "      <td>South America</td>\n",
       "    </tr>\n",
       "    <tr>\n",
       "      <th>tour_4615</th>\n",
       "      <td>BRAZIL</td>\n",
       "      <td>45-64</td>\n",
       "      <td>Alone</td>\n",
       "      <td>1.0</td>\n",
       "      <td>0.0</td>\n",
       "      <td>Leisure and Holidays</td>\n",
       "      <td>Wildlife tourism</td>\n",
       "      <td>Travel, agent, tour operator</td>\n",
       "      <td>Package Tour</td>\n",
       "      <td>Yes</td>\n",
       "      <td>...</td>\n",
       "      <td>Yes</td>\n",
       "      <td>Yes</td>\n",
       "      <td>Yes</td>\n",
       "      <td>5</td>\n",
       "      <td>0</td>\n",
       "      <td>Cash</td>\n",
       "      <td>Yes</td>\n",
       "      <td>Excellent Experience</td>\n",
       "      <td>6845475.0</td>\n",
       "      <td>South America</td>\n",
       "    </tr>\n",
       "    <tr>\n",
       "      <th>tour_4733</th>\n",
       "      <td>COLOMBIA</td>\n",
       "      <td>25-44</td>\n",
       "      <td>Friends/Relatives</td>\n",
       "      <td>3.0</td>\n",
       "      <td>2.0</td>\n",
       "      <td>Leisure and Holidays</td>\n",
       "      <td>Beach tourism</td>\n",
       "      <td>Travel, agent, tour operator</td>\n",
       "      <td>Package Tour</td>\n",
       "      <td>Yes</td>\n",
       "      <td>...</td>\n",
       "      <td>Yes</td>\n",
       "      <td>Yes</td>\n",
       "      <td>Yes</td>\n",
       "      <td>7</td>\n",
       "      <td>4</td>\n",
       "      <td>Cash</td>\n",
       "      <td>Yes</td>\n",
       "      <td>Wildlife</td>\n",
       "      <td>19061250.0</td>\n",
       "      <td>South America</td>\n",
       "    </tr>\n",
       "    <tr>\n",
       "      <th>tour_4882</th>\n",
       "      <td>BRAZIL</td>\n",
       "      <td>45-64</td>\n",
       "      <td>Spouse</td>\n",
       "      <td>1.0</td>\n",
       "      <td>1.0</td>\n",
       "      <td>Leisure and Holidays</td>\n",
       "      <td>Wildlife tourism</td>\n",
       "      <td>Travel, agent, tour operator</td>\n",
       "      <td>Package Tour</td>\n",
       "      <td>Yes</td>\n",
       "      <td>...</td>\n",
       "      <td>Yes</td>\n",
       "      <td>Yes</td>\n",
       "      <td>Yes</td>\n",
       "      <td>5</td>\n",
       "      <td>0</td>\n",
       "      <td>Credit Card</td>\n",
       "      <td>Yes</td>\n",
       "      <td>Excellent Experience</td>\n",
       "      <td>13260000.0</td>\n",
       "      <td>South America</td>\n",
       "    </tr>\n",
       "    <tr>\n",
       "      <th>tour_5128</th>\n",
       "      <td>ARGENTINA</td>\n",
       "      <td>45-64</td>\n",
       "      <td>Spouse</td>\n",
       "      <td>1.0</td>\n",
       "      <td>1.0</td>\n",
       "      <td>Leisure and Holidays</td>\n",
       "      <td>Wildlife tourism</td>\n",
       "      <td>Travel, agent, tour operator</td>\n",
       "      <td>Package Tour</td>\n",
       "      <td>Yes</td>\n",
       "      <td>...</td>\n",
       "      <td>Yes</td>\n",
       "      <td>Yes</td>\n",
       "      <td>No</td>\n",
       "      <td>6</td>\n",
       "      <td>3</td>\n",
       "      <td>Credit Card</td>\n",
       "      <td>Yes</td>\n",
       "      <td>Wonderful Country, Landscape, Nature</td>\n",
       "      <td>10442250.0</td>\n",
       "      <td>South America</td>\n",
       "    </tr>\n",
       "    <tr>\n",
       "      <th>tour_5468</th>\n",
       "      <td>URUGUAY</td>\n",
       "      <td>25-44</td>\n",
       "      <td>Friends/Relatives</td>\n",
       "      <td>1.0</td>\n",
       "      <td>1.0</td>\n",
       "      <td>Leisure and Holidays</td>\n",
       "      <td>Beach tourism</td>\n",
       "      <td>Radio, TV, Web</td>\n",
       "      <td>Independent</td>\n",
       "      <td>No</td>\n",
       "      <td>...</td>\n",
       "      <td>No</td>\n",
       "      <td>No</td>\n",
       "      <td>No</td>\n",
       "      <td>0</td>\n",
       "      <td>10</td>\n",
       "      <td>Cash</td>\n",
       "      <td>Yes</td>\n",
       "      <td>Wonderful Country, Landscape, Nature</td>\n",
       "      <td>165750.0</td>\n",
       "      <td>South America</td>\n",
       "    </tr>\n",
       "    <tr>\n",
       "      <th>tour_5681</th>\n",
       "      <td>BRAZIL</td>\n",
       "      <td>25-44</td>\n",
       "      <td>Alone</td>\n",
       "      <td>1.0</td>\n",
       "      <td>0.0</td>\n",
       "      <td>Leisure and Holidays</td>\n",
       "      <td>Cultural tourism</td>\n",
       "      <td>Friends, relatives</td>\n",
       "      <td>Independent</td>\n",
       "      <td>No</td>\n",
       "      <td>...</td>\n",
       "      <td>No</td>\n",
       "      <td>No</td>\n",
       "      <td>No</td>\n",
       "      <td>45</td>\n",
       "      <td>6</td>\n",
       "      <td>Credit Card</td>\n",
       "      <td>Yes</td>\n",
       "      <td>Wonderful Country, Landscape, Nature</td>\n",
       "      <td>5071950.0</td>\n",
       "      <td>South America</td>\n",
       "    </tr>\n",
       "    <tr>\n",
       "      <th>tour_5875</th>\n",
       "      <td>BRAZIL</td>\n",
       "      <td>2024-01-01 00:00:00</td>\n",
       "      <td>Alone</td>\n",
       "      <td>1.0</td>\n",
       "      <td>0.0</td>\n",
       "      <td>Leisure and Holidays</td>\n",
       "      <td>Conference tourism</td>\n",
       "      <td>Travel, agent, tour operator</td>\n",
       "      <td>Package Tour</td>\n",
       "      <td>Yes</td>\n",
       "      <td>...</td>\n",
       "      <td>Yes</td>\n",
       "      <td>Yes</td>\n",
       "      <td>No</td>\n",
       "      <td>10</td>\n",
       "      <td>4</td>\n",
       "      <td>Cash</td>\n",
       "      <td>Yes</td>\n",
       "      <td>Wonderful Country, Landscape, Nature</td>\n",
       "      <td>6298500.0</td>\n",
       "      <td>South America</td>\n",
       "    </tr>\n",
       "    <tr>\n",
       "      <th>tour_5898</th>\n",
       "      <td>BRAZIL</td>\n",
       "      <td>25-44</td>\n",
       "      <td>Alone</td>\n",
       "      <td>1.0</td>\n",
       "      <td>0.0</td>\n",
       "      <td>Leisure and Holidays</td>\n",
       "      <td>Beach tourism</td>\n",
       "      <td>Travel, agent, tour operator</td>\n",
       "      <td>Package Tour</td>\n",
       "      <td>No</td>\n",
       "      <td>...</td>\n",
       "      <td>Yes</td>\n",
       "      <td>Yes</td>\n",
       "      <td>No</td>\n",
       "      <td>7</td>\n",
       "      <td>3</td>\n",
       "      <td>Cash</td>\n",
       "      <td>Yes</td>\n",
       "      <td>Wildlife</td>\n",
       "      <td>5469750.0</td>\n",
       "      <td>South America</td>\n",
       "    </tr>\n",
       "    <tr>\n",
       "      <th>tour_6108</th>\n",
       "      <td>CHILE</td>\n",
       "      <td>25-44</td>\n",
       "      <td>Alone</td>\n",
       "      <td>0.0</td>\n",
       "      <td>1.0</td>\n",
       "      <td>Leisure and Holidays</td>\n",
       "      <td>Wildlife tourism</td>\n",
       "      <td>Travel, agent, tour operator</td>\n",
       "      <td>Package Tour</td>\n",
       "      <td>No</td>\n",
       "      <td>...</td>\n",
       "      <td>Yes</td>\n",
       "      <td>Yes</td>\n",
       "      <td>No</td>\n",
       "      <td>13</td>\n",
       "      <td>0</td>\n",
       "      <td>Cash</td>\n",
       "      <td>Yes</td>\n",
       "      <td>Friendly People</td>\n",
       "      <td>574750.0</td>\n",
       "      <td>South America</td>\n",
       "    </tr>\n",
       "  </tbody>\n",
       "</table>\n",
       "<p>18 rows × 23 columns</p>\n",
       "</div>"
      ],
      "text/plain": [
       "                    country            age_group        travel_with  \\\n",
       "ID                                                                    \n",
       "tour_1012            BRAZIL                25-44             Spouse   \n",
       "tour_1287            BRAZIL                45-64           Children   \n",
       "tour_1788          COLOMBIA                25-44              Alone   \n",
       "tour_1996          COLOMBIA  2024-01-01 00:00:00              Alone   \n",
       "tour_2042  TRINIDAD TOBACCO                25-44             Spouse   \n",
       "tour_2239            BRAZIL                25-44  Friends/Relatives   \n",
       "tour_2816            BRAZIL                25-44  Friends/Relatives   \n",
       "tour_3323             CHILE                25-44  Friends/Relatives   \n",
       "tour_4170            BRAZIL                25-44              Alone   \n",
       "tour_4615            BRAZIL                45-64              Alone   \n",
       "tour_4733          COLOMBIA                25-44  Friends/Relatives   \n",
       "tour_4882            BRAZIL                45-64             Spouse   \n",
       "tour_5128         ARGENTINA                45-64             Spouse   \n",
       "tour_5468           URUGUAY                25-44  Friends/Relatives   \n",
       "tour_5681            BRAZIL                25-44              Alone   \n",
       "tour_5875            BRAZIL  2024-01-01 00:00:00              Alone   \n",
       "tour_5898            BRAZIL                25-44              Alone   \n",
       "tour_6108             CHILE                25-44              Alone   \n",
       "\n",
       "           total_female  total_male                  purpose  \\\n",
       "ID                                                             \n",
       "tour_1012           1.0         1.0     Leisure and Holidays   \n",
       "tour_1287           2.0         0.0     Leisure and Holidays   \n",
       "tour_1788           1.0         0.0     Leisure and Holidays   \n",
       "tour_1996           1.0         0.0     Leisure and Holidays   \n",
       "tour_2042           1.0         1.0                 Business   \n",
       "tour_2239           1.0         1.0                 Business   \n",
       "tour_2816           2.0         0.0  Meetings and Conference   \n",
       "tour_3323           1.0         1.0     Leisure and Holidays   \n",
       "tour_4170           0.0         1.0     Leisure and Holidays   \n",
       "tour_4615           1.0         0.0     Leisure and Holidays   \n",
       "tour_4733           3.0         2.0     Leisure and Holidays   \n",
       "tour_4882           1.0         1.0     Leisure and Holidays   \n",
       "tour_5128           1.0         1.0     Leisure and Holidays   \n",
       "tour_5468           1.0         1.0     Leisure and Holidays   \n",
       "tour_5681           1.0         0.0     Leisure and Holidays   \n",
       "tour_5875           1.0         0.0     Leisure and Holidays   \n",
       "tour_5898           1.0         0.0     Leisure and Holidays   \n",
       "tour_6108           0.0         1.0     Leisure and Holidays   \n",
       "\n",
       "                main_activity                   info_source tour_arrangement  \\\n",
       "ID                                                                             \n",
       "tour_1012    Wildlife tourism                Radio, TV, Web      Independent   \n",
       "tour_1287    Wildlife tourism  Travel, agent, tour operator     Package Tour   \n",
       "tour_1788    Wildlife tourism  Travel, agent, tour operator     Package Tour   \n",
       "tour_1996    Wildlife tourism            inflight magazines     Package Tour   \n",
       "tour_2042    Wildlife tourism                        others      Independent   \n",
       "tour_2239    Wildlife tourism                        others      Independent   \n",
       "tour_2816   Mountain climbing            Friends, relatives     Package Tour   \n",
       "tour_3323    Wildlife tourism            Friends, relatives      Independent   \n",
       "tour_4170    Wildlife tourism                        others     Package Tour   \n",
       "tour_4615    Wildlife tourism  Travel, agent, tour operator     Package Tour   \n",
       "tour_4733       Beach tourism  Travel, agent, tour operator     Package Tour   \n",
       "tour_4882    Wildlife tourism  Travel, agent, tour operator     Package Tour   \n",
       "tour_5128    Wildlife tourism  Travel, agent, tour operator     Package Tour   \n",
       "tour_5468       Beach tourism                Radio, TV, Web      Independent   \n",
       "tour_5681    Cultural tourism            Friends, relatives      Independent   \n",
       "tour_5875  Conference tourism  Travel, agent, tour operator     Package Tour   \n",
       "tour_5898       Beach tourism  Travel, agent, tour operator     Package Tour   \n",
       "tour_6108    Wildlife tourism  Travel, agent, tour operator     Package Tour   \n",
       "\n",
       "          package_transport_int  ... package_sightseeing package_guided_tour  \\\n",
       "ID                               ...                                           \n",
       "tour_1012                    No  ...                  No                  No   \n",
       "tour_1287                   Yes  ...                 Yes                 Yes   \n",
       "tour_1788                   Yes  ...                  No                  No   \n",
       "tour_1996                    No  ...                 Yes                 Yes   \n",
       "tour_2042                    No  ...                  No                  No   \n",
       "tour_2239                    No  ...                  No                  No   \n",
       "tour_2816                    No  ...                 Yes                 Yes   \n",
       "tour_3323                    No  ...                  No                  No   \n",
       "tour_4170                    No  ...                  No                  No   \n",
       "tour_4615                   Yes  ...                 Yes                 Yes   \n",
       "tour_4733                   Yes  ...                 Yes                 Yes   \n",
       "tour_4882                   Yes  ...                 Yes                 Yes   \n",
       "tour_5128                   Yes  ...                 Yes                 Yes   \n",
       "tour_5468                    No  ...                  No                  No   \n",
       "tour_5681                    No  ...                  No                  No   \n",
       "tour_5875                   Yes  ...                 Yes                 Yes   \n",
       "tour_5898                    No  ...                 Yes                 Yes   \n",
       "tour_6108                    No  ...                 Yes                 Yes   \n",
       "\n",
       "          package_insurance night_mainland night_zanzibar payment_mode  \\\n",
       "ID                                                                       \n",
       "tour_1012                No             17              3         Cash   \n",
       "tour_1287                No              4              5  Credit Card   \n",
       "tour_1788                No              4              0         Cash   \n",
       "tour_1996               Yes              4              0         Cash   \n",
       "tour_2042                No             20              0  Credit Card   \n",
       "tour_2239                No             10              0         Cash   \n",
       "tour_2816                No              1              0         Cash   \n",
       "tour_3323                No              0              0         Cash   \n",
       "tour_4170                No              7              4         Cash   \n",
       "tour_4615               Yes              5              0         Cash   \n",
       "tour_4733               Yes              7              4         Cash   \n",
       "tour_4882               Yes              5              0  Credit Card   \n",
       "tour_5128                No              6              3  Credit Card   \n",
       "tour_5468                No              0             10         Cash   \n",
       "tour_5681                No             45              6  Credit Card   \n",
       "tour_5875                No             10              4         Cash   \n",
       "tour_5898                No              7              3         Cash   \n",
       "tour_6108                No             13              0         Cash   \n",
       "\n",
       "           first_trip_tz                       most_impressing  total_cost  \\\n",
       "ID                                                                           \n",
       "tour_1012            Yes  Wonderful Country, Landscape, Nature   1117155.0   \n",
       "tour_1287            Yes                  Excellent Experience  27231960.0   \n",
       "tour_1788             No                           No comments   5304000.0   \n",
       "tour_1996            Yes                       Friendly People  15580500.0   \n",
       "tour_2042             No                           No comments   1657500.0   \n",
       "tour_2239            Yes                       Friendly People   4143750.0   \n",
       "tour_2816            Yes                           No comments   4309500.0   \n",
       "tour_3323            Yes  Wonderful Country, Landscape, Nature   3315000.0   \n",
       "tour_4170            Yes                              Wildlife   4395690.0   \n",
       "tour_4615            Yes                  Excellent Experience   6845475.0   \n",
       "tour_4733            Yes                              Wildlife  19061250.0   \n",
       "tour_4882            Yes                  Excellent Experience  13260000.0   \n",
       "tour_5128            Yes  Wonderful Country, Landscape, Nature  10442250.0   \n",
       "tour_5468            Yes  Wonderful Country, Landscape, Nature    165750.0   \n",
       "tour_5681            Yes  Wonderful Country, Landscape, Nature   5071950.0   \n",
       "tour_5875            Yes  Wonderful Country, Landscape, Nature   6298500.0   \n",
       "tour_5898            Yes                              Wildlife   5469750.0   \n",
       "tour_6108            Yes                       Friendly People    574750.0   \n",
       "\n",
       "               upcountry  \n",
       "ID                        \n",
       "tour_1012  South America  \n",
       "tour_1287  South America  \n",
       "tour_1788  South America  \n",
       "tour_1996  South America  \n",
       "tour_2042  South America  \n",
       "tour_2239  South America  \n",
       "tour_2816  South America  \n",
       "tour_3323  South America  \n",
       "tour_4170  South America  \n",
       "tour_4615  South America  \n",
       "tour_4733  South America  \n",
       "tour_4882  South America  \n",
       "tour_5128  South America  \n",
       "tour_5468  South America  \n",
       "tour_5681  South America  \n",
       "tour_5875  South America  \n",
       "tour_5898  South America  \n",
       "tour_6108  South America  \n",
       "\n",
       "[18 rows x 23 columns]"
      ]
     },
     "execution_count": 1563,
     "metadata": {},
     "output_type": "execute_result"
    }
   ],
   "source": [
    "s_america"
   ]
  },
  {
   "cell_type": "code",
   "execution_count": 1564,
   "id": "e0b323d8-e9f2-4bd5-9303-f158863abc58",
   "metadata": {},
   "outputs": [
    {
     "data": {
      "text/plain": [
       "UNITED STATES OF AMERICA    695\n",
       "UNITED KINGDOM              533\n",
       "ITALY                       393\n",
       "FRANCE                      280\n",
       "ZIMBABWE                    274\n",
       "                           ... \n",
       "NIGER                         1\n",
       "MYANMAR                       1\n",
       "DOMINICA                      1\n",
       "TUNISIA                       1\n",
       "ESTONIA                       1\n",
       "Name: country, Length: 105, dtype: int64"
      ]
     },
     "execution_count": 1564,
     "metadata": {},
     "output_type": "execute_result"
    }
   ],
   "source": [
    "df['country'].value_counts()"
   ]
  },
  {
   "cell_type": "markdown",
   "id": "9e805be6-1666-4fab-a11c-53c01aff341f",
   "metadata": {},
   "source": [
    "## Central America"
   ]
  },
  {
   "cell_type": "code",
   "execution_count": 1565,
   "id": "2a915db7-2c44-4cc4-a562-dc5ed6d4cc1d",
   "metadata": {},
   "outputs": [],
   "source": [
    "driver.get(\"https://www.worldometers.info/population/latin-america-and-the-caribbean/central-america/\")   \n",
    "time.sleep(15)"
   ]
  },
  {
   "cell_type": "code",
   "execution_count": 1566,
   "id": "009a7844-b4c0-4585-a4f0-5240733fa823",
   "metadata": {},
   "outputs": [
    {
     "name": "stderr",
     "output_type": "stream",
     "text": [
      "C:\\Users\\KOFI ADUKPO\\AppData\\Local\\Temp\\ipykernel_4848\\347343155.py:1: DeprecationWarning: find_element_by_xpath is deprecated. Please use find_element(by=By.XPATH, value=xpath) instead\n",
      "  i = driver.find_element_by_xpath(\"(//div)[17]\")\n"
     ]
    }
   ],
   "source": [
    "i = driver.find_element_by_xpath(\"(//div)[17]\")"
   ]
  },
  {
   "cell_type": "code",
   "execution_count": null,
   "id": "24379f9b-9c1a-4c49-a2cf-de8bbf256717",
   "metadata": {},
   "outputs": [],
   "source": []
  },
  {
   "cell_type": "code",
   "execution_count": 1567,
   "id": "5fddf8cf-e454-4b1b-bb83-b0d52e847259",
   "metadata": {},
   "outputs": [],
   "source": [
    "text = i.text\n",
    "#(//tbody)[1]"
   ]
  },
  {
   "cell_type": "code",
   "execution_count": 1568,
   "id": "2f90e038-321e-45c2-82f8-4ae3e2f12647",
   "metadata": {},
   "outputs": [
    {
     "data": {
      "text/plain": [
       "str"
      ]
     },
     "execution_count": 1568,
     "metadata": {},
     "output_type": "execute_result"
    }
   ],
   "source": [
    "type(text)"
   ]
  },
  {
   "cell_type": "code",
   "execution_count": 1569,
   "id": "1a660198-43bf-4e97-9211-15af55e12fb8",
   "metadata": {},
   "outputs": [],
   "source": [
    "rep = text.replace(\"\\n\", \". \")"
   ]
  },
  {
   "cell_type": "code",
   "execution_count": 1570,
   "id": "4ba03388-1722-46b4-96bb-245cdf0a6a9a",
   "metadata": {},
   "outputs": [],
   "source": [
    "import re\n",
    "expression = re.compile(r'([A-Z][^\\.!?]*[\\.!?])')\n",
    "new_list = re.findall(expression, rep)"
   ]
  },
  {
   "cell_type": "code",
   "execution_count": 1571,
   "id": "0cbac963-b2ef-42b1-9a13-b79e4f5cf3ef",
   "metadata": {},
   "outputs": [
    {
     "data": {
      "text/plain": [
       "['Countries in Central America:.',\n",
       " 'Mexico.',\n",
       " 'Guatemala.',\n",
       " 'Honduras.',\n",
       " 'Nicaragua.',\n",
       " 'El Salvador.',\n",
       " 'Costa Rica.',\n",
       " 'Panama.']"
      ]
     },
     "execution_count": 1571,
     "metadata": {},
     "output_type": "execute_result"
    }
   ],
   "source": [
    "new_list"
   ]
  },
  {
   "cell_type": "code",
   "execution_count": null,
   "id": "7d3b29ac-9fee-4f6c-bc2a-e08ff79ad5ae",
   "metadata": {},
   "outputs": [],
   "source": []
  },
  {
   "cell_type": "code",
   "execution_count": 1572,
   "id": "6537c496-4b18-4693-91a6-ee2851ba8784",
   "metadata": {},
   "outputs": [],
   "source": [
    "converted_list = [x.upper() for x in new_list]"
   ]
  },
  {
   "cell_type": "code",
   "execution_count": 1573,
   "id": "711a23eb-af87-4582-8004-00e60219fdf7",
   "metadata": {},
   "outputs": [
    {
     "data": {
      "text/plain": [
       "['COUNTRIES IN CENTRAL AMERICA:.',\n",
       " 'MEXICO.',\n",
       " 'GUATEMALA.',\n",
       " 'HONDURAS.',\n",
       " 'NICARAGUA.',\n",
       " 'EL SALVADOR.',\n",
       " 'COSTA RICA.',\n",
       " 'PANAMA.']"
      ]
     },
     "execution_count": 1573,
     "metadata": {},
     "output_type": "execute_result"
    }
   ],
   "source": [
    "converted_list"
   ]
  },
  {
   "cell_type": "code",
   "execution_count": null,
   "id": "ac07ee7e-6b2d-4e7d-b66f-14f46d025b90",
   "metadata": {},
   "outputs": [],
   "source": []
  },
  {
   "cell_type": "code",
   "execution_count": 1574,
   "id": "4447c0ba-8ad6-474f-820e-b6853547d2cc",
   "metadata": {},
   "outputs": [],
   "source": [
    "co = str(converted_list)"
   ]
  },
  {
   "cell_type": "code",
   "execution_count": 1575,
   "id": "5a44eae0-7b8f-464d-ad9c-12a4c28384ef",
   "metadata": {},
   "outputs": [],
   "source": [
    "from itertools import chain"
   ]
  },
  {
   "cell_type": "code",
   "execution_count": 1576,
   "id": "cc9cab76-0609-41e4-bd57-bccac49dfad5",
   "metadata": {},
   "outputs": [],
   "source": [
    "coming = ' '.join(str(v) for v in converted_list)"
   ]
  },
  {
   "cell_type": "code",
   "execution_count": 1577,
   "id": "6b4c7d32-823b-439e-b279-14db4128dd22",
   "metadata": {},
   "outputs": [
    {
     "data": {
      "text/plain": [
       "'COUNTRIES IN CENTRAL AMERICA:. MEXICO. GUATEMALA. HONDURAS. NICARAGUA. EL SALVADOR. COSTA RICA. PANAMA.'"
      ]
     },
     "execution_count": 1577,
     "metadata": {},
     "output_type": "execute_result"
    }
   ],
   "source": [
    "coming"
   ]
  },
  {
   "cell_type": "code",
   "execution_count": 1578,
   "id": "a9e4cd3d-ce3c-4cf8-8050-99da3e0897ac",
   "metadata": {},
   "outputs": [],
   "source": [
    "come = coming.replace(\".\", \"\")\n",
    "com = come.replace(\"REPUBLIC\", \"\")\n",
    "come= com.replace(\"OF\", \"\")\n"
   ]
  },
  {
   "cell_type": "code",
   "execution_count": 1579,
   "id": "dc4b4231-8edc-4a6d-92be-73fa4865c21d",
   "metadata": {},
   "outputs": [
    {
     "data": {
      "text/plain": [
       "'COUNTRIES IN CENTRAL AMERICA: MEXICO GUATEMALA HONDURAS NICARAGUA EL SALVADOR COSTA RICA PANAMA'"
      ]
     },
     "execution_count": 1579,
     "metadata": {},
     "output_type": "execute_result"
    }
   ],
   "source": [
    "come"
   ]
  },
  {
   "cell_type": "code",
   "execution_count": 1580,
   "id": "5c9baa29-ac7a-41f2-b19b-badc5bb73369",
   "metadata": {},
   "outputs": [],
   "source": [
    "# i need to get the intersection of countries"
   ]
  },
  {
   "cell_type": "code",
   "execution_count": null,
   "id": "fc104237-586a-46f4-a75b-6c853a2c21d4",
   "metadata": {},
   "outputs": [],
   "source": []
  },
  {
   "cell_type": "code",
   "execution_count": 1581,
   "id": "25ec2070-0224-4e26-95fc-5dd0bc4cbb5f",
   "metadata": {},
   "outputs": [],
   "source": [
    "#movi\n",
    "#come\n",
    "\n",
    "read = set(result.split()) & set(come.split())"
   ]
  },
  {
   "cell_type": "code",
   "execution_count": 1582,
   "id": "5260edbf-0405-4aa4-839e-4580872bb251",
   "metadata": {},
   "outputs": [],
   "source": [
    "readd = list(read)"
   ]
  },
  {
   "cell_type": "code",
   "execution_count": 1583,
   "id": "3fea23b5-6c7e-4217-86cc-ee754f6ff940",
   "metadata": {},
   "outputs": [],
   "source": [
    "readd.append(\"COSTARICA\")"
   ]
  },
  {
   "cell_type": "code",
   "execution_count": 1584,
   "id": "98aaa168-5648-4769-9b7c-a97b1da64706",
   "metadata": {},
   "outputs": [
    {
     "data": {
      "text/plain": [
       "['MEXICO', 'COSTARICA']"
      ]
     },
     "execution_count": 1584,
     "metadata": {},
     "output_type": "execute_result"
    }
   ],
   "source": [
    "readd"
   ]
  },
  {
   "cell_type": "code",
   "execution_count": 1585,
   "id": "45bb5bb7-515d-4fd9-bd55-3ffb352fcf6a",
   "metadata": {},
   "outputs": [],
   "source": [
    "i = len(readd)"
   ]
  },
  {
   "cell_type": "code",
   "execution_count": 1586,
   "id": "4666fc6b-937a-42b0-bada-66ac58a434ac",
   "metadata": {},
   "outputs": [],
   "source": [
    "matches = []\n",
    "\n",
    "for match in list1:\n",
    "    if readd[i-1] in match:\n",
    "        matches.append(match)\n",
    "        i-=1"
   ]
  },
  {
   "cell_type": "code",
   "execution_count": 1587,
   "id": "37bb7c7b-9e17-4914-995d-856f883ef8ba",
   "metadata": {},
   "outputs": [
    {
     "data": {
      "text/plain": [
       "list"
      ]
     },
     "execution_count": 1587,
     "metadata": {},
     "output_type": "execute_result"
    }
   ],
   "source": [
    "type(matches)"
   ]
  },
  {
   "cell_type": "code",
   "execution_count": 1588,
   "id": "c0469142-b68c-4020-b02f-e444f86f799f",
   "metadata": {},
   "outputs": [],
   "source": [
    "i = len(readd)"
   ]
  },
  {
   "cell_type": "code",
   "execution_count": 1589,
   "id": "1a59e771-e4ec-45ac-b60a-b7b113f37be0",
   "metadata": {},
   "outputs": [
    {
     "data": {
      "text/plain": [
       "2"
      ]
     },
     "execution_count": 1589,
     "metadata": {},
     "output_type": "execute_result"
    }
   ],
   "source": [
    "i"
   ]
  },
  {
   "cell_type": "code",
   "execution_count": 1590,
   "id": "3eb7a389-f2dc-4e98-af79-7da4ae2bbd80",
   "metadata": {},
   "outputs": [
    {
     "data": {
      "text/plain": [
       "'COSTARICA'"
      ]
     },
     "execution_count": 1590,
     "metadata": {},
     "output_type": "execute_result"
    }
   ],
   "source": [
    "readd[i-1]"
   ]
  },
  {
   "cell_type": "code",
   "execution_count": 1591,
   "id": "31e8428a-77d5-4070-a792-d9cf366d88bf",
   "metadata": {},
   "outputs": [
    {
     "data": {
      "text/plain": [
       "pandas.core.frame.DataFrame"
      ]
     },
     "execution_count": 1591,
     "metadata": {},
     "output_type": "execute_result"
    }
   ],
   "source": [
    "type(df)"
   ]
  },
  {
   "cell_type": "code",
   "execution_count": 1592,
   "id": "32aa9f58-05fa-4f49-bd63-4960155312bf",
   "metadata": {},
   "outputs": [],
   "source": [
    "df.upcountry.replace(readd, 'Central America', inplace=True)"
   ]
  },
  {
   "cell_type": "code",
   "execution_count": 1593,
   "id": "cf7efa11-92d9-4dcf-bc93-855ea79e6182",
   "metadata": {},
   "outputs": [],
   "source": [
    "c_america = df[df['upcountry'] == 'Central America' ]\n",
    "#i=df[df[‘Name’]==’Will’]\n",
    "#print(i)"
   ]
  },
  {
   "cell_type": "code",
   "execution_count": 1594,
   "id": "d0c6407a-1f20-4bf7-979b-b595b733f272",
   "metadata": {
    "tags": []
   },
   "outputs": [
    {
     "data": {
      "text/html": [
       "<div>\n",
       "<style scoped>\n",
       "    .dataframe tbody tr th:only-of-type {\n",
       "        vertical-align: middle;\n",
       "    }\n",
       "\n",
       "    .dataframe tbody tr th {\n",
       "        vertical-align: top;\n",
       "    }\n",
       "\n",
       "    .dataframe thead th {\n",
       "        text-align: right;\n",
       "    }\n",
       "</style>\n",
       "<table border=\"1\" class=\"dataframe\">\n",
       "  <thead>\n",
       "    <tr style=\"text-align: right;\">\n",
       "      <th></th>\n",
       "      <th>country</th>\n",
       "      <th>age_group</th>\n",
       "      <th>travel_with</th>\n",
       "      <th>total_female</th>\n",
       "      <th>total_male</th>\n",
       "      <th>purpose</th>\n",
       "      <th>main_activity</th>\n",
       "      <th>info_source</th>\n",
       "      <th>tour_arrangement</th>\n",
       "      <th>package_transport_int</th>\n",
       "      <th>...</th>\n",
       "      <th>package_sightseeing</th>\n",
       "      <th>package_guided_tour</th>\n",
       "      <th>package_insurance</th>\n",
       "      <th>night_mainland</th>\n",
       "      <th>night_zanzibar</th>\n",
       "      <th>payment_mode</th>\n",
       "      <th>first_trip_tz</th>\n",
       "      <th>most_impressing</th>\n",
       "      <th>total_cost</th>\n",
       "      <th>upcountry</th>\n",
       "    </tr>\n",
       "    <tr>\n",
       "      <th>ID</th>\n",
       "      <th></th>\n",
       "      <th></th>\n",
       "      <th></th>\n",
       "      <th></th>\n",
       "      <th></th>\n",
       "      <th></th>\n",
       "      <th></th>\n",
       "      <th></th>\n",
       "      <th></th>\n",
       "      <th></th>\n",
       "      <th></th>\n",
       "      <th></th>\n",
       "      <th></th>\n",
       "      <th></th>\n",
       "      <th></th>\n",
       "      <th></th>\n",
       "      <th></th>\n",
       "      <th></th>\n",
       "      <th></th>\n",
       "      <th></th>\n",
       "      <th></th>\n",
       "    </tr>\n",
       "  </thead>\n",
       "  <tbody>\n",
       "    <tr>\n",
       "      <th>tour_3170</th>\n",
       "      <td>COSTARICA</td>\n",
       "      <td>25-44</td>\n",
       "      <td>Alone</td>\n",
       "      <td>1.0</td>\n",
       "      <td>0.0</td>\n",
       "      <td>Leisure and Holidays</td>\n",
       "      <td>Wildlife tourism</td>\n",
       "      <td>Travel, agent, tour operator</td>\n",
       "      <td>Package Tour</td>\n",
       "      <td>Yes</td>\n",
       "      <td>...</td>\n",
       "      <td>Yes</td>\n",
       "      <td>Yes</td>\n",
       "      <td>Yes</td>\n",
       "      <td>4</td>\n",
       "      <td>0</td>\n",
       "      <td>Credit Card</td>\n",
       "      <td>Yes</td>\n",
       "      <td>Friendly People</td>\n",
       "      <td>27183000.0</td>\n",
       "      <td>Central America</td>\n",
       "    </tr>\n",
       "  </tbody>\n",
       "</table>\n",
       "<p>1 rows × 23 columns</p>\n",
       "</div>"
      ],
      "text/plain": [
       "             country age_group travel_with  total_female  total_male  \\\n",
       "ID                                                                     \n",
       "tour_3170  COSTARICA     25-44       Alone           1.0         0.0   \n",
       "\n",
       "                        purpose     main_activity  \\\n",
       "ID                                                  \n",
       "tour_3170  Leisure and Holidays  Wildlife tourism   \n",
       "\n",
       "                            info_source tour_arrangement  \\\n",
       "ID                                                         \n",
       "tour_3170  Travel, agent, tour operator     Package Tour   \n",
       "\n",
       "          package_transport_int  ... package_sightseeing package_guided_tour  \\\n",
       "ID                               ...                                           \n",
       "tour_3170                   Yes  ...                 Yes                 Yes   \n",
       "\n",
       "          package_insurance night_mainland night_zanzibar payment_mode  \\\n",
       "ID                                                                       \n",
       "tour_3170               Yes              4              0  Credit Card   \n",
       "\n",
       "           first_trip_tz  most_impressing  total_cost        upcountry  \n",
       "ID                                                                      \n",
       "tour_3170            Yes  Friendly People  27183000.0  Central America  \n",
       "\n",
       "[1 rows x 23 columns]"
      ]
     },
     "execution_count": 1594,
     "metadata": {},
     "output_type": "execute_result"
    }
   ],
   "source": [
    "c_america"
   ]
  },
  {
   "cell_type": "code",
   "execution_count": 1595,
   "id": "7619cec6-0a50-400b-a6b0-4c79276d60a2",
   "metadata": {},
   "outputs": [],
   "source": [
    "#df['country'] = df['country'].replace('UNITED ARAB EMIRATES','UAE')\n",
    "df.upcountry.replace('UNITED ARAB EMIRATES', 'UAE', inplace=True)"
   ]
  },
  {
   "cell_type": "code",
   "execution_count": 1596,
   "id": "5223e1e8-6334-4137-8bd7-4700536c672f",
   "metadata": {},
   "outputs": [],
   "source": [
    "uae = df[df['upcountry'] == 'UAE' ]\n",
    "#i=df[df[‘Name’]==’Will’]\n",
    "#print(i)"
   ]
  },
  {
   "cell_type": "code",
   "execution_count": 1597,
   "id": "279cdf3a-de80-4429-ab9c-d3567496a0bb",
   "metadata": {},
   "outputs": [],
   "source": [
    "#df['country'] = df['country'].replace('UNITED ARAB EMIRATES','UAE')\n",
    "df.upcountry.replace(['NEW ZEALAND', 'BERMUDA'], 'OTHERS', inplace=True)"
   ]
  },
  {
   "cell_type": "code",
   "execution_count": 1598,
   "id": "1f61c012-622f-4c1a-8f84-e1563d3fd628",
   "metadata": {},
   "outputs": [
    {
     "data": {
      "text/plain": [
       "(4809, 23)"
      ]
     },
     "execution_count": 1598,
     "metadata": {},
     "output_type": "execute_result"
    }
   ],
   "source": [
    "df.shape"
   ]
  },
  {
   "cell_type": "code",
   "execution_count": 1599,
   "id": "3cd97738-48a2-4b09-8a8a-046d393a02a4",
   "metadata": {},
   "outputs": [],
   "source": [
    "df2 = df.copy()"
   ]
  },
  {
   "cell_type": "code",
   "execution_count": 1600,
   "id": "3db3bbb7-a9e0-42f0-9be1-9f587073d7b4",
   "metadata": {},
   "outputs": [
    {
     "data": {
      "text/plain": [
       "(4809, 23)"
      ]
     },
     "execution_count": 1600,
     "metadata": {},
     "output_type": "execute_result"
    }
   ],
   "source": [
    "df2.shape"
   ]
  },
  {
   "cell_type": "code",
   "execution_count": 1783,
   "id": "012966bc-1a24-4402-a895-29dc428a991b",
   "metadata": {},
   "outputs": [],
   "source": [
    "#df = df2.copy()"
   ]
  },
  {
   "cell_type": "code",
   "execution_count": 1784,
   "id": "c8a7c0f1-ce84-45c8-8647-9bd51c923770",
   "metadata": {},
   "outputs": [],
   "source": [
    "df['age'] = df['age_group']\n",
    "#.astype(str)"
   ]
  },
  {
   "cell_type": "code",
   "execution_count": 1785,
   "id": "b01f439f-4fbf-425b-9946-d38376f3d9ef",
   "metadata": {},
   "outputs": [
    {
     "data": {
      "text/plain": [
       "(4809, 24)"
      ]
     },
     "execution_count": 1785,
     "metadata": {},
     "output_type": "execute_result"
    }
   ],
   "source": [
    "df.shape"
   ]
  },
  {
   "cell_type": "code",
   "execution_count": 1786,
   "id": "61088706-fe39-4871-a788-059def8b61cd",
   "metadata": {},
   "outputs": [],
   "source": [
    "df['age'] = df['age_group'].astype(str)"
   ]
  },
  {
   "cell_type": "code",
   "execution_count": 1787,
   "id": "d2d8ae5b-bbb9-4cd5-a2c1-0456eed27259",
   "metadata": {},
   "outputs": [],
   "source": [
    "df.age.replace((df['age'])[4], '01-24', inplace=True)"
   ]
  },
  {
   "cell_type": "code",
   "execution_count": 1788,
   "id": "ea386596-e3fc-4ac7-a514-bc1c1b798673",
   "metadata": {},
   "outputs": [],
   "source": [
    "df['total_people'] = df['total_female']+df['total_female']"
   ]
  },
  {
   "cell_type": "code",
   "execution_count": 1789,
   "id": "51b8c628-8408-4e1d-b7a1-07d759f3d888",
   "metadata": {},
   "outputs": [
    {
     "data": {
      "text/plain": [
       "(4809, 25)"
      ]
     },
     "execution_count": 1789,
     "metadata": {},
     "output_type": "execute_result"
    }
   ],
   "source": [
    "df.shape"
   ]
  },
  {
   "cell_type": "code",
   "execution_count": 1790,
   "id": "982237c9-8d39-41e8-bb08-e8fb6deeee70",
   "metadata": {},
   "outputs": [
    {
     "data": {
      "text/plain": [
       "(4809, 23)"
      ]
     },
     "execution_count": 1790,
     "metadata": {},
     "output_type": "execute_result"
    }
   ],
   "source": [
    "df2.shape"
   ]
  },
  {
   "cell_type": "code",
   "execution_count": 1791,
   "id": "ee5e2c4d-b41e-4051-8f33-c00c9a58e682",
   "metadata": {},
   "outputs": [
    {
     "data": {
      "text/html": [
       "<div>\n",
       "<style scoped>\n",
       "    .dataframe tbody tr th:only-of-type {\n",
       "        vertical-align: middle;\n",
       "    }\n",
       "\n",
       "    .dataframe tbody tr th {\n",
       "        vertical-align: top;\n",
       "    }\n",
       "\n",
       "    .dataframe thead th {\n",
       "        text-align: right;\n",
       "    }\n",
       "</style>\n",
       "<table border=\"1\" class=\"dataframe\">\n",
       "  <thead>\n",
       "    <tr style=\"text-align: right;\">\n",
       "      <th></th>\n",
       "      <th>total_female</th>\n",
       "      <th>total_male</th>\n",
       "      <th>night_mainland</th>\n",
       "      <th>night_zanzibar</th>\n",
       "      <th>total_cost</th>\n",
       "      <th>total_people</th>\n",
       "    </tr>\n",
       "    <tr>\n",
       "      <th>ID</th>\n",
       "      <th></th>\n",
       "      <th></th>\n",
       "      <th></th>\n",
       "      <th></th>\n",
       "      <th></th>\n",
       "      <th></th>\n",
       "    </tr>\n",
       "  </thead>\n",
       "  <tbody>\n",
       "    <tr>\n",
       "      <th>tour_0</th>\n",
       "      <td>1.0</td>\n",
       "      <td>1.0</td>\n",
       "      <td>13</td>\n",
       "      <td>0</td>\n",
       "      <td>674602.5</td>\n",
       "      <td>2.0</td>\n",
       "    </tr>\n",
       "    <tr>\n",
       "      <th>tour_10</th>\n",
       "      <td>1.0</td>\n",
       "      <td>0.0</td>\n",
       "      <td>14</td>\n",
       "      <td>7</td>\n",
       "      <td>3214906.5</td>\n",
       "      <td>2.0</td>\n",
       "    </tr>\n",
       "    <tr>\n",
       "      <th>tour_1000</th>\n",
       "      <td>0.0</td>\n",
       "      <td>1.0</td>\n",
       "      <td>1</td>\n",
       "      <td>31</td>\n",
       "      <td>3315000.0</td>\n",
       "      <td>0.0</td>\n",
       "    </tr>\n",
       "    <tr>\n",
       "      <th>tour_1002</th>\n",
       "      <td>1.0</td>\n",
       "      <td>1.0</td>\n",
       "      <td>11</td>\n",
       "      <td>0</td>\n",
       "      <td>7790250.0</td>\n",
       "      <td>2.0</td>\n",
       "    </tr>\n",
       "    <tr>\n",
       "      <th>tour_1004</th>\n",
       "      <td>1.0</td>\n",
       "      <td>0.0</td>\n",
       "      <td>7</td>\n",
       "      <td>4</td>\n",
       "      <td>1657500.0</td>\n",
       "      <td>2.0</td>\n",
       "    </tr>\n",
       "  </tbody>\n",
       "</table>\n",
       "</div>"
      ],
      "text/plain": [
       "           total_female  total_male  night_mainland  night_zanzibar  \\\n",
       "ID                                                                    \n",
       "tour_0              1.0         1.0              13               0   \n",
       "tour_10             1.0         0.0              14               7   \n",
       "tour_1000           0.0         1.0               1              31   \n",
       "tour_1002           1.0         1.0              11               0   \n",
       "tour_1004           1.0         0.0               7               4   \n",
       "\n",
       "           total_cost  total_people  \n",
       "ID                                   \n",
       "tour_0       674602.5           2.0  \n",
       "tour_10     3214906.5           2.0  \n",
       "tour_1000   3315000.0           0.0  \n",
       "tour_1002   7790250.0           2.0  \n",
       "tour_1004   1657500.0           2.0  "
      ]
     },
     "execution_count": 1791,
     "metadata": {},
     "output_type": "execute_result"
    }
   ],
   "source": [
    "Numeric_Data = df._get_numeric_data()\n",
    "Numeric_Data.head()"
   ]
  },
  {
   "cell_type": "code",
   "execution_count": 1792,
   "id": "0663b998-07a5-4839-b782-cfb37558a044",
   "metadata": {},
   "outputs": [
    {
     "data": {
      "text/plain": [
       "(4809, 6)"
      ]
     },
     "execution_count": 1792,
     "metadata": {},
     "output_type": "execute_result"
    }
   ],
   "source": [
    "Numeric_Data.shape"
   ]
  },
  {
   "cell_type": "code",
   "execution_count": 1793,
   "id": "339cba14-f2e2-42f1-aca7-34094f15846f",
   "metadata": {
    "tags": []
   },
   "outputs": [
    {
     "data": {
      "text/html": [
       "<div>\n",
       "<style scoped>\n",
       "    .dataframe tbody tr th:only-of-type {\n",
       "        vertical-align: middle;\n",
       "    }\n",
       "\n",
       "    .dataframe tbody tr th {\n",
       "        vertical-align: top;\n",
       "    }\n",
       "\n",
       "    .dataframe thead th {\n",
       "        text-align: right;\n",
       "    }\n",
       "</style>\n",
       "<table border=\"1\" class=\"dataframe\">\n",
       "  <thead>\n",
       "    <tr style=\"text-align: right;\">\n",
       "      <th></th>\n",
       "      <th>country</th>\n",
       "      <th>age_group</th>\n",
       "      <th>travel_with</th>\n",
       "      <th>purpose</th>\n",
       "      <th>main_activity</th>\n",
       "      <th>info_source</th>\n",
       "      <th>tour_arrangement</th>\n",
       "      <th>package_transport_int</th>\n",
       "      <th>package_accomodation</th>\n",
       "      <th>package_food</th>\n",
       "      <th>package_transport_tz</th>\n",
       "      <th>package_sightseeing</th>\n",
       "      <th>package_guided_tour</th>\n",
       "      <th>package_insurance</th>\n",
       "      <th>payment_mode</th>\n",
       "      <th>first_trip_tz</th>\n",
       "      <th>most_impressing</th>\n",
       "      <th>upcountry</th>\n",
       "      <th>age</th>\n",
       "    </tr>\n",
       "    <tr>\n",
       "      <th>ID</th>\n",
       "      <th></th>\n",
       "      <th></th>\n",
       "      <th></th>\n",
       "      <th></th>\n",
       "      <th></th>\n",
       "      <th></th>\n",
       "      <th></th>\n",
       "      <th></th>\n",
       "      <th></th>\n",
       "      <th></th>\n",
       "      <th></th>\n",
       "      <th></th>\n",
       "      <th></th>\n",
       "      <th></th>\n",
       "      <th></th>\n",
       "      <th></th>\n",
       "      <th></th>\n",
       "      <th></th>\n",
       "      <th></th>\n",
       "    </tr>\n",
       "  </thead>\n",
       "  <tbody>\n",
       "    <tr>\n",
       "      <th>tour_0</th>\n",
       "      <td>SWIZERLAND</td>\n",
       "      <td>45-64</td>\n",
       "      <td>Friends/Relatives</td>\n",
       "      <td>Leisure and Holidays</td>\n",
       "      <td>Wildlife tourism</td>\n",
       "      <td>Friends, relatives</td>\n",
       "      <td>Independent</td>\n",
       "      <td>No</td>\n",
       "      <td>No</td>\n",
       "      <td>No</td>\n",
       "      <td>No</td>\n",
       "      <td>No</td>\n",
       "      <td>No</td>\n",
       "      <td>No</td>\n",
       "      <td>Cash</td>\n",
       "      <td>No</td>\n",
       "      <td>Friendly People</td>\n",
       "      <td>Europe</td>\n",
       "      <td>45-64</td>\n",
       "    </tr>\n",
       "    <tr>\n",
       "      <th>tour_10</th>\n",
       "      <td>UNITED KINGDOM</td>\n",
       "      <td>25-44</td>\n",
       "      <td>Alone</td>\n",
       "      <td>Leisure and Holidays</td>\n",
       "      <td>Cultural tourism</td>\n",
       "      <td>others</td>\n",
       "      <td>Independent</td>\n",
       "      <td>No</td>\n",
       "      <td>No</td>\n",
       "      <td>No</td>\n",
       "      <td>No</td>\n",
       "      <td>No</td>\n",
       "      <td>No</td>\n",
       "      <td>No</td>\n",
       "      <td>Cash</td>\n",
       "      <td>Yes</td>\n",
       "      <td>Wonderful Country, Landscape, Nature</td>\n",
       "      <td>Europe</td>\n",
       "      <td>25-44</td>\n",
       "    </tr>\n",
       "  </tbody>\n",
       "</table>\n",
       "</div>"
      ],
      "text/plain": [
       "                country age_group        travel_with               purpose  \\\n",
       "ID                                                                           \n",
       "tour_0       SWIZERLAND     45-64  Friends/Relatives  Leisure and Holidays   \n",
       "tour_10  UNITED KINGDOM     25-44              Alone  Leisure and Holidays   \n",
       "\n",
       "            main_activity         info_source tour_arrangement  \\\n",
       "ID                                                               \n",
       "tour_0   Wildlife tourism  Friends, relatives      Independent   \n",
       "tour_10  Cultural tourism              others      Independent   \n",
       "\n",
       "        package_transport_int package_accomodation package_food  \\\n",
       "ID                                                                \n",
       "tour_0                     No                   No           No   \n",
       "tour_10                    No                   No           No   \n",
       "\n",
       "        package_transport_tz package_sightseeing package_guided_tour  \\\n",
       "ID                                                                     \n",
       "tour_0                    No                  No                  No   \n",
       "tour_10                   No                  No                  No   \n",
       "\n",
       "        package_insurance payment_mode first_trip_tz  \\\n",
       "ID                                                     \n",
       "tour_0                 No         Cash            No   \n",
       "tour_10                No         Cash           Yes   \n",
       "\n",
       "                              most_impressing upcountry    age  \n",
       "ID                                                              \n",
       "tour_0                        Friendly People    Europe  45-64  \n",
       "tour_10  Wonderful Country, Landscape, Nature    Europe  25-44  "
      ]
     },
     "execution_count": 1793,
     "metadata": {},
     "output_type": "execute_result"
    }
   ],
   "source": [
    "#Categorical_Feature = df.reset_index(drop=False, inplace=True)\n",
    "Categorical_Feature = df.select_dtypes(include=['object'])\n",
    "Categorical_Feature.head(2)"
   ]
  },
  {
   "cell_type": "code",
   "execution_count": 1794,
   "id": "3a890991-4fd9-4c87-bf47-31fa74023a30",
   "metadata": {},
   "outputs": [
    {
     "data": {
      "text/plain": [
       "Friendly People                         1854\n",
       " Wildlife                               1038\n",
       "No comments                              743\n",
       "Wonderful Country, Landscape, Nature     507\n",
       "Good service                             365\n",
       "Excellent Experience                     271\n",
       "Satisfies and Hope Come Back              31\n",
       "Name: most_impressing, dtype: int64"
      ]
     },
     "execution_count": 1794,
     "metadata": {},
     "output_type": "execute_result"
    }
   ],
   "source": [
    "Categorical_Feature['most_impressing'].value_counts()"
   ]
  },
  {
   "cell_type": "code",
   "execution_count": 1795,
   "id": "2ecfda0e-8869-4b63-b073-acc9cea72229",
   "metadata": {},
   "outputs": [],
   "source": [
    "Categorical_Feature.purpose.replace('Meetings and Conference', 'Business', inplace=True)"
   ]
  },
  {
   "cell_type": "code",
   "execution_count": 1796,
   "id": "2f4d195f-fe5b-4640-b862-bf960bb7c33d",
   "metadata": {},
   "outputs": [
    {
     "data": {
      "text/plain": [
       "Leisure and Holidays              2840\n",
       "Business                           983\n",
       "Visiting Friends and Relatives     633\n",
       "Volunteering                       138\n",
       "Other                              128\n",
       "Scientific and Academic             87\n",
       "Name: purpose, dtype: int64"
      ]
     },
     "execution_count": 1796,
     "metadata": {},
     "output_type": "execute_result"
    }
   ],
   "source": [
    "Categorical_Feature['purpose'].value_counts()"
   ]
  },
  {
   "cell_type": "code",
   "execution_count": 1797,
   "id": "33f8eeca-a92e-4ee5-b4dc-15fbe8d7f928",
   "metadata": {},
   "outputs": [],
   "source": [
    "Categorical_Feature.purpose.replace('Visiting Friends and Relatives', 'Leisure and Holidays', inplace=True)"
   ]
  },
  {
   "cell_type": "code",
   "execution_count": 1798,
   "id": "4d80f528-6d1e-4835-9ce0-6f9f56b3b551",
   "metadata": {},
   "outputs": [
    {
     "data": {
      "text/plain": [
       "Leisure and Holidays       3473\n",
       "Business                    983\n",
       "Volunteering                138\n",
       "Other                       128\n",
       "Scientific and Academic      87\n",
       "Name: purpose, dtype: int64"
      ]
     },
     "execution_count": 1798,
     "metadata": {},
     "output_type": "execute_result"
    }
   ],
   "source": [
    "Categorical_Feature['purpose'].value_counts()"
   ]
  },
  {
   "cell_type": "code",
   "execution_count": 1799,
   "id": "17277f78-dace-4503-8373-788c1d30b003",
   "metadata": {},
   "outputs": [
    {
     "data": {
      "text/html": [
       "<div>\n",
       "<style scoped>\n",
       "    .dataframe tbody tr th:only-of-type {\n",
       "        vertical-align: middle;\n",
       "    }\n",
       "\n",
       "    .dataframe tbody tr th {\n",
       "        vertical-align: top;\n",
       "    }\n",
       "\n",
       "    .dataframe thead th {\n",
       "        text-align: right;\n",
       "    }\n",
       "</style>\n",
       "<table border=\"1\" class=\"dataframe\">\n",
       "  <thead>\n",
       "    <tr style=\"text-align: right;\">\n",
       "      <th></th>\n",
       "      <th>country</th>\n",
       "      <th>age_group</th>\n",
       "      <th>travel_with</th>\n",
       "      <th>purpose</th>\n",
       "      <th>main_activity</th>\n",
       "      <th>info_source</th>\n",
       "      <th>tour_arrangement</th>\n",
       "      <th>package_transport_int</th>\n",
       "      <th>package_accomodation</th>\n",
       "      <th>package_food</th>\n",
       "      <th>package_transport_tz</th>\n",
       "      <th>package_sightseeing</th>\n",
       "      <th>package_guided_tour</th>\n",
       "      <th>package_insurance</th>\n",
       "      <th>payment_mode</th>\n",
       "      <th>first_trip_tz</th>\n",
       "      <th>most_impressing</th>\n",
       "      <th>upcountry</th>\n",
       "      <th>age</th>\n",
       "    </tr>\n",
       "    <tr>\n",
       "      <th>ID</th>\n",
       "      <th></th>\n",
       "      <th></th>\n",
       "      <th></th>\n",
       "      <th></th>\n",
       "      <th></th>\n",
       "      <th></th>\n",
       "      <th></th>\n",
       "      <th></th>\n",
       "      <th></th>\n",
       "      <th></th>\n",
       "      <th></th>\n",
       "      <th></th>\n",
       "      <th></th>\n",
       "      <th></th>\n",
       "      <th></th>\n",
       "      <th></th>\n",
       "      <th></th>\n",
       "      <th></th>\n",
       "      <th></th>\n",
       "    </tr>\n",
       "  </thead>\n",
       "  <tbody>\n",
       "    <tr>\n",
       "      <th>tour_0</th>\n",
       "      <td>SWIZERLAND</td>\n",
       "      <td>45-64</td>\n",
       "      <td>Friends/Relatives</td>\n",
       "      <td>Leisure and Holidays</td>\n",
       "      <td>Wildlife tourism</td>\n",
       "      <td>Friends, relatives</td>\n",
       "      <td>Independent</td>\n",
       "      <td>No</td>\n",
       "      <td>No</td>\n",
       "      <td>No</td>\n",
       "      <td>No</td>\n",
       "      <td>No</td>\n",
       "      <td>No</td>\n",
       "      <td>No</td>\n",
       "      <td>Cash</td>\n",
       "      <td>No</td>\n",
       "      <td>Friendly People</td>\n",
       "      <td>Europe</td>\n",
       "      <td>45-64</td>\n",
       "    </tr>\n",
       "  </tbody>\n",
       "</table>\n",
       "</div>"
      ],
      "text/plain": [
       "           country age_group        travel_with               purpose  \\\n",
       "ID                                                                      \n",
       "tour_0  SWIZERLAND     45-64  Friends/Relatives  Leisure and Holidays   \n",
       "\n",
       "           main_activity         info_source tour_arrangement  \\\n",
       "ID                                                              \n",
       "tour_0  Wildlife tourism  Friends, relatives      Independent   \n",
       "\n",
       "       package_transport_int package_accomodation package_food  \\\n",
       "ID                                                               \n",
       "tour_0                    No                   No           No   \n",
       "\n",
       "       package_transport_tz package_sightseeing package_guided_tour  \\\n",
       "ID                                                                    \n",
       "tour_0                   No                  No                  No   \n",
       "\n",
       "       package_insurance payment_mode first_trip_tz  most_impressing  \\\n",
       "ID                                                                     \n",
       "tour_0                No         Cash            No  Friendly People   \n",
       "\n",
       "       upcountry    age  \n",
       "ID                       \n",
       "tour_0    Europe  45-64  "
      ]
     },
     "execution_count": 1799,
     "metadata": {},
     "output_type": "execute_result"
    }
   ],
   "source": [
    "Categorical_Feature.head(1)"
   ]
  },
  {
   "cell_type": "code",
   "execution_count": 1800,
   "id": "6c68c2ea-e88e-448d-9194-7550744961ba",
   "metadata": {},
   "outputs": [
    {
     "data": {
      "text/plain": [
       "Leisure and Holidays       3473\n",
       "Business                    983\n",
       "Volunteering                138\n",
       "Other                       128\n",
       "Scientific and Academic      87\n",
       "Name: purpose, dtype: int64"
      ]
     },
     "execution_count": 1800,
     "metadata": {},
     "output_type": "execute_result"
    }
   ],
   "source": [
    "Categorical_Feature['purpose'].value_counts()"
   ]
  },
  {
   "cell_type": "code",
   "execution_count": 1801,
   "id": "42f2861c-8e5e-417a-84f5-dcd1b3df2db2",
   "metadata": {},
   "outputs": [],
   "source": [
    "Categorical_Feature = Categorical_Feature.drop(['country', 'age_group', 'most_impressing'], axis = 1)"
   ]
  },
  {
   "cell_type": "code",
   "execution_count": 1802,
   "id": "2068cf64-ffd7-4374-a27a-d062d33f4ffa",
   "metadata": {},
   "outputs": [
    {
     "data": {
      "text/plain": [
       "Index(['country', 'travel_with', 'purpose', 'main_activity', 'info_source',\n",
       "       'tour_arrangement', 'package_transport_int', 'package_accomodation',\n",
       "       'package_food', 'package_transport_tz', 'package_sightseeing',\n",
       "       'package_guided_tour', 'package_insurance', 'payment_mode',\n",
       "       'first_trip_tz', 'upcountry', 'age'],\n",
       "      dtype='object')"
      ]
     },
     "execution_count": 1802,
     "metadata": {},
     "output_type": "execute_result"
    }
   ],
   "source": [
    "Categorical_Feature.columns"
   ]
  },
  {
   "cell_type": "code",
   "execution_count": 1803,
   "id": "b0bc1cc9-a857-42ef-b3c7-7ad50d41d225",
   "metadata": {},
   "outputs": [
    {
     "data": {
      "text/html": [
       "<div>\n",
       "<style scoped>\n",
       "    .dataframe tbody tr th:only-of-type {\n",
       "        vertical-align: middle;\n",
       "    }\n",
       "\n",
       "    .dataframe tbody tr th {\n",
       "        vertical-align: top;\n",
       "    }\n",
       "\n",
       "    .dataframe thead th {\n",
       "        text-align: right;\n",
       "    }\n",
       "</style>\n",
       "<table border=\"1\" class=\"dataframe\">\n",
       "  <thead>\n",
       "    <tr style=\"text-align: right;\">\n",
       "      <th></th>\n",
       "      <th>country</th>\n",
       "      <th>travel_with</th>\n",
       "      <th>purpose</th>\n",
       "      <th>main_activity</th>\n",
       "      <th>info_source</th>\n",
       "      <th>tour_arrangement</th>\n",
       "      <th>package_transport_int</th>\n",
       "      <th>package_accomodation</th>\n",
       "      <th>package_food</th>\n",
       "      <th>package_transport_tz</th>\n",
       "      <th>package_sightseeing</th>\n",
       "      <th>package_guided_tour</th>\n",
       "      <th>package_insurance</th>\n",
       "      <th>payment_mode</th>\n",
       "      <th>first_trip_tz</th>\n",
       "      <th>upcountry</th>\n",
       "      <th>age</th>\n",
       "    </tr>\n",
       "    <tr>\n",
       "      <th>ID</th>\n",
       "      <th></th>\n",
       "      <th></th>\n",
       "      <th></th>\n",
       "      <th></th>\n",
       "      <th></th>\n",
       "      <th></th>\n",
       "      <th></th>\n",
       "      <th></th>\n",
       "      <th></th>\n",
       "      <th></th>\n",
       "      <th></th>\n",
       "      <th></th>\n",
       "      <th></th>\n",
       "      <th></th>\n",
       "      <th></th>\n",
       "      <th></th>\n",
       "      <th></th>\n",
       "    </tr>\n",
       "  </thead>\n",
       "  <tbody>\n",
       "    <tr>\n",
       "      <th>tour_0</th>\n",
       "      <td>SWIZERLAND</td>\n",
       "      <td>Friends/Relatives</td>\n",
       "      <td>Leisure and Holidays</td>\n",
       "      <td>Wildlife tourism</td>\n",
       "      <td>Friends, relatives</td>\n",
       "      <td>Independent</td>\n",
       "      <td>No</td>\n",
       "      <td>No</td>\n",
       "      <td>No</td>\n",
       "      <td>No</td>\n",
       "      <td>No</td>\n",
       "      <td>No</td>\n",
       "      <td>No</td>\n",
       "      <td>Cash</td>\n",
       "      <td>No</td>\n",
       "      <td>Europe</td>\n",
       "      <td>45-64</td>\n",
       "    </tr>\n",
       "  </tbody>\n",
       "</table>\n",
       "</div>"
      ],
      "text/plain": [
       "           country        travel_with               purpose     main_activity  \\\n",
       "ID                                                                              \n",
       "tour_0  SWIZERLAND  Friends/Relatives  Leisure and Holidays  Wildlife tourism   \n",
       "\n",
       "               info_source tour_arrangement package_transport_int  \\\n",
       "ID                                                                  \n",
       "tour_0  Friends, relatives      Independent                    No   \n",
       "\n",
       "       package_accomodation package_food package_transport_tz  \\\n",
       "ID                                                              \n",
       "tour_0                   No           No                   No   \n",
       "\n",
       "       package_sightseeing package_guided_tour package_insurance payment_mode  \\\n",
       "ID                                                                              \n",
       "tour_0                  No                  No                No         Cash   \n",
       "\n",
       "       first_trip_tz upcountry    age  \n",
       "ID                                     \n",
       "tour_0            No    Europe  45-64  "
      ]
     },
     "execution_count": 1803,
     "metadata": {},
     "output_type": "execute_result"
    }
   ],
   "source": [
    "Categorical_Feature.head(1)"
   ]
  },
  {
   "cell_type": "code",
   "execution_count": 1804,
   "id": "a37c6c94-e3fc-472f-8f9f-bd3e1cdd6a02",
   "metadata": {},
   "outputs": [
    {
     "data": {
      "text/html": [
       "<div>\n",
       "<style scoped>\n",
       "    .dataframe tbody tr th:only-of-type {\n",
       "        vertical-align: middle;\n",
       "    }\n",
       "\n",
       "    .dataframe tbody tr th {\n",
       "        vertical-align: top;\n",
       "    }\n",
       "\n",
       "    .dataframe thead th {\n",
       "        text-align: right;\n",
       "    }\n",
       "</style>\n",
       "<table border=\"1\" class=\"dataframe\">\n",
       "  <thead>\n",
       "    <tr style=\"text-align: right;\">\n",
       "      <th></th>\n",
       "      <th>country_ALGERIA</th>\n",
       "      <th>country_ANGOLA</th>\n",
       "      <th>country_ARGENTINA</th>\n",
       "      <th>country_AUSTRALIA</th>\n",
       "      <th>country_AUSTRIA</th>\n",
       "      <th>country_BELGIUM</th>\n",
       "      <th>country_BERMUDA</th>\n",
       "      <th>country_BRAZIL</th>\n",
       "      <th>country_BURGARIA</th>\n",
       "      <th>country_BURUNDI</th>\n",
       "      <th>...</th>\n",
       "      <th>upcountry_North America</th>\n",
       "      <th>upcountry_OTHERS</th>\n",
       "      <th>upcountry_South America</th>\n",
       "      <th>upcountry_Southern Africa</th>\n",
       "      <th>upcountry_UAE</th>\n",
       "      <th>upcountry_West Africa</th>\n",
       "      <th>age_01-24</th>\n",
       "      <th>age_25-44</th>\n",
       "      <th>age_45-64</th>\n",
       "      <th>age_65+</th>\n",
       "    </tr>\n",
       "    <tr>\n",
       "      <th>ID</th>\n",
       "      <th></th>\n",
       "      <th></th>\n",
       "      <th></th>\n",
       "      <th></th>\n",
       "      <th></th>\n",
       "      <th></th>\n",
       "      <th></th>\n",
       "      <th></th>\n",
       "      <th></th>\n",
       "      <th></th>\n",
       "      <th></th>\n",
       "      <th></th>\n",
       "      <th></th>\n",
       "      <th></th>\n",
       "      <th></th>\n",
       "      <th></th>\n",
       "      <th></th>\n",
       "      <th></th>\n",
       "      <th></th>\n",
       "      <th></th>\n",
       "      <th></th>\n",
       "    </tr>\n",
       "  </thead>\n",
       "  <tbody>\n",
       "    <tr>\n",
       "      <th>tour_0</th>\n",
       "      <td>0</td>\n",
       "      <td>0</td>\n",
       "      <td>0</td>\n",
       "      <td>0</td>\n",
       "      <td>0</td>\n",
       "      <td>0</td>\n",
       "      <td>0</td>\n",
       "      <td>0</td>\n",
       "      <td>0</td>\n",
       "      <td>0</td>\n",
       "      <td>...</td>\n",
       "      <td>0</td>\n",
       "      <td>0</td>\n",
       "      <td>0</td>\n",
       "      <td>0</td>\n",
       "      <td>0</td>\n",
       "      <td>0</td>\n",
       "      <td>0</td>\n",
       "      <td>0</td>\n",
       "      <td>1</td>\n",
       "      <td>0</td>\n",
       "    </tr>\n",
       "    <tr>\n",
       "      <th>tour_10</th>\n",
       "      <td>0</td>\n",
       "      <td>0</td>\n",
       "      <td>0</td>\n",
       "      <td>0</td>\n",
       "      <td>0</td>\n",
       "      <td>0</td>\n",
       "      <td>0</td>\n",
       "      <td>0</td>\n",
       "      <td>0</td>\n",
       "      <td>0</td>\n",
       "      <td>...</td>\n",
       "      <td>0</td>\n",
       "      <td>0</td>\n",
       "      <td>0</td>\n",
       "      <td>0</td>\n",
       "      <td>0</td>\n",
       "      <td>0</td>\n",
       "      <td>0</td>\n",
       "      <td>1</td>\n",
       "      <td>0</td>\n",
       "      <td>0</td>\n",
       "    </tr>\n",
       "  </tbody>\n",
       "</table>\n",
       "<p>2 rows × 171 columns</p>\n",
       "</div>"
      ],
      "text/plain": [
       "         country_ALGERIA  country_ANGOLA  country_ARGENTINA  \\\n",
       "ID                                                            \n",
       "tour_0                 0               0                  0   \n",
       "tour_10                0               0                  0   \n",
       "\n",
       "         country_AUSTRALIA  country_AUSTRIA  country_BELGIUM  country_BERMUDA  \\\n",
       "ID                                                                              \n",
       "tour_0                   0                0                0                0   \n",
       "tour_10                  0                0                0                0   \n",
       "\n",
       "         country_BRAZIL  country_BURGARIA  country_BURUNDI  ...  \\\n",
       "ID                                                          ...   \n",
       "tour_0                0                 0                0  ...   \n",
       "tour_10               0                 0                0  ...   \n",
       "\n",
       "         upcountry_North America  upcountry_OTHERS  upcountry_South America  \\\n",
       "ID                                                                            \n",
       "tour_0                         0                 0                        0   \n",
       "tour_10                        0                 0                        0   \n",
       "\n",
       "         upcountry_Southern Africa  upcountry_UAE  upcountry_West Africa  \\\n",
       "ID                                                                         \n",
       "tour_0                           0              0                      0   \n",
       "tour_10                          0              0                      0   \n",
       "\n",
       "         age_01-24  age_25-44  age_45-64  age_65+  \n",
       "ID                                                 \n",
       "tour_0           0          0          1        0  \n",
       "tour_10          0          1          0        0  \n",
       "\n",
       "[2 rows x 171 columns]"
      ]
     },
     "execution_count": 1804,
     "metadata": {},
     "output_type": "execute_result"
    }
   ],
   "source": [
    "Categorical_Variables = pd.get_dummies(Categorical_Feature)\n",
    "Categorical_Variables.head(2)"
   ]
  },
  {
   "cell_type": "code",
   "execution_count": 1805,
   "id": "f13c6a4a-728f-4c45-aa79-f69b7017330c",
   "metadata": {},
   "outputs": [
    {
     "data": {
      "text/plain": [
       "(4809, 171)"
      ]
     },
     "execution_count": 1805,
     "metadata": {},
     "output_type": "execute_result"
    }
   ],
   "source": [
    "Categorical_Variables.shape"
   ]
  },
  {
   "cell_type": "code",
   "execution_count": 1806,
   "id": "c6bc92d7-198c-405e-a305-19b9e7cefa08",
   "metadata": {},
   "outputs": [
    {
     "data": {
      "text/plain": [
       "Index(['country_ALGERIA', 'country_ANGOLA', 'country_ARGENTINA',\n",
       "       'country_AUSTRALIA', 'country_AUSTRIA', 'country_BELGIUM',\n",
       "       'country_BERMUDA', 'country_BRAZIL', 'country_BURGARIA',\n",
       "       'country_BURUNDI',\n",
       "       ...\n",
       "       'upcountry_North America', 'upcountry_OTHERS',\n",
       "       'upcountry_South America', 'upcountry_Southern Africa', 'upcountry_UAE',\n",
       "       'upcountry_West Africa', 'age_01-24', 'age_25-44', 'age_45-64',\n",
       "       'age_65+'],\n",
       "      dtype='object', length=171)"
      ]
     },
     "execution_count": 1806,
     "metadata": {},
     "output_type": "execute_result"
    }
   ],
   "source": [
    "Categorical_Variables.columns"
   ]
  },
  {
   "cell_type": "code",
   "execution_count": 1807,
   "id": "ec5d55a7-dbc9-4504-8a10-45ed790a412b",
   "metadata": {},
   "outputs": [
    {
     "data": {
      "text/html": [
       "<div>\n",
       "<style scoped>\n",
       "    .dataframe tbody tr th:only-of-type {\n",
       "        vertical-align: middle;\n",
       "    }\n",
       "\n",
       "    .dataframe tbody tr th {\n",
       "        vertical-align: top;\n",
       "    }\n",
       "\n",
       "    .dataframe thead th {\n",
       "        text-align: right;\n",
       "    }\n",
       "</style>\n",
       "<table border=\"1\" class=\"dataframe\">\n",
       "  <thead>\n",
       "    <tr style=\"text-align: right;\">\n",
       "      <th></th>\n",
       "      <th>country_ALGERIA</th>\n",
       "      <th>country_ANGOLA</th>\n",
       "      <th>country_ARGENTINA</th>\n",
       "      <th>country_AUSTRALIA</th>\n",
       "      <th>country_AUSTRIA</th>\n",
       "      <th>country_BELGIUM</th>\n",
       "      <th>country_BERMUDA</th>\n",
       "      <th>country_BRAZIL</th>\n",
       "      <th>country_BURGARIA</th>\n",
       "      <th>country_BURUNDI</th>\n",
       "      <th>...</th>\n",
       "      <th>age_01-24</th>\n",
       "      <th>age_25-44</th>\n",
       "      <th>age_45-64</th>\n",
       "      <th>age_65+</th>\n",
       "      <th>total_female</th>\n",
       "      <th>total_male</th>\n",
       "      <th>night_mainland</th>\n",
       "      <th>night_zanzibar</th>\n",
       "      <th>total_cost</th>\n",
       "      <th>total_people</th>\n",
       "    </tr>\n",
       "    <tr>\n",
       "      <th>ID</th>\n",
       "      <th></th>\n",
       "      <th></th>\n",
       "      <th></th>\n",
       "      <th></th>\n",
       "      <th></th>\n",
       "      <th></th>\n",
       "      <th></th>\n",
       "      <th></th>\n",
       "      <th></th>\n",
       "      <th></th>\n",
       "      <th></th>\n",
       "      <th></th>\n",
       "      <th></th>\n",
       "      <th></th>\n",
       "      <th></th>\n",
       "      <th></th>\n",
       "      <th></th>\n",
       "      <th></th>\n",
       "      <th></th>\n",
       "      <th></th>\n",
       "      <th></th>\n",
       "    </tr>\n",
       "  </thead>\n",
       "  <tbody>\n",
       "    <tr>\n",
       "      <th>tour_0</th>\n",
       "      <td>0</td>\n",
       "      <td>0</td>\n",
       "      <td>0</td>\n",
       "      <td>0</td>\n",
       "      <td>0</td>\n",
       "      <td>0</td>\n",
       "      <td>0</td>\n",
       "      <td>0</td>\n",
       "      <td>0</td>\n",
       "      <td>0</td>\n",
       "      <td>...</td>\n",
       "      <td>0</td>\n",
       "      <td>0</td>\n",
       "      <td>1</td>\n",
       "      <td>0</td>\n",
       "      <td>1.0</td>\n",
       "      <td>1.0</td>\n",
       "      <td>13</td>\n",
       "      <td>0</td>\n",
       "      <td>674602.5</td>\n",
       "      <td>2.0</td>\n",
       "    </tr>\n",
       "    <tr>\n",
       "      <th>tour_10</th>\n",
       "      <td>0</td>\n",
       "      <td>0</td>\n",
       "      <td>0</td>\n",
       "      <td>0</td>\n",
       "      <td>0</td>\n",
       "      <td>0</td>\n",
       "      <td>0</td>\n",
       "      <td>0</td>\n",
       "      <td>0</td>\n",
       "      <td>0</td>\n",
       "      <td>...</td>\n",
       "      <td>0</td>\n",
       "      <td>1</td>\n",
       "      <td>0</td>\n",
       "      <td>0</td>\n",
       "      <td>1.0</td>\n",
       "      <td>0.0</td>\n",
       "      <td>14</td>\n",
       "      <td>7</td>\n",
       "      <td>3214906.5</td>\n",
       "      <td>2.0</td>\n",
       "    </tr>\n",
       "  </tbody>\n",
       "</table>\n",
       "<p>2 rows × 177 columns</p>\n",
       "</div>"
      ],
      "text/plain": [
       "         country_ALGERIA  country_ANGOLA  country_ARGENTINA  \\\n",
       "ID                                                            \n",
       "tour_0                 0               0                  0   \n",
       "tour_10                0               0                  0   \n",
       "\n",
       "         country_AUSTRALIA  country_AUSTRIA  country_BELGIUM  country_BERMUDA  \\\n",
       "ID                                                                              \n",
       "tour_0                   0                0                0                0   \n",
       "tour_10                  0                0                0                0   \n",
       "\n",
       "         country_BRAZIL  country_BURGARIA  country_BURUNDI  ...  age_01-24  \\\n",
       "ID                                                          ...              \n",
       "tour_0                0                 0                0  ...          0   \n",
       "tour_10               0                 0                0  ...          0   \n",
       "\n",
       "         age_25-44  age_45-64  age_65+  total_female  total_male  \\\n",
       "ID                                                                 \n",
       "tour_0           0          1        0           1.0         1.0   \n",
       "tour_10          1          0        0           1.0         0.0   \n",
       "\n",
       "         night_mainland  night_zanzibar  total_cost  total_people  \n",
       "ID                                                                 \n",
       "tour_0               13               0    674602.5           2.0  \n",
       "tour_10              14               7   3214906.5           2.0  \n",
       "\n",
       "[2 rows x 177 columns]"
      ]
     },
     "execution_count": 1807,
     "metadata": {},
     "output_type": "execute_result"
    }
   ],
   "source": [
    "Com = [Categorical_Variables, Numeric_Data]\n",
    "Complete_Variables = pd.concat(Com, axis=1, join='inner')\n",
    "Complete_Variables.head(2)"
   ]
  },
  {
   "cell_type": "code",
   "execution_count": 1808,
   "id": "a1a2b838-8593-42c7-be15-6c8335388cab",
   "metadata": {},
   "outputs": [
    {
     "data": {
      "text/plain": [
       "(4809, 177)"
      ]
     },
     "execution_count": 1808,
     "metadata": {},
     "output_type": "execute_result"
    }
   ],
   "source": [
    "Complete_Variables.shape"
   ]
  },
  {
   "cell_type": "markdown",
   "id": "de258cc5-abe5-4e0e-95da-25f5d828fdf4",
   "metadata": {},
   "source": [
    "## Predicting"
   ]
  },
  {
   "cell_type": "code",
   "execution_count": 1809,
   "id": "8358f6f5-b403-48f9-8fe2-fb693c15531f",
   "metadata": {},
   "outputs": [],
   "source": [
    "Y = Complete_Variables['total_cost']\n",
    "X = Complete_Variables.drop('total_cost', axis=1)"
   ]
  },
  {
   "cell_type": "code",
   "execution_count": 1810,
   "id": "cfc3c286-14b1-47ee-8142-5ad3b78f6b37",
   "metadata": {},
   "outputs": [],
   "source": [
    "testdf = pd.read_excel (\"C:\\\\Users\\\\KOFI ADUKPO\\\\Desktop\\\\ML\\\\zindi_test.xlsx\", index_col=0, parse_dates=True)"
   ]
  },
  {
   "cell_type": "code",
   "execution_count": 1811,
   "id": "7e075559-cb51-451f-9be2-cf40d518db79",
   "metadata": {},
   "outputs": [
    {
     "data": {
      "text/plain": [
       "(1601, 163)"
      ]
     },
     "execution_count": 1811,
     "metadata": {},
     "output_type": "execute_result"
    }
   ],
   "source": [
    "testdf.shape"
   ]
  },
  {
   "cell_type": "code",
   "execution_count": 1812,
   "id": "02d34a6b-c5af-4cbe-b789-d9f5be377f6e",
   "metadata": {},
   "outputs": [],
   "source": [
    "from sklearn import tree\n",
    "from sklearn.tree import DecisionTreeClassifier\n",
    "import pydotplus\n",
    "from sklearn import linear_model\n",
    "from sklearn.model_selection import train_test_split"
   ]
  },
  {
   "cell_type": "code",
   "execution_count": 1813,
   "id": "ad4d99e7-d864-4dc2-8b59-e3b9a5ab52d8",
   "metadata": {},
   "outputs": [
    {
     "name": "stdout",
     "output_type": "stream",
     "text": [
      "(4809, 176)\n",
      "(4809,)\n"
     ]
    },
    {
     "data": {
      "text/plain": [
       "(1601, 163)"
      ]
     },
     "execution_count": 1813,
     "metadata": {},
     "output_type": "execute_result"
    }
   ],
   "source": [
    "print(X.shape);\n",
    "print(Y.shape);\n",
    "testdf.shape"
   ]
  },
  {
   "cell_type": "code",
   "execution_count": 1814,
   "id": "69c029b7-670c-4587-8eae-b2b3d54d6fcc",
   "metadata": {},
   "outputs": [
    {
     "data": {
      "text/plain": [
       "(4809, 176)"
      ]
     },
     "execution_count": 1814,
     "metadata": {},
     "output_type": "execute_result"
    }
   ],
   "source": [
    "X.shape"
   ]
  },
  {
   "cell_type": "code",
   "execution_count": 1815,
   "id": "18180f12-b637-4286-8b9d-fcf5406b72ec",
   "metadata": {},
   "outputs": [
    {
     "data": {
      "text/plain": [
       "(1601, 163)"
      ]
     },
     "execution_count": 1815,
     "metadata": {},
     "output_type": "execute_result"
    }
   ],
   "source": [
    "testdf.shape"
   ]
  },
  {
   "cell_type": "code",
   "execution_count": 1816,
   "id": "b3cbfe3d-a1e5-408d-9a3d-8ade036a0f18",
   "metadata": {},
   "outputs": [],
   "source": [
    "nn= list(X.columns)"
   ]
  },
  {
   "cell_type": "code",
   "execution_count": 1817,
   "id": "47bd11de-0d6b-4d30-b566-cc67064a69a3",
   "metadata": {},
   "outputs": [],
   "source": [
    "bb = list(testdf.columns)"
   ]
  },
  {
   "cell_type": "code",
   "execution_count": 1818,
   "id": "385028e2-a7a4-44bb-aa56-f3c7cf6aabd2",
   "metadata": {},
   "outputs": [],
   "source": [
    "s = set(nn)\n",
    "diff = [x for x in bb if x not in s]"
   ]
  },
  {
   "cell_type": "code",
   "execution_count": 1819,
   "id": "357a453f-4e28-4a0c-a1fb-167a89280e82",
   "metadata": {},
   "outputs": [
    {
     "data": {
      "text/plain": [
       "['country_BANGLADESH',\n",
       " 'country_BOSNIA',\n",
       " 'country_BOTSWANA',\n",
       " 'country_BULGARIA',\n",
       " 'country_GUINEA',\n",
       " 'country_HAITI',\n",
       " 'country_JAMAICA',\n",
       " 'country_LIBERIA',\n",
       " 'country_MACEDONIA',\n",
       " 'country_PERU',\n",
       " 'country_SAUD ARABIA',\n",
       " 'country_SOMALI',\n",
       " 'country_VIETNAM',\n",
       " 'upcountry_BOSNIA',\n",
       " 'upcountry_MACEDONIA',\n",
       " 'upcountry_PERU',\n",
       " 'upcountry_SAUD ARABIA',\n",
       " 'upcountry_SOMALI']"
      ]
     },
     "execution_count": 1819,
     "metadata": {},
     "output_type": "execute_result"
    }
   ],
   "source": [
    "diff"
   ]
  },
  {
   "cell_type": "code",
   "execution_count": 1820,
   "id": "a054b245-9e76-4c4c-86c2-c16c6fce796f",
   "metadata": {},
   "outputs": [],
   "source": [
    "testdf = testdf.drop(diff, axis = 1)"
   ]
  },
  {
   "cell_type": "code",
   "execution_count": 1821,
   "id": "913a5c3f-b96a-466d-9fcb-6b3ffc3c0358",
   "metadata": {},
   "outputs": [
    {
     "data": {
      "text/plain": [
       "(1601, 145)"
      ]
     },
     "execution_count": 1821,
     "metadata": {},
     "output_type": "execute_result"
    }
   ],
   "source": [
    "testdf.shape"
   ]
  },
  {
   "cell_type": "code",
   "execution_count": 1822,
   "id": "6e37fe46-d924-4621-bfe6-6ef98efedff0",
   "metadata": {},
   "outputs": [
    {
     "data": {
      "text/plain": [
       "(4809, 176)"
      ]
     },
     "execution_count": 1822,
     "metadata": {},
     "output_type": "execute_result"
    }
   ],
   "source": [
    "X.shape"
   ]
  },
  {
   "cell_type": "code",
   "execution_count": 1823,
   "id": "fa6354be-9851-4820-a268-d847dea2fa0c",
   "metadata": {},
   "outputs": [],
   "source": [
    "nn= list(testdf.columns)"
   ]
  },
  {
   "cell_type": "code",
   "execution_count": 1824,
   "id": "ce6fea8a-9b13-44db-b726-bbf6cc306270",
   "metadata": {},
   "outputs": [],
   "source": [
    "bb = list(X.columns)"
   ]
  },
  {
   "cell_type": "code",
   "execution_count": 1825,
   "id": "918c07fd-c4c7-4e9a-9d3c-ecc9919f4e3a",
   "metadata": {},
   "outputs": [],
   "source": [
    "s = set(nn)\n",
    "diff = [x for x in bb if x not in s]"
   ]
  },
  {
   "cell_type": "code",
   "execution_count": 1826,
   "id": "2604f2ed-5a2f-45df-83aa-67ee1baaf4b1",
   "metadata": {},
   "outputs": [
    {
     "data": {
      "text/plain": [
       "['country_ALGERIA',\n",
       " 'country_ANGOLA',\n",
       " 'country_BERMUDA',\n",
       " 'country_BURGARIA',\n",
       " 'country_COLOMBIA',\n",
       " 'country_CROATIA',\n",
       " 'country_DJIBOUT',\n",
       " 'country_ESTONIA',\n",
       " 'country_GEORGIA',\n",
       " 'country_IRAQ',\n",
       " 'country_IVORY COAST',\n",
       " 'country_KUWAIT',\n",
       " 'country_LATVIA',\n",
       " 'country_LESOTHO',\n",
       " 'country_LITHUANIA',\n",
       " 'country_LUXEMBOURG',\n",
       " 'country_MADAGASCAR',\n",
       " 'country_MAURITIUS',\n",
       " 'country_MEXICO',\n",
       " 'country_MONTENEGRO',\n",
       " 'country_MYANMAR',\n",
       " 'country_NEPAL',\n",
       " 'country_NIGER',\n",
       " 'country_NIGERIA',\n",
       " 'country_SLOVENIA',\n",
       " 'country_SRI LANKA',\n",
       " 'country_THAILAND',\n",
       " 'country_TRINIDAD TOBACCO',\n",
       " 'country_TUNISIA',\n",
       " 'country_TURKEY',\n",
       " 'country_URUGUAY']"
      ]
     },
     "execution_count": 1826,
     "metadata": {},
     "output_type": "execute_result"
    }
   ],
   "source": [
    "diff"
   ]
  },
  {
   "cell_type": "code",
   "execution_count": 1828,
   "id": "65cb6ec9-77bd-474d-b172-d6f033c98248",
   "metadata": {},
   "outputs": [],
   "source": [
    "X = X.drop(diff, axis = 1)"
   ]
  },
  {
   "cell_type": "code",
   "execution_count": 1829,
   "id": "8c3d8827-0723-463d-99cc-1e1d60df822b",
   "metadata": {},
   "outputs": [
    {
     "data": {
      "text/plain": [
       "(1601, 145)"
      ]
     },
     "execution_count": 1829,
     "metadata": {},
     "output_type": "execute_result"
    }
   ],
   "source": [
    "testdf.shape"
   ]
  },
  {
   "cell_type": "code",
   "execution_count": 1830,
   "id": "64b460b3-0706-459b-883d-f5ef42567aa2",
   "metadata": {},
   "outputs": [
    {
     "data": {
      "text/plain": [
       "(4809, 145)"
      ]
     },
     "execution_count": 1830,
     "metadata": {},
     "output_type": "execute_result"
    }
   ],
   "source": [
    "X.shape"
   ]
  },
  {
   "cell_type": "code",
   "execution_count": 1831,
   "id": "aa2511a6-2113-40c9-8630-9a71b341f04c",
   "metadata": {},
   "outputs": [],
   "source": [
    "from sklearn.preprocessing import StandardScaler\n",
    "scaler = StandardScaler()"
   ]
  },
  {
   "cell_type": "code",
   "execution_count": 1832,
   "id": "c5cf9700-025f-4f7c-99fe-c6733c049454",
   "metadata": {},
   "outputs": [
    {
     "data": {
      "text/plain": [
       "StandardScaler()"
      ]
     },
     "execution_count": 1832,
     "metadata": {},
     "output_type": "execute_result"
    }
   ],
   "source": [
    "# Fit on training set only.\n",
    "scaler.fit(X)"
   ]
  },
  {
   "cell_type": "code",
   "execution_count": 1833,
   "id": "5d3bd535-9d5b-46d6-8f5c-8a46967213a2",
   "metadata": {},
   "outputs": [],
   "source": [
    "testdf = testdf[list(X.columns)]"
   ]
  },
  {
   "cell_type": "code",
   "execution_count": 1834,
   "id": "f17e647b-30d9-408c-ae86-102584157ec7",
   "metadata": {},
   "outputs": [],
   "source": [
    "# Apply transform to both the training set and the test set.\n",
    "train_x = scaler.transform(X)\n",
    "test_x = scaler.transform(testdf)"
   ]
  },
  {
   "cell_type": "code",
   "execution_count": null,
   "id": "547c694b-8cc5-424a-b9d8-65ee10627f54",
   "metadata": {},
   "outputs": [],
   "source": []
  },
  {
   "cell_type": "code",
   "execution_count": 1835,
   "id": "63224a89-7f49-4aeb-a9a7-57304a3e0e33",
   "metadata": {},
   "outputs": [],
   "source": [
    "from sklearn.decomposition import PCA\n",
    "# Make an instance of the Model\n",
    "pca = PCA(.95)"
   ]
  },
  {
   "cell_type": "code",
   "execution_count": 1836,
   "id": "6c2512df-ddfe-4c15-aafe-11f919474337",
   "metadata": {},
   "outputs": [
    {
     "data": {
      "text/plain": [
       "PCA(n_components=0.95)"
      ]
     },
     "execution_count": 1836,
     "metadata": {},
     "output_type": "execute_result"
    }
   ],
   "source": [
    "pca.fit(train_x)"
   ]
  },
  {
   "cell_type": "code",
   "execution_count": 1837,
   "id": "86e15573-f724-4ec3-88c6-1cbb8d33841c",
   "metadata": {},
   "outputs": [],
   "source": [
    "train_x = pca.transform(train_x)\n",
    "test_x = pca.transform(test_x)"
   ]
  },
  {
   "cell_type": "code",
   "execution_count": 1838,
   "id": "a013a6c0-66c1-4ac8-badf-2fa18fd91090",
   "metadata": {},
   "outputs": [],
   "source": [
    "regr = linear_model.LinearRegression()\n",
    "#regr.fit(X, y)"
   ]
  },
  {
   "cell_type": "code",
   "execution_count": 1839,
   "id": "337ea653-35a1-4095-ab36-c9a6f9077e9a",
   "metadata": {},
   "outputs": [
    {
     "data": {
      "text/plain": [
       "LinearRegression()"
      ]
     },
     "execution_count": 1839,
     "metadata": {},
     "output_type": "execute_result"
    }
   ],
   "source": [
    "regr.fit(train_x, Y)"
   ]
  },
  {
   "cell_type": "code",
   "execution_count": 1840,
   "id": "a6f65fa9-2d91-4339-b14a-486cd57057c6",
   "metadata": {},
   "outputs": [],
   "source": [
    "predicted = regr.predict(test_x)\n",
    "#predicted = regr.predict(test_x)"
   ]
  },
  {
   "cell_type": "code",
   "execution_count": 1841,
   "id": "e964fad3-aa17-4a40-ad0c-f608c7aaadaf",
   "metadata": {},
   "outputs": [
    {
     "data": {
      "text/plain": [
       "array([21553182.44569814, 14386362.35950285,  5268073.77657402, ...,\n",
       "       -2236284.20943897,  2734988.49383963,  6831715.01326288])"
      ]
     },
     "execution_count": 1841,
     "metadata": {},
     "output_type": "execute_result"
    }
   ],
   "source": [
    "predicted"
   ]
  },
  {
   "cell_type": "code",
   "execution_count": 1842,
   "id": "0a13b9b7-4d92-4836-9aa1-c86c2a21e8cf",
   "metadata": {},
   "outputs": [],
   "source": [
    "rt = testdf.drop(list(testdf.columns), axis = 1)"
   ]
  },
  {
   "cell_type": "code",
   "execution_count": 1843,
   "id": "dc07b548-6293-4d3d-8510-98ea35863b2e",
   "metadata": {},
   "outputs": [],
   "source": [
    "rt['total_cost'] = list(predicted)"
   ]
  },
  {
   "cell_type": "code",
   "execution_count": 1844,
   "id": "b1c60825-5784-4c8f-a12e-25dc9ba764e0",
   "metadata": {},
   "outputs": [
    {
     "data": {
      "text/html": [
       "<div>\n",
       "<style scoped>\n",
       "    .dataframe tbody tr th:only-of-type {\n",
       "        vertical-align: middle;\n",
       "    }\n",
       "\n",
       "    .dataframe tbody tr th {\n",
       "        vertical-align: top;\n",
       "    }\n",
       "\n",
       "    .dataframe thead th {\n",
       "        text-align: right;\n",
       "    }\n",
       "</style>\n",
       "<table border=\"1\" class=\"dataframe\">\n",
       "  <thead>\n",
       "    <tr style=\"text-align: right;\">\n",
       "      <th></th>\n",
       "      <th>total_cost</th>\n",
       "    </tr>\n",
       "    <tr>\n",
       "      <th>ID</th>\n",
       "      <th></th>\n",
       "    </tr>\n",
       "  </thead>\n",
       "  <tbody>\n",
       "    <tr>\n",
       "      <th>tour_1</th>\n",
       "      <td>2.155318e+07</td>\n",
       "    </tr>\n",
       "    <tr>\n",
       "      <th>tour_100</th>\n",
       "      <td>1.438636e+07</td>\n",
       "    </tr>\n",
       "    <tr>\n",
       "      <th>tour_1001</th>\n",
       "      <td>5.268074e+06</td>\n",
       "    </tr>\n",
       "    <tr>\n",
       "      <th>tour_1006</th>\n",
       "      <td>5.653663e+06</td>\n",
       "    </tr>\n",
       "    <tr>\n",
       "      <th>tour_1009</th>\n",
       "      <td>1.618480e+07</td>\n",
       "    </tr>\n",
       "    <tr>\n",
       "      <th>tour_1010</th>\n",
       "      <td>1.101320e+07</td>\n",
       "    </tr>\n",
       "    <tr>\n",
       "      <th>tour_1014</th>\n",
       "      <td>5.463247e+06</td>\n",
       "    </tr>\n",
       "    <tr>\n",
       "      <th>tour_1015</th>\n",
       "      <td>3.435278e+06</td>\n",
       "    </tr>\n",
       "    <tr>\n",
       "      <th>tour_1019</th>\n",
       "      <td>-1.906129e+06</td>\n",
       "    </tr>\n",
       "    <tr>\n",
       "      <th>tour_1020</th>\n",
       "      <td>4.319470e+06</td>\n",
       "    </tr>\n",
       "  </tbody>\n",
       "</table>\n",
       "</div>"
      ],
      "text/plain": [
       "             total_cost\n",
       "ID                     \n",
       "tour_1     2.155318e+07\n",
       "tour_100   1.438636e+07\n",
       "tour_1001  5.268074e+06\n",
       "tour_1006  5.653663e+06\n",
       "tour_1009  1.618480e+07\n",
       "tour_1010  1.101320e+07\n",
       "tour_1014  5.463247e+06\n",
       "tour_1015  3.435278e+06\n",
       "tour_1019 -1.906129e+06\n",
       "tour_1020  4.319470e+06"
      ]
     },
     "execution_count": 1844,
     "metadata": {},
     "output_type": "execute_result"
    }
   ],
   "source": [
    "rt.head(10)"
   ]
  },
  {
   "cell_type": "code",
   "execution_count": 1845,
   "id": "e3c4225d-3b2a-4d32-ad02-68754b7a1b15",
   "metadata": {},
   "outputs": [
    {
     "data": {
      "text/plain": [
       "(1601, 1)"
      ]
     },
     "execution_count": 1845,
     "metadata": {},
     "output_type": "execute_result"
    }
   ],
   "source": [
    "rt.shape"
   ]
  },
  {
   "cell_type": "code",
   "execution_count": 1846,
   "id": "92702a18-88c9-4069-bb3a-3b698524a4fa",
   "metadata": {},
   "outputs": [],
   "source": [
    "# determining the name of the file\n",
    "file_name = \"C:\\\\Users\\\\KOFI ADUKPO\\\\Desktop\\\\ML\\\\output.xlsx\"\n",
    "#\"C:\\Users\\KOFI ADUKPO\\Desktop\\ML\\output.xlsx\"  \n",
    "# saving the excel\n",
    "rt.to_excel(file_name)"
   ]
  },
  {
   "cell_type": "code",
   "execution_count": null,
   "id": "d1a6049c-b124-44e2-8480-a1705617cf2a",
   "metadata": {},
   "outputs": [],
   "source": []
  }
 ],
 "metadata": {
  "kernelspec": {
   "display_name": "Python 3 (ipykernel)",
   "language": "python",
   "name": "python3"
  },
  "language_info": {
   "codemirror_mode": {
    "name": "ipython",
    "version": 3
   },
   "file_extension": ".py",
   "mimetype": "text/x-python",
   "name": "python",
   "nbconvert_exporter": "python",
   "pygments_lexer": "ipython3",
   "version": "3.9.12"
  }
 },
 "nbformat": 4,
 "nbformat_minor": 5
}
